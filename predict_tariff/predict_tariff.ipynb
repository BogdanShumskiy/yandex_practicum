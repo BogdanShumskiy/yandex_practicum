{
 "cells": [
  {
   "cell_type": "markdown",
   "metadata": {},
   "source": [
    "# Рекомендация тарифов"
   ]
  },
  {
   "cell_type": "markdown",
   "metadata": {},
   "source": [
    "## Первичное ознакомление с данными"
   ]
  },
  {
   "cell_type": "markdown",
   "metadata": {},
   "source": [
    "**ВСТУПЛЕНИЕ**  \n",
    "Федеральный оператор сотовой связи \"Мегалайн\" предлагает своим клиентам два тарифных плана: \"Смарт\" и \"Ультра\". Однако, по данным компании многие клиенты пользуются устаревшими тарифами мобильного оператора.\n",
    "\n",
    "В настоящий момент, \"Мегалайн\" планирует перевести клиентов, использующих архивные пакеты услуг, на новые тарифы, для чего требуется провеси анализ потребительского поведения клиентов. Необходимо создать систему, способную предлагать клиентам один из новых тарифов, который будет для них самым оптимальным, на основании особенностей их использования сотовой связи.  \n",
    "\n",
    "**Цель исследования:** создание модели машинного обучения, решающей задачу классификации, которая предложит клиентам подходящий тариф."
   ]
  },
  {
   "cell_type": "code",
   "execution_count": 32,
   "metadata": {},
   "outputs": [],
   "source": [
    "# импортируем необходимые библиотеки:\n",
    "import pandas as pd\n",
    "from sklearn.tree import DecisionTreeClassifier\n",
    "from sklearn.ensemble import RandomForestClassifier\n",
    "from sklearn.linear_model import LogisticRegression\n",
    "from sklearn.model_selection import train_test_split\n",
    "from sklearn.metrics import mean_squared_error\n",
    "from sklearn.metrics import accuracy_score\n",
    "from sklearn.dummy import DummyClassifier"
   ]
  },
  {
   "cell_type": "code",
   "execution_count": 33,
   "metadata": {},
   "outputs": [
    {
     "data": {
      "text/html": [
       "<div>\n",
       "<style scoped>\n",
       "    .dataframe tbody tr th:only-of-type {\n",
       "        vertical-align: middle;\n",
       "    }\n",
       "\n",
       "    .dataframe tbody tr th {\n",
       "        vertical-align: top;\n",
       "    }\n",
       "\n",
       "    .dataframe thead th {\n",
       "        text-align: right;\n",
       "    }\n",
       "</style>\n",
       "<table border=\"1\" class=\"dataframe\">\n",
       "  <thead>\n",
       "    <tr style=\"text-align: right;\">\n",
       "      <th></th>\n",
       "      <th>calls</th>\n",
       "      <th>minutes</th>\n",
       "      <th>messages</th>\n",
       "      <th>mb_used</th>\n",
       "      <th>is_ultra</th>\n",
       "    </tr>\n",
       "  </thead>\n",
       "  <tbody>\n",
       "    <tr>\n",
       "      <td>0</td>\n",
       "      <td>40.0</td>\n",
       "      <td>311.90</td>\n",
       "      <td>83.0</td>\n",
       "      <td>19915.42</td>\n",
       "      <td>0</td>\n",
       "    </tr>\n",
       "    <tr>\n",
       "      <td>1</td>\n",
       "      <td>85.0</td>\n",
       "      <td>516.75</td>\n",
       "      <td>56.0</td>\n",
       "      <td>22696.96</td>\n",
       "      <td>0</td>\n",
       "    </tr>\n",
       "    <tr>\n",
       "      <td>2</td>\n",
       "      <td>77.0</td>\n",
       "      <td>467.66</td>\n",
       "      <td>86.0</td>\n",
       "      <td>21060.45</td>\n",
       "      <td>0</td>\n",
       "    </tr>\n",
       "    <tr>\n",
       "      <td>3</td>\n",
       "      <td>106.0</td>\n",
       "      <td>745.53</td>\n",
       "      <td>81.0</td>\n",
       "      <td>8437.39</td>\n",
       "      <td>1</td>\n",
       "    </tr>\n",
       "    <tr>\n",
       "      <td>4</td>\n",
       "      <td>66.0</td>\n",
       "      <td>418.74</td>\n",
       "      <td>1.0</td>\n",
       "      <td>14502.75</td>\n",
       "      <td>0</td>\n",
       "    </tr>\n",
       "  </tbody>\n",
       "</table>\n",
       "</div>"
      ],
      "text/plain": [
       "   calls  minutes  messages   mb_used  is_ultra\n",
       "0   40.0   311.90      83.0  19915.42         0\n",
       "1   85.0   516.75      56.0  22696.96         0\n",
       "2   77.0   467.66      86.0  21060.45         0\n",
       "3  106.0   745.53      81.0   8437.39         1\n",
       "4   66.0   418.74       1.0  14502.75         0"
      ]
     },
     "execution_count": 33,
     "metadata": {},
     "output_type": "execute_result"
    }
   ],
   "source": [
    "# отключаем предупреждения \"Анаконды\":\n",
    "import warnings \n",
    "warnings.filterwarnings('ignore')\n",
    "\n",
    "# увеличим дефолтный размер графиков:\n",
    "from pylab import rcParams\n",
    "rcParams['figure.figsize'] = 10,5\n",
    "\n",
    "# пропишем путь к датасету:\n",
    "data_cell = pd.read_csv('/datasets/users_behavior.csv')\n",
    "\n",
    "#взглянем на таблицу с головы:\n",
    "data_cell.head()"
   ]
  },
  {
   "cell_type": "code",
   "execution_count": 34,
   "metadata": {},
   "outputs": [
    {
     "data": {
      "text/plain": [
       "Index(['calls', 'minutes', 'messages', 'mb_used', 'is_ultra'], dtype='object')"
      ]
     },
     "execution_count": 34,
     "metadata": {},
     "output_type": "execute_result"
    }
   ],
   "source": [
    "#получим названия столбцов:\n",
    "data_cell.columns"
   ]
  },
  {
   "cell_type": "code",
   "execution_count": 35,
   "metadata": {},
   "outputs": [
    {
     "data": {
      "text/plain": [
       "(3214, 5)"
      ]
     },
     "execution_count": 35,
     "metadata": {},
     "output_type": "execute_result"
    }
   ],
   "source": [
    "#узнаем объём таблицы:\n",
    "data_cell.shape"
   ]
  },
  {
   "cell_type": "code",
   "execution_count": 36,
   "metadata": {},
   "outputs": [
    {
     "name": "stdout",
     "output_type": "stream",
     "text": [
      "<class 'pandas.core.frame.DataFrame'>\n",
      "RangeIndex: 3214 entries, 0 to 3213\n",
      "Data columns (total 5 columns):\n",
      "calls       3214 non-null float64\n",
      "minutes     3214 non-null float64\n",
      "messages    3214 non-null float64\n",
      "mb_used     3214 non-null float64\n",
      "is_ultra    3214 non-null int64\n",
      "dtypes: float64(4), int64(1)\n",
      "memory usage: 125.7 KB\n"
     ]
    }
   ],
   "source": [
    "#получим информацию о количестве строк и форматах записи:\n",
    "data_cell.info()"
   ]
  },
  {
   "cell_type": "code",
   "execution_count": 37,
   "metadata": {},
   "outputs": [
    {
     "data": {
      "text/html": [
       "<div>\n",
       "<style scoped>\n",
       "    .dataframe tbody tr th:only-of-type {\n",
       "        vertical-align: middle;\n",
       "    }\n",
       "\n",
       "    .dataframe tbody tr th {\n",
       "        vertical-align: top;\n",
       "    }\n",
       "\n",
       "    .dataframe thead th {\n",
       "        text-align: right;\n",
       "    }\n",
       "</style>\n",
       "<table border=\"1\" class=\"dataframe\">\n",
       "  <thead>\n",
       "    <tr style=\"text-align: right;\">\n",
       "      <th></th>\n",
       "      <th>calls</th>\n",
       "      <th>minutes</th>\n",
       "      <th>messages</th>\n",
       "      <th>mb_used</th>\n",
       "      <th>is_ultra</th>\n",
       "    </tr>\n",
       "  </thead>\n",
       "  <tbody>\n",
       "    <tr>\n",
       "      <td>count</td>\n",
       "      <td>3214.000000</td>\n",
       "      <td>3214.000000</td>\n",
       "      <td>3214.000000</td>\n",
       "      <td>3214.000000</td>\n",
       "      <td>3214.000000</td>\n",
       "    </tr>\n",
       "    <tr>\n",
       "      <td>mean</td>\n",
       "      <td>63.038892</td>\n",
       "      <td>438.208787</td>\n",
       "      <td>38.281269</td>\n",
       "      <td>17207.673836</td>\n",
       "      <td>0.306472</td>\n",
       "    </tr>\n",
       "    <tr>\n",
       "      <td>std</td>\n",
       "      <td>33.236368</td>\n",
       "      <td>234.569872</td>\n",
       "      <td>36.148326</td>\n",
       "      <td>7570.968246</td>\n",
       "      <td>0.461100</td>\n",
       "    </tr>\n",
       "    <tr>\n",
       "      <td>min</td>\n",
       "      <td>0.000000</td>\n",
       "      <td>0.000000</td>\n",
       "      <td>0.000000</td>\n",
       "      <td>0.000000</td>\n",
       "      <td>0.000000</td>\n",
       "    </tr>\n",
       "    <tr>\n",
       "      <td>25%</td>\n",
       "      <td>40.000000</td>\n",
       "      <td>274.575000</td>\n",
       "      <td>9.000000</td>\n",
       "      <td>12491.902500</td>\n",
       "      <td>0.000000</td>\n",
       "    </tr>\n",
       "    <tr>\n",
       "      <td>50%</td>\n",
       "      <td>62.000000</td>\n",
       "      <td>430.600000</td>\n",
       "      <td>30.000000</td>\n",
       "      <td>16943.235000</td>\n",
       "      <td>0.000000</td>\n",
       "    </tr>\n",
       "    <tr>\n",
       "      <td>75%</td>\n",
       "      <td>82.000000</td>\n",
       "      <td>571.927500</td>\n",
       "      <td>57.000000</td>\n",
       "      <td>21424.700000</td>\n",
       "      <td>1.000000</td>\n",
       "    </tr>\n",
       "    <tr>\n",
       "      <td>max</td>\n",
       "      <td>244.000000</td>\n",
       "      <td>1632.060000</td>\n",
       "      <td>224.000000</td>\n",
       "      <td>49745.730000</td>\n",
       "      <td>1.000000</td>\n",
       "    </tr>\n",
       "  </tbody>\n",
       "</table>\n",
       "</div>"
      ],
      "text/plain": [
       "             calls      minutes     messages       mb_used     is_ultra\n",
       "count  3214.000000  3214.000000  3214.000000   3214.000000  3214.000000\n",
       "mean     63.038892   438.208787    38.281269  17207.673836     0.306472\n",
       "std      33.236368   234.569872    36.148326   7570.968246     0.461100\n",
       "min       0.000000     0.000000     0.000000      0.000000     0.000000\n",
       "25%      40.000000   274.575000     9.000000  12491.902500     0.000000\n",
       "50%      62.000000   430.600000    30.000000  16943.235000     0.000000\n",
       "75%      82.000000   571.927500    57.000000  21424.700000     1.000000\n",
       "max     244.000000  1632.060000   224.000000  49745.730000     1.000000"
      ]
     },
     "execution_count": 37,
     "metadata": {},
     "output_type": "execute_result"
    }
   ],
   "source": [
    "# получим общее описания информации в столбцах:\n",
    "data_cell.describe()"
   ]
  },
  {
   "cell_type": "markdown",
   "metadata": {},
   "source": [
    "**Вывод:** информация о клиентах представлена в виде таблицы на 5 столбцах, в которой присутствует 3214 строк, иными словами в таблице присутствует 3214 объектов с 5 признаками. Каждая отдельная строка является отдельным наблюдением об одном клиенте: количество звонков в месяц, месячная продолжительность разговоров по телефону, количество СМС-сообщений, сумма затраченного трафика, а также информация об использываемом тарифе. Вся информация,  представлена в числовом формате: в столбце с тарифами в формате целого числа `int`, в остальных - в виде десятичной дроби `float`. \n",
    "\n",
    "Таким образом в нашем распоряжении обучающий набор данных и целевой признак, который нужно предсказать по остальным признакам. Такие задачи относятся к классу \"Обучение с учителем\". \n",
    "\n",
    "Поскольку целевой признак является категориальным, в нашем случае решается задача классификации. Так как категорий всего две, то здесь речь идет о бинарной (двоичной) классификации. "
   ]
  },
  {
   "cell_type": "markdown",
   "metadata": {},
   "source": [
    "## Разбейте данные на выборки"
   ]
  },
  {
   "cell_type": "markdown",
   "metadata": {},
   "source": [
    "Для создания надежной модели машинного обучения, необходимо подготовить валидационную выборку. Данная выборка должна быть подготовлена до обучения модели. В противном случае, обучившись на тренировочном наборе, модель будет знать все ответы. Именно валидация покажет насколько правильно работает модель и нет ли в ней переобучения. \n",
    "\n",
    "Поскольку у нас нет скрытой тестовой выборки, значит, исходный датасет будет разбит на три части: обучающую, тестовую и валидационную. Обычно размеры валидационной и тестовой выборки равны. Размеры обучающей выборки к двум другим обычно находятся в соотношении 3:1:1.\n",
    "\n",
    "В библиотеке `sklearn` для извления выборок имеется функция `train_test_split()`, аргументами которой передаются разделяемый датасет, размер валидационной выборки и определенный порядок случайностей в `random_state`.   \n",
    "\n",
    "Сначала разделим общий датасет на обучающую и тестовую выборку, а затем полученную обучающую выборку опять разделим, но уже на обучающую и валидационную. Данный способ позволит избежать пересечения объектов во всех трех выборках.  "
   ]
  },
  {
   "cell_type": "code",
   "execution_count": 38,
   "metadata": {},
   "outputs": [
    {
     "name": "stdout",
     "output_type": "stream",
     "text": [
      "(1928, 5)\n",
      "(643, 5)\n",
      "(643, 5)\n"
     ]
    }
   ],
   "source": [
    "#разделим общий датасет \"data_cell\" на две выборки - обучающую и тестовую:\n",
    "data_train, data_test = train_test_split(data_cell, test_size=0.2, random_state=54321)\n",
    "\n",
    "#теперь разделим обучающий датасет \"data_train\" на обучающую и валидационную:\n",
    "data_train, data_valid = train_test_split(data_train, test_size=0.25, random_state=54321)\n",
    "\n",
    "#посмотрим на объёмы полученных выборок\n",
    "print(data_train.shape)\n",
    "print(data_test.shape)\n",
    "print(data_valid.shape)"
   ]
  },
  {
   "cell_type": "markdown",
   "metadata": {},
   "source": [
    "Объёмы выборок корректны. Теперь выделим в каждом датасете целевой признак, отделив его от остальных признаков, посредством методов `drop()` и `loc()`. "
   ]
  },
  {
   "cell_type": "code",
   "execution_count": 39,
   "metadata": {},
   "outputs": [],
   "source": [
    "#выделим признаки в обучающем наборе:\n",
    "train_features = data_train.drop(['is_ultra'], axis=1)\n",
    "train_target = data_train.loc[:, 'is_ultra']\n",
    "\n",
    "# выделим признаки в тестовом наборе:\n",
    "test_features = data_test.drop(['is_ultra'], axis=1)\n",
    "test_target = data_test.loc[:, 'is_ultra']\n",
    "\n",
    "# выделим признаки в валидационной выборке:\n",
    "valid_features = data_valid.drop(['is_ultra'], axis=1)\n",
    "valid_target = data_valid.loc[:, 'is_ultra']"
   ]
  },
  {
   "cell_type": "markdown",
   "metadata": {},
   "source": [
    "**Вывод:** в связи с отсутствием тестовой выборки, исходный датасет был разделен на три части: обучающая выборка, тестовая и валидационная, путём использования метода `train_test_split()`. В каждой выборке целевой признак был отделен от остальных посредством использования двух методов `drop()` и `loc()`."
   ]
  },
  {
   "cell_type": "markdown",
   "metadata": {},
   "source": [
    "## Исследуйте модели"
   ]
  },
  {
   "cell_type": "markdown",
   "metadata": {},
   "source": [
    "### Модель решающего дерева"
   ]
  },
  {
   "cell_type": "markdown",
   "metadata": {},
   "source": [
    "Сначала обучим модель решающего дерева. Чтобы найти лучшие гиперпараметры, создадим цикл, который переберет настройки глубины и количество листьев. После это определим параметры модели, дающей лучший результат."
   ]
  },
  {
   "cell_type": "code",
   "execution_count": 40,
   "metadata": {},
   "outputs": [
    {
     "name": "stdout",
     "output_type": "stream",
     "text": [
      "Accuracy лучшей модели: 0.8195956454121306\n",
      "DecisionTreeClassifier(class_weight=None, criterion='gini', max_depth=5,\n",
      "                       max_features=None, max_leaf_nodes=None,\n",
      "                       min_impurity_decrease=0.0, min_impurity_split=None,\n",
      "                       min_samples_leaf=5, min_samples_split=2,\n",
      "                       min_weight_fraction_leaf=0.0, presort=False,\n",
      "                       random_state=54321, splitter='best')\n"
     ]
    }
   ],
   "source": [
    "best_model = None\n",
    "best_result = 0\n",
    "for leaf in range(1, 6):\n",
    "    for depth in range(1, 6):\n",
    "        model = DecisionTreeClassifier(random_state = 54321, max_depth = depth, min_samples_leaf = leaf)\n",
    "        model.fit(train_features, train_target)\n",
    "        predictions = model.predict(valid_features)\n",
    "        result = accuracy_score(valid_target, predictions)\n",
    "        if result > best_result:\n",
    "            best_model = model\n",
    "            best_result = result\n",
    "\n",
    "print('Accuracy лучшей модели:', best_result)\n",
    "print(best_model)"
   ]
  },
  {
   "cell_type": "markdown",
   "metadata": {},
   "source": [
    "Модель дерева решений дает точность ~82%, при максимальной глубине 5 уровней и минимальном количестве листьев в 5."
   ]
  },
  {
   "cell_type": "markdown",
   "metadata": {},
   "source": [
    "### Случайный лес"
   ]
  },
  {
   "cell_type": "markdown",
   "metadata": {},
   "source": [
    "Теперь посмотрим какие результаты покажет случайный лес. Для этого также создадим цикл, который пройдется по количеству деревьев в самом лесу."
   ]
  },
  {
   "cell_type": "code",
   "execution_count": 50,
   "metadata": {},
   "outputs": [
    {
     "name": "stdout",
     "output_type": "stream",
     "text": [
      "Accuracy наилучшей модели на валидационной выборке: 0.8413685847589425\n",
      "Лучшая модель: RandomForestClassifier(bootstrap=True, class_weight=None, criterion='gini',\n",
      "                       max_depth=None, max_features='auto', max_leaf_nodes=None,\n",
      "                       min_impurity_decrease=0.0, min_impurity_split=None,\n",
      "                       min_samples_leaf=5, min_samples_split=2,\n",
      "                       min_weight_fraction_leaf=0.0, n_estimators=7,\n",
      "                       n_jobs=None, oob_score=False, random_state=54321,\n",
      "                       verbose=0, warm_start=False)\n"
     ]
    }
   ],
   "source": [
    "best_model = None\n",
    "best_result = 0\n",
    "\n",
    "for est in range(1, 11):\n",
    "    for leaf in range(1, 6):\n",
    "        for split in range(2, 6):\n",
    "            model = RandomForestClassifier(random_state=54321, n_estimators=est, min_samples_leaf= leaf, min_samples_split = split) \n",
    "            model.fit(train_features, train_target) \n",
    "            predictions = model.predict(valid_features)\n",
    "            result = accuracy_score(valid_target, predictions)\n",
    "            if result > best_result:\n",
    "                best_model = model\n",
    "                best_result = result\n",
    "     \n",
    "\n",
    "print(\"Accuracy наилучшей модели на валидационной выборке:\", best_result) \n",
    "print('Лучшая модель:', best_model)"
   ]
  },
  {
   "cell_type": "markdown",
   "metadata": {},
   "source": [
    "Случайный лес дает точность ~83%, чуть больше чем решающее дерево, при количестве 7 \"судей\" и 5 листьев"
   ]
  },
  {
   "cell_type": "markdown",
   "metadata": {},
   "source": [
    "### Логистическая регресия"
   ]
  },
  {
   "cell_type": "markdown",
   "metadata": {},
   "source": [
    "Для решения задачи классификации также подходит логистическая регрессия. Посмотрим, какой результат она покажет."
   ]
  },
  {
   "cell_type": "code",
   "execution_count": 42,
   "metadata": {},
   "outputs": [
    {
     "name": "stdout",
     "output_type": "stream",
     "text": [
      "Accuracy модели логистической регрессии на валидационной выборке: 0.7325038880248833\n"
     ]
    }
   ],
   "source": [
    "model = LogisticRegression(random_state=54321)\n",
    "model.fit(train_features, train_target)\n",
    "predictions = model.predict(valid_features)\n",
    "result = accuracy_score(valid_target, predictions)\n",
    "\n",
    "print(\"Accuracy модели логистической регрессии на валидационной выборке:\", result)"
   ]
  },
  {
   "cell_type": "markdown",
   "metadata": {},
   "source": [
    "Логистическая регрессия показала низкий результат, поэтому для решения задачи она не подходит.   \n",
    "\n",
    "**Вывод:** Лучшей моделью на валидационной выборке является модель случайного леса с количеством деревьев - 10"
   ]
  },
  {
   "cell_type": "markdown",
   "metadata": {},
   "source": [
    "## Проверьте модель на тестовой выборке"
   ]
  },
  {
   "cell_type": "code",
   "execution_count": 43,
   "metadata": {},
   "outputs": [
    {
     "name": "stdout",
     "output_type": "stream",
     "text": [
      "Accuracy модели дерева решений на тестовой выборке: 0.7713841368584758\n"
     ]
    }
   ],
   "source": [
    "#проверим лучшую модель дерева решения:\n",
    "model = DecisionTreeClassifier(random_state=54321, max_depth = 5, min_samples_leaf=5)\n",
    "model.fit(train_features, train_target)\n",
    "predictions= model.predict(test_features)\n",
    "result = accuracy_score(test_target, predictions)\n",
    "print('Accuracy модели дерева решений на тестовой выборке:', result)"
   ]
  },
  {
   "cell_type": "code",
   "execution_count": 51,
   "metadata": {},
   "outputs": [
    {
     "name": "stdout",
     "output_type": "stream",
     "text": [
      "Accuracy модели случайного леса на тестовой выборке: 0.7776049766718507\n"
     ]
    }
   ],
   "source": [
    "#проверим лучшую модель случайного леса:\n",
    "model = RandomForestClassifier(random_state=54321, n_estimators=7, min_samples_leaf = 5) \n",
    "model.fit(train_features, train_target) \n",
    "predictions = model.predict(test_features)\n",
    "result = accuracy_score(test_target, predictions)\n",
    "print('Accuracy модели случайного леса на тестовой выборке:', result)"
   ]
  },
  {
   "cell_type": "code",
   "execution_count": 45,
   "metadata": {},
   "outputs": [
    {
     "name": "stdout",
     "output_type": "stream",
     "text": [
      "Accuracy модели логистической регрессии на тестовой выборке: 0.6780715396578538\n"
     ]
    }
   ],
   "source": [
    "#также посмотрим и на логистическую регрессию:\n",
    "model = LogisticRegression(random_state=54321)\n",
    "model.fit(train_features, train_target)\n",
    "predictions = model.predict(test_features)\n",
    "result = accuracy_score(test_target, predictions)\n",
    "print(\"Accuracy модели логистической регрессии на тестовой выборке:\", result)"
   ]
  },
  {
   "cell_type": "markdown",
   "metadata": {},
   "source": [
    "**Вывод:** как мы можем видеть, у решающего дерева и случайного леса качество предсказаний упало, но остаётся на приемлемом уровне. Модель логистической регрессии на тестовой выборке не прошла проверку. Лучший результат показала модель случайного дерева."
   ]
  },
  {
   "cell_type": "markdown",
   "metadata": {},
   "source": [
    "## (бонус) Проверьте модели на адекватность"
   ]
  },
  {
   "cell_type": "markdown",
   "metadata": {},
   "source": [
    "Для проверки модели на адекватность, посмотрим какой класс самый встречаемый во всем датасете"
   ]
  },
  {
   "cell_type": "code",
   "execution_count": 46,
   "metadata": {},
   "outputs": [
    {
     "data": {
      "text/plain": [
       "0    2229\n",
       "1     985\n",
       "Name: is_ultra, dtype: int64"
      ]
     },
     "execution_count": 46,
     "metadata": {},
     "output_type": "execute_result"
    }
   ],
   "source": [
    "data_cell['is_ultra'].value_counts()"
   ]
  },
  {
   "cell_type": "markdown",
   "metadata": {},
   "source": [
    "Самым встречаемым классом является \"0\", то есть абоненты \"Смарта\". Создадим отдельный столбец, который будет состоять только из значений самого встречаемого класса, длина которого будет равно длине тестового, то есть создадим самую лучшую константную модель. "
   ]
  },
  {
   "cell_type": "code",
   "execution_count": 47,
   "metadata": {},
   "outputs": [
    {
     "data": {
      "text/plain": [
       "1727    0\n",
       "2885    0\n",
       "2730    0\n",
       "899     0\n",
       "2119    0\n",
       "       ..\n",
       "1763    0\n",
       "1323    0\n",
       "2300    0\n",
       "154     0\n",
       "728     0\n",
       "Length: 643, dtype: int64"
      ]
     },
     "execution_count": 47,
     "metadata": {},
     "output_type": "execute_result"
    }
   ],
   "source": [
    "const_preds_test = pd.Series(0, index=test_target.index) \n",
    "const_preds_test"
   ]
  },
  {
   "cell_type": "markdown",
   "metadata": {},
   "source": [
    "Теперь сравним accuracy лчушей модели случайного леса и константной модели. "
   ]
  },
  {
   "cell_type": "code",
   "execution_count": 48,
   "metadata": {},
   "outputs": [
    {
     "name": "stdout",
     "output_type": "stream",
     "text": [
      "0.7838258164852255\n",
      "0.6640746500777605\n",
      "Модель прошла проверку на адекватность\n"
     ]
    }
   ],
   "source": [
    "model = RandomForestClassifier(random_state=54321, n_estimators=10) \n",
    "model.fit(train_features, train_target) \n",
    "model_preds_test = model.predict(test_features)\n",
    "model_test_accuracy = accuracy_score(model_preds_test, test_target)\n",
    "const_test_accuracy = accuracy_score(const_preds_test, test_target)\n",
    "print(model_test_accuracy)\n",
    "print(const_test_accuracy)\n",
    "if model_test_accuracy > const_test_accuracy:\n",
    "    print('Модель прошла проверку на адекватность')\n",
    "else:\n",
    "    print('Модель провалила проверку на адекватность')"
   ]
  },
  {
   "cell_type": "markdown",
   "metadata": {},
   "source": [
    "**Вывод:** модель прошла проверку на адекватность, поскольку дает результат лучше чем константная, то есть лучше, чем угадывание по самому распространенному классу. "
   ]
  },
  {
   "cell_type": "code",
   "execution_count": 49,
   "metadata": {},
   "outputs": [
    {
     "name": "stdout",
     "output_type": "stream",
     "text": [
      "0.6640746500777605\n"
     ]
    }
   ],
   "source": [
    "dummy_clf = DummyClassifier(strategy=\"prior\")\n",
    "dummy_clf.fit(train_features, train_target)\n",
    "dummy_predict = dummy_clf.predict(test_features)\n",
    "result = accuracy_score(test_target, dummy_predict)\n",
    "print(result)"
   ]
  }
 ],
 "metadata": {
  "ExecuteTimeLog": [
   {
    "duration": 1606,
    "start_time": "2021-10-19T10:08:19.530Z"
   },
   {
    "duration": 17,
    "start_time": "2021-10-19T10:08:52.830Z"
   },
   {
    "duration": 20,
    "start_time": "2021-10-19T10:16:07.818Z"
   },
   {
    "duration": 13,
    "start_time": "2021-10-19T10:17:00.802Z"
   },
   {
    "duration": 5,
    "start_time": "2021-10-19T10:17:25.882Z"
   },
   {
    "duration": 5,
    "start_time": "2021-10-19T10:17:50.865Z"
   },
   {
    "duration": 6,
    "start_time": "2021-10-19T10:18:24.954Z"
   },
   {
    "duration": 11,
    "start_time": "2021-10-19T10:18:50.220Z"
   },
   {
    "duration": 36,
    "start_time": "2021-10-19T10:19:11.698Z"
   },
   {
    "duration": 1074,
    "start_time": "2021-10-19T10:23:48.012Z"
   },
   {
    "duration": 37,
    "start_time": "2021-10-19T10:24:19.213Z"
   },
   {
    "duration": 36,
    "start_time": "2021-10-19T10:24:34.405Z"
   },
   {
    "duration": 23,
    "start_time": "2021-10-19T10:25:48.515Z"
   },
   {
    "duration": 1813,
    "start_time": "2021-10-21T14:20:40.907Z"
   },
   {
    "duration": 11,
    "start_time": "2021-10-21T14:20:42.722Z"
   },
   {
    "duration": 5,
    "start_time": "2021-10-21T14:20:42.735Z"
   },
   {
    "duration": 4,
    "start_time": "2021-10-21T14:20:42.742Z"
   },
   {
    "duration": 7,
    "start_time": "2021-10-21T14:20:42.748Z"
   },
   {
    "duration": 38,
    "start_time": "2021-10-21T14:20:42.757Z"
   },
   {
    "duration": 64,
    "start_time": "2021-10-21T14:20:42.797Z"
   },
   {
    "duration": 1628,
    "start_time": "2021-10-21T14:21:38.277Z"
   },
   {
    "duration": 189,
    "start_time": "2021-10-21T14:22:06.042Z"
   },
   {
    "duration": 190,
    "start_time": "2021-10-21T14:23:07.895Z"
   },
   {
    "duration": 7,
    "start_time": "2021-10-21T14:23:21.274Z"
   },
   {
    "duration": 11,
    "start_time": "2021-10-21T14:23:32.075Z"
   },
   {
    "duration": 8,
    "start_time": "2021-10-21T15:21:23.921Z"
   },
   {
    "duration": 8,
    "start_time": "2021-10-21T18:48:08.417Z"
   },
   {
    "duration": 11,
    "start_time": "2021-10-21T18:48:53.479Z"
   },
   {
    "duration": 10,
    "start_time": "2021-10-21T18:49:07.483Z"
   },
   {
    "duration": 181,
    "start_time": "2021-10-21T18:50:46.074Z"
   },
   {
    "duration": 12,
    "start_time": "2021-10-21T18:51:12.102Z"
   },
   {
    "duration": 9,
    "start_time": "2021-10-21T18:51:22.097Z"
   },
   {
    "duration": 7,
    "start_time": "2021-10-21T18:54:59.866Z"
   },
   {
    "duration": 9,
    "start_time": "2021-10-21T18:55:18.198Z"
   },
   {
    "duration": 7,
    "start_time": "2021-10-21T18:56:06.404Z"
   },
   {
    "duration": 6,
    "start_time": "2021-10-21T20:02:35.702Z"
   },
   {
    "duration": 8,
    "start_time": "2021-10-21T20:03:22.156Z"
   },
   {
    "duration": 6,
    "start_time": "2021-10-21T20:05:38.887Z"
   },
   {
    "duration": 7,
    "start_time": "2021-10-21T20:05:48.217Z"
   },
   {
    "duration": 6,
    "start_time": "2021-10-21T20:06:38.764Z"
   },
   {
    "duration": 7,
    "start_time": "2021-10-21T20:08:15.275Z"
   },
   {
    "duration": 8,
    "start_time": "2021-10-21T20:19:28.476Z"
   },
   {
    "duration": 26,
    "start_time": "2021-10-21T20:26:18.344Z"
   },
   {
    "duration": 26,
    "start_time": "2021-10-21T20:26:27.162Z"
   },
   {
    "duration": 4,
    "start_time": "2021-10-21T20:26:27.189Z"
   },
   {
    "duration": 6,
    "start_time": "2021-10-21T20:26:27.195Z"
   },
   {
    "duration": 7,
    "start_time": "2021-10-21T20:26:27.203Z"
   },
   {
    "duration": 21,
    "start_time": "2021-10-21T20:26:27.212Z"
   },
   {
    "duration": 7,
    "start_time": "2021-10-21T20:26:27.235Z"
   },
   {
    "duration": 4,
    "start_time": "2021-10-21T20:51:07.878Z"
   },
   {
    "duration": 6,
    "start_time": "2021-10-21T20:54:47.313Z"
   },
   {
    "duration": 6,
    "start_time": "2021-10-21T20:54:51.938Z"
   },
   {
    "duration": 176,
    "start_time": "2021-10-21T21:20:56.830Z"
   },
   {
    "duration": 6,
    "start_time": "2021-10-21T21:21:01.905Z"
   },
   {
    "duration": 178,
    "start_time": "2021-10-21T21:21:04.642Z"
   },
   {
    "duration": 27,
    "start_time": "2021-10-21T21:21:21.718Z"
   },
   {
    "duration": 51,
    "start_time": "2021-10-21T21:22:41.689Z"
   },
   {
    "duration": 58,
    "start_time": "2021-10-21T21:22:52.282Z"
   },
   {
    "duration": 139,
    "start_time": "2021-10-21T21:23:01.930Z"
   },
   {
    "duration": 37,
    "start_time": "2021-10-21T21:24:20.286Z"
   },
   {
    "duration": 35,
    "start_time": "2021-10-21T21:25:43.779Z"
   },
   {
    "duration": 213,
    "start_time": "2021-10-21T21:30:51.692Z"
   },
   {
    "duration": 26,
    "start_time": "2021-10-21T21:33:59.487Z"
   },
   {
    "duration": 217,
    "start_time": "2021-10-21T21:35:20.733Z"
   },
   {
    "duration": 11,
    "start_time": "2021-10-21T21:36:45.537Z"
   },
   {
    "duration": 565,
    "start_time": "2021-10-22T09:55:18.898Z"
   },
   {
    "duration": 1536,
    "start_time": "2021-10-22T09:55:28.093Z"
   },
   {
    "duration": 5,
    "start_time": "2021-10-22T09:55:29.632Z"
   },
   {
    "duration": 8,
    "start_time": "2021-10-22T09:55:29.640Z"
   },
   {
    "duration": 13,
    "start_time": "2021-10-22T09:55:29.651Z"
   },
   {
    "duration": 37,
    "start_time": "2021-10-22T09:55:29.666Z"
   },
   {
    "duration": 12,
    "start_time": "2021-10-22T09:55:29.705Z"
   },
   {
    "duration": 38,
    "start_time": "2021-10-22T09:55:29.720Z"
   },
   {
    "duration": 58,
    "start_time": "2021-10-22T09:55:29.762Z"
   },
   {
    "duration": 368,
    "start_time": "2021-10-22T09:55:29.822Z"
   },
   {
    "duration": 19,
    "start_time": "2021-10-22T09:55:30.192Z"
   },
   {
    "duration": 335,
    "start_time": "2021-10-22T09:55:44.899Z"
   },
   {
    "duration": 336,
    "start_time": "2021-10-22T10:06:03.745Z"
   },
   {
    "duration": 346,
    "start_time": "2021-10-22T10:11:03.740Z"
   },
   {
    "duration": 128,
    "start_time": "2021-10-22T10:40:05.744Z"
   },
   {
    "duration": 474,
    "start_time": "2021-10-22T10:40:45.343Z"
   },
   {
    "duration": 385,
    "start_time": "2021-10-22T10:42:37.215Z"
   },
   {
    "duration": 135,
    "start_time": "2021-10-22T10:48:01.113Z"
   },
   {
    "duration": 332,
    "start_time": "2021-10-22T15:02:22.995Z"
   },
   {
    "duration": 444,
    "start_time": "2021-10-22T15:11:46.290Z"
   },
   {
    "duration": 334,
    "start_time": "2021-10-22T15:18:13.293Z"
   },
   {
    "duration": 415,
    "start_time": "2021-10-22T15:19:15.728Z"
   },
   {
    "duration": 300,
    "start_time": "2021-10-22T18:23:01.812Z"
   },
   {
    "duration": 4739,
    "start_time": "2021-10-22T18:23:16.031Z"
   },
   {
    "duration": 4,
    "start_time": "2021-10-22T18:23:20.772Z"
   },
   {
    "duration": 8,
    "start_time": "2021-10-22T18:23:20.779Z"
   },
   {
    "duration": 15,
    "start_time": "2021-10-22T18:23:20.790Z"
   },
   {
    "duration": 41,
    "start_time": "2021-10-22T18:23:20.807Z"
   },
   {
    "duration": 12,
    "start_time": "2021-10-22T18:23:20.850Z"
   },
   {
    "duration": 8,
    "start_time": "2021-10-22T18:23:20.864Z"
   },
   {
    "duration": 151,
    "start_time": "2021-10-22T18:23:20.875Z"
   },
   {
    "duration": 336,
    "start_time": "2021-10-22T18:23:21.029Z"
   },
   {
    "duration": 17,
    "start_time": "2021-10-22T18:23:21.368Z"
   },
   {
    "duration": 311,
    "start_time": "2021-10-22T18:23:55.852Z"
   },
   {
    "duration": 19,
    "start_time": "2021-10-22T18:24:19.011Z"
   },
   {
    "duration": 14,
    "start_time": "2021-10-22T18:36:59.464Z"
   },
   {
    "duration": 63,
    "start_time": "2021-10-22T18:39:29.022Z"
   },
   {
    "duration": 19,
    "start_time": "2021-10-22T18:41:32.572Z"
   },
   {
    "duration": 308,
    "start_time": "2021-10-23T09:23:35.060Z"
   },
   {
    "duration": 1513,
    "start_time": "2021-10-23T09:23:54.807Z"
   },
   {
    "duration": 5,
    "start_time": "2021-10-23T09:23:56.322Z"
   },
   {
    "duration": 10,
    "start_time": "2021-10-23T09:23:56.330Z"
   },
   {
    "duration": 9,
    "start_time": "2021-10-23T09:23:56.342Z"
   },
   {
    "duration": 32,
    "start_time": "2021-10-23T09:23:56.353Z"
   },
   {
    "duration": 43,
    "start_time": "2021-10-23T09:23:56.388Z"
   },
   {
    "duration": 10,
    "start_time": "2021-10-23T09:23:56.433Z"
   },
   {
    "duration": 161,
    "start_time": "2021-10-23T09:23:56.446Z"
   },
   {
    "duration": 347,
    "start_time": "2021-10-23T09:23:56.611Z"
   },
   {
    "duration": 19,
    "start_time": "2021-10-23T09:23:56.960Z"
   },
   {
    "duration": 13,
    "start_time": "2021-10-23T09:23:56.981Z"
   },
   {
    "duration": 63,
    "start_time": "2021-10-23T09:23:57.023Z"
   },
   {
    "duration": 39,
    "start_time": "2021-10-23T09:23:57.088Z"
   },
   {
    "duration": 8,
    "start_time": "2021-10-23T09:23:57.129Z"
   },
   {
    "duration": 8,
    "start_time": "2021-10-23T09:26:49.044Z"
   },
   {
    "duration": 517,
    "start_time": "2021-10-23T09:32:15.978Z"
   },
   {
    "duration": 4,
    "start_time": "2021-10-23T09:32:29.684Z"
   },
   {
    "duration": 7,
    "start_time": "2021-10-23T09:32:35.436Z"
   },
   {
    "duration": 279,
    "start_time": "2021-10-23T09:36:35.405Z"
   },
   {
    "duration": 270,
    "start_time": "2021-10-23T09:37:44.175Z"
   },
   {
    "duration": 8,
    "start_time": "2021-10-23T09:38:07.098Z"
   },
   {
    "duration": 268,
    "start_time": "2021-10-23T09:38:08.442Z"
   },
   {
    "duration": 274,
    "start_time": "2021-10-23T09:39:03.684Z"
   },
   {
    "duration": 330,
    "start_time": "2021-10-23T09:40:26.161Z"
   },
   {
    "duration": 61,
    "start_time": "2021-10-23T09:41:00.229Z"
   },
   {
    "duration": 63,
    "start_time": "2021-10-23T09:41:25.171Z"
   },
   {
    "duration": 64,
    "start_time": "2021-10-23T10:06:48.503Z"
   },
   {
    "duration": 111,
    "start_time": "2021-10-23T10:07:32.435Z"
   },
   {
    "duration": 63,
    "start_time": "2021-10-23T10:07:41.167Z"
   },
   {
    "duration": 66,
    "start_time": "2021-10-23T11:17:18.555Z"
   },
   {
    "duration": 66,
    "start_time": "2021-10-23T11:17:25.614Z"
   },
   {
    "duration": 67,
    "start_time": "2021-10-23T11:17:34.408Z"
   },
   {
    "duration": 28,
    "start_time": "2021-10-23T11:17:59.542Z"
   },
   {
    "duration": 65,
    "start_time": "2021-10-23T11:18:16.550Z"
   },
   {
    "duration": 6871,
    "start_time": "2021-10-23T11:27:38.953Z"
   },
   {
    "duration": 65,
    "start_time": "2021-10-23T11:29:28.134Z"
   },
   {
    "duration": 121,
    "start_time": "2021-10-23T16:52:43.253Z"
   },
   {
    "duration": 106,
    "start_time": "2021-10-23T16:53:28.189Z"
   },
   {
    "duration": 116,
    "start_time": "2021-10-23T16:53:48.374Z"
   },
   {
    "duration": 126,
    "start_time": "2021-10-23T16:53:55.097Z"
   },
   {
    "duration": 918,
    "start_time": "2021-10-23T19:12:33.270Z"
   },
   {
    "duration": 651,
    "start_time": "2021-10-23T19:13:00.862Z"
   },
   {
    "duration": 113,
    "start_time": "2021-10-23T19:13:01.514Z"
   },
   {
    "duration": 4,
    "start_time": "2021-10-23T19:13:01.629Z"
   },
   {
    "duration": 15,
    "start_time": "2021-10-23T19:13:01.635Z"
   },
   {
    "duration": 12,
    "start_time": "2021-10-23T19:13:01.652Z"
   },
   {
    "duration": 23,
    "start_time": "2021-10-23T19:13:01.666Z"
   },
   {
    "duration": 9,
    "start_time": "2021-10-23T19:13:01.691Z"
   },
   {
    "duration": 8,
    "start_time": "2021-10-23T19:13:01.702Z"
   },
   {
    "duration": 157,
    "start_time": "2021-10-23T19:13:01.712Z"
   },
   {
    "duration": 7121,
    "start_time": "2021-10-23T19:13:01.871Z"
   },
   {
    "duration": 14,
    "start_time": "2021-10-23T19:13:08.995Z"
   },
   {
    "duration": 13,
    "start_time": "2021-10-23T19:13:09.012Z"
   },
   {
    "duration": 90,
    "start_time": "2021-10-23T19:13:09.027Z"
   },
   {
    "duration": 15,
    "start_time": "2021-10-23T19:13:09.120Z"
   },
   {
    "duration": 8,
    "start_time": "2021-10-23T19:13:09.137Z"
   },
   {
    "duration": 7,
    "start_time": "2021-10-23T19:13:09.147Z"
   },
   {
    "duration": 68,
    "start_time": "2021-10-23T19:13:09.155Z"
   },
   {
    "duration": 5,
    "start_time": "2021-10-23T19:13:09.225Z"
   },
   {
    "duration": 6,
    "start_time": "2021-10-23T19:14:13.241Z"
   },
   {
    "duration": 370,
    "start_time": "2021-10-23T19:15:29.313Z"
   },
   {
    "duration": 5,
    "start_time": "2021-10-23T19:15:46.490Z"
   },
   {
    "duration": 5,
    "start_time": "2021-10-23T19:15:54.915Z"
   },
   {
    "duration": 6,
    "start_time": "2021-10-23T19:26:26.267Z"
   },
   {
    "duration": 9,
    "start_time": "2021-10-23T19:32:13.378Z"
   },
   {
    "duration": 6,
    "start_time": "2021-10-23T19:37:58.352Z"
   },
   {
    "duration": 4,
    "start_time": "2021-10-23T19:39:39.761Z"
   },
   {
    "duration": 3,
    "start_time": "2021-10-23T19:40:28.458Z"
   },
   {
    "duration": 36,
    "start_time": "2021-10-23T19:40:28.463Z"
   },
   {
    "duration": 4,
    "start_time": "2021-10-23T19:40:28.501Z"
   },
   {
    "duration": 6,
    "start_time": "2021-10-23T19:40:28.507Z"
   },
   {
    "duration": 7,
    "start_time": "2021-10-23T19:40:28.514Z"
   },
   {
    "duration": 20,
    "start_time": "2021-10-23T19:40:28.523Z"
   },
   {
    "duration": 32,
    "start_time": "2021-10-23T19:40:28.545Z"
   },
   {
    "duration": 9,
    "start_time": "2021-10-23T19:40:28.582Z"
   },
   {
    "duration": 112,
    "start_time": "2021-10-23T19:40:28.593Z"
   },
   {
    "duration": 5004,
    "start_time": "2021-10-23T19:40:28.707Z"
   },
   {
    "duration": 11,
    "start_time": "2021-10-23T19:40:33.713Z"
   },
   {
    "duration": 13,
    "start_time": "2021-10-23T19:40:33.727Z"
   },
   {
    "duration": 93,
    "start_time": "2021-10-23T19:40:33.742Z"
   },
   {
    "duration": 11,
    "start_time": "2021-10-23T19:40:33.837Z"
   },
   {
    "duration": 6,
    "start_time": "2021-10-23T19:40:33.849Z"
   },
   {
    "duration": 29,
    "start_time": "2021-10-23T19:40:33.857Z"
   },
   {
    "duration": 60,
    "start_time": "2021-10-23T19:40:33.888Z"
   },
   {
    "duration": 4,
    "start_time": "2021-10-23T19:40:33.950Z"
   },
   {
    "duration": 4732,
    "start_time": "2021-10-23T19:45:52.639Z"
   },
   {
    "duration": 33,
    "start_time": "2021-10-23T19:48:12.697Z"
   }
  ],
  "kernelspec": {
   "display_name": "Python 3 (ipykernel)",
   "language": "python",
   "name": "python3"
  },
  "language_info": {
   "codemirror_mode": {
    "name": "ipython",
    "version": 3
   },
   "file_extension": ".py",
   "mimetype": "text/x-python",
   "name": "python",
   "nbconvert_exporter": "python",
   "pygments_lexer": "ipython3",
   "version": "3.9.5"
  },
  "toc": {
   "base_numbering": 1,
   "nav_menu": {},
   "number_sections": true,
   "sideBar": true,
   "skip_h1_title": true,
   "title_cell": "Table of Contents",
   "title_sidebar": "Contents",
   "toc_cell": false,
   "toc_position": {},
   "toc_section_display": true,
   "toc_window_display": false
  }
 },
 "nbformat": 4,
 "nbformat_minor": 2
}
