{
 "cells": [
  {
   "cell_type": "markdown",
   "metadata": {},
   "source": [
    "\n",
    "# ML-модель для опредения рыночной цены автомобиля\n"
   ]
  },
  {
   "cell_type": "code",
   "execution_count": 402,
   "metadata": {},
   "outputs": [
    {
     "data": {
      "text/html": [
       "<img src=\"https://million-wallpapers.ru/wallpapers/4/72/18038241282065478898/starinnyj-gonochnyj-avtomobil-na-fone-goroda.jpg\" width=\"1000\"/>"
      ],
      "text/plain": [
       "<IPython.core.display.Image object>"
      ]
     },
     "metadata": {},
     "output_type": "display_data"
    }
   ],
   "source": [
    "from IPython.display import Image\n",
    "display(Image(url='https://million-wallpapers.ru/wallpapers/4/72/18038241282065478898/starinnyj-gonochnyj-avtomobil-na-fone-goroda.jpg', width = 1000))"
   ]
  },
  {
   "cell_type": "markdown",
   "metadata": {},
   "source": [
    "---\n",
    "## Введение\n"
   ]
  },
  {
   "cell_type": "markdown",
   "metadata": {},
   "source": [
    "Сервис по продаже автомобилей с пробегом «Не бит, не крашен» разрабатывает приложение для привлечения новых клиентов. В нём можно быстро узнать рыночную стоимость своего автомобиля. В нашем распоряжении исторические данные: технические характеристики, комплектации и цены автомобилей. \n",
    "\n",
    "**Цель исследования:** нужно построить модель для определения стоимости автомобиля.  \n",
    "\n",
    "*Заказчику важны*:  \n",
    "* качество предсказания;\n",
    "* скорость предсказания;\n",
    "* время обучения.\n",
    "\n",
    "**Признаки:**\n",
    "* `DateCrawled` — дата скачивания анкеты из базы\n",
    "* `VehicleType` — тип автомобильного кузова\n",
    "* `RegistrationYear` — год регистрации автомобиля\n",
    "* `Gearbox` — тип коробки передач\n",
    "* `Power` — мощность (л. с.)\n",
    "* `Model` — модель автомобиля\n",
    "* `Kilometer` — пробег (км)\n",
    "* `RegistrationMonth` — месяц регистрации автомобиля\n",
    "* `FuelType` — тип топлива\n",
    "* `Brand` — марка автомобиля\n",
    "* `NotRepaired` — была машина в ремонте или нет\n",
    "* `DateCreated` — дата создания анкеты\n",
    "* `NumberOfPictures` — количество фотографий автомобиля\n",
    "* `PostalCode` — почтовый индекс владельца анкеты (пользователя)\n",
    "* `LastSeen` — дата последней активности пользователя  \n",
    "\n",
    "**Целевой признак**\n",
    "`Price` — цена (евро)"
   ]
  },
  {
   "cell_type": "markdown",
   "metadata": {},
   "source": [
    "## Подготовка данных"
   ]
  },
  {
   "cell_type": "markdown",
   "metadata": {},
   "source": [
    "### Первичное ознакомление"
   ]
  },
  {
   "cell_type": "code",
   "execution_count": 403,
   "metadata": {},
   "outputs": [],
   "source": [
    "# Перед началом работы импортируем необходимые библиотеки:\n",
    "import pandas as pd\n",
    "import matplotlib.pyplot as plt\n",
    "import seaborn as sns\n",
    "import sweetviz as sv\n",
    "from sklearn.tree import DecisionTreeRegressor\n",
    "from sklearn.ensemble import RandomForestRegressor\n",
    "from sklearn.linear_model import LogisticRegression\n",
    "from sklearn.linear_model import LinearRegression\n",
    "from sklearn.model_selection import train_test_split\n",
    "from sklearn.metrics import mean_squared_error\n",
    "from sklearn.metrics import f1_score\n",
    "from sklearn.preprocessing import StandardScaler\n",
    "from sklearn.preprocessing import MinMaxScaler\n",
    "from sklearn.utils import shuffle\n",
    "from sklearn.model_selection import GridSearchCV\n",
    "from catboost import CatBoostRegressor\n",
    "from lightgbm import LGBMRegressor\n",
    "from sklearn.linear_model import LinearRegression\n",
    "from sklearn.preprocessing import OneHotEncoder"
   ]
  },
  {
   "cell_type": "code",
   "execution_count": 404,
   "metadata": {},
   "outputs": [],
   "source": [
    "# Отключаем предупреждения \"Анаконды\":\n",
    "import warnings \n",
    "warnings.filterwarnings('ignore')\n",
    "get_ipython().run_line_magic('config', \"InlineBackend.figure_format = 'svg'\")\n",
    "\n",
    "# Увеличим дефолтный размер графиков:\n",
    "from pylab import rcParams\n",
    "rcParams['figure.figsize'] = 10,5\n",
    "\n",
    "\n",
    "# Пропишем путь к датасету:\n",
    "try:\n",
    "    df = pd.read_csv('/datasets/autos.csv')\n",
    "except:\n",
    "    df = pd.read_csv('autos.csv')"
   ]
  },
  {
   "cell_type": "code",
   "execution_count": 405,
   "metadata": {},
   "outputs": [
    {
     "data": {
      "text/html": [
       "<div>\n",
       "<style scoped>\n",
       "    .dataframe tbody tr th:only-of-type {\n",
       "        vertical-align: middle;\n",
       "    }\n",
       "\n",
       "    .dataframe tbody tr th {\n",
       "        vertical-align: top;\n",
       "    }\n",
       "\n",
       "    .dataframe thead th {\n",
       "        text-align: right;\n",
       "    }\n",
       "</style>\n",
       "<table border=\"1\" class=\"dataframe\">\n",
       "  <thead>\n",
       "    <tr style=\"text-align: right;\">\n",
       "      <th></th>\n",
       "      <th>DateCrawled</th>\n",
       "      <th>Price</th>\n",
       "      <th>VehicleType</th>\n",
       "      <th>RegistrationYear</th>\n",
       "      <th>Gearbox</th>\n",
       "      <th>Power</th>\n",
       "      <th>Model</th>\n",
       "      <th>Kilometer</th>\n",
       "      <th>RegistrationMonth</th>\n",
       "      <th>FuelType</th>\n",
       "      <th>Brand</th>\n",
       "      <th>NotRepaired</th>\n",
       "      <th>DateCreated</th>\n",
       "      <th>NumberOfPictures</th>\n",
       "      <th>PostalCode</th>\n",
       "      <th>LastSeen</th>\n",
       "    </tr>\n",
       "  </thead>\n",
       "  <tbody>\n",
       "    <tr>\n",
       "      <th>0</th>\n",
       "      <td>2016-03-24 11:52:17</td>\n",
       "      <td>480</td>\n",
       "      <td>NaN</td>\n",
       "      <td>1993</td>\n",
       "      <td>manual</td>\n",
       "      <td>0</td>\n",
       "      <td>golf</td>\n",
       "      <td>150000</td>\n",
       "      <td>0</td>\n",
       "      <td>petrol</td>\n",
       "      <td>volkswagen</td>\n",
       "      <td>NaN</td>\n",
       "      <td>2016-03-24 00:00:00</td>\n",
       "      <td>0</td>\n",
       "      <td>70435</td>\n",
       "      <td>2016-04-07 03:16:57</td>\n",
       "    </tr>\n",
       "    <tr>\n",
       "      <th>1</th>\n",
       "      <td>2016-03-24 10:58:45</td>\n",
       "      <td>18300</td>\n",
       "      <td>coupe</td>\n",
       "      <td>2011</td>\n",
       "      <td>manual</td>\n",
       "      <td>190</td>\n",
       "      <td>NaN</td>\n",
       "      <td>125000</td>\n",
       "      <td>5</td>\n",
       "      <td>gasoline</td>\n",
       "      <td>audi</td>\n",
       "      <td>yes</td>\n",
       "      <td>2016-03-24 00:00:00</td>\n",
       "      <td>0</td>\n",
       "      <td>66954</td>\n",
       "      <td>2016-04-07 01:46:50</td>\n",
       "    </tr>\n",
       "    <tr>\n",
       "      <th>2</th>\n",
       "      <td>2016-03-14 12:52:21</td>\n",
       "      <td>9800</td>\n",
       "      <td>suv</td>\n",
       "      <td>2004</td>\n",
       "      <td>auto</td>\n",
       "      <td>163</td>\n",
       "      <td>grand</td>\n",
       "      <td>125000</td>\n",
       "      <td>8</td>\n",
       "      <td>gasoline</td>\n",
       "      <td>jeep</td>\n",
       "      <td>NaN</td>\n",
       "      <td>2016-03-14 00:00:00</td>\n",
       "      <td>0</td>\n",
       "      <td>90480</td>\n",
       "      <td>2016-04-05 12:47:46</td>\n",
       "    </tr>\n",
       "    <tr>\n",
       "      <th>3</th>\n",
       "      <td>2016-03-17 16:54:04</td>\n",
       "      <td>1500</td>\n",
       "      <td>small</td>\n",
       "      <td>2001</td>\n",
       "      <td>manual</td>\n",
       "      <td>75</td>\n",
       "      <td>golf</td>\n",
       "      <td>150000</td>\n",
       "      <td>6</td>\n",
       "      <td>petrol</td>\n",
       "      <td>volkswagen</td>\n",
       "      <td>no</td>\n",
       "      <td>2016-03-17 00:00:00</td>\n",
       "      <td>0</td>\n",
       "      <td>91074</td>\n",
       "      <td>2016-03-17 17:40:17</td>\n",
       "    </tr>\n",
       "    <tr>\n",
       "      <th>4</th>\n",
       "      <td>2016-03-31 17:25:20</td>\n",
       "      <td>3600</td>\n",
       "      <td>small</td>\n",
       "      <td>2008</td>\n",
       "      <td>manual</td>\n",
       "      <td>69</td>\n",
       "      <td>fabia</td>\n",
       "      <td>90000</td>\n",
       "      <td>7</td>\n",
       "      <td>gasoline</td>\n",
       "      <td>skoda</td>\n",
       "      <td>no</td>\n",
       "      <td>2016-03-31 00:00:00</td>\n",
       "      <td>0</td>\n",
       "      <td>60437</td>\n",
       "      <td>2016-04-06 10:17:21</td>\n",
       "    </tr>\n",
       "  </tbody>\n",
       "</table>\n",
       "</div>"
      ],
      "text/plain": [
       "           DateCrawled  Price VehicleType  RegistrationYear Gearbox  Power  \\\n",
       "0  2016-03-24 11:52:17    480         NaN              1993  manual      0   \n",
       "1  2016-03-24 10:58:45  18300       coupe              2011  manual    190   \n",
       "2  2016-03-14 12:52:21   9800         suv              2004    auto    163   \n",
       "3  2016-03-17 16:54:04   1500       small              2001  manual     75   \n",
       "4  2016-03-31 17:25:20   3600       small              2008  manual     69   \n",
       "\n",
       "   Model  Kilometer  RegistrationMonth  FuelType       Brand NotRepaired  \\\n",
       "0   golf     150000                  0    petrol  volkswagen         NaN   \n",
       "1    NaN     125000                  5  gasoline        audi         yes   \n",
       "2  grand     125000                  8  gasoline        jeep         NaN   \n",
       "3   golf     150000                  6    petrol  volkswagen          no   \n",
       "4  fabia      90000                  7  gasoline       skoda          no   \n",
       "\n",
       "           DateCreated  NumberOfPictures  PostalCode             LastSeen  \n",
       "0  2016-03-24 00:00:00                 0       70435  2016-04-07 03:16:57  \n",
       "1  2016-03-24 00:00:00                 0       66954  2016-04-07 01:46:50  \n",
       "2  2016-03-14 00:00:00                 0       90480  2016-04-05 12:47:46  \n",
       "3  2016-03-17 00:00:00                 0       91074  2016-03-17 17:40:17  \n",
       "4  2016-03-31 00:00:00                 0       60437  2016-04-06 10:17:21  "
      ]
     },
     "metadata": {},
     "output_type": "display_data"
    },
    {
     "data": {
      "text/html": [
       "<div>\n",
       "<style scoped>\n",
       "    .dataframe tbody tr th:only-of-type {\n",
       "        vertical-align: middle;\n",
       "    }\n",
       "\n",
       "    .dataframe tbody tr th {\n",
       "        vertical-align: top;\n",
       "    }\n",
       "\n",
       "    .dataframe thead th {\n",
       "        text-align: right;\n",
       "    }\n",
       "</style>\n",
       "<table border=\"1\" class=\"dataframe\">\n",
       "  <thead>\n",
       "    <tr style=\"text-align: right;\">\n",
       "      <th></th>\n",
       "      <th>DateCrawled</th>\n",
       "      <th>Price</th>\n",
       "      <th>VehicleType</th>\n",
       "      <th>RegistrationYear</th>\n",
       "      <th>Gearbox</th>\n",
       "      <th>Power</th>\n",
       "      <th>Model</th>\n",
       "      <th>Kilometer</th>\n",
       "      <th>RegistrationMonth</th>\n",
       "      <th>FuelType</th>\n",
       "      <th>Brand</th>\n",
       "      <th>NotRepaired</th>\n",
       "      <th>DateCreated</th>\n",
       "      <th>NumberOfPictures</th>\n",
       "      <th>PostalCode</th>\n",
       "      <th>LastSeen</th>\n",
       "    </tr>\n",
       "  </thead>\n",
       "  <tbody>\n",
       "    <tr>\n",
       "      <th>354364</th>\n",
       "      <td>2016-03-21 09:50:58</td>\n",
       "      <td>0</td>\n",
       "      <td>NaN</td>\n",
       "      <td>2005</td>\n",
       "      <td>manual</td>\n",
       "      <td>0</td>\n",
       "      <td>colt</td>\n",
       "      <td>150000</td>\n",
       "      <td>7</td>\n",
       "      <td>petrol</td>\n",
       "      <td>mitsubishi</td>\n",
       "      <td>yes</td>\n",
       "      <td>2016-03-21 00:00:00</td>\n",
       "      <td>0</td>\n",
       "      <td>2694</td>\n",
       "      <td>2016-03-21 10:42:49</td>\n",
       "    </tr>\n",
       "    <tr>\n",
       "      <th>354365</th>\n",
       "      <td>2016-03-14 17:48:27</td>\n",
       "      <td>2200</td>\n",
       "      <td>NaN</td>\n",
       "      <td>2005</td>\n",
       "      <td>NaN</td>\n",
       "      <td>0</td>\n",
       "      <td>NaN</td>\n",
       "      <td>20000</td>\n",
       "      <td>1</td>\n",
       "      <td>NaN</td>\n",
       "      <td>sonstige_autos</td>\n",
       "      <td>NaN</td>\n",
       "      <td>2016-03-14 00:00:00</td>\n",
       "      <td>0</td>\n",
       "      <td>39576</td>\n",
       "      <td>2016-04-06 00:46:52</td>\n",
       "    </tr>\n",
       "    <tr>\n",
       "      <th>354366</th>\n",
       "      <td>2016-03-05 19:56:21</td>\n",
       "      <td>1199</td>\n",
       "      <td>convertible</td>\n",
       "      <td>2000</td>\n",
       "      <td>auto</td>\n",
       "      <td>101</td>\n",
       "      <td>fortwo</td>\n",
       "      <td>125000</td>\n",
       "      <td>3</td>\n",
       "      <td>petrol</td>\n",
       "      <td>smart</td>\n",
       "      <td>no</td>\n",
       "      <td>2016-03-05 00:00:00</td>\n",
       "      <td>0</td>\n",
       "      <td>26135</td>\n",
       "      <td>2016-03-11 18:17:12</td>\n",
       "    </tr>\n",
       "    <tr>\n",
       "      <th>354367</th>\n",
       "      <td>2016-03-19 18:57:12</td>\n",
       "      <td>9200</td>\n",
       "      <td>bus</td>\n",
       "      <td>1996</td>\n",
       "      <td>manual</td>\n",
       "      <td>102</td>\n",
       "      <td>transporter</td>\n",
       "      <td>150000</td>\n",
       "      <td>3</td>\n",
       "      <td>gasoline</td>\n",
       "      <td>volkswagen</td>\n",
       "      <td>no</td>\n",
       "      <td>2016-03-19 00:00:00</td>\n",
       "      <td>0</td>\n",
       "      <td>87439</td>\n",
       "      <td>2016-04-07 07:15:26</td>\n",
       "    </tr>\n",
       "    <tr>\n",
       "      <th>354368</th>\n",
       "      <td>2016-03-20 19:41:08</td>\n",
       "      <td>3400</td>\n",
       "      <td>wagon</td>\n",
       "      <td>2002</td>\n",
       "      <td>manual</td>\n",
       "      <td>100</td>\n",
       "      <td>golf</td>\n",
       "      <td>150000</td>\n",
       "      <td>6</td>\n",
       "      <td>gasoline</td>\n",
       "      <td>volkswagen</td>\n",
       "      <td>NaN</td>\n",
       "      <td>2016-03-20 00:00:00</td>\n",
       "      <td>0</td>\n",
       "      <td>40764</td>\n",
       "      <td>2016-03-24 12:45:21</td>\n",
       "    </tr>\n",
       "  </tbody>\n",
       "</table>\n",
       "</div>"
      ],
      "text/plain": [
       "                DateCrawled  Price  VehicleType  RegistrationYear Gearbox  \\\n",
       "354364  2016-03-21 09:50:58      0          NaN              2005  manual   \n",
       "354365  2016-03-14 17:48:27   2200          NaN              2005     NaN   \n",
       "354366  2016-03-05 19:56:21   1199  convertible              2000    auto   \n",
       "354367  2016-03-19 18:57:12   9200          bus              1996  manual   \n",
       "354368  2016-03-20 19:41:08   3400        wagon              2002  manual   \n",
       "\n",
       "        Power        Model  Kilometer  RegistrationMonth  FuelType  \\\n",
       "354364      0         colt     150000                  7    petrol   \n",
       "354365      0          NaN      20000                  1       NaN   \n",
       "354366    101       fortwo     125000                  3    petrol   \n",
       "354367    102  transporter     150000                  3  gasoline   \n",
       "354368    100         golf     150000                  6  gasoline   \n",
       "\n",
       "                 Brand NotRepaired          DateCreated  NumberOfPictures  \\\n",
       "354364      mitsubishi         yes  2016-03-21 00:00:00                 0   \n",
       "354365  sonstige_autos         NaN  2016-03-14 00:00:00                 0   \n",
       "354366           smart          no  2016-03-05 00:00:00                 0   \n",
       "354367      volkswagen          no  2016-03-19 00:00:00                 0   \n",
       "354368      volkswagen         NaN  2016-03-20 00:00:00                 0   \n",
       "\n",
       "        PostalCode             LastSeen  \n",
       "354364        2694  2016-03-21 10:42:49  \n",
       "354365       39576  2016-04-06 00:46:52  \n",
       "354366       26135  2016-03-11 18:17:12  \n",
       "354367       87439  2016-04-07 07:15:26  \n",
       "354368       40764  2016-03-24 12:45:21  "
      ]
     },
     "metadata": {},
     "output_type": "display_data"
    }
   ],
   "source": [
    "# Посмотрим на данные с \"головы\" и с \"хвоста\"\n",
    "display(df.head(),df.tail())"
   ]
  },
  {
   "cell_type": "code",
   "execution_count": 406,
   "metadata": {},
   "outputs": [
    {
     "data": {
      "text/plain": [
       "(354369, 16)"
      ]
     },
     "execution_count": 406,
     "metadata": {},
     "output_type": "execute_result"
    }
   ],
   "source": [
    "df.shape"
   ]
  },
  {
   "cell_type": "code",
   "execution_count": 407,
   "metadata": {},
   "outputs": [
    {
     "name": "stdout",
     "output_type": "stream",
     "text": [
      "<class 'pandas.core.frame.DataFrame'>\n",
      "RangeIndex: 354369 entries, 0 to 354368\n",
      "Data columns (total 16 columns):\n",
      " #   Column             Non-Null Count   Dtype \n",
      "---  ------             --------------   ----- \n",
      " 0   DateCrawled        354369 non-null  object\n",
      " 1   Price              354369 non-null  int64 \n",
      " 2   VehicleType        316879 non-null  object\n",
      " 3   RegistrationYear   354369 non-null  int64 \n",
      " 4   Gearbox            334536 non-null  object\n",
      " 5   Power              354369 non-null  int64 \n",
      " 6   Model              334664 non-null  object\n",
      " 7   Kilometer          354369 non-null  int64 \n",
      " 8   RegistrationMonth  354369 non-null  int64 \n",
      " 9   FuelType           321474 non-null  object\n",
      " 10  Brand              354369 non-null  object\n",
      " 11  NotRepaired        283215 non-null  object\n",
      " 12  DateCreated        354369 non-null  object\n",
      " 13  NumberOfPictures   354369 non-null  int64 \n",
      " 14  PostalCode         354369 non-null  int64 \n",
      " 15  LastSeen           354369 non-null  object\n",
      "dtypes: int64(7), object(9)\n",
      "memory usage: 43.3+ MB\n"
     ]
    }
   ],
   "source": [
    "df.info()"
   ]
  },
  {
   "cell_type": "code",
   "execution_count": 408,
   "metadata": {},
   "outputs": [
    {
     "data": {
      "text/plain": [
       "Index(['datecrawled', 'price', 'vehicletype', 'registrationyear', 'gearbox',\n",
       "       'power', 'model', 'kilometer', 'registrationmonth', 'fueltype', 'brand',\n",
       "       'notrepaired', 'datecreated', 'numberofpictures', 'postalcode',\n",
       "       'lastseen'],\n",
       "      dtype='object')"
      ]
     },
     "execution_count": 408,
     "metadata": {},
     "output_type": "execute_result"
    }
   ],
   "source": [
    "df.columns = df.columns.str.lower()\n",
    "df.columns"
   ]
  },
  {
   "cell_type": "code",
   "execution_count": 410,
   "metadata": {
    "scrolled": true
   },
   "outputs": [],
   "source": [
    "#report.show_html('common analysis.html')"
   ]
  },
  {
   "cell_type": "code",
   "execution_count": 411,
   "metadata": {
    "scrolled": true
   },
   "outputs": [
    {
     "data": {
      "text/html": [
       "<div>\n",
       "<style scoped>\n",
       "    .dataframe tbody tr th:only-of-type {\n",
       "        vertical-align: middle;\n",
       "    }\n",
       "\n",
       "    .dataframe tbody tr th {\n",
       "        vertical-align: top;\n",
       "    }\n",
       "\n",
       "    .dataframe thead th {\n",
       "        text-align: right;\n",
       "    }\n",
       "</style>\n",
       "<table border=\"1\" class=\"dataframe\">\n",
       "  <thead>\n",
       "    <tr style=\"text-align: right;\">\n",
       "      <th></th>\n",
       "      <th>date_crawled</th>\n",
       "      <th>price</th>\n",
       "      <th>vehicle_type</th>\n",
       "      <th>registration_year</th>\n",
       "      <th>gearbox</th>\n",
       "      <th>power</th>\n",
       "      <th>model</th>\n",
       "      <th>kilometer</th>\n",
       "      <th>registration_month</th>\n",
       "      <th>fuel_type</th>\n",
       "      <th>brand</th>\n",
       "      <th>not_repaired</th>\n",
       "      <th>date_created</th>\n",
       "      <th>number_of_pictures</th>\n",
       "      <th>postal_code</th>\n",
       "      <th>last_seen</th>\n",
       "    </tr>\n",
       "  </thead>\n",
       "  <tbody>\n",
       "    <tr>\n",
       "      <th>0</th>\n",
       "      <td>2016-03-24 11:52:17</td>\n",
       "      <td>480</td>\n",
       "      <td>NaN</td>\n",
       "      <td>1993</td>\n",
       "      <td>manual</td>\n",
       "      <td>0</td>\n",
       "      <td>golf</td>\n",
       "      <td>150000</td>\n",
       "      <td>0</td>\n",
       "      <td>petrol</td>\n",
       "      <td>volkswagen</td>\n",
       "      <td>NaN</td>\n",
       "      <td>2016-03-24 00:00:00</td>\n",
       "      <td>0</td>\n",
       "      <td>70435</td>\n",
       "      <td>2016-04-07 03:16:57</td>\n",
       "    </tr>\n",
       "    <tr>\n",
       "      <th>1</th>\n",
       "      <td>2016-03-24 10:58:45</td>\n",
       "      <td>18300</td>\n",
       "      <td>coupe</td>\n",
       "      <td>2011</td>\n",
       "      <td>manual</td>\n",
       "      <td>190</td>\n",
       "      <td>NaN</td>\n",
       "      <td>125000</td>\n",
       "      <td>5</td>\n",
       "      <td>gasoline</td>\n",
       "      <td>audi</td>\n",
       "      <td>yes</td>\n",
       "      <td>2016-03-24 00:00:00</td>\n",
       "      <td>0</td>\n",
       "      <td>66954</td>\n",
       "      <td>2016-04-07 01:46:50</td>\n",
       "    </tr>\n",
       "    <tr>\n",
       "      <th>2</th>\n",
       "      <td>2016-03-14 12:52:21</td>\n",
       "      <td>9800</td>\n",
       "      <td>suv</td>\n",
       "      <td>2004</td>\n",
       "      <td>auto</td>\n",
       "      <td>163</td>\n",
       "      <td>grand</td>\n",
       "      <td>125000</td>\n",
       "      <td>8</td>\n",
       "      <td>gasoline</td>\n",
       "      <td>jeep</td>\n",
       "      <td>NaN</td>\n",
       "      <td>2016-03-14 00:00:00</td>\n",
       "      <td>0</td>\n",
       "      <td>90480</td>\n",
       "      <td>2016-04-05 12:47:46</td>\n",
       "    </tr>\n",
       "    <tr>\n",
       "      <th>3</th>\n",
       "      <td>2016-03-17 16:54:04</td>\n",
       "      <td>1500</td>\n",
       "      <td>small</td>\n",
       "      <td>2001</td>\n",
       "      <td>manual</td>\n",
       "      <td>75</td>\n",
       "      <td>golf</td>\n",
       "      <td>150000</td>\n",
       "      <td>6</td>\n",
       "      <td>petrol</td>\n",
       "      <td>volkswagen</td>\n",
       "      <td>no</td>\n",
       "      <td>2016-03-17 00:00:00</td>\n",
       "      <td>0</td>\n",
       "      <td>91074</td>\n",
       "      <td>2016-03-17 17:40:17</td>\n",
       "    </tr>\n",
       "    <tr>\n",
       "      <th>4</th>\n",
       "      <td>2016-03-31 17:25:20</td>\n",
       "      <td>3600</td>\n",
       "      <td>small</td>\n",
       "      <td>2008</td>\n",
       "      <td>manual</td>\n",
       "      <td>69</td>\n",
       "      <td>fabia</td>\n",
       "      <td>90000</td>\n",
       "      <td>7</td>\n",
       "      <td>gasoline</td>\n",
       "      <td>skoda</td>\n",
       "      <td>no</td>\n",
       "      <td>2016-03-31 00:00:00</td>\n",
       "      <td>0</td>\n",
       "      <td>60437</td>\n",
       "      <td>2016-04-06 10:17:21</td>\n",
       "    </tr>\n",
       "  </tbody>\n",
       "</table>\n",
       "</div>"
      ],
      "text/plain": [
       "          date_crawled  price vehicle_type  registration_year gearbox  power  \\\n",
       "0  2016-03-24 11:52:17    480          NaN               1993  manual      0   \n",
       "1  2016-03-24 10:58:45  18300        coupe               2011  manual    190   \n",
       "2  2016-03-14 12:52:21   9800          suv               2004    auto    163   \n",
       "3  2016-03-17 16:54:04   1500        small               2001  manual     75   \n",
       "4  2016-03-31 17:25:20   3600        small               2008  manual     69   \n",
       "\n",
       "   model  kilometer  registration_month fuel_type       brand not_repaired  \\\n",
       "0   golf     150000                   0    petrol  volkswagen          NaN   \n",
       "1    NaN     125000                   5  gasoline        audi          yes   \n",
       "2  grand     125000                   8  gasoline        jeep          NaN   \n",
       "3   golf     150000                   6    petrol  volkswagen           no   \n",
       "4  fabia      90000                   7  gasoline       skoda           no   \n",
       "\n",
       "          date_created  number_of_pictures  postal_code            last_seen  \n",
       "0  2016-03-24 00:00:00                   0        70435  2016-04-07 03:16:57  \n",
       "1  2016-03-24 00:00:00                   0        66954  2016-04-07 01:46:50  \n",
       "2  2016-03-14 00:00:00                   0        90480  2016-04-05 12:47:46  \n",
       "3  2016-03-17 00:00:00                   0        91074  2016-03-17 17:40:17  \n",
       "4  2016-03-31 00:00:00                   0        60437  2016-04-06 10:17:21  "
      ]
     },
     "execution_count": 411,
     "metadata": {},
     "output_type": "execute_result"
    }
   ],
   "source": [
    "# методом rename() приведем названия столбцов к более удобному виду, разделенных нижней чертой: \n",
    "df = df.rename(\n",
    "    columns={\n",
    "        'datecrawled': 'date_crawled',\n",
    "        'vehicletype' : 'vehicle_type',\n",
    "        'registrationyear' : 'registration_year',\n",
    "        'registrationmonth' : 'registration_month',\n",
    "        'fueltype' : 'fuel_type',\n",
    "        'notrepaired' : 'not_repaired', \n",
    "        'datecreated' : 'date_created',\n",
    "        'numberofpictures' : 'number_of_pictures',\n",
    "        'postalcode' : 'postal_code',\n",
    "        'lastseen' : 'last_seen'        \n",
    "   }\n",
    ")\n",
    "#проверим обновления:\n",
    "df.head()"
   ]
  },
  {
   "cell_type": "markdown",
   "metadata": {},
   "source": [
    "### Обработка пропусков"
   ]
  },
  {
   "cell_type": "code",
   "execution_count": 412,
   "metadata": {},
   "outputs": [
    {
     "data": {
      "text/plain": [
       "date_crawled              0\n",
       "price                     0\n",
       "vehicle_type          37490\n",
       "registration_year         0\n",
       "gearbox               19833\n",
       "power                     0\n",
       "model                 19705\n",
       "kilometer                 0\n",
       "registration_month        0\n",
       "fuel_type             32895\n",
       "brand                     0\n",
       "not_repaired          71154\n",
       "date_created              0\n",
       "number_of_pictures        0\n",
       "postal_code               0\n",
       "last_seen                 0\n",
       "dtype: int64"
      ]
     },
     "execution_count": 412,
     "metadata": {},
     "output_type": "execute_result"
    }
   ],
   "source": [
    "# Получим сведения о пропусках:\n",
    "df.isna().sum()"
   ]
  },
  {
   "cell_type": "markdown",
   "metadata": {},
   "source": [
    "Пропуски содержатся в столбцах с категориальными значениями - тип кузова, тип коробки передач, название модели, вид топлива, а также сведения о проведенном ремонте. Данные пропуски нельзя заменить на медианное или среднее значение. Однако, мы можем их заменить на значение моды, т.е. на самое распространённое. Для этого созданим небольшую функцию."
   ]
  },
  {
   "cell_type": "code",
   "execution_count": 413,
   "metadata": {},
   "outputs": [],
   "source": [
    "def popular(x):\n",
    "    mode = x.mode()\n",
    "    if len(mode) > 0:\n",
    "        return mode[0]"
   ]
  },
  {
   "cell_type": "code",
   "execution_count": 414,
   "metadata": {},
   "outputs": [],
   "source": [
    "# Сгруппируем датасет по столбцам бренда и цены:\n",
    "gb = df.groupby(['brand', 'price'])\n",
    "\n",
    "# Теперь заполним пропуски на полулярное значение методом transform(): \n",
    "df['model'] = df['model'].fillna(gb['model'].transform(popular))\n",
    "df['vehicle_type'] = df['vehicle_type'].fillna(gb['vehicle_type'].transform(popular))\n",
    "df['gearbox'] = df['gearbox'].fillna(gb['gearbox'].transform(popular))\n",
    "df['fuel_type'] = df['fuel_type'].fillna(gb['fuel_type'].transform(popular))\n",
    "df['not_repaired'] = df['not_repaired'].fillna(gb['not_repaired'].transform(popular))"
   ]
  },
  {
   "cell_type": "code",
   "execution_count": 415,
   "metadata": {},
   "outputs": [
    {
     "data": {
      "text/plain": [
       "date_crawled             0\n",
       "price                    0\n",
       "vehicle_type           938\n",
       "registration_year        0\n",
       "gearbox                712\n",
       "power                    0\n",
       "model                 3720\n",
       "kilometer                0\n",
       "registration_month       0\n",
       "fuel_type              862\n",
       "brand                    0\n",
       "not_repaired          2050\n",
       "date_created             0\n",
       "number_of_pictures       0\n",
       "postal_code              0\n",
       "last_seen                0\n",
       "dtype: int64"
      ]
     },
     "execution_count": 415,
     "metadata": {},
     "output_type": "execute_result"
    }
   ],
   "source": [
    "df.isna().sum()"
   ]
  },
  {
   "cell_type": "markdown",
   "metadata": {},
   "source": [
    "В столбцах остались пропуски, которые не получилось сгруппировать на ценам. В то же время, их количество некретично, поэтому можем их удалить методом dropna()"
   ]
  },
  {
   "cell_type": "code",
   "execution_count": 416,
   "metadata": {},
   "outputs": [
    {
     "data": {
      "text/plain": [
       "date_crawled          0\n",
       "price                 0\n",
       "vehicle_type          0\n",
       "registration_year     0\n",
       "gearbox               0\n",
       "power                 0\n",
       "model                 0\n",
       "kilometer             0\n",
       "registration_month    0\n",
       "fuel_type             0\n",
       "brand                 0\n",
       "not_repaired          0\n",
       "date_created          0\n",
       "number_of_pictures    0\n",
       "postal_code           0\n",
       "last_seen             0\n",
       "dtype: int64"
      ]
     },
     "execution_count": 416,
     "metadata": {},
     "output_type": "execute_result"
    }
   ],
   "source": [
    "#методом dropna() удалим сторочки с пропусками\n",
    "df.dropna(inplace=True)\n",
    "\n",
    "#Посмотрим еще раз, все ли пропуски удалены:\n",
    "df.isna().sum()"
   ]
  },
  {
   "cell_type": "markdown",
   "metadata": {},
   "source": [
    "### Подготовка признаков"
   ]
  },
  {
   "cell_type": "markdown",
   "metadata": {},
   "source": [
    "Перед началом обучения необходимо подготовить признаки (информация по опреденному параметру, т.е. в стобце). Как можно увидеть, в таблице присутствуют несколько столбцов с числовыми данными, которые для обучения нам не понадобяться."
   ]
  },
  {
   "cell_type": "code",
   "execution_count": 417,
   "metadata": {},
   "outputs": [
    {
     "data": {
      "text/html": [
       "<div>\n",
       "<style scoped>\n",
       "    .dataframe tbody tr th:only-of-type {\n",
       "        vertical-align: middle;\n",
       "    }\n",
       "\n",
       "    .dataframe tbody tr th {\n",
       "        vertical-align: top;\n",
       "    }\n",
       "\n",
       "    .dataframe thead th {\n",
       "        text-align: right;\n",
       "    }\n",
       "</style>\n",
       "<table border=\"1\" class=\"dataframe\">\n",
       "  <thead>\n",
       "    <tr style=\"text-align: right;\">\n",
       "      <th></th>\n",
       "      <th>price</th>\n",
       "      <th>vehicle_type</th>\n",
       "      <th>registration_year</th>\n",
       "      <th>gearbox</th>\n",
       "      <th>power</th>\n",
       "      <th>model</th>\n",
       "      <th>kilometer</th>\n",
       "      <th>fuel_type</th>\n",
       "      <th>brand</th>\n",
       "      <th>not_repaired</th>\n",
       "    </tr>\n",
       "  </thead>\n",
       "  <tbody>\n",
       "    <tr>\n",
       "      <th>0</th>\n",
       "      <td>480</td>\n",
       "      <td>small</td>\n",
       "      <td>1993</td>\n",
       "      <td>manual</td>\n",
       "      <td>0</td>\n",
       "      <td>golf</td>\n",
       "      <td>150000</td>\n",
       "      <td>petrol</td>\n",
       "      <td>volkswagen</td>\n",
       "      <td>no</td>\n",
       "    </tr>\n",
       "    <tr>\n",
       "      <th>1</th>\n",
       "      <td>18300</td>\n",
       "      <td>coupe</td>\n",
       "      <td>2011</td>\n",
       "      <td>manual</td>\n",
       "      <td>190</td>\n",
       "      <td>a6</td>\n",
       "      <td>125000</td>\n",
       "      <td>gasoline</td>\n",
       "      <td>audi</td>\n",
       "      <td>yes</td>\n",
       "    </tr>\n",
       "    <tr>\n",
       "      <th>3</th>\n",
       "      <td>1500</td>\n",
       "      <td>small</td>\n",
       "      <td>2001</td>\n",
       "      <td>manual</td>\n",
       "      <td>75</td>\n",
       "      <td>golf</td>\n",
       "      <td>150000</td>\n",
       "      <td>petrol</td>\n",
       "      <td>volkswagen</td>\n",
       "      <td>no</td>\n",
       "    </tr>\n",
       "    <tr>\n",
       "      <th>4</th>\n",
       "      <td>3600</td>\n",
       "      <td>small</td>\n",
       "      <td>2008</td>\n",
       "      <td>manual</td>\n",
       "      <td>69</td>\n",
       "      <td>fabia</td>\n",
       "      <td>90000</td>\n",
       "      <td>gasoline</td>\n",
       "      <td>skoda</td>\n",
       "      <td>no</td>\n",
       "    </tr>\n",
       "    <tr>\n",
       "      <th>5</th>\n",
       "      <td>650</td>\n",
       "      <td>sedan</td>\n",
       "      <td>1995</td>\n",
       "      <td>manual</td>\n",
       "      <td>102</td>\n",
       "      <td>3er</td>\n",
       "      <td>150000</td>\n",
       "      <td>petrol</td>\n",
       "      <td>bmw</td>\n",
       "      <td>yes</td>\n",
       "    </tr>\n",
       "  </tbody>\n",
       "</table>\n",
       "</div>"
      ],
      "text/plain": [
       "   price vehicle_type  registration_year gearbox  power  model  kilometer  \\\n",
       "0    480        small               1993  manual      0   golf     150000   \n",
       "1  18300        coupe               2011  manual    190     a6     125000   \n",
       "3   1500        small               2001  manual     75   golf     150000   \n",
       "4   3600        small               2008  manual     69  fabia      90000   \n",
       "5    650        sedan               1995  manual    102    3er     150000   \n",
       "\n",
       "  fuel_type       brand not_repaired  \n",
       "0    petrol  volkswagen           no  \n",
       "1  gasoline        audi          yes  \n",
       "3    petrol  volkswagen           no  \n",
       "4  gasoline       skoda           no  \n",
       "5    petrol         bmw          yes  "
      ]
     },
     "execution_count": 417,
     "metadata": {},
     "output_type": "execute_result"
    }
   ],
   "source": [
    "data = df.drop(['date_crawled', 'registration_month',\n",
    "               'date_created', 'number_of_pictures', 'postal_code', 'last_seen' ], axis=1).copy()\n",
    "data.head()"
   ]
  },
  {
   "cell_type": "code",
   "execution_count": 418,
   "metadata": {},
   "outputs": [
    {
     "data": {
      "text/plain": [
       "Text(0.5, 1.0, 'Распределение по ценам')"
      ]
     },
     "execution_count": 418,
     "metadata": {},
     "output_type": "execute_result"
    },
    {
     "data": {
      "image/svg+xml": [
       "<?xml version=\"1.0\" encoding=\"utf-8\" standalone=\"no\"?>\r\n",
       "<!DOCTYPE svg PUBLIC \"-//W3C//DTD SVG 1.1//EN\"\r\n",
       "  \"http://www.w3.org/Graphics/SVG/1.1/DTD/svg11.dtd\">\r\n",
       "<svg height=\"315.825pt\" version=\"1.1\" viewBox=\"0 0 602.1375 315.825\" width=\"602.1375pt\" xmlns=\"http://www.w3.org/2000/svg\" xmlns:xlink=\"http://www.w3.org/1999/xlink\">\r\n",
       " <metadata>\r\n",
       "  <rdf:RDF xmlns:cc=\"http://creativecommons.org/ns#\" xmlns:dc=\"http://purl.org/dc/elements/1.1/\" xmlns:rdf=\"http://www.w3.org/1999/02/22-rdf-syntax-ns#\">\r\n",
       "   <cc:Work>\r\n",
       "    <dc:type rdf:resource=\"http://purl.org/dc/dcmitype/StillImage\"/>\r\n",
       "    <dc:date>2022-01-14T21:02:43.789827</dc:date>\r\n",
       "    <dc:format>image/svg+xml</dc:format>\r\n",
       "    <dc:creator>\r\n",
       "     <cc:Agent>\r\n",
       "      <dc:title>Matplotlib v3.4.3, https://matplotlib.org/</dc:title>\r\n",
       "     </cc:Agent>\r\n",
       "    </dc:creator>\r\n",
       "   </cc:Work>\r\n",
       "  </rdf:RDF>\r\n",
       " </metadata>\r\n",
       " <defs>\r\n",
       "  <style type=\"text/css\">*{stroke-linecap:butt;stroke-linejoin:round;}</style>\r\n",
       " </defs>\r\n",
       " <g id=\"figure_1\">\r\n",
       "  <g id=\"patch_1\">\r\n",
       "   <path d=\"M 0 315.825 \r\n",
       "L 602.1375 315.825 \r\n",
       "L 602.1375 0 \r\n",
       "L 0 0 \r\n",
       "z\r\n",
       "\" style=\"fill:#ffffff;\"/>\r\n",
       "  </g>\r\n",
       "  <g id=\"axes_1\">\r\n",
       "   <g id=\"patch_2\">\r\n",
       "    <path d=\"M 36.9375 294 \r\n",
       "L 594.9375 294 \r\n",
       "L 594.9375 22.2 \r\n",
       "L 36.9375 22.2 \r\n",
       "z\r\n",
       "\" style=\"fill:#ffffff;\"/>\r\n",
       "   </g>\r\n",
       "   <g id=\"patch_3\">\r\n",
       "    <path clip-path=\"url(#pdccf6ef978)\" d=\"M 62.301136 294 \r\n",
       "L 64.8375 294 \r\n",
       "L 64.8375 35.142857 \r\n",
       "L 62.301136 35.142857 \r\n",
       "z\r\n",
       "\" style=\"fill:#0088ed;\"/>\r\n",
       "   </g>\r\n",
       "   <g id=\"patch_4\">\r\n",
       "    <path clip-path=\"url(#pdccf6ef978)\" d=\"M 64.8375 294 \r\n",
       "L 67.373864 294 \r\n",
       "L 67.373864 210.707425 \r\n",
       "L 64.8375 210.707425 \r\n",
       "z\r\n",
       "\" style=\"fill:#0088ed;\"/>\r\n",
       "   </g>\r\n",
       "   <g id=\"patch_5\">\r\n",
       "    <path clip-path=\"url(#pdccf6ef978)\" d=\"M 67.373864 294 \r\n",
       "L 69.910227 294 \r\n",
       "L 69.910227 177.564054 \r\n",
       "L 67.373864 177.564054 \r\n",
       "z\r\n",
       "\" style=\"fill:#0088ed;\"/>\r\n",
       "   </g>\r\n",
       "   <g id=\"patch_6\">\r\n",
       "    <path clip-path=\"url(#pdccf6ef978)\" d=\"M 69.910227 294 \r\n",
       "L 72.446591 294 \r\n",
       "L 72.446591 152.468274 \r\n",
       "L 69.910227 152.468274 \r\n",
       "z\r\n",
       "\" style=\"fill:#0088ed;\"/>\r\n",
       "   </g>\r\n",
       "   <g id=\"patch_7\">\r\n",
       "    <path clip-path=\"url(#pdccf6ef978)\" d=\"M 72.446591 294 \r\n",
       "L 74.982955 294 \r\n",
       "L 74.982955 169.43175 \r\n",
       "L 72.446591 169.43175 \r\n",
       "z\r\n",
       "\" style=\"fill:#0088ed;\"/>\r\n",
       "   </g>\r\n",
       "   <g id=\"patch_8\">\r\n",
       "    <path clip-path=\"url(#pdccf6ef978)\" d=\"M 74.982955 294 \r\n",
       "L 77.519318 294 \r\n",
       "L 77.519318 79.510501 \r\n",
       "L 74.982955 79.510501 \r\n",
       "z\r\n",
       "\" style=\"fill:#0088ed;\"/>\r\n",
       "   </g>\r\n",
       "   <g id=\"patch_9\">\r\n",
       "    <path clip-path=\"url(#pdccf6ef978)\" d=\"M 77.519318 294 \r\n",
       "L 80.055682 294 \r\n",
       "L 80.055682 104.521569 \r\n",
       "L 77.519318 104.521569 \r\n",
       "z\r\n",
       "\" style=\"fill:#0088ed;\"/>\r\n",
       "   </g>\r\n",
       "   <g id=\"patch_10\">\r\n",
       "    <path clip-path=\"url(#pdccf6ef978)\" d=\"M 80.055682 294 \r\n",
       "L 82.592045 294 \r\n",
       "L 82.592045 121.167378 \r\n",
       "L 80.055682 121.167378 \r\n",
       "z\r\n",
       "\" style=\"fill:#0088ed;\"/>\r\n",
       "   </g>\r\n",
       "   <g id=\"patch_11\">\r\n",
       "    <path clip-path=\"url(#pdccf6ef978)\" d=\"M 82.592045 294 \r\n",
       "L 85.128409 294 \r\n",
       "L 85.128409 110.006639 \r\n",
       "L 82.592045 110.006639 \r\n",
       "z\r\n",
       "\" style=\"fill:#0088ed;\"/>\r\n",
       "   </g>\r\n",
       "   <g id=\"patch_12\">\r\n",
       "    <path clip-path=\"url(#pdccf6ef978)\" d=\"M 85.128409 294 \r\n",
       "L 87.664773 294 \r\n",
       "L 87.664773 65.850773 \r\n",
       "L 85.128409 65.850773 \r\n",
       "z\r\n",
       "\" style=\"fill:#0088ed;\"/>\r\n",
       "   </g>\r\n",
       "   <g id=\"patch_13\">\r\n",
       "    <path clip-path=\"url(#pdccf6ef978)\" d=\"M 87.664773 294 \r\n",
       "L 90.201136 294 \r\n",
       "L 90.201136 169.43175 \r\n",
       "L 87.664773 169.43175 \r\n",
       "z\r\n",
       "\" style=\"fill:#0088ed;\"/>\r\n",
       "   </g>\r\n",
       "   <g id=\"patch_14\">\r\n",
       "    <path clip-path=\"url(#pdccf6ef978)\" d=\"M 90.201136 294 \r\n",
       "L 92.7375 294 \r\n",
       "L 92.7375 170.045909 \r\n",
       "L 90.201136 170.045909 \r\n",
       "z\r\n",
       "\" style=\"fill:#0088ed;\"/>\r\n",
       "   </g>\r\n",
       "   <g id=\"patch_15\">\r\n",
       "    <path clip-path=\"url(#pdccf6ef978)\" d=\"M 92.7375 294 \r\n",
       "L 95.273864 294 \r\n",
       "L 95.273864 112.336205 \r\n",
       "L 92.7375 112.336205 \r\n",
       "z\r\n",
       "\" style=\"fill:#0088ed;\"/>\r\n",
       "   </g>\r\n",
       "   <g id=\"patch_16\">\r\n",
       "    <path clip-path=\"url(#pdccf6ef978)\" d=\"M 95.273864 294 \r\n",
       "L 97.810227 294 \r\n",
       "L 97.810227 163.75608 \r\n",
       "L 95.273864 163.75608 \r\n",
       "z\r\n",
       "\" style=\"fill:#0088ed;\"/>\r\n",
       "   </g>\r\n",
       "   <g id=\"patch_17\">\r\n",
       "    <path clip-path=\"url(#pdccf6ef978)\" d=\"M 97.810227 294 \r\n",
       "L 100.346591 294 \r\n",
       "L 100.346591 162.252451 \r\n",
       "L 97.810227 162.252451 \r\n",
       "z\r\n",
       "\" style=\"fill:#0088ed;\"/>\r\n",
       "   </g>\r\n",
       "   <g id=\"patch_18\">\r\n",
       "    <path clip-path=\"url(#pdccf6ef978)\" d=\"M 100.346591 294 \r\n",
       "L 102.882955 294 \r\n",
       "L 102.882955 130.633887 \r\n",
       "L 100.346591 130.633887 \r\n",
       "z\r\n",
       "\" style=\"fill:#0088ed;\"/>\r\n",
       "   </g>\r\n",
       "   <g id=\"patch_19\">\r\n",
       "    <path clip-path=\"url(#pdccf6ef978)\" d=\"M 102.882955 294 \r\n",
       "L 105.419318 294 \r\n",
       "L 105.419318 178.178212 \r\n",
       "L 102.882955 178.178212 \r\n",
       "z\r\n",
       "\" style=\"fill:#0088ed;\"/>\r\n",
       "   </g>\r\n",
       "   <g id=\"patch_20\">\r\n",
       "    <path clip-path=\"url(#pdccf6ef978)\" d=\"M 105.419318 294 \r\n",
       "L 107.955682 294 \r\n",
       "L 107.955682 191.668517 \r\n",
       "L 105.419318 191.668517 \r\n",
       "z\r\n",
       "\" style=\"fill:#0088ed;\"/>\r\n",
       "   </g>\r\n",
       "   <g id=\"patch_21\">\r\n",
       "    <path clip-path=\"url(#pdccf6ef978)\" d=\"M 107.955682 294 \r\n",
       "L 110.492045 294 \r\n",
       "L 110.492045 179.78773 \r\n",
       "L 107.955682 179.78773 \r\n",
       "z\r\n",
       "\" style=\"fill:#0088ed;\"/>\r\n",
       "   </g>\r\n",
       "   <g id=\"patch_22\">\r\n",
       "    <path clip-path=\"url(#pdccf6ef978)\" d=\"M 110.492045 294 \r\n",
       "L 113.028409 294 \r\n",
       "L 113.028409 141.836982 \r\n",
       "L 110.492045 141.836982 \r\n",
       "z\r\n",
       "\" style=\"fill:#0088ed;\"/>\r\n",
       "   </g>\r\n",
       "   <g id=\"patch_23\">\r\n",
       "    <path clip-path=\"url(#pdccf6ef978)\" d=\"M 113.028409 294 \r\n",
       "L 115.564773 294 \r\n",
       "L 115.564773 214.519442 \r\n",
       "L 113.028409 214.519442 \r\n",
       "z\r\n",
       "\" style=\"fill:#0088ed;\"/>\r\n",
       "   </g>\r\n",
       "   <g id=\"patch_24\">\r\n",
       "    <path clip-path=\"url(#pdccf6ef978)\" d=\"M 115.564773 294 \r\n",
       "L 118.101136 294 \r\n",
       "L 118.101136 231.080539 \r\n",
       "L 115.564773 231.080539 \r\n",
       "z\r\n",
       "\" style=\"fill:#0088ed;\"/>\r\n",
       "   </g>\r\n",
       "   <g id=\"patch_25\">\r\n",
       "    <path clip-path=\"url(#pdccf6ef978)\" d=\"M 118.101136 294 \r\n",
       "L 120.6375 294 \r\n",
       "L 120.6375 190.906114 \r\n",
       "L 118.101136 190.906114 \r\n",
       "z\r\n",
       "\" style=\"fill:#0088ed;\"/>\r\n",
       "   </g>\r\n",
       "   <g id=\"patch_26\">\r\n",
       "    <path clip-path=\"url(#pdccf6ef978)\" d=\"M 120.6375 294 \r\n",
       "L 123.173864 294 \r\n",
       "L 123.173864 216.23485 \r\n",
       "L 120.6375 216.23485 \r\n",
       "z\r\n",
       "\" style=\"fill:#0088ed;\"/>\r\n",
       "   </g>\r\n",
       "   <g id=\"patch_27\">\r\n",
       "    <path clip-path=\"url(#pdccf6ef978)\" d=\"M 123.173864 294 \r\n",
       "L 125.710227 294 \r\n",
       "L 125.710227 204.459953 \r\n",
       "L 123.173864 204.459953 \r\n",
       "z\r\n",
       "\" style=\"fill:#0088ed;\"/>\r\n",
       "   </g>\r\n",
       "   <g id=\"patch_28\">\r\n",
       "    <path clip-path=\"url(#pdccf6ef978)\" d=\"M 125.710227 294 \r\n",
       "L 128.246591 294 \r\n",
       "L 128.246591 177.648765 \r\n",
       "L 125.710227 177.648765 \r\n",
       "z\r\n",
       "\" style=\"fill:#0088ed;\"/>\r\n",
       "   </g>\r\n",
       "   <g id=\"patch_29\">\r\n",
       "    <path clip-path=\"url(#pdccf6ef978)\" d=\"M 128.246591 294 \r\n",
       "L 130.782955 294 \r\n",
       "L 130.782955 224.811889 \r\n",
       "L 128.246591 224.811889 \r\n",
       "z\r\n",
       "\" style=\"fill:#0088ed;\"/>\r\n",
       "   </g>\r\n",
       "   <g id=\"patch_30\">\r\n",
       "    <path clip-path=\"url(#pdccf6ef978)\" d=\"M 130.782955 294 \r\n",
       "L 133.319318 294 \r\n",
       "L 133.319318 222.736457 \r\n",
       "L 130.782955 222.736457 \r\n",
       "z\r\n",
       "\" style=\"fill:#0088ed;\"/>\r\n",
       "   </g>\r\n",
       "   <g id=\"patch_31\">\r\n",
       "    <path clip-path=\"url(#pdccf6ef978)\" d=\"M 133.319318 294 \r\n",
       "L 135.855682 294 \r\n",
       "L 135.855682 217.166676 \r\n",
       "L 133.319318 217.166676 \r\n",
       "z\r\n",
       "\" style=\"fill:#0088ed;\"/>\r\n",
       "   </g>\r\n",
       "   <g id=\"patch_32\">\r\n",
       "    <path clip-path=\"url(#pdccf6ef978)\" d=\"M 135.855682 294 \r\n",
       "L 138.392045 294 \r\n",
       "L 138.392045 165.5562 \r\n",
       "L 135.855682 165.5562 \r\n",
       "z\r\n",
       "\" style=\"fill:#0088ed;\"/>\r\n",
       "   </g>\r\n",
       "   <g id=\"patch_33\">\r\n",
       "    <path clip-path=\"url(#pdccf6ef978)\" d=\"M 138.392045 294 \r\n",
       "L 140.928409 294 \r\n",
       "L 140.928409 232.96537 \r\n",
       "L 138.392045 232.96537 \r\n",
       "z\r\n",
       "\" style=\"fill:#0088ed;\"/>\r\n",
       "   </g>\r\n",
       "   <g id=\"patch_34\">\r\n",
       "    <path clip-path=\"url(#pdccf6ef978)\" d=\"M 140.928409 294 \r\n",
       "L 143.464773 294 \r\n",
       "L 143.464773 255.244492 \r\n",
       "L 140.928409 255.244492 \r\n",
       "z\r\n",
       "\" style=\"fill:#0088ed;\"/>\r\n",
       "   </g>\r\n",
       "   <g id=\"patch_35\">\r\n",
       "    <path clip-path=\"url(#pdccf6ef978)\" d=\"M 143.464773 294 \r\n",
       "L 146.001136 294 \r\n",
       "L 146.001136 221.275184 \r\n",
       "L 143.464773 221.275184 \r\n",
       "z\r\n",
       "\" style=\"fill:#0088ed;\"/>\r\n",
       "   </g>\r\n",
       "   <g id=\"patch_36\">\r\n",
       "    <path clip-path=\"url(#pdccf6ef978)\" d=\"M 146.001136 294 \r\n",
       "L 148.5375 294 \r\n",
       "L 148.5375 237.899814 \r\n",
       "L 146.001136 237.899814 \r\n",
       "z\r\n",
       "\" style=\"fill:#0088ed;\"/>\r\n",
       "   </g>\r\n",
       "   <g id=\"patch_37\">\r\n",
       "    <path clip-path=\"url(#pdccf6ef978)\" d=\"M 148.5375 294 \r\n",
       "L 151.073864 294 \r\n",
       "L 151.073864 233.876018 \r\n",
       "L 148.5375 233.876018 \r\n",
       "z\r\n",
       "\" style=\"fill:#0088ed;\"/>\r\n",
       "   </g>\r\n",
       "   <g id=\"patch_38\">\r\n",
       "    <path clip-path=\"url(#pdccf6ef978)\" d=\"M 151.073864 294 \r\n",
       "L 153.610227 294 \r\n",
       "L 153.610227 198.784283 \r\n",
       "L 151.073864 198.784283 \r\n",
       "z\r\n",
       "\" style=\"fill:#0088ed;\"/>\r\n",
       "   </g>\r\n",
       "   <g id=\"patch_39\">\r\n",
       "    <path clip-path=\"url(#pdccf6ef978)\" d=\"M 153.610227 294 \r\n",
       "L 156.146591 294 \r\n",
       "L 156.146591 246.243896 \r\n",
       "L 153.610227 246.243896 \r\n",
       "z\r\n",
       "\" style=\"fill:#0088ed;\"/>\r\n",
       "   </g>\r\n",
       "   <g id=\"patch_40\">\r\n",
       "    <path clip-path=\"url(#pdccf6ef978)\" d=\"M 156.146591 294 \r\n",
       "L 158.682955 294 \r\n",
       "L 158.682955 244.655556 \r\n",
       "L 156.146591 244.655556 \r\n",
       "z\r\n",
       "\" style=\"fill:#0088ed;\"/>\r\n",
       "   </g>\r\n",
       "   <g id=\"patch_41\">\r\n",
       "    <path clip-path=\"url(#pdccf6ef978)\" d=\"M 158.682955 294 \r\n",
       "L 161.219318 294 \r\n",
       "L 161.219318 236.459719 \r\n",
       "L 158.682955 236.459719 \r\n",
       "z\r\n",
       "\" style=\"fill:#0088ed;\"/>\r\n",
       "   </g>\r\n",
       "   <g id=\"patch_42\">\r\n",
       "    <path clip-path=\"url(#pdccf6ef978)\" d=\"M 161.219318 294 \r\n",
       "L 163.755682 294 \r\n",
       "L 163.755682 184.235084 \r\n",
       "L 161.219318 184.235084 \r\n",
       "z\r\n",
       "\" style=\"fill:#0088ed;\"/>\r\n",
       "   </g>\r\n",
       "   <g id=\"patch_43\">\r\n",
       "    <path clip-path=\"url(#pdccf6ef978)\" d=\"M 163.755682 294 \r\n",
       "L 166.292045 294 \r\n",
       "L 166.292045 251.390119 \r\n",
       "L 163.755682 251.390119 \r\n",
       "z\r\n",
       "\" style=\"fill:#0088ed;\"/>\r\n",
       "   </g>\r\n",
       "   <g id=\"patch_44\">\r\n",
       "    <path clip-path=\"url(#pdccf6ef978)\" d=\"M 166.292045 294 \r\n",
       "L 168.828409 294 \r\n",
       "L 168.828409 268.057105 \r\n",
       "L 166.292045 268.057105 \r\n",
       "z\r\n",
       "\" style=\"fill:#0088ed;\"/>\r\n",
       "   </g>\r\n",
       "   <g id=\"patch_45\">\r\n",
       "    <path clip-path=\"url(#pdccf6ef978)\" d=\"M 168.828409 294 \r\n",
       "L 171.364773 294 \r\n",
       "L 171.364773 237.560968 \r\n",
       "L 168.828409 237.560968 \r\n",
       "z\r\n",
       "\" style=\"fill:#0088ed;\"/>\r\n",
       "   </g>\r\n",
       "   <g id=\"patch_46\">\r\n",
       "    <path clip-path=\"url(#pdccf6ef978)\" d=\"M 171.364773 294 \r\n",
       "L 173.901136 294 \r\n",
       "L 173.901136 258.167039 \r\n",
       "L 171.364773 258.167039 \r\n",
       "z\r\n",
       "\" style=\"fill:#0088ed;\"/>\r\n",
       "   </g>\r\n",
       "   <g id=\"patch_47\">\r\n",
       "    <path clip-path=\"url(#pdccf6ef978)\" d=\"M 173.901136 294 \r\n",
       "L 176.4375 294 \r\n",
       "L 176.4375 249.547644 \r\n",
       "L 173.901136 249.547644 \r\n",
       "z\r\n",
       "\" style=\"fill:#0088ed;\"/>\r\n",
       "   </g>\r\n",
       "   <g id=\"patch_48\">\r\n",
       "    <path clip-path=\"url(#pdccf6ef978)\" d=\"M 176.4375 294 \r\n",
       "L 178.973864 294 \r\n",
       "L 178.973864 220.428069 \r\n",
       "L 176.4375 220.428069 \r\n",
       "z\r\n",
       "\" style=\"fill:#0088ed;\"/>\r\n",
       "   </g>\r\n",
       "   <g id=\"patch_49\">\r\n",
       "    <path clip-path=\"url(#pdccf6ef978)\" d=\"M 178.973864 294 \r\n",
       "L 181.510227 294 \r\n",
       "L 181.510227 266.108741 \r\n",
       "L 178.973864 266.108741 \r\n",
       "z\r\n",
       "\" style=\"fill:#0088ed;\"/>\r\n",
       "   </g>\r\n",
       "   <g id=\"patch_50\">\r\n",
       "    <path clip-path=\"url(#pdccf6ef978)\" d=\"M 181.510227 294 \r\n",
       "L 184.046591 294 \r\n",
       "L 184.046591 259.924802 \r\n",
       "L 181.510227 259.924802 \r\n",
       "z\r\n",
       "\" style=\"fill:#0088ed;\"/>\r\n",
       "   </g>\r\n",
       "   <g id=\"patch_51\">\r\n",
       "    <path clip-path=\"url(#pdccf6ef978)\" d=\"M 184.046591 294 \r\n",
       "L 186.582955 294 \r\n",
       "L 186.582955 253.317306 \r\n",
       "L 184.046591 253.317306 \r\n",
       "z\r\n",
       "\" style=\"fill:#0088ed;\"/>\r\n",
       "   </g>\r\n",
       "   <g id=\"patch_52\">\r\n",
       "    <path clip-path=\"url(#pdccf6ef978)\" d=\"M 186.582955 294 \r\n",
       "L 189.119318 294 \r\n",
       "L 189.119318 201.092671 \r\n",
       "L 186.582955 201.092671 \r\n",
       "z\r\n",
       "\" style=\"fill:#0088ed;\"/>\r\n",
       "   </g>\r\n",
       "   <g id=\"patch_53\">\r\n",
       "    <path clip-path=\"url(#pdccf6ef978)\" d=\"M 189.119318 294 \r\n",
       "L 191.655682 294 \r\n",
       "L 191.655682 256.493987 \r\n",
       "L 189.119318 256.493987 \r\n",
       "z\r\n",
       "\" style=\"fill:#0088ed;\"/>\r\n",
       "   </g>\r\n",
       "   <g id=\"patch_54\">\r\n",
       "    <path clip-path=\"url(#pdccf6ef978)\" d=\"M 191.655682 294 \r\n",
       "L 194.192045 294 \r\n",
       "L 194.192045 278.413085 \r\n",
       "L 191.655682 278.413085 \r\n",
       "z\r\n",
       "\" style=\"fill:#0088ed;\"/>\r\n",
       "   </g>\r\n",
       "   <g id=\"patch_55\">\r\n",
       "    <path clip-path=\"url(#pdccf6ef978)\" d=\"M 194.192045 294 \r\n",
       "L 196.728409 294 \r\n",
       "L 196.728409 255.943362 \r\n",
       "L 194.192045 255.943362 \r\n",
       "z\r\n",
       "\" style=\"fill:#0088ed;\"/>\r\n",
       "   </g>\r\n",
       "   <g id=\"patch_56\">\r\n",
       "    <path clip-path=\"url(#pdccf6ef978)\" d=\"M 196.728409 294 \r\n",
       "L 199.264773 294 \r\n",
       "L 199.264773 267.548837 \r\n",
       "L 196.728409 267.548837 \r\n",
       "z\r\n",
       "\" style=\"fill:#0088ed;\"/>\r\n",
       "   </g>\r\n",
       "   <g id=\"patch_57\">\r\n",
       "    <path clip-path=\"url(#pdccf6ef978)\" d=\"M 199.264773 294 \r\n",
       "L 201.801136 294 \r\n",
       "L 201.801136 260.390715 \r\n",
       "L 199.264773 260.390715 \r\n",
       "z\r\n",
       "\" style=\"fill:#0088ed;\"/>\r\n",
       "   </g>\r\n",
       "   <g id=\"patch_58\">\r\n",
       "    <path clip-path=\"url(#pdccf6ef978)\" d=\"M 201.801136 294 \r\n",
       "L 204.3375 294 \r\n",
       "L 204.3375 230.27578 \r\n",
       "L 201.801136 230.27578 \r\n",
       "z\r\n",
       "\" style=\"fill:#0088ed;\"/>\r\n",
       "   </g>\r\n",
       "   <g id=\"patch_59\">\r\n",
       "    <path clip-path=\"url(#pdccf6ef978)\" d=\"M 204.3375 294 \r\n",
       "L 206.873864 294 \r\n",
       "L 206.873864 271.763233 \r\n",
       "L 204.3375 271.763233 \r\n",
       "z\r\n",
       "\" style=\"fill:#0088ed;\"/>\r\n",
       "   </g>\r\n",
       "   <g id=\"patch_60\">\r\n",
       "    <path clip-path=\"url(#pdccf6ef978)\" d=\"M 206.873864 294 \r\n",
       "L 209.410227 294 \r\n",
       "L 209.410227 269.158355 \r\n",
       "L 206.873864 269.158355 \r\n",
       "z\r\n",
       "\" style=\"fill:#0088ed;\"/>\r\n",
       "   </g>\r\n",
       "   <g id=\"patch_61\">\r\n",
       "    <path clip-path=\"url(#pdccf6ef978)\" d=\"M 209.410227 294 \r\n",
       "L 211.946591 294 \r\n",
       "L 211.946591 261.004874 \r\n",
       "L 209.410227 261.004874 \r\n",
       "z\r\n",
       "\" style=\"fill:#0088ed;\"/>\r\n",
       "   </g>\r\n",
       "   <g id=\"patch_62\">\r\n",
       "    <path clip-path=\"url(#pdccf6ef978)\" d=\"M 211.946591 294 \r\n",
       "L 214.482955 294 \r\n",
       "L 214.482955 212.083987 \r\n",
       "L 211.946591 212.083987 \r\n",
       "z\r\n",
       "\" style=\"fill:#0088ed;\"/>\r\n",
       "   </g>\r\n",
       "   <g id=\"patch_63\">\r\n",
       "    <path clip-path=\"url(#pdccf6ef978)\" d=\"M 214.482955 294 \r\n",
       "L 217.019318 294 \r\n",
       "L 217.019318 261.703744 \r\n",
       "L 214.482955 261.703744 \r\n",
       "z\r\n",
       "\" style=\"fill:#0088ed;\"/>\r\n",
       "   </g>\r\n",
       "   <g id=\"patch_64\">\r\n",
       "    <path clip-path=\"url(#pdccf6ef978)\" d=\"M 217.019318 294 \r\n",
       "L 219.555682 294 \r\n",
       "L 219.555682 281.123853 \r\n",
       "L 217.019318 281.123853 \r\n",
       "z\r\n",
       "\" style=\"fill:#0088ed;\"/>\r\n",
       "   </g>\r\n",
       "   <g id=\"patch_65\">\r\n",
       "    <path clip-path=\"url(#pdccf6ef978)\" d=\"M 219.555682 294 \r\n",
       "L 222.092045 294 \r\n",
       "L 222.092045 261.153119 \r\n",
       "L 219.555682 261.153119 \r\n",
       "z\r\n",
       "\" style=\"fill:#0088ed;\"/>\r\n",
       "   </g>\r\n",
       "   <g id=\"patch_66\">\r\n",
       "    <path clip-path=\"url(#pdccf6ef978)\" d=\"M 222.092045 294 \r\n",
       "L 224.628409 294 \r\n",
       "L 224.628409 270.59845 \r\n",
       "L 222.092045 270.59845 \r\n",
       "z\r\n",
       "\" style=\"fill:#0088ed;\"/>\r\n",
       "   </g>\r\n",
       "   <g id=\"patch_67\">\r\n",
       "    <path clip-path=\"url(#pdccf6ef978)\" d=\"M 224.628409 294 \r\n",
       "L 227.164773 294 \r\n",
       "L 227.164773 262.826171 \r\n",
       "L 224.628409 262.826171 \r\n",
       "z\r\n",
       "\" style=\"fill:#0088ed;\"/>\r\n",
       "   </g>\r\n",
       "   <g id=\"patch_68\">\r\n",
       "    <path clip-path=\"url(#pdccf6ef978)\" d=\"M 227.164773 294 \r\n",
       "L 229.701136 294 \r\n",
       "L 229.701136 240.165847 \r\n",
       "L 227.164773 240.165847 \r\n",
       "z\r\n",
       "\" style=\"fill:#0088ed;\"/>\r\n",
       "   </g>\r\n",
       "   <g id=\"patch_69\">\r\n",
       "    <path clip-path=\"url(#pdccf6ef978)\" d=\"M 229.701136 294 \r\n",
       "L 232.2375 294 \r\n",
       "L 232.2375 277.142413 \r\n",
       "L 229.701136 277.142413 \r\n",
       "z\r\n",
       "\" style=\"fill:#0088ed;\"/>\r\n",
       "   </g>\r\n",
       "   <g id=\"patch_70\">\r\n",
       "    <path clip-path=\"url(#pdccf6ef978)\" d=\"M 232.2375 294 \r\n",
       "L 234.773864 294 \r\n",
       "L 234.773864 268.734797 \r\n",
       "L 232.2375 268.734797 \r\n",
       "z\r\n",
       "\" style=\"fill:#0088ed;\"/>\r\n",
       "   </g>\r\n",
       "   <g id=\"patch_71\">\r\n",
       "    <path clip-path=\"url(#pdccf6ef978)\" d=\"M 234.773864 294 \r\n",
       "L 237.310227 294 \r\n",
       "L 237.310227 267.125279 \r\n",
       "L 234.773864 267.125279 \r\n",
       "z\r\n",
       "\" style=\"fill:#0088ed;\"/>\r\n",
       "   </g>\r\n",
       "   <g id=\"patch_72\">\r\n",
       "    <path clip-path=\"url(#pdccf6ef978)\" d=\"M 237.310227 294 \r\n",
       "L 239.846591 294 \r\n",
       "L 239.846591 216.891364 \r\n",
       "L 237.310227 216.891364 \r\n",
       "z\r\n",
       "\" style=\"fill:#0088ed;\"/>\r\n",
       "   </g>\r\n",
       "   <g id=\"patch_73\">\r\n",
       "    <path clip-path=\"url(#pdccf6ef978)\" d=\"M 239.846591 294 \r\n",
       "L 242.382955 294 \r\n",
       "L 242.382955 268.967754 \r\n",
       "L 239.846591 268.967754 \r\n",
       "z\r\n",
       "\" style=\"fill:#0088ed;\"/>\r\n",
       "   </g>\r\n",
       "   <g id=\"patch_74\">\r\n",
       "    <path clip-path=\"url(#pdccf6ef978)\" d=\"M 242.382955 294 \r\n",
       "L 244.919318 294 \r\n",
       "L 244.919318 284.766447 \r\n",
       "L 242.382955 284.766447 \r\n",
       "z\r\n",
       "\" style=\"fill:#0088ed;\"/>\r\n",
       "   </g>\r\n",
       "   <g id=\"patch_75\">\r\n",
       "    <path clip-path=\"url(#pdccf6ef978)\" d=\"M 244.919318 294 \r\n",
       "L 247.455682 294 \r\n",
       "L 247.455682 267.421769 \r\n",
       "L 244.919318 267.421769 \r\n",
       "z\r\n",
       "\" style=\"fill:#0088ed;\"/>\r\n",
       "   </g>\r\n",
       "   <g id=\"patch_76\">\r\n",
       "    <path clip-path=\"url(#pdccf6ef978)\" d=\"M 247.455682 294 \r\n",
       "L 249.992045 294 \r\n",
       "L 249.992045 276.401187 \r\n",
       "L 247.455682 276.401187 \r\n",
       "z\r\n",
       "\" style=\"fill:#0088ed;\"/>\r\n",
       "   </g>\r\n",
       "   <g id=\"patch_77\">\r\n",
       "    <path clip-path=\"url(#pdccf6ef978)\" d=\"M 249.992045 294 \r\n",
       "L 252.528409 294 \r\n",
       "L 252.528409 266.638188 \r\n",
       "L 249.992045 266.638188 \r\n",
       "z\r\n",
       "\" style=\"fill:#0088ed;\"/>\r\n",
       "   </g>\r\n",
       "   <g id=\"patch_78\">\r\n",
       "    <path clip-path=\"url(#pdccf6ef978)\" d=\"M 252.528409 294 \r\n",
       "L 255.064773 294 \r\n",
       "L 255.064773 249.759423 \r\n",
       "L 252.528409 249.759423 \r\n",
       "z\r\n",
       "\" style=\"fill:#0088ed;\"/>\r\n",
       "   </g>\r\n",
       "   <g id=\"patch_79\">\r\n",
       "    <path clip-path=\"url(#pdccf6ef978)\" d=\"M 255.064773 294 \r\n",
       "L 257.601136 294 \r\n",
       "L 257.601136 280.933252 \r\n",
       "L 255.064773 280.933252 \r\n",
       "z\r\n",
       "\" style=\"fill:#0088ed;\"/>\r\n",
       "   </g>\r\n",
       "   <g id=\"patch_80\">\r\n",
       "    <path clip-path=\"url(#pdccf6ef978)\" d=\"M 257.601136 294 \r\n",
       "L 260.1375 294 \r\n",
       "L 260.1375 275.109337 \r\n",
       "L 257.601136 275.109337 \r\n",
       "z\r\n",
       "\" style=\"fill:#0088ed;\"/>\r\n",
       "   </g>\r\n",
       "   <g id=\"patch_81\">\r\n",
       "    <path clip-path=\"url(#pdccf6ef978)\" d=\"M 260.1375 294 \r\n",
       "L 262.673864 294 \r\n",
       "L 262.673864 269.984292 \r\n",
       "L 260.1375 269.984292 \r\n",
       "z\r\n",
       "\" style=\"fill:#0088ed;\"/>\r\n",
       "   </g>\r\n",
       "   <g id=\"patch_82\">\r\n",
       "    <path clip-path=\"url(#pdccf6ef978)\" d=\"M 262.673864 294 \r\n",
       "L 265.210227 294 \r\n",
       "L 265.210227 233.388927 \r\n",
       "L 262.673864 233.388927 \r\n",
       "z\r\n",
       "\" style=\"fill:#0088ed;\"/>\r\n",
       "   </g>\r\n",
       "   <g id=\"patch_83\">\r\n",
       "    <path clip-path=\"url(#pdccf6ef978)\" d=\"M 265.210227 294 \r\n",
       "L 267.746591 294 \r\n",
       "L 267.746591 269.687802 \r\n",
       "L 265.210227 269.687802 \r\n",
       "z\r\n",
       "\" style=\"fill:#0088ed;\"/>\r\n",
       "   </g>\r\n",
       "   <g id=\"patch_84\">\r\n",
       "    <path clip-path=\"url(#pdccf6ef978)\" d=\"M 267.746591 294 \r\n",
       "L 270.282955 294 \r\n",
       "L 270.282955 286.672456 \r\n",
       "L 267.746591 286.672456 \r\n",
       "z\r\n",
       "\" style=\"fill:#0088ed;\"/>\r\n",
       "   </g>\r\n",
       "   <g id=\"patch_85\">\r\n",
       "    <path clip-path=\"url(#pdccf6ef978)\" d=\"M 270.282955 294 \r\n",
       "L 272.819318 294 \r\n",
       "L 272.819318 273.881021 \r\n",
       "L 270.282955 273.881021 \r\n",
       "z\r\n",
       "\" style=\"fill:#0088ed;\"/>\r\n",
       "   </g>\r\n",
       "   <g id=\"patch_86\">\r\n",
       "    <path clip-path=\"url(#pdccf6ef978)\" d=\"M 272.819318 294 \r\n",
       "L 275.355682 294 \r\n",
       "L 275.355682 280.022604 \r\n",
       "L 272.819318 280.022604 \r\n",
       "z\r\n",
       "\" style=\"fill:#0088ed;\"/>\r\n",
       "   </g>\r\n",
       "   <g id=\"patch_87\">\r\n",
       "    <path clip-path=\"url(#pdccf6ef978)\" d=\"M 275.355682 294 \r\n",
       "L 277.892045 294 \r\n",
       "L 277.892045 270.174893 \r\n",
       "L 275.355682 270.174893 \r\n",
       "z\r\n",
       "\" style=\"fill:#0088ed;\"/>\r\n",
       "   </g>\r\n",
       "   <g id=\"patch_88\">\r\n",
       "    <path clip-path=\"url(#pdccf6ef978)\" d=\"M 277.892045 294 \r\n",
       "L 280.428409 294 \r\n",
       "L 280.428409 252.999638 \r\n",
       "L 277.892045 252.999638 \r\n",
       "z\r\n",
       "\" style=\"fill:#0088ed;\"/>\r\n",
       "   </g>\r\n",
       "   <g id=\"patch_89\">\r\n",
       "    <path clip-path=\"url(#pdccf6ef978)\" d=\"M 280.428409 294 \r\n",
       "L 282.964773 294 \r\n",
       "L 282.964773 282.415703 \r\n",
       "L 280.428409 282.415703 \r\n",
       "z\r\n",
       "\" style=\"fill:#0088ed;\"/>\r\n",
       "   </g>\r\n",
       "   <g id=\"patch_90\">\r\n",
       "    <path clip-path=\"url(#pdccf6ef978)\" d=\"M 282.964773 294 \r\n",
       "L 285.501136 294 \r\n",
       "L 285.501136 276.316476 \r\n",
       "L 282.964773 276.316476 \r\n",
       "z\r\n",
       "\" style=\"fill:#0088ed;\"/>\r\n",
       "   </g>\r\n",
       "   <g id=\"patch_91\">\r\n",
       "    <path clip-path=\"url(#pdccf6ef978)\" d=\"M 285.501136 294 \r\n",
       "L 288.0375 294 \r\n",
       "L 288.0375 276.210587 \r\n",
       "L 285.501136 276.210587 \r\n",
       "z\r\n",
       "\" style=\"fill:#0088ed;\"/>\r\n",
       "   </g>\r\n",
       "   <g id=\"patch_92\">\r\n",
       "    <path clip-path=\"url(#pdccf6ef978)\" d=\"M 288.0375 294 \r\n",
       "L 290.573864 294 \r\n",
       "L 290.573864 238.704573 \r\n",
       "L 288.0375 238.704573 \r\n",
       "z\r\n",
       "\" style=\"fill:#0088ed;\"/>\r\n",
       "   </g>\r\n",
       "   <g id=\"patch_93\">\r\n",
       "    <path clip-path=\"url(#pdccf6ef978)\" d=\"M 290.573864 294 \r\n",
       "L 293.110227 294 \r\n",
       "L 293.110227 274.622246 \r\n",
       "L 290.573864 274.622246 \r\n",
       "z\r\n",
       "\" style=\"fill:#0088ed;\"/>\r\n",
       "   </g>\r\n",
       "   <g id=\"patch_94\">\r\n",
       "    <path clip-path=\"url(#pdccf6ef978)\" d=\"M 293.110227 294 \r\n",
       "L 295.646591 294 \r\n",
       "L 295.646591 288.32433 \r\n",
       "L 293.110227 288.32433 \r\n",
       "z\r\n",
       "\" style=\"fill:#0088ed;\"/>\r\n",
       "   </g>\r\n",
       "   <g id=\"patch_95\">\r\n",
       "    <path clip-path=\"url(#pdccf6ef978)\" d=\"M 295.646591 294 \r\n",
       "L 298.182955 294 \r\n",
       "L 298.182955 277.608326 \r\n",
       "L 295.646591 277.608326 \r\n",
       "z\r\n",
       "\" style=\"fill:#0088ed;\"/>\r\n",
       "   </g>\r\n",
       "   <g id=\"patch_96\">\r\n",
       "    <path clip-path=\"url(#pdccf6ef978)\" d=\"M 298.182955 294 \r\n",
       "L 300.719318 294 \r\n",
       "L 300.719318 283.283996 \r\n",
       "L 298.182955 283.283996 \r\n",
       "z\r\n",
       "\" style=\"fill:#0088ed;\"/>\r\n",
       "   </g>\r\n",
       "   <g id=\"patch_97\">\r\n",
       "    <path clip-path=\"url(#pdccf6ef978)\" d=\"M 300.719318 294 \r\n",
       "L 303.255682 294 \r\n",
       "L 303.255682 277.883639 \r\n",
       "L 300.719318 277.883639 \r\n",
       "z\r\n",
       "\" style=\"fill:#0088ed;\"/>\r\n",
       "   </g>\r\n",
       "   <g id=\"patch_98\">\r\n",
       "    <path clip-path=\"url(#pdccf6ef978)\" d=\"M 303.255682 294 \r\n",
       "L 305.792045 294 \r\n",
       "L 305.792045 259.903624 \r\n",
       "L 303.255682 259.903624 \r\n",
       "z\r\n",
       "\" style=\"fill:#0088ed;\"/>\r\n",
       "   </g>\r\n",
       "   <g id=\"patch_99\">\r\n",
       "    <path clip-path=\"url(#pdccf6ef978)\" d=\"M 305.792045 294 \r\n",
       "L 308.328409 294 \r\n",
       "L 308.328409 286.03712 \r\n",
       "L 305.792045 286.03712 \r\n",
       "z\r\n",
       "\" style=\"fill:#0088ed;\"/>\r\n",
       "   </g>\r\n",
       "   <g id=\"patch_100\">\r\n",
       "    <path clip-path=\"url(#pdccf6ef978)\" d=\"M 308.328409 294 \r\n",
       "L 310.864773 294 \r\n",
       "L 310.864773 283.283996 \r\n",
       "L 308.328409 283.283996 \r\n",
       "z\r\n",
       "\" style=\"fill:#0088ed;\"/>\r\n",
       "   </g>\r\n",
       "   <g id=\"patch_101\">\r\n",
       "    <path clip-path=\"url(#pdccf6ef978)\" d=\"M 310.864773 294 \r\n",
       "L 313.401136 294 \r\n",
       "L 313.401136 276.994168 \r\n",
       "L 310.864773 276.994168 \r\n",
       "z\r\n",
       "\" style=\"fill:#0088ed;\"/>\r\n",
       "   </g>\r\n",
       "   <g id=\"patch_102\">\r\n",
       "    <path clip-path=\"url(#pdccf6ef978)\" d=\"M 313.401136 294 \r\n",
       "L 315.9375 294 \r\n",
       "L 315.9375 232.711235 \r\n",
       "L 313.401136 232.711235 \r\n",
       "z\r\n",
       "\" style=\"fill:#0088ed;\"/>\r\n",
       "   </g>\r\n",
       "   <g id=\"patch_103\">\r\n",
       "    <path clip-path=\"url(#pdccf6ef978)\" d=\"M 315.9375 294 \r\n",
       "L 318.473864 294 \r\n",
       "L 318.473864 275.172871 \r\n",
       "L 315.9375 275.172871 \r\n",
       "z\r\n",
       "\" style=\"fill:#0088ed;\"/>\r\n",
       "   </g>\r\n",
       "   <g id=\"patch_104\">\r\n",
       "    <path clip-path=\"url(#pdccf6ef978)\" d=\"M 318.473864 294 \r\n",
       "L 321.010227 294 \r\n",
       "L 321.010227 291.373944 \r\n",
       "L 318.473864 291.373944 \r\n",
       "z\r\n",
       "\" style=\"fill:#0088ed;\"/>\r\n",
       "   </g>\r\n",
       "   <g id=\"patch_105\">\r\n",
       "    <path clip-path=\"url(#pdccf6ef978)\" d=\"M 321.010227 294 \r\n",
       "L 323.546591 294 \r\n",
       "L 323.546591 286.354788 \r\n",
       "L 321.010227 286.354788 \r\n",
       "z\r\n",
       "\" style=\"fill:#0088ed;\"/>\r\n",
       "   </g>\r\n",
       "   <g id=\"patch_106\">\r\n",
       "    <path clip-path=\"url(#pdccf6ef978)\" d=\"M 323.546591 294 \r\n",
       "L 326.082955 294 \r\n",
       "L 326.082955 288.536109 \r\n",
       "L 323.546591 288.536109 \r\n",
       "z\r\n",
       "\" style=\"fill:#0088ed;\"/>\r\n",
       "   </g>\r\n",
       "   <g id=\"patch_107\">\r\n",
       "    <path clip-path=\"url(#pdccf6ef978)\" d=\"M 326.082955 294 \r\n",
       "L 328.619318 294 \r\n",
       "L 328.619318 280.509695 \r\n",
       "L 326.082955 280.509695 \r\n",
       "z\r\n",
       "\" style=\"fill:#0088ed;\"/>\r\n",
       "   </g>\r\n",
       "   <g id=\"patch_108\">\r\n",
       "    <path clip-path=\"url(#pdccf6ef978)\" d=\"M 328.619318 294 \r\n",
       "L 331.155682 294 \r\n",
       "L 331.155682 262.212012 \r\n",
       "L 328.619318 262.212012 \r\n",
       "z\r\n",
       "\" style=\"fill:#0088ed;\"/>\r\n",
       "   </g>\r\n",
       "   <g id=\"patch_109\">\r\n",
       "    <path clip-path=\"url(#pdccf6ef978)\" d=\"M 331.155682 294 \r\n",
       "L 333.692045 294 \r\n",
       "L 333.692045 289.065556 \r\n",
       "L 331.155682 289.065556 \r\n",
       "z\r\n",
       "\" style=\"fill:#0088ed;\"/>\r\n",
       "   </g>\r\n",
       "   <g id=\"patch_110\">\r\n",
       "    <path clip-path=\"url(#pdccf6ef978)\" d=\"M 333.692045 294 \r\n",
       "L 336.228409 294 \r\n",
       "L 336.228409 286.270076 \r\n",
       "L 333.692045 286.270076 \r\n",
       "z\r\n",
       "\" style=\"fill:#0088ed;\"/>\r\n",
       "   </g>\r\n",
       "   <g id=\"patch_111\">\r\n",
       "    <path clip-path=\"url(#pdccf6ef978)\" d=\"M 336.228409 294 \r\n",
       "L 338.764773 294 \r\n",
       "L 338.764773 282.860439 \r\n",
       "L 336.228409 282.860439 \r\n",
       "z\r\n",
       "\" style=\"fill:#0088ed;\"/>\r\n",
       "   </g>\r\n",
       "   <g id=\"patch_112\">\r\n",
       "    <path clip-path=\"url(#pdccf6ef978)\" d=\"M 338.764773 294 \r\n",
       "L 341.301136 294 \r\n",
       "L 341.301136 253.529085 \r\n",
       "L 338.764773 253.529085 \r\n",
       "z\r\n",
       "\" style=\"fill:#0088ed;\"/>\r\n",
       "   </g>\r\n",
       "   <g id=\"patch_113\">\r\n",
       "    <path clip-path=\"url(#pdccf6ef978)\" d=\"M 341.301136 294 \r\n",
       "L 343.8375 294 \r\n",
       "L 343.8375 277.56597 \r\n",
       "L 341.301136 277.56597 \r\n",
       "z\r\n",
       "\" style=\"fill:#0088ed;\"/>\r\n",
       "   </g>\r\n",
       "   <g id=\"patch_114\">\r\n",
       "    <path clip-path=\"url(#pdccf6ef978)\" d=\"M 343.8375 294 \r\n",
       "L 346.373864 294 \r\n",
       "L 346.373864 291.373944 \r\n",
       "L 343.8375 291.373944 \r\n",
       "z\r\n",
       "\" style=\"fill:#0088ed;\"/>\r\n",
       "   </g>\r\n",
       "   <g id=\"patch_115\">\r\n",
       "    <path clip-path=\"url(#pdccf6ef978)\" d=\"M 346.373864 294 \r\n",
       "L 348.910227 294 \r\n",
       "L 348.910227 286.185365 \r\n",
       "L 346.373864 286.185365 \r\n",
       "z\r\n",
       "\" style=\"fill:#0088ed;\"/>\r\n",
       "   </g>\r\n",
       "   <g id=\"patch_116\">\r\n",
       "    <path clip-path=\"url(#pdccf6ef978)\" d=\"M 348.910227 294 \r\n",
       "L 351.446591 294 \r\n",
       "L 351.446591 288.536109 \r\n",
       "L 348.910227 288.536109 \r\n",
       "z\r\n",
       "\" style=\"fill:#0088ed;\"/>\r\n",
       "   </g>\r\n",
       "   <g id=\"patch_117\">\r\n",
       "    <path clip-path=\"url(#pdccf6ef978)\" d=\"M 351.446591 294 \r\n",
       "L 353.982955 294 \r\n",
       "L 353.982955 282.373348 \r\n",
       "L 351.446591 282.373348 \r\n",
       "z\r\n",
       "\" style=\"fill:#0088ed;\"/>\r\n",
       "   </g>\r\n",
       "   <g id=\"patch_118\">\r\n",
       "    <path clip-path=\"url(#pdccf6ef978)\" d=\"M 353.982955 294 \r\n",
       "L 356.519318 294 \r\n",
       "L 356.519318 269.348956 \r\n",
       "L 353.982955 269.348956 \r\n",
       "z\r\n",
       "\" style=\"fill:#0088ed;\"/>\r\n",
       "   </g>\r\n",
       "   <g id=\"patch_119\">\r\n",
       "    <path clip-path=\"url(#pdccf6ef978)\" d=\"M 356.519318 294 \r\n",
       "L 359.055682 294 \r\n",
       "L 359.055682 289.976204 \r\n",
       "L 356.519318 289.976204 \r\n",
       "z\r\n",
       "\" style=\"fill:#0088ed;\"/>\r\n",
       "   </g>\r\n",
       "   <g id=\"patch_120\">\r\n",
       "    <path clip-path=\"url(#pdccf6ef978)\" d=\"M 359.055682 294 \r\n",
       "L 361.592045 294 \r\n",
       "L 361.592045 287.350148 \r\n",
       "L 359.055682 287.350148 \r\n",
       "z\r\n",
       "\" style=\"fill:#0088ed;\"/>\r\n",
       "   </g>\r\n",
       "   <g id=\"patch_121\">\r\n",
       "    <path clip-path=\"url(#pdccf6ef978)\" d=\"M 361.592045 294 \r\n",
       "L 364.128409 294 \r\n",
       "L 364.128409 284.872337 \r\n",
       "L 361.592045 284.872337 \r\n",
       "z\r\n",
       "\" style=\"fill:#0088ed;\"/>\r\n",
       "   </g>\r\n",
       "   <g id=\"patch_122\">\r\n",
       "    <path clip-path=\"url(#pdccf6ef978)\" d=\"M 364.128409 294 \r\n",
       "L 366.664773 294 \r\n",
       "L 366.664773 258.272928 \r\n",
       "L 364.128409 258.272928 \r\n",
       "z\r\n",
       "\" style=\"fill:#0088ed;\"/>\r\n",
       "   </g>\r\n",
       "   <g id=\"patch_123\">\r\n",
       "    <path clip-path=\"url(#pdccf6ef978)\" d=\"M 366.664773 294 \r\n",
       "L 369.201136 294 \r\n",
       "L 369.201136 278.37073 \r\n",
       "L 366.664773 278.37073 \r\n",
       "z\r\n",
       "\" style=\"fill:#0088ed;\"/>\r\n",
       "   </g>\r\n",
       "   <g id=\"patch_124\">\r\n",
       "    <path clip-path=\"url(#pdccf6ef978)\" d=\"M 369.201136 294 \r\n",
       "L 371.7375 294 \r\n",
       "L 371.7375 291.71279 \r\n",
       "L 369.201136 291.71279 \r\n",
       "z\r\n",
       "\" style=\"fill:#0088ed;\"/>\r\n",
       "   </g>\r\n",
       "   <g id=\"patch_125\">\r\n",
       "    <path clip-path=\"url(#pdccf6ef978)\" d=\"M 371.7375 294 \r\n",
       "L 374.273864 294 \r\n",
       "L 374.273864 286.714812 \r\n",
       "L 371.7375 286.714812 \r\n",
       "z\r\n",
       "\" style=\"fill:#0088ed;\"/>\r\n",
       "   </g>\r\n",
       "   <g id=\"patch_126\">\r\n",
       "    <path clip-path=\"url(#pdccf6ef978)\" d=\"M 374.273864 294 \r\n",
       "L 376.810227 294 \r\n",
       "L 376.810227 288.409042 \r\n",
       "L 374.273864 288.409042 \r\n",
       "z\r\n",
       "\" style=\"fill:#0088ed;\"/>\r\n",
       "   </g>\r\n",
       "   <g id=\"patch_127\">\r\n",
       "    <path clip-path=\"url(#pdccf6ef978)\" d=\"M 376.810227 294 \r\n",
       "L 379.346591 294 \r\n",
       "L 379.346591 281.992146 \r\n",
       "L 376.810227 281.992146 \r\n",
       "z\r\n",
       "\" style=\"fill:#0088ed;\"/>\r\n",
       "   </g>\r\n",
       "   <g id=\"patch_128\">\r\n",
       "    <path clip-path=\"url(#pdccf6ef978)\" d=\"M 379.346591 294 \r\n",
       "L 381.882955 294 \r\n",
       "L 381.882955 267.591192 \r\n",
       "L 379.346591 267.591192 \r\n",
       "z\r\n",
       "\" style=\"fill:#0088ed;\"/>\r\n",
       "   </g>\r\n",
       "   <g id=\"patch_129\">\r\n",
       "    <path clip-path=\"url(#pdccf6ef978)\" d=\"M 381.882955 294 \r\n",
       "L 384.419318 294 \r\n",
       "L 384.419318 289.870315 \r\n",
       "L 381.882955 289.870315 \r\n",
       "z\r\n",
       "\" style=\"fill:#0088ed;\"/>\r\n",
       "   </g>\r\n",
       "   <g id=\"patch_130\">\r\n",
       "    <path clip-path=\"url(#pdccf6ef978)\" d=\"M 384.419318 294 \r\n",
       "L 386.955682 294 \r\n",
       "L 386.955682 287.138369 \r\n",
       "L 384.419318 287.138369 \r\n",
       "z\r\n",
       "\" style=\"fill:#0088ed;\"/>\r\n",
       "   </g>\r\n",
       "   <g id=\"patch_131\">\r\n",
       "    <path clip-path=\"url(#pdccf6ef978)\" d=\"M 386.955682 294 \r\n",
       "L 389.492045 294 \r\n",
       "L 389.492045 283.749909 \r\n",
       "L 386.955682 283.749909 \r\n",
       "z\r\n",
       "\" style=\"fill:#0088ed;\"/>\r\n",
       "   </g>\r\n",
       "   <g id=\"patch_132\">\r\n",
       "    <path clip-path=\"url(#pdccf6ef978)\" d=\"M 389.492045 294 \r\n",
       "L 392.028409 294 \r\n",
       "L 392.028409 260.687206 \r\n",
       "L 389.492045 260.687206 \r\n",
       "z\r\n",
       "\" style=\"fill:#0088ed;\"/>\r\n",
       "   </g>\r\n",
       "   <g id=\"patch_133\">\r\n",
       "    <path clip-path=\"url(#pdccf6ef978)\" d=\"M 392.028409 294 \r\n",
       "L 394.564773 294 \r\n",
       "L 394.564773 281.420343 \r\n",
       "L 392.028409 281.420343 \r\n",
       "z\r\n",
       "\" style=\"fill:#0088ed;\"/>\r\n",
       "   </g>\r\n",
       "   <g id=\"patch_134\">\r\n",
       "    <path clip-path=\"url(#pdccf6ef978)\" d=\"M 394.564773 294 \r\n",
       "L 397.101136 294 \r\n",
       "L 397.101136 291.903391 \r\n",
       "L 394.564773 291.903391 \r\n",
       "z\r\n",
       "\" style=\"fill:#0088ed;\"/>\r\n",
       "   </g>\r\n",
       "   <g id=\"patch_135\">\r\n",
       "    <path clip-path=\"url(#pdccf6ef978)\" d=\"M 397.101136 294 \r\n",
       "L 399.6375 294 \r\n",
       "L 399.6375 286.990124 \r\n",
       "L 397.101136 286.990124 \r\n",
       "z\r\n",
       "\" style=\"fill:#0088ed;\"/>\r\n",
       "   </g>\r\n",
       "   <g id=\"patch_136\">\r\n",
       "    <path clip-path=\"url(#pdccf6ef978)\" d=\"M 399.6375 294 \r\n",
       "L 402.173864 294 \r\n",
       "L 402.173864 290.103271 \r\n",
       "L 399.6375 290.103271 \r\n",
       "z\r\n",
       "\" style=\"fill:#0088ed;\"/>\r\n",
       "   </g>\r\n",
       "   <g id=\"patch_137\">\r\n",
       "    <path clip-path=\"url(#pdccf6ef978)\" d=\"M 402.173864 294 \r\n",
       "L 404.710227 294 \r\n",
       "L 404.710227 284.025222 \r\n",
       "L 402.173864 284.025222 \r\n",
       "z\r\n",
       "\" style=\"fill:#0088ed;\"/>\r\n",
       "   </g>\r\n",
       "   <g id=\"patch_138\">\r\n",
       "    <path clip-path=\"url(#pdccf6ef978)\" d=\"M 404.710227 294 \r\n",
       "L 407.246591 294 \r\n",
       "L 407.246591 272.758593 \r\n",
       "L 404.710227 272.758593 \r\n",
       "z\r\n",
       "\" style=\"fill:#0088ed;\"/>\r\n",
       "   </g>\r\n",
       "   <g id=\"patch_139\">\r\n",
       "    <path clip-path=\"url(#pdccf6ef978)\" d=\"M 407.246591 294 \r\n",
       "L 409.782955 294 \r\n",
       "L 409.782955 290.738608 \r\n",
       "L 407.246591 290.738608 \r\n",
       "z\r\n",
       "\" style=\"fill:#0088ed;\"/>\r\n",
       "   </g>\r\n",
       "   <g id=\"patch_140\">\r\n",
       "    <path clip-path=\"url(#pdccf6ef978)\" d=\"M 409.782955 294 \r\n",
       "L 412.319318 294 \r\n",
       "L 412.319318 288.641998 \r\n",
       "L 409.782955 288.641998 \r\n",
       "z\r\n",
       "\" style=\"fill:#0088ed;\"/>\r\n",
       "   </g>\r\n",
       "   <g id=\"patch_141\">\r\n",
       "    <path clip-path=\"url(#pdccf6ef978)\" d=\"M 412.319318 294 \r\n",
       "L 414.855682 294 \r\n",
       "L 414.855682 286.100653 \r\n",
       "L 412.319318 286.100653 \r\n",
       "z\r\n",
       "\" style=\"fill:#0088ed;\"/>\r\n",
       "   </g>\r\n",
       "   <g id=\"patch_142\">\r\n",
       "    <path clip-path=\"url(#pdccf6ef978)\" d=\"M 414.855682 294 \r\n",
       "L 417.392045 294 \r\n",
       "L 417.392045 261.174297 \r\n",
       "L 414.855682 261.174297 \r\n",
       "z\r\n",
       "\" style=\"fill:#0088ed;\"/>\r\n",
       "   </g>\r\n",
       "   <g id=\"patch_143\">\r\n",
       "    <path clip-path=\"url(#pdccf6ef978)\" d=\"M 417.392045 294 \r\n",
       "L 419.928409 294 \r\n",
       "L 419.928409 282.796905 \r\n",
       "L 417.392045 282.796905 \r\n",
       "z\r\n",
       "\" style=\"fill:#0088ed;\"/>\r\n",
       "   </g>\r\n",
       "   <g id=\"patch_144\">\r\n",
       "    <path clip-path=\"url(#pdccf6ef978)\" d=\"M 419.928409 294 \r\n",
       "L 422.464773 294 \r\n",
       "L 422.464773 292.454015 \r\n",
       "L 419.928409 292.454015 \r\n",
       "z\r\n",
       "\" style=\"fill:#0088ed;\"/>\r\n",
       "   </g>\r\n",
       "   <g id=\"patch_145\">\r\n",
       "    <path clip-path=\"url(#pdccf6ef978)\" d=\"M 422.464773 294 \r\n",
       "L 425.001136 294 \r\n",
       "L 425.001136 287.498393 \r\n",
       "L 422.464773 287.498393 \r\n",
       "z\r\n",
       "\" style=\"fill:#0088ed;\"/>\r\n",
       "   </g>\r\n",
       "   <g id=\"patch_146\">\r\n",
       "    <path clip-path=\"url(#pdccf6ef978)\" d=\"M 425.001136 294 \r\n",
       "L 427.5375 294 \r\n",
       "L 427.5375 289.849137 \r\n",
       "L 425.001136 289.849137 \r\n",
       "z\r\n",
       "\" style=\"fill:#0088ed;\"/>\r\n",
       "   </g>\r\n",
       "   <g id=\"patch_147\">\r\n",
       "    <path clip-path=\"url(#pdccf6ef978)\" d=\"M 427.5375 294 \r\n",
       "L 430.073864 294 \r\n",
       "L 430.073864 286.757167 \r\n",
       "L 427.5375 286.757167 \r\n",
       "z\r\n",
       "\" style=\"fill:#0088ed;\"/>\r\n",
       "   </g>\r\n",
       "   <g id=\"patch_148\">\r\n",
       "    <path clip-path=\"url(#pdccf6ef978)\" d=\"M 430.073864 294 \r\n",
       "L 432.610227 294 \r\n",
       "L 432.610227 273.98691 \r\n",
       "L 430.073864 273.98691 \r\n",
       "z\r\n",
       "\" style=\"fill:#0088ed;\"/>\r\n",
       "   </g>\r\n",
       "   <g id=\"patch_149\">\r\n",
       "    <path clip-path=\"url(#pdccf6ef978)\" d=\"M 432.610227 294 \r\n",
       "L 435.146591 294 \r\n",
       "L 435.146591 290.780963 \r\n",
       "L 432.610227 290.780963 \r\n",
       "z\r\n",
       "\" style=\"fill:#0088ed;\"/>\r\n",
       "   </g>\r\n",
       "   <g id=\"patch_150\">\r\n",
       "    <path clip-path=\"url(#pdccf6ef978)\" d=\"M 435.146591 294 \r\n",
       "L 437.682955 294 \r\n",
       "L 437.682955 288.684354 \r\n",
       "L 435.146591 288.684354 \r\n",
       "z\r\n",
       "\" style=\"fill:#0088ed;\"/>\r\n",
       "   </g>\r\n",
       "   <g id=\"patch_151\">\r\n",
       "    <path clip-path=\"url(#pdccf6ef978)\" d=\"M 437.682955 294 \r\n",
       "L 440.219318 294 \r\n",
       "L 440.219318 286.905413 \r\n",
       "L 437.682955 286.905413 \r\n",
       "z\r\n",
       "\" style=\"fill:#0088ed;\"/>\r\n",
       "   </g>\r\n",
       "   <g id=\"patch_152\">\r\n",
       "    <path clip-path=\"url(#pdccf6ef978)\" d=\"M 440.219318 294 \r\n",
       "L 442.755682 294 \r\n",
       "L 442.755682 262.487325 \r\n",
       "L 440.219318 262.487325 \r\n",
       "z\r\n",
       "\" style=\"fill:#0088ed;\"/>\r\n",
       "   </g>\r\n",
       "   <g id=\"patch_153\">\r\n",
       "    <path clip-path=\"url(#pdccf6ef978)\" d=\"M 442.755682 294 \r\n",
       "L 445.292045 294 \r\n",
       "L 445.292045 281.377988 \r\n",
       "L 442.755682 281.377988 \r\n",
       "z\r\n",
       "\" style=\"fill:#0088ed;\"/>\r\n",
       "   </g>\r\n",
       "   <g id=\"patch_154\">\r\n",
       "    <path clip-path=\"url(#pdccf6ef978)\" d=\"M 445.292045 294 \r\n",
       "L 447.828409 294 \r\n",
       "L 447.828409 293.152885 \r\n",
       "L 445.292045 293.152885 \r\n",
       "z\r\n",
       "\" style=\"fill:#0088ed;\"/>\r\n",
       "   </g>\r\n",
       "   <g id=\"patch_155\">\r\n",
       "    <path clip-path=\"url(#pdccf6ef978)\" d=\"M 447.828409 294 \r\n",
       "L 450.364773 294 \r\n",
       "L 450.364773 289.404402 \r\n",
       "L 447.828409 289.404402 \r\n",
       "z\r\n",
       "\" style=\"fill:#0088ed;\"/>\r\n",
       "   </g>\r\n",
       "   <g id=\"patch_156\">\r\n",
       "    <path clip-path=\"url(#pdccf6ef978)\" d=\"M 450.364773 294 \r\n",
       "L 452.901136 294 \r\n",
       "L 452.901136 290.886853 \r\n",
       "L 450.364773 290.886853 \r\n",
       "z\r\n",
       "\" style=\"fill:#0088ed;\"/>\r\n",
       "   </g>\r\n",
       "   <g id=\"patch_157\">\r\n",
       "    <path clip-path=\"url(#pdccf6ef978)\" d=\"M 452.901136 294 \r\n",
       "L 455.4375 294 \r\n",
       "L 455.4375 286.418321 \r\n",
       "L 452.901136 286.418321 \r\n",
       "z\r\n",
       "\" style=\"fill:#0088ed;\"/>\r\n",
       "   </g>\r\n",
       "   <g id=\"patch_158\">\r\n",
       "    <path clip-path=\"url(#pdccf6ef978)\" d=\"M 455.4375 294 \r\n",
       "L 457.973864 294 \r\n",
       "L 457.973864 278.434263 \r\n",
       "L 455.4375 278.434263 \r\n",
       "z\r\n",
       "\" style=\"fill:#0088ed;\"/>\r\n",
       "   </g>\r\n",
       "   <g id=\"patch_159\">\r\n",
       "    <path clip-path=\"url(#pdccf6ef978)\" d=\"M 457.973864 294 \r\n",
       "L 460.510227 294 \r\n",
       "L 460.510227 290.950386 \r\n",
       "L 457.973864 290.950386 \r\n",
       "z\r\n",
       "\" style=\"fill:#0088ed;\"/>\r\n",
       "   </g>\r\n",
       "   <g id=\"patch_160\">\r\n",
       "    <path clip-path=\"url(#pdccf6ef978)\" d=\"M 460.510227 294 \r\n",
       "L 463.046591 294 \r\n",
       "L 463.046591 289.72207 \r\n",
       "L 460.510227 289.72207 \r\n",
       "z\r\n",
       "\" style=\"fill:#0088ed;\"/>\r\n",
       "   </g>\r\n",
       "   <g id=\"patch_161\">\r\n",
       "    <path clip-path=\"url(#pdccf6ef978)\" d=\"M 463.046591 294 \r\n",
       "L 465.582955 294 \r\n",
       "L 465.582955 287.879595 \r\n",
       "L 463.046591 287.879595 \r\n",
       "z\r\n",
       "\" style=\"fill:#0088ed;\"/>\r\n",
       "   </g>\r\n",
       "   <g id=\"patch_162\">\r\n",
       "    <path clip-path=\"url(#pdccf6ef978)\" d=\"M 465.582955 294 \r\n",
       "L 468.119318 294 \r\n",
       "L 468.119318 269.941936 \r\n",
       "L 465.582955 269.941936 \r\n",
       "z\r\n",
       "\" style=\"fill:#0088ed;\"/>\r\n",
       "   </g>\r\n",
       "   <g id=\"patch_163\">\r\n",
       "    <path clip-path=\"url(#pdccf6ef978)\" d=\"M 468.119318 294 \r\n",
       "L 470.655682 294 \r\n",
       "L 470.655682 286.820701 \r\n",
       "L 468.119318 286.820701 \r\n",
       "z\r\n",
       "\" style=\"fill:#0088ed;\"/>\r\n",
       "   </g>\r\n",
       "   <g id=\"patch_164\">\r\n",
       "    <path clip-path=\"url(#pdccf6ef978)\" d=\"M 470.655682 294 \r\n",
       "L 473.192045 294 \r\n",
       "L 473.192045 292.941106 \r\n",
       "L 470.655682 292.941106 \r\n",
       "z\r\n",
       "\" style=\"fill:#0088ed;\"/>\r\n",
       "   </g>\r\n",
       "   <g id=\"patch_165\">\r\n",
       "    <path clip-path=\"url(#pdccf6ef978)\" d=\"M 473.192045 294 \r\n",
       "L 475.728409 294 \r\n",
       "L 475.728409 289.595002 \r\n",
       "L 473.192045 289.595002 \r\n",
       "z\r\n",
       "\" style=\"fill:#0088ed;\"/>\r\n",
       "   </g>\r\n",
       "   <g id=\"patch_166\">\r\n",
       "    <path clip-path=\"url(#pdccf6ef978)\" d=\"M 475.728409 294 \r\n",
       "L 478.264773 294 \r\n",
       "L 478.264773 290.526829 \r\n",
       "L 475.728409 290.526829 \r\n",
       "z\r\n",
       "\" style=\"fill:#0088ed;\"/>\r\n",
       "   </g>\r\n",
       "   <g id=\"patch_167\">\r\n",
       "    <path clip-path=\"url(#pdccf6ef978)\" d=\"M 478.264773 294 \r\n",
       "L 480.801136 294 \r\n",
       "L 480.801136 287.223081 \r\n",
       "L 478.264773 287.223081 \r\n",
       "z\r\n",
       "\" style=\"fill:#0088ed;\"/>\r\n",
       "   </g>\r\n",
       "   <g id=\"patch_168\">\r\n",
       "    <path clip-path=\"url(#pdccf6ef978)\" d=\"M 480.801136 294 \r\n",
       "L 483.3375 294 \r\n",
       "L 483.3375 279.36609 \r\n",
       "L 480.801136 279.36609 \r\n",
       "z\r\n",
       "\" style=\"fill:#0088ed;\"/>\r\n",
       "   </g>\r\n",
       "   <g id=\"patch_169\">\r\n",
       "    <path clip-path=\"url(#pdccf6ef978)\" d=\"M 483.3375 294 \r\n",
       "L 485.873864 294 \r\n",
       "L 485.873864 292.093991 \r\n",
       "L 483.3375 292.093991 \r\n",
       "z\r\n",
       "\" style=\"fill:#0088ed;\"/>\r\n",
       "   </g>\r\n",
       "   <g id=\"patch_170\">\r\n",
       "    <path clip-path=\"url(#pdccf6ef978)\" d=\"M 485.873864 294 \r\n",
       "L 488.410227 294 \r\n",
       "L 488.410227 289.61618 \r\n",
       "L 485.873864 289.61618 \r\n",
       "z\r\n",
       "\" style=\"fill:#0088ed;\"/>\r\n",
       "   </g>\r\n",
       "   <g id=\"patch_171\">\r\n",
       "    <path clip-path=\"url(#pdccf6ef978)\" d=\"M 488.410227 294 \r\n",
       "L 490.946591 294 \r\n",
       "L 490.946591 287.561927 \r\n",
       "L 488.410227 287.561927 \r\n",
       "z\r\n",
       "\" style=\"fill:#0088ed;\"/>\r\n",
       "   </g>\r\n",
       "   <g id=\"patch_172\">\r\n",
       "    <path clip-path=\"url(#pdccf6ef978)\" d=\"M 490.946591 294 \r\n",
       "L 493.482955 294 \r\n",
       "L 493.482955 271.339676 \r\n",
       "L 490.946591 271.339676 \r\n",
       "z\r\n",
       "\" style=\"fill:#0088ed;\"/>\r\n",
       "   </g>\r\n",
       "   <g id=\"patch_173\">\r\n",
       "    <path clip-path=\"url(#pdccf6ef978)\" d=\"M 493.482955 294 \r\n",
       "L 496.019318 294 \r\n",
       "L 496.019318 287.773705 \r\n",
       "L 493.482955 287.773705 \r\n",
       "z\r\n",
       "\" style=\"fill:#0088ed;\"/>\r\n",
       "   </g>\r\n",
       "   <g id=\"patch_174\">\r\n",
       "    <path clip-path=\"url(#pdccf6ef978)\" d=\"M 496.019318 294 \r\n",
       "L 498.555682 294 \r\n",
       "L 498.555682 292.919928 \r\n",
       "L 496.019318 292.919928 \r\n",
       "z\r\n",
       "\" style=\"fill:#0088ed;\"/>\r\n",
       "   </g>\r\n",
       "   <g id=\"patch_175\">\r\n",
       "    <path clip-path=\"url(#pdccf6ef978)\" d=\"M 498.555682 294 \r\n",
       "L 501.092045 294 \r\n",
       "L 501.092045 290.103271 \r\n",
       "L 498.555682 290.103271 \r\n",
       "z\r\n",
       "\" style=\"fill:#0088ed;\"/>\r\n",
       "   </g>\r\n",
       "   <g id=\"patch_176\">\r\n",
       "    <path clip-path=\"url(#pdccf6ef978)\" d=\"M 501.092045 294 \r\n",
       "L 503.628409 294 \r\n",
       "L 503.628409 291.691612 \r\n",
       "L 501.092045 291.691612 \r\n",
       "z\r\n",
       "\" style=\"fill:#0088ed;\"/>\r\n",
       "   </g>\r\n",
       "   <g id=\"patch_177\">\r\n",
       "    <path clip-path=\"url(#pdccf6ef978)\" d=\"M 503.628409 294 \r\n",
       "L 506.164773 294 \r\n",
       "L 506.164773 287.583104 \r\n",
       "L 503.628409 287.583104 \r\n",
       "z\r\n",
       "\" style=\"fill:#0088ed;\"/>\r\n",
       "   </g>\r\n",
       "   <g id=\"patch_178\">\r\n",
       "    <path clip-path=\"url(#pdccf6ef978)\" d=\"M 506.164773 294 \r\n",
       "L 508.701136 294 \r\n",
       "L 508.701136 281.25092 \r\n",
       "L 506.164773 281.25092 \r\n",
       "z\r\n",
       "\" style=\"fill:#0088ed;\"/>\r\n",
       "   </g>\r\n",
       "   <g id=\"patch_179\">\r\n",
       "    <path clip-path=\"url(#pdccf6ef978)\" d=\"M 508.701136 294 \r\n",
       "L 511.2375 294 \r\n",
       "L 511.2375 292.644616 \r\n",
       "L 508.701136 292.644616 \r\n",
       "z\r\n",
       "\" style=\"fill:#0088ed;\"/>\r\n",
       "   </g>\r\n",
       "   <g id=\"patch_180\">\r\n",
       "    <path clip-path=\"url(#pdccf6ef978)\" d=\"M 511.2375 294 \r\n",
       "L 513.773864 294 \r\n",
       "L 513.773864 291.395122 \r\n",
       "L 511.2375 291.395122 \r\n",
       "z\r\n",
       "\" style=\"fill:#0088ed;\"/>\r\n",
       "   </g>\r\n",
       "   <g id=\"patch_181\">\r\n",
       "    <path clip-path=\"url(#pdccf6ef978)\" d=\"M 513.773864 294 \r\n",
       "L 516.310227 294 \r\n",
       "L 516.310227 288.72671 \r\n",
       "L 513.773864 288.72671 \r\n",
       "z\r\n",
       "\" style=\"fill:#0088ed;\"/>\r\n",
       "   </g>\r\n",
       "   <g id=\"patch_182\">\r\n",
       "    <path clip-path=\"url(#pdccf6ef978)\" d=\"M 516.310227 294 \r\n",
       "L 518.846591 294 \r\n",
       "L 518.846591 276.083519 \r\n",
       "L 516.310227 276.083519 \r\n",
       "z\r\n",
       "\" style=\"fill:#0088ed;\"/>\r\n",
       "   </g>\r\n",
       "   <g id=\"patch_183\">\r\n",
       "    <path clip-path=\"url(#pdccf6ef978)\" d=\"M 518.846591 294 \r\n",
       "L 521.382955 294 \r\n",
       "L 521.382955 287.667816 \r\n",
       "L 518.846591 287.667816 \r\n",
       "z\r\n",
       "\" style=\"fill:#0088ed;\"/>\r\n",
       "   </g>\r\n",
       "   <g id=\"patch_184\">\r\n",
       "    <path clip-path=\"url(#pdccf6ef978)\" d=\"M 521.382955 294 \r\n",
       "L 523.919318 294 \r\n",
       "L 523.919318 293.110529 \r\n",
       "L 521.382955 293.110529 \r\n",
       "z\r\n",
       "\" style=\"fill:#0088ed;\"/>\r\n",
       "   </g>\r\n",
       "   <g id=\"patch_185\">\r\n",
       "    <path clip-path=\"url(#pdccf6ef978)\" d=\"M 523.919318 294 \r\n",
       "L 526.455682 294 \r\n",
       "L 526.455682 291.225699 \r\n",
       "L 523.919318 291.225699 \r\n",
       "z\r\n",
       "\" style=\"fill:#0088ed;\"/>\r\n",
       "   </g>\r\n",
       "   <g id=\"patch_186\">\r\n",
       "    <path clip-path=\"url(#pdccf6ef978)\" d=\"M 526.455682 294 \r\n",
       "L 528.992045 294 \r\n",
       "L 528.992045 291.564545 \r\n",
       "L 526.455682 291.564545 \r\n",
       "z\r\n",
       "\" style=\"fill:#0088ed;\"/>\r\n",
       "   </g>\r\n",
       "   <g id=\"patch_187\">\r\n",
       "    <path clip-path=\"url(#pdccf6ef978)\" d=\"M 528.992045 294 \r\n",
       "L 531.528409 294 \r\n",
       "L 531.528409 289.510291 \r\n",
       "L 528.992045 289.510291 \r\n",
       "z\r\n",
       "\" style=\"fill:#0088ed;\"/>\r\n",
       "   </g>\r\n",
       "   <g id=\"patch_188\">\r\n",
       "    <path clip-path=\"url(#pdccf6ef978)\" d=\"M 531.528409 294 \r\n",
       "L 534.064773 294 \r\n",
       "L 534.064773 283.05104 \r\n",
       "L 531.528409 283.05104 \r\n",
       "z\r\n",
       "\" style=\"fill:#0088ed;\"/>\r\n",
       "   </g>\r\n",
       "   <g id=\"patch_189\">\r\n",
       "    <path clip-path=\"url(#pdccf6ef978)\" d=\"M 534.064773 294 \r\n",
       "L 536.601136 294 \r\n",
       "L 536.601136 292.41166 \r\n",
       "L 534.064773 292.41166 \r\n",
       "z\r\n",
       "\" style=\"fill:#0088ed;\"/>\r\n",
       "   </g>\r\n",
       "   <g id=\"patch_190\">\r\n",
       "    <path clip-path=\"url(#pdccf6ef978)\" d=\"M 536.601136 294 \r\n",
       "L 539.1375 294 \r\n",
       "L 539.1375 290.802141 \r\n",
       "L 536.601136 290.802141 \r\n",
       "z\r\n",
       "\" style=\"fill:#0088ed;\"/>\r\n",
       "   </g>\r\n",
       "   <g id=\"patch_191\">\r\n",
       "    <path clip-path=\"url(#pdccf6ef978)\" d=\"M 539.1375 294 \r\n",
       "L 541.673864 294 \r\n",
       "L 541.673864 290.484473 \r\n",
       "L 539.1375 290.484473 \r\n",
       "z\r\n",
       "\" style=\"fill:#0088ed;\"/>\r\n",
       "   </g>\r\n",
       "   <g id=\"patch_192\">\r\n",
       "    <path clip-path=\"url(#pdccf6ef978)\" d=\"M 541.673864 294 \r\n",
       "L 544.210227 294 \r\n",
       "L 544.210227 279.323734 \r\n",
       "L 541.673864 279.323734 \r\n",
       "z\r\n",
       "\" style=\"fill:#0088ed;\"/>\r\n",
       "   </g>\r\n",
       "   <g id=\"patch_193\">\r\n",
       "    <path clip-path=\"url(#pdccf6ef978)\" d=\"M 544.210227 294 \r\n",
       "L 546.746591 294 \r\n",
       "L 546.746591 289.129089 \r\n",
       "L 544.210227 289.129089 \r\n",
       "z\r\n",
       "\" style=\"fill:#0088ed;\"/>\r\n",
       "   </g>\r\n",
       "   <g id=\"patch_194\">\r\n",
       "    <path clip-path=\"url(#pdccf6ef978)\" d=\"M 546.746591 294 \r\n",
       "L 549.282955 294 \r\n",
       "L 549.282955 293.385842 \r\n",
       "L 546.746591 293.385842 \r\n",
       "z\r\n",
       "\" style=\"fill:#0088ed;\"/>\r\n",
       "   </g>\r\n",
       "   <g id=\"patch_195\">\r\n",
       "    <path clip-path=\"url(#pdccf6ef978)\" d=\"M 549.282955 294 \r\n",
       "L 551.819318 294 \r\n",
       "L 551.819318 291.71279 \r\n",
       "L 549.282955 291.71279 \r\n",
       "z\r\n",
       "\" style=\"fill:#0088ed;\"/>\r\n",
       "   </g>\r\n",
       "   <g id=\"patch_196\">\r\n",
       "    <path clip-path=\"url(#pdccf6ef978)\" d=\"M 551.819318 294 \r\n",
       "L 554.355682 294 \r\n",
       "L 554.355682 292.496371 \r\n",
       "L 551.819318 292.496371 \r\n",
       "z\r\n",
       "\" style=\"fill:#0088ed;\"/>\r\n",
       "   </g>\r\n",
       "   <g id=\"patch_197\">\r\n",
       "    <path clip-path=\"url(#pdccf6ef978)\" d=\"M 554.355682 294 \r\n",
       "L 556.892045 294 \r\n",
       "L 556.892045 290.71743 \r\n",
       "L 554.355682 290.71743 \r\n",
       "z\r\n",
       "\" style=\"fill:#0088ed;\"/>\r\n",
       "   </g>\r\n",
       "   <g id=\"patch_198\">\r\n",
       "    <path clip-path=\"url(#pdccf6ef978)\" d=\"M 556.892045 294 \r\n",
       "L 559.428409 294 \r\n",
       "L 559.428409 284.469957 \r\n",
       "L 556.892045 284.469957 \r\n",
       "z\r\n",
       "\" style=\"fill:#0088ed;\"/>\r\n",
       "   </g>\r\n",
       "   <g id=\"patch_199\">\r\n",
       "    <path clip-path=\"url(#pdccf6ef978)\" d=\"M 559.428409 294 \r\n",
       "L 561.964773 294 \r\n",
       "L 561.964773 292.559905 \r\n",
       "L 559.428409 292.559905 \r\n",
       "z\r\n",
       "\" style=\"fill:#0088ed;\"/>\r\n",
       "   </g>\r\n",
       "   <g id=\"patch_200\">\r\n",
       "    <path clip-path=\"url(#pdccf6ef978)\" d=\"M 561.964773 294 \r\n",
       "L 564.501136 294 \r\n",
       "L 564.501136 292.030458 \r\n",
       "L 561.964773 292.030458 \r\n",
       "z\r\n",
       "\" style=\"fill:#0088ed;\"/>\r\n",
       "   </g>\r\n",
       "   <g id=\"patch_201\">\r\n",
       "    <path clip-path=\"url(#pdccf6ef978)\" d=\"M 564.501136 294 \r\n",
       "L 567.0375 294 \r\n",
       "L 567.0375 290.399762 \r\n",
       "L 564.501136 290.399762 \r\n",
       "z\r\n",
       "\" style=\"fill:#0088ed;\"/>\r\n",
       "   </g>\r\n",
       "   <g id=\"patch_202\">\r\n",
       "    <path clip-path=\"url(#pdccf6ef978)\" d=\"M 567.0375 294 \r\n",
       "L 569.573864 294 \r\n",
       "L 569.573864 268.628908 \r\n",
       "L 567.0375 268.628908 \r\n",
       "z\r\n",
       "\" style=\"fill:#0088ed;\"/>\r\n",
       "   </g>\r\n",
       "   <g id=\"matplotlib.axis_1\">\r\n",
       "    <g id=\"xtick_1\">\r\n",
       "     <g id=\"line2d_1\">\r\n",
       "      <path clip-path=\"url(#pdccf6ef978)\" d=\"M 62.301136 294 \r\n",
       "L 62.301136 22.2 \r\n",
       "\" style=\"fill:none;stroke:#58544f;stroke-linecap:square;stroke-width:0.8;\"/>\r\n",
       "     </g>\r\n",
       "     <g id=\"line2d_2\">\r\n",
       "      <defs>\r\n",
       "       <path d=\"M 0 0 \r\n",
       "L 0 3.5 \r\n",
       "\" id=\"mce634636a3\" style=\"stroke:#58544f;stroke-width:0.8;\"/>\r\n",
       "      </defs>\r\n",
       "      <g>\r\n",
       "       <use style=\"fill:#58544f;stroke:#58544f;stroke-width:0.8;\" x=\"62.301136\" xlink:href=\"#mce634636a3\" y=\"294\"/>\r\n",
       "      </g>\r\n",
       "     </g>\r\n",
       "     <g id=\"text_1\">\r\n",
       "      <!-- 0 -->\r\n",
       "      <g style=\"fill:#58544f;\" transform=\"translate(60.027386 307)scale(0.08 -0.08)\">\r\n",
       "       <defs>\r\n",
       "        <path d=\"M 3306 1916 \r\n",
       "Q 3306 934 2939 435 \r\n",
       "Q 2572 -63 1822 -63 \r\n",
       "Q 1084 -63 711 423 \r\n",
       "Q 338 909 328 1863 \r\n",
       "L 328 2650 \r\n",
       "Q 328 3631 695 4122 \r\n",
       "Q 1063 4613 1816 4613 \r\n",
       "Q 2563 4613 2930 4134 \r\n",
       "Q 3297 3656 3306 2703 \r\n",
       "L 3306 1916 \r\n",
       "z\r\n",
       "M 2547 2766 \r\n",
       "Q 2547 3406 2372 3704 \r\n",
       "Q 2197 4003 1816 4003 \r\n",
       "Q 1444 4003 1269 3720 \r\n",
       "Q 1094 3438 1084 2838 \r\n",
       "L 1084 1806 \r\n",
       "Q 1084 1169 1262 856 \r\n",
       "Q 1441 544 1822 544 \r\n",
       "Q 2188 544 2363 833 \r\n",
       "Q 2538 1122 2547 1738 \r\n",
       "L 2547 2766 \r\n",
       "z\r\n",
       "\" id=\"Roboto-Medium-30\" transform=\"scale(0.015625)\"/>\r\n",
       "       </defs>\r\n",
       "       <use xlink:href=\"#Roboto-Medium-30\"/>\r\n",
       "      </g>\r\n",
       "     </g>\r\n",
       "    </g>\r\n",
       "    <g id=\"xtick_2\">\r\n",
       "     <g id=\"line2d_3\">\r\n",
       "      <path clip-path=\"url(#pdccf6ef978)\" d=\"M 125.710227 294 \r\n",
       "L 125.710227 22.2 \r\n",
       "\" style=\"fill:none;stroke:#58544f;stroke-linecap:square;stroke-width:0.8;\"/>\r\n",
       "     </g>\r\n",
       "     <g id=\"line2d_4\">\r\n",
       "      <g>\r\n",
       "       <use style=\"fill:#58544f;stroke:#58544f;stroke-width:0.8;\" x=\"125.710227\" xlink:href=\"#mce634636a3\" y=\"294\"/>\r\n",
       "      </g>\r\n",
       "     </g>\r\n",
       "     <g id=\"text_2\">\r\n",
       "      <!-- 2500 -->\r\n",
       "      <g style=\"fill:#58544f;\" transform=\"translate(116.615227 307)scale(0.08 -0.08)\">\r\n",
       "       <defs>\r\n",
       "        <path d=\"M 3400 0 \r\n",
       "L 341 0 \r\n",
       "L 341 522 \r\n",
       "L 1856 2175 \r\n",
       "Q 2184 2541 2323 2786 \r\n",
       "Q 2463 3031 2463 3278 \r\n",
       "Q 2463 3603 2280 3803 \r\n",
       "Q 2097 4003 1788 4003 \r\n",
       "Q 1419 4003 1216 3778 \r\n",
       "Q 1013 3553 1013 3163 \r\n",
       "L 253 3163 \r\n",
       "Q 253 3578 442 3911 \r\n",
       "Q 631 4244 982 4428 \r\n",
       "Q 1334 4613 1794 4613 \r\n",
       "Q 2456 4613 2839 4280 \r\n",
       "Q 3222 3947 3222 3359 \r\n",
       "Q 3222 3019 3030 2645 \r\n",
       "Q 2838 2272 2400 1797 \r\n",
       "L 1288 606 \r\n",
       "L 3400 606 \r\n",
       "L 3400 0 \r\n",
       "z\r\n",
       "\" id=\"Roboto-Medium-32\" transform=\"scale(0.015625)\"/>\r\n",
       "        <path d=\"M 544 2256 \r\n",
       "L 791 4550 \r\n",
       "L 3234 4550 \r\n",
       "L 3234 3894 \r\n",
       "L 1422 3894 \r\n",
       "L 1297 2806 \r\n",
       "Q 1613 2988 2009 2988 \r\n",
       "Q 2659 2988 3020 2572 \r\n",
       "Q 3381 2156 3381 1453 \r\n",
       "Q 3381 759 2981 348 \r\n",
       "Q 2581 -63 1884 -63 \r\n",
       "Q 1259 -63 848 292 \r\n",
       "Q 438 647 403 1228 \r\n",
       "L 1138 1228 \r\n",
       "Q 1181 897 1375 720 \r\n",
       "Q 1569 544 1881 544 \r\n",
       "Q 2231 544 2426 794 \r\n",
       "Q 2622 1044 2622 1475 \r\n",
       "Q 2622 1891 2406 2133 \r\n",
       "Q 2191 2375 1813 2375 \r\n",
       "Q 1606 2375 1462 2320 \r\n",
       "Q 1319 2266 1150 2106 \r\n",
       "L 544 2256 \r\n",
       "z\r\n",
       "\" id=\"Roboto-Medium-35\" transform=\"scale(0.015625)\"/>\r\n",
       "       </defs>\r\n",
       "       <use xlink:href=\"#Roboto-Medium-32\"/>\r\n",
       "       <use x=\"56.835938\" xlink:href=\"#Roboto-Medium-35\"/>\r\n",
       "       <use x=\"113.671875\" xlink:href=\"#Roboto-Medium-30\"/>\r\n",
       "       <use x=\"170.507812\" xlink:href=\"#Roboto-Medium-30\"/>\r\n",
       "      </g>\r\n",
       "     </g>\r\n",
       "    </g>\r\n",
       "    <g id=\"xtick_3\">\r\n",
       "     <g id=\"line2d_5\">\r\n",
       "      <path clip-path=\"url(#pdccf6ef978)\" d=\"M 189.119318 294 \r\n",
       "L 189.119318 22.2 \r\n",
       "\" style=\"fill:none;stroke:#58544f;stroke-linecap:square;stroke-width:0.8;\"/>\r\n",
       "     </g>\r\n",
       "     <g id=\"line2d_6\">\r\n",
       "      <g>\r\n",
       "       <use style=\"fill:#58544f;stroke:#58544f;stroke-width:0.8;\" x=\"189.119318\" xlink:href=\"#mce634636a3\" y=\"294\"/>\r\n",
       "      </g>\r\n",
       "     </g>\r\n",
       "     <g id=\"text_3\">\r\n",
       "      <!-- 5000 -->\r\n",
       "      <g style=\"fill:#58544f;\" transform=\"translate(180.024318 307)scale(0.08 -0.08)\">\r\n",
       "       <use xlink:href=\"#Roboto-Medium-35\"/>\r\n",
       "       <use x=\"56.835938\" xlink:href=\"#Roboto-Medium-30\"/>\r\n",
       "       <use x=\"113.671875\" xlink:href=\"#Roboto-Medium-30\"/>\r\n",
       "       <use x=\"170.507812\" xlink:href=\"#Roboto-Medium-30\"/>\r\n",
       "      </g>\r\n",
       "     </g>\r\n",
       "    </g>\r\n",
       "    <g id=\"xtick_4\">\r\n",
       "     <g id=\"line2d_7\">\r\n",
       "      <path clip-path=\"url(#pdccf6ef978)\" d=\"M 252.528409 294 \r\n",
       "L 252.528409 22.2 \r\n",
       "\" style=\"fill:none;stroke:#58544f;stroke-linecap:square;stroke-width:0.8;\"/>\r\n",
       "     </g>\r\n",
       "     <g id=\"line2d_8\">\r\n",
       "      <g>\r\n",
       "       <use style=\"fill:#58544f;stroke:#58544f;stroke-width:0.8;\" x=\"252.528409\" xlink:href=\"#mce634636a3\" y=\"294\"/>\r\n",
       "      </g>\r\n",
       "     </g>\r\n",
       "     <g id=\"text_4\">\r\n",
       "      <!-- 7500 -->\r\n",
       "      <g style=\"fill:#58544f;\" transform=\"translate(243.433409 307)scale(0.08 -0.08)\">\r\n",
       "       <defs>\r\n",
       "        <path d=\"M 3369 4128 \r\n",
       "L 1550 0 \r\n",
       "L 753 0 \r\n",
       "L 2569 3941 \r\n",
       "L 216 3941 \r\n",
       "L 216 4550 \r\n",
       "L 3369 4550 \r\n",
       "L 3369 4128 \r\n",
       "z\r\n",
       "\" id=\"Roboto-Medium-37\" transform=\"scale(0.015625)\"/>\r\n",
       "       </defs>\r\n",
       "       <use xlink:href=\"#Roboto-Medium-37\"/>\r\n",
       "       <use x=\"56.835938\" xlink:href=\"#Roboto-Medium-35\"/>\r\n",
       "       <use x=\"113.671875\" xlink:href=\"#Roboto-Medium-30\"/>\r\n",
       "       <use x=\"170.507812\" xlink:href=\"#Roboto-Medium-30\"/>\r\n",
       "      </g>\r\n",
       "     </g>\r\n",
       "    </g>\r\n",
       "    <g id=\"xtick_5\">\r\n",
       "     <g id=\"line2d_9\">\r\n",
       "      <path clip-path=\"url(#pdccf6ef978)\" d=\"M 315.9375 294 \r\n",
       "L 315.9375 22.2 \r\n",
       "\" style=\"fill:none;stroke:#58544f;stroke-linecap:square;stroke-width:0.8;\"/>\r\n",
       "     </g>\r\n",
       "     <g id=\"line2d_10\">\r\n",
       "      <g>\r\n",
       "       <use style=\"fill:#58544f;stroke:#58544f;stroke-width:0.8;\" x=\"315.9375\" xlink:href=\"#mce634636a3\" y=\"294\"/>\r\n",
       "      </g>\r\n",
       "     </g>\r\n",
       "     <g id=\"text_5\">\r\n",
       "      <!-- 10000 -->\r\n",
       "      <g style=\"fill:#58544f;\" transform=\"translate(304.56875 307)scale(0.08 -0.08)\">\r\n",
       "       <defs>\r\n",
       "        <path d=\"M 2397 0 \r\n",
       "L 1641 0 \r\n",
       "L 1641 3653 \r\n",
       "L 525 3272 \r\n",
       "L 525 3913 \r\n",
       "L 2300 4566 \r\n",
       "L 2397 4566 \r\n",
       "L 2397 0 \r\n",
       "z\r\n",
       "\" id=\"Roboto-Medium-31\" transform=\"scale(0.015625)\"/>\r\n",
       "       </defs>\r\n",
       "       <use xlink:href=\"#Roboto-Medium-31\"/>\r\n",
       "       <use x=\"56.835938\" xlink:href=\"#Roboto-Medium-30\"/>\r\n",
       "       <use x=\"113.671875\" xlink:href=\"#Roboto-Medium-30\"/>\r\n",
       "       <use x=\"170.507812\" xlink:href=\"#Roboto-Medium-30\"/>\r\n",
       "       <use x=\"227.34375\" xlink:href=\"#Roboto-Medium-30\"/>\r\n",
       "      </g>\r\n",
       "     </g>\r\n",
       "    </g>\r\n",
       "    <g id=\"xtick_6\">\r\n",
       "     <g id=\"line2d_11\">\r\n",
       "      <path clip-path=\"url(#pdccf6ef978)\" d=\"M 379.346591 294 \r\n",
       "L 379.346591 22.2 \r\n",
       "\" style=\"fill:none;stroke:#58544f;stroke-linecap:square;stroke-width:0.8;\"/>\r\n",
       "     </g>\r\n",
       "     <g id=\"line2d_12\">\r\n",
       "      <g>\r\n",
       "       <use style=\"fill:#58544f;stroke:#58544f;stroke-width:0.8;\" x=\"379.346591\" xlink:href=\"#mce634636a3\" y=\"294\"/>\r\n",
       "      </g>\r\n",
       "     </g>\r\n",
       "     <g id=\"text_6\">\r\n",
       "      <!-- 12500 -->\r\n",
       "      <g style=\"fill:#58544f;\" transform=\"translate(367.977841 307)scale(0.08 -0.08)\">\r\n",
       "       <use xlink:href=\"#Roboto-Medium-31\"/>\r\n",
       "       <use x=\"56.835938\" xlink:href=\"#Roboto-Medium-32\"/>\r\n",
       "       <use x=\"113.671875\" xlink:href=\"#Roboto-Medium-35\"/>\r\n",
       "       <use x=\"170.507812\" xlink:href=\"#Roboto-Medium-30\"/>\r\n",
       "       <use x=\"227.34375\" xlink:href=\"#Roboto-Medium-30\"/>\r\n",
       "      </g>\r\n",
       "     </g>\r\n",
       "    </g>\r\n",
       "    <g id=\"xtick_7\">\r\n",
       "     <g id=\"line2d_13\">\r\n",
       "      <path clip-path=\"url(#pdccf6ef978)\" d=\"M 442.755682 294 \r\n",
       "L 442.755682 22.2 \r\n",
       "\" style=\"fill:none;stroke:#58544f;stroke-linecap:square;stroke-width:0.8;\"/>\r\n",
       "     </g>\r\n",
       "     <g id=\"line2d_14\">\r\n",
       "      <g>\r\n",
       "       <use style=\"fill:#58544f;stroke:#58544f;stroke-width:0.8;\" x=\"442.755682\" xlink:href=\"#mce634636a3\" y=\"294\"/>\r\n",
       "      </g>\r\n",
       "     </g>\r\n",
       "     <g id=\"text_7\">\r\n",
       "      <!-- 15000 -->\r\n",
       "      <g style=\"fill:#58544f;\" transform=\"translate(431.386932 307)scale(0.08 -0.08)\">\r\n",
       "       <use xlink:href=\"#Roboto-Medium-31\"/>\r\n",
       "       <use x=\"56.835938\" xlink:href=\"#Roboto-Medium-35\"/>\r\n",
       "       <use x=\"113.671875\" xlink:href=\"#Roboto-Medium-30\"/>\r\n",
       "       <use x=\"170.507812\" xlink:href=\"#Roboto-Medium-30\"/>\r\n",
       "       <use x=\"227.34375\" xlink:href=\"#Roboto-Medium-30\"/>\r\n",
       "      </g>\r\n",
       "     </g>\r\n",
       "    </g>\r\n",
       "    <g id=\"xtick_8\">\r\n",
       "     <g id=\"line2d_15\">\r\n",
       "      <path clip-path=\"url(#pdccf6ef978)\" d=\"M 506.164773 294 \r\n",
       "L 506.164773 22.2 \r\n",
       "\" style=\"fill:none;stroke:#58544f;stroke-linecap:square;stroke-width:0.8;\"/>\r\n",
       "     </g>\r\n",
       "     <g id=\"line2d_16\">\r\n",
       "      <g>\r\n",
       "       <use style=\"fill:#58544f;stroke:#58544f;stroke-width:0.8;\" x=\"506.164773\" xlink:href=\"#mce634636a3\" y=\"294\"/>\r\n",
       "      </g>\r\n",
       "     </g>\r\n",
       "     <g id=\"text_8\">\r\n",
       "      <!-- 17500 -->\r\n",
       "      <g style=\"fill:#58544f;\" transform=\"translate(494.796023 307)scale(0.08 -0.08)\">\r\n",
       "       <use xlink:href=\"#Roboto-Medium-31\"/>\r\n",
       "       <use x=\"56.835938\" xlink:href=\"#Roboto-Medium-37\"/>\r\n",
       "       <use x=\"113.671875\" xlink:href=\"#Roboto-Medium-35\"/>\r\n",
       "       <use x=\"170.507812\" xlink:href=\"#Roboto-Medium-30\"/>\r\n",
       "       <use x=\"227.34375\" xlink:href=\"#Roboto-Medium-30\"/>\r\n",
       "      </g>\r\n",
       "     </g>\r\n",
       "    </g>\r\n",
       "    <g id=\"xtick_9\">\r\n",
       "     <g id=\"line2d_17\">\r\n",
       "      <path clip-path=\"url(#pdccf6ef978)\" d=\"M 569.573864 294 \r\n",
       "L 569.573864 22.2 \r\n",
       "\" style=\"fill:none;stroke:#58544f;stroke-linecap:square;stroke-width:0.8;\"/>\r\n",
       "     </g>\r\n",
       "     <g id=\"line2d_18\">\r\n",
       "      <g>\r\n",
       "       <use style=\"fill:#58544f;stroke:#58544f;stroke-width:0.8;\" x=\"569.573864\" xlink:href=\"#mce634636a3\" y=\"294\"/>\r\n",
       "      </g>\r\n",
       "     </g>\r\n",
       "     <g id=\"text_9\">\r\n",
       "      <!-- 20000 -->\r\n",
       "      <g style=\"fill:#58544f;\" transform=\"translate(558.205114 307)scale(0.08 -0.08)\">\r\n",
       "       <use xlink:href=\"#Roboto-Medium-32\"/>\r\n",
       "       <use x=\"56.835938\" xlink:href=\"#Roboto-Medium-30\"/>\r\n",
       "       <use x=\"113.671875\" xlink:href=\"#Roboto-Medium-30\"/>\r\n",
       "       <use x=\"170.507812\" xlink:href=\"#Roboto-Medium-30\"/>\r\n",
       "       <use x=\"227.34375\" xlink:href=\"#Roboto-Medium-30\"/>\r\n",
       "      </g>\r\n",
       "     </g>\r\n",
       "    </g>\r\n",
       "   </g>\r\n",
       "   <g id=\"matplotlib.axis_2\">\r\n",
       "    <g id=\"ytick_1\">\r\n",
       "     <g id=\"line2d_19\">\r\n",
       "      <path clip-path=\"url(#pdccf6ef978)\" d=\"M 36.9375 294 \r\n",
       "L 594.9375 294 \r\n",
       "\" style=\"fill:none;stroke:#58544f;stroke-linecap:square;stroke-width:0.8;\"/>\r\n",
       "     </g>\r\n",
       "     <g id=\"line2d_20\">\r\n",
       "      <defs>\r\n",
       "       <path d=\"M 0 0 \r\n",
       "L -3.5 0 \r\n",
       "\" id=\"mf7e9db997c\" style=\"stroke:#58544f;stroke-width:0.8;\"/>\r\n",
       "      </defs>\r\n",
       "      <g>\r\n",
       "       <use style=\"fill:#58544f;stroke:#58544f;stroke-width:0.8;\" x=\"36.9375\" xlink:href=\"#mf7e9db997c\" y=\"294\"/>\r\n",
       "      </g>\r\n",
       "     </g>\r\n",
       "     <g id=\"text_10\">\r\n",
       "      <!-- 0 -->\r\n",
       "      <g style=\"fill:#58544f;\" transform=\"translate(25.39 297)scale(0.08 -0.08)\">\r\n",
       "       <use xlink:href=\"#Roboto-Medium-30\"/>\r\n",
       "      </g>\r\n",
       "     </g>\r\n",
       "    </g>\r\n",
       "    <g id=\"ytick_2\">\r\n",
       "     <g id=\"line2d_21\">\r\n",
       "      <path clip-path=\"url(#pdccf6ef978)\" d=\"M 36.9375 251.644254 \r\n",
       "L 594.9375 251.644254 \r\n",
       "\" style=\"fill:none;stroke:#58544f;stroke-linecap:square;stroke-width:0.8;\"/>\r\n",
       "     </g>\r\n",
       "     <g id=\"line2d_22\">\r\n",
       "      <g>\r\n",
       "       <use style=\"fill:#58544f;stroke:#58544f;stroke-width:0.8;\" x=\"36.9375\" xlink:href=\"#mf7e9db997c\" y=\"251.644254\"/>\r\n",
       "      </g>\r\n",
       "     </g>\r\n",
       "     <g id=\"text_11\">\r\n",
       "      <!-- 2000 -->\r\n",
       "      <g style=\"fill:#58544f;\" transform=\"translate(11.7475 254.644254)scale(0.08 -0.08)\">\r\n",
       "       <use xlink:href=\"#Roboto-Medium-32\"/>\r\n",
       "       <use x=\"56.835938\" xlink:href=\"#Roboto-Medium-30\"/>\r\n",
       "       <use x=\"113.671875\" xlink:href=\"#Roboto-Medium-30\"/>\r\n",
       "       <use x=\"170.507812\" xlink:href=\"#Roboto-Medium-30\"/>\r\n",
       "      </g>\r\n",
       "     </g>\r\n",
       "    </g>\r\n",
       "    <g id=\"ytick_3\">\r\n",
       "     <g id=\"line2d_23\">\r\n",
       "      <path clip-path=\"url(#pdccf6ef978)\" d=\"M 36.9375 209.288508 \r\n",
       "L 594.9375 209.288508 \r\n",
       "\" style=\"fill:none;stroke:#58544f;stroke-linecap:square;stroke-width:0.8;\"/>\r\n",
       "     </g>\r\n",
       "     <g id=\"line2d_24\">\r\n",
       "      <g>\r\n",
       "       <use style=\"fill:#58544f;stroke:#58544f;stroke-width:0.8;\" x=\"36.9375\" xlink:href=\"#mf7e9db997c\" y=\"209.288508\"/>\r\n",
       "      </g>\r\n",
       "     </g>\r\n",
       "     <g id=\"text_12\">\r\n",
       "      <!-- 4000 -->\r\n",
       "      <g style=\"fill:#58544f;\" transform=\"translate(11.7475 212.288508)scale(0.08 -0.08)\">\r\n",
       "       <defs>\r\n",
       "        <path d=\"M 2909 1622 \r\n",
       "L 3475 1622 \r\n",
       "L 3475 1013 \r\n",
       "L 2909 1013 \r\n",
       "L 2909 0 \r\n",
       "L 2150 0 \r\n",
       "L 2150 1013 \r\n",
       "L 184 1013 \r\n",
       "L 163 1475 \r\n",
       "L 2125 4550 \r\n",
       "L 2909 4550 \r\n",
       "L 2909 1622 \r\n",
       "z\r\n",
       "M 959 1622 \r\n",
       "L 2150 1622 \r\n",
       "L 2150 3522 \r\n",
       "L 2094 3422 \r\n",
       "L 959 1622 \r\n",
       "z\r\n",
       "\" id=\"Roboto-Medium-34\" transform=\"scale(0.015625)\"/>\r\n",
       "       </defs>\r\n",
       "       <use xlink:href=\"#Roboto-Medium-34\"/>\r\n",
       "       <use x=\"56.835938\" xlink:href=\"#Roboto-Medium-30\"/>\r\n",
       "       <use x=\"113.671875\" xlink:href=\"#Roboto-Medium-30\"/>\r\n",
       "       <use x=\"170.507812\" xlink:href=\"#Roboto-Medium-30\"/>\r\n",
       "      </g>\r\n",
       "     </g>\r\n",
       "    </g>\r\n",
       "    <g id=\"ytick_4\">\r\n",
       "     <g id=\"line2d_25\">\r\n",
       "      <path clip-path=\"url(#pdccf6ef978)\" d=\"M 36.9375 166.932761 \r\n",
       "L 594.9375 166.932761 \r\n",
       "\" style=\"fill:none;stroke:#58544f;stroke-linecap:square;stroke-width:0.8;\"/>\r\n",
       "     </g>\r\n",
       "     <g id=\"line2d_26\">\r\n",
       "      <g>\r\n",
       "       <use style=\"fill:#58544f;stroke:#58544f;stroke-width:0.8;\" x=\"36.9375\" xlink:href=\"#mf7e9db997c\" y=\"166.932761\"/>\r\n",
       "      </g>\r\n",
       "     </g>\r\n",
       "     <g id=\"text_13\">\r\n",
       "      <!-- 6000 -->\r\n",
       "      <g style=\"fill:#58544f;\" transform=\"translate(11.7475 169.932761)scale(0.08 -0.08)\">\r\n",
       "       <defs>\r\n",
       "        <path d=\"M 2703 4572 \r\n",
       "L 2703 3944 \r\n",
       "L 2609 3944 \r\n",
       "Q 1972 3934 1590 3593 \r\n",
       "Q 1209 3253 1138 2628 \r\n",
       "Q 1503 3013 2072 3013 \r\n",
       "Q 2675 3013 3023 2588 \r\n",
       "Q 3372 2163 3372 1491 \r\n",
       "Q 3372 797 2964 367 \r\n",
       "Q 2556 -63 1894 -63 \r\n",
       "Q 1213 -63 789 440 \r\n",
       "Q 366 944 366 1759 \r\n",
       "L 366 2019 \r\n",
       "Q 366 3216 948 3894 \r\n",
       "Q 1531 4572 2625 4572 \r\n",
       "L 2703 4572 \r\n",
       "z\r\n",
       "M 1888 2400 \r\n",
       "Q 1638 2400 1430 2259 \r\n",
       "Q 1222 2119 1125 1884 \r\n",
       "L 1125 1653 \r\n",
       "Q 1125 1147 1337 848 \r\n",
       "Q 1550 550 1887 550 \r\n",
       "Q 2225 550 2422 803 \r\n",
       "Q 2619 1056 2619 1468 \r\n",
       "Q 2619 1881 2419 2140 \r\n",
       "Q 2219 2400 1888 2400 \r\n",
       "z\r\n",
       "\" id=\"Roboto-Medium-36\" transform=\"scale(0.015625)\"/>\r\n",
       "       </defs>\r\n",
       "       <use xlink:href=\"#Roboto-Medium-36\"/>\r\n",
       "       <use x=\"56.835938\" xlink:href=\"#Roboto-Medium-30\"/>\r\n",
       "       <use x=\"113.671875\" xlink:href=\"#Roboto-Medium-30\"/>\r\n",
       "       <use x=\"170.507812\" xlink:href=\"#Roboto-Medium-30\"/>\r\n",
       "      </g>\r\n",
       "     </g>\r\n",
       "    </g>\r\n",
       "    <g id=\"ytick_5\">\r\n",
       "     <g id=\"line2d_27\">\r\n",
       "      <path clip-path=\"url(#pdccf6ef978)\" d=\"M 36.9375 124.577015 \r\n",
       "L 594.9375 124.577015 \r\n",
       "\" style=\"fill:none;stroke:#58544f;stroke-linecap:square;stroke-width:0.8;\"/>\r\n",
       "     </g>\r\n",
       "     <g id=\"line2d_28\">\r\n",
       "      <g>\r\n",
       "       <use style=\"fill:#58544f;stroke:#58544f;stroke-width:0.8;\" x=\"36.9375\" xlink:href=\"#mf7e9db997c\" y=\"124.577015\"/>\r\n",
       "      </g>\r\n",
       "     </g>\r\n",
       "     <g id=\"text_14\">\r\n",
       "      <!-- 8000 -->\r\n",
       "      <g style=\"fill:#58544f;\" transform=\"translate(11.7475 127.577015)scale(0.08 -0.08)\">\r\n",
       "       <defs>\r\n",
       "        <path d=\"M 3206 3350 \r\n",
       "Q 3206 3016 3034 2755 \r\n",
       "Q 2863 2494 2566 2344 \r\n",
       "Q 2922 2178 3114 1890 \r\n",
       "Q 3306 1603 3306 1241 \r\n",
       "Q 3306 641 2900 289 \r\n",
       "Q 2494 -63 1819 -63 \r\n",
       "Q 1141 -63 733 290 \r\n",
       "Q 325 644 325 1241 \r\n",
       "Q 325 1606 519 1897 \r\n",
       "Q 713 2188 1063 2344 \r\n",
       "Q 769 2494 598 2755 \r\n",
       "Q 428 3016 428 3350 \r\n",
       "Q 428 3931 803 4272 \r\n",
       "Q 1178 4613 1816 4613 \r\n",
       "Q 2456 4613 2831 4272 \r\n",
       "Q 3206 3931 3206 3350 \r\n",
       "z\r\n",
       "M 2547 1278 \r\n",
       "Q 2547 1616 2345 1823 \r\n",
       "Q 2144 2031 1812 2031 \r\n",
       "Q 1481 2031 1282 1825 \r\n",
       "Q 1084 1619 1084 1278 \r\n",
       "Q 1084 944 1279 744 \r\n",
       "Q 1475 544 1819 544 \r\n",
       "Q 2163 544 2355 737 \r\n",
       "Q 2547 931 2547 1278 \r\n",
       "z\r\n",
       "M 2450 3322 \r\n",
       "Q 2450 3619 2278 3811 \r\n",
       "Q 2106 4003 1815 4003 \r\n",
       "Q 1525 4003 1356 3820 \r\n",
       "Q 1188 3638 1188 3322 \r\n",
       "Q 1188 3009 1358 2825 \r\n",
       "Q 1528 2641 1818 2641 \r\n",
       "Q 2109 2641 2279 2825 \r\n",
       "Q 2450 3009 2450 3322 \r\n",
       "z\r\n",
       "\" id=\"Roboto-Medium-38\" transform=\"scale(0.015625)\"/>\r\n",
       "       </defs>\r\n",
       "       <use xlink:href=\"#Roboto-Medium-38\"/>\r\n",
       "       <use x=\"56.835938\" xlink:href=\"#Roboto-Medium-30\"/>\r\n",
       "       <use x=\"113.671875\" xlink:href=\"#Roboto-Medium-30\"/>\r\n",
       "       <use x=\"170.507812\" xlink:href=\"#Roboto-Medium-30\"/>\r\n",
       "      </g>\r\n",
       "     </g>\r\n",
       "    </g>\r\n",
       "    <g id=\"ytick_6\">\r\n",
       "     <g id=\"line2d_29\">\r\n",
       "      <path clip-path=\"url(#pdccf6ef978)\" d=\"M 36.9375 82.221269 \r\n",
       "L 594.9375 82.221269 \r\n",
       "\" style=\"fill:none;stroke:#58544f;stroke-linecap:square;stroke-width:0.8;\"/>\r\n",
       "     </g>\r\n",
       "     <g id=\"line2d_30\">\r\n",
       "      <g>\r\n",
       "       <use style=\"fill:#58544f;stroke:#58544f;stroke-width:0.8;\" x=\"36.9375\" xlink:href=\"#mf7e9db997c\" y=\"82.221269\"/>\r\n",
       "      </g>\r\n",
       "     </g>\r\n",
       "     <g id=\"text_15\">\r\n",
       "      <!-- 10000 -->\r\n",
       "      <g style=\"fill:#58544f;\" transform=\"translate(7.2 85.221269)scale(0.08 -0.08)\">\r\n",
       "       <use xlink:href=\"#Roboto-Medium-31\"/>\r\n",
       "       <use x=\"56.835938\" xlink:href=\"#Roboto-Medium-30\"/>\r\n",
       "       <use x=\"113.671875\" xlink:href=\"#Roboto-Medium-30\"/>\r\n",
       "       <use x=\"170.507812\" xlink:href=\"#Roboto-Medium-30\"/>\r\n",
       "       <use x=\"227.34375\" xlink:href=\"#Roboto-Medium-30\"/>\r\n",
       "      </g>\r\n",
       "     </g>\r\n",
       "    </g>\r\n",
       "    <g id=\"ytick_7\">\r\n",
       "     <g id=\"line2d_31\">\r\n",
       "      <path clip-path=\"url(#pdccf6ef978)\" d=\"M 36.9375 39.865523 \r\n",
       "L 594.9375 39.865523 \r\n",
       "\" style=\"fill:none;stroke:#58544f;stroke-linecap:square;stroke-width:0.8;\"/>\r\n",
       "     </g>\r\n",
       "     <g id=\"line2d_32\">\r\n",
       "      <g>\r\n",
       "       <use style=\"fill:#58544f;stroke:#58544f;stroke-width:0.8;\" x=\"36.9375\" xlink:href=\"#mf7e9db997c\" y=\"39.865523\"/>\r\n",
       "      </g>\r\n",
       "     </g>\r\n",
       "     <g id=\"text_16\">\r\n",
       "      <!-- 12000 -->\r\n",
       "      <g style=\"fill:#58544f;\" transform=\"translate(7.2 42.865523)scale(0.08 -0.08)\">\r\n",
       "       <use xlink:href=\"#Roboto-Medium-31\"/>\r\n",
       "       <use x=\"56.835938\" xlink:href=\"#Roboto-Medium-32\"/>\r\n",
       "       <use x=\"113.671875\" xlink:href=\"#Roboto-Medium-30\"/>\r\n",
       "       <use x=\"170.507812\" xlink:href=\"#Roboto-Medium-30\"/>\r\n",
       "       <use x=\"227.34375\" xlink:href=\"#Roboto-Medium-30\"/>\r\n",
       "      </g>\r\n",
       "     </g>\r\n",
       "    </g>\r\n",
       "   </g>\r\n",
       "   <g id=\"patch_203\">\r\n",
       "    <path d=\"M 36.9375 294 \r\n",
       "L 36.9375 22.2 \r\n",
       "\" style=\"fill:none;stroke:#58544f;stroke-linecap:square;stroke-linejoin:miter;stroke-width:0.8;\"/>\r\n",
       "   </g>\r\n",
       "   <g id=\"patch_204\">\r\n",
       "    <path d=\"M 594.9375 294 \r\n",
       "L 594.9375 22.2 \r\n",
       "\" style=\"fill:none;stroke:#58544f;stroke-linecap:square;stroke-linejoin:miter;stroke-width:0.8;\"/>\r\n",
       "   </g>\r\n",
       "   <g id=\"patch_205\">\r\n",
       "    <path d=\"M 36.9375 294 \r\n",
       "L 594.9375 294 \r\n",
       "\" style=\"fill:none;stroke:#58544f;stroke-linecap:square;stroke-linejoin:miter;stroke-width:0.8;\"/>\r\n",
       "   </g>\r\n",
       "   <g id=\"patch_206\">\r\n",
       "    <path d=\"M 36.9375 22.2 \r\n",
       "L 594.9375 22.2 \r\n",
       "\" style=\"fill:none;stroke:#58544f;stroke-linecap:square;stroke-linejoin:miter;stroke-width:0.8;\"/>\r\n",
       "   </g>\r\n",
       "   <g id=\"text_17\">\r\n",
       "    <!-- Распределение по ценам -->\r\n",
       "    <g transform=\"translate(244.069687 16.2)scale(0.12 -0.12)\">\r\n",
       "     <defs>\r\n",
       "      <path d=\"M 1253 1691 \r\n",
       "L 1253 0 \r\n",
       "L 463 0 \r\n",
       "L 463 4550 \r\n",
       "L 2203 4550 \r\n",
       "Q 2966 4550 3414 4153 \r\n",
       "Q 3863 3756 3863 3103 \r\n",
       "Q 3863 2434 3423 2062 \r\n",
       "Q 2984 1691 2194 1691 \r\n",
       "L 1253 1691 \r\n",
       "z\r\n",
       "M 1253 2325 \r\n",
       "L 2203 2325 \r\n",
       "Q 2625 2325 2847 2523 \r\n",
       "Q 3069 2722 3069 3097 \r\n",
       "Q 3069 3466 2844 3686 \r\n",
       "Q 2619 3906 2225 3913 \r\n",
       "L 1253 3913 \r\n",
       "L 1253 2325 \r\n",
       "z\r\n",
       "\" id=\"Roboto-Medium-420\" transform=\"scale(0.015625)\"/>\r\n",
       "      <path d=\"M 2409 0 \r\n",
       "Q 2359 97 2322 316 \r\n",
       "Q 1959 -63 1434 -63 \r\n",
       "Q 925 -63 603 228 \r\n",
       "Q 281 519 281 947 \r\n",
       "Q 281 1488 682 1777 \r\n",
       "Q 1084 2066 1831 2066 \r\n",
       "L 2297 2066 \r\n",
       "L 2297 2288 \r\n",
       "Q 2297 2550 2150 2708 \r\n",
       "Q 2003 2866 1703 2866 \r\n",
       "Q 1444 2866 1278 2736 \r\n",
       "Q 1113 2606 1113 2406 \r\n",
       "L 353 2406 \r\n",
       "Q 353 2684 537 2926 \r\n",
       "Q 722 3169 1039 3306 \r\n",
       "Q 1356 3444 1747 3444 \r\n",
       "Q 2341 3444 2694 3145 \r\n",
       "Q 3047 2847 3056 2306 \r\n",
       "L 3056 781 \r\n",
       "Q 3056 325 3184 53 \r\n",
       "L 3184 0 \r\n",
       "L 2409 0 \r\n",
       "z\r\n",
       "M 1575 547 \r\n",
       "Q 1800 547 1998 656 \r\n",
       "Q 2197 766 2297 950 \r\n",
       "L 2297 1588 \r\n",
       "L 1888 1588 \r\n",
       "Q 1466 1588 1253 1441 \r\n",
       "Q 1041 1294 1041 1025 \r\n",
       "Q 1041 806 1186 676 \r\n",
       "Q 1331 547 1575 547 \r\n",
       "z\r\n",
       "\" id=\"Roboto-Medium-430\" transform=\"scale(0.015625)\"/>\r\n",
       "      <path d=\"M 1778 544 \r\n",
       "Q 2063 544 2250 709 \r\n",
       "Q 2438 875 2450 1119 \r\n",
       "L 3166 1119 \r\n",
       "Q 3153 803 2968 529 \r\n",
       "Q 2784 256 2468 96 \r\n",
       "Q 2153 -63 1788 -63 \r\n",
       "Q 1078 -63 662 396 \r\n",
       "Q 247 856 247 1666 \r\n",
       "L 247 1744 \r\n",
       "Q 247 2516 659 2980 \r\n",
       "Q 1072 3444 1784 3444 \r\n",
       "Q 2388 3444 2767 3092 \r\n",
       "Q 3147 2741 3166 2169 \r\n",
       "L 2450 2169 \r\n",
       "Q 2438 2459 2252 2646 \r\n",
       "Q 2066 2834 1778 2834 \r\n",
       "Q 1409 2834 1209 2567 \r\n",
       "Q 1009 2300 1006 1756 \r\n",
       "L 1006 1634 \r\n",
       "Q 1006 1084 1204 814 \r\n",
       "Q 1403 544 1778 544 \r\n",
       "z\r\n",
       "\" id=\"Roboto-Medium-441\" transform=\"scale(0.015625)\"/>\r\n",
       "      <path d=\"M 3256 0 \r\n",
       "L 2497 0 \r\n",
       "L 2497 2769 \r\n",
       "L 1178 2769 \r\n",
       "L 1178 0 \r\n",
       "L 419 0 \r\n",
       "L 419 3381 \r\n",
       "L 3256 3381 \r\n",
       "L 3256 0 \r\n",
       "z\r\n",
       "\" id=\"Roboto-Medium-43f\" transform=\"scale(0.015625)\"/>\r\n",
       "      <path d=\"M 3350 1656 \r\n",
       "Q 3350 872 2994 404 \r\n",
       "Q 2638 -63 2038 -63 \r\n",
       "Q 1481 -63 1147 303 \r\n",
       "L 1147 -1300 \r\n",
       "L 388 -1300 \r\n",
       "L 388 3381 \r\n",
       "L 1088 3381 \r\n",
       "L 1119 3038 \r\n",
       "Q 1453 3444 2028 3444 \r\n",
       "Q 2647 3444 2998 2983 \r\n",
       "Q 3350 2522 3350 1703 \r\n",
       "L 3350 1656 \r\n",
       "z\r\n",
       "M 2594 1722 \r\n",
       "Q 2594 2228 2392 2525 \r\n",
       "Q 2191 2822 1816 2822 \r\n",
       "Q 1350 2822 1147 2438 \r\n",
       "L 1147 938 \r\n",
       "Q 1353 544 1822 544 \r\n",
       "Q 2184 544 2389 836 \r\n",
       "Q 2594 1128 2594 1722 \r\n",
       "z\r\n",
       "\" id=\"Roboto-Medium-440\" transform=\"scale(0.015625)\"/>\r\n",
       "      <path d=\"M 1878 -63 \r\n",
       "Q 1156 -63 707 392 \r\n",
       "Q 259 847 259 1603 \r\n",
       "L 259 1697 \r\n",
       "Q 259 2203 454 2601 \r\n",
       "Q 650 3000 1003 3222 \r\n",
       "Q 1356 3444 1791 3444 \r\n",
       "Q 2481 3444 2857 3003 \r\n",
       "Q 3234 2563 3234 1756 \r\n",
       "L 3234 1450 \r\n",
       "L 1025 1450 \r\n",
       "Q 1059 1031 1304 787 \r\n",
       "Q 1550 544 1922 544 \r\n",
       "Q 2444 544 2772 966 \r\n",
       "L 3181 575 \r\n",
       "Q 2978 272 2639 104 \r\n",
       "Q 2300 -63 1878 -63 \r\n",
       "z\r\n",
       "M 1788 2834 \r\n",
       "Q 1475 2834 1283 2615 \r\n",
       "Q 1091 2397 1038 2006 \r\n",
       "L 2484 2006 \r\n",
       "L 2484 2063 \r\n",
       "Q 2459 2444 2281 2639 \r\n",
       "Q 2103 2834 1788 2834 \r\n",
       "z\r\n",
       "\" id=\"Roboto-Medium-435\" transform=\"scale(0.015625)\"/>\r\n",
       "      <path d=\"M 403 606 \r\n",
       "Q 719 959 826 1276 \r\n",
       "Q 934 1594 956 2088 \r\n",
       "L 1000 3381 \r\n",
       "L 3347 3381 \r\n",
       "L 3347 606 \r\n",
       "L 3816 606 \r\n",
       "L 3816 -1006 \r\n",
       "L 3059 -1006 \r\n",
       "L 3059 0 \r\n",
       "L 891 0 \r\n",
       "L 891 -1006 \r\n",
       "L 122 -1006 \r\n",
       "L 125 606 \r\n",
       "L 403 606 \r\n",
       "z\r\n",
       "M 1294 606 \r\n",
       "L 2591 606 \r\n",
       "L 2591 2728 \r\n",
       "L 1738 2728 \r\n",
       "L 1716 2081 \r\n",
       "Q 1672 1150 1294 606 \r\n",
       "z\r\n",
       "\" id=\"Roboto-Medium-434\" transform=\"scale(0.015625)\"/>\r\n",
       "      <path d=\"M 3263 3381 \r\n",
       "L 3263 0 \r\n",
       "L 2503 0 \r\n",
       "L 2503 2769 \r\n",
       "L 1547 2769 \r\n",
       "L 1484 1591 \r\n",
       "Q 1425 741 1158 370 \r\n",
       "Q 891 0 341 0 \r\n",
       "L 106 0 \r\n",
       "L 103 631 \r\n",
       "L 259 647 \r\n",
       "Q 509 681 623 951 \r\n",
       "Q 738 1222 769 1938 \r\n",
       "L 831 3381 \r\n",
       "L 3263 3381 \r\n",
       "z\r\n",
       "\" id=\"Roboto-Medium-43b\" transform=\"scale(0.015625)\"/>\r\n",
       "      <path d=\"M 3253 0 \r\n",
       "L 2494 0 \r\n",
       "L 2494 1366 \r\n",
       "L 1178 1366 \r\n",
       "L 1178 0 \r\n",
       "L 419 0 \r\n",
       "L 419 3381 \r\n",
       "L 1178 3381 \r\n",
       "L 1178 1972 \r\n",
       "L 2494 1972 \r\n",
       "L 2494 3381 \r\n",
       "L 3253 3381 \r\n",
       "L 3253 0 \r\n",
       "z\r\n",
       "\" id=\"Roboto-Medium-43d\" transform=\"scale(0.015625)\"/>\r\n",
       "      <path d=\"M 2500 3381 \r\n",
       "L 3256 3381 \r\n",
       "L 3256 0 \r\n",
       "L 2500 0 \r\n",
       "L 2500 2256 \r\n",
       "L 1175 0 \r\n",
       "L 419 0 \r\n",
       "L 419 3381 \r\n",
       "L 1175 3381 \r\n",
       "L 1175 1125 \r\n",
       "L 2500 3381 \r\n",
       "z\r\n",
       "\" id=\"Roboto-Medium-438\" transform=\"scale(0.015625)\"/>\r\n",
       "      <path id=\"Roboto-Medium-20\" transform=\"scale(0.015625)\"/>\r\n",
       "      <path d=\"M 247 1722 \r\n",
       "Q 247 2219 444 2617 \r\n",
       "Q 641 3016 997 3230 \r\n",
       "Q 1353 3444 1816 3444 \r\n",
       "Q 2500 3444 2926 3003 \r\n",
       "Q 3353 2563 3388 1834 \r\n",
       "L 3391 1656 \r\n",
       "Q 3391 1156 3198 762 \r\n",
       "Q 3006 369 2648 153 \r\n",
       "Q 2291 -63 1822 -63 \r\n",
       "Q 1106 -63 676 414 \r\n",
       "Q 247 891 247 1684 \r\n",
       "L 247 1722 \r\n",
       "z\r\n",
       "M 1006 1656 \r\n",
       "Q 1006 1134 1222 839 \r\n",
       "Q 1438 544 1822 544 \r\n",
       "Q 2206 544 2420 844 \r\n",
       "Q 2634 1144 2634 1722 \r\n",
       "Q 2634 2234 2414 2534 \r\n",
       "Q 2194 2834 1816 2834 \r\n",
       "Q 1444 2834 1225 2539 \r\n",
       "Q 1006 2244 1006 1656 \r\n",
       "z\r\n",
       "\" id=\"Roboto-Medium-43e\" transform=\"scale(0.015625)\"/>\r\n",
       "      <path d=\"M 419 3381 \r\n",
       "L 1178 3381 \r\n",
       "L 1178 606 \r\n",
       "L 2497 606 \r\n",
       "L 2497 3381 \r\n",
       "L 3256 3381 \r\n",
       "L 3256 606 \r\n",
       "L 3716 606 \r\n",
       "L 3653 -1003 \r\n",
       "L 2963 -1003 \r\n",
       "L 2963 0 \r\n",
       "L 419 0 \r\n",
       "L 419 3381 \r\n",
       "z\r\n",
       "\" id=\"Roboto-Medium-446\" transform=\"scale(0.015625)\"/>\r\n",
       "      <path d=\"M 2397 934 \r\n",
       "L 3397 3381 \r\n",
       "L 4347 3381 \r\n",
       "L 4347 0 \r\n",
       "L 3588 0 \r\n",
       "L 3588 2238 \r\n",
       "L 2656 0 \r\n",
       "L 2141 0 \r\n",
       "L 1206 2250 \r\n",
       "L 1206 0 \r\n",
       "L 447 0 \r\n",
       "L 447 3381 \r\n",
       "L 1403 3381 \r\n",
       "L 2397 934 \r\n",
       "z\r\n",
       "\" id=\"Roboto-Medium-43c\" transform=\"scale(0.015625)\"/>\r\n",
       "     </defs>\r\n",
       "     <use xlink:href=\"#Roboto-Medium-420\"/>\r\n",
       "     <use x=\"63.916016\" xlink:href=\"#Roboto-Medium-430\"/>\r\n",
       "     <use x=\"118.017578\" xlink:href=\"#Roboto-Medium-441\"/>\r\n",
       "     <use x=\"170.361328\" xlink:href=\"#Roboto-Medium-43f\"/>\r\n",
       "     <use x=\"227.783203\" xlink:href=\"#Roboto-Medium-440\"/>\r\n",
       "     <use x=\"284.082031\" xlink:href=\"#Roboto-Medium-435\"/>\r\n",
       "     <use x=\"337.744141\" xlink:href=\"#Roboto-Medium-434\"/>\r\n",
       "     <use x=\"399.755859\" xlink:href=\"#Roboto-Medium-435\"/>\r\n",
       "     <use x=\"453.417969\" xlink:href=\"#Roboto-Medium-43b\"/>\r\n",
       "     <use x=\"510.9375\" xlink:href=\"#Roboto-Medium-435\"/>\r\n",
       "     <use x=\"564.599609\" xlink:href=\"#Roboto-Medium-43d\"/>\r\n",
       "     <use x=\"621.972656\" xlink:href=\"#Roboto-Medium-438\"/>\r\n",
       "     <use x=\"679.394531\" xlink:href=\"#Roboto-Medium-435\"/>\r\n",
       "     <use x=\"733.056641\" xlink:href=\"#Roboto-Medium-20\"/>\r\n",
       "     <use x=\"757.958984\" xlink:href=\"#Roboto-Medium-43f\"/>\r\n",
       "     <use x=\"815.380859\" xlink:href=\"#Roboto-Medium-43e\"/>\r\n",
       "     <use x=\"872.314453\" xlink:href=\"#Roboto-Medium-20\"/>\r\n",
       "     <use x=\"897.216797\" xlink:href=\"#Roboto-Medium-446\"/>\r\n",
       "     <use x=\"957.519531\" xlink:href=\"#Roboto-Medium-435\"/>\r\n",
       "     <use x=\"1011.181641\" xlink:href=\"#Roboto-Medium-43d\"/>\r\n",
       "     <use x=\"1068.554688\" xlink:href=\"#Roboto-Medium-430\"/>\r\n",
       "     <use x=\"1122.65625\" xlink:href=\"#Roboto-Medium-43c\"/>\r\n",
       "    </g>\r\n",
       "   </g>\r\n",
       "  </g>\r\n",
       " </g>\r\n",
       " <defs>\r\n",
       "  <clipPath id=\"pdccf6ef978\">\r\n",
       "   <rect height=\"271.8\" width=\"558\" x=\"36.9375\" y=\"22.2\"/>\r\n",
       "  </clipPath>\r\n",
       " </defs>\r\n",
       "</svg>\r\n"
      ],
      "text/plain": [
       "<Figure size 1000x500 with 1 Axes>"
      ]
     },
     "metadata": {},
     "output_type": "display_data"
    }
   ],
   "source": [
    "data[\"price\"].hist(bins=200)\n",
    "plt.title('Распределение по ценам')"
   ]
  },
  {
   "cell_type": "markdown",
   "metadata": {},
   "source": [
    "По построенному графику можем увидеть, что у огромного количества автомобилей цена составляет 0 руб. Это может быть связано с тем, что анкеты ориентированы на торг с покупателем. Однако, для создания ценовой модели такие значения могут помешать ее реализации.  \n",
    "\n",
    "Теперь посмотрим на значения мощности в столбце `['power']`. Мощность измеряется в лошадиных силах, поэтому данная величина является непрерывной. Здесь обычная гистограмма частотностей не может быть применена."
   ]
  },
  {
   "cell_type": "code",
   "execution_count": 419,
   "metadata": {},
   "outputs": [
    {
     "data": {
      "text/plain": [
       "Text(0.5, 1.0, 'Распределение по мощности')"
      ]
     },
     "execution_count": 419,
     "metadata": {},
     "output_type": "execute_result"
    },
    {
     "data": {
      "image/svg+xml": [
       "<?xml version=\"1.0\" encoding=\"utf-8\" standalone=\"no\"?>\r\n",
       "<!DOCTYPE svg PUBLIC \"-//W3C//DTD SVG 1.1//EN\"\r\n",
       "  \"http://www.w3.org/Graphics/SVG/1.1/DTD/svg11.dtd\">\r\n",
       "<svg height=\"315.825pt\" version=\"1.1\" viewBox=\"0 0 606.685 315.825\" width=\"606.685pt\" xmlns=\"http://www.w3.org/2000/svg\" xmlns:xlink=\"http://www.w3.org/1999/xlink\">\r\n",
       " <metadata>\r\n",
       "  <rdf:RDF xmlns:cc=\"http://creativecommons.org/ns#\" xmlns:dc=\"http://purl.org/dc/elements/1.1/\" xmlns:rdf=\"http://www.w3.org/1999/02/22-rdf-syntax-ns#\">\r\n",
       "   <cc:Work>\r\n",
       "    <dc:type rdf:resource=\"http://purl.org/dc/dcmitype/StillImage\"/>\r\n",
       "    <dc:date>2022-01-14T21:02:44.337701</dc:date>\r\n",
       "    <dc:format>image/svg+xml</dc:format>\r\n",
       "    <dc:creator>\r\n",
       "     <cc:Agent>\r\n",
       "      <dc:title>Matplotlib v3.4.3, https://matplotlib.org/</dc:title>\r\n",
       "     </cc:Agent>\r\n",
       "    </dc:creator>\r\n",
       "   </cc:Work>\r\n",
       "  </rdf:RDF>\r\n",
       " </metadata>\r\n",
       " <defs>\r\n",
       "  <style type=\"text/css\">*{stroke-linecap:butt;stroke-linejoin:round;}</style>\r\n",
       " </defs>\r\n",
       " <g id=\"figure_1\">\r\n",
       "  <g id=\"patch_1\">\r\n",
       "   <path d=\"M 0 315.825 \r\n",
       "L 606.685 315.825 \r\n",
       "L 606.685 0 \r\n",
       "L 0 0 \r\n",
       "z\r\n",
       "\" style=\"fill:#ffffff;\"/>\r\n",
       "  </g>\r\n",
       "  <g id=\"axes_1\">\r\n",
       "   <g id=\"patch_2\">\r\n",
       "    <path d=\"M 41.485 294 \r\n",
       "L 599.485 294 \r\n",
       "L 599.485 22.2 \r\n",
       "L 41.485 22.2 \r\n",
       "z\r\n",
       "\" style=\"fill:#ffffff;\"/>\r\n",
       "   </g>\r\n",
       "   <g id=\"patch_3\">\r\n",
       "    <path clip-path=\"url(#p075b63ae7c)\" d=\"M 66.848636 294 \r\n",
       "L 117.575909 294 \r\n",
       "L 117.575909 35.142857 \r\n",
       "L 66.848636 35.142857 \r\n",
       "z\r\n",
       "\" style=\"fill:#0088ed;\"/>\r\n",
       "   </g>\r\n",
       "   <g id=\"patch_4\">\r\n",
       "    <path clip-path=\"url(#p075b63ae7c)\" d=\"M 117.575909 294 \r\n",
       "L 168.303182 294 \r\n",
       "L 168.303182 293.973977 \r\n",
       "L 117.575909 293.973977 \r\n",
       "z\r\n",
       "\" style=\"fill:#0088ed;\"/>\r\n",
       "   </g>\r\n",
       "   <g id=\"patch_5\">\r\n",
       "    <path clip-path=\"url(#p075b63ae7c)\" d=\"M 168.303182 294 \r\n",
       "L 219.030455 294 \r\n",
       "L 219.030455 293.991821 \r\n",
       "L 168.303182 293.991821 \r\n",
       "z\r\n",
       "\" style=\"fill:#0088ed;\"/>\r\n",
       "   </g>\r\n",
       "   <g id=\"patch_6\">\r\n",
       "    <path clip-path=\"url(#p075b63ae7c)\" d=\"M 219.030455 294 \r\n",
       "L 269.757727 294 \r\n",
       "L 269.757727 293.98736 \r\n",
       "L 219.030455 293.98736 \r\n",
       "z\r\n",
       "\" style=\"fill:#0088ed;\"/>\r\n",
       "   </g>\r\n",
       "   <g id=\"patch_7\">\r\n",
       "    <path clip-path=\"url(#p075b63ae7c)\" d=\"M 269.757727 294 \r\n",
       "L 320.485 294 \r\n",
       "L 320.485 293.991078 \r\n",
       "L 269.757727 293.991078 \r\n",
       "z\r\n",
       "\" style=\"fill:#0088ed;\"/>\r\n",
       "   </g>\r\n",
       "   <g id=\"patch_8\">\r\n",
       "    <path clip-path=\"url(#p075b63ae7c)\" d=\"M 320.485 294 \r\n",
       "L 371.212273 294 \r\n",
       "L 371.212273 293.988104 \r\n",
       "L 320.485 293.988104 \r\n",
       "z\r\n",
       "\" style=\"fill:#0088ed;\"/>\r\n",
       "   </g>\r\n",
       "   <g id=\"patch_9\">\r\n",
       "    <path clip-path=\"url(#p075b63ae7c)\" d=\"M 371.212273 294 \r\n",
       "L 421.939545 294 \r\n",
       "L 421.939545 293.994052 \r\n",
       "L 371.212273 293.994052 \r\n",
       "z\r\n",
       "\" style=\"fill:#0088ed;\"/>\r\n",
       "   </g>\r\n",
       "   <g id=\"patch_10\">\r\n",
       "    <path clip-path=\"url(#p075b63ae7c)\" d=\"M 421.939545 294 \r\n",
       "L 472.666818 294 \r\n",
       "L 472.666818 293.995539 \r\n",
       "L 421.939545 293.995539 \r\n",
       "z\r\n",
       "\" style=\"fill:#0088ed;\"/>\r\n",
       "   </g>\r\n",
       "   <g id=\"patch_11\">\r\n",
       "    <path clip-path=\"url(#p075b63ae7c)\" d=\"M 472.666818 294 \r\n",
       "L 523.394091 294 \r\n",
       "L 523.394091 293.993308 \r\n",
       "L 472.666818 293.993308 \r\n",
       "z\r\n",
       "\" style=\"fill:#0088ed;\"/>\r\n",
       "   </g>\r\n",
       "   <g id=\"patch_12\">\r\n",
       "    <path clip-path=\"url(#p075b63ae7c)\" d=\"M 523.394091 294 \r\n",
       "L 574.121364 294 \r\n",
       "L 574.121364 293.997026 \r\n",
       "L 523.394091 293.997026 \r\n",
       "z\r\n",
       "\" style=\"fill:#0088ed;\"/>\r\n",
       "   </g>\r\n",
       "   <g id=\"matplotlib.axis_1\">\r\n",
       "    <g id=\"xtick_1\">\r\n",
       "     <g id=\"line2d_1\">\r\n",
       "      <path clip-path=\"url(#p075b63ae7c)\" d=\"M 66.848636 294 \r\n",
       "L 66.848636 22.2 \r\n",
       "\" style=\"fill:none;stroke:#58544f;stroke-linecap:square;stroke-width:0.8;\"/>\r\n",
       "     </g>\r\n",
       "     <g id=\"line2d_2\">\r\n",
       "      <defs>\r\n",
       "       <path d=\"M 0 0 \r\n",
       "L 0 3.5 \r\n",
       "\" id=\"m495eecf385\" style=\"stroke:#58544f;stroke-width:0.8;\"/>\r\n",
       "      </defs>\r\n",
       "      <g>\r\n",
       "       <use style=\"fill:#58544f;stroke:#58544f;stroke-width:0.8;\" x=\"66.848636\" xlink:href=\"#m495eecf385\" y=\"294\"/>\r\n",
       "      </g>\r\n",
       "     </g>\r\n",
       "     <g id=\"text_1\">\r\n",
       "      <!-- 0 -->\r\n",
       "      <g style=\"fill:#58544f;\" transform=\"translate(64.574886 307)scale(0.08 -0.08)\">\r\n",
       "       <defs>\r\n",
       "        <path d=\"M 3306 1916 \r\n",
       "Q 3306 934 2939 435 \r\n",
       "Q 2572 -63 1822 -63 \r\n",
       "Q 1084 -63 711 423 \r\n",
       "Q 338 909 328 1863 \r\n",
       "L 328 2650 \r\n",
       "Q 328 3631 695 4122 \r\n",
       "Q 1063 4613 1816 4613 \r\n",
       "Q 2563 4613 2930 4134 \r\n",
       "Q 3297 3656 3306 2703 \r\n",
       "L 3306 1916 \r\n",
       "z\r\n",
       "M 2547 2766 \r\n",
       "Q 2547 3406 2372 3704 \r\n",
       "Q 2197 4003 1816 4003 \r\n",
       "Q 1444 4003 1269 3720 \r\n",
       "Q 1094 3438 1084 2838 \r\n",
       "L 1084 1806 \r\n",
       "Q 1084 1169 1262 856 \r\n",
       "Q 1441 544 1822 544 \r\n",
       "Q 2188 544 2363 833 \r\n",
       "Q 2538 1122 2547 1738 \r\n",
       "L 2547 2766 \r\n",
       "z\r\n",
       "\" id=\"Roboto-Medium-30\" transform=\"scale(0.015625)\"/>\r\n",
       "       </defs>\r\n",
       "       <use xlink:href=\"#Roboto-Medium-30\"/>\r\n",
       "      </g>\r\n",
       "     </g>\r\n",
       "    </g>\r\n",
       "    <g id=\"xtick_2\">\r\n",
       "     <g id=\"line2d_3\">\r\n",
       "      <path clip-path=\"url(#p075b63ae7c)\" d=\"M 130.257727 294 \r\n",
       "L 130.257727 22.2 \r\n",
       "\" style=\"fill:none;stroke:#58544f;stroke-linecap:square;stroke-width:0.8;\"/>\r\n",
       "     </g>\r\n",
       "     <g id=\"line2d_4\">\r\n",
       "      <g>\r\n",
       "       <use style=\"fill:#58544f;stroke:#58544f;stroke-width:0.8;\" x=\"130.257727\" xlink:href=\"#m495eecf385\" y=\"294\"/>\r\n",
       "      </g>\r\n",
       "     </g>\r\n",
       "     <g id=\"text_2\">\r\n",
       "      <!-- 2500 -->\r\n",
       "      <g style=\"fill:#58544f;\" transform=\"translate(121.162727 307)scale(0.08 -0.08)\">\r\n",
       "       <defs>\r\n",
       "        <path d=\"M 3400 0 \r\n",
       "L 341 0 \r\n",
       "L 341 522 \r\n",
       "L 1856 2175 \r\n",
       "Q 2184 2541 2323 2786 \r\n",
       "Q 2463 3031 2463 3278 \r\n",
       "Q 2463 3603 2280 3803 \r\n",
       "Q 2097 4003 1788 4003 \r\n",
       "Q 1419 4003 1216 3778 \r\n",
       "Q 1013 3553 1013 3163 \r\n",
       "L 253 3163 \r\n",
       "Q 253 3578 442 3911 \r\n",
       "Q 631 4244 982 4428 \r\n",
       "Q 1334 4613 1794 4613 \r\n",
       "Q 2456 4613 2839 4280 \r\n",
       "Q 3222 3947 3222 3359 \r\n",
       "Q 3222 3019 3030 2645 \r\n",
       "Q 2838 2272 2400 1797 \r\n",
       "L 1288 606 \r\n",
       "L 3400 606 \r\n",
       "L 3400 0 \r\n",
       "z\r\n",
       "\" id=\"Roboto-Medium-32\" transform=\"scale(0.015625)\"/>\r\n",
       "        <path d=\"M 544 2256 \r\n",
       "L 791 4550 \r\n",
       "L 3234 4550 \r\n",
       "L 3234 3894 \r\n",
       "L 1422 3894 \r\n",
       "L 1297 2806 \r\n",
       "Q 1613 2988 2009 2988 \r\n",
       "Q 2659 2988 3020 2572 \r\n",
       "Q 3381 2156 3381 1453 \r\n",
       "Q 3381 759 2981 348 \r\n",
       "Q 2581 -63 1884 -63 \r\n",
       "Q 1259 -63 848 292 \r\n",
       "Q 438 647 403 1228 \r\n",
       "L 1138 1228 \r\n",
       "Q 1181 897 1375 720 \r\n",
       "Q 1569 544 1881 544 \r\n",
       "Q 2231 544 2426 794 \r\n",
       "Q 2622 1044 2622 1475 \r\n",
       "Q 2622 1891 2406 2133 \r\n",
       "Q 2191 2375 1813 2375 \r\n",
       "Q 1606 2375 1462 2320 \r\n",
       "Q 1319 2266 1150 2106 \r\n",
       "L 544 2256 \r\n",
       "z\r\n",
       "\" id=\"Roboto-Medium-35\" transform=\"scale(0.015625)\"/>\r\n",
       "       </defs>\r\n",
       "       <use xlink:href=\"#Roboto-Medium-32\"/>\r\n",
       "       <use x=\"56.835938\" xlink:href=\"#Roboto-Medium-35\"/>\r\n",
       "       <use x=\"113.671875\" xlink:href=\"#Roboto-Medium-30\"/>\r\n",
       "       <use x=\"170.507812\" xlink:href=\"#Roboto-Medium-30\"/>\r\n",
       "      </g>\r\n",
       "     </g>\r\n",
       "    </g>\r\n",
       "    <g id=\"xtick_3\">\r\n",
       "     <g id=\"line2d_5\">\r\n",
       "      <path clip-path=\"url(#p075b63ae7c)\" d=\"M 193.666818 294 \r\n",
       "L 193.666818 22.2 \r\n",
       "\" style=\"fill:none;stroke:#58544f;stroke-linecap:square;stroke-width:0.8;\"/>\r\n",
       "     </g>\r\n",
       "     <g id=\"line2d_6\">\r\n",
       "      <g>\r\n",
       "       <use style=\"fill:#58544f;stroke:#58544f;stroke-width:0.8;\" x=\"193.666818\" xlink:href=\"#m495eecf385\" y=\"294\"/>\r\n",
       "      </g>\r\n",
       "     </g>\r\n",
       "     <g id=\"text_3\">\r\n",
       "      <!-- 5000 -->\r\n",
       "      <g style=\"fill:#58544f;\" transform=\"translate(184.571818 307)scale(0.08 -0.08)\">\r\n",
       "       <use xlink:href=\"#Roboto-Medium-35\"/>\r\n",
       "       <use x=\"56.835938\" xlink:href=\"#Roboto-Medium-30\"/>\r\n",
       "       <use x=\"113.671875\" xlink:href=\"#Roboto-Medium-30\"/>\r\n",
       "       <use x=\"170.507812\" xlink:href=\"#Roboto-Medium-30\"/>\r\n",
       "      </g>\r\n",
       "     </g>\r\n",
       "    </g>\r\n",
       "    <g id=\"xtick_4\">\r\n",
       "     <g id=\"line2d_7\">\r\n",
       "      <path clip-path=\"url(#p075b63ae7c)\" d=\"M 257.075909 294 \r\n",
       "L 257.075909 22.2 \r\n",
       "\" style=\"fill:none;stroke:#58544f;stroke-linecap:square;stroke-width:0.8;\"/>\r\n",
       "     </g>\r\n",
       "     <g id=\"line2d_8\">\r\n",
       "      <g>\r\n",
       "       <use style=\"fill:#58544f;stroke:#58544f;stroke-width:0.8;\" x=\"257.075909\" xlink:href=\"#m495eecf385\" y=\"294\"/>\r\n",
       "      </g>\r\n",
       "     </g>\r\n",
       "     <g id=\"text_4\">\r\n",
       "      <!-- 7500 -->\r\n",
       "      <g style=\"fill:#58544f;\" transform=\"translate(247.980909 307)scale(0.08 -0.08)\">\r\n",
       "       <defs>\r\n",
       "        <path d=\"M 3369 4128 \r\n",
       "L 1550 0 \r\n",
       "L 753 0 \r\n",
       "L 2569 3941 \r\n",
       "L 216 3941 \r\n",
       "L 216 4550 \r\n",
       "L 3369 4550 \r\n",
       "L 3369 4128 \r\n",
       "z\r\n",
       "\" id=\"Roboto-Medium-37\" transform=\"scale(0.015625)\"/>\r\n",
       "       </defs>\r\n",
       "       <use xlink:href=\"#Roboto-Medium-37\"/>\r\n",
       "       <use x=\"56.835938\" xlink:href=\"#Roboto-Medium-35\"/>\r\n",
       "       <use x=\"113.671875\" xlink:href=\"#Roboto-Medium-30\"/>\r\n",
       "       <use x=\"170.507812\" xlink:href=\"#Roboto-Medium-30\"/>\r\n",
       "      </g>\r\n",
       "     </g>\r\n",
       "    </g>\r\n",
       "    <g id=\"xtick_5\">\r\n",
       "     <g id=\"line2d_9\">\r\n",
       "      <path clip-path=\"url(#p075b63ae7c)\" d=\"M 320.485 294 \r\n",
       "L 320.485 22.2 \r\n",
       "\" style=\"fill:none;stroke:#58544f;stroke-linecap:square;stroke-width:0.8;\"/>\r\n",
       "     </g>\r\n",
       "     <g id=\"line2d_10\">\r\n",
       "      <g>\r\n",
       "       <use style=\"fill:#58544f;stroke:#58544f;stroke-width:0.8;\" x=\"320.485\" xlink:href=\"#m495eecf385\" y=\"294\"/>\r\n",
       "      </g>\r\n",
       "     </g>\r\n",
       "     <g id=\"text_5\">\r\n",
       "      <!-- 10000 -->\r\n",
       "      <g style=\"fill:#58544f;\" transform=\"translate(309.11625 307)scale(0.08 -0.08)\">\r\n",
       "       <defs>\r\n",
       "        <path d=\"M 2397 0 \r\n",
       "L 1641 0 \r\n",
       "L 1641 3653 \r\n",
       "L 525 3272 \r\n",
       "L 525 3913 \r\n",
       "L 2300 4566 \r\n",
       "L 2397 4566 \r\n",
       "L 2397 0 \r\n",
       "z\r\n",
       "\" id=\"Roboto-Medium-31\" transform=\"scale(0.015625)\"/>\r\n",
       "       </defs>\r\n",
       "       <use xlink:href=\"#Roboto-Medium-31\"/>\r\n",
       "       <use x=\"56.835938\" xlink:href=\"#Roboto-Medium-30\"/>\r\n",
       "       <use x=\"113.671875\" xlink:href=\"#Roboto-Medium-30\"/>\r\n",
       "       <use x=\"170.507812\" xlink:href=\"#Roboto-Medium-30\"/>\r\n",
       "       <use x=\"227.34375\" xlink:href=\"#Roboto-Medium-30\"/>\r\n",
       "      </g>\r\n",
       "     </g>\r\n",
       "    </g>\r\n",
       "    <g id=\"xtick_6\">\r\n",
       "     <g id=\"line2d_11\">\r\n",
       "      <path clip-path=\"url(#p075b63ae7c)\" d=\"M 383.894091 294 \r\n",
       "L 383.894091 22.2 \r\n",
       "\" style=\"fill:none;stroke:#58544f;stroke-linecap:square;stroke-width:0.8;\"/>\r\n",
       "     </g>\r\n",
       "     <g id=\"line2d_12\">\r\n",
       "      <g>\r\n",
       "       <use style=\"fill:#58544f;stroke:#58544f;stroke-width:0.8;\" x=\"383.894091\" xlink:href=\"#m495eecf385\" y=\"294\"/>\r\n",
       "      </g>\r\n",
       "     </g>\r\n",
       "     <g id=\"text_6\">\r\n",
       "      <!-- 12500 -->\r\n",
       "      <g style=\"fill:#58544f;\" transform=\"translate(372.525341 307)scale(0.08 -0.08)\">\r\n",
       "       <use xlink:href=\"#Roboto-Medium-31\"/>\r\n",
       "       <use x=\"56.835938\" xlink:href=\"#Roboto-Medium-32\"/>\r\n",
       "       <use x=\"113.671875\" xlink:href=\"#Roboto-Medium-35\"/>\r\n",
       "       <use x=\"170.507812\" xlink:href=\"#Roboto-Medium-30\"/>\r\n",
       "       <use x=\"227.34375\" xlink:href=\"#Roboto-Medium-30\"/>\r\n",
       "      </g>\r\n",
       "     </g>\r\n",
       "    </g>\r\n",
       "    <g id=\"xtick_7\">\r\n",
       "     <g id=\"line2d_13\">\r\n",
       "      <path clip-path=\"url(#p075b63ae7c)\" d=\"M 447.303182 294 \r\n",
       "L 447.303182 22.2 \r\n",
       "\" style=\"fill:none;stroke:#58544f;stroke-linecap:square;stroke-width:0.8;\"/>\r\n",
       "     </g>\r\n",
       "     <g id=\"line2d_14\">\r\n",
       "      <g>\r\n",
       "       <use style=\"fill:#58544f;stroke:#58544f;stroke-width:0.8;\" x=\"447.303182\" xlink:href=\"#m495eecf385\" y=\"294\"/>\r\n",
       "      </g>\r\n",
       "     </g>\r\n",
       "     <g id=\"text_7\">\r\n",
       "      <!-- 15000 -->\r\n",
       "      <g style=\"fill:#58544f;\" transform=\"translate(435.934432 307)scale(0.08 -0.08)\">\r\n",
       "       <use xlink:href=\"#Roboto-Medium-31\"/>\r\n",
       "       <use x=\"56.835938\" xlink:href=\"#Roboto-Medium-35\"/>\r\n",
       "       <use x=\"113.671875\" xlink:href=\"#Roboto-Medium-30\"/>\r\n",
       "       <use x=\"170.507812\" xlink:href=\"#Roboto-Medium-30\"/>\r\n",
       "       <use x=\"227.34375\" xlink:href=\"#Roboto-Medium-30\"/>\r\n",
       "      </g>\r\n",
       "     </g>\r\n",
       "    </g>\r\n",
       "    <g id=\"xtick_8\">\r\n",
       "     <g id=\"line2d_15\">\r\n",
       "      <path clip-path=\"url(#p075b63ae7c)\" d=\"M 510.712273 294 \r\n",
       "L 510.712273 22.2 \r\n",
       "\" style=\"fill:none;stroke:#58544f;stroke-linecap:square;stroke-width:0.8;\"/>\r\n",
       "     </g>\r\n",
       "     <g id=\"line2d_16\">\r\n",
       "      <g>\r\n",
       "       <use style=\"fill:#58544f;stroke:#58544f;stroke-width:0.8;\" x=\"510.712273\" xlink:href=\"#m495eecf385\" y=\"294\"/>\r\n",
       "      </g>\r\n",
       "     </g>\r\n",
       "     <g id=\"text_8\">\r\n",
       "      <!-- 17500 -->\r\n",
       "      <g style=\"fill:#58544f;\" transform=\"translate(499.343523 307)scale(0.08 -0.08)\">\r\n",
       "       <use xlink:href=\"#Roboto-Medium-31\"/>\r\n",
       "       <use x=\"56.835938\" xlink:href=\"#Roboto-Medium-37\"/>\r\n",
       "       <use x=\"113.671875\" xlink:href=\"#Roboto-Medium-35\"/>\r\n",
       "       <use x=\"170.507812\" xlink:href=\"#Roboto-Medium-30\"/>\r\n",
       "       <use x=\"227.34375\" xlink:href=\"#Roboto-Medium-30\"/>\r\n",
       "      </g>\r\n",
       "     </g>\r\n",
       "    </g>\r\n",
       "    <g id=\"xtick_9\">\r\n",
       "     <g id=\"line2d_17\">\r\n",
       "      <path clip-path=\"url(#p075b63ae7c)\" d=\"M 574.121364 294 \r\n",
       "L 574.121364 22.2 \r\n",
       "\" style=\"fill:none;stroke:#58544f;stroke-linecap:square;stroke-width:0.8;\"/>\r\n",
       "     </g>\r\n",
       "     <g id=\"line2d_18\">\r\n",
       "      <g>\r\n",
       "       <use style=\"fill:#58544f;stroke:#58544f;stroke-width:0.8;\" x=\"574.121364\" xlink:href=\"#m495eecf385\" y=\"294\"/>\r\n",
       "      </g>\r\n",
       "     </g>\r\n",
       "     <g id=\"text_9\">\r\n",
       "      <!-- 20000 -->\r\n",
       "      <g style=\"fill:#58544f;\" transform=\"translate(562.752614 307)scale(0.08 -0.08)\">\r\n",
       "       <use xlink:href=\"#Roboto-Medium-32\"/>\r\n",
       "       <use x=\"56.835938\" xlink:href=\"#Roboto-Medium-30\"/>\r\n",
       "       <use x=\"113.671875\" xlink:href=\"#Roboto-Medium-30\"/>\r\n",
       "       <use x=\"170.507812\" xlink:href=\"#Roboto-Medium-30\"/>\r\n",
       "       <use x=\"227.34375\" xlink:href=\"#Roboto-Medium-30\"/>\r\n",
       "      </g>\r\n",
       "     </g>\r\n",
       "    </g>\r\n",
       "   </g>\r\n",
       "   <g id=\"matplotlib.axis_2\">\r\n",
       "    <g id=\"ytick_1\">\r\n",
       "     <g id=\"line2d_19\">\r\n",
       "      <path clip-path=\"url(#p075b63ae7c)\" d=\"M 41.485 294 \r\n",
       "L 599.485 294 \r\n",
       "\" style=\"fill:none;stroke:#58544f;stroke-linecap:square;stroke-width:0.8;\"/>\r\n",
       "     </g>\r\n",
       "     <g id=\"line2d_20\">\r\n",
       "      <defs>\r\n",
       "       <path d=\"M 0 0 \r\n",
       "L -3.5 0 \r\n",
       "\" id=\"m4c3900e694\" style=\"stroke:#58544f;stroke-width:0.8;\"/>\r\n",
       "      </defs>\r\n",
       "      <g>\r\n",
       "       <use style=\"fill:#58544f;stroke:#58544f;stroke-width:0.8;\" x=\"41.485\" xlink:href=\"#m4c3900e694\" y=\"294\"/>\r\n",
       "      </g>\r\n",
       "     </g>\r\n",
       "     <g id=\"text_10\">\r\n",
       "      <!-- 0 -->\r\n",
       "      <g style=\"fill:#58544f;\" transform=\"translate(29.9375 297)scale(0.08 -0.08)\">\r\n",
       "       <use xlink:href=\"#Roboto-Medium-30\"/>\r\n",
       "      </g>\r\n",
       "     </g>\r\n",
       "    </g>\r\n",
       "    <g id=\"ytick_2\">\r\n",
       "     <g id=\"line2d_21\">\r\n",
       "      <path clip-path=\"url(#p075b63ae7c)\" d=\"M 41.485 256.823799 \r\n",
       "L 599.485 256.823799 \r\n",
       "\" style=\"fill:none;stroke:#58544f;stroke-linecap:square;stroke-width:0.8;\"/>\r\n",
       "     </g>\r\n",
       "     <g id=\"line2d_22\">\r\n",
       "      <g>\r\n",
       "       <use style=\"fill:#58544f;stroke:#58544f;stroke-width:0.8;\" x=\"41.485\" xlink:href=\"#m4c3900e694\" y=\"256.823799\"/>\r\n",
       "      </g>\r\n",
       "     </g>\r\n",
       "     <g id=\"text_11\">\r\n",
       "      <!-- 50000 -->\r\n",
       "      <g style=\"fill:#58544f;\" transform=\"translate(11.7475 259.823799)scale(0.08 -0.08)\">\r\n",
       "       <use xlink:href=\"#Roboto-Medium-35\"/>\r\n",
       "       <use x=\"56.835938\" xlink:href=\"#Roboto-Medium-30\"/>\r\n",
       "       <use x=\"113.671875\" xlink:href=\"#Roboto-Medium-30\"/>\r\n",
       "       <use x=\"170.507812\" xlink:href=\"#Roboto-Medium-30\"/>\r\n",
       "       <use x=\"227.34375\" xlink:href=\"#Roboto-Medium-30\"/>\r\n",
       "      </g>\r\n",
       "     </g>\r\n",
       "    </g>\r\n",
       "    <g id=\"ytick_3\">\r\n",
       "     <g id=\"line2d_23\">\r\n",
       "      <path clip-path=\"url(#p075b63ae7c)\" d=\"M 41.485 219.647598 \r\n",
       "L 599.485 219.647598 \r\n",
       "\" style=\"fill:none;stroke:#58544f;stroke-linecap:square;stroke-width:0.8;\"/>\r\n",
       "     </g>\r\n",
       "     <g id=\"line2d_24\">\r\n",
       "      <g>\r\n",
       "       <use style=\"fill:#58544f;stroke:#58544f;stroke-width:0.8;\" x=\"41.485\" xlink:href=\"#m4c3900e694\" y=\"219.647598\"/>\r\n",
       "      </g>\r\n",
       "     </g>\r\n",
       "     <g id=\"text_12\">\r\n",
       "      <!-- 100000 -->\r\n",
       "      <g style=\"fill:#58544f;\" transform=\"translate(7.2 222.647598)scale(0.08 -0.08)\">\r\n",
       "       <use xlink:href=\"#Roboto-Medium-31\"/>\r\n",
       "       <use x=\"56.835938\" xlink:href=\"#Roboto-Medium-30\"/>\r\n",
       "       <use x=\"113.671875\" xlink:href=\"#Roboto-Medium-30\"/>\r\n",
       "       <use x=\"170.507812\" xlink:href=\"#Roboto-Medium-30\"/>\r\n",
       "       <use x=\"227.34375\" xlink:href=\"#Roboto-Medium-30\"/>\r\n",
       "       <use x=\"284.179688\" xlink:href=\"#Roboto-Medium-30\"/>\r\n",
       "      </g>\r\n",
       "     </g>\r\n",
       "    </g>\r\n",
       "    <g id=\"ytick_4\">\r\n",
       "     <g id=\"line2d_25\">\r\n",
       "      <path clip-path=\"url(#p075b63ae7c)\" d=\"M 41.485 182.471398 \r\n",
       "L 599.485 182.471398 \r\n",
       "\" style=\"fill:none;stroke:#58544f;stroke-linecap:square;stroke-width:0.8;\"/>\r\n",
       "     </g>\r\n",
       "     <g id=\"line2d_26\">\r\n",
       "      <g>\r\n",
       "       <use style=\"fill:#58544f;stroke:#58544f;stroke-width:0.8;\" x=\"41.485\" xlink:href=\"#m4c3900e694\" y=\"182.471398\"/>\r\n",
       "      </g>\r\n",
       "     </g>\r\n",
       "     <g id=\"text_13\">\r\n",
       "      <!-- 150000 -->\r\n",
       "      <g style=\"fill:#58544f;\" transform=\"translate(7.2 185.471398)scale(0.08 -0.08)\">\r\n",
       "       <use xlink:href=\"#Roboto-Medium-31\"/>\r\n",
       "       <use x=\"56.835938\" xlink:href=\"#Roboto-Medium-35\"/>\r\n",
       "       <use x=\"113.671875\" xlink:href=\"#Roboto-Medium-30\"/>\r\n",
       "       <use x=\"170.507812\" xlink:href=\"#Roboto-Medium-30\"/>\r\n",
       "       <use x=\"227.34375\" xlink:href=\"#Roboto-Medium-30\"/>\r\n",
       "       <use x=\"284.179688\" xlink:href=\"#Roboto-Medium-30\"/>\r\n",
       "      </g>\r\n",
       "     </g>\r\n",
       "    </g>\r\n",
       "    <g id=\"ytick_5\">\r\n",
       "     <g id=\"line2d_27\">\r\n",
       "      <path clip-path=\"url(#p075b63ae7c)\" d=\"M 41.485 145.295197 \r\n",
       "L 599.485 145.295197 \r\n",
       "\" style=\"fill:none;stroke:#58544f;stroke-linecap:square;stroke-width:0.8;\"/>\r\n",
       "     </g>\r\n",
       "     <g id=\"line2d_28\">\r\n",
       "      <g>\r\n",
       "       <use style=\"fill:#58544f;stroke:#58544f;stroke-width:0.8;\" x=\"41.485\" xlink:href=\"#m4c3900e694\" y=\"145.295197\"/>\r\n",
       "      </g>\r\n",
       "     </g>\r\n",
       "     <g id=\"text_14\">\r\n",
       "      <!-- 200000 -->\r\n",
       "      <g style=\"fill:#58544f;\" transform=\"translate(7.2 148.295197)scale(0.08 -0.08)\">\r\n",
       "       <use xlink:href=\"#Roboto-Medium-32\"/>\r\n",
       "       <use x=\"56.835938\" xlink:href=\"#Roboto-Medium-30\"/>\r\n",
       "       <use x=\"113.671875\" xlink:href=\"#Roboto-Medium-30\"/>\r\n",
       "       <use x=\"170.507812\" xlink:href=\"#Roboto-Medium-30\"/>\r\n",
       "       <use x=\"227.34375\" xlink:href=\"#Roboto-Medium-30\"/>\r\n",
       "       <use x=\"284.179688\" xlink:href=\"#Roboto-Medium-30\"/>\r\n",
       "      </g>\r\n",
       "     </g>\r\n",
       "    </g>\r\n",
       "    <g id=\"ytick_6\">\r\n",
       "     <g id=\"line2d_29\">\r\n",
       "      <path clip-path=\"url(#p075b63ae7c)\" d=\"M 41.485 108.118996 \r\n",
       "L 599.485 108.118996 \r\n",
       "\" style=\"fill:none;stroke:#58544f;stroke-linecap:square;stroke-width:0.8;\"/>\r\n",
       "     </g>\r\n",
       "     <g id=\"line2d_30\">\r\n",
       "      <g>\r\n",
       "       <use style=\"fill:#58544f;stroke:#58544f;stroke-width:0.8;\" x=\"41.485\" xlink:href=\"#m4c3900e694\" y=\"108.118996\"/>\r\n",
       "      </g>\r\n",
       "     </g>\r\n",
       "     <g id=\"text_15\">\r\n",
       "      <!-- 250000 -->\r\n",
       "      <g style=\"fill:#58544f;\" transform=\"translate(7.2 111.118996)scale(0.08 -0.08)\">\r\n",
       "       <use xlink:href=\"#Roboto-Medium-32\"/>\r\n",
       "       <use x=\"56.835938\" xlink:href=\"#Roboto-Medium-35\"/>\r\n",
       "       <use x=\"113.671875\" xlink:href=\"#Roboto-Medium-30\"/>\r\n",
       "       <use x=\"170.507812\" xlink:href=\"#Roboto-Medium-30\"/>\r\n",
       "       <use x=\"227.34375\" xlink:href=\"#Roboto-Medium-30\"/>\r\n",
       "       <use x=\"284.179688\" xlink:href=\"#Roboto-Medium-30\"/>\r\n",
       "      </g>\r\n",
       "     </g>\r\n",
       "    </g>\r\n",
       "    <g id=\"ytick_7\">\r\n",
       "     <g id=\"line2d_31\">\r\n",
       "      <path clip-path=\"url(#p075b63ae7c)\" d=\"M 41.485 70.942795 \r\n",
       "L 599.485 70.942795 \r\n",
       "\" style=\"fill:none;stroke:#58544f;stroke-linecap:square;stroke-width:0.8;\"/>\r\n",
       "     </g>\r\n",
       "     <g id=\"line2d_32\">\r\n",
       "      <g>\r\n",
       "       <use style=\"fill:#58544f;stroke:#58544f;stroke-width:0.8;\" x=\"41.485\" xlink:href=\"#m4c3900e694\" y=\"70.942795\"/>\r\n",
       "      </g>\r\n",
       "     </g>\r\n",
       "     <g id=\"text_16\">\r\n",
       "      <!-- 300000 -->\r\n",
       "      <g style=\"fill:#58544f;\" transform=\"translate(7.2 73.942795)scale(0.08 -0.08)\">\r\n",
       "       <defs>\r\n",
       "        <path d=\"M 1219 2622 \r\n",
       "L 1681 2622 \r\n",
       "Q 2031 2625 2236 2803 \r\n",
       "Q 2441 2981 2441 3319 \r\n",
       "Q 2441 3644 2270 3823 \r\n",
       "Q 2100 4003 1750 4003 \r\n",
       "Q 1444 4003 1247 3826 \r\n",
       "Q 1050 3650 1050 3366 \r\n",
       "L 291 3366 \r\n",
       "Q 291 3716 477 4003 \r\n",
       "Q 663 4291 995 4452 \r\n",
       "Q 1328 4613 1741 4613 \r\n",
       "Q 2422 4613 2811 4270 \r\n",
       "Q 3200 3928 3200 3319 \r\n",
       "Q 3200 3013 3004 2742 \r\n",
       "Q 2809 2472 2500 2334 \r\n",
       "Q 2875 2206 3070 1931 \r\n",
       "Q 3266 1656 3266 1275 \r\n",
       "Q 3266 663 2845 300 \r\n",
       "Q 2425 -63 1741 -63 \r\n",
       "Q 1084 -63 665 287 \r\n",
       "Q 247 638 247 1219 \r\n",
       "L 1006 1219 \r\n",
       "Q 1006 919 1207 731 \r\n",
       "Q 1409 544 1750 544 \r\n",
       "Q 2103 544 2306 731 \r\n",
       "Q 2509 919 2509 1275 \r\n",
       "Q 2509 1634 2296 1828 \r\n",
       "Q 2084 2022 1666 2022 \r\n",
       "L 1219 2022 \r\n",
       "L 1219 2622 \r\n",
       "z\r\n",
       "\" id=\"Roboto-Medium-33\" transform=\"scale(0.015625)\"/>\r\n",
       "       </defs>\r\n",
       "       <use xlink:href=\"#Roboto-Medium-33\"/>\r\n",
       "       <use x=\"56.835938\" xlink:href=\"#Roboto-Medium-30\"/>\r\n",
       "       <use x=\"113.671875\" xlink:href=\"#Roboto-Medium-30\"/>\r\n",
       "       <use x=\"170.507812\" xlink:href=\"#Roboto-Medium-30\"/>\r\n",
       "       <use x=\"227.34375\" xlink:href=\"#Roboto-Medium-30\"/>\r\n",
       "       <use x=\"284.179688\" xlink:href=\"#Roboto-Medium-30\"/>\r\n",
       "      </g>\r\n",
       "     </g>\r\n",
       "    </g>\r\n",
       "    <g id=\"ytick_8\">\r\n",
       "     <g id=\"line2d_33\">\r\n",
       "      <path clip-path=\"url(#p075b63ae7c)\" d=\"M 41.485 33.766594 \r\n",
       "L 599.485 33.766594 \r\n",
       "\" style=\"fill:none;stroke:#58544f;stroke-linecap:square;stroke-width:0.8;\"/>\r\n",
       "     </g>\r\n",
       "     <g id=\"line2d_34\">\r\n",
       "      <g>\r\n",
       "       <use style=\"fill:#58544f;stroke:#58544f;stroke-width:0.8;\" x=\"41.485\" xlink:href=\"#m4c3900e694\" y=\"33.766594\"/>\r\n",
       "      </g>\r\n",
       "     </g>\r\n",
       "     <g id=\"text_17\">\r\n",
       "      <!-- 350000 -->\r\n",
       "      <g style=\"fill:#58544f;\" transform=\"translate(7.2 36.766594)scale(0.08 -0.08)\">\r\n",
       "       <use xlink:href=\"#Roboto-Medium-33\"/>\r\n",
       "       <use x=\"56.835938\" xlink:href=\"#Roboto-Medium-35\"/>\r\n",
       "       <use x=\"113.671875\" xlink:href=\"#Roboto-Medium-30\"/>\r\n",
       "       <use x=\"170.507812\" xlink:href=\"#Roboto-Medium-30\"/>\r\n",
       "       <use x=\"227.34375\" xlink:href=\"#Roboto-Medium-30\"/>\r\n",
       "       <use x=\"284.179688\" xlink:href=\"#Roboto-Medium-30\"/>\r\n",
       "      </g>\r\n",
       "     </g>\r\n",
       "    </g>\r\n",
       "   </g>\r\n",
       "   <g id=\"patch_13\">\r\n",
       "    <path d=\"M 41.485 294 \r\n",
       "L 41.485 22.2 \r\n",
       "\" style=\"fill:none;stroke:#58544f;stroke-linecap:square;stroke-linejoin:miter;stroke-width:0.8;\"/>\r\n",
       "   </g>\r\n",
       "   <g id=\"patch_14\">\r\n",
       "    <path d=\"M 599.485 294 \r\n",
       "L 599.485 22.2 \r\n",
       "\" style=\"fill:none;stroke:#58544f;stroke-linecap:square;stroke-linejoin:miter;stroke-width:0.8;\"/>\r\n",
       "   </g>\r\n",
       "   <g id=\"patch_15\">\r\n",
       "    <path d=\"M 41.485 294 \r\n",
       "L 599.485 294 \r\n",
       "\" style=\"fill:none;stroke:#58544f;stroke-linecap:square;stroke-linejoin:miter;stroke-width:0.8;\"/>\r\n",
       "   </g>\r\n",
       "   <g id=\"patch_16\">\r\n",
       "    <path d=\"M 41.485 22.2 \r\n",
       "L 599.485 22.2 \r\n",
       "\" style=\"fill:none;stroke:#58544f;stroke-linecap:square;stroke-linejoin:miter;stroke-width:0.8;\"/>\r\n",
       "   </g>\r\n",
       "   <g id=\"text_18\">\r\n",
       "    <!-- Распределение по мощности -->\r\n",
       "    <g transform=\"translate(237.1225 16.2)scale(0.12 -0.12)\">\r\n",
       "     <defs>\r\n",
       "      <path d=\"M 1253 1691 \r\n",
       "L 1253 0 \r\n",
       "L 463 0 \r\n",
       "L 463 4550 \r\n",
       "L 2203 4550 \r\n",
       "Q 2966 4550 3414 4153 \r\n",
       "Q 3863 3756 3863 3103 \r\n",
       "Q 3863 2434 3423 2062 \r\n",
       "Q 2984 1691 2194 1691 \r\n",
       "L 1253 1691 \r\n",
       "z\r\n",
       "M 1253 2325 \r\n",
       "L 2203 2325 \r\n",
       "Q 2625 2325 2847 2523 \r\n",
       "Q 3069 2722 3069 3097 \r\n",
       "Q 3069 3466 2844 3686 \r\n",
       "Q 2619 3906 2225 3913 \r\n",
       "L 1253 3913 \r\n",
       "L 1253 2325 \r\n",
       "z\r\n",
       "\" id=\"Roboto-Medium-420\" transform=\"scale(0.015625)\"/>\r\n",
       "      <path d=\"M 2409 0 \r\n",
       "Q 2359 97 2322 316 \r\n",
       "Q 1959 -63 1434 -63 \r\n",
       "Q 925 -63 603 228 \r\n",
       "Q 281 519 281 947 \r\n",
       "Q 281 1488 682 1777 \r\n",
       "Q 1084 2066 1831 2066 \r\n",
       "L 2297 2066 \r\n",
       "L 2297 2288 \r\n",
       "Q 2297 2550 2150 2708 \r\n",
       "Q 2003 2866 1703 2866 \r\n",
       "Q 1444 2866 1278 2736 \r\n",
       "Q 1113 2606 1113 2406 \r\n",
       "L 353 2406 \r\n",
       "Q 353 2684 537 2926 \r\n",
       "Q 722 3169 1039 3306 \r\n",
       "Q 1356 3444 1747 3444 \r\n",
       "Q 2341 3444 2694 3145 \r\n",
       "Q 3047 2847 3056 2306 \r\n",
       "L 3056 781 \r\n",
       "Q 3056 325 3184 53 \r\n",
       "L 3184 0 \r\n",
       "L 2409 0 \r\n",
       "z\r\n",
       "M 1575 547 \r\n",
       "Q 1800 547 1998 656 \r\n",
       "Q 2197 766 2297 950 \r\n",
       "L 2297 1588 \r\n",
       "L 1888 1588 \r\n",
       "Q 1466 1588 1253 1441 \r\n",
       "Q 1041 1294 1041 1025 \r\n",
       "Q 1041 806 1186 676 \r\n",
       "Q 1331 547 1575 547 \r\n",
       "z\r\n",
       "\" id=\"Roboto-Medium-430\" transform=\"scale(0.015625)\"/>\r\n",
       "      <path d=\"M 1778 544 \r\n",
       "Q 2063 544 2250 709 \r\n",
       "Q 2438 875 2450 1119 \r\n",
       "L 3166 1119 \r\n",
       "Q 3153 803 2968 529 \r\n",
       "Q 2784 256 2468 96 \r\n",
       "Q 2153 -63 1788 -63 \r\n",
       "Q 1078 -63 662 396 \r\n",
       "Q 247 856 247 1666 \r\n",
       "L 247 1744 \r\n",
       "Q 247 2516 659 2980 \r\n",
       "Q 1072 3444 1784 3444 \r\n",
       "Q 2388 3444 2767 3092 \r\n",
       "Q 3147 2741 3166 2169 \r\n",
       "L 2450 2169 \r\n",
       "Q 2438 2459 2252 2646 \r\n",
       "Q 2066 2834 1778 2834 \r\n",
       "Q 1409 2834 1209 2567 \r\n",
       "Q 1009 2300 1006 1756 \r\n",
       "L 1006 1634 \r\n",
       "Q 1006 1084 1204 814 \r\n",
       "Q 1403 544 1778 544 \r\n",
       "z\r\n",
       "\" id=\"Roboto-Medium-441\" transform=\"scale(0.015625)\"/>\r\n",
       "      <path d=\"M 3256 0 \r\n",
       "L 2497 0 \r\n",
       "L 2497 2769 \r\n",
       "L 1178 2769 \r\n",
       "L 1178 0 \r\n",
       "L 419 0 \r\n",
       "L 419 3381 \r\n",
       "L 3256 3381 \r\n",
       "L 3256 0 \r\n",
       "z\r\n",
       "\" id=\"Roboto-Medium-43f\" transform=\"scale(0.015625)\"/>\r\n",
       "      <path d=\"M 3350 1656 \r\n",
       "Q 3350 872 2994 404 \r\n",
       "Q 2638 -63 2038 -63 \r\n",
       "Q 1481 -63 1147 303 \r\n",
       "L 1147 -1300 \r\n",
       "L 388 -1300 \r\n",
       "L 388 3381 \r\n",
       "L 1088 3381 \r\n",
       "L 1119 3038 \r\n",
       "Q 1453 3444 2028 3444 \r\n",
       "Q 2647 3444 2998 2983 \r\n",
       "Q 3350 2522 3350 1703 \r\n",
       "L 3350 1656 \r\n",
       "z\r\n",
       "M 2594 1722 \r\n",
       "Q 2594 2228 2392 2525 \r\n",
       "Q 2191 2822 1816 2822 \r\n",
       "Q 1350 2822 1147 2438 \r\n",
       "L 1147 938 \r\n",
       "Q 1353 544 1822 544 \r\n",
       "Q 2184 544 2389 836 \r\n",
       "Q 2594 1128 2594 1722 \r\n",
       "z\r\n",
       "\" id=\"Roboto-Medium-440\" transform=\"scale(0.015625)\"/>\r\n",
       "      <path d=\"M 1878 -63 \r\n",
       "Q 1156 -63 707 392 \r\n",
       "Q 259 847 259 1603 \r\n",
       "L 259 1697 \r\n",
       "Q 259 2203 454 2601 \r\n",
       "Q 650 3000 1003 3222 \r\n",
       "Q 1356 3444 1791 3444 \r\n",
       "Q 2481 3444 2857 3003 \r\n",
       "Q 3234 2563 3234 1756 \r\n",
       "L 3234 1450 \r\n",
       "L 1025 1450 \r\n",
       "Q 1059 1031 1304 787 \r\n",
       "Q 1550 544 1922 544 \r\n",
       "Q 2444 544 2772 966 \r\n",
       "L 3181 575 \r\n",
       "Q 2978 272 2639 104 \r\n",
       "Q 2300 -63 1878 -63 \r\n",
       "z\r\n",
       "M 1788 2834 \r\n",
       "Q 1475 2834 1283 2615 \r\n",
       "Q 1091 2397 1038 2006 \r\n",
       "L 2484 2006 \r\n",
       "L 2484 2063 \r\n",
       "Q 2459 2444 2281 2639 \r\n",
       "Q 2103 2834 1788 2834 \r\n",
       "z\r\n",
       "\" id=\"Roboto-Medium-435\" transform=\"scale(0.015625)\"/>\r\n",
       "      <path d=\"M 403 606 \r\n",
       "Q 719 959 826 1276 \r\n",
       "Q 934 1594 956 2088 \r\n",
       "L 1000 3381 \r\n",
       "L 3347 3381 \r\n",
       "L 3347 606 \r\n",
       "L 3816 606 \r\n",
       "L 3816 -1006 \r\n",
       "L 3059 -1006 \r\n",
       "L 3059 0 \r\n",
       "L 891 0 \r\n",
       "L 891 -1006 \r\n",
       "L 122 -1006 \r\n",
       "L 125 606 \r\n",
       "L 403 606 \r\n",
       "z\r\n",
       "M 1294 606 \r\n",
       "L 2591 606 \r\n",
       "L 2591 2728 \r\n",
       "L 1738 2728 \r\n",
       "L 1716 2081 \r\n",
       "Q 1672 1150 1294 606 \r\n",
       "z\r\n",
       "\" id=\"Roboto-Medium-434\" transform=\"scale(0.015625)\"/>\r\n",
       "      <path d=\"M 3263 3381 \r\n",
       "L 3263 0 \r\n",
       "L 2503 0 \r\n",
       "L 2503 2769 \r\n",
       "L 1547 2769 \r\n",
       "L 1484 1591 \r\n",
       "Q 1425 741 1158 370 \r\n",
       "Q 891 0 341 0 \r\n",
       "L 106 0 \r\n",
       "L 103 631 \r\n",
       "L 259 647 \r\n",
       "Q 509 681 623 951 \r\n",
       "Q 738 1222 769 1938 \r\n",
       "L 831 3381 \r\n",
       "L 3263 3381 \r\n",
       "z\r\n",
       "\" id=\"Roboto-Medium-43b\" transform=\"scale(0.015625)\"/>\r\n",
       "      <path d=\"M 3253 0 \r\n",
       "L 2494 0 \r\n",
       "L 2494 1366 \r\n",
       "L 1178 1366 \r\n",
       "L 1178 0 \r\n",
       "L 419 0 \r\n",
       "L 419 3381 \r\n",
       "L 1178 3381 \r\n",
       "L 1178 1972 \r\n",
       "L 2494 1972 \r\n",
       "L 2494 3381 \r\n",
       "L 3253 3381 \r\n",
       "L 3253 0 \r\n",
       "z\r\n",
       "\" id=\"Roboto-Medium-43d\" transform=\"scale(0.015625)\"/>\r\n",
       "      <path d=\"M 2500 3381 \r\n",
       "L 3256 3381 \r\n",
       "L 3256 0 \r\n",
       "L 2500 0 \r\n",
       "L 2500 2256 \r\n",
       "L 1175 0 \r\n",
       "L 419 0 \r\n",
       "L 419 3381 \r\n",
       "L 1175 3381 \r\n",
       "L 1175 1125 \r\n",
       "L 2500 3381 \r\n",
       "z\r\n",
       "\" id=\"Roboto-Medium-438\" transform=\"scale(0.015625)\"/>\r\n",
       "      <path id=\"Roboto-Medium-20\" transform=\"scale(0.015625)\"/>\r\n",
       "      <path d=\"M 247 1722 \r\n",
       "Q 247 2219 444 2617 \r\n",
       "Q 641 3016 997 3230 \r\n",
       "Q 1353 3444 1816 3444 \r\n",
       "Q 2500 3444 2926 3003 \r\n",
       "Q 3353 2563 3388 1834 \r\n",
       "L 3391 1656 \r\n",
       "Q 3391 1156 3198 762 \r\n",
       "Q 3006 369 2648 153 \r\n",
       "Q 2291 -63 1822 -63 \r\n",
       "Q 1106 -63 676 414 \r\n",
       "Q 247 891 247 1684 \r\n",
       "L 247 1722 \r\n",
       "z\r\n",
       "M 1006 1656 \r\n",
       "Q 1006 1134 1222 839 \r\n",
       "Q 1438 544 1822 544 \r\n",
       "Q 2206 544 2420 844 \r\n",
       "Q 2634 1144 2634 1722 \r\n",
       "Q 2634 2234 2414 2534 \r\n",
       "Q 2194 2834 1816 2834 \r\n",
       "Q 1444 2834 1225 2539 \r\n",
       "Q 1006 2244 1006 1656 \r\n",
       "z\r\n",
       "\" id=\"Roboto-Medium-43e\" transform=\"scale(0.015625)\"/>\r\n",
       "      <path d=\"M 2397 934 \r\n",
       "L 3397 3381 \r\n",
       "L 4347 3381 \r\n",
       "L 4347 0 \r\n",
       "L 3588 0 \r\n",
       "L 3588 2238 \r\n",
       "L 2656 0 \r\n",
       "L 2141 0 \r\n",
       "L 1206 2250 \r\n",
       "L 1206 0 \r\n",
       "L 447 0 \r\n",
       "L 447 3381 \r\n",
       "L 1403 3381 \r\n",
       "L 2397 934 \r\n",
       "z\r\n",
       "\" id=\"Roboto-Medium-43c\" transform=\"scale(0.015625)\"/>\r\n",
       "      <path d=\"M 1153 3381 \r\n",
       "L 1153 606 \r\n",
       "L 2209 606 \r\n",
       "L 2209 3381 \r\n",
       "L 2969 3381 \r\n",
       "L 2969 606 \r\n",
       "L 4028 606 \r\n",
       "L 4028 3381 \r\n",
       "L 4784 3381 \r\n",
       "L 4784 606 \r\n",
       "L 5363 606 \r\n",
       "L 5300 -1003 \r\n",
       "L 4609 -1003 \r\n",
       "L 4609 0 \r\n",
       "L 394 0 \r\n",
       "L 394 3381 \r\n",
       "L 1153 3381 \r\n",
       "z\r\n",
       "\" id=\"Roboto-Medium-449\" transform=\"scale(0.015625)\"/>\r\n",
       "      <path d=\"M 3050 2778 \r\n",
       "L 1953 2778 \r\n",
       "L 1953 0 \r\n",
       "L 1194 0 \r\n",
       "L 1194 2778 \r\n",
       "L 109 2778 \r\n",
       "L 109 3381 \r\n",
       "L 3050 3381 \r\n",
       "L 3050 2778 \r\n",
       "z\r\n",
       "\" id=\"Roboto-Medium-442\" transform=\"scale(0.015625)\"/>\r\n",
       "     </defs>\r\n",
       "     <use xlink:href=\"#Roboto-Medium-420\"/>\r\n",
       "     <use x=\"63.916016\" xlink:href=\"#Roboto-Medium-430\"/>\r\n",
       "     <use x=\"118.017578\" xlink:href=\"#Roboto-Medium-441\"/>\r\n",
       "     <use x=\"170.361328\" xlink:href=\"#Roboto-Medium-43f\"/>\r\n",
       "     <use x=\"227.783203\" xlink:href=\"#Roboto-Medium-440\"/>\r\n",
       "     <use x=\"284.082031\" xlink:href=\"#Roboto-Medium-435\"/>\r\n",
       "     <use x=\"337.744141\" xlink:href=\"#Roboto-Medium-434\"/>\r\n",
       "     <use x=\"399.755859\" xlink:href=\"#Roboto-Medium-435\"/>\r\n",
       "     <use x=\"453.417969\" xlink:href=\"#Roboto-Medium-43b\"/>\r\n",
       "     <use x=\"510.9375\" xlink:href=\"#Roboto-Medium-435\"/>\r\n",
       "     <use x=\"564.599609\" xlink:href=\"#Roboto-Medium-43d\"/>\r\n",
       "     <use x=\"621.972656\" xlink:href=\"#Roboto-Medium-438\"/>\r\n",
       "     <use x=\"679.394531\" xlink:href=\"#Roboto-Medium-435\"/>\r\n",
       "     <use x=\"733.056641\" xlink:href=\"#Roboto-Medium-20\"/>\r\n",
       "     <use x=\"757.958984\" xlink:href=\"#Roboto-Medium-43f\"/>\r\n",
       "     <use x=\"815.380859\" xlink:href=\"#Roboto-Medium-43e\"/>\r\n",
       "     <use x=\"872.314453\" xlink:href=\"#Roboto-Medium-20\"/>\r\n",
       "     <use x=\"897.216797\" xlink:href=\"#Roboto-Medium-43c\"/>\r\n",
       "     <use x=\"972.363281\" xlink:href=\"#Roboto-Medium-43e\"/>\r\n",
       "     <use x=\"1029.296875\" xlink:href=\"#Roboto-Medium-449\"/>\r\n",
       "     <use x=\"1115.820312\" xlink:href=\"#Roboto-Medium-43d\"/>\r\n",
       "     <use x=\"1173.193359\" xlink:href=\"#Roboto-Medium-43e\"/>\r\n",
       "     <use x=\"1230.126953\" xlink:href=\"#Roboto-Medium-441\"/>\r\n",
       "     <use x=\"1282.470703\" xlink:href=\"#Roboto-Medium-442\"/>\r\n",
       "     <use x=\"1331.933594\" xlink:href=\"#Roboto-Medium-438\"/>\r\n",
       "    </g>\r\n",
       "   </g>\r\n",
       "  </g>\r\n",
       " </g>\r\n",
       " <defs>\r\n",
       "  <clipPath id=\"p075b63ae7c\">\r\n",
       "   <rect height=\"271.8\" width=\"558\" x=\"41.485\" y=\"22.2\"/>\r\n",
       "  </clipPath>\r\n",
       " </defs>\r\n",
       "</svg>\r\n"
      ],
      "text/plain": [
       "<Figure size 1000x500 with 1 Axes>"
      ]
     },
     "metadata": {},
     "output_type": "display_data"
    }
   ],
   "source": [
    "data.power.hist(bins=10)\n",
    "plt.title('Распределение по мощности')"
   ]
  },
  {
   "cell_type": "markdown",
   "metadata": {},
   "source": [
    "Поэтому разделим значения по интервалам, которые передадим аргументом в параметр `bins`"
   ]
  },
  {
   "cell_type": "code",
   "execution_count": 420,
   "metadata": {},
   "outputs": [
    {
     "data": {
      "text/plain": [
       "Text(0.5, 1.0, 'Распределение по мощности')"
      ]
     },
     "execution_count": 420,
     "metadata": {},
     "output_type": "execute_result"
    },
    {
     "data": {
      "image/svg+xml": [
       "<?xml version=\"1.0\" encoding=\"utf-8\" standalone=\"no\"?>\r\n",
       "<!DOCTYPE svg PUBLIC \"-//W3C//DTD SVG 1.1//EN\"\r\n",
       "  \"http://www.w3.org/Graphics/SVG/1.1/DTD/svg11.dtd\">\r\n",
       "<svg height=\"315.825pt\" version=\"1.1\" viewBox=\"0 0 622.49 315.825\" width=\"622.49pt\" xmlns=\"http://www.w3.org/2000/svg\" xmlns:xlink=\"http://www.w3.org/1999/xlink\">\r\n",
       " <metadata>\r\n",
       "  <rdf:RDF xmlns:cc=\"http://creativecommons.org/ns#\" xmlns:dc=\"http://purl.org/dc/elements/1.1/\" xmlns:rdf=\"http://www.w3.org/1999/02/22-rdf-syntax-ns#\">\r\n",
       "   <cc:Work>\r\n",
       "    <dc:type rdf:resource=\"http://purl.org/dc/dcmitype/StillImage\"/>\r\n",
       "    <dc:date>2022-01-14T21:02:44.737640</dc:date>\r\n",
       "    <dc:format>image/svg+xml</dc:format>\r\n",
       "    <dc:creator>\r\n",
       "     <cc:Agent>\r\n",
       "      <dc:title>Matplotlib v3.4.3, https://matplotlib.org/</dc:title>\r\n",
       "     </cc:Agent>\r\n",
       "    </dc:creator>\r\n",
       "   </cc:Work>\r\n",
       "  </rdf:RDF>\r\n",
       " </metadata>\r\n",
       " <defs>\r\n",
       "  <style type=\"text/css\">*{stroke-linecap:butt;stroke-linejoin:round;}</style>\r\n",
       " </defs>\r\n",
       " <g id=\"figure_1\">\r\n",
       "  <g id=\"patch_1\">\r\n",
       "   <path d=\"M 0 315.825 \r\n",
       "L 622.49 315.825 \r\n",
       "L 622.49 0 \r\n",
       "L 0 0 \r\n",
       "z\r\n",
       "\" style=\"fill:#ffffff;\"/>\r\n",
       "  </g>\r\n",
       "  <g id=\"axes_1\">\r\n",
       "   <g id=\"patch_2\">\r\n",
       "    <path d=\"M 50.46875 294 \r\n",
       "L 608.46875 294 \r\n",
       "L 608.46875 22.2 \r\n",
       "L 50.46875 22.2 \r\n",
       "z\r\n",
       "\" style=\"fill:#ffffff;\"/>\r\n",
       "   </g>\r\n",
       "   <g id=\"patch_3\">\r\n",
       "    <path clip-path=\"url(#p269df788a7)\" d=\"M 75.02075 294 \r\n",
       "L 95.10875 294 \r\n",
       "L 95.10875 292.830293 \r\n",
       "L 75.02075 292.830293 \r\n",
       "z\r\n",
       "\" style=\"fill:#0088ed;opacity:0.7;\"/>\r\n",
       "   </g>\r\n",
       "   <g id=\"patch_4\">\r\n",
       "    <path clip-path=\"url(#p269df788a7)\" d=\"M 95.10875 294 \r\n",
       "L 117.42875 294 \r\n",
       "L 117.42875 290.130291 \r\n",
       "L 95.10875 290.130291 \r\n",
       "z\r\n",
       "\" style=\"fill:#0088ed;opacity:0.7;\"/>\r\n",
       "   </g>\r\n",
       "   <g id=\"patch_5\">\r\n",
       "    <path clip-path=\"url(#p269df788a7)\" d=\"M 117.42875 294 \r\n",
       "L 139.74875 294 \r\n",
       "L 139.74875 289.734525 \r\n",
       "L 117.42875 289.734525 \r\n",
       "z\r\n",
       "\" style=\"fill:#0088ed;opacity:0.7;\"/>\r\n",
       "   </g>\r\n",
       "   <g id=\"patch_6\">\r\n",
       "    <path clip-path=\"url(#p269df788a7)\" d=\"M 139.74875 294 \r\n",
       "L 162.06875 294 \r\n",
       "L 162.06875 255.030272 \r\n",
       "L 139.74875 255.030272 \r\n",
       "z\r\n",
       "\" style=\"fill:#0088ed;opacity:0.7;\"/>\r\n",
       "   </g>\r\n",
       "   <g id=\"patch_7\">\r\n",
       "    <path clip-path=\"url(#p269df788a7)\" d=\"M 162.06875 294 \r\n",
       "L 184.38875 294 \r\n",
       "L 184.38875 141.252035 \r\n",
       "L 162.06875 141.252035 \r\n",
       "z\r\n",
       "\" style=\"fill:#0088ed;opacity:0.7;\"/>\r\n",
       "   </g>\r\n",
       "   <g id=\"patch_8\">\r\n",
       "    <path clip-path=\"url(#p269df788a7)\" d=\"M 184.38875 294 \r\n",
       "L 206.70875 294 \r\n",
       "L 206.70875 47.763385 \r\n",
       "L 184.38875 47.763385 \r\n",
       "z\r\n",
       "\" style=\"fill:#0088ed;opacity:0.7;\"/>\r\n",
       "   </g>\r\n",
       "   <g id=\"patch_9\">\r\n",
       "    <path clip-path=\"url(#p269df788a7)\" d=\"M 206.70875 294 \r\n",
       "L 229.02875 294 \r\n",
       "L 229.02875 35.142857 \r\n",
       "L 206.70875 35.142857 \r\n",
       "z\r\n",
       "\" style=\"fill:#0088ed;opacity:0.7;\"/>\r\n",
       "   </g>\r\n",
       "   <g id=\"patch_10\">\r\n",
       "    <path clip-path=\"url(#p269df788a7)\" d=\"M 229.02875 294 \r\n",
       "L 251.34875 294 \r\n",
       "L 251.34875 176.149774 \r\n",
       "L 229.02875 176.149774 \r\n",
       "z\r\n",
       "\" style=\"fill:#0088ed;opacity:0.7;\"/>\r\n",
       "   </g>\r\n",
       "   <g id=\"patch_11\">\r\n",
       "    <path clip-path=\"url(#p269df788a7)\" d=\"M 251.34875 294 \r\n",
       "L 273.66875 294 \r\n",
       "L 273.66875 115.184268 \r\n",
       "L 251.34875 115.184268 \r\n",
       "z\r\n",
       "\" style=\"fill:#0088ed;opacity:0.7;\"/>\r\n",
       "   </g>\r\n",
       "   <g id=\"matplotlib.axis_1\">\r\n",
       "    <g id=\"xtick_1\">\r\n",
       "     <g id=\"line2d_1\">\r\n",
       "      <defs>\r\n",
       "       <path d=\"M 0 0 \r\n",
       "L 0 3.5 \r\n",
       "\" id=\"mcd58416959\" style=\"stroke:#58544f;stroke-width:0.8;\"/>\r\n",
       "      </defs>\r\n",
       "      <g>\r\n",
       "       <use style=\"fill:#58544f;stroke:#58544f;stroke-width:0.8;\" x=\"50.46875\" xlink:href=\"#mcd58416959\" y=\"294\"/>\r\n",
       "      </g>\r\n",
       "     </g>\r\n",
       "     <g id=\"text_1\">\r\n",
       "      <!-- 0 -->\r\n",
       "      <g style=\"fill:#58544f;\" transform=\"translate(48.195 307)scale(0.08 -0.08)\">\r\n",
       "       <defs>\r\n",
       "        <path d=\"M 3306 1916 \r\n",
       "Q 3306 934 2939 435 \r\n",
       "Q 2572 -63 1822 -63 \r\n",
       "Q 1084 -63 711 423 \r\n",
       "Q 338 909 328 1863 \r\n",
       "L 328 2650 \r\n",
       "Q 328 3631 695 4122 \r\n",
       "Q 1063 4613 1816 4613 \r\n",
       "Q 2563 4613 2930 4134 \r\n",
       "Q 3297 3656 3306 2703 \r\n",
       "L 3306 1916 \r\n",
       "z\r\n",
       "M 2547 2766 \r\n",
       "Q 2547 3406 2372 3704 \r\n",
       "Q 2197 4003 1816 4003 \r\n",
       "Q 1444 4003 1269 3720 \r\n",
       "Q 1094 3438 1084 2838 \r\n",
       "L 1084 1806 \r\n",
       "Q 1084 1169 1262 856 \r\n",
       "Q 1441 544 1822 544 \r\n",
       "Q 2188 544 2363 833 \r\n",
       "Q 2538 1122 2547 1738 \r\n",
       "L 2547 2766 \r\n",
       "z\r\n",
       "\" id=\"Roboto-Medium-30\" transform=\"scale(0.015625)\"/>\r\n",
       "       </defs>\r\n",
       "       <use xlink:href=\"#Roboto-Medium-30\"/>\r\n",
       "      </g>\r\n",
       "     </g>\r\n",
       "    </g>\r\n",
       "    <g id=\"xtick_2\">\r\n",
       "     <g id=\"line2d_2\">\r\n",
       "      <g>\r\n",
       "       <use style=\"fill:#58544f;stroke:#58544f;stroke-width:0.8;\" x=\"162.06875\" xlink:href=\"#mcd58416959\" y=\"294\"/>\r\n",
       "      </g>\r\n",
       "     </g>\r\n",
       "     <g id=\"text_2\">\r\n",
       "      <!-- 50 -->\r\n",
       "      <g style=\"fill:#58544f;\" transform=\"translate(157.52125 307)scale(0.08 -0.08)\">\r\n",
       "       <defs>\r\n",
       "        <path d=\"M 544 2256 \r\n",
       "L 791 4550 \r\n",
       "L 3234 4550 \r\n",
       "L 3234 3894 \r\n",
       "L 1422 3894 \r\n",
       "L 1297 2806 \r\n",
       "Q 1613 2988 2009 2988 \r\n",
       "Q 2659 2988 3020 2572 \r\n",
       "Q 3381 2156 3381 1453 \r\n",
       "Q 3381 759 2981 348 \r\n",
       "Q 2581 -63 1884 -63 \r\n",
       "Q 1259 -63 848 292 \r\n",
       "Q 438 647 403 1228 \r\n",
       "L 1138 1228 \r\n",
       "Q 1181 897 1375 720 \r\n",
       "Q 1569 544 1881 544 \r\n",
       "Q 2231 544 2426 794 \r\n",
       "Q 2622 1044 2622 1475 \r\n",
       "Q 2622 1891 2406 2133 \r\n",
       "Q 2191 2375 1813 2375 \r\n",
       "Q 1606 2375 1462 2320 \r\n",
       "Q 1319 2266 1150 2106 \r\n",
       "L 544 2256 \r\n",
       "z\r\n",
       "\" id=\"Roboto-Medium-35\" transform=\"scale(0.015625)\"/>\r\n",
       "       </defs>\r\n",
       "       <use xlink:href=\"#Roboto-Medium-35\"/>\r\n",
       "       <use x=\"56.835938\" xlink:href=\"#Roboto-Medium-30\"/>\r\n",
       "      </g>\r\n",
       "     </g>\r\n",
       "    </g>\r\n",
       "    <g id=\"xtick_3\">\r\n",
       "     <g id=\"line2d_3\">\r\n",
       "      <g>\r\n",
       "       <use style=\"fill:#58544f;stroke:#58544f;stroke-width:0.8;\" x=\"273.66875\" xlink:href=\"#mcd58416959\" y=\"294\"/>\r\n",
       "      </g>\r\n",
       "     </g>\r\n",
       "     <g id=\"text_3\">\r\n",
       "      <!-- 100 -->\r\n",
       "      <g style=\"fill:#58544f;\" transform=\"translate(266.8475 307)scale(0.08 -0.08)\">\r\n",
       "       <defs>\r\n",
       "        <path d=\"M 2397 0 \r\n",
       "L 1641 0 \r\n",
       "L 1641 3653 \r\n",
       "L 525 3272 \r\n",
       "L 525 3913 \r\n",
       "L 2300 4566 \r\n",
       "L 2397 4566 \r\n",
       "L 2397 0 \r\n",
       "z\r\n",
       "\" id=\"Roboto-Medium-31\" transform=\"scale(0.015625)\"/>\r\n",
       "       </defs>\r\n",
       "       <use xlink:href=\"#Roboto-Medium-31\"/>\r\n",
       "       <use x=\"56.835938\" xlink:href=\"#Roboto-Medium-30\"/>\r\n",
       "       <use x=\"113.671875\" xlink:href=\"#Roboto-Medium-30\"/>\r\n",
       "      </g>\r\n",
       "     </g>\r\n",
       "    </g>\r\n",
       "    <g id=\"xtick_4\">\r\n",
       "     <g id=\"line2d_4\">\r\n",
       "      <g>\r\n",
       "       <use style=\"fill:#58544f;stroke:#58544f;stroke-width:0.8;\" x=\"385.26875\" xlink:href=\"#mcd58416959\" y=\"294\"/>\r\n",
       "      </g>\r\n",
       "     </g>\r\n",
       "     <g id=\"text_4\">\r\n",
       "      <!-- 150 -->\r\n",
       "      <g style=\"fill:#58544f;\" transform=\"translate(378.4475 307)scale(0.08 -0.08)\">\r\n",
       "       <use xlink:href=\"#Roboto-Medium-31\"/>\r\n",
       "       <use x=\"56.835938\" xlink:href=\"#Roboto-Medium-35\"/>\r\n",
       "       <use x=\"113.671875\" xlink:href=\"#Roboto-Medium-30\"/>\r\n",
       "      </g>\r\n",
       "     </g>\r\n",
       "    </g>\r\n",
       "    <g id=\"xtick_5\">\r\n",
       "     <g id=\"line2d_5\">\r\n",
       "      <g>\r\n",
       "       <use style=\"fill:#58544f;stroke:#58544f;stroke-width:0.8;\" x=\"496.86875\" xlink:href=\"#mcd58416959\" y=\"294\"/>\r\n",
       "      </g>\r\n",
       "     </g>\r\n",
       "     <g id=\"text_5\">\r\n",
       "      <!-- 200 -->\r\n",
       "      <g style=\"fill:#58544f;\" transform=\"translate(490.0475 307)scale(0.08 -0.08)\">\r\n",
       "       <defs>\r\n",
       "        <path d=\"M 3400 0 \r\n",
       "L 341 0 \r\n",
       "L 341 522 \r\n",
       "L 1856 2175 \r\n",
       "Q 2184 2541 2323 2786 \r\n",
       "Q 2463 3031 2463 3278 \r\n",
       "Q 2463 3603 2280 3803 \r\n",
       "Q 2097 4003 1788 4003 \r\n",
       "Q 1419 4003 1216 3778 \r\n",
       "Q 1013 3553 1013 3163 \r\n",
       "L 253 3163 \r\n",
       "Q 253 3578 442 3911 \r\n",
       "Q 631 4244 982 4428 \r\n",
       "Q 1334 4613 1794 4613 \r\n",
       "Q 2456 4613 2839 4280 \r\n",
       "Q 3222 3947 3222 3359 \r\n",
       "Q 3222 3019 3030 2645 \r\n",
       "Q 2838 2272 2400 1797 \r\n",
       "L 1288 606 \r\n",
       "L 3400 606 \r\n",
       "L 3400 0 \r\n",
       "z\r\n",
       "\" id=\"Roboto-Medium-32\" transform=\"scale(0.015625)\"/>\r\n",
       "       </defs>\r\n",
       "       <use xlink:href=\"#Roboto-Medium-32\"/>\r\n",
       "       <use x=\"56.835938\" xlink:href=\"#Roboto-Medium-30\"/>\r\n",
       "       <use x=\"113.671875\" xlink:href=\"#Roboto-Medium-30\"/>\r\n",
       "      </g>\r\n",
       "     </g>\r\n",
       "    </g>\r\n",
       "    <g id=\"xtick_6\">\r\n",
       "     <g id=\"line2d_6\">\r\n",
       "      <g>\r\n",
       "       <use style=\"fill:#58544f;stroke:#58544f;stroke-width:0.8;\" x=\"608.46875\" xlink:href=\"#mcd58416959\" y=\"294\"/>\r\n",
       "      </g>\r\n",
       "     </g>\r\n",
       "     <g id=\"text_6\">\r\n",
       "      <!-- 250 -->\r\n",
       "      <g style=\"fill:#58544f;\" transform=\"translate(601.6475 307)scale(0.08 -0.08)\">\r\n",
       "       <use xlink:href=\"#Roboto-Medium-32\"/>\r\n",
       "       <use x=\"56.835938\" xlink:href=\"#Roboto-Medium-35\"/>\r\n",
       "       <use x=\"113.671875\" xlink:href=\"#Roboto-Medium-30\"/>\r\n",
       "      </g>\r\n",
       "     </g>\r\n",
       "    </g>\r\n",
       "   </g>\r\n",
       "   <g id=\"matplotlib.axis_2\">\r\n",
       "    <g id=\"ytick_1\">\r\n",
       "     <g id=\"line2d_7\">\r\n",
       "      <defs>\r\n",
       "       <path d=\"M 0 0 \r\n",
       "L -3.5 0 \r\n",
       "\" id=\"mb8bab30fa2\" style=\"stroke:#58544f;stroke-width:0.8;\"/>\r\n",
       "      </defs>\r\n",
       "      <g>\r\n",
       "       <use style=\"fill:#58544f;stroke:#58544f;stroke-width:0.8;\" x=\"50.46875\" xlink:href=\"#mb8bab30fa2\" y=\"294\"/>\r\n",
       "      </g>\r\n",
       "     </g>\r\n",
       "     <g id=\"text_7\">\r\n",
       "      <!-- 0 -->\r\n",
       "      <g style=\"fill:#58544f;\" transform=\"translate(38.92125 297)scale(0.08 -0.08)\">\r\n",
       "       <use xlink:href=\"#Roboto-Medium-30\"/>\r\n",
       "      </g>\r\n",
       "     </g>\r\n",
       "    </g>\r\n",
       "    <g id=\"ytick_2\">\r\n",
       "     <g id=\"line2d_8\">\r\n",
       "      <g>\r\n",
       "       <use style=\"fill:#58544f;stroke:#58544f;stroke-width:0.8;\" x=\"50.46875\" xlink:href=\"#mb8bab30fa2\" y=\"250.026035\"/>\r\n",
       "      </g>\r\n",
       "     </g>\r\n",
       "     <g id=\"text_8\">\r\n",
       "      <!-- 5000 -->\r\n",
       "      <g style=\"fill:#58544f;\" transform=\"translate(25.27875 253.026035)scale(0.08 -0.08)\">\r\n",
       "       <use xlink:href=\"#Roboto-Medium-35\"/>\r\n",
       "       <use x=\"56.835938\" xlink:href=\"#Roboto-Medium-30\"/>\r\n",
       "       <use x=\"113.671875\" xlink:href=\"#Roboto-Medium-30\"/>\r\n",
       "       <use x=\"170.507812\" xlink:href=\"#Roboto-Medium-30\"/>\r\n",
       "      </g>\r\n",
       "     </g>\r\n",
       "    </g>\r\n",
       "    <g id=\"ytick_3\">\r\n",
       "     <g id=\"line2d_9\">\r\n",
       "      <g>\r\n",
       "       <use style=\"fill:#58544f;stroke:#58544f;stroke-width:0.8;\" x=\"50.46875\" xlink:href=\"#mb8bab30fa2\" y=\"206.05207\"/>\r\n",
       "      </g>\r\n",
       "     </g>\r\n",
       "     <g id=\"text_9\">\r\n",
       "      <!-- 10000 -->\r\n",
       "      <g style=\"fill:#58544f;\" transform=\"translate(20.73125 209.05207)scale(0.08 -0.08)\">\r\n",
       "       <use xlink:href=\"#Roboto-Medium-31\"/>\r\n",
       "       <use x=\"56.835938\" xlink:href=\"#Roboto-Medium-30\"/>\r\n",
       "       <use x=\"113.671875\" xlink:href=\"#Roboto-Medium-30\"/>\r\n",
       "       <use x=\"170.507812\" xlink:href=\"#Roboto-Medium-30\"/>\r\n",
       "       <use x=\"227.34375\" xlink:href=\"#Roboto-Medium-30\"/>\r\n",
       "      </g>\r\n",
       "     </g>\r\n",
       "    </g>\r\n",
       "    <g id=\"ytick_4\">\r\n",
       "     <g id=\"line2d_10\">\r\n",
       "      <g>\r\n",
       "       <use style=\"fill:#58544f;stroke:#58544f;stroke-width:0.8;\" x=\"50.46875\" xlink:href=\"#mb8bab30fa2\" y=\"162.078105\"/>\r\n",
       "      </g>\r\n",
       "     </g>\r\n",
       "     <g id=\"text_10\">\r\n",
       "      <!-- 15000 -->\r\n",
       "      <g style=\"fill:#58544f;\" transform=\"translate(20.73125 165.078105)scale(0.08 -0.08)\">\r\n",
       "       <use xlink:href=\"#Roboto-Medium-31\"/>\r\n",
       "       <use x=\"56.835938\" xlink:href=\"#Roboto-Medium-35\"/>\r\n",
       "       <use x=\"113.671875\" xlink:href=\"#Roboto-Medium-30\"/>\r\n",
       "       <use x=\"170.507812\" xlink:href=\"#Roboto-Medium-30\"/>\r\n",
       "       <use x=\"227.34375\" xlink:href=\"#Roboto-Medium-30\"/>\r\n",
       "      </g>\r\n",
       "     </g>\r\n",
       "    </g>\r\n",
       "    <g id=\"ytick_5\">\r\n",
       "     <g id=\"line2d_11\">\r\n",
       "      <g>\r\n",
       "       <use style=\"fill:#58544f;stroke:#58544f;stroke-width:0.8;\" x=\"50.46875\" xlink:href=\"#mb8bab30fa2\" y=\"118.10414\"/>\r\n",
       "      </g>\r\n",
       "     </g>\r\n",
       "     <g id=\"text_11\">\r\n",
       "      <!-- 20000 -->\r\n",
       "      <g style=\"fill:#58544f;\" transform=\"translate(20.73125 121.10414)scale(0.08 -0.08)\">\r\n",
       "       <use xlink:href=\"#Roboto-Medium-32\"/>\r\n",
       "       <use x=\"56.835938\" xlink:href=\"#Roboto-Medium-30\"/>\r\n",
       "       <use x=\"113.671875\" xlink:href=\"#Roboto-Medium-30\"/>\r\n",
       "       <use x=\"170.507812\" xlink:href=\"#Roboto-Medium-30\"/>\r\n",
       "       <use x=\"227.34375\" xlink:href=\"#Roboto-Medium-30\"/>\r\n",
       "      </g>\r\n",
       "     </g>\r\n",
       "    </g>\r\n",
       "    <g id=\"ytick_6\">\r\n",
       "     <g id=\"line2d_12\">\r\n",
       "      <g>\r\n",
       "       <use style=\"fill:#58544f;stroke:#58544f;stroke-width:0.8;\" x=\"50.46875\" xlink:href=\"#mb8bab30fa2\" y=\"74.130175\"/>\r\n",
       "      </g>\r\n",
       "     </g>\r\n",
       "     <g id=\"text_12\">\r\n",
       "      <!-- 25000 -->\r\n",
       "      <g style=\"fill:#58544f;\" transform=\"translate(20.73125 77.130175)scale(0.08 -0.08)\">\r\n",
       "       <use xlink:href=\"#Roboto-Medium-32\"/>\r\n",
       "       <use x=\"56.835938\" xlink:href=\"#Roboto-Medium-35\"/>\r\n",
       "       <use x=\"113.671875\" xlink:href=\"#Roboto-Medium-30\"/>\r\n",
       "       <use x=\"170.507812\" xlink:href=\"#Roboto-Medium-30\"/>\r\n",
       "       <use x=\"227.34375\" xlink:href=\"#Roboto-Medium-30\"/>\r\n",
       "      </g>\r\n",
       "     </g>\r\n",
       "    </g>\r\n",
       "    <g id=\"ytick_7\">\r\n",
       "     <g id=\"line2d_13\">\r\n",
       "      <g>\r\n",
       "       <use style=\"fill:#58544f;stroke:#58544f;stroke-width:0.8;\" x=\"50.46875\" xlink:href=\"#mb8bab30fa2\" y=\"30.15621\"/>\r\n",
       "      </g>\r\n",
       "     </g>\r\n",
       "     <g id=\"text_13\">\r\n",
       "      <!-- 30000 -->\r\n",
       "      <g style=\"fill:#58544f;\" transform=\"translate(20.73125 33.15621)scale(0.08 -0.08)\">\r\n",
       "       <defs>\r\n",
       "        <path d=\"M 1219 2622 \r\n",
       "L 1681 2622 \r\n",
       "Q 2031 2625 2236 2803 \r\n",
       "Q 2441 2981 2441 3319 \r\n",
       "Q 2441 3644 2270 3823 \r\n",
       "Q 2100 4003 1750 4003 \r\n",
       "Q 1444 4003 1247 3826 \r\n",
       "Q 1050 3650 1050 3366 \r\n",
       "L 291 3366 \r\n",
       "Q 291 3716 477 4003 \r\n",
       "Q 663 4291 995 4452 \r\n",
       "Q 1328 4613 1741 4613 \r\n",
       "Q 2422 4613 2811 4270 \r\n",
       "Q 3200 3928 3200 3319 \r\n",
       "Q 3200 3013 3004 2742 \r\n",
       "Q 2809 2472 2500 2334 \r\n",
       "Q 2875 2206 3070 1931 \r\n",
       "Q 3266 1656 3266 1275 \r\n",
       "Q 3266 663 2845 300 \r\n",
       "Q 2425 -63 1741 -63 \r\n",
       "Q 1084 -63 665 287 \r\n",
       "Q 247 638 247 1219 \r\n",
       "L 1006 1219 \r\n",
       "Q 1006 919 1207 731 \r\n",
       "Q 1409 544 1750 544 \r\n",
       "Q 2103 544 2306 731 \r\n",
       "Q 2509 919 2509 1275 \r\n",
       "Q 2509 1634 2296 1828 \r\n",
       "Q 2084 2022 1666 2022 \r\n",
       "L 1219 2022 \r\n",
       "L 1219 2622 \r\n",
       "z\r\n",
       "\" id=\"Roboto-Medium-33\" transform=\"scale(0.015625)\"/>\r\n",
       "       </defs>\r\n",
       "       <use xlink:href=\"#Roboto-Medium-33\"/>\r\n",
       "       <use x=\"56.835938\" xlink:href=\"#Roboto-Medium-30\"/>\r\n",
       "       <use x=\"113.671875\" xlink:href=\"#Roboto-Medium-30\"/>\r\n",
       "       <use x=\"170.507812\" xlink:href=\"#Roboto-Medium-30\"/>\r\n",
       "       <use x=\"227.34375\" xlink:href=\"#Roboto-Medium-30\"/>\r\n",
       "      </g>\r\n",
       "     </g>\r\n",
       "    </g>\r\n",
       "    <g id=\"text_14\">\r\n",
       "     <!-- Frequency -->\r\n",
       "     <g style=\"fill:#58544f;\" transform=\"translate(14.596875 181.419531)rotate(-90)scale(0.1 -0.1)\">\r\n",
       "      <defs>\r\n",
       "       <path d=\"M 3084 1928 \r\n",
       "L 1253 1928 \r\n",
       "L 1253 0 \r\n",
       "L 463 0 \r\n",
       "L 463 4550 \r\n",
       "L 3353 4550 \r\n",
       "L 3353 3913 \r\n",
       "L 1253 3913 \r\n",
       "L 1253 2559 \r\n",
       "L 3084 2559 \r\n",
       "L 3084 1928 \r\n",
       "z\r\n",
       "\" id=\"Roboto-Medium-46\" transform=\"scale(0.015625)\"/>\r\n",
       "       <path d=\"M 2159 2688 \r\n",
       "Q 2009 2713 1850 2713 \r\n",
       "Q 1328 2713 1147 2313 \r\n",
       "L 1147 0 \r\n",
       "L 388 0 \r\n",
       "L 388 3381 \r\n",
       "L 1113 3381 \r\n",
       "L 1131 3003 \r\n",
       "Q 1406 3444 1894 3444 \r\n",
       "Q 2056 3444 2163 3400 \r\n",
       "L 2159 2688 \r\n",
       "z\r\n",
       "\" id=\"Roboto-Medium-72\" transform=\"scale(0.015625)\"/>\r\n",
       "       <path d=\"M 1878 -63 \r\n",
       "Q 1156 -63 707 392 \r\n",
       "Q 259 847 259 1603 \r\n",
       "L 259 1697 \r\n",
       "Q 259 2203 454 2601 \r\n",
       "Q 650 3000 1003 3222 \r\n",
       "Q 1356 3444 1791 3444 \r\n",
       "Q 2481 3444 2857 3003 \r\n",
       "Q 3234 2563 3234 1756 \r\n",
       "L 3234 1450 \r\n",
       "L 1025 1450 \r\n",
       "Q 1059 1031 1304 787 \r\n",
       "Q 1550 544 1922 544 \r\n",
       "Q 2444 544 2772 966 \r\n",
       "L 3181 575 \r\n",
       "Q 2978 272 2639 104 \r\n",
       "Q 2300 -63 1878 -63 \r\n",
       "z\r\n",
       "M 1788 2834 \r\n",
       "Q 1475 2834 1283 2615 \r\n",
       "Q 1091 2397 1038 2006 \r\n",
       "L 2484 2006 \r\n",
       "L 2484 2063 \r\n",
       "Q 2459 2444 2281 2639 \r\n",
       "Q 2103 2834 1788 2834 \r\n",
       "z\r\n",
       "\" id=\"Roboto-Medium-65\" transform=\"scale(0.015625)\"/>\r\n",
       "       <path d=\"M 247 1719 \r\n",
       "Q 247 2513 609 2978 \r\n",
       "Q 972 3444 1591 3444 \r\n",
       "Q 2156 3444 2488 3047 \r\n",
       "L 2531 3381 \r\n",
       "L 3206 3381 \r\n",
       "L 3206 -1300 \r\n",
       "L 2447 -1300 \r\n",
       "L 2447 288 \r\n",
       "Q 2116 -63 1584 -63 \r\n",
       "Q 978 -63 612 410 \r\n",
       "Q 247 884 247 1719 \r\n",
       "z\r\n",
       "M 1006 1653 \r\n",
       "Q 1006 1134 1211 839 \r\n",
       "Q 1416 544 1778 544 \r\n",
       "Q 2228 544 2447 928 \r\n",
       "L 2447 2466 \r\n",
       "Q 2228 2834 1784 2834 \r\n",
       "Q 1422 2834 1214 2543 \r\n",
       "Q 1006 2253 1006 1653 \r\n",
       "z\r\n",
       "\" id=\"Roboto-Medium-71\" transform=\"scale(0.015625)\"/>\r\n",
       "       <path d=\"M 2438 331 \r\n",
       "Q 2103 -63 1488 -63 \r\n",
       "Q 938 -63 655 259 \r\n",
       "Q 372 581 372 1191 \r\n",
       "L 372 3381 \r\n",
       "L 1131 3381 \r\n",
       "L 1131 1200 \r\n",
       "Q 1131 556 1666 556 \r\n",
       "Q 2219 556 2413 953 \r\n",
       "L 2413 3381 \r\n",
       "L 3172 3381 \r\n",
       "L 3172 0 \r\n",
       "L 2456 0 \r\n",
       "L 2438 331 \r\n",
       "z\r\n",
       "\" id=\"Roboto-Medium-75\" transform=\"scale(0.015625)\"/>\r\n",
       "       <path d=\"M 1094 3381 \r\n",
       "L 1116 2991 \r\n",
       "Q 1491 3444 2100 3444 \r\n",
       "Q 3156 3444 3175 2234 \r\n",
       "L 3175 0 \r\n",
       "L 2416 0 \r\n",
       "L 2416 2191 \r\n",
       "Q 2416 2513 2277 2667 \r\n",
       "Q 2138 2822 1822 2822 \r\n",
       "Q 1363 2822 1138 2406 \r\n",
       "L 1138 0 \r\n",
       "L 378 0 \r\n",
       "L 378 3381 \r\n",
       "L 1094 3381 \r\n",
       "z\r\n",
       "\" id=\"Roboto-Medium-6e\" transform=\"scale(0.015625)\"/>\r\n",
       "       <path d=\"M 1778 544 \r\n",
       "Q 2063 544 2250 709 \r\n",
       "Q 2438 875 2450 1119 \r\n",
       "L 3166 1119 \r\n",
       "Q 3153 803 2968 529 \r\n",
       "Q 2784 256 2468 96 \r\n",
       "Q 2153 -63 1788 -63 \r\n",
       "Q 1078 -63 662 396 \r\n",
       "Q 247 856 247 1666 \r\n",
       "L 247 1744 \r\n",
       "Q 247 2516 659 2980 \r\n",
       "Q 1072 3444 1784 3444 \r\n",
       "Q 2388 3444 2767 3092 \r\n",
       "Q 3147 2741 3166 2169 \r\n",
       "L 2450 2169 \r\n",
       "Q 2438 2459 2252 2646 \r\n",
       "Q 2066 2834 1778 2834 \r\n",
       "Q 1409 2834 1209 2567 \r\n",
       "Q 1009 2300 1006 1756 \r\n",
       "L 1006 1634 \r\n",
       "Q 1006 1084 1204 814 \r\n",
       "Q 1403 544 1778 544 \r\n",
       "z\r\n",
       "\" id=\"Roboto-Medium-63\" transform=\"scale(0.015625)\"/>\r\n",
       "       <path d=\"M 1572 1088 \r\n",
       "L 2259 3381 \r\n",
       "L 3069 3381 \r\n",
       "L 1725 -513 \r\n",
       "Q 1416 -1366 675 -1366 \r\n",
       "Q 509 -1366 309 -1309 \r\n",
       "L 309 -722 \r\n",
       "L 453 -731 \r\n",
       "Q 741 -731 886 -626 \r\n",
       "Q 1031 -522 1116 -275 \r\n",
       "L 1225 16 \r\n",
       "L 38 3381 \r\n",
       "L 856 3381 \r\n",
       "L 1572 1088 \r\n",
       "z\r\n",
       "\" id=\"Roboto-Medium-79\" transform=\"scale(0.015625)\"/>\r\n",
       "      </defs>\r\n",
       "      <use xlink:href=\"#Roboto-Medium-46\"/>\r\n",
       "      <use x=\"54.931641\" xlink:href=\"#Roboto-Medium-72\"/>\r\n",
       "      <use x=\"90.087891\" xlink:href=\"#Roboto-Medium-65\"/>\r\n",
       "      <use x=\"143.75\" xlink:href=\"#Roboto-Medium-71\"/>\r\n",
       "      <use x=\"200.537109\" xlink:href=\"#Roboto-Medium-75\"/>\r\n",
       "      <use x=\"256.103516\" xlink:href=\"#Roboto-Medium-65\"/>\r\n",
       "      <use x=\"309.765625\" xlink:href=\"#Roboto-Medium-6e\"/>\r\n",
       "      <use x=\"365.380859\" xlink:href=\"#Roboto-Medium-63\"/>\r\n",
       "      <use x=\"417.724609\" xlink:href=\"#Roboto-Medium-79\"/>\r\n",
       "     </g>\r\n",
       "    </g>\r\n",
       "   </g>\r\n",
       "   <g id=\"patch_12\">\r\n",
       "    <path d=\"M 50.46875 294 \r\n",
       "L 50.46875 22.2 \r\n",
       "\" style=\"fill:none;stroke:#58544f;stroke-linecap:square;stroke-linejoin:miter;stroke-width:0.8;\"/>\r\n",
       "   </g>\r\n",
       "   <g id=\"patch_13\">\r\n",
       "    <path d=\"M 608.46875 294 \r\n",
       "L 608.46875 22.2 \r\n",
       "\" style=\"fill:none;stroke:#58544f;stroke-linecap:square;stroke-linejoin:miter;stroke-width:0.8;\"/>\r\n",
       "   </g>\r\n",
       "   <g id=\"patch_14\">\r\n",
       "    <path d=\"M 50.46875 294 \r\n",
       "L 608.46875 294 \r\n",
       "\" style=\"fill:none;stroke:#58544f;stroke-linecap:square;stroke-linejoin:miter;stroke-width:0.8;\"/>\r\n",
       "   </g>\r\n",
       "   <g id=\"patch_15\">\r\n",
       "    <path d=\"M 50.46875 22.2 \r\n",
       "L 608.46875 22.2 \r\n",
       "\" style=\"fill:none;stroke:#58544f;stroke-linecap:square;stroke-linejoin:miter;stroke-width:0.8;\"/>\r\n",
       "   </g>\r\n",
       "   <g id=\"text_15\">\r\n",
       "    <!-- Распределение по мощности -->\r\n",
       "    <g transform=\"translate(246.10625 16.2)scale(0.12 -0.12)\">\r\n",
       "     <defs>\r\n",
       "      <path d=\"M 1253 1691 \r\n",
       "L 1253 0 \r\n",
       "L 463 0 \r\n",
       "L 463 4550 \r\n",
       "L 2203 4550 \r\n",
       "Q 2966 4550 3414 4153 \r\n",
       "Q 3863 3756 3863 3103 \r\n",
       "Q 3863 2434 3423 2062 \r\n",
       "Q 2984 1691 2194 1691 \r\n",
       "L 1253 1691 \r\n",
       "z\r\n",
       "M 1253 2325 \r\n",
       "L 2203 2325 \r\n",
       "Q 2625 2325 2847 2523 \r\n",
       "Q 3069 2722 3069 3097 \r\n",
       "Q 3069 3466 2844 3686 \r\n",
       "Q 2619 3906 2225 3913 \r\n",
       "L 1253 3913 \r\n",
       "L 1253 2325 \r\n",
       "z\r\n",
       "\" id=\"Roboto-Medium-420\" transform=\"scale(0.015625)\"/>\r\n",
       "      <path d=\"M 2409 0 \r\n",
       "Q 2359 97 2322 316 \r\n",
       "Q 1959 -63 1434 -63 \r\n",
       "Q 925 -63 603 228 \r\n",
       "Q 281 519 281 947 \r\n",
       "Q 281 1488 682 1777 \r\n",
       "Q 1084 2066 1831 2066 \r\n",
       "L 2297 2066 \r\n",
       "L 2297 2288 \r\n",
       "Q 2297 2550 2150 2708 \r\n",
       "Q 2003 2866 1703 2866 \r\n",
       "Q 1444 2866 1278 2736 \r\n",
       "Q 1113 2606 1113 2406 \r\n",
       "L 353 2406 \r\n",
       "Q 353 2684 537 2926 \r\n",
       "Q 722 3169 1039 3306 \r\n",
       "Q 1356 3444 1747 3444 \r\n",
       "Q 2341 3444 2694 3145 \r\n",
       "Q 3047 2847 3056 2306 \r\n",
       "L 3056 781 \r\n",
       "Q 3056 325 3184 53 \r\n",
       "L 3184 0 \r\n",
       "L 2409 0 \r\n",
       "z\r\n",
       "M 1575 547 \r\n",
       "Q 1800 547 1998 656 \r\n",
       "Q 2197 766 2297 950 \r\n",
       "L 2297 1588 \r\n",
       "L 1888 1588 \r\n",
       "Q 1466 1588 1253 1441 \r\n",
       "Q 1041 1294 1041 1025 \r\n",
       "Q 1041 806 1186 676 \r\n",
       "Q 1331 547 1575 547 \r\n",
       "z\r\n",
       "\" id=\"Roboto-Medium-430\" transform=\"scale(0.015625)\"/>\r\n",
       "      <path d=\"M 1778 544 \r\n",
       "Q 2063 544 2250 709 \r\n",
       "Q 2438 875 2450 1119 \r\n",
       "L 3166 1119 \r\n",
       "Q 3153 803 2968 529 \r\n",
       "Q 2784 256 2468 96 \r\n",
       "Q 2153 -63 1788 -63 \r\n",
       "Q 1078 -63 662 396 \r\n",
       "Q 247 856 247 1666 \r\n",
       "L 247 1744 \r\n",
       "Q 247 2516 659 2980 \r\n",
       "Q 1072 3444 1784 3444 \r\n",
       "Q 2388 3444 2767 3092 \r\n",
       "Q 3147 2741 3166 2169 \r\n",
       "L 2450 2169 \r\n",
       "Q 2438 2459 2252 2646 \r\n",
       "Q 2066 2834 1778 2834 \r\n",
       "Q 1409 2834 1209 2567 \r\n",
       "Q 1009 2300 1006 1756 \r\n",
       "L 1006 1634 \r\n",
       "Q 1006 1084 1204 814 \r\n",
       "Q 1403 544 1778 544 \r\n",
       "z\r\n",
       "\" id=\"Roboto-Medium-441\" transform=\"scale(0.015625)\"/>\r\n",
       "      <path d=\"M 3256 0 \r\n",
       "L 2497 0 \r\n",
       "L 2497 2769 \r\n",
       "L 1178 2769 \r\n",
       "L 1178 0 \r\n",
       "L 419 0 \r\n",
       "L 419 3381 \r\n",
       "L 3256 3381 \r\n",
       "L 3256 0 \r\n",
       "z\r\n",
       "\" id=\"Roboto-Medium-43f\" transform=\"scale(0.015625)\"/>\r\n",
       "      <path d=\"M 3350 1656 \r\n",
       "Q 3350 872 2994 404 \r\n",
       "Q 2638 -63 2038 -63 \r\n",
       "Q 1481 -63 1147 303 \r\n",
       "L 1147 -1300 \r\n",
       "L 388 -1300 \r\n",
       "L 388 3381 \r\n",
       "L 1088 3381 \r\n",
       "L 1119 3038 \r\n",
       "Q 1453 3444 2028 3444 \r\n",
       "Q 2647 3444 2998 2983 \r\n",
       "Q 3350 2522 3350 1703 \r\n",
       "L 3350 1656 \r\n",
       "z\r\n",
       "M 2594 1722 \r\n",
       "Q 2594 2228 2392 2525 \r\n",
       "Q 2191 2822 1816 2822 \r\n",
       "Q 1350 2822 1147 2438 \r\n",
       "L 1147 938 \r\n",
       "Q 1353 544 1822 544 \r\n",
       "Q 2184 544 2389 836 \r\n",
       "Q 2594 1128 2594 1722 \r\n",
       "z\r\n",
       "\" id=\"Roboto-Medium-440\" transform=\"scale(0.015625)\"/>\r\n",
       "      <path d=\"M 1878 -63 \r\n",
       "Q 1156 -63 707 392 \r\n",
       "Q 259 847 259 1603 \r\n",
       "L 259 1697 \r\n",
       "Q 259 2203 454 2601 \r\n",
       "Q 650 3000 1003 3222 \r\n",
       "Q 1356 3444 1791 3444 \r\n",
       "Q 2481 3444 2857 3003 \r\n",
       "Q 3234 2563 3234 1756 \r\n",
       "L 3234 1450 \r\n",
       "L 1025 1450 \r\n",
       "Q 1059 1031 1304 787 \r\n",
       "Q 1550 544 1922 544 \r\n",
       "Q 2444 544 2772 966 \r\n",
       "L 3181 575 \r\n",
       "Q 2978 272 2639 104 \r\n",
       "Q 2300 -63 1878 -63 \r\n",
       "z\r\n",
       "M 1788 2834 \r\n",
       "Q 1475 2834 1283 2615 \r\n",
       "Q 1091 2397 1038 2006 \r\n",
       "L 2484 2006 \r\n",
       "L 2484 2063 \r\n",
       "Q 2459 2444 2281 2639 \r\n",
       "Q 2103 2834 1788 2834 \r\n",
       "z\r\n",
       "\" id=\"Roboto-Medium-435\" transform=\"scale(0.015625)\"/>\r\n",
       "      <path d=\"M 403 606 \r\n",
       "Q 719 959 826 1276 \r\n",
       "Q 934 1594 956 2088 \r\n",
       "L 1000 3381 \r\n",
       "L 3347 3381 \r\n",
       "L 3347 606 \r\n",
       "L 3816 606 \r\n",
       "L 3816 -1006 \r\n",
       "L 3059 -1006 \r\n",
       "L 3059 0 \r\n",
       "L 891 0 \r\n",
       "L 891 -1006 \r\n",
       "L 122 -1006 \r\n",
       "L 125 606 \r\n",
       "L 403 606 \r\n",
       "z\r\n",
       "M 1294 606 \r\n",
       "L 2591 606 \r\n",
       "L 2591 2728 \r\n",
       "L 1738 2728 \r\n",
       "L 1716 2081 \r\n",
       "Q 1672 1150 1294 606 \r\n",
       "z\r\n",
       "\" id=\"Roboto-Medium-434\" transform=\"scale(0.015625)\"/>\r\n",
       "      <path d=\"M 3263 3381 \r\n",
       "L 3263 0 \r\n",
       "L 2503 0 \r\n",
       "L 2503 2769 \r\n",
       "L 1547 2769 \r\n",
       "L 1484 1591 \r\n",
       "Q 1425 741 1158 370 \r\n",
       "Q 891 0 341 0 \r\n",
       "L 106 0 \r\n",
       "L 103 631 \r\n",
       "L 259 647 \r\n",
       "Q 509 681 623 951 \r\n",
       "Q 738 1222 769 1938 \r\n",
       "L 831 3381 \r\n",
       "L 3263 3381 \r\n",
       "z\r\n",
       "\" id=\"Roboto-Medium-43b\" transform=\"scale(0.015625)\"/>\r\n",
       "      <path d=\"M 3253 0 \r\n",
       "L 2494 0 \r\n",
       "L 2494 1366 \r\n",
       "L 1178 1366 \r\n",
       "L 1178 0 \r\n",
       "L 419 0 \r\n",
       "L 419 3381 \r\n",
       "L 1178 3381 \r\n",
       "L 1178 1972 \r\n",
       "L 2494 1972 \r\n",
       "L 2494 3381 \r\n",
       "L 3253 3381 \r\n",
       "L 3253 0 \r\n",
       "z\r\n",
       "\" id=\"Roboto-Medium-43d\" transform=\"scale(0.015625)\"/>\r\n",
       "      <path d=\"M 2500 3381 \r\n",
       "L 3256 3381 \r\n",
       "L 3256 0 \r\n",
       "L 2500 0 \r\n",
       "L 2500 2256 \r\n",
       "L 1175 0 \r\n",
       "L 419 0 \r\n",
       "L 419 3381 \r\n",
       "L 1175 3381 \r\n",
       "L 1175 1125 \r\n",
       "L 2500 3381 \r\n",
       "z\r\n",
       "\" id=\"Roboto-Medium-438\" transform=\"scale(0.015625)\"/>\r\n",
       "      <path id=\"Roboto-Medium-20\" transform=\"scale(0.015625)\"/>\r\n",
       "      <path d=\"M 247 1722 \r\n",
       "Q 247 2219 444 2617 \r\n",
       "Q 641 3016 997 3230 \r\n",
       "Q 1353 3444 1816 3444 \r\n",
       "Q 2500 3444 2926 3003 \r\n",
       "Q 3353 2563 3388 1834 \r\n",
       "L 3391 1656 \r\n",
       "Q 3391 1156 3198 762 \r\n",
       "Q 3006 369 2648 153 \r\n",
       "Q 2291 -63 1822 -63 \r\n",
       "Q 1106 -63 676 414 \r\n",
       "Q 247 891 247 1684 \r\n",
       "L 247 1722 \r\n",
       "z\r\n",
       "M 1006 1656 \r\n",
       "Q 1006 1134 1222 839 \r\n",
       "Q 1438 544 1822 544 \r\n",
       "Q 2206 544 2420 844 \r\n",
       "Q 2634 1144 2634 1722 \r\n",
       "Q 2634 2234 2414 2534 \r\n",
       "Q 2194 2834 1816 2834 \r\n",
       "Q 1444 2834 1225 2539 \r\n",
       "Q 1006 2244 1006 1656 \r\n",
       "z\r\n",
       "\" id=\"Roboto-Medium-43e\" transform=\"scale(0.015625)\"/>\r\n",
       "      <path d=\"M 2397 934 \r\n",
       "L 3397 3381 \r\n",
       "L 4347 3381 \r\n",
       "L 4347 0 \r\n",
       "L 3588 0 \r\n",
       "L 3588 2238 \r\n",
       "L 2656 0 \r\n",
       "L 2141 0 \r\n",
       "L 1206 2250 \r\n",
       "L 1206 0 \r\n",
       "L 447 0 \r\n",
       "L 447 3381 \r\n",
       "L 1403 3381 \r\n",
       "L 2397 934 \r\n",
       "z\r\n",
       "\" id=\"Roboto-Medium-43c\" transform=\"scale(0.015625)\"/>\r\n",
       "      <path d=\"M 1153 3381 \r\n",
       "L 1153 606 \r\n",
       "L 2209 606 \r\n",
       "L 2209 3381 \r\n",
       "L 2969 3381 \r\n",
       "L 2969 606 \r\n",
       "L 4028 606 \r\n",
       "L 4028 3381 \r\n",
       "L 4784 3381 \r\n",
       "L 4784 606 \r\n",
       "L 5363 606 \r\n",
       "L 5300 -1003 \r\n",
       "L 4609 -1003 \r\n",
       "L 4609 0 \r\n",
       "L 394 0 \r\n",
       "L 394 3381 \r\n",
       "L 1153 3381 \r\n",
       "z\r\n",
       "\" id=\"Roboto-Medium-449\" transform=\"scale(0.015625)\"/>\r\n",
       "      <path d=\"M 3050 2778 \r\n",
       "L 1953 2778 \r\n",
       "L 1953 0 \r\n",
       "L 1194 0 \r\n",
       "L 1194 2778 \r\n",
       "L 109 2778 \r\n",
       "L 109 3381 \r\n",
       "L 3050 3381 \r\n",
       "L 3050 2778 \r\n",
       "z\r\n",
       "\" id=\"Roboto-Medium-442\" transform=\"scale(0.015625)\"/>\r\n",
       "     </defs>\r\n",
       "     <use xlink:href=\"#Roboto-Medium-420\"/>\r\n",
       "     <use x=\"63.916016\" xlink:href=\"#Roboto-Medium-430\"/>\r\n",
       "     <use x=\"118.017578\" xlink:href=\"#Roboto-Medium-441\"/>\r\n",
       "     <use x=\"170.361328\" xlink:href=\"#Roboto-Medium-43f\"/>\r\n",
       "     <use x=\"227.783203\" xlink:href=\"#Roboto-Medium-440\"/>\r\n",
       "     <use x=\"284.082031\" xlink:href=\"#Roboto-Medium-435\"/>\r\n",
       "     <use x=\"337.744141\" xlink:href=\"#Roboto-Medium-434\"/>\r\n",
       "     <use x=\"399.755859\" xlink:href=\"#Roboto-Medium-435\"/>\r\n",
       "     <use x=\"453.417969\" xlink:href=\"#Roboto-Medium-43b\"/>\r\n",
       "     <use x=\"510.9375\" xlink:href=\"#Roboto-Medium-435\"/>\r\n",
       "     <use x=\"564.599609\" xlink:href=\"#Roboto-Medium-43d\"/>\r\n",
       "     <use x=\"621.972656\" xlink:href=\"#Roboto-Medium-438\"/>\r\n",
       "     <use x=\"679.394531\" xlink:href=\"#Roboto-Medium-435\"/>\r\n",
       "     <use x=\"733.056641\" xlink:href=\"#Roboto-Medium-20\"/>\r\n",
       "     <use x=\"757.958984\" xlink:href=\"#Roboto-Medium-43f\"/>\r\n",
       "     <use x=\"815.380859\" xlink:href=\"#Roboto-Medium-43e\"/>\r\n",
       "     <use x=\"872.314453\" xlink:href=\"#Roboto-Medium-20\"/>\r\n",
       "     <use x=\"897.216797\" xlink:href=\"#Roboto-Medium-43c\"/>\r\n",
       "     <use x=\"972.363281\" xlink:href=\"#Roboto-Medium-43e\"/>\r\n",
       "     <use x=\"1029.296875\" xlink:href=\"#Roboto-Medium-449\"/>\r\n",
       "     <use x=\"1115.820312\" xlink:href=\"#Roboto-Medium-43d\"/>\r\n",
       "     <use x=\"1173.193359\" xlink:href=\"#Roboto-Medium-43e\"/>\r\n",
       "     <use x=\"1230.126953\" xlink:href=\"#Roboto-Medium-441\"/>\r\n",
       "     <use x=\"1282.470703\" xlink:href=\"#Roboto-Medium-442\"/>\r\n",
       "     <use x=\"1331.933594\" xlink:href=\"#Roboto-Medium-438\"/>\r\n",
       "    </g>\r\n",
       "   </g>\r\n",
       "  </g>\r\n",
       " </g>\r\n",
       " <defs>\r\n",
       "  <clipPath id=\"p269df788a7\">\r\n",
       "   <rect height=\"271.8\" width=\"558\" x=\"50.46875\" y=\"22.2\"/>\r\n",
       "  </clipPath>\r\n",
       " </defs>\r\n",
       "</svg>\r\n"
      ],
      "text/plain": [
       "<Figure size 1000x500 with 1 Axes>"
      ]
     },
     "metadata": {},
     "output_type": "display_data"
    }
   ],
   "source": [
    "data['power'].plot(kind='hist', bins=[11, 20, 30, 40, 50, 60, 70, 80, 90, 100], alpha=0.7, xlim=(0, 250))\n",
    "plt.title('Распределение по мощности')"
   ]
  },
  {
   "cell_type": "markdown",
   "metadata": {},
   "source": [
    "Посмотрим на значения годов регистрации автомобиля"
   ]
  },
  {
   "cell_type": "code",
   "execution_count": 421,
   "metadata": {},
   "outputs": [
    {
     "data": {
      "text/plain": [
       "array([1993, 2011, 2001, 2008, 1995, 2004, 1980, 2014, 1998, 2005, 1910,\n",
       "       2016, 2007, 2009, 2002, 2018, 1997, 1990, 2017, 1981, 2003, 1994,\n",
       "       1991, 1984, 2006, 1999, 2012, 2010, 2000, 1992, 2013, 1996, 1985,\n",
       "       1989, 2015, 1982, 1976, 1983, 1973, 1111, 1969, 1971, 1987, 1988,\n",
       "       1970, 1986, 1965, 1945, 1974, 1955, 1978, 1979, 1972, 1968, 1977,\n",
       "       1961, 1960, 1966, 1975, 1963, 1954, 1967, 1956, 1000, 9999, 1500,\n",
       "       2200, 1964, 3000, 2066, 1940, 1962, 2019, 1937, 1951, 1800, 1959,\n",
       "       1953, 1958, 9000, 2900, 5900, 5911, 1933, 1400, 5000, 1950, 4000,\n",
       "       8000, 1952, 1200, 8500, 1932, 3700, 1942, 1935, 1234, 1936, 6500,\n",
       "       1957, 1923, 2290, 2500, 1930, 1001, 7000, 1929, 1943, 1934, 1938,\n",
       "       1688, 2800, 1928, 1919, 5555, 5600, 1039, 6000, 1948, 2222, 1931,\n",
       "       4500, 1602, 7800, 9229, 1947, 1927, 7100, 1300, 8200, 7500, 1600],\n",
       "      dtype=int64)"
      ]
     },
     "execution_count": 421,
     "metadata": {},
     "output_type": "execute_result"
    }
   ],
   "source": [
    "data.registration_year.unique()"
   ]
  },
  {
   "cell_type": "markdown",
   "metadata": {},
   "source": [
    "Среди значений года выпуска присутствует большой разброс. Некоторые значения имеют аномальный характер, такие как: 1001, 1600, 9229. Методом `query` создадим отдельный срез, в котором будет только года из актуального периода."
   ]
  },
  {
   "cell_type": "code",
   "execution_count": 422,
   "metadata": {},
   "outputs": [
    {
     "data": {
      "text/plain": [
       "Text(0.5, 1.0, 'Распределение по годам регистрации')"
      ]
     },
     "execution_count": 422,
     "metadata": {},
     "output_type": "execute_result"
    },
    {
     "data": {
      "image/svg+xml": [
       "<?xml version=\"1.0\" encoding=\"utf-8\" standalone=\"no\"?>\r\n",
       "<!DOCTYPE svg PUBLIC \"-//W3C//DTD SVG 1.1//EN\"\r\n",
       "  \"http://www.w3.org/Graphics/SVG/1.1/DTD/svg11.dtd\">\r\n",
       "<svg height=\"315.825pt\" version=\"1.1\" viewBox=\"0 0 602.1375 315.825\" width=\"602.1375pt\" xmlns=\"http://www.w3.org/2000/svg\" xmlns:xlink=\"http://www.w3.org/1999/xlink\">\r\n",
       " <metadata>\r\n",
       "  <rdf:RDF xmlns:cc=\"http://creativecommons.org/ns#\" xmlns:dc=\"http://purl.org/dc/elements/1.1/\" xmlns:rdf=\"http://www.w3.org/1999/02/22-rdf-syntax-ns#\">\r\n",
       "   <cc:Work>\r\n",
       "    <dc:type rdf:resource=\"http://purl.org/dc/dcmitype/StillImage\"/>\r\n",
       "    <dc:date>2022-01-14T21:02:45.380629</dc:date>\r\n",
       "    <dc:format>image/svg+xml</dc:format>\r\n",
       "    <dc:creator>\r\n",
       "     <cc:Agent>\r\n",
       "      <dc:title>Matplotlib v3.4.3, https://matplotlib.org/</dc:title>\r\n",
       "     </cc:Agent>\r\n",
       "    </dc:creator>\r\n",
       "   </cc:Work>\r\n",
       "  </rdf:RDF>\r\n",
       " </metadata>\r\n",
       " <defs>\r\n",
       "  <style type=\"text/css\">*{stroke-linecap:butt;stroke-linejoin:round;}</style>\r\n",
       " </defs>\r\n",
       " <g id=\"figure_1\">\r\n",
       "  <g id=\"patch_1\">\r\n",
       "   <path d=\"M 0 315.825 \r\n",
       "L 602.1375 315.825 \r\n",
       "L 602.1375 0 \r\n",
       "L 0 0 \r\n",
       "z\r\n",
       "\" style=\"fill:#ffffff;\"/>\r\n",
       "  </g>\r\n",
       "  <g id=\"axes_1\">\r\n",
       "   <g id=\"patch_2\">\r\n",
       "    <path d=\"M 36.9375 294 \r\n",
       "L 594.9375 294 \r\n",
       "L 594.9375 22.2 \r\n",
       "L 36.9375 22.2 \r\n",
       "z\r\n",
       "\" style=\"fill:#ffffff;\"/>\r\n",
       "   </g>\r\n",
       "   <g id=\"patch_3\">\r\n",
       "    <path clip-path=\"url(#p8cd464d686)\" d=\"M 62.301136 294 \r\n",
       "L 87.664773 294 \r\n",
       "L 87.664773 290.888935 \r\n",
       "L 62.301136 290.888935 \r\n",
       "z\r\n",
       "\" style=\"fill:#0088ed;\"/>\r\n",
       "   </g>\r\n",
       "   <g id=\"patch_4\">\r\n",
       "    <path clip-path=\"url(#p8cd464d686)\" d=\"M 87.664773 294 \r\n",
       "L 113.028409 294 \r\n",
       "L 113.028409 289.392549 \r\n",
       "L 87.664773 289.392549 \r\n",
       "z\r\n",
       "\" style=\"fill:#0088ed;\"/>\r\n",
       "   </g>\r\n",
       "   <g id=\"patch_5\">\r\n",
       "    <path clip-path=\"url(#p8cd464d686)\" d=\"M 113.028409 294 \r\n",
       "L 138.392045 294 \r\n",
       "L 138.392045 286.908429 \r\n",
       "L 113.028409 286.908429 \r\n",
       "z\r\n",
       "\" style=\"fill:#0088ed;\"/>\r\n",
       "   </g>\r\n",
       "   <g id=\"patch_6\">\r\n",
       "    <path clip-path=\"url(#p8cd464d686)\" d=\"M 138.392045 294 \r\n",
       "L 163.755682 294 \r\n",
       "L 163.755682 284.838329 \r\n",
       "L 138.392045 284.838329 \r\n",
       "z\r\n",
       "\" style=\"fill:#0088ed;\"/>\r\n",
       "   </g>\r\n",
       "   <g id=\"patch_7\">\r\n",
       "    <path clip-path=\"url(#p8cd464d686)\" d=\"M 163.755682 294 \r\n",
       "L 189.119318 294 \r\n",
       "L 189.119318 270.968658 \r\n",
       "L 163.755682 270.968658 \r\n",
       "z\r\n",
       "\" style=\"fill:#0088ed;\"/>\r\n",
       "   </g>\r\n",
       "   <g id=\"patch_8\">\r\n",
       "    <path clip-path=\"url(#p8cd464d686)\" d=\"M 189.119318 294 \r\n",
       "L 214.482955 294 \r\n",
       "L 214.482955 260.464379 \r\n",
       "L 189.119318 260.464379 \r\n",
       "z\r\n",
       "\" style=\"fill:#0088ed;\"/>\r\n",
       "   </g>\r\n",
       "   <g id=\"patch_9\">\r\n",
       "    <path clip-path=\"url(#p8cd464d686)\" d=\"M 214.482955 294 \r\n",
       "L 239.846591 294 \r\n",
       "L 239.846591 245.80807 \r\n",
       "L 214.482955 245.80807 \r\n",
       "z\r\n",
       "\" style=\"fill:#0088ed;\"/>\r\n",
       "   </g>\r\n",
       "   <g id=\"patch_10\">\r\n",
       "    <path clip-path=\"url(#p8cd464d686)\" d=\"M 239.846591 294 \r\n",
       "L 265.210227 294 \r\n",
       "L 265.210227 175.099366 \r\n",
       "L 239.846591 175.099366 \r\n",
       "z\r\n",
       "\" style=\"fill:#0088ed;\"/>\r\n",
       "   </g>\r\n",
       "   <g id=\"patch_11\">\r\n",
       "    <path clip-path=\"url(#p8cd464d686)\" d=\"M 265.210227 294 \r\n",
       "L 290.573864 294 \r\n",
       "L 290.573864 103.509391 \r\n",
       "L 265.210227 103.509391 \r\n",
       "z\r\n",
       "\" style=\"fill:#0088ed;\"/>\r\n",
       "   </g>\r\n",
       "   <g id=\"patch_12\">\r\n",
       "    <path clip-path=\"url(#p8cd464d686)\" d=\"M 290.573864 294 \r\n",
       "L 315.9375 294 \r\n",
       "L 315.9375 160.738786 \r\n",
       "L 290.573864 160.738786 \r\n",
       "z\r\n",
       "\" style=\"fill:#0088ed;\"/>\r\n",
       "   </g>\r\n",
       "   <g id=\"patch_13\">\r\n",
       "    <path clip-path=\"url(#p8cd464d686)\" d=\"M 315.9375 294 \r\n",
       "L 341.301136 294 \r\n",
       "L 341.301136 35.142857 \r\n",
       "L 315.9375 35.142857 \r\n",
       "z\r\n",
       "\" style=\"fill:#0088ed;\"/>\r\n",
       "   </g>\r\n",
       "   <g id=\"patch_14\">\r\n",
       "    <path clip-path=\"url(#p8cd464d686)\" d=\"M 341.301136 294 \r\n",
       "L 366.664773 294 \r\n",
       "L 366.664773 66.099725 \r\n",
       "L 341.301136 66.099725 \r\n",
       "z\r\n",
       "\" style=\"fill:#0088ed;\"/>\r\n",
       "   </g>\r\n",
       "   <g id=\"patch_15\">\r\n",
       "    <path clip-path=\"url(#p8cd464d686)\" d=\"M 366.664773 294 \r\n",
       "L 392.028409 294 \r\n",
       "L 392.028409 50.189527 \r\n",
       "L 366.664773 50.189527 \r\n",
       "z\r\n",
       "\" style=\"fill:#0088ed;\"/>\r\n",
       "   </g>\r\n",
       "   <g id=\"patch_16\">\r\n",
       "    <path clip-path=\"url(#p8cd464d686)\" d=\"M 392.028409 294 \r\n",
       "L 417.392045 294 \r\n",
       "L 417.392045 76.970708 \r\n",
       "L 392.028409 76.970708 \r\n",
       "z\r\n",
       "\" style=\"fill:#0088ed;\"/>\r\n",
       "   </g>\r\n",
       "   <g id=\"patch_17\">\r\n",
       "    <path clip-path=\"url(#p8cd464d686)\" d=\"M 417.392045 294 \r\n",
       "L 442.755682 294 \r\n",
       "L 442.755682 119.064714 \r\n",
       "L 417.392045 119.064714 \r\n",
       "z\r\n",
       "\" style=\"fill:#0088ed;\"/>\r\n",
       "   </g>\r\n",
       "   <g id=\"patch_18\">\r\n",
       "    <path clip-path=\"url(#p8cd464d686)\" d=\"M 442.755682 294 \r\n",
       "L 468.119318 294 \r\n",
       "L 468.119318 173.206703 \r\n",
       "L 442.755682 173.206703 \r\n",
       "z\r\n",
       "\" style=\"fill:#0088ed;\"/>\r\n",
       "   </g>\r\n",
       "   <g id=\"patch_19\">\r\n",
       "    <path clip-path=\"url(#p8cd464d686)\" d=\"M 468.119318 294 \r\n",
       "L 493.482955 294 \r\n",
       "L 493.482955 227.987466 \r\n",
       "L 468.119318 227.987466 \r\n",
       "z\r\n",
       "\" style=\"fill:#0088ed;\"/>\r\n",
       "   </g>\r\n",
       "   <g id=\"patch_20\">\r\n",
       "    <path clip-path=\"url(#p8cd464d686)\" d=\"M 493.482955 294 \r\n",
       "L 518.846591 294 \r\n",
       "L 518.846591 272.476874 \r\n",
       "L 493.482955 272.476874 \r\n",
       "z\r\n",
       "\" style=\"fill:#0088ed;\"/>\r\n",
       "   </g>\r\n",
       "   <g id=\"patch_21\">\r\n",
       "    <path clip-path=\"url(#p8cd464d686)\" d=\"M 518.846591 294 \r\n",
       "L 544.210227 294 \r\n",
       "L 544.210227 178.488416 \r\n",
       "L 518.846591 178.488416 \r\n",
       "z\r\n",
       "\" style=\"fill:#0088ed;\"/>\r\n",
       "   </g>\r\n",
       "   <g id=\"patch_22\">\r\n",
       "    <path clip-path=\"url(#p8cd464d686)\" d=\"M 544.210227 294 \r\n",
       "L 569.573864 294 \r\n",
       "L 569.573864 271.234814 \r\n",
       "L 544.210227 271.234814 \r\n",
       "z\r\n",
       "\" style=\"fill:#0088ed;\"/>\r\n",
       "   </g>\r\n",
       "   <g id=\"matplotlib.axis_1\">\r\n",
       "    <g id=\"xtick_1\">\r\n",
       "     <g id=\"line2d_1\">\r\n",
       "      <path clip-path=\"url(#p8cd464d686)\" d=\"M 48.951854 294 \r\n",
       "L 48.951854 22.2 \r\n",
       "\" style=\"fill:none;stroke:#58544f;stroke-linecap:square;stroke-width:0.8;\"/>\r\n",
       "     </g>\r\n",
       "     <g id=\"line2d_2\">\r\n",
       "      <defs>\r\n",
       "       <path d=\"M 0 0 \r\n",
       "L 0 3.5 \r\n",
       "\" id=\"m4a3519ea6c\" style=\"stroke:#58544f;stroke-width:0.8;\"/>\r\n",
       "      </defs>\r\n",
       "      <g>\r\n",
       "       <use style=\"fill:#58544f;stroke:#58544f;stroke-width:0.8;\" x=\"48.951854\" xlink:href=\"#m4a3519ea6c\" y=\"294\"/>\r\n",
       "      </g>\r\n",
       "     </g>\r\n",
       "     <g id=\"text_1\">\r\n",
       "      <!-- 1980 -->\r\n",
       "      <g style=\"fill:#58544f;\" transform=\"translate(39.856854 307)scale(0.08 -0.08)\">\r\n",
       "       <defs>\r\n",
       "        <path d=\"M 2397 0 \r\n",
       "L 1641 0 \r\n",
       "L 1641 3653 \r\n",
       "L 525 3272 \r\n",
       "L 525 3913 \r\n",
       "L 2300 4566 \r\n",
       "L 2397 4566 \r\n",
       "L 2397 0 \r\n",
       "z\r\n",
       "\" id=\"Roboto-Medium-31\" transform=\"scale(0.015625)\"/>\r\n",
       "        <path d=\"M 2494 1903 \r\n",
       "Q 2113 1500 1603 1500 \r\n",
       "Q 1003 1500 647 1920 \r\n",
       "Q 291 2341 291 3025 \r\n",
       "Q 291 3475 472 3840 \r\n",
       "Q 653 4206 987 4409 \r\n",
       "Q 1322 4613 1763 4613 \r\n",
       "Q 2450 4613 2853 4100 \r\n",
       "Q 3256 3588 3256 2728 \r\n",
       "L 3256 2516 \r\n",
       "Q 3256 1284 2700 637 \r\n",
       "Q 2144 -9 1041 -19 \r\n",
       "L 950 -19 \r\n",
       "L 950 609 \r\n",
       "L 1059 609 \r\n",
       "Q 1731 619 2090 933 \r\n",
       "Q 2450 1247 2494 1903 \r\n",
       "z\r\n",
       "M 1763 2094 \r\n",
       "Q 1991 2094 2191 2225 \r\n",
       "Q 2391 2356 2500 2588 \r\n",
       "L 2500 2884 \r\n",
       "Q 2500 3388 2294 3694 \r\n",
       "Q 2088 4000 1759 4000 \r\n",
       "Q 1431 4000 1236 3729 \r\n",
       "Q 1041 3459 1041 3047 \r\n",
       "Q 1041 2619 1237 2356 \r\n",
       "Q 1434 2094 1763 2094 \r\n",
       "z\r\n",
       "\" id=\"Roboto-Medium-39\" transform=\"scale(0.015625)\"/>\r\n",
       "        <path d=\"M 3206 3350 \r\n",
       "Q 3206 3016 3034 2755 \r\n",
       "Q 2863 2494 2566 2344 \r\n",
       "Q 2922 2178 3114 1890 \r\n",
       "Q 3306 1603 3306 1241 \r\n",
       "Q 3306 641 2900 289 \r\n",
       "Q 2494 -63 1819 -63 \r\n",
       "Q 1141 -63 733 290 \r\n",
       "Q 325 644 325 1241 \r\n",
       "Q 325 1606 519 1897 \r\n",
       "Q 713 2188 1063 2344 \r\n",
       "Q 769 2494 598 2755 \r\n",
       "Q 428 3016 428 3350 \r\n",
       "Q 428 3931 803 4272 \r\n",
       "Q 1178 4613 1816 4613 \r\n",
       "Q 2456 4613 2831 4272 \r\n",
       "Q 3206 3931 3206 3350 \r\n",
       "z\r\n",
       "M 2547 1278 \r\n",
       "Q 2547 1616 2345 1823 \r\n",
       "Q 2144 2031 1812 2031 \r\n",
       "Q 1481 2031 1282 1825 \r\n",
       "Q 1084 1619 1084 1278 \r\n",
       "Q 1084 944 1279 744 \r\n",
       "Q 1475 544 1819 544 \r\n",
       "Q 2163 544 2355 737 \r\n",
       "Q 2547 931 2547 1278 \r\n",
       "z\r\n",
       "M 2450 3322 \r\n",
       "Q 2450 3619 2278 3811 \r\n",
       "Q 2106 4003 1815 4003 \r\n",
       "Q 1525 4003 1356 3820 \r\n",
       "Q 1188 3638 1188 3322 \r\n",
       "Q 1188 3009 1358 2825 \r\n",
       "Q 1528 2641 1818 2641 \r\n",
       "Q 2109 2641 2279 2825 \r\n",
       "Q 2450 3009 2450 3322 \r\n",
       "z\r\n",
       "\" id=\"Roboto-Medium-38\" transform=\"scale(0.015625)\"/>\r\n",
       "        <path d=\"M 3306 1916 \r\n",
       "Q 3306 934 2939 435 \r\n",
       "Q 2572 -63 1822 -63 \r\n",
       "Q 1084 -63 711 423 \r\n",
       "Q 338 909 328 1863 \r\n",
       "L 328 2650 \r\n",
       "Q 328 3631 695 4122 \r\n",
       "Q 1063 4613 1816 4613 \r\n",
       "Q 2563 4613 2930 4134 \r\n",
       "Q 3297 3656 3306 2703 \r\n",
       "L 3306 1916 \r\n",
       "z\r\n",
       "M 2547 2766 \r\n",
       "Q 2547 3406 2372 3704 \r\n",
       "Q 2197 4003 1816 4003 \r\n",
       "Q 1444 4003 1269 3720 \r\n",
       "Q 1094 3438 1084 2838 \r\n",
       "L 1084 1806 \r\n",
       "Q 1084 1169 1262 856 \r\n",
       "Q 1441 544 1822 544 \r\n",
       "Q 2188 544 2363 833 \r\n",
       "Q 2538 1122 2547 1738 \r\n",
       "L 2547 2766 \r\n",
       "z\r\n",
       "\" id=\"Roboto-Medium-30\" transform=\"scale(0.015625)\"/>\r\n",
       "       </defs>\r\n",
       "       <use xlink:href=\"#Roboto-Medium-31\"/>\r\n",
       "       <use x=\"56.835938\" xlink:href=\"#Roboto-Medium-39\"/>\r\n",
       "       <use x=\"113.671875\" xlink:href=\"#Roboto-Medium-38\"/>\r\n",
       "       <use x=\"170.507812\" xlink:href=\"#Roboto-Medium-30\"/>\r\n",
       "      </g>\r\n",
       "     </g>\r\n",
       "    </g>\r\n",
       "    <g id=\"xtick_2\">\r\n",
       "     <g id=\"line2d_3\">\r\n",
       "      <path clip-path=\"url(#p8cd464d686)\" d=\"M 115.698266 294 \r\n",
       "L 115.698266 22.2 \r\n",
       "\" style=\"fill:none;stroke:#58544f;stroke-linecap:square;stroke-width:0.8;\"/>\r\n",
       "     </g>\r\n",
       "     <g id=\"line2d_4\">\r\n",
       "      <g>\r\n",
       "       <use style=\"fill:#58544f;stroke:#58544f;stroke-width:0.8;\" x=\"115.698266\" xlink:href=\"#m4a3519ea6c\" y=\"294\"/>\r\n",
       "      </g>\r\n",
       "     </g>\r\n",
       "     <g id=\"text_2\">\r\n",
       "      <!-- 1985 -->\r\n",
       "      <g style=\"fill:#58544f;\" transform=\"translate(106.603266 307)scale(0.08 -0.08)\">\r\n",
       "       <defs>\r\n",
       "        <path d=\"M 544 2256 \r\n",
       "L 791 4550 \r\n",
       "L 3234 4550 \r\n",
       "L 3234 3894 \r\n",
       "L 1422 3894 \r\n",
       "L 1297 2806 \r\n",
       "Q 1613 2988 2009 2988 \r\n",
       "Q 2659 2988 3020 2572 \r\n",
       "Q 3381 2156 3381 1453 \r\n",
       "Q 3381 759 2981 348 \r\n",
       "Q 2581 -63 1884 -63 \r\n",
       "Q 1259 -63 848 292 \r\n",
       "Q 438 647 403 1228 \r\n",
       "L 1138 1228 \r\n",
       "Q 1181 897 1375 720 \r\n",
       "Q 1569 544 1881 544 \r\n",
       "Q 2231 544 2426 794 \r\n",
       "Q 2622 1044 2622 1475 \r\n",
       "Q 2622 1891 2406 2133 \r\n",
       "Q 2191 2375 1813 2375 \r\n",
       "Q 1606 2375 1462 2320 \r\n",
       "Q 1319 2266 1150 2106 \r\n",
       "L 544 2256 \r\n",
       "z\r\n",
       "\" id=\"Roboto-Medium-35\" transform=\"scale(0.015625)\"/>\r\n",
       "       </defs>\r\n",
       "       <use xlink:href=\"#Roboto-Medium-31\"/>\r\n",
       "       <use x=\"56.835938\" xlink:href=\"#Roboto-Medium-39\"/>\r\n",
       "       <use x=\"113.671875\" xlink:href=\"#Roboto-Medium-38\"/>\r\n",
       "       <use x=\"170.507812\" xlink:href=\"#Roboto-Medium-35\"/>\r\n",
       "      </g>\r\n",
       "     </g>\r\n",
       "    </g>\r\n",
       "    <g id=\"xtick_3\">\r\n",
       "     <g id=\"line2d_5\">\r\n",
       "      <path clip-path=\"url(#p8cd464d686)\" d=\"M 182.444677 294 \r\n",
       "L 182.444677 22.2 \r\n",
       "\" style=\"fill:none;stroke:#58544f;stroke-linecap:square;stroke-width:0.8;\"/>\r\n",
       "     </g>\r\n",
       "     <g id=\"line2d_6\">\r\n",
       "      <g>\r\n",
       "       <use style=\"fill:#58544f;stroke:#58544f;stroke-width:0.8;\" x=\"182.444677\" xlink:href=\"#m4a3519ea6c\" y=\"294\"/>\r\n",
       "      </g>\r\n",
       "     </g>\r\n",
       "     <g id=\"text_3\">\r\n",
       "      <!-- 1990 -->\r\n",
       "      <g style=\"fill:#58544f;\" transform=\"translate(173.349677 307)scale(0.08 -0.08)\">\r\n",
       "       <use xlink:href=\"#Roboto-Medium-31\"/>\r\n",
       "       <use x=\"56.835938\" xlink:href=\"#Roboto-Medium-39\"/>\r\n",
       "       <use x=\"113.671875\" xlink:href=\"#Roboto-Medium-39\"/>\r\n",
       "       <use x=\"170.507812\" xlink:href=\"#Roboto-Medium-30\"/>\r\n",
       "      </g>\r\n",
       "     </g>\r\n",
       "    </g>\r\n",
       "    <g id=\"xtick_4\">\r\n",
       "     <g id=\"line2d_7\">\r\n",
       "      <path clip-path=\"url(#p8cd464d686)\" d=\"M 249.191089 294 \r\n",
       "L 249.191089 22.2 \r\n",
       "\" style=\"fill:none;stroke:#58544f;stroke-linecap:square;stroke-width:0.8;\"/>\r\n",
       "     </g>\r\n",
       "     <g id=\"line2d_8\">\r\n",
       "      <g>\r\n",
       "       <use style=\"fill:#58544f;stroke:#58544f;stroke-width:0.8;\" x=\"249.191089\" xlink:href=\"#m4a3519ea6c\" y=\"294\"/>\r\n",
       "      </g>\r\n",
       "     </g>\r\n",
       "     <g id=\"text_4\">\r\n",
       "      <!-- 1995 -->\r\n",
       "      <g style=\"fill:#58544f;\" transform=\"translate(240.096089 307)scale(0.08 -0.08)\">\r\n",
       "       <use xlink:href=\"#Roboto-Medium-31\"/>\r\n",
       "       <use x=\"56.835938\" xlink:href=\"#Roboto-Medium-39\"/>\r\n",
       "       <use x=\"113.671875\" xlink:href=\"#Roboto-Medium-39\"/>\r\n",
       "       <use x=\"170.507812\" xlink:href=\"#Roboto-Medium-35\"/>\r\n",
       "      </g>\r\n",
       "     </g>\r\n",
       "    </g>\r\n",
       "    <g id=\"xtick_5\">\r\n",
       "     <g id=\"line2d_9\">\r\n",
       "      <path clip-path=\"url(#p8cd464d686)\" d=\"M 315.9375 294 \r\n",
       "L 315.9375 22.2 \r\n",
       "\" style=\"fill:none;stroke:#58544f;stroke-linecap:square;stroke-width:0.8;\"/>\r\n",
       "     </g>\r\n",
       "     <g id=\"line2d_10\">\r\n",
       "      <g>\r\n",
       "       <use style=\"fill:#58544f;stroke:#58544f;stroke-width:0.8;\" x=\"315.9375\" xlink:href=\"#m4a3519ea6c\" y=\"294\"/>\r\n",
       "      </g>\r\n",
       "     </g>\r\n",
       "     <g id=\"text_5\">\r\n",
       "      <!-- 2000 -->\r\n",
       "      <g style=\"fill:#58544f;\" transform=\"translate(306.8425 307)scale(0.08 -0.08)\">\r\n",
       "       <defs>\r\n",
       "        <path d=\"M 3400 0 \r\n",
       "L 341 0 \r\n",
       "L 341 522 \r\n",
       "L 1856 2175 \r\n",
       "Q 2184 2541 2323 2786 \r\n",
       "Q 2463 3031 2463 3278 \r\n",
       "Q 2463 3603 2280 3803 \r\n",
       "Q 2097 4003 1788 4003 \r\n",
       "Q 1419 4003 1216 3778 \r\n",
       "Q 1013 3553 1013 3163 \r\n",
       "L 253 3163 \r\n",
       "Q 253 3578 442 3911 \r\n",
       "Q 631 4244 982 4428 \r\n",
       "Q 1334 4613 1794 4613 \r\n",
       "Q 2456 4613 2839 4280 \r\n",
       "Q 3222 3947 3222 3359 \r\n",
       "Q 3222 3019 3030 2645 \r\n",
       "Q 2838 2272 2400 1797 \r\n",
       "L 1288 606 \r\n",
       "L 3400 606 \r\n",
       "L 3400 0 \r\n",
       "z\r\n",
       "\" id=\"Roboto-Medium-32\" transform=\"scale(0.015625)\"/>\r\n",
       "       </defs>\r\n",
       "       <use xlink:href=\"#Roboto-Medium-32\"/>\r\n",
       "       <use x=\"56.835938\" xlink:href=\"#Roboto-Medium-30\"/>\r\n",
       "       <use x=\"113.671875\" xlink:href=\"#Roboto-Medium-30\"/>\r\n",
       "       <use x=\"170.507812\" xlink:href=\"#Roboto-Medium-30\"/>\r\n",
       "      </g>\r\n",
       "     </g>\r\n",
       "    </g>\r\n",
       "    <g id=\"xtick_6\">\r\n",
       "     <g id=\"line2d_11\">\r\n",
       "      <path clip-path=\"url(#p8cd464d686)\" d=\"M 382.683911 294 \r\n",
       "L 382.683911 22.2 \r\n",
       "\" style=\"fill:none;stroke:#58544f;stroke-linecap:square;stroke-width:0.8;\"/>\r\n",
       "     </g>\r\n",
       "     <g id=\"line2d_12\">\r\n",
       "      <g>\r\n",
       "       <use style=\"fill:#58544f;stroke:#58544f;stroke-width:0.8;\" x=\"382.683911\" xlink:href=\"#m4a3519ea6c\" y=\"294\"/>\r\n",
       "      </g>\r\n",
       "     </g>\r\n",
       "     <g id=\"text_6\">\r\n",
       "      <!-- 2005 -->\r\n",
       "      <g style=\"fill:#58544f;\" transform=\"translate(373.588911 307)scale(0.08 -0.08)\">\r\n",
       "       <use xlink:href=\"#Roboto-Medium-32\"/>\r\n",
       "       <use x=\"56.835938\" xlink:href=\"#Roboto-Medium-30\"/>\r\n",
       "       <use x=\"113.671875\" xlink:href=\"#Roboto-Medium-30\"/>\r\n",
       "       <use x=\"170.507812\" xlink:href=\"#Roboto-Medium-35\"/>\r\n",
       "      </g>\r\n",
       "     </g>\r\n",
       "    </g>\r\n",
       "    <g id=\"xtick_7\">\r\n",
       "     <g id=\"line2d_13\">\r\n",
       "      <path clip-path=\"url(#p8cd464d686)\" d=\"M 449.430323 294 \r\n",
       "L 449.430323 22.2 \r\n",
       "\" style=\"fill:none;stroke:#58544f;stroke-linecap:square;stroke-width:0.8;\"/>\r\n",
       "     </g>\r\n",
       "     <g id=\"line2d_14\">\r\n",
       "      <g>\r\n",
       "       <use style=\"fill:#58544f;stroke:#58544f;stroke-width:0.8;\" x=\"449.430323\" xlink:href=\"#m4a3519ea6c\" y=\"294\"/>\r\n",
       "      </g>\r\n",
       "     </g>\r\n",
       "     <g id=\"text_7\">\r\n",
       "      <!-- 2010 -->\r\n",
       "      <g style=\"fill:#58544f;\" transform=\"translate(440.335323 307)scale(0.08 -0.08)\">\r\n",
       "       <use xlink:href=\"#Roboto-Medium-32\"/>\r\n",
       "       <use x=\"56.835938\" xlink:href=\"#Roboto-Medium-30\"/>\r\n",
       "       <use x=\"113.671875\" xlink:href=\"#Roboto-Medium-31\"/>\r\n",
       "       <use x=\"170.507812\" xlink:href=\"#Roboto-Medium-30\"/>\r\n",
       "      </g>\r\n",
       "     </g>\r\n",
       "    </g>\r\n",
       "    <g id=\"xtick_8\">\r\n",
       "     <g id=\"line2d_15\">\r\n",
       "      <path clip-path=\"url(#p8cd464d686)\" d=\"M 516.176734 294 \r\n",
       "L 516.176734 22.2 \r\n",
       "\" style=\"fill:none;stroke:#58544f;stroke-linecap:square;stroke-width:0.8;\"/>\r\n",
       "     </g>\r\n",
       "     <g id=\"line2d_16\">\r\n",
       "      <g>\r\n",
       "       <use style=\"fill:#58544f;stroke:#58544f;stroke-width:0.8;\" x=\"516.176734\" xlink:href=\"#m4a3519ea6c\" y=\"294\"/>\r\n",
       "      </g>\r\n",
       "     </g>\r\n",
       "     <g id=\"text_8\">\r\n",
       "      <!-- 2015 -->\r\n",
       "      <g style=\"fill:#58544f;\" transform=\"translate(507.081734 307)scale(0.08 -0.08)\">\r\n",
       "       <use xlink:href=\"#Roboto-Medium-32\"/>\r\n",
       "       <use x=\"56.835938\" xlink:href=\"#Roboto-Medium-30\"/>\r\n",
       "       <use x=\"113.671875\" xlink:href=\"#Roboto-Medium-31\"/>\r\n",
       "       <use x=\"170.507812\" xlink:href=\"#Roboto-Medium-35\"/>\r\n",
       "      </g>\r\n",
       "     </g>\r\n",
       "    </g>\r\n",
       "    <g id=\"xtick_9\">\r\n",
       "     <g id=\"line2d_17\">\r\n",
       "      <path clip-path=\"url(#p8cd464d686)\" d=\"M 582.923146 294 \r\n",
       "L 582.923146 22.2 \r\n",
       "\" style=\"fill:none;stroke:#58544f;stroke-linecap:square;stroke-width:0.8;\"/>\r\n",
       "     </g>\r\n",
       "     <g id=\"line2d_18\">\r\n",
       "      <g>\r\n",
       "       <use style=\"fill:#58544f;stroke:#58544f;stroke-width:0.8;\" x=\"582.923146\" xlink:href=\"#m4a3519ea6c\" y=\"294\"/>\r\n",
       "      </g>\r\n",
       "     </g>\r\n",
       "     <g id=\"text_9\">\r\n",
       "      <!-- 2020 -->\r\n",
       "      <g style=\"fill:#58544f;\" transform=\"translate(573.828146 307)scale(0.08 -0.08)\">\r\n",
       "       <use xlink:href=\"#Roboto-Medium-32\"/>\r\n",
       "       <use x=\"56.835938\" xlink:href=\"#Roboto-Medium-30\"/>\r\n",
       "       <use x=\"113.671875\" xlink:href=\"#Roboto-Medium-32\"/>\r\n",
       "       <use x=\"170.507812\" xlink:href=\"#Roboto-Medium-30\"/>\r\n",
       "      </g>\r\n",
       "     </g>\r\n",
       "    </g>\r\n",
       "   </g>\r\n",
       "   <g id=\"matplotlib.axis_2\">\r\n",
       "    <g id=\"ytick_1\">\r\n",
       "     <g id=\"line2d_19\">\r\n",
       "      <path clip-path=\"url(#p8cd464d686)\" d=\"M 36.9375 294 \r\n",
       "L 594.9375 294 \r\n",
       "\" style=\"fill:none;stroke:#58544f;stroke-linecap:square;stroke-width:0.8;\"/>\r\n",
       "     </g>\r\n",
       "     <g id=\"line2d_20\">\r\n",
       "      <defs>\r\n",
       "       <path d=\"M 0 0 \r\n",
       "L -3.5 0 \r\n",
       "\" id=\"m57d4b4f1a5\" style=\"stroke:#58544f;stroke-width:0.8;\"/>\r\n",
       "      </defs>\r\n",
       "      <g>\r\n",
       "       <use style=\"fill:#58544f;stroke:#58544f;stroke-width:0.8;\" x=\"36.9375\" xlink:href=\"#m57d4b4f1a5\" y=\"294\"/>\r\n",
       "      </g>\r\n",
       "     </g>\r\n",
       "     <g id=\"text_10\">\r\n",
       "      <!-- 0 -->\r\n",
       "      <g style=\"fill:#58544f;\" transform=\"translate(25.39 297)scale(0.08 -0.08)\">\r\n",
       "       <use xlink:href=\"#Roboto-Medium-30\"/>\r\n",
       "      </g>\r\n",
       "     </g>\r\n",
       "    </g>\r\n",
       "    <g id=\"ytick_2\">\r\n",
       "     <g id=\"line2d_21\">\r\n",
       "      <path clip-path=\"url(#p8cd464d686)\" d=\"M 36.9375 234.854283 \r\n",
       "L 594.9375 234.854283 \r\n",
       "\" style=\"fill:none;stroke:#58544f;stroke-linecap:square;stroke-width:0.8;\"/>\r\n",
       "     </g>\r\n",
       "     <g id=\"line2d_22\">\r\n",
       "      <g>\r\n",
       "       <use style=\"fill:#58544f;stroke:#58544f;stroke-width:0.8;\" x=\"36.9375\" xlink:href=\"#m57d4b4f1a5\" y=\"234.854283\"/>\r\n",
       "      </g>\r\n",
       "     </g>\r\n",
       "     <g id=\"text_11\">\r\n",
       "      <!-- 10000 -->\r\n",
       "      <g style=\"fill:#58544f;\" transform=\"translate(7.2 237.854283)scale(0.08 -0.08)\">\r\n",
       "       <use xlink:href=\"#Roboto-Medium-31\"/>\r\n",
       "       <use x=\"56.835938\" xlink:href=\"#Roboto-Medium-30\"/>\r\n",
       "       <use x=\"113.671875\" xlink:href=\"#Roboto-Medium-30\"/>\r\n",
       "       <use x=\"170.507812\" xlink:href=\"#Roboto-Medium-30\"/>\r\n",
       "       <use x=\"227.34375\" xlink:href=\"#Roboto-Medium-30\"/>\r\n",
       "      </g>\r\n",
       "     </g>\r\n",
       "    </g>\r\n",
       "    <g id=\"ytick_3\">\r\n",
       "     <g id=\"line2d_23\">\r\n",
       "      <path clip-path=\"url(#p8cd464d686)\" d=\"M 36.9375 175.708567 \r\n",
       "L 594.9375 175.708567 \r\n",
       "\" style=\"fill:none;stroke:#58544f;stroke-linecap:square;stroke-width:0.8;\"/>\r\n",
       "     </g>\r\n",
       "     <g id=\"line2d_24\">\r\n",
       "      <g>\r\n",
       "       <use style=\"fill:#58544f;stroke:#58544f;stroke-width:0.8;\" x=\"36.9375\" xlink:href=\"#m57d4b4f1a5\" y=\"175.708567\"/>\r\n",
       "      </g>\r\n",
       "     </g>\r\n",
       "     <g id=\"text_12\">\r\n",
       "      <!-- 20000 -->\r\n",
       "      <g style=\"fill:#58544f;\" transform=\"translate(7.2 178.708567)scale(0.08 -0.08)\">\r\n",
       "       <use xlink:href=\"#Roboto-Medium-32\"/>\r\n",
       "       <use x=\"56.835938\" xlink:href=\"#Roboto-Medium-30\"/>\r\n",
       "       <use x=\"113.671875\" xlink:href=\"#Roboto-Medium-30\"/>\r\n",
       "       <use x=\"170.507812\" xlink:href=\"#Roboto-Medium-30\"/>\r\n",
       "       <use x=\"227.34375\" xlink:href=\"#Roboto-Medium-30\"/>\r\n",
       "      </g>\r\n",
       "     </g>\r\n",
       "    </g>\r\n",
       "    <g id=\"ytick_4\">\r\n",
       "     <g id=\"line2d_25\">\r\n",
       "      <path clip-path=\"url(#p8cd464d686)\" d=\"M 36.9375 116.56285 \r\n",
       "L 594.9375 116.56285 \r\n",
       "\" style=\"fill:none;stroke:#58544f;stroke-linecap:square;stroke-width:0.8;\"/>\r\n",
       "     </g>\r\n",
       "     <g id=\"line2d_26\">\r\n",
       "      <g>\r\n",
       "       <use style=\"fill:#58544f;stroke:#58544f;stroke-width:0.8;\" x=\"36.9375\" xlink:href=\"#m57d4b4f1a5\" y=\"116.56285\"/>\r\n",
       "      </g>\r\n",
       "     </g>\r\n",
       "     <g id=\"text_13\">\r\n",
       "      <!-- 30000 -->\r\n",
       "      <g style=\"fill:#58544f;\" transform=\"translate(7.2 119.56285)scale(0.08 -0.08)\">\r\n",
       "       <defs>\r\n",
       "        <path d=\"M 1219 2622 \r\n",
       "L 1681 2622 \r\n",
       "Q 2031 2625 2236 2803 \r\n",
       "Q 2441 2981 2441 3319 \r\n",
       "Q 2441 3644 2270 3823 \r\n",
       "Q 2100 4003 1750 4003 \r\n",
       "Q 1444 4003 1247 3826 \r\n",
       "Q 1050 3650 1050 3366 \r\n",
       "L 291 3366 \r\n",
       "Q 291 3716 477 4003 \r\n",
       "Q 663 4291 995 4452 \r\n",
       "Q 1328 4613 1741 4613 \r\n",
       "Q 2422 4613 2811 4270 \r\n",
       "Q 3200 3928 3200 3319 \r\n",
       "Q 3200 3013 3004 2742 \r\n",
       "Q 2809 2472 2500 2334 \r\n",
       "Q 2875 2206 3070 1931 \r\n",
       "Q 3266 1656 3266 1275 \r\n",
       "Q 3266 663 2845 300 \r\n",
       "Q 2425 -63 1741 -63 \r\n",
       "Q 1084 -63 665 287 \r\n",
       "Q 247 638 247 1219 \r\n",
       "L 1006 1219 \r\n",
       "Q 1006 919 1207 731 \r\n",
       "Q 1409 544 1750 544 \r\n",
       "Q 2103 544 2306 731 \r\n",
       "Q 2509 919 2509 1275 \r\n",
       "Q 2509 1634 2296 1828 \r\n",
       "Q 2084 2022 1666 2022 \r\n",
       "L 1219 2022 \r\n",
       "L 1219 2622 \r\n",
       "z\r\n",
       "\" id=\"Roboto-Medium-33\" transform=\"scale(0.015625)\"/>\r\n",
       "       </defs>\r\n",
       "       <use xlink:href=\"#Roboto-Medium-33\"/>\r\n",
       "       <use x=\"56.835938\" xlink:href=\"#Roboto-Medium-30\"/>\r\n",
       "       <use x=\"113.671875\" xlink:href=\"#Roboto-Medium-30\"/>\r\n",
       "       <use x=\"170.507812\" xlink:href=\"#Roboto-Medium-30\"/>\r\n",
       "       <use x=\"227.34375\" xlink:href=\"#Roboto-Medium-30\"/>\r\n",
       "      </g>\r\n",
       "     </g>\r\n",
       "    </g>\r\n",
       "    <g id=\"ytick_5\">\r\n",
       "     <g id=\"line2d_27\">\r\n",
       "      <path clip-path=\"url(#p8cd464d686)\" d=\"M 36.9375 57.417134 \r\n",
       "L 594.9375 57.417134 \r\n",
       "\" style=\"fill:none;stroke:#58544f;stroke-linecap:square;stroke-width:0.8;\"/>\r\n",
       "     </g>\r\n",
       "     <g id=\"line2d_28\">\r\n",
       "      <g>\r\n",
       "       <use style=\"fill:#58544f;stroke:#58544f;stroke-width:0.8;\" x=\"36.9375\" xlink:href=\"#m57d4b4f1a5\" y=\"57.417134\"/>\r\n",
       "      </g>\r\n",
       "     </g>\r\n",
       "     <g id=\"text_14\">\r\n",
       "      <!-- 40000 -->\r\n",
       "      <g style=\"fill:#58544f;\" transform=\"translate(7.2 60.417134)scale(0.08 -0.08)\">\r\n",
       "       <defs>\r\n",
       "        <path d=\"M 2909 1622 \r\n",
       "L 3475 1622 \r\n",
       "L 3475 1013 \r\n",
       "L 2909 1013 \r\n",
       "L 2909 0 \r\n",
       "L 2150 0 \r\n",
       "L 2150 1013 \r\n",
       "L 184 1013 \r\n",
       "L 163 1475 \r\n",
       "L 2125 4550 \r\n",
       "L 2909 4550 \r\n",
       "L 2909 1622 \r\n",
       "z\r\n",
       "M 959 1622 \r\n",
       "L 2150 1622 \r\n",
       "L 2150 3522 \r\n",
       "L 2094 3422 \r\n",
       "L 959 1622 \r\n",
       "z\r\n",
       "\" id=\"Roboto-Medium-34\" transform=\"scale(0.015625)\"/>\r\n",
       "       </defs>\r\n",
       "       <use xlink:href=\"#Roboto-Medium-34\"/>\r\n",
       "       <use x=\"56.835938\" xlink:href=\"#Roboto-Medium-30\"/>\r\n",
       "       <use x=\"113.671875\" xlink:href=\"#Roboto-Medium-30\"/>\r\n",
       "       <use x=\"170.507812\" xlink:href=\"#Roboto-Medium-30\"/>\r\n",
       "       <use x=\"227.34375\" xlink:href=\"#Roboto-Medium-30\"/>\r\n",
       "      </g>\r\n",
       "     </g>\r\n",
       "    </g>\r\n",
       "   </g>\r\n",
       "   <g id=\"patch_23\">\r\n",
       "    <path d=\"M 36.9375 294 \r\n",
       "L 36.9375 22.2 \r\n",
       "\" style=\"fill:none;stroke:#58544f;stroke-linecap:square;stroke-linejoin:miter;stroke-width:0.8;\"/>\r\n",
       "   </g>\r\n",
       "   <g id=\"patch_24\">\r\n",
       "    <path d=\"M 594.9375 294 \r\n",
       "L 594.9375 22.2 \r\n",
       "\" style=\"fill:none;stroke:#58544f;stroke-linecap:square;stroke-linejoin:miter;stroke-width:0.8;\"/>\r\n",
       "   </g>\r\n",
       "   <g id=\"patch_25\">\r\n",
       "    <path d=\"M 36.9375 294 \r\n",
       "L 594.9375 294 \r\n",
       "\" style=\"fill:none;stroke:#58544f;stroke-linecap:square;stroke-linejoin:miter;stroke-width:0.8;\"/>\r\n",
       "   </g>\r\n",
       "   <g id=\"patch_26\">\r\n",
       "    <path d=\"M 36.9375 22.2 \r\n",
       "L 594.9375 22.2 \r\n",
       "\" style=\"fill:none;stroke:#58544f;stroke-linecap:square;stroke-linejoin:miter;stroke-width:0.8;\"/>\r\n",
       "   </g>\r\n",
       "   <g id=\"text_15\">\r\n",
       "    <!-- Распределение по годам регистрации -->\r\n",
       "    <g transform=\"translate(207.406875 16.2)scale(0.12 -0.12)\">\r\n",
       "     <defs>\r\n",
       "      <path d=\"M 1253 1691 \r\n",
       "L 1253 0 \r\n",
       "L 463 0 \r\n",
       "L 463 4550 \r\n",
       "L 2203 4550 \r\n",
       "Q 2966 4550 3414 4153 \r\n",
       "Q 3863 3756 3863 3103 \r\n",
       "Q 3863 2434 3423 2062 \r\n",
       "Q 2984 1691 2194 1691 \r\n",
       "L 1253 1691 \r\n",
       "z\r\n",
       "M 1253 2325 \r\n",
       "L 2203 2325 \r\n",
       "Q 2625 2325 2847 2523 \r\n",
       "Q 3069 2722 3069 3097 \r\n",
       "Q 3069 3466 2844 3686 \r\n",
       "Q 2619 3906 2225 3913 \r\n",
       "L 1253 3913 \r\n",
       "L 1253 2325 \r\n",
       "z\r\n",
       "\" id=\"Roboto-Medium-420\" transform=\"scale(0.015625)\"/>\r\n",
       "      <path d=\"M 2409 0 \r\n",
       "Q 2359 97 2322 316 \r\n",
       "Q 1959 -63 1434 -63 \r\n",
       "Q 925 -63 603 228 \r\n",
       "Q 281 519 281 947 \r\n",
       "Q 281 1488 682 1777 \r\n",
       "Q 1084 2066 1831 2066 \r\n",
       "L 2297 2066 \r\n",
       "L 2297 2288 \r\n",
       "Q 2297 2550 2150 2708 \r\n",
       "Q 2003 2866 1703 2866 \r\n",
       "Q 1444 2866 1278 2736 \r\n",
       "Q 1113 2606 1113 2406 \r\n",
       "L 353 2406 \r\n",
       "Q 353 2684 537 2926 \r\n",
       "Q 722 3169 1039 3306 \r\n",
       "Q 1356 3444 1747 3444 \r\n",
       "Q 2341 3444 2694 3145 \r\n",
       "Q 3047 2847 3056 2306 \r\n",
       "L 3056 781 \r\n",
       "Q 3056 325 3184 53 \r\n",
       "L 3184 0 \r\n",
       "L 2409 0 \r\n",
       "z\r\n",
       "M 1575 547 \r\n",
       "Q 1800 547 1998 656 \r\n",
       "Q 2197 766 2297 950 \r\n",
       "L 2297 1588 \r\n",
       "L 1888 1588 \r\n",
       "Q 1466 1588 1253 1441 \r\n",
       "Q 1041 1294 1041 1025 \r\n",
       "Q 1041 806 1186 676 \r\n",
       "Q 1331 547 1575 547 \r\n",
       "z\r\n",
       "\" id=\"Roboto-Medium-430\" transform=\"scale(0.015625)\"/>\r\n",
       "      <path d=\"M 1778 544 \r\n",
       "Q 2063 544 2250 709 \r\n",
       "Q 2438 875 2450 1119 \r\n",
       "L 3166 1119 \r\n",
       "Q 3153 803 2968 529 \r\n",
       "Q 2784 256 2468 96 \r\n",
       "Q 2153 -63 1788 -63 \r\n",
       "Q 1078 -63 662 396 \r\n",
       "Q 247 856 247 1666 \r\n",
       "L 247 1744 \r\n",
       "Q 247 2516 659 2980 \r\n",
       "Q 1072 3444 1784 3444 \r\n",
       "Q 2388 3444 2767 3092 \r\n",
       "Q 3147 2741 3166 2169 \r\n",
       "L 2450 2169 \r\n",
       "Q 2438 2459 2252 2646 \r\n",
       "Q 2066 2834 1778 2834 \r\n",
       "Q 1409 2834 1209 2567 \r\n",
       "Q 1009 2300 1006 1756 \r\n",
       "L 1006 1634 \r\n",
       "Q 1006 1084 1204 814 \r\n",
       "Q 1403 544 1778 544 \r\n",
       "z\r\n",
       "\" id=\"Roboto-Medium-441\" transform=\"scale(0.015625)\"/>\r\n",
       "      <path d=\"M 3256 0 \r\n",
       "L 2497 0 \r\n",
       "L 2497 2769 \r\n",
       "L 1178 2769 \r\n",
       "L 1178 0 \r\n",
       "L 419 0 \r\n",
       "L 419 3381 \r\n",
       "L 3256 3381 \r\n",
       "L 3256 0 \r\n",
       "z\r\n",
       "\" id=\"Roboto-Medium-43f\" transform=\"scale(0.015625)\"/>\r\n",
       "      <path d=\"M 3350 1656 \r\n",
       "Q 3350 872 2994 404 \r\n",
       "Q 2638 -63 2038 -63 \r\n",
       "Q 1481 -63 1147 303 \r\n",
       "L 1147 -1300 \r\n",
       "L 388 -1300 \r\n",
       "L 388 3381 \r\n",
       "L 1088 3381 \r\n",
       "L 1119 3038 \r\n",
       "Q 1453 3444 2028 3444 \r\n",
       "Q 2647 3444 2998 2983 \r\n",
       "Q 3350 2522 3350 1703 \r\n",
       "L 3350 1656 \r\n",
       "z\r\n",
       "M 2594 1722 \r\n",
       "Q 2594 2228 2392 2525 \r\n",
       "Q 2191 2822 1816 2822 \r\n",
       "Q 1350 2822 1147 2438 \r\n",
       "L 1147 938 \r\n",
       "Q 1353 544 1822 544 \r\n",
       "Q 2184 544 2389 836 \r\n",
       "Q 2594 1128 2594 1722 \r\n",
       "z\r\n",
       "\" id=\"Roboto-Medium-440\" transform=\"scale(0.015625)\"/>\r\n",
       "      <path d=\"M 1878 -63 \r\n",
       "Q 1156 -63 707 392 \r\n",
       "Q 259 847 259 1603 \r\n",
       "L 259 1697 \r\n",
       "Q 259 2203 454 2601 \r\n",
       "Q 650 3000 1003 3222 \r\n",
       "Q 1356 3444 1791 3444 \r\n",
       "Q 2481 3444 2857 3003 \r\n",
       "Q 3234 2563 3234 1756 \r\n",
       "L 3234 1450 \r\n",
       "L 1025 1450 \r\n",
       "Q 1059 1031 1304 787 \r\n",
       "Q 1550 544 1922 544 \r\n",
       "Q 2444 544 2772 966 \r\n",
       "L 3181 575 \r\n",
       "Q 2978 272 2639 104 \r\n",
       "Q 2300 -63 1878 -63 \r\n",
       "z\r\n",
       "M 1788 2834 \r\n",
       "Q 1475 2834 1283 2615 \r\n",
       "Q 1091 2397 1038 2006 \r\n",
       "L 2484 2006 \r\n",
       "L 2484 2063 \r\n",
       "Q 2459 2444 2281 2639 \r\n",
       "Q 2103 2834 1788 2834 \r\n",
       "z\r\n",
       "\" id=\"Roboto-Medium-435\" transform=\"scale(0.015625)\"/>\r\n",
       "      <path d=\"M 403 606 \r\n",
       "Q 719 959 826 1276 \r\n",
       "Q 934 1594 956 2088 \r\n",
       "L 1000 3381 \r\n",
       "L 3347 3381 \r\n",
       "L 3347 606 \r\n",
       "L 3816 606 \r\n",
       "L 3816 -1006 \r\n",
       "L 3059 -1006 \r\n",
       "L 3059 0 \r\n",
       "L 891 0 \r\n",
       "L 891 -1006 \r\n",
       "L 122 -1006 \r\n",
       "L 125 606 \r\n",
       "L 403 606 \r\n",
       "z\r\n",
       "M 1294 606 \r\n",
       "L 2591 606 \r\n",
       "L 2591 2728 \r\n",
       "L 1738 2728 \r\n",
       "L 1716 2081 \r\n",
       "Q 1672 1150 1294 606 \r\n",
       "z\r\n",
       "\" id=\"Roboto-Medium-434\" transform=\"scale(0.015625)\"/>\r\n",
       "      <path d=\"M 3263 3381 \r\n",
       "L 3263 0 \r\n",
       "L 2503 0 \r\n",
       "L 2503 2769 \r\n",
       "L 1547 2769 \r\n",
       "L 1484 1591 \r\n",
       "Q 1425 741 1158 370 \r\n",
       "Q 891 0 341 0 \r\n",
       "L 106 0 \r\n",
       "L 103 631 \r\n",
       "L 259 647 \r\n",
       "Q 509 681 623 951 \r\n",
       "Q 738 1222 769 1938 \r\n",
       "L 831 3381 \r\n",
       "L 3263 3381 \r\n",
       "z\r\n",
       "\" id=\"Roboto-Medium-43b\" transform=\"scale(0.015625)\"/>\r\n",
       "      <path d=\"M 3253 0 \r\n",
       "L 2494 0 \r\n",
       "L 2494 1366 \r\n",
       "L 1178 1366 \r\n",
       "L 1178 0 \r\n",
       "L 419 0 \r\n",
       "L 419 3381 \r\n",
       "L 1178 3381 \r\n",
       "L 1178 1972 \r\n",
       "L 2494 1972 \r\n",
       "L 2494 3381 \r\n",
       "L 3253 3381 \r\n",
       "L 3253 0 \r\n",
       "z\r\n",
       "\" id=\"Roboto-Medium-43d\" transform=\"scale(0.015625)\"/>\r\n",
       "      <path d=\"M 2500 3381 \r\n",
       "L 3256 3381 \r\n",
       "L 3256 0 \r\n",
       "L 2500 0 \r\n",
       "L 2500 2256 \r\n",
       "L 1175 0 \r\n",
       "L 419 0 \r\n",
       "L 419 3381 \r\n",
       "L 1175 3381 \r\n",
       "L 1175 1125 \r\n",
       "L 2500 3381 \r\n",
       "z\r\n",
       "\" id=\"Roboto-Medium-438\" transform=\"scale(0.015625)\"/>\r\n",
       "      <path id=\"Roboto-Medium-20\" transform=\"scale(0.015625)\"/>\r\n",
       "      <path d=\"M 247 1722 \r\n",
       "Q 247 2219 444 2617 \r\n",
       "Q 641 3016 997 3230 \r\n",
       "Q 1353 3444 1816 3444 \r\n",
       "Q 2500 3444 2926 3003 \r\n",
       "Q 3353 2563 3388 1834 \r\n",
       "L 3391 1656 \r\n",
       "Q 3391 1156 3198 762 \r\n",
       "Q 3006 369 2648 153 \r\n",
       "Q 2291 -63 1822 -63 \r\n",
       "Q 1106 -63 676 414 \r\n",
       "Q 247 891 247 1684 \r\n",
       "L 247 1722 \r\n",
       "z\r\n",
       "M 1006 1656 \r\n",
       "Q 1006 1134 1222 839 \r\n",
       "Q 1438 544 1822 544 \r\n",
       "Q 2206 544 2420 844 \r\n",
       "Q 2634 1144 2634 1722 \r\n",
       "Q 2634 2234 2414 2534 \r\n",
       "Q 2194 2834 1816 2834 \r\n",
       "Q 1444 2834 1225 2539 \r\n",
       "Q 1006 2244 1006 1656 \r\n",
       "z\r\n",
       "\" id=\"Roboto-Medium-43e\" transform=\"scale(0.015625)\"/>\r\n",
       "      <path d=\"M 2641 2769 \r\n",
       "L 1172 2769 \r\n",
       "L 1172 0 \r\n",
       "L 416 0 \r\n",
       "L 416 3381 \r\n",
       "L 2641 3381 \r\n",
       "L 2641 2769 \r\n",
       "z\r\n",
       "\" id=\"Roboto-Medium-433\" transform=\"scale(0.015625)\"/>\r\n",
       "      <path d=\"M 2397 934 \r\n",
       "L 3397 3381 \r\n",
       "L 4347 3381 \r\n",
       "L 4347 0 \r\n",
       "L 3588 0 \r\n",
       "L 3588 2238 \r\n",
       "L 2656 0 \r\n",
       "L 2141 0 \r\n",
       "L 1206 2250 \r\n",
       "L 1206 0 \r\n",
       "L 447 0 \r\n",
       "L 447 3381 \r\n",
       "L 1403 3381 \r\n",
       "L 2397 934 \r\n",
       "z\r\n",
       "\" id=\"Roboto-Medium-43c\" transform=\"scale(0.015625)\"/>\r\n",
       "      <path d=\"M 3050 2778 \r\n",
       "L 1953 2778 \r\n",
       "L 1953 0 \r\n",
       "L 1194 0 \r\n",
       "L 1194 2778 \r\n",
       "L 109 2778 \r\n",
       "L 109 3381 \r\n",
       "L 3050 3381 \r\n",
       "L 3050 2778 \r\n",
       "z\r\n",
       "\" id=\"Roboto-Medium-442\" transform=\"scale(0.015625)\"/>\r\n",
       "      <path d=\"M 419 3381 \r\n",
       "L 1178 3381 \r\n",
       "L 1178 606 \r\n",
       "L 2497 606 \r\n",
       "L 2497 3381 \r\n",
       "L 3256 3381 \r\n",
       "L 3256 606 \r\n",
       "L 3716 606 \r\n",
       "L 3653 -1003 \r\n",
       "L 2963 -1003 \r\n",
       "L 2963 0 \r\n",
       "L 419 0 \r\n",
       "L 419 3381 \r\n",
       "z\r\n",
       "\" id=\"Roboto-Medium-446\" transform=\"scale(0.015625)\"/>\r\n",
       "     </defs>\r\n",
       "     <use xlink:href=\"#Roboto-Medium-420\"/>\r\n",
       "     <use x=\"63.916016\" xlink:href=\"#Roboto-Medium-430\"/>\r\n",
       "     <use x=\"118.017578\" xlink:href=\"#Roboto-Medium-441\"/>\r\n",
       "     <use x=\"170.361328\" xlink:href=\"#Roboto-Medium-43f\"/>\r\n",
       "     <use x=\"227.783203\" xlink:href=\"#Roboto-Medium-440\"/>\r\n",
       "     <use x=\"284.082031\" xlink:href=\"#Roboto-Medium-435\"/>\r\n",
       "     <use x=\"337.744141\" xlink:href=\"#Roboto-Medium-434\"/>\r\n",
       "     <use x=\"399.755859\" xlink:href=\"#Roboto-Medium-435\"/>\r\n",
       "     <use x=\"453.417969\" xlink:href=\"#Roboto-Medium-43b\"/>\r\n",
       "     <use x=\"510.9375\" xlink:href=\"#Roboto-Medium-435\"/>\r\n",
       "     <use x=\"564.599609\" xlink:href=\"#Roboto-Medium-43d\"/>\r\n",
       "     <use x=\"621.972656\" xlink:href=\"#Roboto-Medium-438\"/>\r\n",
       "     <use x=\"679.394531\" xlink:href=\"#Roboto-Medium-435\"/>\r\n",
       "     <use x=\"733.056641\" xlink:href=\"#Roboto-Medium-20\"/>\r\n",
       "     <use x=\"757.958984\" xlink:href=\"#Roboto-Medium-43f\"/>\r\n",
       "     <use x=\"815.380859\" xlink:href=\"#Roboto-Medium-43e\"/>\r\n",
       "     <use x=\"872.314453\" xlink:href=\"#Roboto-Medium-20\"/>\r\n",
       "     <use x=\"897.216797\" xlink:href=\"#Roboto-Medium-433\"/>\r\n",
       "     <use x=\"939.111328\" xlink:href=\"#Roboto-Medium-43e\"/>\r\n",
       "     <use x=\"996.044922\" xlink:href=\"#Roboto-Medium-434\"/>\r\n",
       "     <use x=\"1058.056641\" xlink:href=\"#Roboto-Medium-430\"/>\r\n",
       "     <use x=\"1112.158203\" xlink:href=\"#Roboto-Medium-43c\"/>\r\n",
       "     <use x=\"1187.304688\" xlink:href=\"#Roboto-Medium-20\"/>\r\n",
       "     <use x=\"1212.207031\" xlink:href=\"#Roboto-Medium-440\"/>\r\n",
       "     <use x=\"1268.505859\" xlink:href=\"#Roboto-Medium-435\"/>\r\n",
       "     <use x=\"1322.167969\" xlink:href=\"#Roboto-Medium-433\"/>\r\n",
       "     <use x=\"1364.0625\" xlink:href=\"#Roboto-Medium-438\"/>\r\n",
       "     <use x=\"1421.484375\" xlink:href=\"#Roboto-Medium-441\"/>\r\n",
       "     <use x=\"1473.828125\" xlink:href=\"#Roboto-Medium-442\"/>\r\n",
       "     <use x=\"1523.291016\" xlink:href=\"#Roboto-Medium-440\"/>\r\n",
       "     <use x=\"1579.589844\" xlink:href=\"#Roboto-Medium-430\"/>\r\n",
       "     <use x=\"1633.691406\" xlink:href=\"#Roboto-Medium-446\"/>\r\n",
       "     <use x=\"1693.994141\" xlink:href=\"#Roboto-Medium-438\"/>\r\n",
       "     <use x=\"1751.416016\" xlink:href=\"#Roboto-Medium-438\"/>\r\n",
       "    </g>\r\n",
       "   </g>\r\n",
       "  </g>\r\n",
       " </g>\r\n",
       " <defs>\r\n",
       "  <clipPath id=\"p8cd464d686\">\r\n",
       "   <rect height=\"271.8\" width=\"558\" x=\"36.9375\" y=\"22.2\"/>\r\n",
       "  </clipPath>\r\n",
       " </defs>\r\n",
       "</svg>\r\n"
      ],
      "text/plain": [
       "<Figure size 1000x500 with 1 Axes>"
      ]
     },
     "metadata": {},
     "output_type": "display_data"
    }
   ],
   "source": [
    "x = data.query('1980 < registration_year < 2020')\n",
    "x ['registration_year'].hist(bins=20)\n",
    "plt.title('Распределение по годам регистрации')"
   ]
  },
  {
   "cell_type": "markdown",
   "metadata": {},
   "source": [
    "Изучив полученные данные, построим на их основе очищенный от вбросов срез."
   ]
  },
  {
   "cell_type": "code",
   "execution_count": 425,
   "metadata": {},
   "outputs": [
    {
     "name": "stdout",
     "output_type": "stream",
     "text": [
      "<class 'pandas.core.frame.DataFrame'>\n",
      "Int64Index: 335060 entries, 0 to 354368\n",
      "Data columns (total 10 columns):\n",
      " #   Column             Non-Null Count   Dtype \n",
      "---  ------             --------------   ----- \n",
      " 0   price              335060 non-null  int64 \n",
      " 1   vehicle_type       335060 non-null  object\n",
      " 2   registration_year  335060 non-null  int64 \n",
      " 3   gearbox            335060 non-null  object\n",
      " 4   power              335060 non-null  int64 \n",
      " 5   model              335060 non-null  object\n",
      " 6   kilometer          335060 non-null  int64 \n",
      " 7   fuel_type          335060 non-null  object\n",
      " 8   brand              335060 non-null  object\n",
      " 9   not_repaired       335060 non-null  object\n",
      "dtypes: int64(4), object(6)\n",
      "memory usage: 28.1+ MB\n"
     ]
    }
   ],
   "source": [
    "actual_data = data.query('1980 < registration_year < 2020 and price != 0' )\n",
    "actual_data.info()"
   ]
  },
  {
   "cell_type": "markdown",
   "metadata": {},
   "source": [
    "Существует гипотеза о том, что возраст машины влияет на ее ценобразование. Проверим это путём разбивки на возрастные группы."
   ]
  },
  {
   "cell_type": "code",
   "execution_count": 426,
   "metadata": {},
   "outputs": [],
   "source": [
    "#создадим функцию для раздела по году регистрации:\n",
    "def reg_group(row):\n",
    "    year = row['registration_year']\n",
    "    if 2015 <= year <= 2021:\n",
    "        return 'новая'\n",
    "    if 2010 <= year <= 2014:\n",
    "        return 'средне-новая'\n",
    "    if 2000 <= year <= 2009:\n",
    "        return 'старая'\n",
    "    else:\n",
    "        return 'ретро'"
   ]
  },
  {
   "cell_type": "code",
   "execution_count": 427,
   "metadata": {},
   "outputs": [
    {
     "data": {
      "text/plain": [
       "старая          186014\n",
       "ретро            92076\n",
       "средне-новая     33791\n",
       "новая            23179\n",
       "Name: registration_group, dtype: int64"
      ]
     },
     "execution_count": 427,
     "metadata": {},
     "output_type": "execute_result"
    }
   ],
   "source": [
    "actual_data['registration_group'] = actual_data.apply(reg_group, axis=1)\n",
    "actual_data['registration_group'].value_counts()"
   ]
  },
  {
   "cell_type": "code",
   "execution_count": 428,
   "metadata": {},
   "outputs": [],
   "source": [
    "categorical_features = ['vehicle_type', 'gearbox',  \n",
    "                        'model', 'fuel_type', 'brand', \n",
    "                        'not_repaired', 'registration_year',\n",
    "                       'registration_group']"
   ]
  },
  {
   "cell_type": "code",
   "execution_count": 429,
   "metadata": {},
   "outputs": [
    {
     "name": "stdout",
     "output_type": "stream",
     "text": [
      "<class 'pandas.core.frame.DataFrame'>\n",
      "Int64Index: 335060 entries, 0 to 354368\n",
      "Data columns (total 11 columns):\n",
      " #   Column              Non-Null Count   Dtype   \n",
      "---  ------              --------------   -----   \n",
      " 0   price               335060 non-null  int64   \n",
      " 1   vehicle_type        335060 non-null  category\n",
      " 2   registration_year   335060 non-null  category\n",
      " 3   gearbox             335060 non-null  category\n",
      " 4   power               335060 non-null  int64   \n",
      " 5   model               335060 non-null  category\n",
      " 6   kilometer           335060 non-null  int64   \n",
      " 7   fuel_type           335060 non-null  category\n",
      " 8   brand               335060 non-null  category\n",
      " 9   not_repaired        335060 non-null  category\n",
      " 10  registration_group  335060 non-null  category\n",
      "dtypes: category(8), int64(3)\n",
      "memory usage: 13.1 MB\n"
     ]
    }
   ],
   "source": [
    "actual_data[categorical_features] = actual_data[categorical_features].astype('category')\n",
    "actual_data.info()"
   ]
  },
  {
   "cell_type": "code",
   "execution_count": 430,
   "metadata": {},
   "outputs": [],
   "source": [
    "def split_data(data, target_column):\n",
    "    return data.drop(columns=[target_column], axis=1), data[target_column]"
   ]
  },
  {
   "cell_type": "code",
   "execution_count": 431,
   "metadata": {},
   "outputs": [
    {
     "name": "stdout",
     "output_type": "stream",
     "text": [
      "Объктов в train: 201036\n",
      "Объктов в valid: 67012\n",
      "Объктов в test: 67012\n",
      "Сумма объектов: 335060\n",
      "\n",
      "Объектов всего: 348267\n"
     ]
    }
   ],
   "source": [
    "features, target = split_data(actual_data,'price')\n",
    "\n",
    "features_df, features_valid, target_df, target_valid = train_test_split(features, \n",
    "                                                                        target, \n",
    "                                                                        test_size=0.20, \n",
    "                                                                        random_state=42)\n",
    "\n",
    "features_train, features_test, target_train, target_test = train_test_split(features_df, \n",
    "                                                                            target_df, \n",
    "                                                                            test_size=0.25, \n",
    "                                                                            random_state=42)\n",
    "\n",
    "print('Объктов в train:', len(features_train))\n",
    "print('Объктов в valid:', len(features_valid))\n",
    "print('Объктов в test:', len(features_test))\n",
    "print('Сумма объектов:', len(features_train) + len(features_test) + len(features_valid))\n",
    "print()\n",
    "print('Объектов всего:', len(data))"
   ]
  },
  {
   "cell_type": "markdown",
   "metadata": {},
   "source": [
    "## Обучение моделей"
   ]
  },
  {
   "cell_type": "markdown",
   "metadata": {},
   "source": [
    "### LightGBM"
   ]
  },
  {
   "cell_type": "code",
   "execution_count": 432,
   "metadata": {},
   "outputs": [
    {
     "name": "stdout",
     "output_type": "stream",
     "text": [
      "[LightGBM] [Warning] Unknown parameter: nam_leaves\n",
      "RMSE: 1544.4669303092162\n",
      "Время обучения: 1474.4395463466644\n",
      "Скорость предсказания 48.94538187980652\n",
      "Wall time: 50 s\n"
     ]
    }
   ],
   "source": [
    "%%time\n",
    "import time\n",
    "time_start = time.time()\n",
    "model = LGBMRegressor(random_state=393, learning_rate=0.3, nam_leaves=50)\n",
    "model.fit(features_train, target_train)\n",
    "time_lgbm_fit = time.time() - time_lgbm_fit\n",
    "predict_valid = model.predict(features_valid)\n",
    "time_lgbm_predict = time.time() - time_start\n",
    "result_lgbm = mean_squared_error(target_valid, predict_valid) ** 0.5\n",
    "print('RMSE:', result_lgbm)\n",
    "print('Время обучения:', time_lgbm_fit)\n",
    "print('Скорость предсказания', time_lgbm_predict)"
   ]
  },
  {
   "cell_type": "markdown",
   "metadata": {},
   "source": [
    "### CatBoost"
   ]
  },
  {
   "cell_type": "code",
   "execution_count": null,
   "metadata": {},
   "outputs": [],
   "source": [
    "grid = [{'iterations': [180, 200, 20],\n",
    "        'depth': [ 6, 10, 2]}]"
   ]
  },
  {
   "cell_type": "code",
   "execution_count": null,
   "metadata": {},
   "outputs": [],
   "source": [
    "%%time\n",
    "regressor = CatBoostRegressor(random_state=393,cat_features=cat_features,logging_level='Silent') \n",
    "clf = GridSearchCV(regressor, grid, scoring='neg_mean_squared_error',n_jobs = -1,cv=3)\n",
    "clf.fit(features_train,target_train)"
   ]
  },
  {
   "cell_type": "code",
   "execution_count": null,
   "metadata": {},
   "outputs": [],
   "source": [
    "clf.best_params_"
   ]
  },
  {
   "cell_type": "code",
   "execution_count": null,
   "metadata": {},
   "outputs": [],
   "source": [
    "time_start = time.time()\n",
    "model = CatBoostRegressor(random_state=393,\n",
    "                          cat_features=categorical_features, \n",
    "                          logging_level='Silent',\n",
    "                          depth=10, \n",
    "                          iterations=200)\n",
    "model.fit(features_train,target_train)\n",
    "time_cat_fit = time.time() - time_start\n",
    "predict_valid = model.predict(features_valid)\n",
    "time_cat_predict = time.time() - time_cat_fit\n",
    "result_cat = mean_squared_error(target_valid, predict_valid) ** 0.5\n",
    "print('RMSE:', result_cat)\n",
    "print('Время обучения:', time_cat_fit)\n",
    "print('Скорость предсказания', time_cat_predict)"
   ]
  },
  {
   "cell_type": "markdown",
   "metadata": {},
   "source": [
    "### Линейная регрессия"
   ]
  },
  {
   "cell_type": "code",
   "execution_count": 433,
   "metadata": {},
   "outputs": [
    {
     "data": {
      "text/plain": [
       "Index(['price', 'vehicle_type', 'registration_year', 'gearbox', 'power',\n",
       "       'model', 'kilometer', 'fuel_type', 'brand', 'not_repaired',\n",
       "       'registration_group'],\n",
       "      dtype='object')"
      ]
     },
     "execution_count": 433,
     "metadata": {},
     "output_type": "execute_result"
    }
   ],
   "source": [
    "actual_data.columns"
   ]
  },
  {
   "cell_type": "code",
   "execution_count": 196,
   "metadata": {},
   "outputs": [
    {
     "data": {
      "text/html": [
       "<div>\n",
       "<style scoped>\n",
       "    .dataframe tbody tr th:only-of-type {\n",
       "        vertical-align: middle;\n",
       "    }\n",
       "\n",
       "    .dataframe tbody tr th {\n",
       "        vertical-align: top;\n",
       "    }\n",
       "\n",
       "    .dataframe thead th {\n",
       "        text-align: right;\n",
       "    }\n",
       "</style>\n",
       "<table border=\"1\" class=\"dataframe\">\n",
       "  <thead>\n",
       "    <tr style=\"text-align: right;\">\n",
       "      <th></th>\n",
       "      <th>price</th>\n",
       "      <th>power</th>\n",
       "      <th>kilometer</th>\n",
       "    </tr>\n",
       "  </thead>\n",
       "  <tbody>\n",
       "    <tr>\n",
       "      <th>0</th>\n",
       "      <td>480</td>\n",
       "      <td>0</td>\n",
       "      <td>150000</td>\n",
       "    </tr>\n",
       "    <tr>\n",
       "      <th>1</th>\n",
       "      <td>18300</td>\n",
       "      <td>190</td>\n",
       "      <td>125000</td>\n",
       "    </tr>\n",
       "    <tr>\n",
       "      <th>3</th>\n",
       "      <td>1500</td>\n",
       "      <td>75</td>\n",
       "      <td>150000</td>\n",
       "    </tr>\n",
       "    <tr>\n",
       "      <th>4</th>\n",
       "      <td>3600</td>\n",
       "      <td>69</td>\n",
       "      <td>90000</td>\n",
       "    </tr>\n",
       "    <tr>\n",
       "      <th>5</th>\n",
       "      <td>650</td>\n",
       "      <td>102</td>\n",
       "      <td>150000</td>\n",
       "    </tr>\n",
       "  </tbody>\n",
       "</table>\n",
       "</div>"
      ],
      "text/plain": [
       "   price  power  kilometer\n",
       "0    480      0     150000\n",
       "1  18300    190     125000\n",
       "3   1500     75     150000\n",
       "4   3600     69      90000\n",
       "5    650    102     150000"
      ]
     },
     "execution_count": 196,
     "metadata": {},
     "output_type": "execute_result"
    }
   ],
   "source": [
    "# Занесем категориальные признаки в отдельную переменную:\n",
    "ohe_columns = ['vehicle_type', 'gearbox', 'model', \n",
    "               'fuel_type', 'brand', \n",
    "               'not_repaired', 'registration_year',\n",
    "              'registration_group']\n",
    "\n",
    "# кодируем признаки\n",
    "ohe = pd.get_dummies(actual_data[ohe_columns], drop_first=True)\n",
    "\n",
    "# Удалим ненужные столбцы\n",
    "actual_data = actual_data.drop(['vehicle_type', 'gearbox', 'registration_year', 'model', 'fuel_type', 'brand', 'not_repaired', 'registration_group'], axis=1)\n",
    "actual_data.head()"
   ]
  },
  {
   "cell_type": "code",
   "execution_count": 197,
   "metadata": {},
   "outputs": [
    {
     "data": {
      "text/html": [
       "<div>\n",
       "<style scoped>\n",
       "    .dataframe tbody tr th:only-of-type {\n",
       "        vertical-align: middle;\n",
       "    }\n",
       "\n",
       "    .dataframe tbody tr th {\n",
       "        vertical-align: top;\n",
       "    }\n",
       "\n",
       "    .dataframe thead th {\n",
       "        text-align: right;\n",
       "    }\n",
       "</style>\n",
       "<table border=\"1\" class=\"dataframe\">\n",
       "  <thead>\n",
       "    <tr style=\"text-align: right;\">\n",
       "      <th></th>\n",
       "      <th>price</th>\n",
       "      <th>power</th>\n",
       "      <th>kilometer</th>\n",
       "      <th>vehicle_type_convertible</th>\n",
       "      <th>vehicle_type_coupe</th>\n",
       "      <th>vehicle_type_other</th>\n",
       "      <th>vehicle_type_sedan</th>\n",
       "      <th>vehicle_type_small</th>\n",
       "      <th>vehicle_type_suv</th>\n",
       "      <th>vehicle_type_wagon</th>\n",
       "      <th>...</th>\n",
       "      <th>registration_year_2013</th>\n",
       "      <th>registration_year_2014</th>\n",
       "      <th>registration_year_2015</th>\n",
       "      <th>registration_year_2016</th>\n",
       "      <th>registration_year_2017</th>\n",
       "      <th>registration_year_2018</th>\n",
       "      <th>registration_year_2019</th>\n",
       "      <th>registration_group_ретро</th>\n",
       "      <th>registration_group_средне-новая</th>\n",
       "      <th>registration_group_старая</th>\n",
       "    </tr>\n",
       "  </thead>\n",
       "  <tbody>\n",
       "    <tr>\n",
       "      <th>0</th>\n",
       "      <td>480</td>\n",
       "      <td>0</td>\n",
       "      <td>150000</td>\n",
       "      <td>0</td>\n",
       "      <td>0</td>\n",
       "      <td>0</td>\n",
       "      <td>0</td>\n",
       "      <td>1</td>\n",
       "      <td>0</td>\n",
       "      <td>0</td>\n",
       "      <td>...</td>\n",
       "      <td>0</td>\n",
       "      <td>0</td>\n",
       "      <td>0</td>\n",
       "      <td>0</td>\n",
       "      <td>0</td>\n",
       "      <td>0</td>\n",
       "      <td>0</td>\n",
       "      <td>1</td>\n",
       "      <td>0</td>\n",
       "      <td>0</td>\n",
       "    </tr>\n",
       "    <tr>\n",
       "      <th>1</th>\n",
       "      <td>18300</td>\n",
       "      <td>190</td>\n",
       "      <td>125000</td>\n",
       "      <td>0</td>\n",
       "      <td>1</td>\n",
       "      <td>0</td>\n",
       "      <td>0</td>\n",
       "      <td>0</td>\n",
       "      <td>0</td>\n",
       "      <td>0</td>\n",
       "      <td>...</td>\n",
       "      <td>0</td>\n",
       "      <td>0</td>\n",
       "      <td>0</td>\n",
       "      <td>0</td>\n",
       "      <td>0</td>\n",
       "      <td>0</td>\n",
       "      <td>0</td>\n",
       "      <td>0</td>\n",
       "      <td>1</td>\n",
       "      <td>0</td>\n",
       "    </tr>\n",
       "    <tr>\n",
       "      <th>3</th>\n",
       "      <td>1500</td>\n",
       "      <td>75</td>\n",
       "      <td>150000</td>\n",
       "      <td>0</td>\n",
       "      <td>0</td>\n",
       "      <td>0</td>\n",
       "      <td>0</td>\n",
       "      <td>1</td>\n",
       "      <td>0</td>\n",
       "      <td>0</td>\n",
       "      <td>...</td>\n",
       "      <td>0</td>\n",
       "      <td>0</td>\n",
       "      <td>0</td>\n",
       "      <td>0</td>\n",
       "      <td>0</td>\n",
       "      <td>0</td>\n",
       "      <td>0</td>\n",
       "      <td>0</td>\n",
       "      <td>0</td>\n",
       "      <td>1</td>\n",
       "    </tr>\n",
       "    <tr>\n",
       "      <th>4</th>\n",
       "      <td>3600</td>\n",
       "      <td>69</td>\n",
       "      <td>90000</td>\n",
       "      <td>0</td>\n",
       "      <td>0</td>\n",
       "      <td>0</td>\n",
       "      <td>0</td>\n",
       "      <td>1</td>\n",
       "      <td>0</td>\n",
       "      <td>0</td>\n",
       "      <td>...</td>\n",
       "      <td>0</td>\n",
       "      <td>0</td>\n",
       "      <td>0</td>\n",
       "      <td>0</td>\n",
       "      <td>0</td>\n",
       "      <td>0</td>\n",
       "      <td>0</td>\n",
       "      <td>0</td>\n",
       "      <td>0</td>\n",
       "      <td>1</td>\n",
       "    </tr>\n",
       "    <tr>\n",
       "      <th>5</th>\n",
       "      <td>650</td>\n",
       "      <td>102</td>\n",
       "      <td>150000</td>\n",
       "      <td>0</td>\n",
       "      <td>0</td>\n",
       "      <td>0</td>\n",
       "      <td>1</td>\n",
       "      <td>0</td>\n",
       "      <td>0</td>\n",
       "      <td>0</td>\n",
       "      <td>...</td>\n",
       "      <td>0</td>\n",
       "      <td>0</td>\n",
       "      <td>0</td>\n",
       "      <td>0</td>\n",
       "      <td>0</td>\n",
       "      <td>0</td>\n",
       "      <td>0</td>\n",
       "      <td>1</td>\n",
       "      <td>0</td>\n",
       "      <td>0</td>\n",
       "    </tr>\n",
       "    <tr>\n",
       "      <th>...</th>\n",
       "      <td>...</td>\n",
       "      <td>...</td>\n",
       "      <td>...</td>\n",
       "      <td>...</td>\n",
       "      <td>...</td>\n",
       "      <td>...</td>\n",
       "      <td>...</td>\n",
       "      <td>...</td>\n",
       "      <td>...</td>\n",
       "      <td>...</td>\n",
       "      <td>...</td>\n",
       "      <td>...</td>\n",
       "      <td>...</td>\n",
       "      <td>...</td>\n",
       "      <td>...</td>\n",
       "      <td>...</td>\n",
       "      <td>...</td>\n",
       "      <td>...</td>\n",
       "      <td>...</td>\n",
       "      <td>...</td>\n",
       "      <td>...</td>\n",
       "    </tr>\n",
       "    <tr>\n",
       "      <th>354362</th>\n",
       "      <td>3200</td>\n",
       "      <td>225</td>\n",
       "      <td>150000</td>\n",
       "      <td>0</td>\n",
       "      <td>0</td>\n",
       "      <td>0</td>\n",
       "      <td>1</td>\n",
       "      <td>0</td>\n",
       "      <td>0</td>\n",
       "      <td>0</td>\n",
       "      <td>...</td>\n",
       "      <td>0</td>\n",
       "      <td>0</td>\n",
       "      <td>0</td>\n",
       "      <td>0</td>\n",
       "      <td>0</td>\n",
       "      <td>0</td>\n",
       "      <td>0</td>\n",
       "      <td>0</td>\n",
       "      <td>0</td>\n",
       "      <td>1</td>\n",
       "    </tr>\n",
       "    <tr>\n",
       "      <th>354363</th>\n",
       "      <td>1150</td>\n",
       "      <td>0</td>\n",
       "      <td>150000</td>\n",
       "      <td>0</td>\n",
       "      <td>0</td>\n",
       "      <td>0</td>\n",
       "      <td>0</td>\n",
       "      <td>0</td>\n",
       "      <td>0</td>\n",
       "      <td>0</td>\n",
       "      <td>...</td>\n",
       "      <td>0</td>\n",
       "      <td>0</td>\n",
       "      <td>0</td>\n",
       "      <td>0</td>\n",
       "      <td>0</td>\n",
       "      <td>0</td>\n",
       "      <td>0</td>\n",
       "      <td>0</td>\n",
       "      <td>0</td>\n",
       "      <td>1</td>\n",
       "    </tr>\n",
       "    <tr>\n",
       "      <th>354366</th>\n",
       "      <td>1199</td>\n",
       "      <td>101</td>\n",
       "      <td>125000</td>\n",
       "      <td>1</td>\n",
       "      <td>0</td>\n",
       "      <td>0</td>\n",
       "      <td>0</td>\n",
       "      <td>0</td>\n",
       "      <td>0</td>\n",
       "      <td>0</td>\n",
       "      <td>...</td>\n",
       "      <td>0</td>\n",
       "      <td>0</td>\n",
       "      <td>0</td>\n",
       "      <td>0</td>\n",
       "      <td>0</td>\n",
       "      <td>0</td>\n",
       "      <td>0</td>\n",
       "      <td>0</td>\n",
       "      <td>0</td>\n",
       "      <td>1</td>\n",
       "    </tr>\n",
       "    <tr>\n",
       "      <th>354367</th>\n",
       "      <td>9200</td>\n",
       "      <td>102</td>\n",
       "      <td>150000</td>\n",
       "      <td>0</td>\n",
       "      <td>0</td>\n",
       "      <td>0</td>\n",
       "      <td>0</td>\n",
       "      <td>0</td>\n",
       "      <td>0</td>\n",
       "      <td>0</td>\n",
       "      <td>...</td>\n",
       "      <td>0</td>\n",
       "      <td>0</td>\n",
       "      <td>0</td>\n",
       "      <td>0</td>\n",
       "      <td>0</td>\n",
       "      <td>0</td>\n",
       "      <td>0</td>\n",
       "      <td>1</td>\n",
       "      <td>0</td>\n",
       "      <td>0</td>\n",
       "    </tr>\n",
       "    <tr>\n",
       "      <th>354368</th>\n",
       "      <td>3400</td>\n",
       "      <td>100</td>\n",
       "      <td>150000</td>\n",
       "      <td>0</td>\n",
       "      <td>0</td>\n",
       "      <td>0</td>\n",
       "      <td>0</td>\n",
       "      <td>0</td>\n",
       "      <td>0</td>\n",
       "      <td>1</td>\n",
       "      <td>...</td>\n",
       "      <td>0</td>\n",
       "      <td>0</td>\n",
       "      <td>0</td>\n",
       "      <td>0</td>\n",
       "      <td>0</td>\n",
       "      <td>0</td>\n",
       "      <td>0</td>\n",
       "      <td>0</td>\n",
       "      <td>0</td>\n",
       "      <td>1</td>\n",
       "    </tr>\n",
       "  </tbody>\n",
       "</table>\n",
       "<p>335060 rows × 344 columns</p>\n",
       "</div>"
      ],
      "text/plain": [
       "        price  power  kilometer  vehicle_type_convertible  vehicle_type_coupe  \\\n",
       "0         480      0     150000                         0                   0   \n",
       "1       18300    190     125000                         0                   1   \n",
       "3        1500     75     150000                         0                   0   \n",
       "4        3600     69      90000                         0                   0   \n",
       "5         650    102     150000                         0                   0   \n",
       "...       ...    ...        ...                       ...                 ...   \n",
       "354362   3200    225     150000                         0                   0   \n",
       "354363   1150      0     150000                         0                   0   \n",
       "354366   1199    101     125000                         1                   0   \n",
       "354367   9200    102     150000                         0                   0   \n",
       "354368   3400    100     150000                         0                   0   \n",
       "\n",
       "        vehicle_type_other  vehicle_type_sedan  vehicle_type_small  \\\n",
       "0                        0                   0                   1   \n",
       "1                        0                   0                   0   \n",
       "3                        0                   0                   1   \n",
       "4                        0                   0                   1   \n",
       "5                        0                   1                   0   \n",
       "...                    ...                 ...                 ...   \n",
       "354362                   0                   1                   0   \n",
       "354363                   0                   0                   0   \n",
       "354366                   0                   0                   0   \n",
       "354367                   0                   0                   0   \n",
       "354368                   0                   0                   0   \n",
       "\n",
       "        vehicle_type_suv  vehicle_type_wagon  ...  registration_year_2013  \\\n",
       "0                      0                   0  ...                       0   \n",
       "1                      0                   0  ...                       0   \n",
       "3                      0                   0  ...                       0   \n",
       "4                      0                   0  ...                       0   \n",
       "5                      0                   0  ...                       0   \n",
       "...                  ...                 ...  ...                     ...   \n",
       "354362                 0                   0  ...                       0   \n",
       "354363                 0                   0  ...                       0   \n",
       "354366                 0                   0  ...                       0   \n",
       "354367                 0                   0  ...                       0   \n",
       "354368                 0                   1  ...                       0   \n",
       "\n",
       "        registration_year_2014  registration_year_2015  \\\n",
       "0                            0                       0   \n",
       "1                            0                       0   \n",
       "3                            0                       0   \n",
       "4                            0                       0   \n",
       "5                            0                       0   \n",
       "...                        ...                     ...   \n",
       "354362                       0                       0   \n",
       "354363                       0                       0   \n",
       "354366                       0                       0   \n",
       "354367                       0                       0   \n",
       "354368                       0                       0   \n",
       "\n",
       "        registration_year_2016  registration_year_2017  \\\n",
       "0                            0                       0   \n",
       "1                            0                       0   \n",
       "3                            0                       0   \n",
       "4                            0                       0   \n",
       "5                            0                       0   \n",
       "...                        ...                     ...   \n",
       "354362                       0                       0   \n",
       "354363                       0                       0   \n",
       "354366                       0                       0   \n",
       "354367                       0                       0   \n",
       "354368                       0                       0   \n",
       "\n",
       "        registration_year_2018  registration_year_2019  \\\n",
       "0                            0                       0   \n",
       "1                            0                       0   \n",
       "3                            0                       0   \n",
       "4                            0                       0   \n",
       "5                            0                       0   \n",
       "...                        ...                     ...   \n",
       "354362                       0                       0   \n",
       "354363                       0                       0   \n",
       "354366                       0                       0   \n",
       "354367                       0                       0   \n",
       "354368                       0                       0   \n",
       "\n",
       "        registration_group_ретро  registration_group_средне-новая  \\\n",
       "0                              1                                0   \n",
       "1                              0                                1   \n",
       "3                              0                                0   \n",
       "4                              0                                0   \n",
       "5                              1                                0   \n",
       "...                          ...                              ...   \n",
       "354362                         0                                0   \n",
       "354363                         0                                0   \n",
       "354366                         0                                0   \n",
       "354367                         1                                0   \n",
       "354368                         0                                0   \n",
       "\n",
       "        registration_group_старая  \n",
       "0                               0  \n",
       "1                               0  \n",
       "3                               1  \n",
       "4                               1  \n",
       "5                               0  \n",
       "...                           ...  \n",
       "354362                          1  \n",
       "354363                          1  \n",
       "354366                          1  \n",
       "354367                          0  \n",
       "354368                          1  \n",
       "\n",
       "[335060 rows x 344 columns]"
      ]
     },
     "execution_count": 197,
     "metadata": {},
     "output_type": "execute_result"
    }
   ],
   "source": [
    "df_ohe = pd.concat([actual_data, ohe], axis=1)\n",
    "df_ohe"
   ]
  },
  {
   "cell_type": "code",
   "execution_count": 199,
   "metadata": {},
   "outputs": [
    {
     "name": "stdout",
     "output_type": "stream",
     "text": [
      "Объктов в train: 201036\n",
      "Объктов в valid: 67012\n",
      "Объктов в test: 67012\n",
      "Сумма объектов: 335060\n"
     ]
    }
   ],
   "source": [
    "features, target = split_data(df_ohe, 'price')\n",
    "\n",
    "features_df, features_valid, target_df, target_valid = train_test_split(features, \n",
    "                                                                        target, \n",
    "                                                                        test_size=0.20, \n",
    "                                                                        random_state=42)\n",
    "\n",
    "features_train, features_test, target_train, target_test = train_test_split(features_df, \n",
    "                                                                            target_df, \n",
    "                                                                            test_size=0.25, \n",
    "                                                                            random_state=42)\n",
    "\n",
    "print('Объктов в train:', len(features_train))\n",
    "print('Объктов в valid:', len(features_valid))\n",
    "print('Объктов в test:', len(features_test))\n",
    "print('Сумма объектов:', len(features_train) + len(features_test) + len(features_valid))"
   ]
  },
  {
   "cell_type": "code",
   "execution_count": 200,
   "metadata": {},
   "outputs": [
    {
     "name": "stdout",
     "output_type": "stream",
     "text": [
      "RMSE линейной регресси: 2211.8089078214753\n",
      "Время обучения: 9.22031831741333\n",
      "Скорость предсказания 1642238502.2432892\n"
     ]
    }
   ],
   "source": [
    "time_start = time.time()\n",
    "model = LinearRegression()\n",
    "model.fit(features_train, target_train)\n",
    "time_linear_fit = time.time() - time_start\n",
    "predict_valid = model.predict(features_valid)\n",
    "time_linear_predict = time.time() - time_linear_fit\n",
    "result_linear = mean_squared_error(target_valid, predict_valid) ** 0.5\n",
    "print('RMSE линейной регресси:', result_linear)\n",
    "print('Время обучения:', time_linear_fit)\n",
    "print('Скорость предсказания', time_linear_predict)"
   ]
  },
  {
   "cell_type": "markdown",
   "metadata": {},
   "source": [
    "## Анализ моделей"
   ]
  },
  {
   "cell_type": "markdown",
   "metadata": {},
   "source": [
    "Для более наглядного сравнения, создадим сводную таблицу по каждой модели с указанием качества предсказания, скорости и времени обучения."
   ]
  },
  {
   "cell_type": "code",
   "execution_count": 330,
   "metadata": {},
   "outputs": [
    {
     "data": {
      "text/html": [
       "<div>\n",
       "<style scoped>\n",
       "    .dataframe tbody tr th:only-of-type {\n",
       "        vertical-align: middle;\n",
       "    }\n",
       "\n",
       "    .dataframe tbody tr th {\n",
       "        vertical-align: top;\n",
       "    }\n",
       "\n",
       "    .dataframe thead th {\n",
       "        text-align: right;\n",
       "    }\n",
       "</style>\n",
       "<table border=\"1\" class=\"dataframe\">\n",
       "  <thead>\n",
       "    <tr style=\"text-align: right;\">\n",
       "      <th></th>\n",
       "      <th>Параметр</th>\n",
       "      <th>LightGBM</th>\n",
       "      <th>CatBoost</th>\n",
       "      <th>Linear_regression</th>\n",
       "    </tr>\n",
       "  </thead>\n",
       "  <tbody>\n",
       "    <tr>\n",
       "      <th>0</th>\n",
       "      <td>Качество предсказаний</td>\n",
       "      <td>2042.595398</td>\n",
       "      <td>2.091969e+03</td>\n",
       "      <td>2.329390e+03</td>\n",
       "    </tr>\n",
       "    <tr>\n",
       "      <th>1</th>\n",
       "      <td>Скорость предсказаний</td>\n",
       "      <td>0.489617</td>\n",
       "      <td>1.642169e+09</td>\n",
       "      <td>1.642169e+09</td>\n",
       "    </tr>\n",
       "    <tr>\n",
       "      <th>2</th>\n",
       "      <td>Время обучения</td>\n",
       "      <td>336.388515</td>\n",
       "      <td>3.572097e+01</td>\n",
       "      <td>9.570212e+00</td>\n",
       "    </tr>\n",
       "  </tbody>\n",
       "</table>\n",
       "</div>"
      ],
      "text/plain": [
       "                Параметр     LightGBM      CatBoost  Linear_regression\n",
       "0  Качество предсказаний  2042.595398  2.091969e+03       2.329390e+03\n",
       "1  Скорость предсказаний     0.489617  1.642169e+09       1.642169e+09\n",
       "2         Время обучения   336.388515  3.572097e+01       9.570212e+00"
      ]
     },
     "execution_count": 330,
     "metadata": {},
     "output_type": "execute_result"
    }
   ],
   "source": [
    "data=data = [['Качество предсказаний', result_lgbm, result_cat, result_linear], \n",
    "             ['Скорость предсказаний', time_lgbm_predict, time_cat_predict, time_linear_predict],\n",
    "            ['Время обучения', time_lgbm_fit, time_cat_fit, time_linear_fit]]\n",
    "columns = ['Параметр', 'LightGBM', 'CatBoost', 'Linear_regression']\n",
    "table = pd.DataFrame(data = data, columns = columns )\n",
    "\n",
    "table"
   ]
  },
  {
   "cell_type": "markdown",
   "metadata": {},
   "source": [
    "## Общий вывод\n",
    "Для выполнения поставленной задачи был проведён предварительный анализ, который показал, что таблица содержит более 350 тыс. наблюдений о характеристиках и стоимости автомоблией. \n",
    "\n",
    "Было установлено, что строки содержат пропуски в столбцах с категориальными значениями. Обнаруженные пропуски были заменены на значения моды в сгруппированном датасете по марке автомобилей и их ценам. Незначительное количество оставшихся пропусков было удалено из датасета.\n",
    "\n",
    "Кроме того, в данных присутствовали аномальные значения, такие как регистрации транспортого средства в 1001 году или цена автомобиля, равная нулю. Чтобы избежать некорректные значения, был создан срез данных с регистрацией от 1980 по 2021 год и ценой, не равной нулю. \n",
    "\n",
    "Учитывая, что в разные года регистрация по-своему влияла на цену автомобиля, данные были разбиты на четыре категории: новая, средне-новая, старая и ретро. \n",
    "\n",
    "Таким образом, для обучения были созданы три модели машинного обучения: LightGBM, CatBoost и линейная регрессия. При сравнении моделей по качеству предсказаний лучший результат дал CatBoost. Результат чуть ниже показал LightGBM. В то же время, LightGBM имеет большую скорость обучения. Поэтому при создании приложения, определяющего цены, рекомендуется использовать именно LightGBM, поскольку у него самые оптимальные характеристики.\n"
   ]
  },
  {
   "cell_type": "markdown",
   "metadata": {},
   "source": [
    "## Чек-лист проверки"
   ]
  },
  {
   "cell_type": "markdown",
   "metadata": {},
   "source": [
    "Поставьте 'x' в выполненных пунктах. Далее нажмите Shift+Enter."
   ]
  },
  {
   "cell_type": "markdown",
   "metadata": {},
   "source": [
    "- [x]  Jupyter Notebook открыт\n",
    "- [x]  Весь код выполняется без ошибок\n",
    "- [x]  Ячейки с кодом расположены в порядке исполнения\n",
    "- [x]  Выполнена загрузка и подготовка данных\n",
    "- [x]  Выполнено обучение моделей\n",
    "- [x]  Есть анализ скорости работы и качества моделей"
   ]
  },
  {
   "cell_type": "code",
   "execution_count": null,
   "metadata": {},
   "outputs": [],
   "source": []
  }
 ],
 "metadata": {
  "ExecuteTimeLog": [
   {
    "duration": 9,
    "start_time": "2022-01-03T10:33:25.068Z"
   },
   {
    "duration": 4,
    "start_time": "2022-01-03T10:44:22.499Z"
   },
   {
    "duration": 4,
    "start_time": "2022-01-03T10:44:29.462Z"
   },
   {
    "duration": 3,
    "start_time": "2022-01-03T10:44:33.008Z"
   },
   {
    "duration": 3,
    "start_time": "2022-01-03T10:45:48.858Z"
   },
   {
    "duration": 1308,
    "start_time": "2022-01-07T09:39:15.852Z"
   },
   {
    "duration": 1031,
    "start_time": "2022-01-07T09:39:40.928Z"
   },
   {
    "duration": 1256,
    "start_time": "2022-01-07T09:39:44.243Z"
   },
   {
    "duration": 40,
    "start_time": "2022-01-07T09:39:55.634Z"
   },
   {
    "duration": 6,
    "start_time": "2022-01-07T09:40:26.136Z"
   },
   {
    "duration": 164,
    "start_time": "2022-01-07T09:40:34.934Z"
   },
   {
    "duration": 7,
    "start_time": "2022-01-07T09:40:42.763Z"
   },
   {
    "duration": 186,
    "start_time": "2022-01-07T09:40:56.058Z"
   },
   {
    "duration": 58,
    "start_time": "2022-01-07T09:41:23.148Z"
   },
   {
    "duration": 591,
    "start_time": "2022-01-07T09:41:47.435Z"
   },
   {
    "duration": 576,
    "start_time": "2022-01-07T09:42:51.673Z"
   },
   {
    "duration": 7,
    "start_time": "2022-01-07T09:57:28.103Z"
   },
   {
    "duration": 37,
    "start_time": "2022-01-07T09:58:35.256Z"
   },
   {
    "duration": 5,
    "start_time": "2022-01-07T09:58:38.478Z"
   },
   {
    "duration": 155,
    "start_time": "2022-01-07T09:58:40.453Z"
   },
   {
    "duration": 7,
    "start_time": "2022-01-07T09:58:44.380Z"
   },
   {
    "duration": 145,
    "start_time": "2022-01-07T09:58:46.935Z"
   },
   {
    "duration": 771,
    "start_time": "2022-01-08T07:05:41.100Z"
   },
   {
    "duration": 9,
    "start_time": "2022-01-08T07:05:47.047Z"
   },
   {
    "duration": 1219,
    "start_time": "2022-01-08T07:05:47.058Z"
   },
   {
    "duration": 1417,
    "start_time": "2022-01-08T07:05:48.279Z"
   },
   {
    "duration": 25,
    "start_time": "2022-01-08T07:05:49.698Z"
   },
   {
    "duration": 18,
    "start_time": "2022-01-08T07:05:49.725Z"
   },
   {
    "duration": 171,
    "start_time": "2022-01-08T07:05:49.745Z"
   },
   {
    "duration": 6,
    "start_time": "2022-01-08T07:05:49.918Z"
   },
   {
    "duration": 157,
    "start_time": "2022-01-08T07:05:49.927Z"
   },
   {
    "duration": 152,
    "start_time": "2022-01-08T07:05:50.086Z"
   },
   {
    "duration": 349,
    "start_time": "2022-01-08T07:09:18.989Z"
   },
   {
    "duration": 4,
    "start_time": "2022-01-08T09:24:42.153Z"
   },
   {
    "duration": 6,
    "start_time": "2022-01-08T09:24:42.159Z"
   },
   {
    "duration": 733,
    "start_time": "2022-01-08T09:24:42.167Z"
   },
   {
    "duration": 22,
    "start_time": "2022-01-08T09:24:42.902Z"
   },
   {
    "duration": 3,
    "start_time": "2022-01-08T09:24:42.925Z"
   },
   {
    "duration": 136,
    "start_time": "2022-01-08T09:24:42.929Z"
   },
   {
    "duration": 4,
    "start_time": "2022-01-08T09:24:43.067Z"
   },
   {
    "duration": 95,
    "start_time": "2022-01-08T09:24:43.073Z"
   },
   {
    "duration": 115,
    "start_time": "2022-01-08T09:24:43.169Z"
   },
   {
    "duration": 12,
    "start_time": "2022-01-08T09:24:43.286Z"
   },
   {
    "duration": 362,
    "start_time": "2022-01-08T09:29:45.283Z"
   },
   {
    "duration": 265,
    "start_time": "2022-01-08T09:30:07.684Z"
   },
   {
    "duration": 146,
    "start_time": "2022-01-08T09:30:13.214Z"
   },
   {
    "duration": 126,
    "start_time": "2022-01-08T09:30:29.915Z"
   },
   {
    "duration": 135,
    "start_time": "2022-01-08T09:31:04.343Z"
   },
   {
    "duration": 114,
    "start_time": "2022-01-08T09:31:13.205Z"
   },
   {
    "duration": 241,
    "start_time": "2022-01-08T09:34:38.537Z"
   },
   {
    "duration": 340,
    "start_time": "2022-01-08T09:34:47.501Z"
   },
   {
    "duration": 4,
    "start_time": "2022-01-08T09:41:17.142Z"
   },
   {
    "duration": 31,
    "start_time": "2022-01-08T09:49:41.697Z"
   },
   {
    "duration": 4,
    "start_time": "2022-01-08T10:10:34.487Z"
   },
   {
    "duration": 5,
    "start_time": "2022-01-08T10:10:34.493Z"
   },
   {
    "duration": 776,
    "start_time": "2022-01-08T10:10:34.500Z"
   },
   {
    "duration": 24,
    "start_time": "2022-01-08T10:10:35.278Z"
   },
   {
    "duration": 5,
    "start_time": "2022-01-08T10:10:35.304Z"
   },
   {
    "duration": 149,
    "start_time": "2022-01-08T10:10:35.311Z"
   },
   {
    "duration": 6,
    "start_time": "2022-01-08T10:10:35.462Z"
   },
   {
    "duration": 116,
    "start_time": "2022-01-08T10:10:35.471Z"
   },
   {
    "duration": 125,
    "start_time": "2022-01-08T10:10:35.589Z"
   },
   {
    "duration": 313,
    "start_time": "2022-01-08T10:10:35.716Z"
   },
   {
    "duration": 55,
    "start_time": "2022-01-08T10:10:36.032Z"
   },
   {
    "duration": 189,
    "start_time": "2022-01-08T10:10:36.089Z"
   },
   {
    "duration": 295,
    "start_time": "2022-01-08T10:19:01.202Z"
   },
   {
    "duration": 258,
    "start_time": "2022-01-08T10:19:29.676Z"
   },
   {
    "duration": 304,
    "start_time": "2022-01-08T10:19:35.409Z"
   },
   {
    "duration": 241,
    "start_time": "2022-01-08T10:19:39.177Z"
   },
   {
    "duration": 50,
    "start_time": "2022-01-08T10:20:18.819Z"
   },
   {
    "duration": 72,
    "start_time": "2022-01-08T10:21:34.188Z"
   },
   {
    "duration": 4,
    "start_time": "2022-01-08T10:43:59.480Z"
   },
   {
    "duration": 86,
    "start_time": "2022-01-08T10:47:19.920Z"
   },
   {
    "duration": 8454,
    "start_time": "2022-01-08T10:47:26.241Z"
   },
   {
    "duration": 8062,
    "start_time": "2022-01-08T10:48:10.923Z"
   },
   {
    "duration": 103,
    "start_time": "2022-01-08T11:24:27.326Z"
   },
   {
    "duration": 7154,
    "start_time": "2022-01-08T11:24:32.284Z"
   },
   {
    "duration": 5,
    "start_time": "2022-01-08T11:31:31.828Z"
   },
   {
    "duration": 65,
    "start_time": "2022-01-08T11:33:01.864Z"
   },
   {
    "duration": 6962,
    "start_time": "2022-01-08T11:33:07.137Z"
   },
   {
    "duration": 18,
    "start_time": "2022-01-08T11:34:51.956Z"
   },
   {
    "duration": 96,
    "start_time": "2022-01-08T11:35:37.247Z"
   },
   {
    "duration": 39,
    "start_time": "2022-01-08T11:37:53.244Z"
   },
   {
    "duration": 7716,
    "start_time": "2022-01-08T11:37:58.058Z"
   },
   {
    "duration": 9,
    "start_time": "2022-01-09T06:50:42.921Z"
   },
   {
    "duration": 1611,
    "start_time": "2022-01-09T06:50:42.932Z"
   },
   {
    "duration": 1177,
    "start_time": "2022-01-09T06:50:44.545Z"
   },
   {
    "duration": 47,
    "start_time": "2022-01-09T06:50:45.724Z"
   },
   {
    "duration": 4,
    "start_time": "2022-01-09T06:50:45.773Z"
   },
   {
    "duration": 135,
    "start_time": "2022-01-09T06:50:45.778Z"
   },
   {
    "duration": 5,
    "start_time": "2022-01-09T06:50:45.914Z"
   },
   {
    "duration": 149,
    "start_time": "2022-01-09T06:50:45.920Z"
   },
   {
    "duration": 123,
    "start_time": "2022-01-09T06:50:46.071Z"
   },
   {
    "duration": 350,
    "start_time": "2022-01-09T06:50:46.196Z"
   },
   {
    "duration": 157,
    "start_time": "2022-01-09T06:50:46.548Z"
   },
   {
    "duration": 5,
    "start_time": "2022-01-09T06:50:46.707Z"
   },
   {
    "duration": 5,
    "start_time": "2022-01-09T06:50:46.714Z"
   },
   {
    "duration": 271,
    "start_time": "2022-01-09T06:50:46.720Z"
   },
   {
    "duration": 36,
    "start_time": "2022-01-09T06:50:46.993Z"
   },
   {
    "duration": 7243,
    "start_time": "2022-01-09T06:50:47.031Z"
   },
   {
    "duration": -2731,
    "start_time": "2022-01-09T06:50:57.007Z"
   },
   {
    "duration": 19,
    "start_time": "2022-01-09T06:51:42.589Z"
   },
   {
    "duration": 18,
    "start_time": "2022-01-09T06:52:39.503Z"
   },
   {
    "duration": 43,
    "start_time": "2022-01-09T06:53:28.927Z"
   },
   {
    "duration": 7068,
    "start_time": "2022-01-09T06:53:34.701Z"
   },
   {
    "duration": 39,
    "start_time": "2022-01-09T06:54:49.892Z"
   },
   {
    "duration": 8213,
    "start_time": "2022-01-09T06:54:54.997Z"
   },
   {
    "duration": 306,
    "start_time": "2022-01-09T06:55:35.513Z"
   },
   {
    "duration": 16,
    "start_time": "2022-01-09T07:01:43.862Z"
   },
   {
    "duration": 179,
    "start_time": "2022-01-09T07:05:31.927Z"
   },
   {
    "duration": 79,
    "start_time": "2022-01-09T07:06:32.065Z"
   },
   {
    "duration": 5,
    "start_time": "2022-01-09T07:45:46.243Z"
   },
   {
    "duration": 281,
    "start_time": "2022-01-09T07:51:13.392Z"
   },
   {
    "duration": 5,
    "start_time": "2022-01-09T07:51:22.684Z"
   },
   {
    "duration": 78,
    "start_time": "2022-01-09T07:56:54.264Z"
   },
   {
    "duration": 356,
    "start_time": "2022-01-09T07:57:04.871Z"
   },
   {
    "duration": 261,
    "start_time": "2022-01-09T07:57:35.664Z"
   },
   {
    "duration": 4,
    "start_time": "2022-01-09T07:58:00.566Z"
   },
   {
    "duration": 258,
    "start_time": "2022-01-09T07:58:13.069Z"
   },
   {
    "duration": 253,
    "start_time": "2022-01-09T07:58:45.665Z"
   },
   {
    "duration": 268,
    "start_time": "2022-01-09T08:00:03.229Z"
   },
   {
    "duration": 253,
    "start_time": "2022-01-09T08:03:49.760Z"
   },
   {
    "duration": 82,
    "start_time": "2022-01-09T08:03:58.654Z"
   },
   {
    "duration": 40,
    "start_time": "2022-01-09T08:04:07.117Z"
   },
   {
    "duration": 4,
    "start_time": "2022-01-09T08:04:10.086Z"
   },
   {
    "duration": 293,
    "start_time": "2022-01-09T08:04:11.457Z"
   },
   {
    "duration": 100,
    "start_time": "2022-01-09T08:04:41.448Z"
   },
   {
    "duration": 7073,
    "start_time": "2022-01-09T08:05:32.499Z"
   },
   {
    "duration": 5,
    "start_time": "2022-01-09T08:06:00.942Z"
   },
   {
    "duration": 19,
    "start_time": "2022-01-09T08:06:00.949Z"
   },
   {
    "duration": 790,
    "start_time": "2022-01-09T08:06:00.970Z"
   },
   {
    "duration": 22,
    "start_time": "2022-01-09T08:06:01.762Z"
   },
   {
    "duration": 3,
    "start_time": "2022-01-09T08:06:01.786Z"
   },
   {
    "duration": 141,
    "start_time": "2022-01-09T08:06:01.791Z"
   },
   {
    "duration": 5,
    "start_time": "2022-01-09T08:06:01.933Z"
   },
   {
    "duration": 92,
    "start_time": "2022-01-09T08:06:01.940Z"
   },
   {
    "duration": 143,
    "start_time": "2022-01-09T08:06:02.034Z"
   },
   {
    "duration": 255,
    "start_time": "2022-01-09T08:06:02.179Z"
   },
   {
    "duration": 44,
    "start_time": "2022-01-09T08:06:02.436Z"
   },
   {
    "duration": 4,
    "start_time": "2022-01-09T08:06:02.482Z"
   },
   {
    "duration": 6055,
    "start_time": "2022-01-09T08:06:02.488Z"
   },
   {
    "duration": -2747,
    "start_time": "2022-01-09T08:06:11.292Z"
   },
   {
    "duration": 46,
    "start_time": "2022-01-09T08:07:38.808Z"
   },
   {
    "duration": 4,
    "start_time": "2022-01-09T08:07:40.033Z"
   },
   {
    "duration": 5777,
    "start_time": "2022-01-09T08:07:40.948Z"
   },
   {
    "duration": 5946,
    "start_time": "2022-01-09T08:19:45.175Z"
   },
   {
    "duration": 104,
    "start_time": "2022-01-09T08:20:42.188Z"
   },
   {
    "duration": 7412,
    "start_time": "2022-01-09T08:21:01.779Z"
   },
   {
    "duration": 194,
    "start_time": "2022-01-09T08:21:53.078Z"
   },
   {
    "duration": 6738,
    "start_time": "2022-01-09T08:21:56.630Z"
   },
   {
    "duration": 23,
    "start_time": "2022-01-09T08:31:03.190Z"
   },
   {
    "duration": 4,
    "start_time": "2022-01-09T08:31:05.844Z"
   },
   {
    "duration": 181,
    "start_time": "2022-01-09T08:31:15.604Z"
   },
   {
    "duration": 249,
    "start_time": "2022-01-09T08:31:18.364Z"
   },
   {
    "duration": 5907,
    "start_time": "2022-01-09T08:31:40.169Z"
   },
   {
    "duration": 230,
    "start_time": "2022-01-09T08:34:34.981Z"
   },
   {
    "duration": 6272,
    "start_time": "2022-01-09T08:35:10.966Z"
   },
   {
    "duration": 5928,
    "start_time": "2022-01-09T08:35:57.590Z"
   },
   {
    "duration": 4,
    "start_time": "2022-01-09T09:21:59.833Z"
   },
   {
    "duration": 5,
    "start_time": "2022-01-09T09:23:25.345Z"
   },
   {
    "duration": 462,
    "start_time": "2022-01-09T09:23:49.479Z"
   },
   {
    "duration": 352,
    "start_time": "2022-01-09T09:24:43.120Z"
   },
   {
    "duration": 257,
    "start_time": "2022-01-09T09:30:13.732Z"
   },
   {
    "duration": 87,
    "start_time": "2022-01-09T09:30:47.379Z"
   },
   {
    "duration": 549,
    "start_time": "2022-01-09T09:31:09.179Z"
   },
   {
    "duration": 4,
    "start_time": "2022-01-09T11:17:24.798Z"
   },
   {
    "duration": 4,
    "start_time": "2022-01-09T11:19:12.341Z"
   },
   {
    "duration": 248,
    "start_time": "2022-01-09T11:29:56.871Z"
   },
   {
    "duration": 4,
    "start_time": "2022-01-09T11:32:03.172Z"
   },
   {
    "duration": 4,
    "start_time": "2022-01-09T11:32:03.178Z"
   },
   {
    "duration": 763,
    "start_time": "2022-01-09T11:32:03.184Z"
   },
   {
    "duration": 28,
    "start_time": "2022-01-09T11:32:03.949Z"
   },
   {
    "duration": 4,
    "start_time": "2022-01-09T11:32:03.978Z"
   },
   {
    "duration": 142,
    "start_time": "2022-01-09T11:32:03.984Z"
   },
   {
    "duration": 5,
    "start_time": "2022-01-09T11:32:04.127Z"
   },
   {
    "duration": 134,
    "start_time": "2022-01-09T11:32:04.134Z"
   },
   {
    "duration": 243,
    "start_time": "2022-01-09T11:32:04.271Z"
   },
   {
    "duration": 33,
    "start_time": "2022-01-09T11:32:04.483Z"
   },
   {
    "duration": 29,
    "start_time": "2022-01-09T11:32:20.468Z"
   },
   {
    "duration": 4,
    "start_time": "2022-01-09T11:32:38.131Z"
   },
   {
    "duration": 995,
    "start_time": "2022-01-09T11:38:45.907Z"
   },
   {
    "duration": 1841,
    "start_time": "2022-01-09T11:41:58.512Z"
   },
   {
    "duration": 475,
    "start_time": "2022-01-09T12:05:50.314Z"
   },
   {
    "duration": 4,
    "start_time": "2022-01-09T12:06:05.822Z"
   },
   {
    "duration": 4879,
    "start_time": "2022-01-09T12:09:38.544Z"
   },
   {
    "duration": 5168,
    "start_time": "2022-01-09T12:10:43.881Z"
   },
   {
    "duration": 166,
    "start_time": "2022-01-09T12:13:23.028Z"
   },
   {
    "duration": 688,
    "start_time": "2022-01-09T12:13:33.868Z"
   },
   {
    "duration": 172,
    "start_time": "2022-01-09T12:14:11.892Z"
   },
   {
    "duration": 607,
    "start_time": "2022-01-09T12:14:27.320Z"
   },
   {
    "duration": 305,
    "start_time": "2022-01-09T12:45:30.126Z"
   },
   {
    "duration": 1268,
    "start_time": "2022-01-09T12:45:39.339Z"
   },
   {
    "duration": 294,
    "start_time": "2022-01-09T12:45:46.435Z"
   },
   {
    "duration": 5,
    "start_time": "2022-01-09T12:45:51.612Z"
   },
   {
    "duration": 24,
    "start_time": "2022-01-09T12:45:51.619Z"
   },
   {
    "duration": 885,
    "start_time": "2022-01-09T12:45:51.645Z"
   },
   {
    "duration": 33,
    "start_time": "2022-01-09T12:45:52.532Z"
   },
   {
    "duration": 6,
    "start_time": "2022-01-09T12:45:52.567Z"
   },
   {
    "duration": 141,
    "start_time": "2022-01-09T12:45:52.575Z"
   },
   {
    "duration": 5,
    "start_time": "2022-01-09T12:45:52.718Z"
   },
   {
    "duration": 174,
    "start_time": "2022-01-09T12:45:52.725Z"
   },
   {
    "duration": 64,
    "start_time": "2022-01-09T12:45:52.901Z"
   },
   {
    "duration": 1055,
    "start_time": "2022-01-09T12:45:52.967Z"
   },
   {
    "duration": 1613,
    "start_time": "2022-01-09T12:45:54.023Z"
   },
   {
    "duration": 9284,
    "start_time": "2022-01-09T12:45:55.637Z"
   },
   {
    "duration": 349,
    "start_time": "2022-01-09T12:49:51.095Z"
   },
   {
    "duration": 3,
    "start_time": "2022-01-09T12:50:08.471Z"
   },
   {
    "duration": 251,
    "start_time": "2022-01-09T12:50:10.773Z"
   },
   {
    "duration": 84,
    "start_time": "2022-01-09T12:52:14.314Z"
   },
   {
    "duration": 259,
    "start_time": "2022-01-09T12:52:26.537Z"
   },
   {
    "duration": 3,
    "start_time": "2022-01-09T12:52:30.015Z"
   },
   {
    "duration": 292,
    "start_time": "2022-01-09T12:52:30.918Z"
   },
   {
    "duration": 6442,
    "start_time": "2022-01-09T12:52:49.271Z"
   },
   {
    "duration": 265,
    "start_time": "2022-01-09T12:53:41.537Z"
   },
   {
    "duration": 3,
    "start_time": "2022-01-09T12:53:44.655Z"
   },
   {
    "duration": 6694,
    "start_time": "2022-01-09T12:53:45.288Z"
   },
   {
    "duration": 5,
    "start_time": "2022-01-09T12:55:07.681Z"
   },
   {
    "duration": 4,
    "start_time": "2022-01-09T12:55:07.690Z"
   },
   {
    "duration": 1158,
    "start_time": "2022-01-09T12:55:07.696Z"
   },
   {
    "duration": 22,
    "start_time": "2022-01-09T12:55:08.856Z"
   },
   {
    "duration": 3,
    "start_time": "2022-01-09T12:55:08.880Z"
   },
   {
    "duration": 139,
    "start_time": "2022-01-09T12:55:08.885Z"
   },
   {
    "duration": 4,
    "start_time": "2022-01-09T12:55:09.026Z"
   },
   {
    "duration": 123,
    "start_time": "2022-01-09T12:55:09.032Z"
   },
   {
    "duration": 35,
    "start_time": "2022-01-09T12:55:09.157Z"
   },
   {
    "duration": 1016,
    "start_time": "2022-01-09T12:55:09.194Z"
   },
   {
    "duration": 1598,
    "start_time": "2022-01-09T12:55:10.212Z"
   },
   {
    "duration": 3,
    "start_time": "2022-01-09T12:55:11.812Z"
   },
   {
    "duration": 6274,
    "start_time": "2022-01-09T12:55:11.817Z"
   },
   {
    "duration": 4,
    "start_time": "2022-01-09T12:55:39.669Z"
   },
   {
    "duration": 5,
    "start_time": "2022-01-09T12:55:39.676Z"
   },
   {
    "duration": 772,
    "start_time": "2022-01-09T12:55:39.684Z"
   },
   {
    "duration": 23,
    "start_time": "2022-01-09T12:55:40.460Z"
   },
   {
    "duration": 4,
    "start_time": "2022-01-09T12:55:40.485Z"
   },
   {
    "duration": 136,
    "start_time": "2022-01-09T12:55:40.490Z"
   },
   {
    "duration": 5,
    "start_time": "2022-01-09T12:55:40.628Z"
   },
   {
    "duration": 119,
    "start_time": "2022-01-09T12:55:40.634Z"
   },
   {
    "duration": 36,
    "start_time": "2022-01-09T12:55:40.756Z"
   },
   {
    "duration": 1578,
    "start_time": "2022-01-09T12:55:40.794Z"
   },
   {
    "duration": 3,
    "start_time": "2022-01-09T12:55:42.375Z"
   },
   {
    "duration": 5905,
    "start_time": "2022-01-09T12:55:42.380Z"
   },
   {
    "duration": 32,
    "start_time": "2022-01-09T13:03:05.365Z"
   },
   {
    "duration": 4,
    "start_time": "2022-01-09T13:04:22.400Z"
   },
   {
    "duration": 6,
    "start_time": "2022-01-09T13:04:22.406Z"
   },
   {
    "duration": 1113,
    "start_time": "2022-01-09T13:04:22.414Z"
   },
   {
    "duration": 30,
    "start_time": "2022-01-09T13:04:23.530Z"
   },
   {
    "duration": 3,
    "start_time": "2022-01-09T13:04:23.562Z"
   },
   {
    "duration": 133,
    "start_time": "2022-01-09T13:04:23.567Z"
   },
   {
    "duration": 5,
    "start_time": "2022-01-09T13:04:23.701Z"
   },
   {
    "duration": 91,
    "start_time": "2022-01-09T13:04:23.707Z"
   },
   {
    "duration": 36,
    "start_time": "2022-01-09T13:04:23.800Z"
   },
   {
    "duration": 1603,
    "start_time": "2022-01-09T13:04:23.838Z"
   },
   {
    "duration": 3,
    "start_time": "2022-01-09T13:04:25.443Z"
   },
   {
    "duration": 9863,
    "start_time": "2022-01-09T13:04:25.460Z"
   },
   {
    "duration": 31,
    "start_time": "2022-01-09T13:04:35.295Z"
   },
   {
    "duration": 20,
    "start_time": "2022-01-09T13:04:40.153Z"
   },
   {
    "duration": 1778,
    "start_time": "2022-01-09T13:06:11.898Z"
   },
   {
    "duration": 3,
    "start_time": "2022-01-09T13:06:19.029Z"
   },
   {
    "duration": 5586,
    "start_time": "2022-01-09T13:06:24.477Z"
   },
   {
    "duration": 19,
    "start_time": "2022-01-09T13:06:37.428Z"
   },
   {
    "duration": 51,
    "start_time": "2022-01-09T13:07:33.885Z"
   },
   {
    "duration": 1506,
    "start_time": "2022-01-09T13:07:42.508Z"
   },
   {
    "duration": 4,
    "start_time": "2022-01-09T13:07:47.737Z"
   },
   {
    "duration": 6029,
    "start_time": "2022-01-09T13:07:54.575Z"
   },
   {
    "duration": 82,
    "start_time": "2022-01-09T13:08:07.988Z"
   },
   {
    "duration": 339,
    "start_time": "2022-01-09T13:36:40.526Z"
   },
   {
    "duration": 3,
    "start_time": "2022-01-09T13:36:44.353Z"
   },
   {
    "duration": 6619,
    "start_time": "2022-01-09T13:36:46.643Z"
   },
   {
    "duration": 212,
    "start_time": "2022-01-09T13:37:36.694Z"
   },
   {
    "duration": 3,
    "start_time": "2022-01-09T13:37:40.455Z"
   },
   {
    "duration": 5771,
    "start_time": "2022-01-09T13:37:43.290Z"
   },
   {
    "duration": 154,
    "start_time": "2022-01-09T13:39:15.757Z"
   },
   {
    "duration": 167,
    "start_time": "2022-01-09T13:46:42.023Z"
   },
   {
    "duration": 53,
    "start_time": "2022-01-09T13:47:11.956Z"
   },
   {
    "duration": 3,
    "start_time": "2022-01-09T14:03:00.732Z"
   },
   {
    "duration": 8285,
    "start_time": "2022-01-09T14:07:58.054Z"
   },
   {
    "duration": 12125,
    "start_time": "2022-01-09T14:19:00.836Z"
   },
   {
    "duration": 12106,
    "start_time": "2022-01-09T14:19:40.323Z"
   },
   {
    "duration": 12453,
    "start_time": "2022-01-09T14:20:25.633Z"
   },
   {
    "duration": 123,
    "start_time": "2022-01-09T14:20:40.012Z"
   },
   {
    "duration": 2,
    "start_time": "2022-01-09T14:21:08.081Z"
   },
   {
    "duration": 125,
    "start_time": "2022-01-09T14:21:09.746Z"
   },
   {
    "duration": 4,
    "start_time": "2022-01-09T14:21:52.044Z"
   },
   {
    "duration": 20,
    "start_time": "2022-01-09T14:21:52.050Z"
   },
   {
    "duration": 791,
    "start_time": "2022-01-09T14:21:52.072Z"
   },
   {
    "duration": 22,
    "start_time": "2022-01-09T14:21:52.865Z"
   },
   {
    "duration": 21,
    "start_time": "2022-01-09T14:21:52.889Z"
   },
   {
    "duration": 145,
    "start_time": "2022-01-09T14:21:52.911Z"
   },
   {
    "duration": 15,
    "start_time": "2022-01-09T14:21:53.058Z"
   },
   {
    "duration": 95,
    "start_time": "2022-01-09T14:21:53.075Z"
   },
   {
    "duration": 2,
    "start_time": "2022-01-09T14:21:53.172Z"
   },
   {
    "duration": 147,
    "start_time": "2022-01-09T14:21:53.175Z"
   },
   {
    "duration": 32,
    "start_time": "2022-01-09T14:21:53.324Z"
   },
   {
    "duration": 168,
    "start_time": "2022-01-09T14:21:53.358Z"
   },
   {
    "duration": 2,
    "start_time": "2022-01-09T14:21:53.528Z"
   },
   {
    "duration": 5797,
    "start_time": "2022-01-09T14:21:53.532Z"
   },
   {
    "duration": 66,
    "start_time": "2022-01-09T14:21:59.264Z"
   },
   {
    "duration": 11764,
    "start_time": "2022-01-09T14:22:29.324Z"
   },
   {
    "duration": 127,
    "start_time": "2022-01-09T14:22:41.090Z"
   },
   {
    "duration": 33,
    "start_time": "2022-01-09T14:23:24.671Z"
   },
   {
    "duration": 118,
    "start_time": "2022-01-09T14:23:26.083Z"
   },
   {
    "duration": 21,
    "start_time": "2022-01-09T14:23:37.067Z"
   },
   {
    "duration": 114,
    "start_time": "2022-01-09T14:23:39.962Z"
   },
   {
    "duration": 264,
    "start_time": "2022-01-09T14:24:01.928Z"
   },
   {
    "duration": 276,
    "start_time": "2022-01-09T14:24:23.250Z"
   },
   {
    "duration": 13,
    "start_time": "2022-01-09T14:24:39.592Z"
   },
   {
    "duration": 99,
    "start_time": "2022-01-09T14:24:49.175Z"
   },
   {
    "duration": 15,
    "start_time": "2022-01-09T14:24:52.333Z"
   },
   {
    "duration": 360,
    "start_time": "2022-01-09T14:24:59.290Z"
   },
   {
    "duration": 8,
    "start_time": "2022-01-09T16:07:50.547Z"
   },
   {
    "duration": 376,
    "start_time": "2022-01-09T16:07:54.561Z"
   },
   {
    "duration": 4,
    "start_time": "2022-01-09T16:08:07.629Z"
   },
   {
    "duration": 5,
    "start_time": "2022-01-09T16:08:07.635Z"
   },
   {
    "duration": 704,
    "start_time": "2022-01-09T16:08:07.641Z"
   },
   {
    "duration": 24,
    "start_time": "2022-01-09T16:08:08.347Z"
   },
   {
    "duration": 4,
    "start_time": "2022-01-09T16:08:08.372Z"
   },
   {
    "duration": 138,
    "start_time": "2022-01-09T16:08:08.377Z"
   },
   {
    "duration": 5,
    "start_time": "2022-01-09T16:08:08.518Z"
   },
   {
    "duration": 89,
    "start_time": "2022-01-09T16:08:08.526Z"
   },
   {
    "duration": 12404,
    "start_time": "2022-01-09T16:08:08.617Z"
   },
   {
    "duration": 17,
    "start_time": "2022-01-09T16:08:21.023Z"
   },
   {
    "duration": 141,
    "start_time": "2022-01-09T16:08:21.042Z"
   },
   {
    "duration": 32,
    "start_time": "2022-01-09T16:08:21.185Z"
   },
   {
    "duration": 174,
    "start_time": "2022-01-09T16:08:21.219Z"
   },
   {
    "duration": 4,
    "start_time": "2022-01-09T16:08:21.396Z"
   },
   {
    "duration": 5639,
    "start_time": "2022-01-09T16:08:21.402Z"
   },
   {
    "duration": 127,
    "start_time": "2022-01-09T16:08:26.916Z"
   },
   {
    "duration": 23,
    "start_time": "2022-01-09T16:08:59.216Z"
   },
   {
    "duration": 113,
    "start_time": "2022-01-09T16:09:00.717Z"
   },
   {
    "duration": 13,
    "start_time": "2022-01-09T16:09:13.996Z"
   },
   {
    "duration": 115,
    "start_time": "2022-01-09T16:09:15.004Z"
   },
   {
    "duration": 4,
    "start_time": "2022-01-09T16:10:26.570Z"
   },
   {
    "duration": 21,
    "start_time": "2022-01-09T16:10:26.584Z"
   },
   {
    "duration": 761,
    "start_time": "2022-01-09T16:10:26.608Z"
   },
   {
    "duration": 24,
    "start_time": "2022-01-09T16:10:27.371Z"
   },
   {
    "duration": 5,
    "start_time": "2022-01-09T16:10:27.397Z"
   },
   {
    "duration": 145,
    "start_time": "2022-01-09T16:10:27.404Z"
   },
   {
    "duration": 11,
    "start_time": "2022-01-09T16:10:27.551Z"
   },
   {
    "duration": 85,
    "start_time": "2022-01-09T16:10:27.564Z"
   },
   {
    "duration": 12744,
    "start_time": "2022-01-09T16:10:27.651Z"
   },
   {
    "duration": 154,
    "start_time": "2022-01-09T16:10:40.399Z"
   },
   {
    "duration": 38,
    "start_time": "2022-01-09T16:10:40.555Z"
   },
   {
    "duration": 182,
    "start_time": "2022-01-09T16:10:40.596Z"
   },
   {
    "duration": 3,
    "start_time": "2022-01-09T16:10:40.779Z"
   },
   {
    "duration": 6422,
    "start_time": "2022-01-09T16:10:40.784Z"
   },
   {
    "duration": 146,
    "start_time": "2022-01-09T16:10:47.062Z"
   },
   {
    "duration": 24747,
    "start_time": "2022-01-09T16:11:44.139Z"
   },
   {
    "duration": 61236,
    "start_time": "2022-01-09T16:14:20.359Z"
   },
   {
    "duration": 117,
    "start_time": "2022-01-09T16:15:39.774Z"
   },
   {
    "duration": 257,
    "start_time": "2022-01-09T16:15:55.456Z"
   },
   {
    "duration": 117,
    "start_time": "2022-01-09T16:16:09.260Z"
   },
   {
    "duration": 4,
    "start_time": "2022-01-09T16:16:14.571Z"
   },
   {
    "duration": 4,
    "start_time": "2022-01-09T16:16:14.577Z"
   },
   {
    "duration": 695,
    "start_time": "2022-01-09T16:16:14.583Z"
   },
   {
    "duration": 24,
    "start_time": "2022-01-09T16:16:15.280Z"
   },
   {
    "duration": 4,
    "start_time": "2022-01-09T16:16:15.306Z"
   },
   {
    "duration": 156,
    "start_time": "2022-01-09T16:16:15.312Z"
   },
   {
    "duration": 5,
    "start_time": "2022-01-09T16:16:15.470Z"
   },
   {
    "duration": 106,
    "start_time": "2022-01-09T16:16:15.477Z"
   },
   {
    "duration": 131,
    "start_time": "2022-01-09T16:16:15.585Z"
   },
   {
    "duration": 61583,
    "start_time": "2022-01-09T16:16:15.718Z"
   },
   {
    "duration": 127,
    "start_time": "2022-01-09T16:17:17.303Z"
   },
   {
    "duration": 269,
    "start_time": "2022-01-09T16:17:17.432Z"
   },
   {
    "duration": 30,
    "start_time": "2022-01-09T16:17:17.703Z"
   },
   {
    "duration": 166,
    "start_time": "2022-01-09T16:17:17.735Z"
   },
   {
    "duration": 3,
    "start_time": "2022-01-09T16:17:17.903Z"
   },
   {
    "duration": 261,
    "start_time": "2022-01-09T16:17:17.907Z"
   },
   {
    "duration": 172,
    "start_time": "2022-01-09T16:17:17.997Z"
   },
   {
    "duration": 5,
    "start_time": "2022-01-09T16:26:12.620Z"
   },
   {
    "duration": 83,
    "start_time": "2022-01-09T16:26:21.420Z"
   },
   {
    "duration": 566,
    "start_time": "2022-01-09T16:26:28.506Z"
   },
   {
    "duration": 287,
    "start_time": "2022-01-09T16:26:39.151Z"
   },
   {
    "duration": 117,
    "start_time": "2022-01-09T16:27:59.064Z"
   },
   {
    "duration": 291,
    "start_time": "2022-01-10T09:32:06.190Z"
   },
   {
    "duration": 9,
    "start_time": "2022-01-10T09:32:13.741Z"
   },
   {
    "duration": 1325,
    "start_time": "2022-01-10T09:32:13.751Z"
   },
   {
    "duration": 835,
    "start_time": "2022-01-10T09:32:15.078Z"
   },
   {
    "duration": 27,
    "start_time": "2022-01-10T09:32:15.915Z"
   },
   {
    "duration": 4,
    "start_time": "2022-01-10T09:32:15.943Z"
   },
   {
    "duration": 126,
    "start_time": "2022-01-10T09:32:15.949Z"
   },
   {
    "duration": 4,
    "start_time": "2022-01-10T09:32:16.077Z"
   },
   {
    "duration": 140,
    "start_time": "2022-01-10T09:32:16.084Z"
   },
   {
    "duration": 125,
    "start_time": "2022-01-10T09:32:16.226Z"
   },
   {
    "duration": 58138,
    "start_time": "2022-01-10T09:32:16.352Z"
   },
   {
    "duration": 112,
    "start_time": "2022-01-10T09:33:14.492Z"
   },
   {
    "duration": 268,
    "start_time": "2022-01-10T09:33:14.606Z"
   },
   {
    "duration": 327,
    "start_time": "2022-01-10T09:33:14.875Z"
   },
   {
    "duration": 349,
    "start_time": "2022-01-10T09:33:35.369Z"
   },
   {
    "duration": 260,
    "start_time": "2022-01-10T09:34:32.018Z"
   },
   {
    "duration": 60,
    "start_time": "2022-01-10T09:34:41.812Z"
   },
   {
    "duration": 2,
    "start_time": "2022-01-10T09:38:36.179Z"
   },
   {
    "duration": 771,
    "start_time": "2022-01-10T09:42:20.454Z"
   },
   {
    "duration": 165,
    "start_time": "2022-01-10T09:42:50.952Z"
   },
   {
    "duration": 3,
    "start_time": "2022-01-10T09:46:07.163Z"
   },
   {
    "duration": 295624,
    "start_time": "2022-01-10T09:48:08.902Z"
   },
   {
    "duration": 289516,
    "start_time": "2022-01-10T09:54:40.032Z"
   },
   {
    "duration": 86,
    "start_time": "2022-01-10T10:03:13.181Z"
   },
   {
    "duration": 268,
    "start_time": "2022-01-10T10:03:20.061Z"
   },
   {
    "duration": 51,
    "start_time": "2022-01-10T10:04:02.998Z"
   },
   {
    "duration": 3,
    "start_time": "2022-01-10T10:04:05.139Z"
   },
   {
    "duration": 157,
    "start_time": "2022-01-10T10:04:06.057Z"
   },
   {
    "duration": 3,
    "start_time": "2022-01-10T10:04:09.692Z"
   },
   {
    "duration": 308,
    "start_time": "2022-01-10T10:04:10.557Z"
   },
   {
    "duration": 11,
    "start_time": "2022-01-10T10:04:31.202Z"
   },
   {
    "duration": 286,
    "start_time": "2022-01-10T10:04:36.353Z"
   },
   {
    "duration": 3,
    "start_time": "2022-01-10T10:05:02.275Z"
   },
   {
    "duration": 262,
    "start_time": "2022-01-10T10:05:03.750Z"
   },
   {
    "duration": 268,
    "start_time": "2022-01-10T10:05:19.903Z"
   },
   {
    "duration": 4,
    "start_time": "2022-01-10T10:05:23.326Z"
   },
   {
    "duration": 13,
    "start_time": "2022-01-10T10:05:23.332Z"
   },
   {
    "duration": 779,
    "start_time": "2022-01-10T10:05:23.347Z"
   },
   {
    "duration": 35,
    "start_time": "2022-01-10T10:05:24.127Z"
   },
   {
    "duration": 4,
    "start_time": "2022-01-10T10:05:24.163Z"
   },
   {
    "duration": 130,
    "start_time": "2022-01-10T10:05:24.169Z"
   },
   {
    "duration": 5,
    "start_time": "2022-01-10T10:05:24.301Z"
   },
   {
    "duration": 114,
    "start_time": "2022-01-10T10:05:24.308Z"
   },
   {
    "duration": 124,
    "start_time": "2022-01-10T10:05:24.424Z"
   },
   {
    "duration": 60163,
    "start_time": "2022-01-10T10:05:24.550Z"
   },
   {
    "duration": 127,
    "start_time": "2022-01-10T10:06:24.715Z"
   },
   {
    "duration": 264,
    "start_time": "2022-01-10T10:06:24.843Z"
   },
   {
    "duration": 46,
    "start_time": "2022-01-10T10:06:25.108Z"
   },
   {
    "duration": 2,
    "start_time": "2022-01-10T10:06:25.156Z"
   },
   {
    "duration": 172,
    "start_time": "2022-01-10T10:06:25.159Z"
   },
   {
    "duration": 2,
    "start_time": "2022-01-10T10:06:25.333Z"
   },
   {
    "duration": 454128,
    "start_time": "2022-01-10T10:06:25.336Z"
   },
   {
    "duration": 323,
    "start_time": "2022-01-10T14:04:16.622Z"
   },
   {
    "duration": 11,
    "start_time": "2022-01-10T14:04:22.427Z"
   },
   {
    "duration": 1298,
    "start_time": "2022-01-10T14:04:22.439Z"
   },
   {
    "duration": 801,
    "start_time": "2022-01-10T14:04:23.739Z"
   },
   {
    "duration": 35,
    "start_time": "2022-01-10T14:04:24.543Z"
   },
   {
    "duration": 4,
    "start_time": "2022-01-10T14:04:24.580Z"
   },
   {
    "duration": 140,
    "start_time": "2022-01-10T14:04:24.586Z"
   },
   {
    "duration": 5,
    "start_time": "2022-01-10T14:04:24.728Z"
   },
   {
    "duration": 177,
    "start_time": "2022-01-10T14:04:24.736Z"
   },
   {
    "duration": 137,
    "start_time": "2022-01-10T14:04:24.915Z"
   },
   {
    "duration": 62995,
    "start_time": "2022-01-10T14:04:25.054Z"
   },
   {
    "duration": 124,
    "start_time": "2022-01-10T14:05:28.050Z"
   },
   {
    "duration": 288,
    "start_time": "2022-01-10T14:05:28.176Z"
   },
   {
    "duration": 63,
    "start_time": "2022-01-10T14:05:28.466Z"
   },
   {
    "duration": 3,
    "start_time": "2022-01-10T14:05:28.530Z"
   },
   {
    "duration": 193,
    "start_time": "2022-01-10T14:05:28.535Z"
   },
   {
    "duration": 3,
    "start_time": "2022-01-10T14:05:28.729Z"
   },
   {
    "duration": 345,
    "start_time": "2022-01-10T14:05:28.734Z"
   },
   {
    "duration": 3,
    "start_time": "2022-01-10T14:06:01.075Z"
   },
   {
    "duration": 284,
    "start_time": "2022-01-10T14:06:03.849Z"
   },
   {
    "duration": 283,
    "start_time": "2022-01-10T14:06:39.462Z"
   },
   {
    "duration": 568808,
    "start_time": "2022-01-10T14:11:24.997Z"
   },
   {
    "duration": 2,
    "start_time": "2022-01-10T14:21:52.953Z"
   },
   {
    "duration": 82449,
    "start_time": "2022-01-10T14:21:53.723Z"
   },
   {
    "duration": 480,
    "start_time": "2022-01-10T14:27:45.788Z"
   },
   {
    "duration": 272,
    "start_time": "2022-01-10T14:27:51.632Z"
   },
   {
    "duration": 387,
    "start_time": "2022-01-10T14:29:37.902Z"
   },
   {
    "duration": 593,
    "start_time": "2022-01-10T14:29:41.021Z"
   },
   {
    "duration": 82536,
    "start_time": "2022-01-10T14:30:30.617Z"
   },
   {
    "duration": 86204,
    "start_time": "2022-01-10T14:32:25.003Z"
   },
   {
    "duration": 82436,
    "start_time": "2022-01-10T14:34:41.219Z"
   },
   {
    "duration": 315,
    "start_time": "2022-01-10T14:36:36.171Z"
   },
   {
    "duration": 591,
    "start_time": "2022-01-10T14:37:11.316Z"
   },
   {
    "duration": 357,
    "start_time": "2022-01-10T14:44:56.109Z"
   },
   {
    "duration": 264,
    "start_time": "2022-01-10T14:45:06.713Z"
   },
   {
    "duration": 246,
    "start_time": "2022-01-10T14:45:13.783Z"
   },
   {
    "duration": 254,
    "start_time": "2022-01-10T14:45:19.271Z"
   },
   {
    "duration": 3,
    "start_time": "2022-01-10T14:45:45.699Z"
   },
   {
    "duration": 89501,
    "start_time": "2022-01-10T14:45:48.284Z"
   },
   {
    "duration": 5,
    "start_time": "2022-01-10T15:11:32.899Z"
   },
   {
    "duration": 3,
    "start_time": "2022-01-10T15:18:02.945Z"
   },
   {
    "duration": 39252,
    "start_time": "2022-01-10T15:18:05.165Z"
   },
   {
    "duration": 3,
    "start_time": "2022-01-10T15:18:53.348Z"
   },
   {
    "duration": 1694886,
    "start_time": "2022-01-10T15:18:55.063Z"
   },
   {
    "duration": 4,
    "start_time": "2022-01-10T16:16:47.000Z"
   },
   {
    "duration": 84,
    "start_time": "2022-01-10T16:22:32.747Z"
   },
   {
    "duration": 285,
    "start_time": "2022-01-10T16:22:43.929Z"
   },
   {
    "duration": 3523,
    "start_time": "2022-01-10T16:22:58.642Z"
   },
   {
    "duration": 2812,
    "start_time": "2022-01-10T16:23:24.290Z"
   },
   {
    "duration": 201920,
    "start_time": "2022-01-10T16:23:55.788Z"
   },
   {
    "duration": 202188,
    "start_time": "2022-01-10T16:27:33.784Z"
   },
   {
    "duration": 49,
    "start_time": "2022-01-10T16:31:40.377Z"
   },
   {
    "duration": 5,
    "start_time": "2022-01-10T16:33:35.510Z"
   },
   {
    "duration": 16,
    "start_time": "2022-01-10T16:35:46.018Z"
   },
   {
    "duration": 11,
    "start_time": "2022-01-10T16:36:29.196Z"
   },
   {
    "duration": 351,
    "start_time": "2022-01-10T16:36:32.667Z"
   },
   {
    "duration": 21,
    "start_time": "2022-01-10T16:45:37.107Z"
   },
   {
    "duration": 37,
    "start_time": "2022-01-10T16:47:57.335Z"
   },
   {
    "duration": 26,
    "start_time": "2022-01-10T16:52:10.752Z"
   },
   {
    "duration": 44,
    "start_time": "2022-01-10T16:54:07.872Z"
   },
   {
    "duration": 7728,
    "start_time": "2022-01-10T16:55:51.277Z"
   },
   {
    "duration": 3,
    "start_time": "2022-01-10T16:57:15.621Z"
   },
   {
    "duration": 7897,
    "start_time": "2022-01-10T16:57:27.148Z"
   },
   {
    "duration": 54462,
    "start_time": "2022-01-10T16:58:38.980Z"
   },
   {
    "duration": 36716,
    "start_time": "2022-01-10T16:59:59.347Z"
   },
   {
    "duration": 1170,
    "start_time": "2022-01-11T07:12:38.808Z"
   },
   {
    "duration": 4,
    "start_time": "2022-01-11T09:00:09.841Z"
   },
   {
    "duration": 338,
    "start_time": "2022-01-11T09:00:12.949Z"
   },
   {
    "duration": 8,
    "start_time": "2022-01-11T09:00:53.417Z"
   },
   {
    "duration": 188,
    "start_time": "2022-01-11T09:00:53.427Z"
   },
   {
    "duration": 876,
    "start_time": "2022-01-11T09:00:53.617Z"
   },
   {
    "duration": 24,
    "start_time": "2022-01-11T09:00:54.496Z"
   },
   {
    "duration": 4,
    "start_time": "2022-01-11T09:00:54.522Z"
   },
   {
    "duration": 147,
    "start_time": "2022-01-11T09:00:54.528Z"
   },
   {
    "duration": 5,
    "start_time": "2022-01-11T09:00:54.677Z"
   },
   {
    "duration": 147,
    "start_time": "2022-01-11T09:00:54.685Z"
   },
   {
    "duration": 136,
    "start_time": "2022-01-11T09:00:54.834Z"
   },
   {
    "duration": 64070,
    "start_time": "2022-01-11T09:00:54.973Z"
   },
   {
    "duration": 127,
    "start_time": "2022-01-11T09:01:59.044Z"
   },
   {
    "duration": 303,
    "start_time": "2022-01-11T09:01:59.173Z"
   },
   {
    "duration": 65,
    "start_time": "2022-01-11T09:01:59.478Z"
   },
   {
    "duration": 16,
    "start_time": "2022-01-11T09:01:59.545Z"
   },
   {
    "duration": 209,
    "start_time": "2022-01-11T09:01:59.563Z"
   },
   {
    "duration": 3,
    "start_time": "2022-01-11T09:01:59.774Z"
   },
   {
    "duration": 38,
    "start_time": "2022-01-11T09:01:59.779Z"
   },
   {
    "duration": 32,
    "start_time": "2022-01-11T09:01:59.819Z"
   },
   {
    "duration": 32,
    "start_time": "2022-01-11T09:01:59.853Z"
   },
   {
    "duration": 99,
    "start_time": "2022-01-11T09:01:59.887Z"
   },
   {
    "duration": 3,
    "start_time": "2022-01-11T09:01:59.986Z"
   },
   {
    "duration": 1,
    "start_time": "2022-01-11T09:01:59.988Z"
   },
   {
    "duration": -2,
    "start_time": "2022-01-11T09:01:59.992Z"
   },
   {
    "duration": 3,
    "start_time": "2022-01-11T09:16:32.909Z"
   },
   {
    "duration": 398,
    "start_time": "2022-01-11T09:16:34.428Z"
   },
   {
    "duration": 175,
    "start_time": "2022-01-11T09:37:09.406Z"
   },
   {
    "duration": 294,
    "start_time": "2022-01-11T09:38:15.888Z"
   },
   {
    "duration": 326,
    "start_time": "2022-01-11T09:49:19.618Z"
   },
   {
    "duration": 27,
    "start_time": "2022-01-11T09:49:30.259Z"
   },
   {
    "duration": 291,
    "start_time": "2022-01-11T09:51:21.911Z"
   },
   {
    "duration": 263,
    "start_time": "2022-01-11T09:51:26.826Z"
   },
   {
    "duration": 14135,
    "start_time": "2022-01-11T09:58:06.728Z"
   },
   {
    "duration": 14117,
    "start_time": "2022-01-11T10:05:40.151Z"
   },
   {
    "duration": 435,
    "start_time": "2022-01-11T10:12:42.288Z"
   },
   {
    "duration": 40149,
    "start_time": "2022-01-11T10:13:17.722Z"
   },
   {
    "duration": 2356,
    "start_time": "2022-01-11T10:13:57.873Z"
   },
   {
    "duration": 292,
    "start_time": "2022-01-11T10:14:00.231Z"
   },
   {
    "duration": 48,
    "start_time": "2022-01-11T10:14:00.477Z"
   },
   {
    "duration": 43239,
    "start_time": "2022-01-11T10:14:16.931Z"
   },
   {
    "duration": 4,
    "start_time": "2022-01-11T10:15:13.321Z"
   },
   {
    "duration": 3,
    "start_time": "2022-01-11T10:16:41.644Z"
   },
   {
    "duration": 879377,
    "start_time": "2022-01-11T10:16:42.446Z"
   },
   {
    "duration": 4,
    "start_time": "2022-01-11T10:31:21.824Z"
   },
   {
    "duration": 188748,
    "start_time": "2022-01-11T10:31:21.830Z"
   },
   {
    "duration": 4,
    "start_time": "2022-01-11T11:35:38.445Z"
   },
   {
    "duration": 323,
    "start_time": "2022-01-11T11:40:02.072Z"
   },
   {
    "duration": 140,
    "start_time": "2022-01-11T11:40:11.844Z"
   },
   {
    "duration": 434,
    "start_time": "2022-01-11T11:40:15.850Z"
   },
   {
    "duration": 315,
    "start_time": "2022-01-11T11:43:59.869Z"
   },
   {
    "duration": 16,
    "start_time": "2022-01-11T11:46:43.976Z"
   },
   {
    "duration": 950,
    "start_time": "2022-01-11T11:59:02.733Z"
   },
   {
    "duration": 988,
    "start_time": "2022-01-11T12:00:09.440Z"
   },
   {
    "duration": 1586,
    "start_time": "2022-01-11T12:00:41.265Z"
   },
   {
    "duration": 341,
    "start_time": "2022-01-11T12:02:20.442Z"
   },
   {
    "duration": 286,
    "start_time": "2022-01-11T12:02:27.959Z"
   },
   {
    "duration": 269,
    "start_time": "2022-01-11T12:36:20.383Z"
   },
   {
    "duration": 9,
    "start_time": "2022-01-11T12:36:23.771Z"
   },
   {
    "duration": 1237,
    "start_time": "2022-01-11T12:36:23.782Z"
   },
   {
    "duration": 948,
    "start_time": "2022-01-11T12:36:25.022Z"
   },
   {
    "duration": 27,
    "start_time": "2022-01-11T12:36:25.973Z"
   },
   {
    "duration": 6,
    "start_time": "2022-01-11T12:36:26.002Z"
   },
   {
    "duration": 251,
    "start_time": "2022-01-11T12:36:26.010Z"
   },
   {
    "duration": 6,
    "start_time": "2022-01-11T12:36:26.264Z"
   },
   {
    "duration": 147,
    "start_time": "2022-01-11T12:36:26.273Z"
   },
   {
    "duration": 128,
    "start_time": "2022-01-11T12:36:26.423Z"
   },
   {
    "duration": 65570,
    "start_time": "2022-01-11T12:36:26.552Z"
   },
   {
    "duration": 122,
    "start_time": "2022-01-11T12:37:32.124Z"
   },
   {
    "duration": 296,
    "start_time": "2022-01-11T12:37:32.248Z"
   },
   {
    "duration": 69,
    "start_time": "2022-01-11T12:37:32.546Z"
   },
   {
    "duration": 3,
    "start_time": "2022-01-11T12:37:32.617Z"
   },
   {
    "duration": 190,
    "start_time": "2022-01-11T12:37:32.621Z"
   },
   {
    "duration": 3,
    "start_time": "2022-01-11T12:37:32.813Z"
   },
   {
    "duration": 6,
    "start_time": "2022-01-11T12:37:32.817Z"
   },
   {
    "duration": 11,
    "start_time": "2022-01-11T12:37:32.825Z"
   },
   {
    "duration": 6,
    "start_time": "2022-01-11T12:37:32.838Z"
   },
   {
    "duration": 188532,
    "start_time": "2022-01-11T12:37:32.846Z"
   },
   {
    "duration": 14192,
    "start_time": "2022-01-11T12:40:41.380Z"
   },
   {
    "duration": 42096,
    "start_time": "2022-01-11T12:40:55.574Z"
   },
   {
    "duration": 4,
    "start_time": "2022-01-11T12:41:37.673Z"
   },
   {
    "duration": 1410,
    "start_time": "2022-01-11T12:41:37.679Z"
   },
   {
    "duration": 3774,
    "start_time": "2022-01-11T12:41:39.091Z"
   },
   {
    "duration": 370,
    "start_time": "2022-01-11T12:43:07.607Z"
   },
   {
    "duration": 255,
    "start_time": "2022-01-11T12:43:22.222Z"
   },
   {
    "duration": 258,
    "start_time": "2022-01-11T12:43:34.049Z"
   },
   {
    "duration": 118,
    "start_time": "2022-01-11T12:43:34.191Z"
   },
   {
    "duration": 14,
    "start_time": "2022-01-11T12:44:27.338Z"
   },
   {
    "duration": 1299,
    "start_time": "2022-01-11T12:44:27.354Z"
   },
   {
    "duration": 879,
    "start_time": "2022-01-11T12:44:28.655Z"
   },
   {
    "duration": 40,
    "start_time": "2022-01-11T12:44:29.537Z"
   },
   {
    "duration": 4,
    "start_time": "2022-01-11T12:44:29.579Z"
   },
   {
    "duration": 158,
    "start_time": "2022-01-11T12:44:29.585Z"
   },
   {
    "duration": 19,
    "start_time": "2022-01-11T12:44:29.745Z"
   },
   {
    "duration": 154,
    "start_time": "2022-01-11T12:44:29.768Z"
   },
   {
    "duration": 143,
    "start_time": "2022-01-11T12:44:29.925Z"
   },
   {
    "duration": 71339,
    "start_time": "2022-01-11T12:44:30.070Z"
   },
   {
    "duration": 122,
    "start_time": "2022-01-11T12:45:41.411Z"
   },
   {
    "duration": 303,
    "start_time": "2022-01-11T12:45:41.535Z"
   },
   {
    "duration": 68,
    "start_time": "2022-01-11T12:45:41.839Z"
   },
   {
    "duration": 3,
    "start_time": "2022-01-11T12:45:41.908Z"
   },
   {
    "duration": 194,
    "start_time": "2022-01-11T12:45:41.913Z"
   },
   {
    "duration": 3,
    "start_time": "2022-01-11T12:45:42.109Z"
   },
   {
    "duration": 87,
    "start_time": "2022-01-11T12:45:42.113Z"
   },
   {
    "duration": 124,
    "start_time": "2022-01-11T12:45:42.078Z"
   },
   {
    "duration": 122,
    "start_time": "2022-01-11T12:45:42.081Z"
   },
   {
    "duration": 108,
    "start_time": "2022-01-11T12:45:42.096Z"
   },
   {
    "duration": 97,
    "start_time": "2022-01-11T12:45:42.108Z"
   },
   {
    "duration": 96,
    "start_time": "2022-01-11T12:45:42.110Z"
   },
   {
    "duration": 95,
    "start_time": "2022-01-11T12:45:42.112Z"
   },
   {
    "duration": 92,
    "start_time": "2022-01-11T12:45:42.116Z"
   },
   {
    "duration": 90,
    "start_time": "2022-01-11T12:45:42.119Z"
   },
   {
    "duration": 2,
    "start_time": "2022-01-11T12:45:59.584Z"
   },
   {
    "duration": 2,
    "start_time": "2022-01-11T12:46:01.417Z"
   },
   {
    "duration": 3,
    "start_time": "2022-01-11T12:46:02.064Z"
   },
   {
    "duration": 3,
    "start_time": "2022-01-11T12:46:02.561Z"
   },
   {
    "duration": 2,
    "start_time": "2022-01-11T12:46:03.822Z"
   },
   {
    "duration": 3,
    "start_time": "2022-01-11T12:46:04.470Z"
   },
   {
    "duration": 3,
    "start_time": "2022-01-11T12:46:05.162Z"
   },
   {
    "duration": 1463,
    "start_time": "2022-01-11T12:46:06.809Z"
   },
   {
    "duration": 3790,
    "start_time": "2022-01-11T12:46:16.617Z"
   },
   {
    "duration": 252,
    "start_time": "2022-01-11T12:48:37.260Z"
   },
   {
    "duration": 1301,
    "start_time": "2022-01-11T12:48:49.113Z"
   },
   {
    "duration": 303,
    "start_time": "2022-01-11T12:49:02.892Z"
   },
   {
    "duration": 306,
    "start_time": "2022-01-11T12:49:09.360Z"
   },
   {
    "duration": 4,
    "start_time": "2022-01-11T12:49:31.770Z"
   },
   {
    "duration": 279,
    "start_time": "2022-01-11T12:49:32.628Z"
   },
   {
    "duration": 9,
    "start_time": "2022-01-11T12:49:37.503Z"
   },
   {
    "duration": 1506,
    "start_time": "2022-01-11T12:49:37.514Z"
   },
   {
    "duration": 839,
    "start_time": "2022-01-11T12:49:39.023Z"
   },
   {
    "duration": 24,
    "start_time": "2022-01-11T12:49:39.865Z"
   },
   {
    "duration": 4,
    "start_time": "2022-01-11T12:49:39.891Z"
   },
   {
    "duration": 146,
    "start_time": "2022-01-11T12:49:39.897Z"
   },
   {
    "duration": 5,
    "start_time": "2022-01-11T12:49:40.046Z"
   },
   {
    "duration": 140,
    "start_time": "2022-01-11T12:49:40.061Z"
   },
   {
    "duration": 125,
    "start_time": "2022-01-11T12:49:40.203Z"
   },
   {
    "duration": 3,
    "start_time": "2022-01-11T12:49:40.330Z"
   },
   {
    "duration": 64207,
    "start_time": "2022-01-11T12:49:40.335Z"
   },
   {
    "duration": 125,
    "start_time": "2022-01-11T12:50:44.544Z"
   },
   {
    "duration": 289,
    "start_time": "2022-01-11T12:50:44.672Z"
   },
   {
    "duration": 64,
    "start_time": "2022-01-11T12:50:44.964Z"
   },
   {
    "duration": 3,
    "start_time": "2022-01-11T12:50:45.030Z"
   },
   {
    "duration": 222,
    "start_time": "2022-01-11T12:50:45.035Z"
   },
   {
    "duration": 2,
    "start_time": "2022-01-11T12:50:45.259Z"
   },
   {
    "duration": 29,
    "start_time": "2022-01-11T12:50:45.263Z"
   },
   {
    "duration": 20,
    "start_time": "2022-01-11T12:50:45.295Z"
   },
   {
    "duration": 38,
    "start_time": "2022-01-11T12:50:45.317Z"
   },
   {
    "duration": 22,
    "start_time": "2022-01-11T12:50:45.357Z"
   },
   {
    "duration": 29,
    "start_time": "2022-01-11T12:50:45.381Z"
   },
   {
    "duration": 30,
    "start_time": "2022-01-11T12:50:45.412Z"
   },
   {
    "duration": 22,
    "start_time": "2022-01-11T12:50:45.444Z"
   },
   {
    "duration": 1312,
    "start_time": "2022-01-11T12:50:45.468Z"
   },
   {
    "duration": 3665,
    "start_time": "2022-01-11T12:50:46.782Z"
   },
   {
    "duration": 1307,
    "start_time": "2022-01-11T13:19:25.134Z"
   },
   {
    "duration": 394,
    "start_time": "2022-01-11T13:19:56.138Z"
   },
   {
    "duration": 179,
    "start_time": "2022-01-11T13:20:05.335Z"
   },
   {
    "duration": 9,
    "start_time": "2022-01-12T06:58:56.920Z"
   },
   {
    "duration": 1167,
    "start_time": "2022-01-12T06:58:56.931Z"
   },
   {
    "duration": 764,
    "start_time": "2022-01-12T06:58:58.100Z"
   },
   {
    "duration": 37,
    "start_time": "2022-01-12T06:58:58.866Z"
   },
   {
    "duration": 5,
    "start_time": "2022-01-12T06:58:58.905Z"
   },
   {
    "duration": 129,
    "start_time": "2022-01-12T06:58:58.912Z"
   },
   {
    "duration": 5,
    "start_time": "2022-01-12T06:58:59.044Z"
   },
   {
    "duration": 155,
    "start_time": "2022-01-12T06:58:59.053Z"
   },
   {
    "duration": 123,
    "start_time": "2022-01-12T06:58:59.211Z"
   },
   {
    "duration": 3,
    "start_time": "2022-01-12T06:58:59.336Z"
   },
   {
    "duration": 60053,
    "start_time": "2022-01-12T06:58:59.341Z"
   },
   {
    "duration": 115,
    "start_time": "2022-01-12T06:59:59.396Z"
   },
   {
    "duration": 274,
    "start_time": "2022-01-12T06:59:59.513Z"
   },
   {
    "duration": 61,
    "start_time": "2022-01-12T06:59:59.792Z"
   },
   {
    "duration": 3,
    "start_time": "2022-01-12T06:59:59.854Z"
   },
   {
    "duration": 179,
    "start_time": "2022-01-12T06:59:59.858Z"
   },
   {
    "duration": 2,
    "start_time": "2022-01-12T07:00:00.039Z"
   },
   {
    "duration": 8,
    "start_time": "2022-01-12T07:00:00.043Z"
   },
   {
    "duration": 8,
    "start_time": "2022-01-12T07:00:00.053Z"
   },
   {
    "duration": 7,
    "start_time": "2022-01-12T07:00:00.062Z"
   },
   {
    "duration": 7,
    "start_time": "2022-01-12T07:00:00.070Z"
   },
   {
    "duration": 12,
    "start_time": "2022-01-12T07:00:00.079Z"
   },
   {
    "duration": 13,
    "start_time": "2022-01-12T07:00:00.094Z"
   },
   {
    "duration": 11,
    "start_time": "2022-01-12T07:00:00.109Z"
   },
   {
    "duration": 1147,
    "start_time": "2022-01-12T07:00:00.122Z"
   },
   {
    "duration": 286,
    "start_time": "2022-01-12T07:00:01.270Z"
   },
   {
    "duration": 385,
    "start_time": "2022-01-12T07:00:01.558Z"
   },
   {
    "duration": 1285,
    "start_time": "2022-01-12T07:12:29.332Z"
   },
   {
    "duration": 4934,
    "start_time": "2022-01-12T07:13:04.576Z"
   },
   {
    "duration": 5236,
    "start_time": "2022-01-12T07:13:27.320Z"
   },
   {
    "duration": 5252,
    "start_time": "2022-01-12T07:13:52.618Z"
   },
   {
    "duration": 301,
    "start_time": "2022-01-12T07:14:12.917Z"
   },
   {
    "duration": 4671,
    "start_time": "2022-01-12T07:14:28.200Z"
   },
   {
    "duration": 4,
    "start_time": "2022-01-12T07:14:54.219Z"
   },
   {
    "duration": 6,
    "start_time": "2022-01-12T07:14:54.225Z"
   },
   {
    "duration": 764,
    "start_time": "2022-01-12T07:14:54.233Z"
   },
   {
    "duration": 26,
    "start_time": "2022-01-12T07:14:54.999Z"
   },
   {
    "duration": 4,
    "start_time": "2022-01-12T07:14:55.027Z"
   },
   {
    "duration": 145,
    "start_time": "2022-01-12T07:14:55.033Z"
   },
   {
    "duration": 11,
    "start_time": "2022-01-12T07:14:55.180Z"
   },
   {
    "duration": 139,
    "start_time": "2022-01-12T07:14:55.194Z"
   },
   {
    "duration": 121,
    "start_time": "2022-01-12T07:14:55.336Z"
   },
   {
    "duration": 2,
    "start_time": "2022-01-12T07:14:55.459Z"
   },
   {
    "duration": 61228,
    "start_time": "2022-01-12T07:14:55.463Z"
   },
   {
    "duration": 115,
    "start_time": "2022-01-12T07:15:56.693Z"
   },
   {
    "duration": 264,
    "start_time": "2022-01-12T07:15:56.810Z"
   },
   {
    "duration": 39,
    "start_time": "2022-01-12T07:15:57.076Z"
   },
   {
    "duration": 2,
    "start_time": "2022-01-12T07:15:57.117Z"
   },
   {
    "duration": 164,
    "start_time": "2022-01-12T07:15:57.120Z"
   },
   {
    "duration": 6,
    "start_time": "2022-01-12T07:15:57.286Z"
   },
   {
    "duration": 5,
    "start_time": "2022-01-12T07:15:57.294Z"
   },
   {
    "duration": 7,
    "start_time": "2022-01-12T07:15:57.300Z"
   },
   {
    "duration": 7,
    "start_time": "2022-01-12T07:15:57.309Z"
   },
   {
    "duration": 6,
    "start_time": "2022-01-12T07:15:57.318Z"
   },
   {
    "duration": 6,
    "start_time": "2022-01-12T07:15:57.326Z"
   },
   {
    "duration": 5,
    "start_time": "2022-01-12T07:15:57.335Z"
   },
   {
    "duration": 4,
    "start_time": "2022-01-12T07:15:57.342Z"
   },
   {
    "duration": 1005,
    "start_time": "2022-01-12T07:15:57.347Z"
   },
   {
    "duration": 377,
    "start_time": "2022-01-12T07:15:58.353Z"
   },
   {
    "duration": 963,
    "start_time": "2022-01-12T07:16:08.980Z"
   },
   {
    "duration": 4990,
    "start_time": "2022-01-12T07:17:14.009Z"
   },
   {
    "duration": 4712,
    "start_time": "2022-01-12T07:17:36.060Z"
   },
   {
    "duration": 4887,
    "start_time": "2022-01-12T07:18:21.161Z"
   },
   {
    "duration": 5217,
    "start_time": "2022-01-12T07:18:34.944Z"
   },
   {
    "duration": 7215,
    "start_time": "2022-01-12T07:18:55.694Z"
   },
   {
    "duration": 4618,
    "start_time": "2022-01-12T07:19:52.035Z"
   },
   {
    "duration": 6828,
    "start_time": "2022-01-12T07:20:07.395Z"
   },
   {
    "duration": 4,
    "start_time": "2022-01-12T07:20:23.951Z"
   },
   {
    "duration": 5,
    "start_time": "2022-01-12T07:20:23.957Z"
   },
   {
    "duration": 750,
    "start_time": "2022-01-12T07:20:23.964Z"
   },
   {
    "duration": 23,
    "start_time": "2022-01-12T07:20:24.717Z"
   },
   {
    "duration": 4,
    "start_time": "2022-01-12T07:20:24.742Z"
   },
   {
    "duration": 141,
    "start_time": "2022-01-12T07:20:24.748Z"
   },
   {
    "duration": 5,
    "start_time": "2022-01-12T07:20:24.892Z"
   },
   {
    "duration": 147,
    "start_time": "2022-01-12T07:20:24.899Z"
   },
   {
    "duration": 122,
    "start_time": "2022-01-12T07:20:25.050Z"
   },
   {
    "duration": 19,
    "start_time": "2022-01-12T07:20:25.174Z"
   },
   {
    "duration": 61697,
    "start_time": "2022-01-12T07:20:25.196Z"
   },
   {
    "duration": 118,
    "start_time": "2022-01-12T07:21:26.894Z"
   },
   {
    "duration": 266,
    "start_time": "2022-01-12T07:21:27.013Z"
   },
   {
    "duration": 42,
    "start_time": "2022-01-12T07:21:27.281Z"
   },
   {
    "duration": 3,
    "start_time": "2022-01-12T07:21:27.324Z"
   },
   {
    "duration": 171,
    "start_time": "2022-01-12T07:21:27.329Z"
   },
   {
    "duration": 3,
    "start_time": "2022-01-12T07:21:27.501Z"
   },
   {
    "duration": 17,
    "start_time": "2022-01-12T07:21:27.506Z"
   },
   {
    "duration": 13,
    "start_time": "2022-01-12T07:21:27.525Z"
   },
   {
    "duration": 13,
    "start_time": "2022-01-12T07:21:27.540Z"
   },
   {
    "duration": 6,
    "start_time": "2022-01-12T07:21:27.555Z"
   },
   {
    "duration": 16,
    "start_time": "2022-01-12T07:21:27.563Z"
   },
   {
    "duration": 24,
    "start_time": "2022-01-12T07:21:27.581Z"
   },
   {
    "duration": 12,
    "start_time": "2022-01-12T07:21:27.607Z"
   },
   {
    "duration": 161,
    "start_time": "2022-01-12T07:21:27.621Z"
   },
   {
    "duration": 330,
    "start_time": "2022-01-12T07:21:27.784Z"
   },
   {
    "duration": 146,
    "start_time": "2022-01-12T07:22:00.562Z"
   },
   {
    "duration": 275,
    "start_time": "2022-01-12T07:22:26.181Z"
   },
   {
    "duration": 151,
    "start_time": "2022-01-12T07:23:19.191Z"
   },
   {
    "duration": 62,
    "start_time": "2022-01-12T07:23:57.907Z"
   },
   {
    "duration": 4796,
    "start_time": "2022-01-12T07:24:03.696Z"
   },
   {
    "duration": 4,
    "start_time": "2022-01-12T07:25:27.311Z"
   },
   {
    "duration": 4,
    "start_time": "2022-01-12T07:25:27.319Z"
   },
   {
    "duration": 703,
    "start_time": "2022-01-12T07:25:27.325Z"
   },
   {
    "duration": 23,
    "start_time": "2022-01-12T07:25:28.030Z"
   },
   {
    "duration": 5,
    "start_time": "2022-01-12T07:25:28.055Z"
   },
   {
    "duration": 142,
    "start_time": "2022-01-12T07:25:28.062Z"
   },
   {
    "duration": 5,
    "start_time": "2022-01-12T07:25:28.206Z"
   },
   {
    "duration": 144,
    "start_time": "2022-01-12T07:25:28.213Z"
   },
   {
    "duration": 175,
    "start_time": "2022-01-12T07:25:28.359Z"
   },
   {
    "duration": 13,
    "start_time": "2022-01-12T07:25:28.538Z"
   },
   {
    "duration": 61261,
    "start_time": "2022-01-12T07:25:28.561Z"
   },
   {
    "duration": 126,
    "start_time": "2022-01-12T07:26:29.824Z"
   },
   {
    "duration": 273,
    "start_time": "2022-01-12T07:26:29.952Z"
   },
   {
    "duration": 35,
    "start_time": "2022-01-12T07:26:30.227Z"
   },
   {
    "duration": 2,
    "start_time": "2022-01-12T07:26:30.264Z"
   },
   {
    "duration": 178,
    "start_time": "2022-01-12T07:26:30.268Z"
   },
   {
    "duration": 2,
    "start_time": "2022-01-12T07:26:30.448Z"
   },
   {
    "duration": 29,
    "start_time": "2022-01-12T07:26:30.452Z"
   },
   {
    "duration": 31,
    "start_time": "2022-01-12T07:26:30.482Z"
   },
   {
    "duration": 36,
    "start_time": "2022-01-12T07:26:30.515Z"
   },
   {
    "duration": 32,
    "start_time": "2022-01-12T07:26:30.553Z"
   },
   {
    "duration": 19,
    "start_time": "2022-01-12T07:26:30.587Z"
   },
   {
    "duration": 30,
    "start_time": "2022-01-12T07:26:30.608Z"
   },
   {
    "duration": 25,
    "start_time": "2022-01-12T07:26:30.640Z"
   },
   {
    "duration": 144,
    "start_time": "2022-01-12T07:26:30.667Z"
   },
   {
    "duration": 228,
    "start_time": "2022-01-12T07:26:30.813Z"
   },
   {
    "duration": 143,
    "start_time": "2022-01-12T07:27:15.880Z"
   },
   {
    "duration": 150,
    "start_time": "2022-01-12T07:28:11.341Z"
   },
   {
    "duration": 5116,
    "start_time": "2022-01-12T07:28:28.050Z"
   },
   {
    "duration": 5616,
    "start_time": "2022-01-12T07:28:41.795Z"
   },
   {
    "duration": 4859,
    "start_time": "2022-01-12T07:28:59.029Z"
   },
   {
    "duration": 1340,
    "start_time": "2022-01-12T08:27:12.273Z"
   },
   {
    "duration": 6,
    "start_time": "2022-01-12T08:27:18.483Z"
   },
   {
    "duration": 7,
    "start_time": "2022-01-12T08:27:18.490Z"
   },
   {
    "duration": 803,
    "start_time": "2022-01-12T08:27:18.498Z"
   },
   {
    "duration": 24,
    "start_time": "2022-01-12T08:27:19.303Z"
   },
   {
    "duration": 8,
    "start_time": "2022-01-12T08:27:19.329Z"
   },
   {
    "duration": 140,
    "start_time": "2022-01-12T08:27:19.338Z"
   },
   {
    "duration": 10,
    "start_time": "2022-01-12T08:27:19.481Z"
   },
   {
    "duration": 153,
    "start_time": "2022-01-12T08:27:19.493Z"
   },
   {
    "duration": 136,
    "start_time": "2022-01-12T08:27:19.647Z"
   },
   {
    "duration": 6,
    "start_time": "2022-01-12T08:27:19.785Z"
   },
   {
    "duration": 9888,
    "start_time": "2022-01-12T08:27:19.793Z"
   },
   {
    "duration": -47,
    "start_time": "2022-01-12T08:27:29.730Z"
   },
   {
    "duration": -49,
    "start_time": "2022-01-12T08:27:29.733Z"
   },
   {
    "duration": -51,
    "start_time": "2022-01-12T08:27:29.737Z"
   },
   {
    "duration": -56,
    "start_time": "2022-01-12T08:27:29.743Z"
   },
   {
    "duration": -58,
    "start_time": "2022-01-12T08:27:29.746Z"
   },
   {
    "duration": -60,
    "start_time": "2022-01-12T08:27:29.748Z"
   },
   {
    "duration": -62,
    "start_time": "2022-01-12T08:27:29.751Z"
   },
   {
    "duration": -64,
    "start_time": "2022-01-12T08:27:29.754Z"
   },
   {
    "duration": -65,
    "start_time": "2022-01-12T08:27:29.756Z"
   },
   {
    "duration": -88,
    "start_time": "2022-01-12T08:27:29.780Z"
   },
   {
    "duration": -91,
    "start_time": "2022-01-12T08:27:29.784Z"
   },
   {
    "duration": -94,
    "start_time": "2022-01-12T08:27:29.788Z"
   },
   {
    "duration": -96,
    "start_time": "2022-01-12T08:27:29.791Z"
   },
   {
    "duration": -99,
    "start_time": "2022-01-12T08:27:29.795Z"
   },
   {
    "duration": -106,
    "start_time": "2022-01-12T08:27:29.803Z"
   },
   {
    "duration": 4,
    "start_time": "2022-01-12T08:27:56.257Z"
   },
   {
    "duration": 6,
    "start_time": "2022-01-12T08:27:56.265Z"
   },
   {
    "duration": 801,
    "start_time": "2022-01-12T08:27:56.273Z"
   },
   {
    "duration": 27,
    "start_time": "2022-01-12T08:27:57.076Z"
   },
   {
    "duration": 4,
    "start_time": "2022-01-12T08:27:57.105Z"
   },
   {
    "duration": 129,
    "start_time": "2022-01-12T08:27:57.110Z"
   },
   {
    "duration": 5,
    "start_time": "2022-01-12T08:27:57.241Z"
   },
   {
    "duration": 117,
    "start_time": "2022-01-12T08:27:57.247Z"
   },
   {
    "duration": 123,
    "start_time": "2022-01-12T08:27:57.365Z"
   },
   {
    "duration": 25,
    "start_time": "2022-01-12T08:27:57.491Z"
   },
   {
    "duration": 63491,
    "start_time": "2022-01-12T08:27:57.518Z"
   },
   {
    "duration": 121,
    "start_time": "2022-01-12T08:29:01.011Z"
   },
   {
    "duration": 281,
    "start_time": "2022-01-12T08:29:01.134Z"
   },
   {
    "duration": 56,
    "start_time": "2022-01-12T08:29:01.416Z"
   },
   {
    "duration": 3,
    "start_time": "2022-01-12T08:29:01.474Z"
   },
   {
    "duration": 181,
    "start_time": "2022-01-12T08:29:01.491Z"
   },
   {
    "duration": 3,
    "start_time": "2022-01-12T08:29:01.674Z"
   },
   {
    "duration": 36,
    "start_time": "2022-01-12T08:29:01.678Z"
   },
   {
    "duration": 30,
    "start_time": "2022-01-12T08:29:01.716Z"
   },
   {
    "duration": 23,
    "start_time": "2022-01-12T08:29:01.748Z"
   },
   {
    "duration": 26,
    "start_time": "2022-01-12T08:29:01.772Z"
   },
   {
    "duration": 21,
    "start_time": "2022-01-12T08:29:01.800Z"
   },
   {
    "duration": 42,
    "start_time": "2022-01-12T08:29:01.823Z"
   },
   {
    "duration": 26,
    "start_time": "2022-01-12T08:29:01.866Z"
   },
   {
    "duration": 40,
    "start_time": "2022-01-12T08:29:01.894Z"
   },
   {
    "duration": 280,
    "start_time": "2022-01-12T08:29:01.936Z"
   },
   {
    "duration": 4602,
    "start_time": "2022-01-12T08:44:22.758Z"
   },
   {
    "duration": 4,
    "start_time": "2022-01-12T08:46:29.149Z"
   },
   {
    "duration": 5,
    "start_time": "2022-01-12T08:46:29.155Z"
   },
   {
    "duration": 774,
    "start_time": "2022-01-12T08:46:29.162Z"
   },
   {
    "duration": 23,
    "start_time": "2022-01-12T08:46:29.938Z"
   },
   {
    "duration": 3,
    "start_time": "2022-01-12T08:46:29.963Z"
   },
   {
    "duration": 142,
    "start_time": "2022-01-12T08:46:29.968Z"
   },
   {
    "duration": 4,
    "start_time": "2022-01-12T08:46:30.113Z"
   },
   {
    "duration": 142,
    "start_time": "2022-01-12T08:46:30.119Z"
   },
   {
    "duration": 126,
    "start_time": "2022-01-12T08:46:30.263Z"
   },
   {
    "duration": 3,
    "start_time": "2022-01-12T08:46:30.391Z"
   },
   {
    "duration": 62303,
    "start_time": "2022-01-12T08:46:30.396Z"
   },
   {
    "duration": 123,
    "start_time": "2022-01-12T08:47:32.701Z"
   },
   {
    "duration": 267,
    "start_time": "2022-01-12T08:47:32.826Z"
   },
   {
    "duration": 34,
    "start_time": "2022-01-12T08:47:33.095Z"
   },
   {
    "duration": 4,
    "start_time": "2022-01-12T08:47:33.130Z"
   },
   {
    "duration": 157,
    "start_time": "2022-01-12T08:47:33.135Z"
   },
   {
    "duration": 3,
    "start_time": "2022-01-12T08:47:33.294Z"
   },
   {
    "duration": 7,
    "start_time": "2022-01-12T08:47:33.298Z"
   },
   {
    "duration": 5,
    "start_time": "2022-01-12T08:47:33.307Z"
   },
   {
    "duration": 10,
    "start_time": "2022-01-12T08:47:33.313Z"
   },
   {
    "duration": 8,
    "start_time": "2022-01-12T08:47:33.324Z"
   },
   {
    "duration": 5,
    "start_time": "2022-01-12T08:47:33.333Z"
   },
   {
    "duration": 8,
    "start_time": "2022-01-12T08:47:33.339Z"
   },
   {
    "duration": 5,
    "start_time": "2022-01-12T08:47:33.349Z"
   },
   {
    "duration": 5,
    "start_time": "2022-01-12T08:47:33.356Z"
   },
   {
    "duration": 5,
    "start_time": "2022-01-12T08:47:33.362Z"
   },
   {
    "duration": 5553,
    "start_time": "2022-01-12T08:47:33.368Z"
   },
   {
    "duration": 1914,
    "start_time": "2022-01-12T08:47:53.927Z"
   },
   {
    "duration": 15,
    "start_time": "2022-01-12T08:48:09.750Z"
   },
   {
    "duration": 121,
    "start_time": "2022-01-12T08:48:37.867Z"
   },
   {
    "duration": 124,
    "start_time": "2022-01-12T08:48:51.877Z"
   },
   {
    "duration": 1128,
    "start_time": "2022-01-12T08:59:09.064Z"
   },
   {
    "duration": 5660,
    "start_time": "2022-01-12T08:59:20.762Z"
   },
   {
    "duration": 4770,
    "start_time": "2022-01-12T08:59:32.001Z"
   },
   {
    "duration": 6034,
    "start_time": "2022-01-12T08:59:56.057Z"
   },
   {
    "duration": 4638,
    "start_time": "2022-01-12T09:00:17.842Z"
   },
   {
    "duration": 4,
    "start_time": "2022-01-12T09:00:34.857Z"
   },
   {
    "duration": 10,
    "start_time": "2022-01-12T09:00:34.862Z"
   },
   {
    "duration": 777,
    "start_time": "2022-01-12T09:00:34.875Z"
   },
   {
    "duration": 24,
    "start_time": "2022-01-12T09:00:35.654Z"
   },
   {
    "duration": 14,
    "start_time": "2022-01-12T09:00:35.680Z"
   },
   {
    "duration": 135,
    "start_time": "2022-01-12T09:00:35.695Z"
   },
   {
    "duration": 4,
    "start_time": "2022-01-12T09:00:35.832Z"
   },
   {
    "duration": 112,
    "start_time": "2022-01-12T09:00:35.838Z"
   },
   {
    "duration": 120,
    "start_time": "2022-01-12T09:00:35.952Z"
   },
   {
    "duration": 3,
    "start_time": "2022-01-12T09:00:36.074Z"
   },
   {
    "duration": 63021,
    "start_time": "2022-01-12T09:00:36.078Z"
   },
   {
    "duration": 114,
    "start_time": "2022-01-12T09:01:39.101Z"
   },
   {
    "duration": 266,
    "start_time": "2022-01-12T09:01:39.216Z"
   },
   {
    "duration": 41,
    "start_time": "2022-01-12T09:01:39.483Z"
   },
   {
    "duration": 3,
    "start_time": "2022-01-12T09:01:39.525Z"
   },
   {
    "duration": 169,
    "start_time": "2022-01-12T09:01:39.529Z"
   },
   {
    "duration": 3,
    "start_time": "2022-01-12T09:01:39.700Z"
   },
   {
    "duration": 10,
    "start_time": "2022-01-12T09:01:39.704Z"
   },
   {
    "duration": 5,
    "start_time": "2022-01-12T09:01:39.715Z"
   },
   {
    "duration": 6,
    "start_time": "2022-01-12T09:01:39.722Z"
   },
   {
    "duration": 9,
    "start_time": "2022-01-12T09:01:39.730Z"
   },
   {
    "duration": 5,
    "start_time": "2022-01-12T09:01:39.740Z"
   },
   {
    "duration": 5,
    "start_time": "2022-01-12T09:01:39.746Z"
   },
   {
    "duration": 4,
    "start_time": "2022-01-12T09:01:39.753Z"
   },
   {
    "duration": 1174,
    "start_time": "2022-01-12T09:01:39.758Z"
   },
   {
    "duration": 2,
    "start_time": "2022-01-12T09:01:40.934Z"
   },
   {
    "duration": 190,
    "start_time": "2022-01-12T09:02:18.756Z"
   },
   {
    "duration": 4,
    "start_time": "2022-01-12T09:02:56.912Z"
   },
   {
    "duration": 1436,
    "start_time": "2022-01-12T09:03:37.382Z"
   },
   {
    "duration": 176,
    "start_time": "2022-01-12T09:05:33.318Z"
   },
   {
    "duration": 4,
    "start_time": "2022-01-12T09:05:37.392Z"
   },
   {
    "duration": 1568,
    "start_time": "2022-01-12T09:11:22.626Z"
   },
   {
    "duration": 24,
    "start_time": "2022-01-12T09:13:55.462Z"
   },
   {
    "duration": 6634,
    "start_time": "2022-01-12T10:55:10.239Z"
   },
   {
    "duration": 4,
    "start_time": "2022-01-12T10:55:30.186Z"
   },
   {
    "duration": 8,
    "start_time": "2022-01-12T10:55:30.192Z"
   },
   {
    "duration": 734,
    "start_time": "2022-01-12T10:55:30.202Z"
   },
   {
    "duration": 24,
    "start_time": "2022-01-12T10:55:30.939Z"
   },
   {
    "duration": 3,
    "start_time": "2022-01-12T10:55:30.965Z"
   },
   {
    "duration": 152,
    "start_time": "2022-01-12T10:55:30.970Z"
   },
   {
    "duration": 5,
    "start_time": "2022-01-12T10:55:31.124Z"
   },
   {
    "duration": 144,
    "start_time": "2022-01-12T10:55:31.131Z"
   },
   {
    "duration": 145,
    "start_time": "2022-01-12T10:55:31.279Z"
   },
   {
    "duration": 3,
    "start_time": "2022-01-12T10:55:31.426Z"
   },
   {
    "duration": 61568,
    "start_time": "2022-01-12T10:55:31.431Z"
   },
   {
    "duration": 116,
    "start_time": "2022-01-12T10:56:33.000Z"
   },
   {
    "duration": 274,
    "start_time": "2022-01-12T10:56:33.118Z"
   },
   {
    "duration": 33,
    "start_time": "2022-01-12T10:56:33.394Z"
   },
   {
    "duration": 7,
    "start_time": "2022-01-12T10:56:33.428Z"
   },
   {
    "duration": 184,
    "start_time": "2022-01-12T10:56:33.436Z"
   },
   {
    "duration": 4,
    "start_time": "2022-01-12T10:56:33.622Z"
   },
   {
    "duration": 36,
    "start_time": "2022-01-12T10:56:33.628Z"
   },
   {
    "duration": 27,
    "start_time": "2022-01-12T10:56:33.666Z"
   },
   {
    "duration": 30,
    "start_time": "2022-01-12T10:56:33.695Z"
   },
   {
    "duration": 39,
    "start_time": "2022-01-12T10:56:33.726Z"
   },
   {
    "duration": 29,
    "start_time": "2022-01-12T10:56:33.767Z"
   },
   {
    "duration": 42,
    "start_time": "2022-01-12T10:56:33.798Z"
   },
   {
    "duration": 41,
    "start_time": "2022-01-12T10:56:33.842Z"
   },
   {
    "duration": 25,
    "start_time": "2022-01-12T10:56:33.885Z"
   },
   {
    "duration": 176,
    "start_time": "2022-01-12T10:56:33.912Z"
   },
   {
    "duration": 189,
    "start_time": "2022-01-12T10:56:34.093Z"
   },
   {
    "duration": 443,
    "start_time": "2022-01-12T11:24:03.686Z"
   },
   {
    "duration": 151,
    "start_time": "2022-01-12T11:24:14.615Z"
   },
   {
    "duration": 2,
    "start_time": "2022-01-12T11:24:24.023Z"
   },
   {
    "duration": 177,
    "start_time": "2022-01-12T11:48:15.192Z"
   },
   {
    "duration": 8193,
    "start_time": "2022-01-12T11:48:39.182Z"
   },
   {
    "duration": 4519,
    "start_time": "2022-01-12T11:49:08.041Z"
   },
   {
    "duration": 4,
    "start_time": "2022-01-12T11:49:46.176Z"
   },
   {
    "duration": 5,
    "start_time": "2022-01-12T11:49:46.187Z"
   },
   {
    "duration": 722,
    "start_time": "2022-01-12T11:49:46.193Z"
   },
   {
    "duration": 24,
    "start_time": "2022-01-12T11:49:46.917Z"
   },
   {
    "duration": 3,
    "start_time": "2022-01-12T11:49:46.944Z"
   },
   {
    "duration": 137,
    "start_time": "2022-01-12T11:49:46.949Z"
   },
   {
    "duration": 4,
    "start_time": "2022-01-12T11:49:47.091Z"
   },
   {
    "duration": 114,
    "start_time": "2022-01-12T11:49:47.097Z"
   },
   {
    "duration": 125,
    "start_time": "2022-01-12T11:49:47.213Z"
   },
   {
    "duration": 3,
    "start_time": "2022-01-12T11:49:47.339Z"
   },
   {
    "duration": 62272,
    "start_time": "2022-01-12T11:49:47.344Z"
   },
   {
    "duration": 152,
    "start_time": "2022-01-12T11:50:49.618Z"
   },
   {
    "duration": 278,
    "start_time": "2022-01-12T11:50:49.771Z"
   },
   {
    "duration": 44,
    "start_time": "2022-01-12T11:50:50.051Z"
   },
   {
    "duration": 3,
    "start_time": "2022-01-12T11:50:50.096Z"
   },
   {
    "duration": 161,
    "start_time": "2022-01-12T11:50:50.101Z"
   },
   {
    "duration": 3,
    "start_time": "2022-01-12T11:50:50.264Z"
   },
   {
    "duration": 9,
    "start_time": "2022-01-12T11:50:50.269Z"
   },
   {
    "duration": 9,
    "start_time": "2022-01-12T11:50:50.279Z"
   },
   {
    "duration": 9,
    "start_time": "2022-01-12T11:50:50.291Z"
   },
   {
    "duration": 19,
    "start_time": "2022-01-12T11:50:50.302Z"
   },
   {
    "duration": 14,
    "start_time": "2022-01-12T11:50:50.322Z"
   },
   {
    "duration": 10,
    "start_time": "2022-01-12T11:50:50.337Z"
   },
   {
    "duration": 6,
    "start_time": "2022-01-12T11:50:50.348Z"
   },
   {
    "duration": 6,
    "start_time": "2022-01-12T11:50:50.356Z"
   },
   {
    "duration": 183,
    "start_time": "2022-01-12T11:50:50.363Z"
   },
   {
    "duration": 3,
    "start_time": "2022-01-12T11:50:50.548Z"
   },
   {
    "duration": 5845,
    "start_time": "2022-01-12T11:51:38.559Z"
   },
   {
    "duration": 4,
    "start_time": "2022-01-12T11:51:57.133Z"
   },
   {
    "duration": 6,
    "start_time": "2022-01-12T11:51:57.139Z"
   },
   {
    "duration": 712,
    "start_time": "2022-01-12T11:51:57.147Z"
   },
   {
    "duration": 32,
    "start_time": "2022-01-12T11:51:57.861Z"
   },
   {
    "duration": 4,
    "start_time": "2022-01-12T11:51:57.894Z"
   },
   {
    "duration": 137,
    "start_time": "2022-01-12T11:51:57.900Z"
   },
   {
    "duration": 5,
    "start_time": "2022-01-12T11:51:58.038Z"
   },
   {
    "duration": 146,
    "start_time": "2022-01-12T11:51:58.045Z"
   },
   {
    "duration": 119,
    "start_time": "2022-01-12T11:51:58.194Z"
   },
   {
    "duration": 3,
    "start_time": "2022-01-12T11:51:58.315Z"
   },
   {
    "duration": 62147,
    "start_time": "2022-01-12T11:51:58.319Z"
   },
   {
    "duration": 116,
    "start_time": "2022-01-12T11:53:00.468Z"
   },
   {
    "duration": 266,
    "start_time": "2022-01-12T11:53:00.586Z"
   },
   {
    "duration": 47,
    "start_time": "2022-01-12T11:53:00.854Z"
   },
   {
    "duration": 2,
    "start_time": "2022-01-12T11:53:00.904Z"
   },
   {
    "duration": 164,
    "start_time": "2022-01-12T11:53:00.908Z"
   },
   {
    "duration": 3,
    "start_time": "2022-01-12T11:53:01.074Z"
   },
   {
    "duration": 13,
    "start_time": "2022-01-12T11:53:01.079Z"
   },
   {
    "duration": 15,
    "start_time": "2022-01-12T11:53:01.094Z"
   },
   {
    "duration": 22,
    "start_time": "2022-01-12T11:53:01.111Z"
   },
   {
    "duration": 7,
    "start_time": "2022-01-12T11:53:01.135Z"
   },
   {
    "duration": 15,
    "start_time": "2022-01-12T11:53:01.143Z"
   },
   {
    "duration": 14,
    "start_time": "2022-01-12T11:53:01.160Z"
   },
   {
    "duration": 13,
    "start_time": "2022-01-12T11:53:01.176Z"
   },
   {
    "duration": 10,
    "start_time": "2022-01-12T11:53:01.190Z"
   },
   {
    "duration": 169,
    "start_time": "2022-01-12T11:53:01.202Z"
   },
   {
    "duration": 3,
    "start_time": "2022-01-12T11:53:01.374Z"
   },
   {
    "duration": 5053,
    "start_time": "2022-01-12T11:55:04.839Z"
   },
   {
    "duration": 4,
    "start_time": "2022-01-12T11:55:14.181Z"
   },
   {
    "duration": 8,
    "start_time": "2022-01-12T11:55:14.187Z"
   },
   {
    "duration": 695,
    "start_time": "2022-01-12T11:55:14.197Z"
   },
   {
    "duration": 23,
    "start_time": "2022-01-12T11:55:14.894Z"
   },
   {
    "duration": 3,
    "start_time": "2022-01-12T11:55:14.919Z"
   },
   {
    "duration": 141,
    "start_time": "2022-01-12T11:55:14.923Z"
   },
   {
    "duration": 5,
    "start_time": "2022-01-12T11:55:15.065Z"
   },
   {
    "duration": 144,
    "start_time": "2022-01-12T11:55:15.072Z"
   },
   {
    "duration": 123,
    "start_time": "2022-01-12T11:55:15.219Z"
   },
   {
    "duration": 9,
    "start_time": "2022-01-12T11:55:15.344Z"
   },
   {
    "duration": 62228,
    "start_time": "2022-01-12T11:55:15.354Z"
   },
   {
    "duration": 114,
    "start_time": "2022-01-12T11:56:17.584Z"
   },
   {
    "duration": 264,
    "start_time": "2022-01-12T11:56:17.700Z"
   },
   {
    "duration": 48,
    "start_time": "2022-01-12T11:56:17.966Z"
   },
   {
    "duration": 3,
    "start_time": "2022-01-12T11:56:18.015Z"
   },
   {
    "duration": 159,
    "start_time": "2022-01-12T11:56:18.019Z"
   },
   {
    "duration": 3,
    "start_time": "2022-01-12T11:56:18.180Z"
   },
   {
    "duration": 2,
    "start_time": "2022-01-12T11:56:18.191Z"
   },
   {
    "duration": 5,
    "start_time": "2022-01-12T11:56:18.195Z"
   },
   {
    "duration": 5,
    "start_time": "2022-01-12T11:56:18.202Z"
   },
   {
    "duration": 8,
    "start_time": "2022-01-12T11:56:18.209Z"
   },
   {
    "duration": 7,
    "start_time": "2022-01-12T11:56:18.219Z"
   },
   {
    "duration": 13,
    "start_time": "2022-01-12T11:56:18.228Z"
   },
   {
    "duration": 10,
    "start_time": "2022-01-12T11:56:18.243Z"
   },
   {
    "duration": 14,
    "start_time": "2022-01-12T11:56:18.255Z"
   },
   {
    "duration": 151,
    "start_time": "2022-01-12T11:56:18.271Z"
   },
   {
    "duration": 2,
    "start_time": "2022-01-12T11:56:18.425Z"
   },
   {
    "duration": 861,
    "start_time": "2022-01-12T11:58:52.876Z"
   },
   {
    "duration": 313,
    "start_time": "2022-01-12T12:00:19.883Z"
   },
   {
    "duration": 2025,
    "start_time": "2022-01-12T12:05:38.967Z"
   },
   {
    "duration": 221,
    "start_time": "2022-01-12T12:17:56.235Z"
   },
   {
    "duration": 8,
    "start_time": "2022-01-12T12:18:18.618Z"
   },
   {
    "duration": 1557,
    "start_time": "2022-01-12T12:18:18.630Z"
   },
   {
    "duration": 900,
    "start_time": "2022-01-12T12:18:20.189Z"
   },
   {
    "duration": 24,
    "start_time": "2022-01-12T12:18:21.091Z"
   },
   {
    "duration": 4,
    "start_time": "2022-01-12T12:18:21.117Z"
   },
   {
    "duration": 143,
    "start_time": "2022-01-12T12:18:21.123Z"
   },
   {
    "duration": 5,
    "start_time": "2022-01-12T12:18:21.268Z"
   },
   {
    "duration": 166,
    "start_time": "2022-01-12T12:18:21.274Z"
   },
   {
    "duration": 134,
    "start_time": "2022-01-12T12:18:21.444Z"
   },
   {
    "duration": 3,
    "start_time": "2022-01-12T12:18:21.581Z"
   },
   {
    "duration": 61123,
    "start_time": "2022-01-12T12:18:21.592Z"
   },
   {
    "duration": 118,
    "start_time": "2022-01-12T12:19:22.717Z"
   },
   {
    "duration": 284,
    "start_time": "2022-01-12T12:19:22.837Z"
   },
   {
    "duration": 69,
    "start_time": "2022-01-12T12:19:23.123Z"
   },
   {
    "duration": 3,
    "start_time": "2022-01-12T12:19:23.194Z"
   },
   {
    "duration": 180,
    "start_time": "2022-01-12T12:19:23.199Z"
   },
   {
    "duration": 3,
    "start_time": "2022-01-12T12:19:23.381Z"
   },
   {
    "duration": 2,
    "start_time": "2022-01-12T12:19:23.391Z"
   },
   {
    "duration": 5,
    "start_time": "2022-01-12T12:19:23.394Z"
   },
   {
    "duration": 5,
    "start_time": "2022-01-12T12:19:23.401Z"
   },
   {
    "duration": 10,
    "start_time": "2022-01-12T12:19:23.407Z"
   },
   {
    "duration": 6,
    "start_time": "2022-01-12T12:19:23.419Z"
   },
   {
    "duration": 8,
    "start_time": "2022-01-12T12:19:23.427Z"
   },
   {
    "duration": 10,
    "start_time": "2022-01-12T12:19:23.438Z"
   },
   {
    "duration": 9,
    "start_time": "2022-01-12T12:19:23.450Z"
   },
   {
    "duration": 186,
    "start_time": "2022-01-12T12:19:23.461Z"
   },
   {
    "duration": 839,
    "start_time": "2022-01-12T12:19:23.649Z"
   },
   {
    "duration": 2209,
    "start_time": "2022-01-12T12:19:24.490Z"
   },
   {
    "duration": 30097,
    "start_time": "2022-01-12T12:19:26.702Z"
   },
   {
    "duration": 4,
    "start_time": "2022-01-12T12:49:18.125Z"
   },
   {
    "duration": 18,
    "start_time": "2022-01-12T12:49:18.135Z"
   },
   {
    "duration": 809,
    "start_time": "2022-01-12T12:49:18.155Z"
   },
   {
    "duration": 23,
    "start_time": "2022-01-12T12:49:18.966Z"
   },
   {
    "duration": 3,
    "start_time": "2022-01-12T12:49:18.991Z"
   },
   {
    "duration": 134,
    "start_time": "2022-01-12T12:49:18.996Z"
   },
   {
    "duration": 5,
    "start_time": "2022-01-12T12:49:19.132Z"
   },
   {
    "duration": 119,
    "start_time": "2022-01-12T12:49:19.139Z"
   },
   {
    "duration": 130,
    "start_time": "2022-01-12T12:49:19.261Z"
   },
   {
    "duration": 2,
    "start_time": "2022-01-12T12:49:19.395Z"
   },
   {
    "duration": 62859,
    "start_time": "2022-01-12T12:49:19.399Z"
   },
   {
    "duration": 119,
    "start_time": "2022-01-12T12:50:22.260Z"
   },
   {
    "duration": 262,
    "start_time": "2022-01-12T12:50:22.381Z"
   },
   {
    "duration": 48,
    "start_time": "2022-01-12T12:50:22.645Z"
   },
   {
    "duration": 3,
    "start_time": "2022-01-12T12:50:22.695Z"
   },
   {
    "duration": 182,
    "start_time": "2022-01-12T12:50:22.699Z"
   },
   {
    "duration": 9,
    "start_time": "2022-01-12T12:50:22.883Z"
   },
   {
    "duration": 14,
    "start_time": "2022-01-12T12:50:22.894Z"
   },
   {
    "duration": 57,
    "start_time": "2022-01-12T12:50:22.910Z"
   },
   {
    "duration": 5,
    "start_time": "2022-01-12T12:50:22.969Z"
   },
   {
    "duration": 5,
    "start_time": "2022-01-12T12:50:22.976Z"
   },
   {
    "duration": 5,
    "start_time": "2022-01-12T12:50:22.982Z"
   },
   {
    "duration": 8,
    "start_time": "2022-01-12T12:50:22.989Z"
   },
   {
    "duration": 5,
    "start_time": "2022-01-12T12:50:22.998Z"
   },
   {
    "duration": 6,
    "start_time": "2022-01-12T12:50:23.005Z"
   },
   {
    "duration": 177,
    "start_time": "2022-01-12T12:50:23.012Z"
   },
   {
    "duration": 891,
    "start_time": "2022-01-12T12:50:23.191Z"
   },
   {
    "duration": 2212,
    "start_time": "2022-01-12T12:50:24.085Z"
   },
   {
    "duration": 303,
    "start_time": "2022-01-12T12:50:26.298Z"
   },
   {
    "duration": 4,
    "start_time": "2022-01-12T12:51:55.318Z"
   },
   {
    "duration": 5,
    "start_time": "2022-01-12T12:51:55.324Z"
   },
   {
    "duration": 712,
    "start_time": "2022-01-12T12:51:55.331Z"
   },
   {
    "duration": 24,
    "start_time": "2022-01-12T12:51:56.045Z"
   },
   {
    "duration": 4,
    "start_time": "2022-01-12T12:51:56.070Z"
   },
   {
    "duration": 143,
    "start_time": "2022-01-12T12:51:56.076Z"
   },
   {
    "duration": 5,
    "start_time": "2022-01-12T12:51:56.220Z"
   },
   {
    "duration": 142,
    "start_time": "2022-01-12T12:51:56.227Z"
   },
   {
    "duration": 122,
    "start_time": "2022-01-12T12:51:56.372Z"
   },
   {
    "duration": 3,
    "start_time": "2022-01-12T12:51:56.496Z"
   },
   {
    "duration": 62311,
    "start_time": "2022-01-12T12:51:56.501Z"
   },
   {
    "duration": 121,
    "start_time": "2022-01-12T12:52:58.814Z"
   },
   {
    "duration": 274,
    "start_time": "2022-01-12T12:52:58.937Z"
   },
   {
    "duration": 36,
    "start_time": "2022-01-12T12:52:59.213Z"
   },
   {
    "duration": 3,
    "start_time": "2022-01-12T12:52:59.250Z"
   },
   {
    "duration": 173,
    "start_time": "2022-01-12T12:52:59.254Z"
   },
   {
    "duration": 4,
    "start_time": "2022-01-12T12:52:59.428Z"
   },
   {
    "duration": 8,
    "start_time": "2022-01-12T12:52:59.433Z"
   },
   {
    "duration": 174,
    "start_time": "2022-01-12T13:31:46.102Z"
   },
   {
    "duration": 7,
    "start_time": "2022-01-12T13:32:11.605Z"
   },
   {
    "duration": 2103,
    "start_time": "2022-01-12T13:32:11.614Z"
   },
   {
    "duration": 819,
    "start_time": "2022-01-12T13:32:13.718Z"
   },
   {
    "duration": 21,
    "start_time": "2022-01-12T13:32:14.539Z"
   },
   {
    "duration": 3,
    "start_time": "2022-01-12T13:32:14.562Z"
   },
   {
    "duration": 136,
    "start_time": "2022-01-12T13:32:14.566Z"
   },
   {
    "duration": 9,
    "start_time": "2022-01-12T13:32:14.704Z"
   },
   {
    "duration": 147,
    "start_time": "2022-01-12T13:32:14.715Z"
   },
   {
    "duration": 130,
    "start_time": "2022-01-12T13:32:14.863Z"
   },
   {
    "duration": 4,
    "start_time": "2022-01-12T13:32:14.995Z"
   },
   {
    "duration": 55396,
    "start_time": "2022-01-12T13:32:15.001Z"
   },
   {
    "duration": 115,
    "start_time": "2022-01-12T13:33:10.399Z"
   },
   {
    "duration": 259,
    "start_time": "2022-01-12T13:33:10.515Z"
   },
   {
    "duration": 81,
    "start_time": "2022-01-12T13:33:10.776Z"
   },
   {
    "duration": 3,
    "start_time": "2022-01-12T13:33:10.858Z"
   },
   {
    "duration": 186,
    "start_time": "2022-01-12T13:33:10.862Z"
   },
   {
    "duration": 2,
    "start_time": "2022-01-12T13:33:11.050Z"
   },
   {
    "duration": 8,
    "start_time": "2022-01-12T13:33:11.053Z"
   },
   {
    "duration": 142,
    "start_time": "2022-01-12T13:54:18.489Z"
   },
   {
    "duration": 122,
    "start_time": "2022-01-12T13:54:18.511Z"
   },
   {
    "duration": 121,
    "start_time": "2022-01-12T13:54:18.514Z"
   },
   {
    "duration": 118,
    "start_time": "2022-01-12T13:54:18.518Z"
   },
   {
    "duration": 118,
    "start_time": "2022-01-12T13:54:18.520Z"
   },
   {
    "duration": 115,
    "start_time": "2022-01-12T13:54:18.524Z"
   },
   {
    "duration": 114,
    "start_time": "2022-01-12T13:54:18.527Z"
   },
   {
    "duration": 112,
    "start_time": "2022-01-12T13:54:18.530Z"
   },
   {
    "duration": 112,
    "start_time": "2022-01-12T13:54:18.532Z"
   },
   {
    "duration": 111,
    "start_time": "2022-01-12T13:54:18.535Z"
   },
   {
    "duration": 111,
    "start_time": "2022-01-12T13:54:18.537Z"
   },
   {
    "duration": 105,
    "start_time": "2022-01-12T13:54:18.546Z"
   },
   {
    "duration": 103,
    "start_time": "2022-01-12T13:54:18.550Z"
   },
   {
    "duration": 98,
    "start_time": "2022-01-12T13:54:18.557Z"
   },
   {
    "duration": 98,
    "start_time": "2022-01-12T13:54:18.560Z"
   },
   {
    "duration": 95,
    "start_time": "2022-01-12T13:54:18.564Z"
   },
   {
    "duration": 95,
    "start_time": "2022-01-12T13:54:18.566Z"
   },
   {
    "duration": 88,
    "start_time": "2022-01-12T13:54:18.574Z"
   },
   {
    "duration": 87,
    "start_time": "2022-01-12T13:54:18.577Z"
   },
   {
    "duration": 133,
    "start_time": "2022-01-12T13:54:18.579Z"
   },
   {
    "duration": 133,
    "start_time": "2022-01-12T13:54:18.581Z"
   },
   {
    "duration": 133,
    "start_time": "2022-01-12T13:54:18.583Z"
   },
   {
    "duration": 132,
    "start_time": "2022-01-12T13:54:18.585Z"
   },
   {
    "duration": 132,
    "start_time": "2022-01-12T13:54:18.587Z"
   },
   {
    "duration": 128,
    "start_time": "2022-01-12T13:54:18.592Z"
   },
   {
    "duration": 128,
    "start_time": "2022-01-12T13:54:18.594Z"
   },
   {
    "duration": 126,
    "start_time": "2022-01-12T13:54:18.597Z"
   },
   {
    "duration": 125,
    "start_time": "2022-01-12T13:54:18.599Z"
   },
   {
    "duration": 123,
    "start_time": "2022-01-12T13:54:18.601Z"
   },
   {
    "duration": 5,
    "start_time": "2022-01-12T13:54:49.269Z"
   },
   {
    "duration": 8,
    "start_time": "2022-01-12T13:54:49.276Z"
   },
   {
    "duration": 682,
    "start_time": "2022-01-12T13:54:49.286Z"
   },
   {
    "duration": 20,
    "start_time": "2022-01-12T13:54:49.970Z"
   },
   {
    "duration": 3,
    "start_time": "2022-01-12T13:54:49.991Z"
   },
   {
    "duration": 123,
    "start_time": "2022-01-12T13:54:49.996Z"
   },
   {
    "duration": 3,
    "start_time": "2022-01-12T13:54:50.121Z"
   },
   {
    "duration": 111,
    "start_time": "2022-01-12T13:54:50.126Z"
   },
   {
    "duration": 108,
    "start_time": "2022-01-12T13:54:50.240Z"
   },
   {
    "duration": 2,
    "start_time": "2022-01-12T13:54:50.350Z"
   },
   {
    "duration": 57271,
    "start_time": "2022-01-12T13:54:50.354Z"
   },
   {
    "duration": 113,
    "start_time": "2022-01-12T13:55:47.626Z"
   },
   {
    "duration": 262,
    "start_time": "2022-01-12T13:55:47.740Z"
   },
   {
    "duration": 37,
    "start_time": "2022-01-12T13:55:48.003Z"
   },
   {
    "duration": 2,
    "start_time": "2022-01-12T13:55:48.042Z"
   },
   {
    "duration": 158,
    "start_time": "2022-01-12T13:55:48.046Z"
   },
   {
    "duration": 2,
    "start_time": "2022-01-12T13:55:48.206Z"
   },
   {
    "duration": 6,
    "start_time": "2022-01-12T13:55:48.211Z"
   },
   {
    "duration": 4,
    "start_time": "2022-01-12T13:55:48.218Z"
   },
   {
    "duration": 4,
    "start_time": "2022-01-12T13:55:48.223Z"
   },
   {
    "duration": 171301,
    "start_time": "2022-01-12T13:55:48.228Z"
   },
   {
    "duration": 38690,
    "start_time": "2022-01-12T13:58:39.530Z"
   },
   {
    "duration": 33903,
    "start_time": "2022-01-12T13:59:18.222Z"
   },
   {
    "duration": 4,
    "start_time": "2022-01-12T13:59:52.127Z"
   },
   {
    "duration": 5,
    "start_time": "2022-01-12T13:59:52.213Z"
   },
   {
    "duration": 125,
    "start_time": "2022-01-12T13:59:52.220Z"
   },
   {
    "duration": 831,
    "start_time": "2022-01-12T13:59:52.348Z"
   },
   {
    "duration": 2443,
    "start_time": "2022-01-12T13:59:53.181Z"
   },
   {
    "duration": 183,
    "start_time": "2022-01-12T13:59:55.626Z"
   },
   {
    "duration": 31277,
    "start_time": "2022-01-12T14:01:26.212Z"
   },
   {
    "duration": 320,
    "start_time": "2022-01-12T14:24:30.195Z"
   },
   {
    "duration": 8,
    "start_time": "2022-01-12T14:26:08.710Z"
   },
   {
    "duration": 2024,
    "start_time": "2022-01-12T14:26:08.719Z"
   },
   {
    "duration": 654,
    "start_time": "2022-01-12T14:26:10.745Z"
   },
   {
    "duration": 25,
    "start_time": "2022-01-12T14:26:11.400Z"
   },
   {
    "duration": 3,
    "start_time": "2022-01-12T14:26:11.427Z"
   },
   {
    "duration": 118,
    "start_time": "2022-01-12T14:26:11.431Z"
   },
   {
    "duration": 4,
    "start_time": "2022-01-12T14:26:11.551Z"
   },
   {
    "duration": 124,
    "start_time": "2022-01-12T14:26:11.557Z"
   },
   {
    "duration": 106,
    "start_time": "2022-01-12T14:26:11.683Z"
   },
   {
    "duration": 2,
    "start_time": "2022-01-12T14:26:11.791Z"
   },
   {
    "duration": 56192,
    "start_time": "2022-01-12T14:26:11.794Z"
   },
   {
    "duration": 103,
    "start_time": "2022-01-12T14:27:07.987Z"
   },
   {
    "duration": 248,
    "start_time": "2022-01-12T14:27:08.092Z"
   },
   {
    "duration": 54,
    "start_time": "2022-01-12T14:27:08.342Z"
   },
   {
    "duration": 2,
    "start_time": "2022-01-12T14:27:08.397Z"
   },
   {
    "duration": 153,
    "start_time": "2022-01-12T14:27:08.400Z"
   },
   {
    "duration": 3,
    "start_time": "2022-01-12T14:27:08.555Z"
   },
   {
    "duration": 4,
    "start_time": "2022-01-12T14:27:08.560Z"
   },
   {
    "duration": 5,
    "start_time": "2022-01-12T14:27:08.566Z"
   },
   {
    "duration": 11,
    "start_time": "2022-01-12T14:27:08.572Z"
   },
   {
    "duration": 160341,
    "start_time": "2022-01-12T14:27:08.584Z"
   },
   {
    "duration": 10785,
    "start_time": "2022-01-12T14:29:48.927Z"
   },
   {
    "duration": 31503,
    "start_time": "2022-01-12T14:29:59.715Z"
   },
   {
    "duration": 3,
    "start_time": "2022-01-12T14:30:31.220Z"
   },
   {
    "duration": 221,
    "start_time": "2022-01-12T14:30:31.224Z"
   },
   {
    "duration": 3,
    "start_time": "2022-01-12T14:30:31.447Z"
   },
   {
    "duration": 68,
    "start_time": "2022-01-12T14:30:31.451Z"
   },
   {
    "duration": 695,
    "start_time": "2022-01-12T14:30:31.521Z"
   },
   {
    "duration": 1906,
    "start_time": "2022-01-12T14:30:32.218Z"
   },
   {
    "duration": 32700,
    "start_time": "2022-01-12T14:30:34.125Z"
   },
   {
    "duration": 72,
    "start_time": "2022-01-12T15:03:49.127Z"
   },
   {
    "duration": 11108,
    "start_time": "2022-01-12T15:03:57.519Z"
   },
   {
    "duration": 14,
    "start_time": "2022-01-13T06:37:12.631Z"
   },
   {
    "duration": 1607,
    "start_time": "2022-01-13T06:37:12.648Z"
   },
   {
    "duration": 1186,
    "start_time": "2022-01-13T06:37:14.258Z"
   },
   {
    "duration": 49,
    "start_time": "2022-01-13T06:37:15.447Z"
   },
   {
    "duration": 6,
    "start_time": "2022-01-13T06:37:15.499Z"
   },
   {
    "duration": 189,
    "start_time": "2022-01-13T06:37:15.508Z"
   },
   {
    "duration": 6,
    "start_time": "2022-01-13T06:37:15.699Z"
   },
   {
    "duration": 204,
    "start_time": "2022-01-13T06:37:15.709Z"
   },
   {
    "duration": 164,
    "start_time": "2022-01-13T06:37:15.916Z"
   },
   {
    "duration": 4,
    "start_time": "2022-01-13T06:37:16.082Z"
   },
   {
    "duration": 113150,
    "start_time": "2022-01-13T06:37:16.088Z"
   },
   {
    "duration": 154,
    "start_time": "2022-01-13T06:39:09.241Z"
   },
   {
    "duration": 382,
    "start_time": "2022-01-13T06:39:09.398Z"
   },
   {
    "duration": 100,
    "start_time": "2022-01-13T06:39:09.782Z"
   },
   {
    "duration": 4,
    "start_time": "2022-01-13T06:39:09.884Z"
   },
   {
    "duration": 343,
    "start_time": "2022-01-13T06:39:09.890Z"
   },
   {
    "duration": 3,
    "start_time": "2022-01-13T06:39:10.236Z"
   },
   {
    "duration": 8,
    "start_time": "2022-01-13T06:39:10.242Z"
   },
   {
    "duration": 14,
    "start_time": "2022-01-13T06:39:10.253Z"
   },
   {
    "duration": 6,
    "start_time": "2022-01-13T06:39:10.270Z"
   },
   {
    "duration": 302126,
    "start_time": "2022-01-13T06:39:10.278Z"
   },
   {
    "duration": 31771,
    "start_time": "2022-01-13T06:44:12.407Z"
   },
   {
    "duration": 53199,
    "start_time": "2022-01-13T06:44:44.183Z"
   },
   {
    "duration": 6,
    "start_time": "2022-01-13T06:45:37.468Z"
   },
   {
    "duration": 371,
    "start_time": "2022-01-13T06:45:37.477Z"
   },
   {
    "duration": 6,
    "start_time": "2022-01-13T06:45:37.851Z"
   },
   {
    "duration": 94,
    "start_time": "2022-01-13T06:45:37.860Z"
   },
   {
    "duration": 1601,
    "start_time": "2022-01-13T06:45:37.957Z"
   },
   {
    "duration": 3262,
    "start_time": "2022-01-13T06:45:39.561Z"
   },
   {
    "duration": 5777,
    "start_time": "2022-01-13T06:45:42.826Z"
   },
   {
    "duration": 584,
    "start_time": "2022-01-13T06:45:48.605Z"
   }
  ],
  "kernelspec": {
   "display_name": "Python 3 (ipykernel)",
   "language": "python",
   "name": "python3"
  },
  "language_info": {
   "codemirror_mode": {
    "name": "ipython",
    "version": 3
   },
   "file_extension": ".py",
   "mimetype": "text/x-python",
   "name": "python",
   "nbconvert_exporter": "python",
   "pygments_lexer": "ipython3",
   "version": "3.9.7"
  },
  "toc": {
   "base_numbering": 1,
   "nav_menu": {},
   "number_sections": true,
   "sideBar": true,
   "skip_h1_title": true,
   "title_cell": "Table of Contents",
   "title_sidebar": "Contents",
   "toc_cell": false,
   "toc_position": {},
   "toc_section_display": true,
   "toc_window_display": false
  }
 },
 "nbformat": 4,
 "nbformat_minor": 2
}
