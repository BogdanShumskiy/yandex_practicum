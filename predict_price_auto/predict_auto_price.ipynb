{
 "cells": [
  {
   "cell_type": "markdown",
   "metadata": {},
   "source": [
    "\n",
    "# ML-модель для опредения рыночной цены автомобиля\n"
   ]
  },
  {
   "cell_type": "markdown",
   "metadata": {},
   "source": [
    "---\n",
    "## Введение\n"
   ]
  },
  {
   "cell_type": "markdown",
   "metadata": {},
   "source": [
    "Сервис по продаже автомобилей с пробегом «Не бит, не крашен» разрабатывает приложение для привлечения новых клиентов. В нём можно быстро узнать рыночную стоимость своего автомобиля. В нашем распоряжении исторические данные: технические характеристики, комплектации и цены автомобилей. \n",
    "\n",
    "**Цель исследования:** нужно построить модель для определения стоимости автомобиля.  \n",
    "\n",
    "*Заказчику важны*:  \n",
    "* качество предсказания;\n",
    "* скорость предсказания;\n",
    "* время обучения.\n",
    "\n",
    "**Признаки:**\n",
    "* `DateCrawled` — дата скачивания анкеты из базы\n",
    "* `VehicleType` — тип автомобильного кузова\n",
    "* `RegistrationYear` — год регистрации автомобиля\n",
    "* `Gearbox` — тип коробки передач\n",
    "* `Power` — мощность (л. с.)\n",
    "* `Model` — модель автомобиля\n",
    "* `Kilometer` — пробег (км)\n",
    "* `RegistrationMonth` — месяц регистрации автомобиля\n",
    "* `FuelType` — тип топлива\n",
    "* `Brand` — марка автомобиля\n",
    "* `NotRepaired` — была машина в ремонте или нет\n",
    "* `DateCreated` — дата создания анкеты\n",
    "* `NumberOfPictures` — количество фотографий автомобиля\n",
    "* `PostalCode` — почтовый индекс владельца анкеты (пользователя)\n",
    "* `LastSeen` — дата последней активности пользователя  \n",
    "\n",
    "**Целевой признак**\n",
    "`Price` — цена (евро)"
   ]
  },
  {
   "cell_type": "markdown",
   "metadata": {},
   "source": [
    "## Подготовка данных"
   ]
  },
  {
   "cell_type": "markdown",
   "metadata": {},
   "source": [
    "### Первичное ознакомление"
   ]
  },
  {
   "cell_type": "code",
   "execution_count": 1,
   "metadata": {},
   "outputs": [],
   "source": [
    "# Перед началом работы импортируем необходимые библиотеки:\n",
    "import pandas as pd\n",
    "import matplotlib.pyplot as plt\n",
    "import seaborn as sns\n",
    "#import sweetviz as sv\n",
    "from sklearn.tree import DecisionTreeRegressor\n",
    "from sklearn.ensemble import RandomForestRegressor\n",
    "from sklearn.linear_model import LogisticRegression\n",
    "from sklearn.linear_model import LinearRegression\n",
    "from sklearn.model_selection import train_test_split\n",
    "from sklearn.metrics import mean_squared_error\n",
    "from sklearn.metrics import f1_score\n",
    "from sklearn.preprocessing import StandardScaler\n",
    "from sklearn.preprocessing import MinMaxScaler\n",
    "from sklearn.utils import shuffle\n",
    "from sklearn.model_selection import GridSearchCV\n",
    "from catboost import CatBoostRegressor\n",
    "from lightgbm import LGBMRegressor\n",
    "from sklearn.linear_model import LinearRegression\n",
    "from sklearn.preprocessing import OneHotEncoder"
   ]
  },
  {
   "cell_type": "code",
   "execution_count": 2,
   "metadata": {},
   "outputs": [],
   "source": [
    "# Отключаем предупреждения \"Анаконды\":\n",
    "import warnings \n",
    "warnings.filterwarnings('ignore')\n",
    "get_ipython().run_line_magic('config', \"InlineBackend.figure_format = 'svg'\")\n",
    "\n",
    "# Увеличим дефолтный размер графиков:\n",
    "from pylab import rcParams\n",
    "rcParams['figure.figsize'] = 10,5\n",
    "\n",
    "\n",
    "# Пропишем путь к датасету:\n",
    "try:\n",
    "    df = pd.read_csv('/datasets/autos.csv')\n",
    "except:\n",
    "    df = pd.read_csv('autos.csv')"
   ]
  },
  {
   "cell_type": "code",
   "execution_count": 3,
   "metadata": {},
   "outputs": [
    {
     "data": {
      "text/html": [
       "<div>\n",
       "<style scoped>\n",
       "    .dataframe tbody tr th:only-of-type {\n",
       "        vertical-align: middle;\n",
       "    }\n",
       "\n",
       "    .dataframe tbody tr th {\n",
       "        vertical-align: top;\n",
       "    }\n",
       "\n",
       "    .dataframe thead th {\n",
       "        text-align: right;\n",
       "    }\n",
       "</style>\n",
       "<table border=\"1\" class=\"dataframe\">\n",
       "  <thead>\n",
       "    <tr style=\"text-align: right;\">\n",
       "      <th></th>\n",
       "      <th>DateCrawled</th>\n",
       "      <th>Price</th>\n",
       "      <th>VehicleType</th>\n",
       "      <th>RegistrationYear</th>\n",
       "      <th>Gearbox</th>\n",
       "      <th>Power</th>\n",
       "      <th>Model</th>\n",
       "      <th>Kilometer</th>\n",
       "      <th>RegistrationMonth</th>\n",
       "      <th>FuelType</th>\n",
       "      <th>Brand</th>\n",
       "      <th>NotRepaired</th>\n",
       "      <th>DateCreated</th>\n",
       "      <th>NumberOfPictures</th>\n",
       "      <th>PostalCode</th>\n",
       "      <th>LastSeen</th>\n",
       "    </tr>\n",
       "  </thead>\n",
       "  <tbody>\n",
       "    <tr>\n",
       "      <th>0</th>\n",
       "      <td>2016-03-24 11:52:17</td>\n",
       "      <td>480</td>\n",
       "      <td>NaN</td>\n",
       "      <td>1993</td>\n",
       "      <td>manual</td>\n",
       "      <td>0</td>\n",
       "      <td>golf</td>\n",
       "      <td>150000</td>\n",
       "      <td>0</td>\n",
       "      <td>petrol</td>\n",
       "      <td>volkswagen</td>\n",
       "      <td>NaN</td>\n",
       "      <td>2016-03-24 00:00:00</td>\n",
       "      <td>0</td>\n",
       "      <td>70435</td>\n",
       "      <td>2016-04-07 03:16:57</td>\n",
       "    </tr>\n",
       "    <tr>\n",
       "      <th>1</th>\n",
       "      <td>2016-03-24 10:58:45</td>\n",
       "      <td>18300</td>\n",
       "      <td>coupe</td>\n",
       "      <td>2011</td>\n",
       "      <td>manual</td>\n",
       "      <td>190</td>\n",
       "      <td>NaN</td>\n",
       "      <td>125000</td>\n",
       "      <td>5</td>\n",
       "      <td>gasoline</td>\n",
       "      <td>audi</td>\n",
       "      <td>yes</td>\n",
       "      <td>2016-03-24 00:00:00</td>\n",
       "      <td>0</td>\n",
       "      <td>66954</td>\n",
       "      <td>2016-04-07 01:46:50</td>\n",
       "    </tr>\n",
       "    <tr>\n",
       "      <th>2</th>\n",
       "      <td>2016-03-14 12:52:21</td>\n",
       "      <td>9800</td>\n",
       "      <td>suv</td>\n",
       "      <td>2004</td>\n",
       "      <td>auto</td>\n",
       "      <td>163</td>\n",
       "      <td>grand</td>\n",
       "      <td>125000</td>\n",
       "      <td>8</td>\n",
       "      <td>gasoline</td>\n",
       "      <td>jeep</td>\n",
       "      <td>NaN</td>\n",
       "      <td>2016-03-14 00:00:00</td>\n",
       "      <td>0</td>\n",
       "      <td>90480</td>\n",
       "      <td>2016-04-05 12:47:46</td>\n",
       "    </tr>\n",
       "    <tr>\n",
       "      <th>3</th>\n",
       "      <td>2016-03-17 16:54:04</td>\n",
       "      <td>1500</td>\n",
       "      <td>small</td>\n",
       "      <td>2001</td>\n",
       "      <td>manual</td>\n",
       "      <td>75</td>\n",
       "      <td>golf</td>\n",
       "      <td>150000</td>\n",
       "      <td>6</td>\n",
       "      <td>petrol</td>\n",
       "      <td>volkswagen</td>\n",
       "      <td>no</td>\n",
       "      <td>2016-03-17 00:00:00</td>\n",
       "      <td>0</td>\n",
       "      <td>91074</td>\n",
       "      <td>2016-03-17 17:40:17</td>\n",
       "    </tr>\n",
       "    <tr>\n",
       "      <th>4</th>\n",
       "      <td>2016-03-31 17:25:20</td>\n",
       "      <td>3600</td>\n",
       "      <td>small</td>\n",
       "      <td>2008</td>\n",
       "      <td>manual</td>\n",
       "      <td>69</td>\n",
       "      <td>fabia</td>\n",
       "      <td>90000</td>\n",
       "      <td>7</td>\n",
       "      <td>gasoline</td>\n",
       "      <td>skoda</td>\n",
       "      <td>no</td>\n",
       "      <td>2016-03-31 00:00:00</td>\n",
       "      <td>0</td>\n",
       "      <td>60437</td>\n",
       "      <td>2016-04-06 10:17:21</td>\n",
       "    </tr>\n",
       "  </tbody>\n",
       "</table>\n",
       "</div>"
      ],
      "text/plain": [
       "           DateCrawled  Price VehicleType  RegistrationYear Gearbox  Power  \\\n",
       "0  2016-03-24 11:52:17    480         NaN              1993  manual      0   \n",
       "1  2016-03-24 10:58:45  18300       coupe              2011  manual    190   \n",
       "2  2016-03-14 12:52:21   9800         suv              2004    auto    163   \n",
       "3  2016-03-17 16:54:04   1500       small              2001  manual     75   \n",
       "4  2016-03-31 17:25:20   3600       small              2008  manual     69   \n",
       "\n",
       "   Model  Kilometer  RegistrationMonth  FuelType       Brand NotRepaired  \\\n",
       "0   golf     150000                  0    petrol  volkswagen         NaN   \n",
       "1    NaN     125000                  5  gasoline        audi         yes   \n",
       "2  grand     125000                  8  gasoline        jeep         NaN   \n",
       "3   golf     150000                  6    petrol  volkswagen          no   \n",
       "4  fabia      90000                  7  gasoline       skoda          no   \n",
       "\n",
       "           DateCreated  NumberOfPictures  PostalCode             LastSeen  \n",
       "0  2016-03-24 00:00:00                 0       70435  2016-04-07 03:16:57  \n",
       "1  2016-03-24 00:00:00                 0       66954  2016-04-07 01:46:50  \n",
       "2  2016-03-14 00:00:00                 0       90480  2016-04-05 12:47:46  \n",
       "3  2016-03-17 00:00:00                 0       91074  2016-03-17 17:40:17  \n",
       "4  2016-03-31 00:00:00                 0       60437  2016-04-06 10:17:21  "
      ]
     },
     "metadata": {},
     "output_type": "display_data"
    },
    {
     "data": {
      "text/html": [
       "<div>\n",
       "<style scoped>\n",
       "    .dataframe tbody tr th:only-of-type {\n",
       "        vertical-align: middle;\n",
       "    }\n",
       "\n",
       "    .dataframe tbody tr th {\n",
       "        vertical-align: top;\n",
       "    }\n",
       "\n",
       "    .dataframe thead th {\n",
       "        text-align: right;\n",
       "    }\n",
       "</style>\n",
       "<table border=\"1\" class=\"dataframe\">\n",
       "  <thead>\n",
       "    <tr style=\"text-align: right;\">\n",
       "      <th></th>\n",
       "      <th>DateCrawled</th>\n",
       "      <th>Price</th>\n",
       "      <th>VehicleType</th>\n",
       "      <th>RegistrationYear</th>\n",
       "      <th>Gearbox</th>\n",
       "      <th>Power</th>\n",
       "      <th>Model</th>\n",
       "      <th>Kilometer</th>\n",
       "      <th>RegistrationMonth</th>\n",
       "      <th>FuelType</th>\n",
       "      <th>Brand</th>\n",
       "      <th>NotRepaired</th>\n",
       "      <th>DateCreated</th>\n",
       "      <th>NumberOfPictures</th>\n",
       "      <th>PostalCode</th>\n",
       "      <th>LastSeen</th>\n",
       "    </tr>\n",
       "  </thead>\n",
       "  <tbody>\n",
       "    <tr>\n",
       "      <th>354364</th>\n",
       "      <td>2016-03-21 09:50:58</td>\n",
       "      <td>0</td>\n",
       "      <td>NaN</td>\n",
       "      <td>2005</td>\n",
       "      <td>manual</td>\n",
       "      <td>0</td>\n",
       "      <td>colt</td>\n",
       "      <td>150000</td>\n",
       "      <td>7</td>\n",
       "      <td>petrol</td>\n",
       "      <td>mitsubishi</td>\n",
       "      <td>yes</td>\n",
       "      <td>2016-03-21 00:00:00</td>\n",
       "      <td>0</td>\n",
       "      <td>2694</td>\n",
       "      <td>2016-03-21 10:42:49</td>\n",
       "    </tr>\n",
       "    <tr>\n",
       "      <th>354365</th>\n",
       "      <td>2016-03-14 17:48:27</td>\n",
       "      <td>2200</td>\n",
       "      <td>NaN</td>\n",
       "      <td>2005</td>\n",
       "      <td>NaN</td>\n",
       "      <td>0</td>\n",
       "      <td>NaN</td>\n",
       "      <td>20000</td>\n",
       "      <td>1</td>\n",
       "      <td>NaN</td>\n",
       "      <td>sonstige_autos</td>\n",
       "      <td>NaN</td>\n",
       "      <td>2016-03-14 00:00:00</td>\n",
       "      <td>0</td>\n",
       "      <td>39576</td>\n",
       "      <td>2016-04-06 00:46:52</td>\n",
       "    </tr>\n",
       "    <tr>\n",
       "      <th>354366</th>\n",
       "      <td>2016-03-05 19:56:21</td>\n",
       "      <td>1199</td>\n",
       "      <td>convertible</td>\n",
       "      <td>2000</td>\n",
       "      <td>auto</td>\n",
       "      <td>101</td>\n",
       "      <td>fortwo</td>\n",
       "      <td>125000</td>\n",
       "      <td>3</td>\n",
       "      <td>petrol</td>\n",
       "      <td>smart</td>\n",
       "      <td>no</td>\n",
       "      <td>2016-03-05 00:00:00</td>\n",
       "      <td>0</td>\n",
       "      <td>26135</td>\n",
       "      <td>2016-03-11 18:17:12</td>\n",
       "    </tr>\n",
       "    <tr>\n",
       "      <th>354367</th>\n",
       "      <td>2016-03-19 18:57:12</td>\n",
       "      <td>9200</td>\n",
       "      <td>bus</td>\n",
       "      <td>1996</td>\n",
       "      <td>manual</td>\n",
       "      <td>102</td>\n",
       "      <td>transporter</td>\n",
       "      <td>150000</td>\n",
       "      <td>3</td>\n",
       "      <td>gasoline</td>\n",
       "      <td>volkswagen</td>\n",
       "      <td>no</td>\n",
       "      <td>2016-03-19 00:00:00</td>\n",
       "      <td>0</td>\n",
       "      <td>87439</td>\n",
       "      <td>2016-04-07 07:15:26</td>\n",
       "    </tr>\n",
       "    <tr>\n",
       "      <th>354368</th>\n",
       "      <td>2016-03-20 19:41:08</td>\n",
       "      <td>3400</td>\n",
       "      <td>wagon</td>\n",
       "      <td>2002</td>\n",
       "      <td>manual</td>\n",
       "      <td>100</td>\n",
       "      <td>golf</td>\n",
       "      <td>150000</td>\n",
       "      <td>6</td>\n",
       "      <td>gasoline</td>\n",
       "      <td>volkswagen</td>\n",
       "      <td>NaN</td>\n",
       "      <td>2016-03-20 00:00:00</td>\n",
       "      <td>0</td>\n",
       "      <td>40764</td>\n",
       "      <td>2016-03-24 12:45:21</td>\n",
       "    </tr>\n",
       "  </tbody>\n",
       "</table>\n",
       "</div>"
      ],
      "text/plain": [
       "                DateCrawled  Price  VehicleType  RegistrationYear Gearbox  \\\n",
       "354364  2016-03-21 09:50:58      0          NaN              2005  manual   \n",
       "354365  2016-03-14 17:48:27   2200          NaN              2005     NaN   \n",
       "354366  2016-03-05 19:56:21   1199  convertible              2000    auto   \n",
       "354367  2016-03-19 18:57:12   9200          bus              1996  manual   \n",
       "354368  2016-03-20 19:41:08   3400        wagon              2002  manual   \n",
       "\n",
       "        Power        Model  Kilometer  RegistrationMonth  FuelType  \\\n",
       "354364      0         colt     150000                  7    petrol   \n",
       "354365      0          NaN      20000                  1       NaN   \n",
       "354366    101       fortwo     125000                  3    petrol   \n",
       "354367    102  transporter     150000                  3  gasoline   \n",
       "354368    100         golf     150000                  6  gasoline   \n",
       "\n",
       "                 Brand NotRepaired          DateCreated  NumberOfPictures  \\\n",
       "354364      mitsubishi         yes  2016-03-21 00:00:00                 0   \n",
       "354365  sonstige_autos         NaN  2016-03-14 00:00:00                 0   \n",
       "354366           smart          no  2016-03-05 00:00:00                 0   \n",
       "354367      volkswagen          no  2016-03-19 00:00:00                 0   \n",
       "354368      volkswagen         NaN  2016-03-20 00:00:00                 0   \n",
       "\n",
       "        PostalCode             LastSeen  \n",
       "354364        2694  2016-03-21 10:42:49  \n",
       "354365       39576  2016-04-06 00:46:52  \n",
       "354366       26135  2016-03-11 18:17:12  \n",
       "354367       87439  2016-04-07 07:15:26  \n",
       "354368       40764  2016-03-24 12:45:21  "
      ]
     },
     "metadata": {},
     "output_type": "display_data"
    }
   ],
   "source": [
    "# Посмотрим на данные с \"головы\" и с \"хвоста\"\n",
    "display(df.head(),df.tail())"
   ]
  },
  {
   "cell_type": "code",
   "execution_count": 4,
   "metadata": {},
   "outputs": [
    {
     "data": {
      "text/plain": [
       "(354369, 16)"
      ]
     },
     "execution_count": 4,
     "metadata": {},
     "output_type": "execute_result"
    }
   ],
   "source": [
    "df.shape"
   ]
  },
  {
   "cell_type": "code",
   "execution_count": 5,
   "metadata": {},
   "outputs": [
    {
     "name": "stdout",
     "output_type": "stream",
     "text": [
      "<class 'pandas.core.frame.DataFrame'>\n",
      "RangeIndex: 354369 entries, 0 to 354368\n",
      "Data columns (total 16 columns):\n",
      " #   Column             Non-Null Count   Dtype \n",
      "---  ------             --------------   ----- \n",
      " 0   DateCrawled        354369 non-null  object\n",
      " 1   Price              354369 non-null  int64 \n",
      " 2   VehicleType        316879 non-null  object\n",
      " 3   RegistrationYear   354369 non-null  int64 \n",
      " 4   Gearbox            334536 non-null  object\n",
      " 5   Power              354369 non-null  int64 \n",
      " 6   Model              334664 non-null  object\n",
      " 7   Kilometer          354369 non-null  int64 \n",
      " 8   RegistrationMonth  354369 non-null  int64 \n",
      " 9   FuelType           321474 non-null  object\n",
      " 10  Brand              354369 non-null  object\n",
      " 11  NotRepaired        283215 non-null  object\n",
      " 12  DateCreated        354369 non-null  object\n",
      " 13  NumberOfPictures   354369 non-null  int64 \n",
      " 14  PostalCode         354369 non-null  int64 \n",
      " 15  LastSeen           354369 non-null  object\n",
      "dtypes: int64(7), object(9)\n",
      "memory usage: 43.3+ MB\n"
     ]
    }
   ],
   "source": [
    "df.info()"
   ]
  },
  {
   "cell_type": "code",
   "execution_count": 6,
   "metadata": {},
   "outputs": [
    {
     "data": {
      "text/plain": [
       "Index(['datecrawled', 'price', 'vehicletype', 'registrationyear', 'gearbox',\n",
       "       'power', 'model', 'kilometer', 'registrationmonth', 'fueltype', 'brand',\n",
       "       'notrepaired', 'datecreated', 'numberofpictures', 'postalcode',\n",
       "       'lastseen'],\n",
       "      dtype='object')"
      ]
     },
     "execution_count": 6,
     "metadata": {},
     "output_type": "execute_result"
    }
   ],
   "source": [
    "df.columns = df.columns.str.lower()\n",
    "df.columns"
   ]
  },
  {
   "cell_type": "code",
   "execution_count": 7,
   "metadata": {
    "scrolled": true
   },
   "outputs": [
    {
     "data": {
      "text/html": [
       "<div>\n",
       "<style scoped>\n",
       "    .dataframe tbody tr th:only-of-type {\n",
       "        vertical-align: middle;\n",
       "    }\n",
       "\n",
       "    .dataframe tbody tr th {\n",
       "        vertical-align: top;\n",
       "    }\n",
       "\n",
       "    .dataframe thead th {\n",
       "        text-align: right;\n",
       "    }\n",
       "</style>\n",
       "<table border=\"1\" class=\"dataframe\">\n",
       "  <thead>\n",
       "    <tr style=\"text-align: right;\">\n",
       "      <th></th>\n",
       "      <th>date_crawled</th>\n",
       "      <th>price</th>\n",
       "      <th>vehicle_type</th>\n",
       "      <th>registration_year</th>\n",
       "      <th>gearbox</th>\n",
       "      <th>power</th>\n",
       "      <th>model</th>\n",
       "      <th>kilometer</th>\n",
       "      <th>registration_month</th>\n",
       "      <th>fuel_type</th>\n",
       "      <th>brand</th>\n",
       "      <th>not_repaired</th>\n",
       "      <th>date_created</th>\n",
       "      <th>number_of_pictures</th>\n",
       "      <th>postal_code</th>\n",
       "      <th>last_seen</th>\n",
       "    </tr>\n",
       "  </thead>\n",
       "  <tbody>\n",
       "    <tr>\n",
       "      <th>0</th>\n",
       "      <td>2016-03-24 11:52:17</td>\n",
       "      <td>480</td>\n",
       "      <td>NaN</td>\n",
       "      <td>1993</td>\n",
       "      <td>manual</td>\n",
       "      <td>0</td>\n",
       "      <td>golf</td>\n",
       "      <td>150000</td>\n",
       "      <td>0</td>\n",
       "      <td>petrol</td>\n",
       "      <td>volkswagen</td>\n",
       "      <td>NaN</td>\n",
       "      <td>2016-03-24 00:00:00</td>\n",
       "      <td>0</td>\n",
       "      <td>70435</td>\n",
       "      <td>2016-04-07 03:16:57</td>\n",
       "    </tr>\n",
       "    <tr>\n",
       "      <th>1</th>\n",
       "      <td>2016-03-24 10:58:45</td>\n",
       "      <td>18300</td>\n",
       "      <td>coupe</td>\n",
       "      <td>2011</td>\n",
       "      <td>manual</td>\n",
       "      <td>190</td>\n",
       "      <td>NaN</td>\n",
       "      <td>125000</td>\n",
       "      <td>5</td>\n",
       "      <td>gasoline</td>\n",
       "      <td>audi</td>\n",
       "      <td>yes</td>\n",
       "      <td>2016-03-24 00:00:00</td>\n",
       "      <td>0</td>\n",
       "      <td>66954</td>\n",
       "      <td>2016-04-07 01:46:50</td>\n",
       "    </tr>\n",
       "    <tr>\n",
       "      <th>2</th>\n",
       "      <td>2016-03-14 12:52:21</td>\n",
       "      <td>9800</td>\n",
       "      <td>suv</td>\n",
       "      <td>2004</td>\n",
       "      <td>auto</td>\n",
       "      <td>163</td>\n",
       "      <td>grand</td>\n",
       "      <td>125000</td>\n",
       "      <td>8</td>\n",
       "      <td>gasoline</td>\n",
       "      <td>jeep</td>\n",
       "      <td>NaN</td>\n",
       "      <td>2016-03-14 00:00:00</td>\n",
       "      <td>0</td>\n",
       "      <td>90480</td>\n",
       "      <td>2016-04-05 12:47:46</td>\n",
       "    </tr>\n",
       "    <tr>\n",
       "      <th>3</th>\n",
       "      <td>2016-03-17 16:54:04</td>\n",
       "      <td>1500</td>\n",
       "      <td>small</td>\n",
       "      <td>2001</td>\n",
       "      <td>manual</td>\n",
       "      <td>75</td>\n",
       "      <td>golf</td>\n",
       "      <td>150000</td>\n",
       "      <td>6</td>\n",
       "      <td>petrol</td>\n",
       "      <td>volkswagen</td>\n",
       "      <td>no</td>\n",
       "      <td>2016-03-17 00:00:00</td>\n",
       "      <td>0</td>\n",
       "      <td>91074</td>\n",
       "      <td>2016-03-17 17:40:17</td>\n",
       "    </tr>\n",
       "    <tr>\n",
       "      <th>4</th>\n",
       "      <td>2016-03-31 17:25:20</td>\n",
       "      <td>3600</td>\n",
       "      <td>small</td>\n",
       "      <td>2008</td>\n",
       "      <td>manual</td>\n",
       "      <td>69</td>\n",
       "      <td>fabia</td>\n",
       "      <td>90000</td>\n",
       "      <td>7</td>\n",
       "      <td>gasoline</td>\n",
       "      <td>skoda</td>\n",
       "      <td>no</td>\n",
       "      <td>2016-03-31 00:00:00</td>\n",
       "      <td>0</td>\n",
       "      <td>60437</td>\n",
       "      <td>2016-04-06 10:17:21</td>\n",
       "    </tr>\n",
       "  </tbody>\n",
       "</table>\n",
       "</div>"
      ],
      "text/plain": [
       "          date_crawled  price vehicle_type  registration_year gearbox  power  \\\n",
       "0  2016-03-24 11:52:17    480          NaN               1993  manual      0   \n",
       "1  2016-03-24 10:58:45  18300        coupe               2011  manual    190   \n",
       "2  2016-03-14 12:52:21   9800          suv               2004    auto    163   \n",
       "3  2016-03-17 16:54:04   1500        small               2001  manual     75   \n",
       "4  2016-03-31 17:25:20   3600        small               2008  manual     69   \n",
       "\n",
       "   model  kilometer  registration_month fuel_type       brand not_repaired  \\\n",
       "0   golf     150000                   0    petrol  volkswagen          NaN   \n",
       "1    NaN     125000                   5  gasoline        audi          yes   \n",
       "2  grand     125000                   8  gasoline        jeep          NaN   \n",
       "3   golf     150000                   6    petrol  volkswagen           no   \n",
       "4  fabia      90000                   7  gasoline       skoda           no   \n",
       "\n",
       "          date_created  number_of_pictures  postal_code            last_seen  \n",
       "0  2016-03-24 00:00:00                   0        70435  2016-04-07 03:16:57  \n",
       "1  2016-03-24 00:00:00                   0        66954  2016-04-07 01:46:50  \n",
       "2  2016-03-14 00:00:00                   0        90480  2016-04-05 12:47:46  \n",
       "3  2016-03-17 00:00:00                   0        91074  2016-03-17 17:40:17  \n",
       "4  2016-03-31 00:00:00                   0        60437  2016-04-06 10:17:21  "
      ]
     },
     "execution_count": 7,
     "metadata": {},
     "output_type": "execute_result"
    }
   ],
   "source": [
    "# методом rename() приведем названия столбцов к более удобному виду, разделенных нижней чертой: \n",
    "df = df.rename(\n",
    "    columns={\n",
    "        'datecrawled': 'date_crawled',\n",
    "        'vehicletype' : 'vehicle_type',\n",
    "        'registrationyear' : 'registration_year',\n",
    "        'registrationmonth' : 'registration_month',\n",
    "        'fueltype' : 'fuel_type',\n",
    "        'notrepaired' : 'not_repaired', \n",
    "        'datecreated' : 'date_created',\n",
    "        'numberofpictures' : 'number_of_pictures',\n",
    "        'postalcode' : 'postal_code',\n",
    "        'lastseen' : 'last_seen'        \n",
    "   }\n",
    ")\n",
    "#проверим обновления:\n",
    "df.head()"
   ]
  },
  {
   "cell_type": "markdown",
   "metadata": {},
   "source": [
    "### Обработка пропусков"
   ]
  },
  {
   "cell_type": "code",
   "execution_count": 8,
   "metadata": {},
   "outputs": [
    {
     "data": {
      "text/plain": [
       "date_crawled              0\n",
       "price                     0\n",
       "vehicle_type          37490\n",
       "registration_year         0\n",
       "gearbox               19833\n",
       "power                     0\n",
       "model                 19705\n",
       "kilometer                 0\n",
       "registration_month        0\n",
       "fuel_type             32895\n",
       "brand                     0\n",
       "not_repaired          71154\n",
       "date_created              0\n",
       "number_of_pictures        0\n",
       "postal_code               0\n",
       "last_seen                 0\n",
       "dtype: int64"
      ]
     },
     "execution_count": 8,
     "metadata": {},
     "output_type": "execute_result"
    }
   ],
   "source": [
    "# Получим сведения о пропусках:\n",
    "df.isna().sum()"
   ]
  },
  {
   "cell_type": "markdown",
   "metadata": {},
   "source": [
    "Пропуски содержатся в столбцах с категориальными значениями - тип кузова, тип коробки передач, название модели, вид топлива, а также сведения о проведенном ремонте. Данные пропуски нельзя заменить на медианное или среднее значение. Однако, мы можем их заменить на значение моды, т.е. на самое распространённое. Для этого созданим небольшую функцию."
   ]
  },
  {
   "cell_type": "code",
   "execution_count": 9,
   "metadata": {},
   "outputs": [],
   "source": [
    "def popular(x):\n",
    "    mode = x.mode()\n",
    "    if len(mode) > 0:\n",
    "        return mode[0]"
   ]
  },
  {
   "cell_type": "code",
   "execution_count": 10,
   "metadata": {},
   "outputs": [],
   "source": [
    "# Сгруппируем датасет по столбцам бренда и цены:\n",
    "gb = df.groupby(['brand', 'price'])\n",
    "\n",
    "# Теперь заполним пропуски на полулярное значение методом transform(): \n",
    "df['model'] = df['model'].fillna(gb['model'].transform(popular))\n",
    "df['vehicle_type'] = df['vehicle_type'].fillna(gb['vehicle_type'].transform(popular))\n",
    "df['gearbox'] = df['gearbox'].fillna(gb['gearbox'].transform(popular))\n",
    "df['fuel_type'] = df['fuel_type'].fillna(gb['fuel_type'].transform(popular))\n",
    "df['not_repaired'] = df['not_repaired'].fillna(gb['not_repaired'].transform(popular))"
   ]
  },
  {
   "cell_type": "code",
   "execution_count": 11,
   "metadata": {},
   "outputs": [
    {
     "data": {
      "text/plain": [
       "date_crawled             0\n",
       "price                    0\n",
       "vehicle_type           938\n",
       "registration_year        0\n",
       "gearbox                712\n",
       "power                    0\n",
       "model                 3720\n",
       "kilometer                0\n",
       "registration_month       0\n",
       "fuel_type              862\n",
       "brand                    0\n",
       "not_repaired          2050\n",
       "date_created             0\n",
       "number_of_pictures       0\n",
       "postal_code              0\n",
       "last_seen                0\n",
       "dtype: int64"
      ]
     },
     "execution_count": 11,
     "metadata": {},
     "output_type": "execute_result"
    }
   ],
   "source": [
    "df.isna().sum()"
   ]
  },
  {
   "cell_type": "markdown",
   "metadata": {},
   "source": [
    "В столбцах остались пропуски, которые не получилось сгруппировать на ценам. В то же время, их количество некретично, поэтому можем их удалить методом dropna()"
   ]
  },
  {
   "cell_type": "code",
   "execution_count": 12,
   "metadata": {},
   "outputs": [
    {
     "data": {
      "text/plain": [
       "date_crawled          0\n",
       "price                 0\n",
       "vehicle_type          0\n",
       "registration_year     0\n",
       "gearbox               0\n",
       "power                 0\n",
       "model                 0\n",
       "kilometer             0\n",
       "registration_month    0\n",
       "fuel_type             0\n",
       "brand                 0\n",
       "not_repaired          0\n",
       "date_created          0\n",
       "number_of_pictures    0\n",
       "postal_code           0\n",
       "last_seen             0\n",
       "dtype: int64"
      ]
     },
     "execution_count": 12,
     "metadata": {},
     "output_type": "execute_result"
    }
   ],
   "source": [
    "#методом dropna() удалим сторочки с пропусками\n",
    "df.dropna(inplace=True)\n",
    "\n",
    "#Посмотрим еще раз, все ли пропуски удалены:\n",
    "df.isna().sum()"
   ]
  },
  {
   "cell_type": "markdown",
   "metadata": {},
   "source": [
    "### Подготовка признаков"
   ]
  },
  {
   "cell_type": "markdown",
   "metadata": {},
   "source": [
    "Перед началом обучения необходимо подготовить признаки (информация по опреденному параметру, т.е. в стобце). Как можно увидеть, в таблице присутствуют несколько столбцов с числовыми данными, которые для обучения нам не понадобяться."
   ]
  },
  {
   "cell_type": "code",
   "execution_count": 13,
   "metadata": {},
   "outputs": [
    {
     "data": {
      "text/html": [
       "<div>\n",
       "<style scoped>\n",
       "    .dataframe tbody tr th:only-of-type {\n",
       "        vertical-align: middle;\n",
       "    }\n",
       "\n",
       "    .dataframe tbody tr th {\n",
       "        vertical-align: top;\n",
       "    }\n",
       "\n",
       "    .dataframe thead th {\n",
       "        text-align: right;\n",
       "    }\n",
       "</style>\n",
       "<table border=\"1\" class=\"dataframe\">\n",
       "  <thead>\n",
       "    <tr style=\"text-align: right;\">\n",
       "      <th></th>\n",
       "      <th>price</th>\n",
       "      <th>vehicle_type</th>\n",
       "      <th>registration_year</th>\n",
       "      <th>gearbox</th>\n",
       "      <th>power</th>\n",
       "      <th>model</th>\n",
       "      <th>kilometer</th>\n",
       "      <th>fuel_type</th>\n",
       "      <th>brand</th>\n",
       "      <th>not_repaired</th>\n",
       "    </tr>\n",
       "  </thead>\n",
       "  <tbody>\n",
       "    <tr>\n",
       "      <th>0</th>\n",
       "      <td>480</td>\n",
       "      <td>small</td>\n",
       "      <td>1993</td>\n",
       "      <td>manual</td>\n",
       "      <td>0</td>\n",
       "      <td>golf</td>\n",
       "      <td>150000</td>\n",
       "      <td>petrol</td>\n",
       "      <td>volkswagen</td>\n",
       "      <td>no</td>\n",
       "    </tr>\n",
       "    <tr>\n",
       "      <th>1</th>\n",
       "      <td>18300</td>\n",
       "      <td>coupe</td>\n",
       "      <td>2011</td>\n",
       "      <td>manual</td>\n",
       "      <td>190</td>\n",
       "      <td>a6</td>\n",
       "      <td>125000</td>\n",
       "      <td>gasoline</td>\n",
       "      <td>audi</td>\n",
       "      <td>yes</td>\n",
       "    </tr>\n",
       "    <tr>\n",
       "      <th>3</th>\n",
       "      <td>1500</td>\n",
       "      <td>small</td>\n",
       "      <td>2001</td>\n",
       "      <td>manual</td>\n",
       "      <td>75</td>\n",
       "      <td>golf</td>\n",
       "      <td>150000</td>\n",
       "      <td>petrol</td>\n",
       "      <td>volkswagen</td>\n",
       "      <td>no</td>\n",
       "    </tr>\n",
       "    <tr>\n",
       "      <th>4</th>\n",
       "      <td>3600</td>\n",
       "      <td>small</td>\n",
       "      <td>2008</td>\n",
       "      <td>manual</td>\n",
       "      <td>69</td>\n",
       "      <td>fabia</td>\n",
       "      <td>90000</td>\n",
       "      <td>gasoline</td>\n",
       "      <td>skoda</td>\n",
       "      <td>no</td>\n",
       "    </tr>\n",
       "    <tr>\n",
       "      <th>5</th>\n",
       "      <td>650</td>\n",
       "      <td>sedan</td>\n",
       "      <td>1995</td>\n",
       "      <td>manual</td>\n",
       "      <td>102</td>\n",
       "      <td>3er</td>\n",
       "      <td>150000</td>\n",
       "      <td>petrol</td>\n",
       "      <td>bmw</td>\n",
       "      <td>yes</td>\n",
       "    </tr>\n",
       "  </tbody>\n",
       "</table>\n",
       "</div>"
      ],
      "text/plain": [
       "   price vehicle_type  registration_year gearbox  power  model  kilometer  \\\n",
       "0    480        small               1993  manual      0   golf     150000   \n",
       "1  18300        coupe               2011  manual    190     a6     125000   \n",
       "3   1500        small               2001  manual     75   golf     150000   \n",
       "4   3600        small               2008  manual     69  fabia      90000   \n",
       "5    650        sedan               1995  manual    102    3er     150000   \n",
       "\n",
       "  fuel_type       brand not_repaired  \n",
       "0    petrol  volkswagen           no  \n",
       "1  gasoline        audi          yes  \n",
       "3    petrol  volkswagen           no  \n",
       "4  gasoline       skoda           no  \n",
       "5    petrol         bmw          yes  "
      ]
     },
     "execution_count": 13,
     "metadata": {},
     "output_type": "execute_result"
    }
   ],
   "source": [
    "data = df.drop(['date_crawled', 'registration_month',\n",
    "               'date_created', 'number_of_pictures', 'postal_code', 'last_seen' ], axis=1).copy()\n",
    "data.head()"
   ]
  },
  {
   "cell_type": "code",
   "execution_count": 14,
   "metadata": {},
   "outputs": [
    {
     "data": {
      "text/plain": [
       "Text(0.5, 1.0, 'Распределение по ценам')"
      ]
     },
     "execution_count": 14,
     "metadata": {},
     "output_type": "execute_result"
    },
    {
     "data": {
      "image/svg+xml": [
       "<?xml version=\"1.0\" encoding=\"utf-8\" standalone=\"no\"?>\n",
       "<!DOCTYPE svg PUBLIC \"-//W3C//DTD SVG 1.1//EN\"\n",
       "  \"http://www.w3.org/Graphics/SVG/1.1/DTD/svg11.dtd\">\n",
       "<!-- Created with matplotlib (https://matplotlib.org/) -->\n",
       "<svg height=\"317.99625pt\" version=\"1.1\" viewBox=\"0 0 611.2125 317.99625\" width=\"611.2125pt\" xmlns=\"http://www.w3.org/2000/svg\" xmlns:xlink=\"http://www.w3.org/1999/xlink\">\n",
       " <metadata>\n",
       "  <rdf:RDF xmlns:cc=\"http://creativecommons.org/ns#\" xmlns:dc=\"http://purl.org/dc/elements/1.1/\" xmlns:rdf=\"http://www.w3.org/1999/02/22-rdf-syntax-ns#\">\n",
       "   <cc:Work>\n",
       "    <dc:type rdf:resource=\"http://purl.org/dc/dcmitype/StillImage\"/>\n",
       "    <dc:date>2022-04-13T07:56:33.274933</dc:date>\n",
       "    <dc:format>image/svg+xml</dc:format>\n",
       "    <dc:creator>\n",
       "     <cc:Agent>\n",
       "      <dc:title>Matplotlib v3.3.4, https://matplotlib.org/</dc:title>\n",
       "     </cc:Agent>\n",
       "    </dc:creator>\n",
       "   </cc:Work>\n",
       "  </rdf:RDF>\n",
       " </metadata>\n",
       " <defs>\n",
       "  <style type=\"text/css\">*{stroke-linecap:butt;stroke-linejoin:round;}</style>\n",
       " </defs>\n",
       " <g id=\"figure_1\">\n",
       "  <g id=\"patch_1\">\n",
       "   <path d=\"M 0 317.99625 \n",
       "L 611.2125 317.99625 \n",
       "L 611.2125 0 \n",
       "L 0 0 \n",
       "z\n",
       "\" style=\"fill:none;\"/>\n",
       "  </g>\n",
       "  <g id=\"axes_1\">\n",
       "   <g id=\"patch_2\">\n",
       "    <path d=\"M 46.0125 294.118125 \n",
       "L 604.0125 294.118125 \n",
       "L 604.0125 22.318125 \n",
       "L 46.0125 22.318125 \n",
       "z\n",
       "\" style=\"fill:#ffffff;\"/>\n",
       "   </g>\n",
       "   <g id=\"patch_3\">\n",
       "    <path clip-path=\"url(#p83da3b40a9)\" d=\"M 71.376136 294.118125 \n",
       "L 73.9125 294.118125 \n",
       "L 73.9125 35.260982 \n",
       "L 71.376136 35.260982 \n",
       "z\n",
       "\" style=\"fill:#1f77b4;\"/>\n",
       "   </g>\n",
       "   <g id=\"patch_4\">\n",
       "    <path clip-path=\"url(#p83da3b40a9)\" d=\"M 73.9125 294.118125 \n",
       "L 76.448864 294.118125 \n",
       "L 76.448864 210.82555 \n",
       "L 73.9125 210.82555 \n",
       "z\n",
       "\" style=\"fill:#1f77b4;\"/>\n",
       "   </g>\n",
       "   <g id=\"patch_5\">\n",
       "    <path clip-path=\"url(#p83da3b40a9)\" d=\"M 76.448864 294.118125 \n",
       "L 78.985227 294.118125 \n",
       "L 78.985227 177.682179 \n",
       "L 76.448864 177.682179 \n",
       "z\n",
       "\" style=\"fill:#1f77b4;\"/>\n",
       "   </g>\n",
       "   <g id=\"patch_6\">\n",
       "    <path clip-path=\"url(#p83da3b40a9)\" d=\"M 78.985227 294.118125 \n",
       "L 81.521591 294.118125 \n",
       "L 81.521591 152.586399 \n",
       "L 78.985227 152.586399 \n",
       "z\n",
       "\" style=\"fill:#1f77b4;\"/>\n",
       "   </g>\n",
       "   <g id=\"patch_7\">\n",
       "    <path clip-path=\"url(#p83da3b40a9)\" d=\"M 81.521591 294.118125 \n",
       "L 84.057955 294.118125 \n",
       "L 84.057955 169.549875 \n",
       "L 81.521591 169.549875 \n",
       "z\n",
       "\" style=\"fill:#1f77b4;\"/>\n",
       "   </g>\n",
       "   <g id=\"patch_8\">\n",
       "    <path clip-path=\"url(#p83da3b40a9)\" d=\"M 84.057955 294.118125 \n",
       "L 86.594318 294.118125 \n",
       "L 86.594318 79.628626 \n",
       "L 84.057955 79.628626 \n",
       "z\n",
       "\" style=\"fill:#1f77b4;\"/>\n",
       "   </g>\n",
       "   <g id=\"patch_9\">\n",
       "    <path clip-path=\"url(#p83da3b40a9)\" d=\"M 86.594318 294.118125 \n",
       "L 89.130682 294.118125 \n",
       "L 89.130682 104.639694 \n",
       "L 86.594318 104.639694 \n",
       "z\n",
       "\" style=\"fill:#1f77b4;\"/>\n",
       "   </g>\n",
       "   <g id=\"patch_10\">\n",
       "    <path clip-path=\"url(#p83da3b40a9)\" d=\"M 89.130682 294.118125 \n",
       "L 91.667045 294.118125 \n",
       "L 91.667045 121.285503 \n",
       "L 89.130682 121.285503 \n",
       "z\n",
       "\" style=\"fill:#1f77b4;\"/>\n",
       "   </g>\n",
       "   <g id=\"patch_11\">\n",
       "    <path clip-path=\"url(#p83da3b40a9)\" d=\"M 91.667045 294.118125 \n",
       "L 94.203409 294.118125 \n",
       "L 94.203409 110.124764 \n",
       "L 91.667045 110.124764 \n",
       "z\n",
       "\" style=\"fill:#1f77b4;\"/>\n",
       "   </g>\n",
       "   <g id=\"patch_12\">\n",
       "    <path clip-path=\"url(#p83da3b40a9)\" d=\"M 94.203409 294.118125 \n",
       "L 96.739773 294.118125 \n",
       "L 96.739773 65.968898 \n",
       "L 94.203409 65.968898 \n",
       "z\n",
       "\" style=\"fill:#1f77b4;\"/>\n",
       "   </g>\n",
       "   <g id=\"patch_13\">\n",
       "    <path clip-path=\"url(#p83da3b40a9)\" d=\"M 96.739773 294.118125 \n",
       "L 99.276136 294.118125 \n",
       "L 99.276136 169.549875 \n",
       "L 96.739773 169.549875 \n",
       "z\n",
       "\" style=\"fill:#1f77b4;\"/>\n",
       "   </g>\n",
       "   <g id=\"patch_14\">\n",
       "    <path clip-path=\"url(#p83da3b40a9)\" d=\"M 99.276136 294.118125 \n",
       "L 101.8125 294.118125 \n",
       "L 101.8125 170.164034 \n",
       "L 99.276136 170.164034 \n",
       "z\n",
       "\" style=\"fill:#1f77b4;\"/>\n",
       "   </g>\n",
       "   <g id=\"patch_15\">\n",
       "    <path clip-path=\"url(#p83da3b40a9)\" d=\"M 101.8125 294.118125 \n",
       "L 104.348864 294.118125 \n",
       "L 104.348864 112.45433 \n",
       "L 101.8125 112.45433 \n",
       "z\n",
       "\" style=\"fill:#1f77b4;\"/>\n",
       "   </g>\n",
       "   <g id=\"patch_16\">\n",
       "    <path clip-path=\"url(#p83da3b40a9)\" d=\"M 104.348864 294.118125 \n",
       "L 106.885227 294.118125 \n",
       "L 106.885227 163.874205 \n",
       "L 104.348864 163.874205 \n",
       "z\n",
       "\" style=\"fill:#1f77b4;\"/>\n",
       "   </g>\n",
       "   <g id=\"patch_17\">\n",
       "    <path clip-path=\"url(#p83da3b40a9)\" d=\"M 106.885227 294.118125 \n",
       "L 109.421591 294.118125 \n",
       "L 109.421591 162.370576 \n",
       "L 106.885227 162.370576 \n",
       "z\n",
       "\" style=\"fill:#1f77b4;\"/>\n",
       "   </g>\n",
       "   <g id=\"patch_18\">\n",
       "    <path clip-path=\"url(#p83da3b40a9)\" d=\"M 109.421591 294.118125 \n",
       "L 111.957955 294.118125 \n",
       "L 111.957955 130.752012 \n",
       "L 109.421591 130.752012 \n",
       "z\n",
       "\" style=\"fill:#1f77b4;\"/>\n",
       "   </g>\n",
       "   <g id=\"patch_19\">\n",
       "    <path clip-path=\"url(#p83da3b40a9)\" d=\"M 111.957955 294.118125 \n",
       "L 114.494318 294.118125 \n",
       "L 114.494318 178.296337 \n",
       "L 111.957955 178.296337 \n",
       "z\n",
       "\" style=\"fill:#1f77b4;\"/>\n",
       "   </g>\n",
       "   <g id=\"patch_20\">\n",
       "    <path clip-path=\"url(#p83da3b40a9)\" d=\"M 114.494318 294.118125 \n",
       "L 117.030682 294.118125 \n",
       "L 117.030682 191.786642 \n",
       "L 114.494318 191.786642 \n",
       "z\n",
       "\" style=\"fill:#1f77b4;\"/>\n",
       "   </g>\n",
       "   <g id=\"patch_21\">\n",
       "    <path clip-path=\"url(#p83da3b40a9)\" d=\"M 117.030682 294.118125 \n",
       "L 119.567045 294.118125 \n",
       "L 119.567045 179.905855 \n",
       "L 117.030682 179.905855 \n",
       "z\n",
       "\" style=\"fill:#1f77b4;\"/>\n",
       "   </g>\n",
       "   <g id=\"patch_22\">\n",
       "    <path clip-path=\"url(#p83da3b40a9)\" d=\"M 119.567045 294.118125 \n",
       "L 122.103409 294.118125 \n",
       "L 122.103409 141.955107 \n",
       "L 119.567045 141.955107 \n",
       "z\n",
       "\" style=\"fill:#1f77b4;\"/>\n",
       "   </g>\n",
       "   <g id=\"patch_23\">\n",
       "    <path clip-path=\"url(#p83da3b40a9)\" d=\"M 122.103409 294.118125 \n",
       "L 124.639773 294.118125 \n",
       "L 124.639773 214.637567 \n",
       "L 122.103409 214.637567 \n",
       "z\n",
       "\" style=\"fill:#1f77b4;\"/>\n",
       "   </g>\n",
       "   <g id=\"patch_24\">\n",
       "    <path clip-path=\"url(#p83da3b40a9)\" d=\"M 124.639773 294.118125 \n",
       "L 127.176136 294.118125 \n",
       "L 127.176136 231.198664 \n",
       "L 124.639773 231.198664 \n",
       "z\n",
       "\" style=\"fill:#1f77b4;\"/>\n",
       "   </g>\n",
       "   <g id=\"patch_25\">\n",
       "    <path clip-path=\"url(#p83da3b40a9)\" d=\"M 127.176136 294.118125 \n",
       "L 129.7125 294.118125 \n",
       "L 129.7125 191.024239 \n",
       "L 127.176136 191.024239 \n",
       "z\n",
       "\" style=\"fill:#1f77b4;\"/>\n",
       "   </g>\n",
       "   <g id=\"patch_26\">\n",
       "    <path clip-path=\"url(#p83da3b40a9)\" d=\"M 129.7125 294.118125 \n",
       "L 132.248864 294.118125 \n",
       "L 132.248864 216.352975 \n",
       "L 129.7125 216.352975 \n",
       "z\n",
       "\" style=\"fill:#1f77b4;\"/>\n",
       "   </g>\n",
       "   <g id=\"patch_27\">\n",
       "    <path clip-path=\"url(#p83da3b40a9)\" d=\"M 132.248864 294.118125 \n",
       "L 134.785227 294.118125 \n",
       "L 134.785227 204.578078 \n",
       "L 132.248864 204.578078 \n",
       "z\n",
       "\" style=\"fill:#1f77b4;\"/>\n",
       "   </g>\n",
       "   <g id=\"patch_28\">\n",
       "    <path clip-path=\"url(#p83da3b40a9)\" d=\"M 134.785227 294.118125 \n",
       "L 137.321591 294.118125 \n",
       "L 137.321591 177.76689 \n",
       "L 134.785227 177.76689 \n",
       "z\n",
       "\" style=\"fill:#1f77b4;\"/>\n",
       "   </g>\n",
       "   <g id=\"patch_29\">\n",
       "    <path clip-path=\"url(#p83da3b40a9)\" d=\"M 137.321591 294.118125 \n",
       "L 139.857955 294.118125 \n",
       "L 139.857955 224.930014 \n",
       "L 137.321591 224.930014 \n",
       "z\n",
       "\" style=\"fill:#1f77b4;\"/>\n",
       "   </g>\n",
       "   <g id=\"patch_30\">\n",
       "    <path clip-path=\"url(#p83da3b40a9)\" d=\"M 139.857955 294.118125 \n",
       "L 142.394318 294.118125 \n",
       "L 142.394318 222.854582 \n",
       "L 139.857955 222.854582 \n",
       "z\n",
       "\" style=\"fill:#1f77b4;\"/>\n",
       "   </g>\n",
       "   <g id=\"patch_31\">\n",
       "    <path clip-path=\"url(#p83da3b40a9)\" d=\"M 142.394318 294.118125 \n",
       "L 144.930682 294.118125 \n",
       "L 144.930682 217.284801 \n",
       "L 142.394318 217.284801 \n",
       "z\n",
       "\" style=\"fill:#1f77b4;\"/>\n",
       "   </g>\n",
       "   <g id=\"patch_32\">\n",
       "    <path clip-path=\"url(#p83da3b40a9)\" d=\"M 144.930682 294.118125 \n",
       "L 147.467045 294.118125 \n",
       "L 147.467045 165.674325 \n",
       "L 144.930682 165.674325 \n",
       "z\n",
       "\" style=\"fill:#1f77b4;\"/>\n",
       "   </g>\n",
       "   <g id=\"patch_33\">\n",
       "    <path clip-path=\"url(#p83da3b40a9)\" d=\"M 147.467045 294.118125 \n",
       "L 150.003409 294.118125 \n",
       "L 150.003409 233.083495 \n",
       "L 147.467045 233.083495 \n",
       "z\n",
       "\" style=\"fill:#1f77b4;\"/>\n",
       "   </g>\n",
       "   <g id=\"patch_34\">\n",
       "    <path clip-path=\"url(#p83da3b40a9)\" d=\"M 150.003409 294.118125 \n",
       "L 152.539773 294.118125 \n",
       "L 152.539773 255.362617 \n",
       "L 150.003409 255.362617 \n",
       "z\n",
       "\" style=\"fill:#1f77b4;\"/>\n",
       "   </g>\n",
       "   <g id=\"patch_35\">\n",
       "    <path clip-path=\"url(#p83da3b40a9)\" d=\"M 152.539773 294.118125 \n",
       "L 155.076136 294.118125 \n",
       "L 155.076136 221.393309 \n",
       "L 152.539773 221.393309 \n",
       "z\n",
       "\" style=\"fill:#1f77b4;\"/>\n",
       "   </g>\n",
       "   <g id=\"patch_36\">\n",
       "    <path clip-path=\"url(#p83da3b40a9)\" d=\"M 155.076136 294.118125 \n",
       "L 157.6125 294.118125 \n",
       "L 157.6125 238.017939 \n",
       "L 155.076136 238.017939 \n",
       "z\n",
       "\" style=\"fill:#1f77b4;\"/>\n",
       "   </g>\n",
       "   <g id=\"patch_37\">\n",
       "    <path clip-path=\"url(#p83da3b40a9)\" d=\"M 157.6125 294.118125 \n",
       "L 160.148864 294.118125 \n",
       "L 160.148864 233.994143 \n",
       "L 157.6125 233.994143 \n",
       "z\n",
       "\" style=\"fill:#1f77b4;\"/>\n",
       "   </g>\n",
       "   <g id=\"patch_38\">\n",
       "    <path clip-path=\"url(#p83da3b40a9)\" d=\"M 160.148864 294.118125 \n",
       "L 162.685227 294.118125 \n",
       "L 162.685227 198.902408 \n",
       "L 160.148864 198.902408 \n",
       "z\n",
       "\" style=\"fill:#1f77b4;\"/>\n",
       "   </g>\n",
       "   <g id=\"patch_39\">\n",
       "    <path clip-path=\"url(#p83da3b40a9)\" d=\"M 162.685227 294.118125 \n",
       "L 165.221591 294.118125 \n",
       "L 165.221591 246.362021 \n",
       "L 162.685227 246.362021 \n",
       "z\n",
       "\" style=\"fill:#1f77b4;\"/>\n",
       "   </g>\n",
       "   <g id=\"patch_40\">\n",
       "    <path clip-path=\"url(#p83da3b40a9)\" d=\"M 165.221591 294.118125 \n",
       "L 167.757955 294.118125 \n",
       "L 167.757955 244.773681 \n",
       "L 165.221591 244.773681 \n",
       "z\n",
       "\" style=\"fill:#1f77b4;\"/>\n",
       "   </g>\n",
       "   <g id=\"patch_41\">\n",
       "    <path clip-path=\"url(#p83da3b40a9)\" d=\"M 167.757955 294.118125 \n",
       "L 170.294318 294.118125 \n",
       "L 170.294318 236.577844 \n",
       "L 167.757955 236.577844 \n",
       "z\n",
       "\" style=\"fill:#1f77b4;\"/>\n",
       "   </g>\n",
       "   <g id=\"patch_42\">\n",
       "    <path clip-path=\"url(#p83da3b40a9)\" d=\"M 170.294318 294.118125 \n",
       "L 172.830682 294.118125 \n",
       "L 172.830682 184.353209 \n",
       "L 170.294318 184.353209 \n",
       "z\n",
       "\" style=\"fill:#1f77b4;\"/>\n",
       "   </g>\n",
       "   <g id=\"patch_43\">\n",
       "    <path clip-path=\"url(#p83da3b40a9)\" d=\"M 172.830682 294.118125 \n",
       "L 175.367045 294.118125 \n",
       "L 175.367045 251.508244 \n",
       "L 172.830682 251.508244 \n",
       "z\n",
       "\" style=\"fill:#1f77b4;\"/>\n",
       "   </g>\n",
       "   <g id=\"patch_44\">\n",
       "    <path clip-path=\"url(#p83da3b40a9)\" d=\"M 175.367045 294.118125 \n",
       "L 177.903409 294.118125 \n",
       "L 177.903409 268.17523 \n",
       "L 175.367045 268.17523 \n",
       "z\n",
       "\" style=\"fill:#1f77b4;\"/>\n",
       "   </g>\n",
       "   <g id=\"patch_45\">\n",
       "    <path clip-path=\"url(#p83da3b40a9)\" d=\"M 177.903409 294.118125 \n",
       "L 180.439773 294.118125 \n",
       "L 180.439773 237.679093 \n",
       "L 177.903409 237.679093 \n",
       "z\n",
       "\" style=\"fill:#1f77b4;\"/>\n",
       "   </g>\n",
       "   <g id=\"patch_46\">\n",
       "    <path clip-path=\"url(#p83da3b40a9)\" d=\"M 180.439773 294.118125 \n",
       "L 182.976136 294.118125 \n",
       "L 182.976136 258.285164 \n",
       "L 180.439773 258.285164 \n",
       "z\n",
       "\" style=\"fill:#1f77b4;\"/>\n",
       "   </g>\n",
       "   <g id=\"patch_47\">\n",
       "    <path clip-path=\"url(#p83da3b40a9)\" d=\"M 182.976136 294.118125 \n",
       "L 185.5125 294.118125 \n",
       "L 185.5125 249.665769 \n",
       "L 182.976136 249.665769 \n",
       "z\n",
       "\" style=\"fill:#1f77b4;\"/>\n",
       "   </g>\n",
       "   <g id=\"patch_48\">\n",
       "    <path clip-path=\"url(#p83da3b40a9)\" d=\"M 185.5125 294.118125 \n",
       "L 188.048864 294.118125 \n",
       "L 188.048864 220.546194 \n",
       "L 185.5125 220.546194 \n",
       "z\n",
       "\" style=\"fill:#1f77b4;\"/>\n",
       "   </g>\n",
       "   <g id=\"patch_49\">\n",
       "    <path clip-path=\"url(#p83da3b40a9)\" d=\"M 188.048864 294.118125 \n",
       "L 190.585227 294.118125 \n",
       "L 190.585227 266.226866 \n",
       "L 188.048864 266.226866 \n",
       "z\n",
       "\" style=\"fill:#1f77b4;\"/>\n",
       "   </g>\n",
       "   <g id=\"patch_50\">\n",
       "    <path clip-path=\"url(#p83da3b40a9)\" d=\"M 190.585227 294.118125 \n",
       "L 193.121591 294.118125 \n",
       "L 193.121591 260.042927 \n",
       "L 190.585227 260.042927 \n",
       "z\n",
       "\" style=\"fill:#1f77b4;\"/>\n",
       "   </g>\n",
       "   <g id=\"patch_51\">\n",
       "    <path clip-path=\"url(#p83da3b40a9)\" d=\"M 193.121591 294.118125 \n",
       "L 195.657955 294.118125 \n",
       "L 195.657955 253.435431 \n",
       "L 193.121591 253.435431 \n",
       "z\n",
       "\" style=\"fill:#1f77b4;\"/>\n",
       "   </g>\n",
       "   <g id=\"patch_52\">\n",
       "    <path clip-path=\"url(#p83da3b40a9)\" d=\"M 195.657955 294.118125 \n",
       "L 198.194318 294.118125 \n",
       "L 198.194318 201.210796 \n",
       "L 195.657955 201.210796 \n",
       "z\n",
       "\" style=\"fill:#1f77b4;\"/>\n",
       "   </g>\n",
       "   <g id=\"patch_53\">\n",
       "    <path clip-path=\"url(#p83da3b40a9)\" d=\"M 198.194318 294.118125 \n",
       "L 200.730682 294.118125 \n",
       "L 200.730682 256.612112 \n",
       "L 198.194318 256.612112 \n",
       "z\n",
       "\" style=\"fill:#1f77b4;\"/>\n",
       "   </g>\n",
       "   <g id=\"patch_54\">\n",
       "    <path clip-path=\"url(#p83da3b40a9)\" d=\"M 200.730682 294.118125 \n",
       "L 203.267045 294.118125 \n",
       "L 203.267045 278.53121 \n",
       "L 200.730682 278.53121 \n",
       "z\n",
       "\" style=\"fill:#1f77b4;\"/>\n",
       "   </g>\n",
       "   <g id=\"patch_55\">\n",
       "    <path clip-path=\"url(#p83da3b40a9)\" d=\"M 203.267045 294.118125 \n",
       "L 205.803409 294.118125 \n",
       "L 205.803409 256.061487 \n",
       "L 203.267045 256.061487 \n",
       "z\n",
       "\" style=\"fill:#1f77b4;\"/>\n",
       "   </g>\n",
       "   <g id=\"patch_56\">\n",
       "    <path clip-path=\"url(#p83da3b40a9)\" d=\"M 205.803409 294.118125 \n",
       "L 208.339773 294.118125 \n",
       "L 208.339773 267.666962 \n",
       "L 205.803409 267.666962 \n",
       "z\n",
       "\" style=\"fill:#1f77b4;\"/>\n",
       "   </g>\n",
       "   <g id=\"patch_57\">\n",
       "    <path clip-path=\"url(#p83da3b40a9)\" d=\"M 208.339773 294.118125 \n",
       "L 210.876136 294.118125 \n",
       "L 210.876136 260.50884 \n",
       "L 208.339773 260.50884 \n",
       "z\n",
       "\" style=\"fill:#1f77b4;\"/>\n",
       "   </g>\n",
       "   <g id=\"patch_58\">\n",
       "    <path clip-path=\"url(#p83da3b40a9)\" d=\"M 210.876136 294.118125 \n",
       "L 213.4125 294.118125 \n",
       "L 213.4125 230.393905 \n",
       "L 210.876136 230.393905 \n",
       "z\n",
       "\" style=\"fill:#1f77b4;\"/>\n",
       "   </g>\n",
       "   <g id=\"patch_59\">\n",
       "    <path clip-path=\"url(#p83da3b40a9)\" d=\"M 213.4125 294.118125 \n",
       "L 215.948864 294.118125 \n",
       "L 215.948864 271.881358 \n",
       "L 213.4125 271.881358 \n",
       "z\n",
       "\" style=\"fill:#1f77b4;\"/>\n",
       "   </g>\n",
       "   <g id=\"patch_60\">\n",
       "    <path clip-path=\"url(#p83da3b40a9)\" d=\"M 215.948864 294.118125 \n",
       "L 218.485227 294.118125 \n",
       "L 218.485227 269.27648 \n",
       "L 215.948864 269.27648 \n",
       "z\n",
       "\" style=\"fill:#1f77b4;\"/>\n",
       "   </g>\n",
       "   <g id=\"patch_61\">\n",
       "    <path clip-path=\"url(#p83da3b40a9)\" d=\"M 218.485227 294.118125 \n",
       "L 221.021591 294.118125 \n",
       "L 221.021591 261.122999 \n",
       "L 218.485227 261.122999 \n",
       "z\n",
       "\" style=\"fill:#1f77b4;\"/>\n",
       "   </g>\n",
       "   <g id=\"patch_62\">\n",
       "    <path clip-path=\"url(#p83da3b40a9)\" d=\"M 221.021591 294.118125 \n",
       "L 223.557955 294.118125 \n",
       "L 223.557955 212.202112 \n",
       "L 221.021591 212.202112 \n",
       "z\n",
       "\" style=\"fill:#1f77b4;\"/>\n",
       "   </g>\n",
       "   <g id=\"patch_63\">\n",
       "    <path clip-path=\"url(#p83da3b40a9)\" d=\"M 223.557955 294.118125 \n",
       "L 226.094318 294.118125 \n",
       "L 226.094318 261.821869 \n",
       "L 223.557955 261.821869 \n",
       "z\n",
       "\" style=\"fill:#1f77b4;\"/>\n",
       "   </g>\n",
       "   <g id=\"patch_64\">\n",
       "    <path clip-path=\"url(#p83da3b40a9)\" d=\"M 226.094318 294.118125 \n",
       "L 228.630682 294.118125 \n",
       "L 228.630682 281.241978 \n",
       "L 226.094318 281.241978 \n",
       "z\n",
       "\" style=\"fill:#1f77b4;\"/>\n",
       "   </g>\n",
       "   <g id=\"patch_65\">\n",
       "    <path clip-path=\"url(#p83da3b40a9)\" d=\"M 228.630682 294.118125 \n",
       "L 231.167045 294.118125 \n",
       "L 231.167045 261.271244 \n",
       "L 228.630682 261.271244 \n",
       "z\n",
       "\" style=\"fill:#1f77b4;\"/>\n",
       "   </g>\n",
       "   <g id=\"patch_66\">\n",
       "    <path clip-path=\"url(#p83da3b40a9)\" d=\"M 231.167045 294.118125 \n",
       "L 233.703409 294.118125 \n",
       "L 233.703409 270.716575 \n",
       "L 231.167045 270.716575 \n",
       "z\n",
       "\" style=\"fill:#1f77b4;\"/>\n",
       "   </g>\n",
       "   <g id=\"patch_67\">\n",
       "    <path clip-path=\"url(#p83da3b40a9)\" d=\"M 233.703409 294.118125 \n",
       "L 236.239773 294.118125 \n",
       "L 236.239773 262.944296 \n",
       "L 233.703409 262.944296 \n",
       "z\n",
       "\" style=\"fill:#1f77b4;\"/>\n",
       "   </g>\n",
       "   <g id=\"patch_68\">\n",
       "    <path clip-path=\"url(#p83da3b40a9)\" d=\"M 236.239773 294.118125 \n",
       "L 238.776136 294.118125 \n",
       "L 238.776136 240.283972 \n",
       "L 236.239773 240.283972 \n",
       "z\n",
       "\" style=\"fill:#1f77b4;\"/>\n",
       "   </g>\n",
       "   <g id=\"patch_69\">\n",
       "    <path clip-path=\"url(#p83da3b40a9)\" d=\"M 238.776136 294.118125 \n",
       "L 241.3125 294.118125 \n",
       "L 241.3125 277.260538 \n",
       "L 238.776136 277.260538 \n",
       "z\n",
       "\" style=\"fill:#1f77b4;\"/>\n",
       "   </g>\n",
       "   <g id=\"patch_70\">\n",
       "    <path clip-path=\"url(#p83da3b40a9)\" d=\"M 241.3125 294.118125 \n",
       "L 243.848864 294.118125 \n",
       "L 243.848864 268.852922 \n",
       "L 241.3125 268.852922 \n",
       "z\n",
       "\" style=\"fill:#1f77b4;\"/>\n",
       "   </g>\n",
       "   <g id=\"patch_71\">\n",
       "    <path clip-path=\"url(#p83da3b40a9)\" d=\"M 243.848864 294.118125 \n",
       "L 246.385227 294.118125 \n",
       "L 246.385227 267.243404 \n",
       "L 243.848864 267.243404 \n",
       "z\n",
       "\" style=\"fill:#1f77b4;\"/>\n",
       "   </g>\n",
       "   <g id=\"patch_72\">\n",
       "    <path clip-path=\"url(#p83da3b40a9)\" d=\"M 246.385227 294.118125 \n",
       "L 248.921591 294.118125 \n",
       "L 248.921591 217.009489 \n",
       "L 246.385227 217.009489 \n",
       "z\n",
       "\" style=\"fill:#1f77b4;\"/>\n",
       "   </g>\n",
       "   <g id=\"patch_73\">\n",
       "    <path clip-path=\"url(#p83da3b40a9)\" d=\"M 248.921591 294.118125 \n",
       "L 251.457955 294.118125 \n",
       "L 251.457955 269.085879 \n",
       "L 248.921591 269.085879 \n",
       "z\n",
       "\" style=\"fill:#1f77b4;\"/>\n",
       "   </g>\n",
       "   <g id=\"patch_74\">\n",
       "    <path clip-path=\"url(#p83da3b40a9)\" d=\"M 251.457955 294.118125 \n",
       "L 253.994318 294.118125 \n",
       "L 253.994318 284.884572 \n",
       "L 251.457955 284.884572 \n",
       "z\n",
       "\" style=\"fill:#1f77b4;\"/>\n",
       "   </g>\n",
       "   <g id=\"patch_75\">\n",
       "    <path clip-path=\"url(#p83da3b40a9)\" d=\"M 253.994318 294.118125 \n",
       "L 256.530682 294.118125 \n",
       "L 256.530682 267.539894 \n",
       "L 253.994318 267.539894 \n",
       "z\n",
       "\" style=\"fill:#1f77b4;\"/>\n",
       "   </g>\n",
       "   <g id=\"patch_76\">\n",
       "    <path clip-path=\"url(#p83da3b40a9)\" d=\"M 256.530682 294.118125 \n",
       "L 259.067045 294.118125 \n",
       "L 259.067045 276.519312 \n",
       "L 256.530682 276.519312 \n",
       "z\n",
       "\" style=\"fill:#1f77b4;\"/>\n",
       "   </g>\n",
       "   <g id=\"patch_77\">\n",
       "    <path clip-path=\"url(#p83da3b40a9)\" d=\"M 259.067045 294.118125 \n",
       "L 261.603409 294.118125 \n",
       "L 261.603409 266.756313 \n",
       "L 259.067045 266.756313 \n",
       "z\n",
       "\" style=\"fill:#1f77b4;\"/>\n",
       "   </g>\n",
       "   <g id=\"patch_78\">\n",
       "    <path clip-path=\"url(#p83da3b40a9)\" d=\"M 261.603409 294.118125 \n",
       "L 264.139773 294.118125 \n",
       "L 264.139773 249.877548 \n",
       "L 261.603409 249.877548 \n",
       "z\n",
       "\" style=\"fill:#1f77b4;\"/>\n",
       "   </g>\n",
       "   <g id=\"patch_79\">\n",
       "    <path clip-path=\"url(#p83da3b40a9)\" d=\"M 264.139773 294.118125 \n",
       "L 266.676136 294.118125 \n",
       "L 266.676136 281.051377 \n",
       "L 264.139773 281.051377 \n",
       "z\n",
       "\" style=\"fill:#1f77b4;\"/>\n",
       "   </g>\n",
       "   <g id=\"patch_80\">\n",
       "    <path clip-path=\"url(#p83da3b40a9)\" d=\"M 266.676136 294.118125 \n",
       "L 269.2125 294.118125 \n",
       "L 269.2125 275.227462 \n",
       "L 266.676136 275.227462 \n",
       "z\n",
       "\" style=\"fill:#1f77b4;\"/>\n",
       "   </g>\n",
       "   <g id=\"patch_81\">\n",
       "    <path clip-path=\"url(#p83da3b40a9)\" d=\"M 269.2125 294.118125 \n",
       "L 271.748864 294.118125 \n",
       "L 271.748864 270.102417 \n",
       "L 269.2125 270.102417 \n",
       "z\n",
       "\" style=\"fill:#1f77b4;\"/>\n",
       "   </g>\n",
       "   <g id=\"patch_82\">\n",
       "    <path clip-path=\"url(#p83da3b40a9)\" d=\"M 271.748864 294.118125 \n",
       "L 274.285227 294.118125 \n",
       "L 274.285227 233.507052 \n",
       "L 271.748864 233.507052 \n",
       "z\n",
       "\" style=\"fill:#1f77b4;\"/>\n",
       "   </g>\n",
       "   <g id=\"patch_83\">\n",
       "    <path clip-path=\"url(#p83da3b40a9)\" d=\"M 274.285227 294.118125 \n",
       "L 276.821591 294.118125 \n",
       "L 276.821591 269.805927 \n",
       "L 274.285227 269.805927 \n",
       "z\n",
       "\" style=\"fill:#1f77b4;\"/>\n",
       "   </g>\n",
       "   <g id=\"patch_84\">\n",
       "    <path clip-path=\"url(#p83da3b40a9)\" d=\"M 276.821591 294.118125 \n",
       "L 279.357955 294.118125 \n",
       "L 279.357955 286.790581 \n",
       "L 276.821591 286.790581 \n",
       "z\n",
       "\" style=\"fill:#1f77b4;\"/>\n",
       "   </g>\n",
       "   <g id=\"patch_85\">\n",
       "    <path clip-path=\"url(#p83da3b40a9)\" d=\"M 279.357955 294.118125 \n",
       "L 281.894318 294.118125 \n",
       "L 281.894318 273.999146 \n",
       "L 279.357955 273.999146 \n",
       "z\n",
       "\" style=\"fill:#1f77b4;\"/>\n",
       "   </g>\n",
       "   <g id=\"patch_86\">\n",
       "    <path clip-path=\"url(#p83da3b40a9)\" d=\"M 281.894318 294.118125 \n",
       "L 284.430682 294.118125 \n",
       "L 284.430682 280.140729 \n",
       "L 281.894318 280.140729 \n",
       "z\n",
       "\" style=\"fill:#1f77b4;\"/>\n",
       "   </g>\n",
       "   <g id=\"patch_87\">\n",
       "    <path clip-path=\"url(#p83da3b40a9)\" d=\"M 284.430682 294.118125 \n",
       "L 286.967045 294.118125 \n",
       "L 286.967045 270.293018 \n",
       "L 284.430682 270.293018 \n",
       "z\n",
       "\" style=\"fill:#1f77b4;\"/>\n",
       "   </g>\n",
       "   <g id=\"patch_88\">\n",
       "    <path clip-path=\"url(#p83da3b40a9)\" d=\"M 286.967045 294.118125 \n",
       "L 289.503409 294.118125 \n",
       "L 289.503409 253.117763 \n",
       "L 286.967045 253.117763 \n",
       "z\n",
       "\" style=\"fill:#1f77b4;\"/>\n",
       "   </g>\n",
       "   <g id=\"patch_89\">\n",
       "    <path clip-path=\"url(#p83da3b40a9)\" d=\"M 289.503409 294.118125 \n",
       "L 292.039773 294.118125 \n",
       "L 292.039773 282.533828 \n",
       "L 289.503409 282.533828 \n",
       "z\n",
       "\" style=\"fill:#1f77b4;\"/>\n",
       "   </g>\n",
       "   <g id=\"patch_90\">\n",
       "    <path clip-path=\"url(#p83da3b40a9)\" d=\"M 292.039773 294.118125 \n",
       "L 294.576136 294.118125 \n",
       "L 294.576136 276.434601 \n",
       "L 292.039773 276.434601 \n",
       "z\n",
       "\" style=\"fill:#1f77b4;\"/>\n",
       "   </g>\n",
       "   <g id=\"patch_91\">\n",
       "    <path clip-path=\"url(#p83da3b40a9)\" d=\"M 294.576136 294.118125 \n",
       "L 297.1125 294.118125 \n",
       "L 297.1125 276.328712 \n",
       "L 294.576136 276.328712 \n",
       "z\n",
       "\" style=\"fill:#1f77b4;\"/>\n",
       "   </g>\n",
       "   <g id=\"patch_92\">\n",
       "    <path clip-path=\"url(#p83da3b40a9)\" d=\"M 297.1125 294.118125 \n",
       "L 299.648864 294.118125 \n",
       "L 299.648864 238.822698 \n",
       "L 297.1125 238.822698 \n",
       "z\n",
       "\" style=\"fill:#1f77b4;\"/>\n",
       "   </g>\n",
       "   <g id=\"patch_93\">\n",
       "    <path clip-path=\"url(#p83da3b40a9)\" d=\"M 299.648864 294.118125 \n",
       "L 302.185227 294.118125 \n",
       "L 302.185227 274.740371 \n",
       "L 299.648864 274.740371 \n",
       "z\n",
       "\" style=\"fill:#1f77b4;\"/>\n",
       "   </g>\n",
       "   <g id=\"patch_94\">\n",
       "    <path clip-path=\"url(#p83da3b40a9)\" d=\"M 302.185227 294.118125 \n",
       "L 304.721591 294.118125 \n",
       "L 304.721591 288.442455 \n",
       "L 302.185227 288.442455 \n",
       "z\n",
       "\" style=\"fill:#1f77b4;\"/>\n",
       "   </g>\n",
       "   <g id=\"patch_95\">\n",
       "    <path clip-path=\"url(#p83da3b40a9)\" d=\"M 304.721591 294.118125 \n",
       "L 307.257955 294.118125 \n",
       "L 307.257955 277.726451 \n",
       "L 304.721591 277.726451 \n",
       "z\n",
       "\" style=\"fill:#1f77b4;\"/>\n",
       "   </g>\n",
       "   <g id=\"patch_96\">\n",
       "    <path clip-path=\"url(#p83da3b40a9)\" d=\"M 307.257955 294.118125 \n",
       "L 309.794318 294.118125 \n",
       "L 309.794318 283.402121 \n",
       "L 307.257955 283.402121 \n",
       "z\n",
       "\" style=\"fill:#1f77b4;\"/>\n",
       "   </g>\n",
       "   <g id=\"patch_97\">\n",
       "    <path clip-path=\"url(#p83da3b40a9)\" d=\"M 309.794318 294.118125 \n",
       "L 312.330682 294.118125 \n",
       "L 312.330682 278.001764 \n",
       "L 309.794318 278.001764 \n",
       "z\n",
       "\" style=\"fill:#1f77b4;\"/>\n",
       "   </g>\n",
       "   <g id=\"patch_98\">\n",
       "    <path clip-path=\"url(#p83da3b40a9)\" d=\"M 312.330682 294.118125 \n",
       "L 314.867045 294.118125 \n",
       "L 314.867045 260.021749 \n",
       "L 312.330682 260.021749 \n",
       "z\n",
       "\" style=\"fill:#1f77b4;\"/>\n",
       "   </g>\n",
       "   <g id=\"patch_99\">\n",
       "    <path clip-path=\"url(#p83da3b40a9)\" d=\"M 314.867045 294.118125 \n",
       "L 317.403409 294.118125 \n",
       "L 317.403409 286.155245 \n",
       "L 314.867045 286.155245 \n",
       "z\n",
       "\" style=\"fill:#1f77b4;\"/>\n",
       "   </g>\n",
       "   <g id=\"patch_100\">\n",
       "    <path clip-path=\"url(#p83da3b40a9)\" d=\"M 317.403409 294.118125 \n",
       "L 319.939773 294.118125 \n",
       "L 319.939773 283.402121 \n",
       "L 317.403409 283.402121 \n",
       "z\n",
       "\" style=\"fill:#1f77b4;\"/>\n",
       "   </g>\n",
       "   <g id=\"patch_101\">\n",
       "    <path clip-path=\"url(#p83da3b40a9)\" d=\"M 319.939773 294.118125 \n",
       "L 322.476136 294.118125 \n",
       "L 322.476136 277.112293 \n",
       "L 319.939773 277.112293 \n",
       "z\n",
       "\" style=\"fill:#1f77b4;\"/>\n",
       "   </g>\n",
       "   <g id=\"patch_102\">\n",
       "    <path clip-path=\"url(#p83da3b40a9)\" d=\"M 322.476136 294.118125 \n",
       "L 325.0125 294.118125 \n",
       "L 325.0125 232.82936 \n",
       "L 322.476136 232.82936 \n",
       "z\n",
       "\" style=\"fill:#1f77b4;\"/>\n",
       "   </g>\n",
       "   <g id=\"patch_103\">\n",
       "    <path clip-path=\"url(#p83da3b40a9)\" d=\"M 325.0125 294.118125 \n",
       "L 327.548864 294.118125 \n",
       "L 327.548864 275.290996 \n",
       "L 325.0125 275.290996 \n",
       "z\n",
       "\" style=\"fill:#1f77b4;\"/>\n",
       "   </g>\n",
       "   <g id=\"patch_104\">\n",
       "    <path clip-path=\"url(#p83da3b40a9)\" d=\"M 327.548864 294.118125 \n",
       "L 330.085227 294.118125 \n",
       "L 330.085227 291.492069 \n",
       "L 327.548864 291.492069 \n",
       "z\n",
       "\" style=\"fill:#1f77b4;\"/>\n",
       "   </g>\n",
       "   <g id=\"patch_105\">\n",
       "    <path clip-path=\"url(#p83da3b40a9)\" d=\"M 330.085227 294.118125 \n",
       "L 332.621591 294.118125 \n",
       "L 332.621591 286.472913 \n",
       "L 330.085227 286.472913 \n",
       "z\n",
       "\" style=\"fill:#1f77b4;\"/>\n",
       "   </g>\n",
       "   <g id=\"patch_106\">\n",
       "    <path clip-path=\"url(#p83da3b40a9)\" d=\"M 332.621591 294.118125 \n",
       "L 335.157955 294.118125 \n",
       "L 335.157955 288.654234 \n",
       "L 332.621591 288.654234 \n",
       "z\n",
       "\" style=\"fill:#1f77b4;\"/>\n",
       "   </g>\n",
       "   <g id=\"patch_107\">\n",
       "    <path clip-path=\"url(#p83da3b40a9)\" d=\"M 335.157955 294.118125 \n",
       "L 337.694318 294.118125 \n",
       "L 337.694318 280.62782 \n",
       "L 335.157955 280.62782 \n",
       "z\n",
       "\" style=\"fill:#1f77b4;\"/>\n",
       "   </g>\n",
       "   <g id=\"patch_108\">\n",
       "    <path clip-path=\"url(#p83da3b40a9)\" d=\"M 337.694318 294.118125 \n",
       "L 340.230682 294.118125 \n",
       "L 340.230682 262.330137 \n",
       "L 337.694318 262.330137 \n",
       "z\n",
       "\" style=\"fill:#1f77b4;\"/>\n",
       "   </g>\n",
       "   <g id=\"patch_109\">\n",
       "    <path clip-path=\"url(#p83da3b40a9)\" d=\"M 340.230682 294.118125 \n",
       "L 342.767045 294.118125 \n",
       "L 342.767045 289.183681 \n",
       "L 340.230682 289.183681 \n",
       "z\n",
       "\" style=\"fill:#1f77b4;\"/>\n",
       "   </g>\n",
       "   <g id=\"patch_110\">\n",
       "    <path clip-path=\"url(#p83da3b40a9)\" d=\"M 342.767045 294.118125 \n",
       "L 345.303409 294.118125 \n",
       "L 345.303409 286.388201 \n",
       "L 342.767045 286.388201 \n",
       "z\n",
       "\" style=\"fill:#1f77b4;\"/>\n",
       "   </g>\n",
       "   <g id=\"patch_111\">\n",
       "    <path clip-path=\"url(#p83da3b40a9)\" d=\"M 345.303409 294.118125 \n",
       "L 347.839773 294.118125 \n",
       "L 347.839773 282.978564 \n",
       "L 345.303409 282.978564 \n",
       "z\n",
       "\" style=\"fill:#1f77b4;\"/>\n",
       "   </g>\n",
       "   <g id=\"patch_112\">\n",
       "    <path clip-path=\"url(#p83da3b40a9)\" d=\"M 347.839773 294.118125 \n",
       "L 350.376136 294.118125 \n",
       "L 350.376136 253.64721 \n",
       "L 347.839773 253.64721 \n",
       "z\n",
       "\" style=\"fill:#1f77b4;\"/>\n",
       "   </g>\n",
       "   <g id=\"patch_113\">\n",
       "    <path clip-path=\"url(#p83da3b40a9)\" d=\"M 350.376136 294.118125 \n",
       "L 352.9125 294.118125 \n",
       "L 352.9125 277.684095 \n",
       "L 350.376136 277.684095 \n",
       "z\n",
       "\" style=\"fill:#1f77b4;\"/>\n",
       "   </g>\n",
       "   <g id=\"patch_114\">\n",
       "    <path clip-path=\"url(#p83da3b40a9)\" d=\"M 352.9125 294.118125 \n",
       "L 355.448864 294.118125 \n",
       "L 355.448864 291.492069 \n",
       "L 352.9125 291.492069 \n",
       "z\n",
       "\" style=\"fill:#1f77b4;\"/>\n",
       "   </g>\n",
       "   <g id=\"patch_115\">\n",
       "    <path clip-path=\"url(#p83da3b40a9)\" d=\"M 355.448864 294.118125 \n",
       "L 357.985227 294.118125 \n",
       "L 357.985227 286.30349 \n",
       "L 355.448864 286.30349 \n",
       "z\n",
       "\" style=\"fill:#1f77b4;\"/>\n",
       "   </g>\n",
       "   <g id=\"patch_116\">\n",
       "    <path clip-path=\"url(#p83da3b40a9)\" d=\"M 357.985227 294.118125 \n",
       "L 360.521591 294.118125 \n",
       "L 360.521591 288.654234 \n",
       "L 357.985227 288.654234 \n",
       "z\n",
       "\" style=\"fill:#1f77b4;\"/>\n",
       "   </g>\n",
       "   <g id=\"patch_117\">\n",
       "    <path clip-path=\"url(#p83da3b40a9)\" d=\"M 360.521591 294.118125 \n",
       "L 363.057955 294.118125 \n",
       "L 363.057955 282.491473 \n",
       "L 360.521591 282.491473 \n",
       "z\n",
       "\" style=\"fill:#1f77b4;\"/>\n",
       "   </g>\n",
       "   <g id=\"patch_118\">\n",
       "    <path clip-path=\"url(#p83da3b40a9)\" d=\"M 363.057955 294.118125 \n",
       "L 365.594318 294.118125 \n",
       "L 365.594318 269.467081 \n",
       "L 363.057955 269.467081 \n",
       "z\n",
       "\" style=\"fill:#1f77b4;\"/>\n",
       "   </g>\n",
       "   <g id=\"patch_119\">\n",
       "    <path clip-path=\"url(#p83da3b40a9)\" d=\"M 365.594318 294.118125 \n",
       "L 368.130682 294.118125 \n",
       "L 368.130682 290.094329 \n",
       "L 365.594318 290.094329 \n",
       "z\n",
       "\" style=\"fill:#1f77b4;\"/>\n",
       "   </g>\n",
       "   <g id=\"patch_120\">\n",
       "    <path clip-path=\"url(#p83da3b40a9)\" d=\"M 368.130682 294.118125 \n",
       "L 370.667045 294.118125 \n",
       "L 370.667045 287.468273 \n",
       "L 368.130682 287.468273 \n",
       "z\n",
       "\" style=\"fill:#1f77b4;\"/>\n",
       "   </g>\n",
       "   <g id=\"patch_121\">\n",
       "    <path clip-path=\"url(#p83da3b40a9)\" d=\"M 370.667045 294.118125 \n",
       "L 373.203409 294.118125 \n",
       "L 373.203409 284.990462 \n",
       "L 370.667045 284.990462 \n",
       "z\n",
       "\" style=\"fill:#1f77b4;\"/>\n",
       "   </g>\n",
       "   <g id=\"patch_122\">\n",
       "    <path clip-path=\"url(#p83da3b40a9)\" d=\"M 373.203409 294.118125 \n",
       "L 375.739773 294.118125 \n",
       "L 375.739773 258.391053 \n",
       "L 373.203409 258.391053 \n",
       "z\n",
       "\" style=\"fill:#1f77b4;\"/>\n",
       "   </g>\n",
       "   <g id=\"patch_123\">\n",
       "    <path clip-path=\"url(#p83da3b40a9)\" d=\"M 375.739773 294.118125 \n",
       "L 378.276136 294.118125 \n",
       "L 378.276136 278.488855 \n",
       "L 375.739773 278.488855 \n",
       "z\n",
       "\" style=\"fill:#1f77b4;\"/>\n",
       "   </g>\n",
       "   <g id=\"patch_124\">\n",
       "    <path clip-path=\"url(#p83da3b40a9)\" d=\"M 378.276136 294.118125 \n",
       "L 380.8125 294.118125 \n",
       "L 380.8125 291.830915 \n",
       "L 378.276136 291.830915 \n",
       "z\n",
       "\" style=\"fill:#1f77b4;\"/>\n",
       "   </g>\n",
       "   <g id=\"patch_125\">\n",
       "    <path clip-path=\"url(#p83da3b40a9)\" d=\"M 380.8125 294.118125 \n",
       "L 383.348864 294.118125 \n",
       "L 383.348864 286.832937 \n",
       "L 380.8125 286.832937 \n",
       "z\n",
       "\" style=\"fill:#1f77b4;\"/>\n",
       "   </g>\n",
       "   <g id=\"patch_126\">\n",
       "    <path clip-path=\"url(#p83da3b40a9)\" d=\"M 383.348864 294.118125 \n",
       "L 385.885227 294.118125 \n",
       "L 385.885227 288.527167 \n",
       "L 383.348864 288.527167 \n",
       "z\n",
       "\" style=\"fill:#1f77b4;\"/>\n",
       "   </g>\n",
       "   <g id=\"patch_127\">\n",
       "    <path clip-path=\"url(#p83da3b40a9)\" d=\"M 385.885227 294.118125 \n",
       "L 388.421591 294.118125 \n",
       "L 388.421591 282.110271 \n",
       "L 385.885227 282.110271 \n",
       "z\n",
       "\" style=\"fill:#1f77b4;\"/>\n",
       "   </g>\n",
       "   <g id=\"patch_128\">\n",
       "    <path clip-path=\"url(#p83da3b40a9)\" d=\"M 388.421591 294.118125 \n",
       "L 390.957955 294.118125 \n",
       "L 390.957955 267.709317 \n",
       "L 388.421591 267.709317 \n",
       "z\n",
       "\" style=\"fill:#1f77b4;\"/>\n",
       "   </g>\n",
       "   <g id=\"patch_129\">\n",
       "    <path clip-path=\"url(#p83da3b40a9)\" d=\"M 390.957955 294.118125 \n",
       "L 393.494318 294.118125 \n",
       "L 393.494318 289.98844 \n",
       "L 390.957955 289.98844 \n",
       "z\n",
       "\" style=\"fill:#1f77b4;\"/>\n",
       "   </g>\n",
       "   <g id=\"patch_130\">\n",
       "    <path clip-path=\"url(#p83da3b40a9)\" d=\"M 393.494318 294.118125 \n",
       "L 396.030682 294.118125 \n",
       "L 396.030682 287.256494 \n",
       "L 393.494318 287.256494 \n",
       "z\n",
       "\" style=\"fill:#1f77b4;\"/>\n",
       "   </g>\n",
       "   <g id=\"patch_131\">\n",
       "    <path clip-path=\"url(#p83da3b40a9)\" d=\"M 396.030682 294.118125 \n",
       "L 398.567045 294.118125 \n",
       "L 398.567045 283.868034 \n",
       "L 396.030682 283.868034 \n",
       "z\n",
       "\" style=\"fill:#1f77b4;\"/>\n",
       "   </g>\n",
       "   <g id=\"patch_132\">\n",
       "    <path clip-path=\"url(#p83da3b40a9)\" d=\"M 398.567045 294.118125 \n",
       "L 401.103409 294.118125 \n",
       "L 401.103409 260.805331 \n",
       "L 398.567045 260.805331 \n",
       "z\n",
       "\" style=\"fill:#1f77b4;\"/>\n",
       "   </g>\n",
       "   <g id=\"patch_133\">\n",
       "    <path clip-path=\"url(#p83da3b40a9)\" d=\"M 401.103409 294.118125 \n",
       "L 403.639773 294.118125 \n",
       "L 403.639773 281.538468 \n",
       "L 401.103409 281.538468 \n",
       "z\n",
       "\" style=\"fill:#1f77b4;\"/>\n",
       "   </g>\n",
       "   <g id=\"patch_134\">\n",
       "    <path clip-path=\"url(#p83da3b40a9)\" d=\"M 403.639773 294.118125 \n",
       "L 406.176136 294.118125 \n",
       "L 406.176136 292.021516 \n",
       "L 403.639773 292.021516 \n",
       "z\n",
       "\" style=\"fill:#1f77b4;\"/>\n",
       "   </g>\n",
       "   <g id=\"patch_135\">\n",
       "    <path clip-path=\"url(#p83da3b40a9)\" d=\"M 406.176136 294.118125 \n",
       "L 408.7125 294.118125 \n",
       "L 408.7125 287.108249 \n",
       "L 406.176136 287.108249 \n",
       "z\n",
       "\" style=\"fill:#1f77b4;\"/>\n",
       "   </g>\n",
       "   <g id=\"patch_136\">\n",
       "    <path clip-path=\"url(#p83da3b40a9)\" d=\"M 408.7125 294.118125 \n",
       "L 411.248864 294.118125 \n",
       "L 411.248864 290.221396 \n",
       "L 408.7125 290.221396 \n",
       "z\n",
       "\" style=\"fill:#1f77b4;\"/>\n",
       "   </g>\n",
       "   <g id=\"patch_137\">\n",
       "    <path clip-path=\"url(#p83da3b40a9)\" d=\"M 411.248864 294.118125 \n",
       "L 413.785227 294.118125 \n",
       "L 413.785227 284.143347 \n",
       "L 411.248864 284.143347 \n",
       "z\n",
       "\" style=\"fill:#1f77b4;\"/>\n",
       "   </g>\n",
       "   <g id=\"patch_138\">\n",
       "    <path clip-path=\"url(#p83da3b40a9)\" d=\"M 413.785227 294.118125 \n",
       "L 416.321591 294.118125 \n",
       "L 416.321591 272.876718 \n",
       "L 413.785227 272.876718 \n",
       "z\n",
       "\" style=\"fill:#1f77b4;\"/>\n",
       "   </g>\n",
       "   <g id=\"patch_139\">\n",
       "    <path clip-path=\"url(#p83da3b40a9)\" d=\"M 416.321591 294.118125 \n",
       "L 418.857955 294.118125 \n",
       "L 418.857955 290.856733 \n",
       "L 416.321591 290.856733 \n",
       "z\n",
       "\" style=\"fill:#1f77b4;\"/>\n",
       "   </g>\n",
       "   <g id=\"patch_140\">\n",
       "    <path clip-path=\"url(#p83da3b40a9)\" d=\"M 418.857955 294.118125 \n",
       "L 421.394318 294.118125 \n",
       "L 421.394318 288.760123 \n",
       "L 418.857955 288.760123 \n",
       "z\n",
       "\" style=\"fill:#1f77b4;\"/>\n",
       "   </g>\n",
       "   <g id=\"patch_141\">\n",
       "    <path clip-path=\"url(#p83da3b40a9)\" d=\"M 421.394318 294.118125 \n",
       "L 423.930682 294.118125 \n",
       "L 423.930682 286.218778 \n",
       "L 421.394318 286.218778 \n",
       "z\n",
       "\" style=\"fill:#1f77b4;\"/>\n",
       "   </g>\n",
       "   <g id=\"patch_142\">\n",
       "    <path clip-path=\"url(#p83da3b40a9)\" d=\"M 423.930682 294.118125 \n",
       "L 426.467045 294.118125 \n",
       "L 426.467045 261.292422 \n",
       "L 423.930682 261.292422 \n",
       "z\n",
       "\" style=\"fill:#1f77b4;\"/>\n",
       "   </g>\n",
       "   <g id=\"patch_143\">\n",
       "    <path clip-path=\"url(#p83da3b40a9)\" d=\"M 426.467045 294.118125 \n",
       "L 429.003409 294.118125 \n",
       "L 429.003409 282.91503 \n",
       "L 426.467045 282.91503 \n",
       "z\n",
       "\" style=\"fill:#1f77b4;\"/>\n",
       "   </g>\n",
       "   <g id=\"patch_144\">\n",
       "    <path clip-path=\"url(#p83da3b40a9)\" d=\"M 429.003409 294.118125 \n",
       "L 431.539773 294.118125 \n",
       "L 431.539773 292.57214 \n",
       "L 429.003409 292.57214 \n",
       "z\n",
       "\" style=\"fill:#1f77b4;\"/>\n",
       "   </g>\n",
       "   <g id=\"patch_145\">\n",
       "    <path clip-path=\"url(#p83da3b40a9)\" d=\"M 431.539773 294.118125 \n",
       "L 434.076136 294.118125 \n",
       "L 434.076136 287.616518 \n",
       "L 431.539773 287.616518 \n",
       "z\n",
       "\" style=\"fill:#1f77b4;\"/>\n",
       "   </g>\n",
       "   <g id=\"patch_146\">\n",
       "    <path clip-path=\"url(#p83da3b40a9)\" d=\"M 434.076136 294.118125 \n",
       "L 436.6125 294.118125 \n",
       "L 436.6125 289.967262 \n",
       "L 434.076136 289.967262 \n",
       "z\n",
       "\" style=\"fill:#1f77b4;\"/>\n",
       "   </g>\n",
       "   <g id=\"patch_147\">\n",
       "    <path clip-path=\"url(#p83da3b40a9)\" d=\"M 436.6125 294.118125 \n",
       "L 439.148864 294.118125 \n",
       "L 439.148864 286.875292 \n",
       "L 436.6125 286.875292 \n",
       "z\n",
       "\" style=\"fill:#1f77b4;\"/>\n",
       "   </g>\n",
       "   <g id=\"patch_148\">\n",
       "    <path clip-path=\"url(#p83da3b40a9)\" d=\"M 439.148864 294.118125 \n",
       "L 441.685227 294.118125 \n",
       "L 441.685227 274.105035 \n",
       "L 439.148864 274.105035 \n",
       "z\n",
       "\" style=\"fill:#1f77b4;\"/>\n",
       "   </g>\n",
       "   <g id=\"patch_149\">\n",
       "    <path clip-path=\"url(#p83da3b40a9)\" d=\"M 441.685227 294.118125 \n",
       "L 444.221591 294.118125 \n",
       "L 444.221591 290.899088 \n",
       "L 441.685227 290.899088 \n",
       "z\n",
       "\" style=\"fill:#1f77b4;\"/>\n",
       "   </g>\n",
       "   <g id=\"patch_150\">\n",
       "    <path clip-path=\"url(#p83da3b40a9)\" d=\"M 444.221591 294.118125 \n",
       "L 446.757955 294.118125 \n",
       "L 446.757955 288.802479 \n",
       "L 444.221591 288.802479 \n",
       "z\n",
       "\" style=\"fill:#1f77b4;\"/>\n",
       "   </g>\n",
       "   <g id=\"patch_151\">\n",
       "    <path clip-path=\"url(#p83da3b40a9)\" d=\"M 446.757955 294.118125 \n",
       "L 449.294318 294.118125 \n",
       "L 449.294318 287.023538 \n",
       "L 446.757955 287.023538 \n",
       "z\n",
       "\" style=\"fill:#1f77b4;\"/>\n",
       "   </g>\n",
       "   <g id=\"patch_152\">\n",
       "    <path clip-path=\"url(#p83da3b40a9)\" d=\"M 449.294318 294.118125 \n",
       "L 451.830682 294.118125 \n",
       "L 451.830682 262.60545 \n",
       "L 449.294318 262.60545 \n",
       "z\n",
       "\" style=\"fill:#1f77b4;\"/>\n",
       "   </g>\n",
       "   <g id=\"patch_153\">\n",
       "    <path clip-path=\"url(#p83da3b40a9)\" d=\"M 451.830682 294.118125 \n",
       "L 454.367045 294.118125 \n",
       "L 454.367045 281.496113 \n",
       "L 451.830682 281.496113 \n",
       "z\n",
       "\" style=\"fill:#1f77b4;\"/>\n",
       "   </g>\n",
       "   <g id=\"patch_154\">\n",
       "    <path clip-path=\"url(#p83da3b40a9)\" d=\"M 454.367045 294.118125 \n",
       "L 456.903409 294.118125 \n",
       "L 456.903409 293.27101 \n",
       "L 454.367045 293.27101 \n",
       "z\n",
       "\" style=\"fill:#1f77b4;\"/>\n",
       "   </g>\n",
       "   <g id=\"patch_155\">\n",
       "    <path clip-path=\"url(#p83da3b40a9)\" d=\"M 456.903409 294.118125 \n",
       "L 459.439773 294.118125 \n",
       "L 459.439773 289.522527 \n",
       "L 456.903409 289.522527 \n",
       "z\n",
       "\" style=\"fill:#1f77b4;\"/>\n",
       "   </g>\n",
       "   <g id=\"patch_156\">\n",
       "    <path clip-path=\"url(#p83da3b40a9)\" d=\"M 459.439773 294.118125 \n",
       "L 461.976136 294.118125 \n",
       "L 461.976136 291.004978 \n",
       "L 459.439773 291.004978 \n",
       "z\n",
       "\" style=\"fill:#1f77b4;\"/>\n",
       "   </g>\n",
       "   <g id=\"patch_157\">\n",
       "    <path clip-path=\"url(#p83da3b40a9)\" d=\"M 461.976136 294.118125 \n",
       "L 464.5125 294.118125 \n",
       "L 464.5125 286.536446 \n",
       "L 461.976136 286.536446 \n",
       "z\n",
       "\" style=\"fill:#1f77b4;\"/>\n",
       "   </g>\n",
       "   <g id=\"patch_158\">\n",
       "    <path clip-path=\"url(#p83da3b40a9)\" d=\"M 464.5125 294.118125 \n",
       "L 467.048864 294.118125 \n",
       "L 467.048864 278.552388 \n",
       "L 464.5125 278.552388 \n",
       "z\n",
       "\" style=\"fill:#1f77b4;\"/>\n",
       "   </g>\n",
       "   <g id=\"patch_159\">\n",
       "    <path clip-path=\"url(#p83da3b40a9)\" d=\"M 467.048864 294.118125 \n",
       "L 469.585227 294.118125 \n",
       "L 469.585227 291.068511 \n",
       "L 467.048864 291.068511 \n",
       "z\n",
       "\" style=\"fill:#1f77b4;\"/>\n",
       "   </g>\n",
       "   <g id=\"patch_160\">\n",
       "    <path clip-path=\"url(#p83da3b40a9)\" d=\"M 469.585227 294.118125 \n",
       "L 472.121591 294.118125 \n",
       "L 472.121591 289.840195 \n",
       "L 469.585227 289.840195 \n",
       "z\n",
       "\" style=\"fill:#1f77b4;\"/>\n",
       "   </g>\n",
       "   <g id=\"patch_161\">\n",
       "    <path clip-path=\"url(#p83da3b40a9)\" d=\"M 472.121591 294.118125 \n",
       "L 474.657955 294.118125 \n",
       "L 474.657955 287.99772 \n",
       "L 472.121591 287.99772 \n",
       "z\n",
       "\" style=\"fill:#1f77b4;\"/>\n",
       "   </g>\n",
       "   <g id=\"patch_162\">\n",
       "    <path clip-path=\"url(#p83da3b40a9)\" d=\"M 474.657955 294.118125 \n",
       "L 477.194318 294.118125 \n",
       "L 477.194318 270.060061 \n",
       "L 474.657955 270.060061 \n",
       "z\n",
       "\" style=\"fill:#1f77b4;\"/>\n",
       "   </g>\n",
       "   <g id=\"patch_163\">\n",
       "    <path clip-path=\"url(#p83da3b40a9)\" d=\"M 477.194318 294.118125 \n",
       "L 479.730682 294.118125 \n",
       "L 479.730682 286.938826 \n",
       "L 477.194318 286.938826 \n",
       "z\n",
       "\" style=\"fill:#1f77b4;\"/>\n",
       "   </g>\n",
       "   <g id=\"patch_164\">\n",
       "    <path clip-path=\"url(#p83da3b40a9)\" d=\"M 479.730682 294.118125 \n",
       "L 482.267045 294.118125 \n",
       "L 482.267045 293.059231 \n",
       "L 479.730682 293.059231 \n",
       "z\n",
       "\" style=\"fill:#1f77b4;\"/>\n",
       "   </g>\n",
       "   <g id=\"patch_165\">\n",
       "    <path clip-path=\"url(#p83da3b40a9)\" d=\"M 482.267045 294.118125 \n",
       "L 484.803409 294.118125 \n",
       "L 484.803409 289.713127 \n",
       "L 482.267045 289.713127 \n",
       "z\n",
       "\" style=\"fill:#1f77b4;\"/>\n",
       "   </g>\n",
       "   <g id=\"patch_166\">\n",
       "    <path clip-path=\"url(#p83da3b40a9)\" d=\"M 484.803409 294.118125 \n",
       "L 487.339773 294.118125 \n",
       "L 487.339773 290.644954 \n",
       "L 484.803409 290.644954 \n",
       "z\n",
       "\" style=\"fill:#1f77b4;\"/>\n",
       "   </g>\n",
       "   <g id=\"patch_167\">\n",
       "    <path clip-path=\"url(#p83da3b40a9)\" d=\"M 487.339773 294.118125 \n",
       "L 489.876136 294.118125 \n",
       "L 489.876136 287.341206 \n",
       "L 487.339773 287.341206 \n",
       "z\n",
       "\" style=\"fill:#1f77b4;\"/>\n",
       "   </g>\n",
       "   <g id=\"patch_168\">\n",
       "    <path clip-path=\"url(#p83da3b40a9)\" d=\"M 489.876136 294.118125 \n",
       "L 492.4125 294.118125 \n",
       "L 492.4125 279.484215 \n",
       "L 489.876136 279.484215 \n",
       "z\n",
       "\" style=\"fill:#1f77b4;\"/>\n",
       "   </g>\n",
       "   <g id=\"patch_169\">\n",
       "    <path clip-path=\"url(#p83da3b40a9)\" d=\"M 492.4125 294.118125 \n",
       "L 494.948864 294.118125 \n",
       "L 494.948864 292.212116 \n",
       "L 492.4125 292.212116 \n",
       "z\n",
       "\" style=\"fill:#1f77b4;\"/>\n",
       "   </g>\n",
       "   <g id=\"patch_170\">\n",
       "    <path clip-path=\"url(#p83da3b40a9)\" d=\"M 494.948864 294.118125 \n",
       "L 497.485227 294.118125 \n",
       "L 497.485227 289.734305 \n",
       "L 494.948864 289.734305 \n",
       "z\n",
       "\" style=\"fill:#1f77b4;\"/>\n",
       "   </g>\n",
       "   <g id=\"patch_171\">\n",
       "    <path clip-path=\"url(#p83da3b40a9)\" d=\"M 497.485227 294.118125 \n",
       "L 500.021591 294.118125 \n",
       "L 500.021591 287.680052 \n",
       "L 497.485227 287.680052 \n",
       "z\n",
       "\" style=\"fill:#1f77b4;\"/>\n",
       "   </g>\n",
       "   <g id=\"patch_172\">\n",
       "    <path clip-path=\"url(#p83da3b40a9)\" d=\"M 500.021591 294.118125 \n",
       "L 502.557955 294.118125 \n",
       "L 502.557955 271.457801 \n",
       "L 500.021591 271.457801 \n",
       "z\n",
       "\" style=\"fill:#1f77b4;\"/>\n",
       "   </g>\n",
       "   <g id=\"patch_173\">\n",
       "    <path clip-path=\"url(#p83da3b40a9)\" d=\"M 502.557955 294.118125 \n",
       "L 505.094318 294.118125 \n",
       "L 505.094318 287.89183 \n",
       "L 502.557955 287.89183 \n",
       "z\n",
       "\" style=\"fill:#1f77b4;\"/>\n",
       "   </g>\n",
       "   <g id=\"patch_174\">\n",
       "    <path clip-path=\"url(#p83da3b40a9)\" d=\"M 505.094318 294.118125 \n",
       "L 507.630682 294.118125 \n",
       "L 507.630682 293.038053 \n",
       "L 505.094318 293.038053 \n",
       "z\n",
       "\" style=\"fill:#1f77b4;\"/>\n",
       "   </g>\n",
       "   <g id=\"patch_175\">\n",
       "    <path clip-path=\"url(#p83da3b40a9)\" d=\"M 507.630682 294.118125 \n",
       "L 510.167045 294.118125 \n",
       "L 510.167045 290.221396 \n",
       "L 507.630682 290.221396 \n",
       "z\n",
       "\" style=\"fill:#1f77b4;\"/>\n",
       "   </g>\n",
       "   <g id=\"patch_176\">\n",
       "    <path clip-path=\"url(#p83da3b40a9)\" d=\"M 510.167045 294.118125 \n",
       "L 512.703409 294.118125 \n",
       "L 512.703409 291.809737 \n",
       "L 510.167045 291.809737 \n",
       "z\n",
       "\" style=\"fill:#1f77b4;\"/>\n",
       "   </g>\n",
       "   <g id=\"patch_177\">\n",
       "    <path clip-path=\"url(#p83da3b40a9)\" d=\"M 512.703409 294.118125 \n",
       "L 515.239773 294.118125 \n",
       "L 515.239773 287.701229 \n",
       "L 512.703409 287.701229 \n",
       "z\n",
       "\" style=\"fill:#1f77b4;\"/>\n",
       "   </g>\n",
       "   <g id=\"patch_178\">\n",
       "    <path clip-path=\"url(#p83da3b40a9)\" d=\"M 515.239773 294.118125 \n",
       "L 517.776136 294.118125 \n",
       "L 517.776136 281.369045 \n",
       "L 515.239773 281.369045 \n",
       "z\n",
       "\" style=\"fill:#1f77b4;\"/>\n",
       "   </g>\n",
       "   <g id=\"patch_179\">\n",
       "    <path clip-path=\"url(#p83da3b40a9)\" d=\"M 517.776136 294.118125 \n",
       "L 520.3125 294.118125 \n",
       "L 520.3125 292.762741 \n",
       "L 517.776136 292.762741 \n",
       "z\n",
       "\" style=\"fill:#1f77b4;\"/>\n",
       "   </g>\n",
       "   <g id=\"patch_180\">\n",
       "    <path clip-path=\"url(#p83da3b40a9)\" d=\"M 520.3125 294.118125 \n",
       "L 522.848864 294.118125 \n",
       "L 522.848864 291.513247 \n",
       "L 520.3125 291.513247 \n",
       "z\n",
       "\" style=\"fill:#1f77b4;\"/>\n",
       "   </g>\n",
       "   <g id=\"patch_181\">\n",
       "    <path clip-path=\"url(#p83da3b40a9)\" d=\"M 522.848864 294.118125 \n",
       "L 525.385227 294.118125 \n",
       "L 525.385227 288.844835 \n",
       "L 522.848864 288.844835 \n",
       "z\n",
       "\" style=\"fill:#1f77b4;\"/>\n",
       "   </g>\n",
       "   <g id=\"patch_182\">\n",
       "    <path clip-path=\"url(#p83da3b40a9)\" d=\"M 525.385227 294.118125 \n",
       "L 527.921591 294.118125 \n",
       "L 527.921591 276.201644 \n",
       "L 525.385227 276.201644 \n",
       "z\n",
       "\" style=\"fill:#1f77b4;\"/>\n",
       "   </g>\n",
       "   <g id=\"patch_183\">\n",
       "    <path clip-path=\"url(#p83da3b40a9)\" d=\"M 527.921591 294.118125 \n",
       "L 530.457955 294.118125 \n",
       "L 530.457955 287.785941 \n",
       "L 527.921591 287.785941 \n",
       "z\n",
       "\" style=\"fill:#1f77b4;\"/>\n",
       "   </g>\n",
       "   <g id=\"patch_184\">\n",
       "    <path clip-path=\"url(#p83da3b40a9)\" d=\"M 530.457955 294.118125 \n",
       "L 532.994318 294.118125 \n",
       "L 532.994318 293.228654 \n",
       "L 530.457955 293.228654 \n",
       "z\n",
       "\" style=\"fill:#1f77b4;\"/>\n",
       "   </g>\n",
       "   <g id=\"patch_185\">\n",
       "    <path clip-path=\"url(#p83da3b40a9)\" d=\"M 532.994318 294.118125 \n",
       "L 535.530682 294.118125 \n",
       "L 535.530682 291.343824 \n",
       "L 532.994318 291.343824 \n",
       "z\n",
       "\" style=\"fill:#1f77b4;\"/>\n",
       "   </g>\n",
       "   <g id=\"patch_186\">\n",
       "    <path clip-path=\"url(#p83da3b40a9)\" d=\"M 535.530682 294.118125 \n",
       "L 538.067045 294.118125 \n",
       "L 538.067045 291.68267 \n",
       "L 535.530682 291.68267 \n",
       "z\n",
       "\" style=\"fill:#1f77b4;\"/>\n",
       "   </g>\n",
       "   <g id=\"patch_187\">\n",
       "    <path clip-path=\"url(#p83da3b40a9)\" d=\"M 538.067045 294.118125 \n",
       "L 540.603409 294.118125 \n",
       "L 540.603409 289.628416 \n",
       "L 538.067045 289.628416 \n",
       "z\n",
       "\" style=\"fill:#1f77b4;\"/>\n",
       "   </g>\n",
       "   <g id=\"patch_188\">\n",
       "    <path clip-path=\"url(#p83da3b40a9)\" d=\"M 540.603409 294.118125 \n",
       "L 543.139773 294.118125 \n",
       "L 543.139773 283.169165 \n",
       "L 540.603409 283.169165 \n",
       "z\n",
       "\" style=\"fill:#1f77b4;\"/>\n",
       "   </g>\n",
       "   <g id=\"patch_189\">\n",
       "    <path clip-path=\"url(#p83da3b40a9)\" d=\"M 543.139773 294.118125 \n",
       "L 545.676136 294.118125 \n",
       "L 545.676136 292.529785 \n",
       "L 543.139773 292.529785 \n",
       "z\n",
       "\" style=\"fill:#1f77b4;\"/>\n",
       "   </g>\n",
       "   <g id=\"patch_190\">\n",
       "    <path clip-path=\"url(#p83da3b40a9)\" d=\"M 545.676136 294.118125 \n",
       "L 548.2125 294.118125 \n",
       "L 548.2125 290.920266 \n",
       "L 545.676136 290.920266 \n",
       "z\n",
       "\" style=\"fill:#1f77b4;\"/>\n",
       "   </g>\n",
       "   <g id=\"patch_191\">\n",
       "    <path clip-path=\"url(#p83da3b40a9)\" d=\"M 548.2125 294.118125 \n",
       "L 550.748864 294.118125 \n",
       "L 550.748864 290.602598 \n",
       "L 548.2125 290.602598 \n",
       "z\n",
       "\" style=\"fill:#1f77b4;\"/>\n",
       "   </g>\n",
       "   <g id=\"patch_192\">\n",
       "    <path clip-path=\"url(#p83da3b40a9)\" d=\"M 550.748864 294.118125 \n",
       "L 553.285227 294.118125 \n",
       "L 553.285227 279.441859 \n",
       "L 550.748864 279.441859 \n",
       "z\n",
       "\" style=\"fill:#1f77b4;\"/>\n",
       "   </g>\n",
       "   <g id=\"patch_193\">\n",
       "    <path clip-path=\"url(#p83da3b40a9)\" d=\"M 553.285227 294.118125 \n",
       "L 555.821591 294.118125 \n",
       "L 555.821591 289.247214 \n",
       "L 553.285227 289.247214 \n",
       "z\n",
       "\" style=\"fill:#1f77b4;\"/>\n",
       "   </g>\n",
       "   <g id=\"patch_194\">\n",
       "    <path clip-path=\"url(#p83da3b40a9)\" d=\"M 555.821591 294.118125 \n",
       "L 558.357955 294.118125 \n",
       "L 558.357955 293.503967 \n",
       "L 555.821591 293.503967 \n",
       "z\n",
       "\" style=\"fill:#1f77b4;\"/>\n",
       "   </g>\n",
       "   <g id=\"patch_195\">\n",
       "    <path clip-path=\"url(#p83da3b40a9)\" d=\"M 558.357955 294.118125 \n",
       "L 560.894318 294.118125 \n",
       "L 560.894318 291.830915 \n",
       "L 558.357955 291.830915 \n",
       "z\n",
       "\" style=\"fill:#1f77b4;\"/>\n",
       "   </g>\n",
       "   <g id=\"patch_196\">\n",
       "    <path clip-path=\"url(#p83da3b40a9)\" d=\"M 560.894318 294.118125 \n",
       "L 563.430682 294.118125 \n",
       "L 563.430682 292.614496 \n",
       "L 560.894318 292.614496 \n",
       "z\n",
       "\" style=\"fill:#1f77b4;\"/>\n",
       "   </g>\n",
       "   <g id=\"patch_197\">\n",
       "    <path clip-path=\"url(#p83da3b40a9)\" d=\"M 563.430682 294.118125 \n",
       "L 565.967045 294.118125 \n",
       "L 565.967045 290.835555 \n",
       "L 563.430682 290.835555 \n",
       "z\n",
       "\" style=\"fill:#1f77b4;\"/>\n",
       "   </g>\n",
       "   <g id=\"patch_198\">\n",
       "    <path clip-path=\"url(#p83da3b40a9)\" d=\"M 565.967045 294.118125 \n",
       "L 568.503409 294.118125 \n",
       "L 568.503409 284.588082 \n",
       "L 565.967045 284.588082 \n",
       "z\n",
       "\" style=\"fill:#1f77b4;\"/>\n",
       "   </g>\n",
       "   <g id=\"patch_199\">\n",
       "    <path clip-path=\"url(#p83da3b40a9)\" d=\"M 568.503409 294.118125 \n",
       "L 571.039773 294.118125 \n",
       "L 571.039773 292.67803 \n",
       "L 568.503409 292.67803 \n",
       "z\n",
       "\" style=\"fill:#1f77b4;\"/>\n",
       "   </g>\n",
       "   <g id=\"patch_200\">\n",
       "    <path clip-path=\"url(#p83da3b40a9)\" d=\"M 571.039773 294.118125 \n",
       "L 573.576136 294.118125 \n",
       "L 573.576136 292.148583 \n",
       "L 571.039773 292.148583 \n",
       "z\n",
       "\" style=\"fill:#1f77b4;\"/>\n",
       "   </g>\n",
       "   <g id=\"patch_201\">\n",
       "    <path clip-path=\"url(#p83da3b40a9)\" d=\"M 573.576136 294.118125 \n",
       "L 576.1125 294.118125 \n",
       "L 576.1125 290.517887 \n",
       "L 573.576136 290.517887 \n",
       "z\n",
       "\" style=\"fill:#1f77b4;\"/>\n",
       "   </g>\n",
       "   <g id=\"patch_202\">\n",
       "    <path clip-path=\"url(#p83da3b40a9)\" d=\"M 576.1125 294.118125 \n",
       "L 578.648864 294.118125 \n",
       "L 578.648864 268.747033 \n",
       "L 576.1125 268.747033 \n",
       "z\n",
       "\" style=\"fill:#1f77b4;\"/>\n",
       "   </g>\n",
       "   <g id=\"matplotlib.axis_1\">\n",
       "    <g id=\"xtick_1\">\n",
       "     <g id=\"line2d_1\">\n",
       "      <path clip-path=\"url(#p83da3b40a9)\" d=\"M 71.376136 294.118125 \n",
       "L 71.376136 22.318125 \n",
       "\" style=\"fill:none;stroke:#b0b0b0;stroke-linecap:square;stroke-width:0.8;\"/>\n",
       "     </g>\n",
       "     <g id=\"line2d_2\">\n",
       "      <defs>\n",
       "       <path d=\"M 0 0 \n",
       "L 0 3.5 \n",
       "\" id=\"m238d3a2124\" style=\"stroke:#000000;stroke-width:0.8;\"/>\n",
       "      </defs>\n",
       "      <g>\n",
       "       <use style=\"stroke:#000000;stroke-width:0.8;\" x=\"71.376136\" xlink:href=\"#m238d3a2124\" y=\"294.118125\"/>\n",
       "      </g>\n",
       "     </g>\n",
       "     <g id=\"text_1\">\n",
       "      <!-- 0 -->\n",
       "      <g transform=\"translate(68.194886 308.716563)scale(0.1 -0.1)\">\n",
       "       <defs>\n",
       "        <path d=\"M 31.78125 66.40625 \n",
       "Q 24.171875 66.40625 20.328125 58.90625 \n",
       "Q 16.5 51.421875 16.5 36.375 \n",
       "Q 16.5 21.390625 20.328125 13.890625 \n",
       "Q 24.171875 6.390625 31.78125 6.390625 \n",
       "Q 39.453125 6.390625 43.28125 13.890625 \n",
       "Q 47.125 21.390625 47.125 36.375 \n",
       "Q 47.125 51.421875 43.28125 58.90625 \n",
       "Q 39.453125 66.40625 31.78125 66.40625 \n",
       "z\n",
       "M 31.78125 74.21875 \n",
       "Q 44.046875 74.21875 50.515625 64.515625 \n",
       "Q 56.984375 54.828125 56.984375 36.375 \n",
       "Q 56.984375 17.96875 50.515625 8.265625 \n",
       "Q 44.046875 -1.421875 31.78125 -1.421875 \n",
       "Q 19.53125 -1.421875 13.0625 8.265625 \n",
       "Q 6.59375 17.96875 6.59375 36.375 \n",
       "Q 6.59375 54.828125 13.0625 64.515625 \n",
       "Q 19.53125 74.21875 31.78125 74.21875 \n",
       "z\n",
       "\" id=\"DejaVuSans-48\"/>\n",
       "       </defs>\n",
       "       <use xlink:href=\"#DejaVuSans-48\"/>\n",
       "      </g>\n",
       "     </g>\n",
       "    </g>\n",
       "    <g id=\"xtick_2\">\n",
       "     <g id=\"line2d_3\">\n",
       "      <path clip-path=\"url(#p83da3b40a9)\" d=\"M 134.785227 294.118125 \n",
       "L 134.785227 22.318125 \n",
       "\" style=\"fill:none;stroke:#b0b0b0;stroke-linecap:square;stroke-width:0.8;\"/>\n",
       "     </g>\n",
       "     <g id=\"line2d_4\">\n",
       "      <g>\n",
       "       <use style=\"stroke:#000000;stroke-width:0.8;\" x=\"134.785227\" xlink:href=\"#m238d3a2124\" y=\"294.118125\"/>\n",
       "      </g>\n",
       "     </g>\n",
       "     <g id=\"text_2\">\n",
       "      <!-- 2500 -->\n",
       "      <g transform=\"translate(122.060227 308.716563)scale(0.1 -0.1)\">\n",
       "       <defs>\n",
       "        <path d=\"M 19.1875 8.296875 \n",
       "L 53.609375 8.296875 \n",
       "L 53.609375 0 \n",
       "L 7.328125 0 \n",
       "L 7.328125 8.296875 \n",
       "Q 12.9375 14.109375 22.625 23.890625 \n",
       "Q 32.328125 33.6875 34.8125 36.53125 \n",
       "Q 39.546875 41.84375 41.421875 45.53125 \n",
       "Q 43.3125 49.21875 43.3125 52.78125 \n",
       "Q 43.3125 58.59375 39.234375 62.25 \n",
       "Q 35.15625 65.921875 28.609375 65.921875 \n",
       "Q 23.96875 65.921875 18.8125 64.3125 \n",
       "Q 13.671875 62.703125 7.8125 59.421875 \n",
       "L 7.8125 69.390625 \n",
       "Q 13.765625 71.78125 18.9375 73 \n",
       "Q 24.125 74.21875 28.421875 74.21875 \n",
       "Q 39.75 74.21875 46.484375 68.546875 \n",
       "Q 53.21875 62.890625 53.21875 53.421875 \n",
       "Q 53.21875 48.921875 51.53125 44.890625 \n",
       "Q 49.859375 40.875 45.40625 35.40625 \n",
       "Q 44.1875 33.984375 37.640625 27.21875 \n",
       "Q 31.109375 20.453125 19.1875 8.296875 \n",
       "z\n",
       "\" id=\"DejaVuSans-50\"/>\n",
       "        <path d=\"M 10.796875 72.90625 \n",
       "L 49.515625 72.90625 \n",
       "L 49.515625 64.59375 \n",
       "L 19.828125 64.59375 \n",
       "L 19.828125 46.734375 \n",
       "Q 21.96875 47.46875 24.109375 47.828125 \n",
       "Q 26.265625 48.1875 28.421875 48.1875 \n",
       "Q 40.625 48.1875 47.75 41.5 \n",
       "Q 54.890625 34.8125 54.890625 23.390625 \n",
       "Q 54.890625 11.625 47.5625 5.09375 \n",
       "Q 40.234375 -1.421875 26.90625 -1.421875 \n",
       "Q 22.3125 -1.421875 17.546875 -0.640625 \n",
       "Q 12.796875 0.140625 7.71875 1.703125 \n",
       "L 7.71875 11.625 \n",
       "Q 12.109375 9.234375 16.796875 8.0625 \n",
       "Q 21.484375 6.890625 26.703125 6.890625 \n",
       "Q 35.15625 6.890625 40.078125 11.328125 \n",
       "Q 45.015625 15.765625 45.015625 23.390625 \n",
       "Q 45.015625 31 40.078125 35.4375 \n",
       "Q 35.15625 39.890625 26.703125 39.890625 \n",
       "Q 22.75 39.890625 18.8125 39.015625 \n",
       "Q 14.890625 38.140625 10.796875 36.28125 \n",
       "z\n",
       "\" id=\"DejaVuSans-53\"/>\n",
       "       </defs>\n",
       "       <use xlink:href=\"#DejaVuSans-50\"/>\n",
       "       <use x=\"63.623047\" xlink:href=\"#DejaVuSans-53\"/>\n",
       "       <use x=\"127.246094\" xlink:href=\"#DejaVuSans-48\"/>\n",
       "       <use x=\"190.869141\" xlink:href=\"#DejaVuSans-48\"/>\n",
       "      </g>\n",
       "     </g>\n",
       "    </g>\n",
       "    <g id=\"xtick_3\">\n",
       "     <g id=\"line2d_5\">\n",
       "      <path clip-path=\"url(#p83da3b40a9)\" d=\"M 198.194318 294.118125 \n",
       "L 198.194318 22.318125 \n",
       "\" style=\"fill:none;stroke:#b0b0b0;stroke-linecap:square;stroke-width:0.8;\"/>\n",
       "     </g>\n",
       "     <g id=\"line2d_6\">\n",
       "      <g>\n",
       "       <use style=\"stroke:#000000;stroke-width:0.8;\" x=\"198.194318\" xlink:href=\"#m238d3a2124\" y=\"294.118125\"/>\n",
       "      </g>\n",
       "     </g>\n",
       "     <g id=\"text_3\">\n",
       "      <!-- 5000 -->\n",
       "      <g transform=\"translate(185.469318 308.716563)scale(0.1 -0.1)\">\n",
       "       <use xlink:href=\"#DejaVuSans-53\"/>\n",
       "       <use x=\"63.623047\" xlink:href=\"#DejaVuSans-48\"/>\n",
       "       <use x=\"127.246094\" xlink:href=\"#DejaVuSans-48\"/>\n",
       "       <use x=\"190.869141\" xlink:href=\"#DejaVuSans-48\"/>\n",
       "      </g>\n",
       "     </g>\n",
       "    </g>\n",
       "    <g id=\"xtick_4\">\n",
       "     <g id=\"line2d_7\">\n",
       "      <path clip-path=\"url(#p83da3b40a9)\" d=\"M 261.603409 294.118125 \n",
       "L 261.603409 22.318125 \n",
       "\" style=\"fill:none;stroke:#b0b0b0;stroke-linecap:square;stroke-width:0.8;\"/>\n",
       "     </g>\n",
       "     <g id=\"line2d_8\">\n",
       "      <g>\n",
       "       <use style=\"stroke:#000000;stroke-width:0.8;\" x=\"261.603409\" xlink:href=\"#m238d3a2124\" y=\"294.118125\"/>\n",
       "      </g>\n",
       "     </g>\n",
       "     <g id=\"text_4\">\n",
       "      <!-- 7500 -->\n",
       "      <g transform=\"translate(248.878409 308.716563)scale(0.1 -0.1)\">\n",
       "       <defs>\n",
       "        <path d=\"M 8.203125 72.90625 \n",
       "L 55.078125 72.90625 \n",
       "L 55.078125 68.703125 \n",
       "L 28.609375 0 \n",
       "L 18.3125 0 \n",
       "L 43.21875 64.59375 \n",
       "L 8.203125 64.59375 \n",
       "z\n",
       "\" id=\"DejaVuSans-55\"/>\n",
       "       </defs>\n",
       "       <use xlink:href=\"#DejaVuSans-55\"/>\n",
       "       <use x=\"63.623047\" xlink:href=\"#DejaVuSans-53\"/>\n",
       "       <use x=\"127.246094\" xlink:href=\"#DejaVuSans-48\"/>\n",
       "       <use x=\"190.869141\" xlink:href=\"#DejaVuSans-48\"/>\n",
       "      </g>\n",
       "     </g>\n",
       "    </g>\n",
       "    <g id=\"xtick_5\">\n",
       "     <g id=\"line2d_9\">\n",
       "      <path clip-path=\"url(#p83da3b40a9)\" d=\"M 325.0125 294.118125 \n",
       "L 325.0125 22.318125 \n",
       "\" style=\"fill:none;stroke:#b0b0b0;stroke-linecap:square;stroke-width:0.8;\"/>\n",
       "     </g>\n",
       "     <g id=\"line2d_10\">\n",
       "      <g>\n",
       "       <use style=\"stroke:#000000;stroke-width:0.8;\" x=\"325.0125\" xlink:href=\"#m238d3a2124\" y=\"294.118125\"/>\n",
       "      </g>\n",
       "     </g>\n",
       "     <g id=\"text_5\">\n",
       "      <!-- 10000 -->\n",
       "      <g transform=\"translate(309.10625 308.716563)scale(0.1 -0.1)\">\n",
       "       <defs>\n",
       "        <path d=\"M 12.40625 8.296875 \n",
       "L 28.515625 8.296875 \n",
       "L 28.515625 63.921875 \n",
       "L 10.984375 60.40625 \n",
       "L 10.984375 69.390625 \n",
       "L 28.421875 72.90625 \n",
       "L 38.28125 72.90625 \n",
       "L 38.28125 8.296875 \n",
       "L 54.390625 8.296875 \n",
       "L 54.390625 0 \n",
       "L 12.40625 0 \n",
       "z\n",
       "\" id=\"DejaVuSans-49\"/>\n",
       "       </defs>\n",
       "       <use xlink:href=\"#DejaVuSans-49\"/>\n",
       "       <use x=\"63.623047\" xlink:href=\"#DejaVuSans-48\"/>\n",
       "       <use x=\"127.246094\" xlink:href=\"#DejaVuSans-48\"/>\n",
       "       <use x=\"190.869141\" xlink:href=\"#DejaVuSans-48\"/>\n",
       "       <use x=\"254.492188\" xlink:href=\"#DejaVuSans-48\"/>\n",
       "      </g>\n",
       "     </g>\n",
       "    </g>\n",
       "    <g id=\"xtick_6\">\n",
       "     <g id=\"line2d_11\">\n",
       "      <path clip-path=\"url(#p83da3b40a9)\" d=\"M 388.421591 294.118125 \n",
       "L 388.421591 22.318125 \n",
       "\" style=\"fill:none;stroke:#b0b0b0;stroke-linecap:square;stroke-width:0.8;\"/>\n",
       "     </g>\n",
       "     <g id=\"line2d_12\">\n",
       "      <g>\n",
       "       <use style=\"stroke:#000000;stroke-width:0.8;\" x=\"388.421591\" xlink:href=\"#m238d3a2124\" y=\"294.118125\"/>\n",
       "      </g>\n",
       "     </g>\n",
       "     <g id=\"text_6\">\n",
       "      <!-- 12500 -->\n",
       "      <g transform=\"translate(372.515341 308.716563)scale(0.1 -0.1)\">\n",
       "       <use xlink:href=\"#DejaVuSans-49\"/>\n",
       "       <use x=\"63.623047\" xlink:href=\"#DejaVuSans-50\"/>\n",
       "       <use x=\"127.246094\" xlink:href=\"#DejaVuSans-53\"/>\n",
       "       <use x=\"190.869141\" xlink:href=\"#DejaVuSans-48\"/>\n",
       "       <use x=\"254.492188\" xlink:href=\"#DejaVuSans-48\"/>\n",
       "      </g>\n",
       "     </g>\n",
       "    </g>\n",
       "    <g id=\"xtick_7\">\n",
       "     <g id=\"line2d_13\">\n",
       "      <path clip-path=\"url(#p83da3b40a9)\" d=\"M 451.830682 294.118125 \n",
       "L 451.830682 22.318125 \n",
       "\" style=\"fill:none;stroke:#b0b0b0;stroke-linecap:square;stroke-width:0.8;\"/>\n",
       "     </g>\n",
       "     <g id=\"line2d_14\">\n",
       "      <g>\n",
       "       <use style=\"stroke:#000000;stroke-width:0.8;\" x=\"451.830682\" xlink:href=\"#m238d3a2124\" y=\"294.118125\"/>\n",
       "      </g>\n",
       "     </g>\n",
       "     <g id=\"text_7\">\n",
       "      <!-- 15000 -->\n",
       "      <g transform=\"translate(435.924432 308.716563)scale(0.1 -0.1)\">\n",
       "       <use xlink:href=\"#DejaVuSans-49\"/>\n",
       "       <use x=\"63.623047\" xlink:href=\"#DejaVuSans-53\"/>\n",
       "       <use x=\"127.246094\" xlink:href=\"#DejaVuSans-48\"/>\n",
       "       <use x=\"190.869141\" xlink:href=\"#DejaVuSans-48\"/>\n",
       "       <use x=\"254.492188\" xlink:href=\"#DejaVuSans-48\"/>\n",
       "      </g>\n",
       "     </g>\n",
       "    </g>\n",
       "    <g id=\"xtick_8\">\n",
       "     <g id=\"line2d_15\">\n",
       "      <path clip-path=\"url(#p83da3b40a9)\" d=\"M 515.239773 294.118125 \n",
       "L 515.239773 22.318125 \n",
       "\" style=\"fill:none;stroke:#b0b0b0;stroke-linecap:square;stroke-width:0.8;\"/>\n",
       "     </g>\n",
       "     <g id=\"line2d_16\">\n",
       "      <g>\n",
       "       <use style=\"stroke:#000000;stroke-width:0.8;\" x=\"515.239773\" xlink:href=\"#m238d3a2124\" y=\"294.118125\"/>\n",
       "      </g>\n",
       "     </g>\n",
       "     <g id=\"text_8\">\n",
       "      <!-- 17500 -->\n",
       "      <g transform=\"translate(499.333523 308.716563)scale(0.1 -0.1)\">\n",
       "       <use xlink:href=\"#DejaVuSans-49\"/>\n",
       "       <use x=\"63.623047\" xlink:href=\"#DejaVuSans-55\"/>\n",
       "       <use x=\"127.246094\" xlink:href=\"#DejaVuSans-53\"/>\n",
       "       <use x=\"190.869141\" xlink:href=\"#DejaVuSans-48\"/>\n",
       "       <use x=\"254.492188\" xlink:href=\"#DejaVuSans-48\"/>\n",
       "      </g>\n",
       "     </g>\n",
       "    </g>\n",
       "    <g id=\"xtick_9\">\n",
       "     <g id=\"line2d_17\">\n",
       "      <path clip-path=\"url(#p83da3b40a9)\" d=\"M 578.648864 294.118125 \n",
       "L 578.648864 22.318125 \n",
       "\" style=\"fill:none;stroke:#b0b0b0;stroke-linecap:square;stroke-width:0.8;\"/>\n",
       "     </g>\n",
       "     <g id=\"line2d_18\">\n",
       "      <g>\n",
       "       <use style=\"stroke:#000000;stroke-width:0.8;\" x=\"578.648864\" xlink:href=\"#m238d3a2124\" y=\"294.118125\"/>\n",
       "      </g>\n",
       "     </g>\n",
       "     <g id=\"text_9\">\n",
       "      <!-- 20000 -->\n",
       "      <g transform=\"translate(562.742614 308.716563)scale(0.1 -0.1)\">\n",
       "       <use xlink:href=\"#DejaVuSans-50\"/>\n",
       "       <use x=\"63.623047\" xlink:href=\"#DejaVuSans-48\"/>\n",
       "       <use x=\"127.246094\" xlink:href=\"#DejaVuSans-48\"/>\n",
       "       <use x=\"190.869141\" xlink:href=\"#DejaVuSans-48\"/>\n",
       "       <use x=\"254.492188\" xlink:href=\"#DejaVuSans-48\"/>\n",
       "      </g>\n",
       "     </g>\n",
       "    </g>\n",
       "   </g>\n",
       "   <g id=\"matplotlib.axis_2\">\n",
       "    <g id=\"ytick_1\">\n",
       "     <g id=\"line2d_19\">\n",
       "      <path clip-path=\"url(#p83da3b40a9)\" d=\"M 46.0125 294.118125 \n",
       "L 604.0125 294.118125 \n",
       "\" style=\"fill:none;stroke:#b0b0b0;stroke-linecap:square;stroke-width:0.8;\"/>\n",
       "     </g>\n",
       "     <g id=\"line2d_20\">\n",
       "      <defs>\n",
       "       <path d=\"M 0 0 \n",
       "L -3.5 0 \n",
       "\" id=\"m9347d33740\" style=\"stroke:#000000;stroke-width:0.8;\"/>\n",
       "      </defs>\n",
       "      <g>\n",
       "       <use style=\"stroke:#000000;stroke-width:0.8;\" x=\"46.0125\" xlink:href=\"#m9347d33740\" y=\"294.118125\"/>\n",
       "      </g>\n",
       "     </g>\n",
       "     <g id=\"text_10\">\n",
       "      <!-- 0 -->\n",
       "      <g transform=\"translate(32.65 297.917344)scale(0.1 -0.1)\">\n",
       "       <use xlink:href=\"#DejaVuSans-48\"/>\n",
       "      </g>\n",
       "     </g>\n",
       "    </g>\n",
       "    <g id=\"ytick_2\">\n",
       "     <g id=\"line2d_21\">\n",
       "      <path clip-path=\"url(#p83da3b40a9)\" d=\"M 46.0125 251.762379 \n",
       "L 604.0125 251.762379 \n",
       "\" style=\"fill:none;stroke:#b0b0b0;stroke-linecap:square;stroke-width:0.8;\"/>\n",
       "     </g>\n",
       "     <g id=\"line2d_22\">\n",
       "      <g>\n",
       "       <use style=\"stroke:#000000;stroke-width:0.8;\" x=\"46.0125\" xlink:href=\"#m9347d33740\" y=\"251.762379\"/>\n",
       "      </g>\n",
       "     </g>\n",
       "     <g id=\"text_11\">\n",
       "      <!-- 2000 -->\n",
       "      <g transform=\"translate(13.5625 255.561598)scale(0.1 -0.1)\">\n",
       "       <use xlink:href=\"#DejaVuSans-50\"/>\n",
       "       <use x=\"63.623047\" xlink:href=\"#DejaVuSans-48\"/>\n",
       "       <use x=\"127.246094\" xlink:href=\"#DejaVuSans-48\"/>\n",
       "       <use x=\"190.869141\" xlink:href=\"#DejaVuSans-48\"/>\n",
       "      </g>\n",
       "     </g>\n",
       "    </g>\n",
       "    <g id=\"ytick_3\">\n",
       "     <g id=\"line2d_23\">\n",
       "      <path clip-path=\"url(#p83da3b40a9)\" d=\"M 46.0125 209.406633 \n",
       "L 604.0125 209.406633 \n",
       "\" style=\"fill:none;stroke:#b0b0b0;stroke-linecap:square;stroke-width:0.8;\"/>\n",
       "     </g>\n",
       "     <g id=\"line2d_24\">\n",
       "      <g>\n",
       "       <use style=\"stroke:#000000;stroke-width:0.8;\" x=\"46.0125\" xlink:href=\"#m9347d33740\" y=\"209.406633\"/>\n",
       "      </g>\n",
       "     </g>\n",
       "     <g id=\"text_12\">\n",
       "      <!-- 4000 -->\n",
       "      <g transform=\"translate(13.5625 213.205851)scale(0.1 -0.1)\">\n",
       "       <defs>\n",
       "        <path d=\"M 37.796875 64.3125 \n",
       "L 12.890625 25.390625 \n",
       "L 37.796875 25.390625 \n",
       "z\n",
       "M 35.203125 72.90625 \n",
       "L 47.609375 72.90625 \n",
       "L 47.609375 25.390625 \n",
       "L 58.015625 25.390625 \n",
       "L 58.015625 17.1875 \n",
       "L 47.609375 17.1875 \n",
       "L 47.609375 0 \n",
       "L 37.796875 0 \n",
       "L 37.796875 17.1875 \n",
       "L 4.890625 17.1875 \n",
       "L 4.890625 26.703125 \n",
       "z\n",
       "\" id=\"DejaVuSans-52\"/>\n",
       "       </defs>\n",
       "       <use xlink:href=\"#DejaVuSans-52\"/>\n",
       "       <use x=\"63.623047\" xlink:href=\"#DejaVuSans-48\"/>\n",
       "       <use x=\"127.246094\" xlink:href=\"#DejaVuSans-48\"/>\n",
       "       <use x=\"190.869141\" xlink:href=\"#DejaVuSans-48\"/>\n",
       "      </g>\n",
       "     </g>\n",
       "    </g>\n",
       "    <g id=\"ytick_4\">\n",
       "     <g id=\"line2d_25\">\n",
       "      <path clip-path=\"url(#p83da3b40a9)\" d=\"M 46.0125 167.050886 \n",
       "L 604.0125 167.050886 \n",
       "\" style=\"fill:none;stroke:#b0b0b0;stroke-linecap:square;stroke-width:0.8;\"/>\n",
       "     </g>\n",
       "     <g id=\"line2d_26\">\n",
       "      <g>\n",
       "       <use style=\"stroke:#000000;stroke-width:0.8;\" x=\"46.0125\" xlink:href=\"#m9347d33740\" y=\"167.050886\"/>\n",
       "      </g>\n",
       "     </g>\n",
       "     <g id=\"text_13\">\n",
       "      <!-- 6000 -->\n",
       "      <g transform=\"translate(13.5625 170.850105)scale(0.1 -0.1)\">\n",
       "       <defs>\n",
       "        <path d=\"M 33.015625 40.375 \n",
       "Q 26.375 40.375 22.484375 35.828125 \n",
       "Q 18.609375 31.296875 18.609375 23.390625 \n",
       "Q 18.609375 15.53125 22.484375 10.953125 \n",
       "Q 26.375 6.390625 33.015625 6.390625 \n",
       "Q 39.65625 6.390625 43.53125 10.953125 \n",
       "Q 47.40625 15.53125 47.40625 23.390625 \n",
       "Q 47.40625 31.296875 43.53125 35.828125 \n",
       "Q 39.65625 40.375 33.015625 40.375 \n",
       "z\n",
       "M 52.59375 71.296875 \n",
       "L 52.59375 62.3125 \n",
       "Q 48.875 64.0625 45.09375 64.984375 \n",
       "Q 41.3125 65.921875 37.59375 65.921875 \n",
       "Q 27.828125 65.921875 22.671875 59.328125 \n",
       "Q 17.53125 52.734375 16.796875 39.40625 \n",
       "Q 19.671875 43.65625 24.015625 45.921875 \n",
       "Q 28.375 48.1875 33.59375 48.1875 \n",
       "Q 44.578125 48.1875 50.953125 41.515625 \n",
       "Q 57.328125 34.859375 57.328125 23.390625 \n",
       "Q 57.328125 12.15625 50.6875 5.359375 \n",
       "Q 44.046875 -1.421875 33.015625 -1.421875 \n",
       "Q 20.359375 -1.421875 13.671875 8.265625 \n",
       "Q 6.984375 17.96875 6.984375 36.375 \n",
       "Q 6.984375 53.65625 15.1875 63.9375 \n",
       "Q 23.390625 74.21875 37.203125 74.21875 \n",
       "Q 40.921875 74.21875 44.703125 73.484375 \n",
       "Q 48.484375 72.75 52.59375 71.296875 \n",
       "z\n",
       "\" id=\"DejaVuSans-54\"/>\n",
       "       </defs>\n",
       "       <use xlink:href=\"#DejaVuSans-54\"/>\n",
       "       <use x=\"63.623047\" xlink:href=\"#DejaVuSans-48\"/>\n",
       "       <use x=\"127.246094\" xlink:href=\"#DejaVuSans-48\"/>\n",
       "       <use x=\"190.869141\" xlink:href=\"#DejaVuSans-48\"/>\n",
       "      </g>\n",
       "     </g>\n",
       "    </g>\n",
       "    <g id=\"ytick_5\">\n",
       "     <g id=\"line2d_27\">\n",
       "      <path clip-path=\"url(#p83da3b40a9)\" d=\"M 46.0125 124.69514 \n",
       "L 604.0125 124.69514 \n",
       "\" style=\"fill:none;stroke:#b0b0b0;stroke-linecap:square;stroke-width:0.8;\"/>\n",
       "     </g>\n",
       "     <g id=\"line2d_28\">\n",
       "      <g>\n",
       "       <use style=\"stroke:#000000;stroke-width:0.8;\" x=\"46.0125\" xlink:href=\"#m9347d33740\" y=\"124.69514\"/>\n",
       "      </g>\n",
       "     </g>\n",
       "     <g id=\"text_14\">\n",
       "      <!-- 8000 -->\n",
       "      <g transform=\"translate(13.5625 128.494359)scale(0.1 -0.1)\">\n",
       "       <defs>\n",
       "        <path d=\"M 31.78125 34.625 \n",
       "Q 24.75 34.625 20.71875 30.859375 \n",
       "Q 16.703125 27.09375 16.703125 20.515625 \n",
       "Q 16.703125 13.921875 20.71875 10.15625 \n",
       "Q 24.75 6.390625 31.78125 6.390625 \n",
       "Q 38.8125 6.390625 42.859375 10.171875 \n",
       "Q 46.921875 13.96875 46.921875 20.515625 \n",
       "Q 46.921875 27.09375 42.890625 30.859375 \n",
       "Q 38.875 34.625 31.78125 34.625 \n",
       "z\n",
       "M 21.921875 38.8125 \n",
       "Q 15.578125 40.375 12.03125 44.71875 \n",
       "Q 8.5 49.078125 8.5 55.328125 \n",
       "Q 8.5 64.0625 14.71875 69.140625 \n",
       "Q 20.953125 74.21875 31.78125 74.21875 \n",
       "Q 42.671875 74.21875 48.875 69.140625 \n",
       "Q 55.078125 64.0625 55.078125 55.328125 \n",
       "Q 55.078125 49.078125 51.53125 44.71875 \n",
       "Q 48 40.375 41.703125 38.8125 \n",
       "Q 48.828125 37.15625 52.796875 32.3125 \n",
       "Q 56.78125 27.484375 56.78125 20.515625 \n",
       "Q 56.78125 9.90625 50.3125 4.234375 \n",
       "Q 43.84375 -1.421875 31.78125 -1.421875 \n",
       "Q 19.734375 -1.421875 13.25 4.234375 \n",
       "Q 6.78125 9.90625 6.78125 20.515625 \n",
       "Q 6.78125 27.484375 10.78125 32.3125 \n",
       "Q 14.796875 37.15625 21.921875 38.8125 \n",
       "z\n",
       "M 18.3125 54.390625 \n",
       "Q 18.3125 48.734375 21.84375 45.5625 \n",
       "Q 25.390625 42.390625 31.78125 42.390625 \n",
       "Q 38.140625 42.390625 41.71875 45.5625 \n",
       "Q 45.3125 48.734375 45.3125 54.390625 \n",
       "Q 45.3125 60.0625 41.71875 63.234375 \n",
       "Q 38.140625 66.40625 31.78125 66.40625 \n",
       "Q 25.390625 66.40625 21.84375 63.234375 \n",
       "Q 18.3125 60.0625 18.3125 54.390625 \n",
       "z\n",
       "\" id=\"DejaVuSans-56\"/>\n",
       "       </defs>\n",
       "       <use xlink:href=\"#DejaVuSans-56\"/>\n",
       "       <use x=\"63.623047\" xlink:href=\"#DejaVuSans-48\"/>\n",
       "       <use x=\"127.246094\" xlink:href=\"#DejaVuSans-48\"/>\n",
       "       <use x=\"190.869141\" xlink:href=\"#DejaVuSans-48\"/>\n",
       "      </g>\n",
       "     </g>\n",
       "    </g>\n",
       "    <g id=\"ytick_6\">\n",
       "     <g id=\"line2d_29\">\n",
       "      <path clip-path=\"url(#p83da3b40a9)\" d=\"M 46.0125 82.339394 \n",
       "L 604.0125 82.339394 \n",
       "\" style=\"fill:none;stroke:#b0b0b0;stroke-linecap:square;stroke-width:0.8;\"/>\n",
       "     </g>\n",
       "     <g id=\"line2d_30\">\n",
       "      <g>\n",
       "       <use style=\"stroke:#000000;stroke-width:0.8;\" x=\"46.0125\" xlink:href=\"#m9347d33740\" y=\"82.339394\"/>\n",
       "      </g>\n",
       "     </g>\n",
       "     <g id=\"text_15\">\n",
       "      <!-- 10000 -->\n",
       "      <g transform=\"translate(7.2 86.138613)scale(0.1 -0.1)\">\n",
       "       <use xlink:href=\"#DejaVuSans-49\"/>\n",
       "       <use x=\"63.623047\" xlink:href=\"#DejaVuSans-48\"/>\n",
       "       <use x=\"127.246094\" xlink:href=\"#DejaVuSans-48\"/>\n",
       "       <use x=\"190.869141\" xlink:href=\"#DejaVuSans-48\"/>\n",
       "       <use x=\"254.492188\" xlink:href=\"#DejaVuSans-48\"/>\n",
       "      </g>\n",
       "     </g>\n",
       "    </g>\n",
       "    <g id=\"ytick_7\">\n",
       "     <g id=\"line2d_31\">\n",
       "      <path clip-path=\"url(#p83da3b40a9)\" d=\"M 46.0125 39.983648 \n",
       "L 604.0125 39.983648 \n",
       "\" style=\"fill:none;stroke:#b0b0b0;stroke-linecap:square;stroke-width:0.8;\"/>\n",
       "     </g>\n",
       "     <g id=\"line2d_32\">\n",
       "      <g>\n",
       "       <use style=\"stroke:#000000;stroke-width:0.8;\" x=\"46.0125\" xlink:href=\"#m9347d33740\" y=\"39.983648\"/>\n",
       "      </g>\n",
       "     </g>\n",
       "     <g id=\"text_16\">\n",
       "      <!-- 12000 -->\n",
       "      <g transform=\"translate(7.2 43.782867)scale(0.1 -0.1)\">\n",
       "       <use xlink:href=\"#DejaVuSans-49\"/>\n",
       "       <use x=\"63.623047\" xlink:href=\"#DejaVuSans-50\"/>\n",
       "       <use x=\"127.246094\" xlink:href=\"#DejaVuSans-48\"/>\n",
       "       <use x=\"190.869141\" xlink:href=\"#DejaVuSans-48\"/>\n",
       "       <use x=\"254.492188\" xlink:href=\"#DejaVuSans-48\"/>\n",
       "      </g>\n",
       "     </g>\n",
       "    </g>\n",
       "   </g>\n",
       "   <g id=\"patch_203\">\n",
       "    <path d=\"M 46.0125 294.118125 \n",
       "L 46.0125 22.318125 \n",
       "\" style=\"fill:none;stroke:#000000;stroke-linecap:square;stroke-linejoin:miter;stroke-width:0.8;\"/>\n",
       "   </g>\n",
       "   <g id=\"patch_204\">\n",
       "    <path d=\"M 604.0125 294.118125 \n",
       "L 604.0125 22.318125 \n",
       "\" style=\"fill:none;stroke:#000000;stroke-linecap:square;stroke-linejoin:miter;stroke-width:0.8;\"/>\n",
       "   </g>\n",
       "   <g id=\"patch_205\">\n",
       "    <path d=\"M 46.0125 294.118125 \n",
       "L 604.0125 294.118125 \n",
       "\" style=\"fill:none;stroke:#000000;stroke-linecap:square;stroke-linejoin:miter;stroke-width:0.8;\"/>\n",
       "   </g>\n",
       "   <g id=\"patch_206\">\n",
       "    <path d=\"M 46.0125 22.318125 \n",
       "L 604.0125 22.318125 \n",
       "\" style=\"fill:none;stroke:#000000;stroke-linecap:square;stroke-linejoin:miter;stroke-width:0.8;\"/>\n",
       "   </g>\n",
       "   <g id=\"text_17\">\n",
       "    <!-- Распределение по ценам -->\n",
       "    <g transform=\"translate(244.805625 16.318125)scale(0.12 -0.12)\">\n",
       "     <defs>\n",
       "      <path d=\"M 19.671875 64.796875 \n",
       "L 19.671875 37.40625 \n",
       "L 32.078125 37.40625 \n",
       "Q 38.96875 37.40625 42.71875 40.96875 \n",
       "Q 46.484375 44.53125 46.484375 51.125 \n",
       "Q 46.484375 57.671875 42.71875 61.234375 \n",
       "Q 38.96875 64.796875 32.078125 64.796875 \n",
       "z\n",
       "M 9.8125 72.90625 \n",
       "L 32.078125 72.90625 \n",
       "Q 44.34375 72.90625 50.609375 67.359375 \n",
       "Q 56.890625 61.8125 56.890625 51.125 \n",
       "Q 56.890625 40.328125 50.609375 34.8125 \n",
       "Q 44.34375 29.296875 32.078125 29.296875 \n",
       "L 19.671875 29.296875 \n",
       "L 19.671875 0 \n",
       "L 9.8125 0 \n",
       "z\n",
       "\" id=\"DejaVuSans-1056\"/>\n",
       "      <path d=\"M 34.28125 27.484375 \n",
       "Q 23.390625 27.484375 19.1875 25 \n",
       "Q 14.984375 22.515625 14.984375 16.5 \n",
       "Q 14.984375 11.71875 18.140625 8.90625 \n",
       "Q 21.296875 6.109375 26.703125 6.109375 \n",
       "Q 34.1875 6.109375 38.703125 11.40625 \n",
       "Q 43.21875 16.703125 43.21875 25.484375 \n",
       "L 43.21875 27.484375 \n",
       "z\n",
       "M 52.203125 31.203125 \n",
       "L 52.203125 0 \n",
       "L 43.21875 0 \n",
       "L 43.21875 8.296875 \n",
       "Q 40.140625 3.328125 35.546875 0.953125 \n",
       "Q 30.953125 -1.421875 24.3125 -1.421875 \n",
       "Q 15.921875 -1.421875 10.953125 3.296875 \n",
       "Q 6 8.015625 6 15.921875 \n",
       "Q 6 25.140625 12.171875 29.828125 \n",
       "Q 18.359375 34.515625 30.609375 34.515625 \n",
       "L 43.21875 34.515625 \n",
       "L 43.21875 35.40625 \n",
       "Q 43.21875 41.609375 39.140625 45 \n",
       "Q 35.0625 48.390625 27.6875 48.390625 \n",
       "Q 23 48.390625 18.546875 47.265625 \n",
       "Q 14.109375 46.140625 10.015625 43.890625 \n",
       "L 10.015625 52.203125 \n",
       "Q 14.9375 54.109375 19.578125 55.046875 \n",
       "Q 24.21875 56 28.609375 56 \n",
       "Q 40.484375 56 46.34375 49.84375 \n",
       "Q 52.203125 43.703125 52.203125 31.203125 \n",
       "z\n",
       "\" id=\"DejaVuSans-1072\"/>\n",
       "      <path d=\"M 48.78125 52.59375 \n",
       "L 48.78125 44.1875 \n",
       "Q 44.96875 46.296875 41.140625 47.34375 \n",
       "Q 37.3125 48.390625 33.40625 48.390625 \n",
       "Q 24.65625 48.390625 19.8125 42.84375 \n",
       "Q 14.984375 37.3125 14.984375 27.296875 \n",
       "Q 14.984375 17.28125 19.8125 11.734375 \n",
       "Q 24.65625 6.203125 33.40625 6.203125 \n",
       "Q 37.3125 6.203125 41.140625 7.25 \n",
       "Q 44.96875 8.296875 48.78125 10.40625 \n",
       "L 48.78125 2.09375 \n",
       "Q 45.015625 0.34375 40.984375 -0.53125 \n",
       "Q 36.96875 -1.421875 32.421875 -1.421875 \n",
       "Q 20.0625 -1.421875 12.78125 6.34375 \n",
       "Q 5.515625 14.109375 5.515625 27.296875 \n",
       "Q 5.515625 40.671875 12.859375 48.328125 \n",
       "Q 20.21875 56 33.015625 56 \n",
       "Q 37.15625 56 41.109375 55.140625 \n",
       "Q 45.0625 54.296875 48.78125 52.59375 \n",
       "z\n",
       "\" id=\"DejaVuSans-1089\"/>\n",
       "      <path d=\"M 56.296875 54.6875 \n",
       "L 56.296875 0 \n",
       "L 47.265625 0 \n",
       "L 47.265625 47.515625 \n",
       "L 18.109375 47.515625 \n",
       "L 18.109375 0 \n",
       "L 9.078125 0 \n",
       "L 9.078125 54.6875 \n",
       "z\n",
       "\" id=\"DejaVuSans-1087\"/>\n",
       "      <path d=\"M 18.109375 8.203125 \n",
       "L 18.109375 -20.796875 \n",
       "L 9.078125 -20.796875 \n",
       "L 9.078125 54.6875 \n",
       "L 18.109375 54.6875 \n",
       "L 18.109375 46.390625 \n",
       "Q 20.953125 51.265625 25.265625 53.625 \n",
       "Q 29.59375 56 35.59375 56 \n",
       "Q 45.5625 56 51.78125 48.09375 \n",
       "Q 58.015625 40.1875 58.015625 27.296875 \n",
       "Q 58.015625 14.40625 51.78125 6.484375 \n",
       "Q 45.5625 -1.421875 35.59375 -1.421875 \n",
       "Q 29.59375 -1.421875 25.265625 0.953125 \n",
       "Q 20.953125 3.328125 18.109375 8.203125 \n",
       "z\n",
       "M 48.6875 27.296875 \n",
       "Q 48.6875 37.203125 44.609375 42.84375 \n",
       "Q 40.53125 48.484375 33.40625 48.484375 \n",
       "Q 26.265625 48.484375 22.1875 42.84375 \n",
       "Q 18.109375 37.203125 18.109375 27.296875 \n",
       "Q 18.109375 17.390625 22.1875 11.75 \n",
       "Q 26.265625 6.109375 33.40625 6.109375 \n",
       "Q 40.53125 6.109375 44.609375 11.75 \n",
       "Q 48.6875 17.390625 48.6875 27.296875 \n",
       "z\n",
       "\" id=\"DejaVuSans-1088\"/>\n",
       "      <path d=\"M 56.203125 29.59375 \n",
       "L 56.203125 25.203125 \n",
       "L 14.890625 25.203125 \n",
       "Q 15.484375 15.921875 20.484375 11.0625 \n",
       "Q 25.484375 6.203125 34.421875 6.203125 \n",
       "Q 39.59375 6.203125 44.453125 7.46875 \n",
       "Q 49.3125 8.734375 54.109375 11.28125 \n",
       "L 54.109375 2.78125 \n",
       "Q 49.265625 0.734375 44.1875 -0.34375 \n",
       "Q 39.109375 -1.421875 33.890625 -1.421875 \n",
       "Q 20.796875 -1.421875 13.15625 6.1875 \n",
       "Q 5.515625 13.8125 5.515625 26.8125 \n",
       "Q 5.515625 40.234375 12.765625 48.109375 \n",
       "Q 20.015625 56 32.328125 56 \n",
       "Q 43.359375 56 49.78125 48.890625 \n",
       "Q 56.203125 41.796875 56.203125 29.59375 \n",
       "z\n",
       "M 47.21875 32.234375 \n",
       "Q 47.125 39.59375 43.09375 43.984375 \n",
       "Q 39.0625 48.390625 32.421875 48.390625 \n",
       "Q 24.90625 48.390625 20.390625 44.140625 \n",
       "Q 15.875 39.890625 15.1875 32.171875 \n",
       "z\n",
       "\" id=\"DejaVuSans-1077\"/>\n",
       "      <path d=\"M 21.625 7.171875 \n",
       "L 47.703125 7.171875 \n",
       "L 47.703125 47.515625 \n",
       "L 28.8125 47.515625 \n",
       "L 28.8125 40.671875 \n",
       "Q 28.8125 20.5625 23.046875 9.8125 \n",
       "z\n",
       "M 8.59375 7.171875 \n",
       "Q 13.03125 9.125 14.984375 13.28125 \n",
       "Q 19.78125 23.578125 19.78125 44.34375 \n",
       "L 19.78125 54.6875 \n",
       "L 56.734375 54.6875 \n",
       "L 56.734375 7.171875 \n",
       "L 63.921875 7.171875 \n",
       "L 63.921875 -13.8125 \n",
       "L 56.734375 -13.8125 \n",
       "L 56.734375 0 \n",
       "L 12.40625 0 \n",
       "L 12.40625 -13.8125 \n",
       "L 5.21875 -13.8125 \n",
       "L 5.21875 7.171875 \n",
       "z\n",
       "\" id=\"DejaVuSans-1076\"/>\n",
       "      <path d=\"M 3.71875 0 \n",
       "L 3.71875 7.46875 \n",
       "Q 12.59375 8.84375 15.328125 14.984375 \n",
       "Q 18.65625 23.640625 18.65625 45.75 \n",
       "L 18.65625 54.6875 \n",
       "L 55.609375 54.6875 \n",
       "L 55.609375 0 \n",
       "L 46.625 0 \n",
       "L 46.625 47.515625 \n",
       "L 27.640625 47.515625 \n",
       "L 27.640625 42.09375 \n",
       "Q 27.640625 21 23.34375 11.53125 \n",
       "Q 18.75 1.421875 3.71875 0 \n",
       "z\n",
       "\" id=\"DejaVuSans-1083\"/>\n",
       "      <path d=\"M 9.078125 54.6875 \n",
       "L 18.109375 54.6875 \n",
       "L 18.109375 32.375 \n",
       "L 47.265625 32.375 \n",
       "L 47.265625 54.6875 \n",
       "L 56.296875 54.6875 \n",
       "L 56.296875 0 \n",
       "L 47.265625 0 \n",
       "L 47.265625 25.203125 \n",
       "L 18.109375 25.203125 \n",
       "L 18.109375 0 \n",
       "L 9.078125 0 \n",
       "z\n",
       "\" id=\"DejaVuSans-1085\"/>\n",
       "      <path d=\"M 55.90625 54.6875 \n",
       "L 55.90625 0 \n",
       "L 46.96875 0 \n",
       "L 46.96875 43.890625 \n",
       "L 20.609375 0 \n",
       "L 9.078125 0 \n",
       "L 9.078125 54.6875 \n",
       "L 18.015625 54.6875 \n",
       "L 18.015625 10.890625 \n",
       "L 44.34375 54.6875 \n",
       "z\n",
       "\" id=\"DejaVuSans-1080\"/>\n",
       "      <path id=\"DejaVuSans-32\"/>\n",
       "      <path d=\"M 30.609375 48.390625 \n",
       "Q 23.390625 48.390625 19.1875 42.75 \n",
       "Q 14.984375 37.109375 14.984375 27.296875 \n",
       "Q 14.984375 17.484375 19.15625 11.84375 \n",
       "Q 23.34375 6.203125 30.609375 6.203125 \n",
       "Q 37.796875 6.203125 41.984375 11.859375 \n",
       "Q 46.1875 17.53125 46.1875 27.296875 \n",
       "Q 46.1875 37.015625 41.984375 42.703125 \n",
       "Q 37.796875 48.390625 30.609375 48.390625 \n",
       "z\n",
       "M 30.609375 56 \n",
       "Q 42.328125 56 49.015625 48.375 \n",
       "Q 55.71875 40.765625 55.71875 27.296875 \n",
       "Q 55.71875 13.875 49.015625 6.21875 \n",
       "Q 42.328125 -1.421875 30.609375 -1.421875 \n",
       "Q 18.84375 -1.421875 12.171875 6.21875 \n",
       "Q 5.515625 13.875 5.515625 27.296875 \n",
       "Q 5.515625 40.765625 12.171875 48.375 \n",
       "Q 18.84375 56 30.609375 56 \n",
       "z\n",
       "\" id=\"DejaVuSans-1086\"/>\n",
       "      <path d=\"M 56.296875 0 \n",
       "L 9.078125 0 \n",
       "L 9.078125 54.6875 \n",
       "L 18.109375 54.6875 \n",
       "L 18.109375 7.171875 \n",
       "L 47.265625 7.171875 \n",
       "L 47.265625 54.6875 \n",
       "L 56.296875 54.6875 \n",
       "L 56.296875 7.171875 \n",
       "L 63.484375 7.171875 \n",
       "L 63.484375 -13.8125 \n",
       "L 56.296875 -13.8125 \n",
       "z\n",
       "\" id=\"DejaVuSans-1094\"/>\n",
       "      <path d=\"M 9.078125 54.6875 \n",
       "L 22.21875 54.6875 \n",
       "L 37.75 18.0625 \n",
       "L 53.328125 54.6875 \n",
       "L 66.359375 54.6875 \n",
       "L 66.359375 0 \n",
       "L 57.328125 0 \n",
       "L 57.328125 46.09375 \n",
       "L 42.234375 10.5 \n",
       "L 33.25 10.5 \n",
       "L 18.109375 46.09375 \n",
       "L 18.109375 0 \n",
       "L 9.078125 0 \n",
       "z\n",
       "\" id=\"DejaVuSans-1084\"/>\n",
       "     </defs>\n",
       "     <use xlink:href=\"#DejaVuSans-1056\"/>\n",
       "     <use x=\"60.302734\" xlink:href=\"#DejaVuSans-1072\"/>\n",
       "     <use x=\"121.582031\" xlink:href=\"#DejaVuSans-1089\"/>\n",
       "     <use x=\"176.5625\" xlink:href=\"#DejaVuSans-1087\"/>\n",
       "     <use x=\"241.943359\" xlink:href=\"#DejaVuSans-1088\"/>\n",
       "     <use x=\"305.419922\" xlink:href=\"#DejaVuSans-1077\"/>\n",
       "     <use x=\"366.943359\" xlink:href=\"#DejaVuSans-1076\"/>\n",
       "     <use x=\"436.083984\" xlink:href=\"#DejaVuSans-1077\"/>\n",
       "     <use x=\"497.607422\" xlink:href=\"#DejaVuSans-1083\"/>\n",
       "     <use x=\"561.523438\" xlink:href=\"#DejaVuSans-1077\"/>\n",
       "     <use x=\"623.046875\" xlink:href=\"#DejaVuSans-1085\"/>\n",
       "     <use x=\"688.427734\" xlink:href=\"#DejaVuSans-1080\"/>\n",
       "     <use x=\"753.417969\" xlink:href=\"#DejaVuSans-1077\"/>\n",
       "     <use x=\"814.941406\" xlink:href=\"#DejaVuSans-32\"/>\n",
       "     <use x=\"846.728516\" xlink:href=\"#DejaVuSans-1087\"/>\n",
       "     <use x=\"912.109375\" xlink:href=\"#DejaVuSans-1086\"/>\n",
       "     <use x=\"973.291016\" xlink:href=\"#DejaVuSans-32\"/>\n",
       "     <use x=\"1005.078125\" xlink:href=\"#DejaVuSans-1094\"/>\n",
       "     <use x=\"1073.144531\" xlink:href=\"#DejaVuSans-1077\"/>\n",
       "     <use x=\"1134.667969\" xlink:href=\"#DejaVuSans-1085\"/>\n",
       "     <use x=\"1200.048828\" xlink:href=\"#DejaVuSans-1072\"/>\n",
       "     <use x=\"1261.328125\" xlink:href=\"#DejaVuSans-1084\"/>\n",
       "    </g>\n",
       "   </g>\n",
       "  </g>\n",
       " </g>\n",
       " <defs>\n",
       "  <clipPath id=\"p83da3b40a9\">\n",
       "   <rect height=\"271.8\" width=\"558\" x=\"46.0125\" y=\"22.318125\"/>\n",
       "  </clipPath>\n",
       " </defs>\n",
       "</svg>\n"
      ],
      "text/plain": [
       "<Figure size 720x360 with 1 Axes>"
      ]
     },
     "metadata": {
      "needs_background": "light"
     },
     "output_type": "display_data"
    }
   ],
   "source": [
    "data[\"price\"].hist(bins=200)\n",
    "plt.title('Распределение по ценам')"
   ]
  },
  {
   "cell_type": "markdown",
   "metadata": {},
   "source": [
    "По построенному графику можем увидеть, что у огромного количества автомобилей цена составляет 0 руб. Это может быть связано с тем, что анкеты ориентированы на торг с покупателем. Однако, для создания ценовой модели такие значения могут помешать ее реализации.  \n",
    "\n",
    "Теперь посмотрим на значения мощности в столбце `['power']`. Мощность измеряется в лошадиных силах, поэтому данная величина является непрерывной. Здесь обычная гистограмма частотностей не может быть применена."
   ]
  },
  {
   "cell_type": "code",
   "execution_count": 15,
   "metadata": {},
   "outputs": [
    {
     "data": {
      "text/plain": [
       "Text(0.5, 1.0, 'Распределение по мощности')"
      ]
     },
     "execution_count": 15,
     "metadata": {},
     "output_type": "execute_result"
    },
    {
     "data": {
      "image/svg+xml": [
       "<?xml version=\"1.0\" encoding=\"utf-8\" standalone=\"no\"?>\n",
       "<!DOCTYPE svg PUBLIC \"-//W3C//DTD SVG 1.1//EN\"\n",
       "  \"http://www.w3.org/Graphics/SVG/1.1/DTD/svg11.dtd\">\n",
       "<!-- Created with matplotlib (https://matplotlib.org/) -->\n",
       "<svg height=\"317.99625pt\" version=\"1.1\" viewBox=\"0 0 617.575 317.99625\" width=\"617.575pt\" xmlns=\"http://www.w3.org/2000/svg\" xmlns:xlink=\"http://www.w3.org/1999/xlink\">\n",
       " <metadata>\n",
       "  <rdf:RDF xmlns:cc=\"http://creativecommons.org/ns#\" xmlns:dc=\"http://purl.org/dc/elements/1.1/\" xmlns:rdf=\"http://www.w3.org/1999/02/22-rdf-syntax-ns#\">\n",
       "   <cc:Work>\n",
       "    <dc:type rdf:resource=\"http://purl.org/dc/dcmitype/StillImage\"/>\n",
       "    <dc:date>2022-04-13T07:56:33.636933</dc:date>\n",
       "    <dc:format>image/svg+xml</dc:format>\n",
       "    <dc:creator>\n",
       "     <cc:Agent>\n",
       "      <dc:title>Matplotlib v3.3.4, https://matplotlib.org/</dc:title>\n",
       "     </cc:Agent>\n",
       "    </dc:creator>\n",
       "   </cc:Work>\n",
       "  </rdf:RDF>\n",
       " </metadata>\n",
       " <defs>\n",
       "  <style type=\"text/css\">*{stroke-linecap:butt;stroke-linejoin:round;}</style>\n",
       " </defs>\n",
       " <g id=\"figure_1\">\n",
       "  <g id=\"patch_1\">\n",
       "   <path d=\"M 0 317.99625 \n",
       "L 617.575 317.99625 \n",
       "L 617.575 0 \n",
       "L 0 0 \n",
       "z\n",
       "\" style=\"fill:none;\"/>\n",
       "  </g>\n",
       "  <g id=\"axes_1\">\n",
       "   <g id=\"patch_2\">\n",
       "    <path d=\"M 52.375 294.118125 \n",
       "L 610.375 294.118125 \n",
       "L 610.375 22.318125 \n",
       "L 52.375 22.318125 \n",
       "z\n",
       "\" style=\"fill:#ffffff;\"/>\n",
       "   </g>\n",
       "   <g id=\"patch_3\">\n",
       "    <path clip-path=\"url(#p429e537d25)\" d=\"M 77.738636 294.118125 \n",
       "L 128.465909 294.118125 \n",
       "L 128.465909 35.260982 \n",
       "L 77.738636 35.260982 \n",
       "z\n",
       "\" style=\"fill:#1f77b4;\"/>\n",
       "   </g>\n",
       "   <g id=\"patch_4\">\n",
       "    <path clip-path=\"url(#p429e537d25)\" d=\"M 128.465909 294.118125 \n",
       "L 179.193182 294.118125 \n",
       "L 179.193182 294.092102 \n",
       "L 128.465909 294.092102 \n",
       "z\n",
       "\" style=\"fill:#1f77b4;\"/>\n",
       "   </g>\n",
       "   <g id=\"patch_5\">\n",
       "    <path clip-path=\"url(#p429e537d25)\" d=\"M 179.193182 294.118125 \n",
       "L 229.920455 294.118125 \n",
       "L 229.920455 294.109946 \n",
       "L 179.193182 294.109946 \n",
       "z\n",
       "\" style=\"fill:#1f77b4;\"/>\n",
       "   </g>\n",
       "   <g id=\"patch_6\">\n",
       "    <path clip-path=\"url(#p429e537d25)\" d=\"M 229.920455 294.118125 \n",
       "L 280.647727 294.118125 \n",
       "L 280.647727 294.105485 \n",
       "L 229.920455 294.105485 \n",
       "z\n",
       "\" style=\"fill:#1f77b4;\"/>\n",
       "   </g>\n",
       "   <g id=\"patch_7\">\n",
       "    <path clip-path=\"url(#p429e537d25)\" d=\"M 280.647727 294.118125 \n",
       "L 331.375 294.118125 \n",
       "L 331.375 294.109203 \n",
       "L 280.647727 294.109203 \n",
       "z\n",
       "\" style=\"fill:#1f77b4;\"/>\n",
       "   </g>\n",
       "   <g id=\"patch_8\">\n",
       "    <path clip-path=\"url(#p429e537d25)\" d=\"M 331.375 294.118125 \n",
       "L 382.102273 294.118125 \n",
       "L 382.102273 294.106229 \n",
       "L 331.375 294.106229 \n",
       "z\n",
       "\" style=\"fill:#1f77b4;\"/>\n",
       "   </g>\n",
       "   <g id=\"patch_9\">\n",
       "    <path clip-path=\"url(#p429e537d25)\" d=\"M 382.102273 294.118125 \n",
       "L 432.829545 294.118125 \n",
       "L 432.829545 294.112177 \n",
       "L 382.102273 294.112177 \n",
       "z\n",
       "\" style=\"fill:#1f77b4;\"/>\n",
       "   </g>\n",
       "   <g id=\"patch_10\">\n",
       "    <path clip-path=\"url(#p429e537d25)\" d=\"M 432.829545 294.118125 \n",
       "L 483.556818 294.118125 \n",
       "L 483.556818 294.113664 \n",
       "L 432.829545 294.113664 \n",
       "z\n",
       "\" style=\"fill:#1f77b4;\"/>\n",
       "   </g>\n",
       "   <g id=\"patch_11\">\n",
       "    <path clip-path=\"url(#p429e537d25)\" d=\"M 483.556818 294.118125 \n",
       "L 534.284091 294.118125 \n",
       "L 534.284091 294.111433 \n",
       "L 483.556818 294.111433 \n",
       "z\n",
       "\" style=\"fill:#1f77b4;\"/>\n",
       "   </g>\n",
       "   <g id=\"patch_12\">\n",
       "    <path clip-path=\"url(#p429e537d25)\" d=\"M 534.284091 294.118125 \n",
       "L 585.011364 294.118125 \n",
       "L 585.011364 294.115151 \n",
       "L 534.284091 294.115151 \n",
       "z\n",
       "\" style=\"fill:#1f77b4;\"/>\n",
       "   </g>\n",
       "   <g id=\"matplotlib.axis_1\">\n",
       "    <g id=\"xtick_1\">\n",
       "     <g id=\"line2d_1\">\n",
       "      <path clip-path=\"url(#p429e537d25)\" d=\"M 77.738636 294.118125 \n",
       "L 77.738636 22.318125 \n",
       "\" style=\"fill:none;stroke:#b0b0b0;stroke-linecap:square;stroke-width:0.8;\"/>\n",
       "     </g>\n",
       "     <g id=\"line2d_2\">\n",
       "      <defs>\n",
       "       <path d=\"M 0 0 \n",
       "L 0 3.5 \n",
       "\" id=\"m84970e6882\" style=\"stroke:#000000;stroke-width:0.8;\"/>\n",
       "      </defs>\n",
       "      <g>\n",
       "       <use style=\"stroke:#000000;stroke-width:0.8;\" x=\"77.738636\" xlink:href=\"#m84970e6882\" y=\"294.118125\"/>\n",
       "      </g>\n",
       "     </g>\n",
       "     <g id=\"text_1\">\n",
       "      <!-- 0 -->\n",
       "      <g transform=\"translate(74.557386 308.716563)scale(0.1 -0.1)\">\n",
       "       <defs>\n",
       "        <path d=\"M 31.78125 66.40625 \n",
       "Q 24.171875 66.40625 20.328125 58.90625 \n",
       "Q 16.5 51.421875 16.5 36.375 \n",
       "Q 16.5 21.390625 20.328125 13.890625 \n",
       "Q 24.171875 6.390625 31.78125 6.390625 \n",
       "Q 39.453125 6.390625 43.28125 13.890625 \n",
       "Q 47.125 21.390625 47.125 36.375 \n",
       "Q 47.125 51.421875 43.28125 58.90625 \n",
       "Q 39.453125 66.40625 31.78125 66.40625 \n",
       "z\n",
       "M 31.78125 74.21875 \n",
       "Q 44.046875 74.21875 50.515625 64.515625 \n",
       "Q 56.984375 54.828125 56.984375 36.375 \n",
       "Q 56.984375 17.96875 50.515625 8.265625 \n",
       "Q 44.046875 -1.421875 31.78125 -1.421875 \n",
       "Q 19.53125 -1.421875 13.0625 8.265625 \n",
       "Q 6.59375 17.96875 6.59375 36.375 \n",
       "Q 6.59375 54.828125 13.0625 64.515625 \n",
       "Q 19.53125 74.21875 31.78125 74.21875 \n",
       "z\n",
       "\" id=\"DejaVuSans-48\"/>\n",
       "       </defs>\n",
       "       <use xlink:href=\"#DejaVuSans-48\"/>\n",
       "      </g>\n",
       "     </g>\n",
       "    </g>\n",
       "    <g id=\"xtick_2\">\n",
       "     <g id=\"line2d_3\">\n",
       "      <path clip-path=\"url(#p429e537d25)\" d=\"M 141.147727 294.118125 \n",
       "L 141.147727 22.318125 \n",
       "\" style=\"fill:none;stroke:#b0b0b0;stroke-linecap:square;stroke-width:0.8;\"/>\n",
       "     </g>\n",
       "     <g id=\"line2d_4\">\n",
       "      <g>\n",
       "       <use style=\"stroke:#000000;stroke-width:0.8;\" x=\"141.147727\" xlink:href=\"#m84970e6882\" y=\"294.118125\"/>\n",
       "      </g>\n",
       "     </g>\n",
       "     <g id=\"text_2\">\n",
       "      <!-- 2500 -->\n",
       "      <g transform=\"translate(128.422727 308.716563)scale(0.1 -0.1)\">\n",
       "       <defs>\n",
       "        <path d=\"M 19.1875 8.296875 \n",
       "L 53.609375 8.296875 \n",
       "L 53.609375 0 \n",
       "L 7.328125 0 \n",
       "L 7.328125 8.296875 \n",
       "Q 12.9375 14.109375 22.625 23.890625 \n",
       "Q 32.328125 33.6875 34.8125 36.53125 \n",
       "Q 39.546875 41.84375 41.421875 45.53125 \n",
       "Q 43.3125 49.21875 43.3125 52.78125 \n",
       "Q 43.3125 58.59375 39.234375 62.25 \n",
       "Q 35.15625 65.921875 28.609375 65.921875 \n",
       "Q 23.96875 65.921875 18.8125 64.3125 \n",
       "Q 13.671875 62.703125 7.8125 59.421875 \n",
       "L 7.8125 69.390625 \n",
       "Q 13.765625 71.78125 18.9375 73 \n",
       "Q 24.125 74.21875 28.421875 74.21875 \n",
       "Q 39.75 74.21875 46.484375 68.546875 \n",
       "Q 53.21875 62.890625 53.21875 53.421875 \n",
       "Q 53.21875 48.921875 51.53125 44.890625 \n",
       "Q 49.859375 40.875 45.40625 35.40625 \n",
       "Q 44.1875 33.984375 37.640625 27.21875 \n",
       "Q 31.109375 20.453125 19.1875 8.296875 \n",
       "z\n",
       "\" id=\"DejaVuSans-50\"/>\n",
       "        <path d=\"M 10.796875 72.90625 \n",
       "L 49.515625 72.90625 \n",
       "L 49.515625 64.59375 \n",
       "L 19.828125 64.59375 \n",
       "L 19.828125 46.734375 \n",
       "Q 21.96875 47.46875 24.109375 47.828125 \n",
       "Q 26.265625 48.1875 28.421875 48.1875 \n",
       "Q 40.625 48.1875 47.75 41.5 \n",
       "Q 54.890625 34.8125 54.890625 23.390625 \n",
       "Q 54.890625 11.625 47.5625 5.09375 \n",
       "Q 40.234375 -1.421875 26.90625 -1.421875 \n",
       "Q 22.3125 -1.421875 17.546875 -0.640625 \n",
       "Q 12.796875 0.140625 7.71875 1.703125 \n",
       "L 7.71875 11.625 \n",
       "Q 12.109375 9.234375 16.796875 8.0625 \n",
       "Q 21.484375 6.890625 26.703125 6.890625 \n",
       "Q 35.15625 6.890625 40.078125 11.328125 \n",
       "Q 45.015625 15.765625 45.015625 23.390625 \n",
       "Q 45.015625 31 40.078125 35.4375 \n",
       "Q 35.15625 39.890625 26.703125 39.890625 \n",
       "Q 22.75 39.890625 18.8125 39.015625 \n",
       "Q 14.890625 38.140625 10.796875 36.28125 \n",
       "z\n",
       "\" id=\"DejaVuSans-53\"/>\n",
       "       </defs>\n",
       "       <use xlink:href=\"#DejaVuSans-50\"/>\n",
       "       <use x=\"63.623047\" xlink:href=\"#DejaVuSans-53\"/>\n",
       "       <use x=\"127.246094\" xlink:href=\"#DejaVuSans-48\"/>\n",
       "       <use x=\"190.869141\" xlink:href=\"#DejaVuSans-48\"/>\n",
       "      </g>\n",
       "     </g>\n",
       "    </g>\n",
       "    <g id=\"xtick_3\">\n",
       "     <g id=\"line2d_5\">\n",
       "      <path clip-path=\"url(#p429e537d25)\" d=\"M 204.556818 294.118125 \n",
       "L 204.556818 22.318125 \n",
       "\" style=\"fill:none;stroke:#b0b0b0;stroke-linecap:square;stroke-width:0.8;\"/>\n",
       "     </g>\n",
       "     <g id=\"line2d_6\">\n",
       "      <g>\n",
       "       <use style=\"stroke:#000000;stroke-width:0.8;\" x=\"204.556818\" xlink:href=\"#m84970e6882\" y=\"294.118125\"/>\n",
       "      </g>\n",
       "     </g>\n",
       "     <g id=\"text_3\">\n",
       "      <!-- 5000 -->\n",
       "      <g transform=\"translate(191.831818 308.716563)scale(0.1 -0.1)\">\n",
       "       <use xlink:href=\"#DejaVuSans-53\"/>\n",
       "       <use x=\"63.623047\" xlink:href=\"#DejaVuSans-48\"/>\n",
       "       <use x=\"127.246094\" xlink:href=\"#DejaVuSans-48\"/>\n",
       "       <use x=\"190.869141\" xlink:href=\"#DejaVuSans-48\"/>\n",
       "      </g>\n",
       "     </g>\n",
       "    </g>\n",
       "    <g id=\"xtick_4\">\n",
       "     <g id=\"line2d_7\">\n",
       "      <path clip-path=\"url(#p429e537d25)\" d=\"M 267.965909 294.118125 \n",
       "L 267.965909 22.318125 \n",
       "\" style=\"fill:none;stroke:#b0b0b0;stroke-linecap:square;stroke-width:0.8;\"/>\n",
       "     </g>\n",
       "     <g id=\"line2d_8\">\n",
       "      <g>\n",
       "       <use style=\"stroke:#000000;stroke-width:0.8;\" x=\"267.965909\" xlink:href=\"#m84970e6882\" y=\"294.118125\"/>\n",
       "      </g>\n",
       "     </g>\n",
       "     <g id=\"text_4\">\n",
       "      <!-- 7500 -->\n",
       "      <g transform=\"translate(255.240909 308.716563)scale(0.1 -0.1)\">\n",
       "       <defs>\n",
       "        <path d=\"M 8.203125 72.90625 \n",
       "L 55.078125 72.90625 \n",
       "L 55.078125 68.703125 \n",
       "L 28.609375 0 \n",
       "L 18.3125 0 \n",
       "L 43.21875 64.59375 \n",
       "L 8.203125 64.59375 \n",
       "z\n",
       "\" id=\"DejaVuSans-55\"/>\n",
       "       </defs>\n",
       "       <use xlink:href=\"#DejaVuSans-55\"/>\n",
       "       <use x=\"63.623047\" xlink:href=\"#DejaVuSans-53\"/>\n",
       "       <use x=\"127.246094\" xlink:href=\"#DejaVuSans-48\"/>\n",
       "       <use x=\"190.869141\" xlink:href=\"#DejaVuSans-48\"/>\n",
       "      </g>\n",
       "     </g>\n",
       "    </g>\n",
       "    <g id=\"xtick_5\">\n",
       "     <g id=\"line2d_9\">\n",
       "      <path clip-path=\"url(#p429e537d25)\" d=\"M 331.375 294.118125 \n",
       "L 331.375 22.318125 \n",
       "\" style=\"fill:none;stroke:#b0b0b0;stroke-linecap:square;stroke-width:0.8;\"/>\n",
       "     </g>\n",
       "     <g id=\"line2d_10\">\n",
       "      <g>\n",
       "       <use style=\"stroke:#000000;stroke-width:0.8;\" x=\"331.375\" xlink:href=\"#m84970e6882\" y=\"294.118125\"/>\n",
       "      </g>\n",
       "     </g>\n",
       "     <g id=\"text_5\">\n",
       "      <!-- 10000 -->\n",
       "      <g transform=\"translate(315.46875 308.716563)scale(0.1 -0.1)\">\n",
       "       <defs>\n",
       "        <path d=\"M 12.40625 8.296875 \n",
       "L 28.515625 8.296875 \n",
       "L 28.515625 63.921875 \n",
       "L 10.984375 60.40625 \n",
       "L 10.984375 69.390625 \n",
       "L 28.421875 72.90625 \n",
       "L 38.28125 72.90625 \n",
       "L 38.28125 8.296875 \n",
       "L 54.390625 8.296875 \n",
       "L 54.390625 0 \n",
       "L 12.40625 0 \n",
       "z\n",
       "\" id=\"DejaVuSans-49\"/>\n",
       "       </defs>\n",
       "       <use xlink:href=\"#DejaVuSans-49\"/>\n",
       "       <use x=\"63.623047\" xlink:href=\"#DejaVuSans-48\"/>\n",
       "       <use x=\"127.246094\" xlink:href=\"#DejaVuSans-48\"/>\n",
       "       <use x=\"190.869141\" xlink:href=\"#DejaVuSans-48\"/>\n",
       "       <use x=\"254.492188\" xlink:href=\"#DejaVuSans-48\"/>\n",
       "      </g>\n",
       "     </g>\n",
       "    </g>\n",
       "    <g id=\"xtick_6\">\n",
       "     <g id=\"line2d_11\">\n",
       "      <path clip-path=\"url(#p429e537d25)\" d=\"M 394.784091 294.118125 \n",
       "L 394.784091 22.318125 \n",
       "\" style=\"fill:none;stroke:#b0b0b0;stroke-linecap:square;stroke-width:0.8;\"/>\n",
       "     </g>\n",
       "     <g id=\"line2d_12\">\n",
       "      <g>\n",
       "       <use style=\"stroke:#000000;stroke-width:0.8;\" x=\"394.784091\" xlink:href=\"#m84970e6882\" y=\"294.118125\"/>\n",
       "      </g>\n",
       "     </g>\n",
       "     <g id=\"text_6\">\n",
       "      <!-- 12500 -->\n",
       "      <g transform=\"translate(378.877841 308.716563)scale(0.1 -0.1)\">\n",
       "       <use xlink:href=\"#DejaVuSans-49\"/>\n",
       "       <use x=\"63.623047\" xlink:href=\"#DejaVuSans-50\"/>\n",
       "       <use x=\"127.246094\" xlink:href=\"#DejaVuSans-53\"/>\n",
       "       <use x=\"190.869141\" xlink:href=\"#DejaVuSans-48\"/>\n",
       "       <use x=\"254.492188\" xlink:href=\"#DejaVuSans-48\"/>\n",
       "      </g>\n",
       "     </g>\n",
       "    </g>\n",
       "    <g id=\"xtick_7\">\n",
       "     <g id=\"line2d_13\">\n",
       "      <path clip-path=\"url(#p429e537d25)\" d=\"M 458.193182 294.118125 \n",
       "L 458.193182 22.318125 \n",
       "\" style=\"fill:none;stroke:#b0b0b0;stroke-linecap:square;stroke-width:0.8;\"/>\n",
       "     </g>\n",
       "     <g id=\"line2d_14\">\n",
       "      <g>\n",
       "       <use style=\"stroke:#000000;stroke-width:0.8;\" x=\"458.193182\" xlink:href=\"#m84970e6882\" y=\"294.118125\"/>\n",
       "      </g>\n",
       "     </g>\n",
       "     <g id=\"text_7\">\n",
       "      <!-- 15000 -->\n",
       "      <g transform=\"translate(442.286932 308.716563)scale(0.1 -0.1)\">\n",
       "       <use xlink:href=\"#DejaVuSans-49\"/>\n",
       "       <use x=\"63.623047\" xlink:href=\"#DejaVuSans-53\"/>\n",
       "       <use x=\"127.246094\" xlink:href=\"#DejaVuSans-48\"/>\n",
       "       <use x=\"190.869141\" xlink:href=\"#DejaVuSans-48\"/>\n",
       "       <use x=\"254.492188\" xlink:href=\"#DejaVuSans-48\"/>\n",
       "      </g>\n",
       "     </g>\n",
       "    </g>\n",
       "    <g id=\"xtick_8\">\n",
       "     <g id=\"line2d_15\">\n",
       "      <path clip-path=\"url(#p429e537d25)\" d=\"M 521.602273 294.118125 \n",
       "L 521.602273 22.318125 \n",
       "\" style=\"fill:none;stroke:#b0b0b0;stroke-linecap:square;stroke-width:0.8;\"/>\n",
       "     </g>\n",
       "     <g id=\"line2d_16\">\n",
       "      <g>\n",
       "       <use style=\"stroke:#000000;stroke-width:0.8;\" x=\"521.602273\" xlink:href=\"#m84970e6882\" y=\"294.118125\"/>\n",
       "      </g>\n",
       "     </g>\n",
       "     <g id=\"text_8\">\n",
       "      <!-- 17500 -->\n",
       "      <g transform=\"translate(505.696023 308.716563)scale(0.1 -0.1)\">\n",
       "       <use xlink:href=\"#DejaVuSans-49\"/>\n",
       "       <use x=\"63.623047\" xlink:href=\"#DejaVuSans-55\"/>\n",
       "       <use x=\"127.246094\" xlink:href=\"#DejaVuSans-53\"/>\n",
       "       <use x=\"190.869141\" xlink:href=\"#DejaVuSans-48\"/>\n",
       "       <use x=\"254.492188\" xlink:href=\"#DejaVuSans-48\"/>\n",
       "      </g>\n",
       "     </g>\n",
       "    </g>\n",
       "    <g id=\"xtick_9\">\n",
       "     <g id=\"line2d_17\">\n",
       "      <path clip-path=\"url(#p429e537d25)\" d=\"M 585.011364 294.118125 \n",
       "L 585.011364 22.318125 \n",
       "\" style=\"fill:none;stroke:#b0b0b0;stroke-linecap:square;stroke-width:0.8;\"/>\n",
       "     </g>\n",
       "     <g id=\"line2d_18\">\n",
       "      <g>\n",
       "       <use style=\"stroke:#000000;stroke-width:0.8;\" x=\"585.011364\" xlink:href=\"#m84970e6882\" y=\"294.118125\"/>\n",
       "      </g>\n",
       "     </g>\n",
       "     <g id=\"text_9\">\n",
       "      <!-- 20000 -->\n",
       "      <g transform=\"translate(569.105114 308.716563)scale(0.1 -0.1)\">\n",
       "       <use xlink:href=\"#DejaVuSans-50\"/>\n",
       "       <use x=\"63.623047\" xlink:href=\"#DejaVuSans-48\"/>\n",
       "       <use x=\"127.246094\" xlink:href=\"#DejaVuSans-48\"/>\n",
       "       <use x=\"190.869141\" xlink:href=\"#DejaVuSans-48\"/>\n",
       "       <use x=\"254.492188\" xlink:href=\"#DejaVuSans-48\"/>\n",
       "      </g>\n",
       "     </g>\n",
       "    </g>\n",
       "   </g>\n",
       "   <g id=\"matplotlib.axis_2\">\n",
       "    <g id=\"ytick_1\">\n",
       "     <g id=\"line2d_19\">\n",
       "      <path clip-path=\"url(#p429e537d25)\" d=\"M 52.375 294.118125 \n",
       "L 610.375 294.118125 \n",
       "\" style=\"fill:none;stroke:#b0b0b0;stroke-linecap:square;stroke-width:0.8;\"/>\n",
       "     </g>\n",
       "     <g id=\"line2d_20\">\n",
       "      <defs>\n",
       "       <path d=\"M 0 0 \n",
       "L -3.5 0 \n",
       "\" id=\"m3bfa0d482c\" style=\"stroke:#000000;stroke-width:0.8;\"/>\n",
       "      </defs>\n",
       "      <g>\n",
       "       <use style=\"stroke:#000000;stroke-width:0.8;\" x=\"52.375\" xlink:href=\"#m3bfa0d482c\" y=\"294.118125\"/>\n",
       "      </g>\n",
       "     </g>\n",
       "     <g id=\"text_10\">\n",
       "      <!-- 0 -->\n",
       "      <g transform=\"translate(39.0125 297.917344)scale(0.1 -0.1)\">\n",
       "       <use xlink:href=\"#DejaVuSans-48\"/>\n",
       "      </g>\n",
       "     </g>\n",
       "    </g>\n",
       "    <g id=\"ytick_2\">\n",
       "     <g id=\"line2d_21\">\n",
       "      <path clip-path=\"url(#p429e537d25)\" d=\"M 52.375 256.941924 \n",
       "L 610.375 256.941924 \n",
       "\" style=\"fill:none;stroke:#b0b0b0;stroke-linecap:square;stroke-width:0.8;\"/>\n",
       "     </g>\n",
       "     <g id=\"line2d_22\">\n",
       "      <g>\n",
       "       <use style=\"stroke:#000000;stroke-width:0.8;\" x=\"52.375\" xlink:href=\"#m3bfa0d482c\" y=\"256.941924\"/>\n",
       "      </g>\n",
       "     </g>\n",
       "     <g id=\"text_11\">\n",
       "      <!-- 50000 -->\n",
       "      <g transform=\"translate(13.5625 260.741143)scale(0.1 -0.1)\">\n",
       "       <use xlink:href=\"#DejaVuSans-53\"/>\n",
       "       <use x=\"63.623047\" xlink:href=\"#DejaVuSans-48\"/>\n",
       "       <use x=\"127.246094\" xlink:href=\"#DejaVuSans-48\"/>\n",
       "       <use x=\"190.869141\" xlink:href=\"#DejaVuSans-48\"/>\n",
       "       <use x=\"254.492188\" xlink:href=\"#DejaVuSans-48\"/>\n",
       "      </g>\n",
       "     </g>\n",
       "    </g>\n",
       "    <g id=\"ytick_3\">\n",
       "     <g id=\"line2d_23\">\n",
       "      <path clip-path=\"url(#p429e537d25)\" d=\"M 52.375 219.765723 \n",
       "L 610.375 219.765723 \n",
       "\" style=\"fill:none;stroke:#b0b0b0;stroke-linecap:square;stroke-width:0.8;\"/>\n",
       "     </g>\n",
       "     <g id=\"line2d_24\">\n",
       "      <g>\n",
       "       <use style=\"stroke:#000000;stroke-width:0.8;\" x=\"52.375\" xlink:href=\"#m3bfa0d482c\" y=\"219.765723\"/>\n",
       "      </g>\n",
       "     </g>\n",
       "     <g id=\"text_12\">\n",
       "      <!-- 100000 -->\n",
       "      <g transform=\"translate(7.2 223.564942)scale(0.1 -0.1)\">\n",
       "       <use xlink:href=\"#DejaVuSans-49\"/>\n",
       "       <use x=\"63.623047\" xlink:href=\"#DejaVuSans-48\"/>\n",
       "       <use x=\"127.246094\" xlink:href=\"#DejaVuSans-48\"/>\n",
       "       <use x=\"190.869141\" xlink:href=\"#DejaVuSans-48\"/>\n",
       "       <use x=\"254.492188\" xlink:href=\"#DejaVuSans-48\"/>\n",
       "       <use x=\"318.115234\" xlink:href=\"#DejaVuSans-48\"/>\n",
       "      </g>\n",
       "     </g>\n",
       "    </g>\n",
       "    <g id=\"ytick_4\">\n",
       "     <g id=\"line2d_25\">\n",
       "      <path clip-path=\"url(#p429e537d25)\" d=\"M 52.375 182.589523 \n",
       "L 610.375 182.589523 \n",
       "\" style=\"fill:none;stroke:#b0b0b0;stroke-linecap:square;stroke-width:0.8;\"/>\n",
       "     </g>\n",
       "     <g id=\"line2d_26\">\n",
       "      <g>\n",
       "       <use style=\"stroke:#000000;stroke-width:0.8;\" x=\"52.375\" xlink:href=\"#m3bfa0d482c\" y=\"182.589523\"/>\n",
       "      </g>\n",
       "     </g>\n",
       "     <g id=\"text_13\">\n",
       "      <!-- 150000 -->\n",
       "      <g transform=\"translate(7.2 186.388741)scale(0.1 -0.1)\">\n",
       "       <use xlink:href=\"#DejaVuSans-49\"/>\n",
       "       <use x=\"63.623047\" xlink:href=\"#DejaVuSans-53\"/>\n",
       "       <use x=\"127.246094\" xlink:href=\"#DejaVuSans-48\"/>\n",
       "       <use x=\"190.869141\" xlink:href=\"#DejaVuSans-48\"/>\n",
       "       <use x=\"254.492188\" xlink:href=\"#DejaVuSans-48\"/>\n",
       "       <use x=\"318.115234\" xlink:href=\"#DejaVuSans-48\"/>\n",
       "      </g>\n",
       "     </g>\n",
       "    </g>\n",
       "    <g id=\"ytick_5\">\n",
       "     <g id=\"line2d_27\">\n",
       "      <path clip-path=\"url(#p429e537d25)\" d=\"M 52.375 145.413322 \n",
       "L 610.375 145.413322 \n",
       "\" style=\"fill:none;stroke:#b0b0b0;stroke-linecap:square;stroke-width:0.8;\"/>\n",
       "     </g>\n",
       "     <g id=\"line2d_28\">\n",
       "      <g>\n",
       "       <use style=\"stroke:#000000;stroke-width:0.8;\" x=\"52.375\" xlink:href=\"#m3bfa0d482c\" y=\"145.413322\"/>\n",
       "      </g>\n",
       "     </g>\n",
       "     <g id=\"text_14\">\n",
       "      <!-- 200000 -->\n",
       "      <g transform=\"translate(7.2 149.21254)scale(0.1 -0.1)\">\n",
       "       <use xlink:href=\"#DejaVuSans-50\"/>\n",
       "       <use x=\"63.623047\" xlink:href=\"#DejaVuSans-48\"/>\n",
       "       <use x=\"127.246094\" xlink:href=\"#DejaVuSans-48\"/>\n",
       "       <use x=\"190.869141\" xlink:href=\"#DejaVuSans-48\"/>\n",
       "       <use x=\"254.492188\" xlink:href=\"#DejaVuSans-48\"/>\n",
       "       <use x=\"318.115234\" xlink:href=\"#DejaVuSans-48\"/>\n",
       "      </g>\n",
       "     </g>\n",
       "    </g>\n",
       "    <g id=\"ytick_6\">\n",
       "     <g id=\"line2d_29\">\n",
       "      <path clip-path=\"url(#p429e537d25)\" d=\"M 52.375 108.237121 \n",
       "L 610.375 108.237121 \n",
       "\" style=\"fill:none;stroke:#b0b0b0;stroke-linecap:square;stroke-width:0.8;\"/>\n",
       "     </g>\n",
       "     <g id=\"line2d_30\">\n",
       "      <g>\n",
       "       <use style=\"stroke:#000000;stroke-width:0.8;\" x=\"52.375\" xlink:href=\"#m3bfa0d482c\" y=\"108.237121\"/>\n",
       "      </g>\n",
       "     </g>\n",
       "     <g id=\"text_15\">\n",
       "      <!-- 250000 -->\n",
       "      <g transform=\"translate(7.2 112.03634)scale(0.1 -0.1)\">\n",
       "       <use xlink:href=\"#DejaVuSans-50\"/>\n",
       "       <use x=\"63.623047\" xlink:href=\"#DejaVuSans-53\"/>\n",
       "       <use x=\"127.246094\" xlink:href=\"#DejaVuSans-48\"/>\n",
       "       <use x=\"190.869141\" xlink:href=\"#DejaVuSans-48\"/>\n",
       "       <use x=\"254.492188\" xlink:href=\"#DejaVuSans-48\"/>\n",
       "       <use x=\"318.115234\" xlink:href=\"#DejaVuSans-48\"/>\n",
       "      </g>\n",
       "     </g>\n",
       "    </g>\n",
       "    <g id=\"ytick_7\">\n",
       "     <g id=\"line2d_31\">\n",
       "      <path clip-path=\"url(#p429e537d25)\" d=\"M 52.375 71.06092 \n",
       "L 610.375 71.06092 \n",
       "\" style=\"fill:none;stroke:#b0b0b0;stroke-linecap:square;stroke-width:0.8;\"/>\n",
       "     </g>\n",
       "     <g id=\"line2d_32\">\n",
       "      <g>\n",
       "       <use style=\"stroke:#000000;stroke-width:0.8;\" x=\"52.375\" xlink:href=\"#m3bfa0d482c\" y=\"71.06092\"/>\n",
       "      </g>\n",
       "     </g>\n",
       "     <g id=\"text_16\">\n",
       "      <!-- 300000 -->\n",
       "      <g transform=\"translate(7.2 74.860139)scale(0.1 -0.1)\">\n",
       "       <defs>\n",
       "        <path d=\"M 40.578125 39.3125 \n",
       "Q 47.65625 37.796875 51.625 33 \n",
       "Q 55.609375 28.21875 55.609375 21.1875 \n",
       "Q 55.609375 10.40625 48.1875 4.484375 \n",
       "Q 40.765625 -1.421875 27.09375 -1.421875 \n",
       "Q 22.515625 -1.421875 17.65625 -0.515625 \n",
       "Q 12.796875 0.390625 7.625 2.203125 \n",
       "L 7.625 11.71875 \n",
       "Q 11.71875 9.328125 16.59375 8.109375 \n",
       "Q 21.484375 6.890625 26.8125 6.890625 \n",
       "Q 36.078125 6.890625 40.9375 10.546875 \n",
       "Q 45.796875 14.203125 45.796875 21.1875 \n",
       "Q 45.796875 27.640625 41.28125 31.265625 \n",
       "Q 36.765625 34.90625 28.71875 34.90625 \n",
       "L 20.21875 34.90625 \n",
       "L 20.21875 43.015625 \n",
       "L 29.109375 43.015625 \n",
       "Q 36.375 43.015625 40.234375 45.921875 \n",
       "Q 44.09375 48.828125 44.09375 54.296875 \n",
       "Q 44.09375 59.90625 40.109375 62.90625 \n",
       "Q 36.140625 65.921875 28.71875 65.921875 \n",
       "Q 24.65625 65.921875 20.015625 65.03125 \n",
       "Q 15.375 64.15625 9.8125 62.3125 \n",
       "L 9.8125 71.09375 \n",
       "Q 15.4375 72.65625 20.34375 73.4375 \n",
       "Q 25.25 74.21875 29.59375 74.21875 \n",
       "Q 40.828125 74.21875 47.359375 69.109375 \n",
       "Q 53.90625 64.015625 53.90625 55.328125 \n",
       "Q 53.90625 49.265625 50.4375 45.09375 \n",
       "Q 46.96875 40.921875 40.578125 39.3125 \n",
       "z\n",
       "\" id=\"DejaVuSans-51\"/>\n",
       "       </defs>\n",
       "       <use xlink:href=\"#DejaVuSans-51\"/>\n",
       "       <use x=\"63.623047\" xlink:href=\"#DejaVuSans-48\"/>\n",
       "       <use x=\"127.246094\" xlink:href=\"#DejaVuSans-48\"/>\n",
       "       <use x=\"190.869141\" xlink:href=\"#DejaVuSans-48\"/>\n",
       "       <use x=\"254.492188\" xlink:href=\"#DejaVuSans-48\"/>\n",
       "       <use x=\"318.115234\" xlink:href=\"#DejaVuSans-48\"/>\n",
       "      </g>\n",
       "     </g>\n",
       "    </g>\n",
       "    <g id=\"ytick_8\">\n",
       "     <g id=\"line2d_33\">\n",
       "      <path clip-path=\"url(#p429e537d25)\" d=\"M 52.375 33.884719 \n",
       "L 610.375 33.884719 \n",
       "\" style=\"fill:none;stroke:#b0b0b0;stroke-linecap:square;stroke-width:0.8;\"/>\n",
       "     </g>\n",
       "     <g id=\"line2d_34\">\n",
       "      <g>\n",
       "       <use style=\"stroke:#000000;stroke-width:0.8;\" x=\"52.375\" xlink:href=\"#m3bfa0d482c\" y=\"33.884719\"/>\n",
       "      </g>\n",
       "     </g>\n",
       "     <g id=\"text_17\">\n",
       "      <!-- 350000 -->\n",
       "      <g transform=\"translate(7.2 37.683938)scale(0.1 -0.1)\">\n",
       "       <use xlink:href=\"#DejaVuSans-51\"/>\n",
       "       <use x=\"63.623047\" xlink:href=\"#DejaVuSans-53\"/>\n",
       "       <use x=\"127.246094\" xlink:href=\"#DejaVuSans-48\"/>\n",
       "       <use x=\"190.869141\" xlink:href=\"#DejaVuSans-48\"/>\n",
       "       <use x=\"254.492188\" xlink:href=\"#DejaVuSans-48\"/>\n",
       "       <use x=\"318.115234\" xlink:href=\"#DejaVuSans-48\"/>\n",
       "      </g>\n",
       "     </g>\n",
       "    </g>\n",
       "   </g>\n",
       "   <g id=\"patch_13\">\n",
       "    <path d=\"M 52.375 294.118125 \n",
       "L 52.375 22.318125 \n",
       "\" style=\"fill:none;stroke:#000000;stroke-linecap:square;stroke-linejoin:miter;stroke-width:0.8;\"/>\n",
       "   </g>\n",
       "   <g id=\"patch_14\">\n",
       "    <path d=\"M 610.375 294.118125 \n",
       "L 610.375 22.318125 \n",
       "\" style=\"fill:none;stroke:#000000;stroke-linecap:square;stroke-linejoin:miter;stroke-width:0.8;\"/>\n",
       "   </g>\n",
       "   <g id=\"patch_15\">\n",
       "    <path d=\"M 52.375 294.118125 \n",
       "L 610.375 294.118125 \n",
       "\" style=\"fill:none;stroke:#000000;stroke-linecap:square;stroke-linejoin:miter;stroke-width:0.8;\"/>\n",
       "   </g>\n",
       "   <g id=\"patch_16\">\n",
       "    <path d=\"M 52.375 22.318125 \n",
       "L 610.375 22.318125 \n",
       "\" style=\"fill:none;stroke:#000000;stroke-linecap:square;stroke-linejoin:miter;stroke-width:0.8;\"/>\n",
       "   </g>\n",
       "   <g id=\"text_18\">\n",
       "    <!-- Распределение по мощности -->\n",
       "    <g transform=\"translate(238.93375 16.318125)scale(0.12 -0.12)\">\n",
       "     <defs>\n",
       "      <path d=\"M 19.671875 64.796875 \n",
       "L 19.671875 37.40625 \n",
       "L 32.078125 37.40625 \n",
       "Q 38.96875 37.40625 42.71875 40.96875 \n",
       "Q 46.484375 44.53125 46.484375 51.125 \n",
       "Q 46.484375 57.671875 42.71875 61.234375 \n",
       "Q 38.96875 64.796875 32.078125 64.796875 \n",
       "z\n",
       "M 9.8125 72.90625 \n",
       "L 32.078125 72.90625 \n",
       "Q 44.34375 72.90625 50.609375 67.359375 \n",
       "Q 56.890625 61.8125 56.890625 51.125 \n",
       "Q 56.890625 40.328125 50.609375 34.8125 \n",
       "Q 44.34375 29.296875 32.078125 29.296875 \n",
       "L 19.671875 29.296875 \n",
       "L 19.671875 0 \n",
       "L 9.8125 0 \n",
       "z\n",
       "\" id=\"DejaVuSans-1056\"/>\n",
       "      <path d=\"M 34.28125 27.484375 \n",
       "Q 23.390625 27.484375 19.1875 25 \n",
       "Q 14.984375 22.515625 14.984375 16.5 \n",
       "Q 14.984375 11.71875 18.140625 8.90625 \n",
       "Q 21.296875 6.109375 26.703125 6.109375 \n",
       "Q 34.1875 6.109375 38.703125 11.40625 \n",
       "Q 43.21875 16.703125 43.21875 25.484375 \n",
       "L 43.21875 27.484375 \n",
       "z\n",
       "M 52.203125 31.203125 \n",
       "L 52.203125 0 \n",
       "L 43.21875 0 \n",
       "L 43.21875 8.296875 \n",
       "Q 40.140625 3.328125 35.546875 0.953125 \n",
       "Q 30.953125 -1.421875 24.3125 -1.421875 \n",
       "Q 15.921875 -1.421875 10.953125 3.296875 \n",
       "Q 6 8.015625 6 15.921875 \n",
       "Q 6 25.140625 12.171875 29.828125 \n",
       "Q 18.359375 34.515625 30.609375 34.515625 \n",
       "L 43.21875 34.515625 \n",
       "L 43.21875 35.40625 \n",
       "Q 43.21875 41.609375 39.140625 45 \n",
       "Q 35.0625 48.390625 27.6875 48.390625 \n",
       "Q 23 48.390625 18.546875 47.265625 \n",
       "Q 14.109375 46.140625 10.015625 43.890625 \n",
       "L 10.015625 52.203125 \n",
       "Q 14.9375 54.109375 19.578125 55.046875 \n",
       "Q 24.21875 56 28.609375 56 \n",
       "Q 40.484375 56 46.34375 49.84375 \n",
       "Q 52.203125 43.703125 52.203125 31.203125 \n",
       "z\n",
       "\" id=\"DejaVuSans-1072\"/>\n",
       "      <path d=\"M 48.78125 52.59375 \n",
       "L 48.78125 44.1875 \n",
       "Q 44.96875 46.296875 41.140625 47.34375 \n",
       "Q 37.3125 48.390625 33.40625 48.390625 \n",
       "Q 24.65625 48.390625 19.8125 42.84375 \n",
       "Q 14.984375 37.3125 14.984375 27.296875 \n",
       "Q 14.984375 17.28125 19.8125 11.734375 \n",
       "Q 24.65625 6.203125 33.40625 6.203125 \n",
       "Q 37.3125 6.203125 41.140625 7.25 \n",
       "Q 44.96875 8.296875 48.78125 10.40625 \n",
       "L 48.78125 2.09375 \n",
       "Q 45.015625 0.34375 40.984375 -0.53125 \n",
       "Q 36.96875 -1.421875 32.421875 -1.421875 \n",
       "Q 20.0625 -1.421875 12.78125 6.34375 \n",
       "Q 5.515625 14.109375 5.515625 27.296875 \n",
       "Q 5.515625 40.671875 12.859375 48.328125 \n",
       "Q 20.21875 56 33.015625 56 \n",
       "Q 37.15625 56 41.109375 55.140625 \n",
       "Q 45.0625 54.296875 48.78125 52.59375 \n",
       "z\n",
       "\" id=\"DejaVuSans-1089\"/>\n",
       "      <path d=\"M 56.296875 54.6875 \n",
       "L 56.296875 0 \n",
       "L 47.265625 0 \n",
       "L 47.265625 47.515625 \n",
       "L 18.109375 47.515625 \n",
       "L 18.109375 0 \n",
       "L 9.078125 0 \n",
       "L 9.078125 54.6875 \n",
       "z\n",
       "\" id=\"DejaVuSans-1087\"/>\n",
       "      <path d=\"M 18.109375 8.203125 \n",
       "L 18.109375 -20.796875 \n",
       "L 9.078125 -20.796875 \n",
       "L 9.078125 54.6875 \n",
       "L 18.109375 54.6875 \n",
       "L 18.109375 46.390625 \n",
       "Q 20.953125 51.265625 25.265625 53.625 \n",
       "Q 29.59375 56 35.59375 56 \n",
       "Q 45.5625 56 51.78125 48.09375 \n",
       "Q 58.015625 40.1875 58.015625 27.296875 \n",
       "Q 58.015625 14.40625 51.78125 6.484375 \n",
       "Q 45.5625 -1.421875 35.59375 -1.421875 \n",
       "Q 29.59375 -1.421875 25.265625 0.953125 \n",
       "Q 20.953125 3.328125 18.109375 8.203125 \n",
       "z\n",
       "M 48.6875 27.296875 \n",
       "Q 48.6875 37.203125 44.609375 42.84375 \n",
       "Q 40.53125 48.484375 33.40625 48.484375 \n",
       "Q 26.265625 48.484375 22.1875 42.84375 \n",
       "Q 18.109375 37.203125 18.109375 27.296875 \n",
       "Q 18.109375 17.390625 22.1875 11.75 \n",
       "Q 26.265625 6.109375 33.40625 6.109375 \n",
       "Q 40.53125 6.109375 44.609375 11.75 \n",
       "Q 48.6875 17.390625 48.6875 27.296875 \n",
       "z\n",
       "\" id=\"DejaVuSans-1088\"/>\n",
       "      <path d=\"M 56.203125 29.59375 \n",
       "L 56.203125 25.203125 \n",
       "L 14.890625 25.203125 \n",
       "Q 15.484375 15.921875 20.484375 11.0625 \n",
       "Q 25.484375 6.203125 34.421875 6.203125 \n",
       "Q 39.59375 6.203125 44.453125 7.46875 \n",
       "Q 49.3125 8.734375 54.109375 11.28125 \n",
       "L 54.109375 2.78125 \n",
       "Q 49.265625 0.734375 44.1875 -0.34375 \n",
       "Q 39.109375 -1.421875 33.890625 -1.421875 \n",
       "Q 20.796875 -1.421875 13.15625 6.1875 \n",
       "Q 5.515625 13.8125 5.515625 26.8125 \n",
       "Q 5.515625 40.234375 12.765625 48.109375 \n",
       "Q 20.015625 56 32.328125 56 \n",
       "Q 43.359375 56 49.78125 48.890625 \n",
       "Q 56.203125 41.796875 56.203125 29.59375 \n",
       "z\n",
       "M 47.21875 32.234375 \n",
       "Q 47.125 39.59375 43.09375 43.984375 \n",
       "Q 39.0625 48.390625 32.421875 48.390625 \n",
       "Q 24.90625 48.390625 20.390625 44.140625 \n",
       "Q 15.875 39.890625 15.1875 32.171875 \n",
       "z\n",
       "\" id=\"DejaVuSans-1077\"/>\n",
       "      <path d=\"M 21.625 7.171875 \n",
       "L 47.703125 7.171875 \n",
       "L 47.703125 47.515625 \n",
       "L 28.8125 47.515625 \n",
       "L 28.8125 40.671875 \n",
       "Q 28.8125 20.5625 23.046875 9.8125 \n",
       "z\n",
       "M 8.59375 7.171875 \n",
       "Q 13.03125 9.125 14.984375 13.28125 \n",
       "Q 19.78125 23.578125 19.78125 44.34375 \n",
       "L 19.78125 54.6875 \n",
       "L 56.734375 54.6875 \n",
       "L 56.734375 7.171875 \n",
       "L 63.921875 7.171875 \n",
       "L 63.921875 -13.8125 \n",
       "L 56.734375 -13.8125 \n",
       "L 56.734375 0 \n",
       "L 12.40625 0 \n",
       "L 12.40625 -13.8125 \n",
       "L 5.21875 -13.8125 \n",
       "L 5.21875 7.171875 \n",
       "z\n",
       "\" id=\"DejaVuSans-1076\"/>\n",
       "      <path d=\"M 3.71875 0 \n",
       "L 3.71875 7.46875 \n",
       "Q 12.59375 8.84375 15.328125 14.984375 \n",
       "Q 18.65625 23.640625 18.65625 45.75 \n",
       "L 18.65625 54.6875 \n",
       "L 55.609375 54.6875 \n",
       "L 55.609375 0 \n",
       "L 46.625 0 \n",
       "L 46.625 47.515625 \n",
       "L 27.640625 47.515625 \n",
       "L 27.640625 42.09375 \n",
       "Q 27.640625 21 23.34375 11.53125 \n",
       "Q 18.75 1.421875 3.71875 0 \n",
       "z\n",
       "\" id=\"DejaVuSans-1083\"/>\n",
       "      <path d=\"M 9.078125 54.6875 \n",
       "L 18.109375 54.6875 \n",
       "L 18.109375 32.375 \n",
       "L 47.265625 32.375 \n",
       "L 47.265625 54.6875 \n",
       "L 56.296875 54.6875 \n",
       "L 56.296875 0 \n",
       "L 47.265625 0 \n",
       "L 47.265625 25.203125 \n",
       "L 18.109375 25.203125 \n",
       "L 18.109375 0 \n",
       "L 9.078125 0 \n",
       "z\n",
       "\" id=\"DejaVuSans-1085\"/>\n",
       "      <path d=\"M 55.90625 54.6875 \n",
       "L 55.90625 0 \n",
       "L 46.96875 0 \n",
       "L 46.96875 43.890625 \n",
       "L 20.609375 0 \n",
       "L 9.078125 0 \n",
       "L 9.078125 54.6875 \n",
       "L 18.015625 54.6875 \n",
       "L 18.015625 10.890625 \n",
       "L 44.34375 54.6875 \n",
       "z\n",
       "\" id=\"DejaVuSans-1080\"/>\n",
       "      <path id=\"DejaVuSans-32\"/>\n",
       "      <path d=\"M 30.609375 48.390625 \n",
       "Q 23.390625 48.390625 19.1875 42.75 \n",
       "Q 14.984375 37.109375 14.984375 27.296875 \n",
       "Q 14.984375 17.484375 19.15625 11.84375 \n",
       "Q 23.34375 6.203125 30.609375 6.203125 \n",
       "Q 37.796875 6.203125 41.984375 11.859375 \n",
       "Q 46.1875 17.53125 46.1875 27.296875 \n",
       "Q 46.1875 37.015625 41.984375 42.703125 \n",
       "Q 37.796875 48.390625 30.609375 48.390625 \n",
       "z\n",
       "M 30.609375 56 \n",
       "Q 42.328125 56 49.015625 48.375 \n",
       "Q 55.71875 40.765625 55.71875 27.296875 \n",
       "Q 55.71875 13.875 49.015625 6.21875 \n",
       "Q 42.328125 -1.421875 30.609375 -1.421875 \n",
       "Q 18.84375 -1.421875 12.171875 6.21875 \n",
       "Q 5.515625 13.875 5.515625 27.296875 \n",
       "Q 5.515625 40.765625 12.171875 48.375 \n",
       "Q 18.84375 56 30.609375 56 \n",
       "z\n",
       "\" id=\"DejaVuSans-1086\"/>\n",
       "      <path d=\"M 9.078125 54.6875 \n",
       "L 22.21875 54.6875 \n",
       "L 37.75 18.0625 \n",
       "L 53.328125 54.6875 \n",
       "L 66.359375 54.6875 \n",
       "L 66.359375 0 \n",
       "L 57.328125 0 \n",
       "L 57.328125 46.09375 \n",
       "L 42.234375 10.5 \n",
       "L 33.25 10.5 \n",
       "L 18.109375 46.09375 \n",
       "L 18.109375 0 \n",
       "L 9.078125 0 \n",
       "z\n",
       "\" id=\"DejaVuSans-1084\"/>\n",
       "      <path d=\"M 82.421875 0 \n",
       "L 9.078125 0 \n",
       "L 9.078125 54.6875 \n",
       "L 18.109375 54.6875 \n",
       "L 18.109375 7.171875 \n",
       "L 41.21875 7.171875 \n",
       "L 41.21875 54.6875 \n",
       "L 50.25 54.6875 \n",
       "L 50.25 7.171875 \n",
       "L 73.390625 7.171875 \n",
       "L 73.390625 54.6875 \n",
       "L 82.421875 54.6875 \n",
       "L 82.421875 7.171875 \n",
       "L 89.59375 7.171875 \n",
       "L 89.59375 -13.8125 \n",
       "L 82.421875 -13.8125 \n",
       "z\n",
       "\" id=\"DejaVuSans-1097\"/>\n",
       "      <path d=\"M 2.9375 54.6875 \n",
       "L 55.328125 54.6875 \n",
       "L 55.328125 47.515625 \n",
       "L 33.546875 47.515625 \n",
       "L 33.546875 0 \n",
       "L 24.703125 0 \n",
       "L 24.703125 47.515625 \n",
       "L 2.9375 47.515625 \n",
       "z\n",
       "\" id=\"DejaVuSans-1090\"/>\n",
       "     </defs>\n",
       "     <use xlink:href=\"#DejaVuSans-1056\"/>\n",
       "     <use x=\"60.302734\" xlink:href=\"#DejaVuSans-1072\"/>\n",
       "     <use x=\"121.582031\" xlink:href=\"#DejaVuSans-1089\"/>\n",
       "     <use x=\"176.5625\" xlink:href=\"#DejaVuSans-1087\"/>\n",
       "     <use x=\"241.943359\" xlink:href=\"#DejaVuSans-1088\"/>\n",
       "     <use x=\"305.419922\" xlink:href=\"#DejaVuSans-1077\"/>\n",
       "     <use x=\"366.943359\" xlink:href=\"#DejaVuSans-1076\"/>\n",
       "     <use x=\"436.083984\" xlink:href=\"#DejaVuSans-1077\"/>\n",
       "     <use x=\"497.607422\" xlink:href=\"#DejaVuSans-1083\"/>\n",
       "     <use x=\"561.523438\" xlink:href=\"#DejaVuSans-1077\"/>\n",
       "     <use x=\"623.046875\" xlink:href=\"#DejaVuSans-1085\"/>\n",
       "     <use x=\"688.427734\" xlink:href=\"#DejaVuSans-1080\"/>\n",
       "     <use x=\"753.417969\" xlink:href=\"#DejaVuSans-1077\"/>\n",
       "     <use x=\"814.941406\" xlink:href=\"#DejaVuSans-32\"/>\n",
       "     <use x=\"846.728516\" xlink:href=\"#DejaVuSans-1087\"/>\n",
       "     <use x=\"912.109375\" xlink:href=\"#DejaVuSans-1086\"/>\n",
       "     <use x=\"973.291016\" xlink:href=\"#DejaVuSans-32\"/>\n",
       "     <use x=\"1005.078125\" xlink:href=\"#DejaVuSans-1084\"/>\n",
       "     <use x=\"1080.517578\" xlink:href=\"#DejaVuSans-1086\"/>\n",
       "     <use x=\"1141.699219\" xlink:href=\"#DejaVuSans-1097\"/>\n",
       "     <use x=\"1235.888672\" xlink:href=\"#DejaVuSans-1085\"/>\n",
       "     <use x=\"1301.269531\" xlink:href=\"#DejaVuSans-1086\"/>\n",
       "     <use x=\"1362.451172\" xlink:href=\"#DejaVuSans-1089\"/>\n",
       "     <use x=\"1417.431641\" xlink:href=\"#DejaVuSans-1090\"/>\n",
       "     <use x=\"1475.683594\" xlink:href=\"#DejaVuSans-1080\"/>\n",
       "    </g>\n",
       "   </g>\n",
       "  </g>\n",
       " </g>\n",
       " <defs>\n",
       "  <clipPath id=\"p429e537d25\">\n",
       "   <rect height=\"271.8\" width=\"558\" x=\"52.375\" y=\"22.318125\"/>\n",
       "  </clipPath>\n",
       " </defs>\n",
       "</svg>\n"
      ],
      "text/plain": [
       "<Figure size 720x360 with 1 Axes>"
      ]
     },
     "metadata": {
      "needs_background": "light"
     },
     "output_type": "display_data"
    }
   ],
   "source": [
    "data.power.hist(bins=10)\n",
    "plt.title('Распределение по мощности')"
   ]
  },
  {
   "cell_type": "markdown",
   "metadata": {},
   "source": [
    "Поэтому разделим значения по интервалам, которые передадим аргументом в параметр `bins`"
   ]
  },
  {
   "cell_type": "code",
   "execution_count": 16,
   "metadata": {},
   "outputs": [
    {
     "data": {
      "text/plain": [
       "Text(0.5, 1.0, 'Распределение по мощности')"
      ]
     },
     "execution_count": 16,
     "metadata": {},
     "output_type": "execute_result"
    },
    {
     "data": {
      "image/svg+xml": [
       "<?xml version=\"1.0\" encoding=\"utf-8\" standalone=\"no\"?>\n",
       "<!DOCTYPE svg PUBLIC \"-//W3C//DTD SVG 1.1//EN\"\n",
       "  \"http://www.w3.org/Graphics/SVG/1.1/DTD/svg11.dtd\">\n",
       "<!-- Created with matplotlib (https://matplotlib.org/) -->\n",
       "<svg height=\"317.99625pt\" version=\"1.1\" viewBox=\"0 0 634.434375 317.99625\" width=\"634.434375pt\" xmlns=\"http://www.w3.org/2000/svg\" xmlns:xlink=\"http://www.w3.org/1999/xlink\">\n",
       " <metadata>\n",
       "  <rdf:RDF xmlns:cc=\"http://creativecommons.org/ns#\" xmlns:dc=\"http://purl.org/dc/elements/1.1/\" xmlns:rdf=\"http://www.w3.org/1999/02/22-rdf-syntax-ns#\">\n",
       "   <cc:Work>\n",
       "    <dc:type rdf:resource=\"http://purl.org/dc/dcmitype/StillImage\"/>\n",
       "    <dc:date>2022-04-13T07:56:33.897707</dc:date>\n",
       "    <dc:format>image/svg+xml</dc:format>\n",
       "    <dc:creator>\n",
       "     <cc:Agent>\n",
       "      <dc:title>Matplotlib v3.3.4, https://matplotlib.org/</dc:title>\n",
       "     </cc:Agent>\n",
       "    </dc:creator>\n",
       "   </cc:Work>\n",
       "  </rdf:RDF>\n",
       " </metadata>\n",
       " <defs>\n",
       "  <style type=\"text/css\">*{stroke-linecap:butt;stroke-linejoin:round;}</style>\n",
       " </defs>\n",
       " <g id=\"figure_1\">\n",
       "  <g id=\"patch_1\">\n",
       "   <path d=\"M 0 317.99625 \n",
       "L 634.434375 317.99625 \n",
       "L 634.434375 0 \n",
       "L 0 0 \n",
       "z\n",
       "\" style=\"fill:none;\"/>\n",
       "  </g>\n",
       "  <g id=\"axes_1\">\n",
       "   <g id=\"patch_2\">\n",
       "    <path d=\"M 59.690625 294.118125 \n",
       "L 617.690625 294.118125 \n",
       "L 617.690625 22.318125 \n",
       "L 59.690625 22.318125 \n",
       "z\n",
       "\" style=\"fill:#ffffff;\"/>\n",
       "   </g>\n",
       "   <g id=\"patch_3\">\n",
       "    <path clip-path=\"url(#p0f76103dd5)\" d=\"M 84.242625 294.118125 \n",
       "L 104.330625 294.118125 \n",
       "L 104.330625 292.948418 \n",
       "L 84.242625 292.948418 \n",
       "z\n",
       "\" style=\"fill:#1f77b4;opacity:0.7;\"/>\n",
       "   </g>\n",
       "   <g id=\"patch_4\">\n",
       "    <path clip-path=\"url(#p0f76103dd5)\" d=\"M 104.330625 294.118125 \n",
       "L 126.650625 294.118125 \n",
       "L 126.650625 290.248416 \n",
       "L 104.330625 290.248416 \n",
       "z\n",
       "\" style=\"fill:#1f77b4;opacity:0.7;\"/>\n",
       "   </g>\n",
       "   <g id=\"patch_5\">\n",
       "    <path clip-path=\"url(#p0f76103dd5)\" d=\"M 126.650625 294.118125 \n",
       "L 148.970625 294.118125 \n",
       "L 148.970625 289.85265 \n",
       "L 126.650625 289.85265 \n",
       "z\n",
       "\" style=\"fill:#1f77b4;opacity:0.7;\"/>\n",
       "   </g>\n",
       "   <g id=\"patch_6\">\n",
       "    <path clip-path=\"url(#p0f76103dd5)\" d=\"M 148.970625 294.118125 \n",
       "L 171.290625 294.118125 \n",
       "L 171.290625 255.148397 \n",
       "L 148.970625 255.148397 \n",
       "z\n",
       "\" style=\"fill:#1f77b4;opacity:0.7;\"/>\n",
       "   </g>\n",
       "   <g id=\"patch_7\">\n",
       "    <path clip-path=\"url(#p0f76103dd5)\" d=\"M 171.290625 294.118125 \n",
       "L 193.610625 294.118125 \n",
       "L 193.610625 141.37016 \n",
       "L 171.290625 141.37016 \n",
       "z\n",
       "\" style=\"fill:#1f77b4;opacity:0.7;\"/>\n",
       "   </g>\n",
       "   <g id=\"patch_8\">\n",
       "    <path clip-path=\"url(#p0f76103dd5)\" d=\"M 193.610625 294.118125 \n",
       "L 215.930625 294.118125 \n",
       "L 215.930625 47.88151 \n",
       "L 193.610625 47.88151 \n",
       "z\n",
       "\" style=\"fill:#1f77b4;opacity:0.7;\"/>\n",
       "   </g>\n",
       "   <g id=\"patch_9\">\n",
       "    <path clip-path=\"url(#p0f76103dd5)\" d=\"M 215.930625 294.118125 \n",
       "L 238.250625 294.118125 \n",
       "L 238.250625 35.260982 \n",
       "L 215.930625 35.260982 \n",
       "z\n",
       "\" style=\"fill:#1f77b4;opacity:0.7;\"/>\n",
       "   </g>\n",
       "   <g id=\"patch_10\">\n",
       "    <path clip-path=\"url(#p0f76103dd5)\" d=\"M 238.250625 294.118125 \n",
       "L 260.570625 294.118125 \n",
       "L 260.570625 176.267899 \n",
       "L 238.250625 176.267899 \n",
       "z\n",
       "\" style=\"fill:#1f77b4;opacity:0.7;\"/>\n",
       "   </g>\n",
       "   <g id=\"patch_11\">\n",
       "    <path clip-path=\"url(#p0f76103dd5)\" d=\"M 260.570625 294.118125 \n",
       "L 282.890625 294.118125 \n",
       "L 282.890625 115.302393 \n",
       "L 260.570625 115.302393 \n",
       "z\n",
       "\" style=\"fill:#1f77b4;opacity:0.7;\"/>\n",
       "   </g>\n",
       "   <g id=\"matplotlib.axis_1\">\n",
       "    <g id=\"xtick_1\">\n",
       "     <g id=\"line2d_1\">\n",
       "      <defs>\n",
       "       <path d=\"M 0 0 \n",
       "L 0 3.5 \n",
       "\" id=\"m4793d16f0d\" style=\"stroke:#000000;stroke-width:0.8;\"/>\n",
       "      </defs>\n",
       "      <g>\n",
       "       <use style=\"stroke:#000000;stroke-width:0.8;\" x=\"59.690625\" xlink:href=\"#m4793d16f0d\" y=\"294.118125\"/>\n",
       "      </g>\n",
       "     </g>\n",
       "     <g id=\"text_1\">\n",
       "      <!-- 0 -->\n",
       "      <g transform=\"translate(56.509375 308.716563)scale(0.1 -0.1)\">\n",
       "       <defs>\n",
       "        <path d=\"M 31.78125 66.40625 \n",
       "Q 24.171875 66.40625 20.328125 58.90625 \n",
       "Q 16.5 51.421875 16.5 36.375 \n",
       "Q 16.5 21.390625 20.328125 13.890625 \n",
       "Q 24.171875 6.390625 31.78125 6.390625 \n",
       "Q 39.453125 6.390625 43.28125 13.890625 \n",
       "Q 47.125 21.390625 47.125 36.375 \n",
       "Q 47.125 51.421875 43.28125 58.90625 \n",
       "Q 39.453125 66.40625 31.78125 66.40625 \n",
       "z\n",
       "M 31.78125 74.21875 \n",
       "Q 44.046875 74.21875 50.515625 64.515625 \n",
       "Q 56.984375 54.828125 56.984375 36.375 \n",
       "Q 56.984375 17.96875 50.515625 8.265625 \n",
       "Q 44.046875 -1.421875 31.78125 -1.421875 \n",
       "Q 19.53125 -1.421875 13.0625 8.265625 \n",
       "Q 6.59375 17.96875 6.59375 36.375 \n",
       "Q 6.59375 54.828125 13.0625 64.515625 \n",
       "Q 19.53125 74.21875 31.78125 74.21875 \n",
       "z\n",
       "\" id=\"DejaVuSans-48\"/>\n",
       "       </defs>\n",
       "       <use xlink:href=\"#DejaVuSans-48\"/>\n",
       "      </g>\n",
       "     </g>\n",
       "    </g>\n",
       "    <g id=\"xtick_2\">\n",
       "     <g id=\"line2d_2\">\n",
       "      <g>\n",
       "       <use style=\"stroke:#000000;stroke-width:0.8;\" x=\"171.290625\" xlink:href=\"#m4793d16f0d\" y=\"294.118125\"/>\n",
       "      </g>\n",
       "     </g>\n",
       "     <g id=\"text_2\">\n",
       "      <!-- 50 -->\n",
       "      <g transform=\"translate(164.928125 308.716563)scale(0.1 -0.1)\">\n",
       "       <defs>\n",
       "        <path d=\"M 10.796875 72.90625 \n",
       "L 49.515625 72.90625 \n",
       "L 49.515625 64.59375 \n",
       "L 19.828125 64.59375 \n",
       "L 19.828125 46.734375 \n",
       "Q 21.96875 47.46875 24.109375 47.828125 \n",
       "Q 26.265625 48.1875 28.421875 48.1875 \n",
       "Q 40.625 48.1875 47.75 41.5 \n",
       "Q 54.890625 34.8125 54.890625 23.390625 \n",
       "Q 54.890625 11.625 47.5625 5.09375 \n",
       "Q 40.234375 -1.421875 26.90625 -1.421875 \n",
       "Q 22.3125 -1.421875 17.546875 -0.640625 \n",
       "Q 12.796875 0.140625 7.71875 1.703125 \n",
       "L 7.71875 11.625 \n",
       "Q 12.109375 9.234375 16.796875 8.0625 \n",
       "Q 21.484375 6.890625 26.703125 6.890625 \n",
       "Q 35.15625 6.890625 40.078125 11.328125 \n",
       "Q 45.015625 15.765625 45.015625 23.390625 \n",
       "Q 45.015625 31 40.078125 35.4375 \n",
       "Q 35.15625 39.890625 26.703125 39.890625 \n",
       "Q 22.75 39.890625 18.8125 39.015625 \n",
       "Q 14.890625 38.140625 10.796875 36.28125 \n",
       "z\n",
       "\" id=\"DejaVuSans-53\"/>\n",
       "       </defs>\n",
       "       <use xlink:href=\"#DejaVuSans-53\"/>\n",
       "       <use x=\"63.623047\" xlink:href=\"#DejaVuSans-48\"/>\n",
       "      </g>\n",
       "     </g>\n",
       "    </g>\n",
       "    <g id=\"xtick_3\">\n",
       "     <g id=\"line2d_3\">\n",
       "      <g>\n",
       "       <use style=\"stroke:#000000;stroke-width:0.8;\" x=\"282.890625\" xlink:href=\"#m4793d16f0d\" y=\"294.118125\"/>\n",
       "      </g>\n",
       "     </g>\n",
       "     <g id=\"text_3\">\n",
       "      <!-- 100 -->\n",
       "      <g transform=\"translate(273.346875 308.716563)scale(0.1 -0.1)\">\n",
       "       <defs>\n",
       "        <path d=\"M 12.40625 8.296875 \n",
       "L 28.515625 8.296875 \n",
       "L 28.515625 63.921875 \n",
       "L 10.984375 60.40625 \n",
       "L 10.984375 69.390625 \n",
       "L 28.421875 72.90625 \n",
       "L 38.28125 72.90625 \n",
       "L 38.28125 8.296875 \n",
       "L 54.390625 8.296875 \n",
       "L 54.390625 0 \n",
       "L 12.40625 0 \n",
       "z\n",
       "\" id=\"DejaVuSans-49\"/>\n",
       "       </defs>\n",
       "       <use xlink:href=\"#DejaVuSans-49\"/>\n",
       "       <use x=\"63.623047\" xlink:href=\"#DejaVuSans-48\"/>\n",
       "       <use x=\"127.246094\" xlink:href=\"#DejaVuSans-48\"/>\n",
       "      </g>\n",
       "     </g>\n",
       "    </g>\n",
       "    <g id=\"xtick_4\">\n",
       "     <g id=\"line2d_4\">\n",
       "      <g>\n",
       "       <use style=\"stroke:#000000;stroke-width:0.8;\" x=\"394.490625\" xlink:href=\"#m4793d16f0d\" y=\"294.118125\"/>\n",
       "      </g>\n",
       "     </g>\n",
       "     <g id=\"text_4\">\n",
       "      <!-- 150 -->\n",
       "      <g transform=\"translate(384.946875 308.716563)scale(0.1 -0.1)\">\n",
       "       <use xlink:href=\"#DejaVuSans-49\"/>\n",
       "       <use x=\"63.623047\" xlink:href=\"#DejaVuSans-53\"/>\n",
       "       <use x=\"127.246094\" xlink:href=\"#DejaVuSans-48\"/>\n",
       "      </g>\n",
       "     </g>\n",
       "    </g>\n",
       "    <g id=\"xtick_5\">\n",
       "     <g id=\"line2d_5\">\n",
       "      <g>\n",
       "       <use style=\"stroke:#000000;stroke-width:0.8;\" x=\"506.090625\" xlink:href=\"#m4793d16f0d\" y=\"294.118125\"/>\n",
       "      </g>\n",
       "     </g>\n",
       "     <g id=\"text_5\">\n",
       "      <!-- 200 -->\n",
       "      <g transform=\"translate(496.546875 308.716563)scale(0.1 -0.1)\">\n",
       "       <defs>\n",
       "        <path d=\"M 19.1875 8.296875 \n",
       "L 53.609375 8.296875 \n",
       "L 53.609375 0 \n",
       "L 7.328125 0 \n",
       "L 7.328125 8.296875 \n",
       "Q 12.9375 14.109375 22.625 23.890625 \n",
       "Q 32.328125 33.6875 34.8125 36.53125 \n",
       "Q 39.546875 41.84375 41.421875 45.53125 \n",
       "Q 43.3125 49.21875 43.3125 52.78125 \n",
       "Q 43.3125 58.59375 39.234375 62.25 \n",
       "Q 35.15625 65.921875 28.609375 65.921875 \n",
       "Q 23.96875 65.921875 18.8125 64.3125 \n",
       "Q 13.671875 62.703125 7.8125 59.421875 \n",
       "L 7.8125 69.390625 \n",
       "Q 13.765625 71.78125 18.9375 73 \n",
       "Q 24.125 74.21875 28.421875 74.21875 \n",
       "Q 39.75 74.21875 46.484375 68.546875 \n",
       "Q 53.21875 62.890625 53.21875 53.421875 \n",
       "Q 53.21875 48.921875 51.53125 44.890625 \n",
       "Q 49.859375 40.875 45.40625 35.40625 \n",
       "Q 44.1875 33.984375 37.640625 27.21875 \n",
       "Q 31.109375 20.453125 19.1875 8.296875 \n",
       "z\n",
       "\" id=\"DejaVuSans-50\"/>\n",
       "       </defs>\n",
       "       <use xlink:href=\"#DejaVuSans-50\"/>\n",
       "       <use x=\"63.623047\" xlink:href=\"#DejaVuSans-48\"/>\n",
       "       <use x=\"127.246094\" xlink:href=\"#DejaVuSans-48\"/>\n",
       "      </g>\n",
       "     </g>\n",
       "    </g>\n",
       "    <g id=\"xtick_6\">\n",
       "     <g id=\"line2d_6\">\n",
       "      <g>\n",
       "       <use style=\"stroke:#000000;stroke-width:0.8;\" x=\"617.690625\" xlink:href=\"#m4793d16f0d\" y=\"294.118125\"/>\n",
       "      </g>\n",
       "     </g>\n",
       "     <g id=\"text_6\">\n",
       "      <!-- 250 -->\n",
       "      <g transform=\"translate(608.146875 308.716563)scale(0.1 -0.1)\">\n",
       "       <use xlink:href=\"#DejaVuSans-50\"/>\n",
       "       <use x=\"63.623047\" xlink:href=\"#DejaVuSans-53\"/>\n",
       "       <use x=\"127.246094\" xlink:href=\"#DejaVuSans-48\"/>\n",
       "      </g>\n",
       "     </g>\n",
       "    </g>\n",
       "   </g>\n",
       "   <g id=\"matplotlib.axis_2\">\n",
       "    <g id=\"ytick_1\">\n",
       "     <g id=\"line2d_7\">\n",
       "      <defs>\n",
       "       <path d=\"M 0 0 \n",
       "L -3.5 0 \n",
       "\" id=\"md57def3e20\" style=\"stroke:#000000;stroke-width:0.8;\"/>\n",
       "      </defs>\n",
       "      <g>\n",
       "       <use style=\"stroke:#000000;stroke-width:0.8;\" x=\"59.690625\" xlink:href=\"#md57def3e20\" y=\"294.118125\"/>\n",
       "      </g>\n",
       "     </g>\n",
       "     <g id=\"text_7\">\n",
       "      <!-- 0 -->\n",
       "      <g transform=\"translate(46.328125 297.917344)scale(0.1 -0.1)\">\n",
       "       <use xlink:href=\"#DejaVuSans-48\"/>\n",
       "      </g>\n",
       "     </g>\n",
       "    </g>\n",
       "    <g id=\"ytick_2\">\n",
       "     <g id=\"line2d_8\">\n",
       "      <g>\n",
       "       <use style=\"stroke:#000000;stroke-width:0.8;\" x=\"59.690625\" xlink:href=\"#md57def3e20\" y=\"250.14416\"/>\n",
       "      </g>\n",
       "     </g>\n",
       "     <g id=\"text_8\">\n",
       "      <!-- 5000 -->\n",
       "      <g transform=\"translate(27.240625 253.943379)scale(0.1 -0.1)\">\n",
       "       <use xlink:href=\"#DejaVuSans-53\"/>\n",
       "       <use x=\"63.623047\" xlink:href=\"#DejaVuSans-48\"/>\n",
       "       <use x=\"127.246094\" xlink:href=\"#DejaVuSans-48\"/>\n",
       "       <use x=\"190.869141\" xlink:href=\"#DejaVuSans-48\"/>\n",
       "      </g>\n",
       "     </g>\n",
       "    </g>\n",
       "    <g id=\"ytick_3\">\n",
       "     <g id=\"line2d_9\">\n",
       "      <g>\n",
       "       <use style=\"stroke:#000000;stroke-width:0.8;\" x=\"59.690625\" xlink:href=\"#md57def3e20\" y=\"206.170195\"/>\n",
       "      </g>\n",
       "     </g>\n",
       "     <g id=\"text_9\">\n",
       "      <!-- 10000 -->\n",
       "      <g transform=\"translate(20.878125 209.969414)scale(0.1 -0.1)\">\n",
       "       <use xlink:href=\"#DejaVuSans-49\"/>\n",
       "       <use x=\"63.623047\" xlink:href=\"#DejaVuSans-48\"/>\n",
       "       <use x=\"127.246094\" xlink:href=\"#DejaVuSans-48\"/>\n",
       "       <use x=\"190.869141\" xlink:href=\"#DejaVuSans-48\"/>\n",
       "       <use x=\"254.492188\" xlink:href=\"#DejaVuSans-48\"/>\n",
       "      </g>\n",
       "     </g>\n",
       "    </g>\n",
       "    <g id=\"ytick_4\">\n",
       "     <g id=\"line2d_10\">\n",
       "      <g>\n",
       "       <use style=\"stroke:#000000;stroke-width:0.8;\" x=\"59.690625\" xlink:href=\"#md57def3e20\" y=\"162.19623\"/>\n",
       "      </g>\n",
       "     </g>\n",
       "     <g id=\"text_10\">\n",
       "      <!-- 15000 -->\n",
       "      <g transform=\"translate(20.878125 165.995449)scale(0.1 -0.1)\">\n",
       "       <use xlink:href=\"#DejaVuSans-49\"/>\n",
       "       <use x=\"63.623047\" xlink:href=\"#DejaVuSans-53\"/>\n",
       "       <use x=\"127.246094\" xlink:href=\"#DejaVuSans-48\"/>\n",
       "       <use x=\"190.869141\" xlink:href=\"#DejaVuSans-48\"/>\n",
       "       <use x=\"254.492188\" xlink:href=\"#DejaVuSans-48\"/>\n",
       "      </g>\n",
       "     </g>\n",
       "    </g>\n",
       "    <g id=\"ytick_5\">\n",
       "     <g id=\"line2d_11\">\n",
       "      <g>\n",
       "       <use style=\"stroke:#000000;stroke-width:0.8;\" x=\"59.690625\" xlink:href=\"#md57def3e20\" y=\"118.222265\"/>\n",
       "      </g>\n",
       "     </g>\n",
       "     <g id=\"text_11\">\n",
       "      <!-- 20000 -->\n",
       "      <g transform=\"translate(20.878125 122.021483)scale(0.1 -0.1)\">\n",
       "       <use xlink:href=\"#DejaVuSans-50\"/>\n",
       "       <use x=\"63.623047\" xlink:href=\"#DejaVuSans-48\"/>\n",
       "       <use x=\"127.246094\" xlink:href=\"#DejaVuSans-48\"/>\n",
       "       <use x=\"190.869141\" xlink:href=\"#DejaVuSans-48\"/>\n",
       "       <use x=\"254.492188\" xlink:href=\"#DejaVuSans-48\"/>\n",
       "      </g>\n",
       "     </g>\n",
       "    </g>\n",
       "    <g id=\"ytick_6\">\n",
       "     <g id=\"line2d_12\">\n",
       "      <g>\n",
       "       <use style=\"stroke:#000000;stroke-width:0.8;\" x=\"59.690625\" xlink:href=\"#md57def3e20\" y=\"74.2483\"/>\n",
       "      </g>\n",
       "     </g>\n",
       "     <g id=\"text_12\">\n",
       "      <!-- 25000 -->\n",
       "      <g transform=\"translate(20.878125 78.047518)scale(0.1 -0.1)\">\n",
       "       <use xlink:href=\"#DejaVuSans-50\"/>\n",
       "       <use x=\"63.623047\" xlink:href=\"#DejaVuSans-53\"/>\n",
       "       <use x=\"127.246094\" xlink:href=\"#DejaVuSans-48\"/>\n",
       "       <use x=\"190.869141\" xlink:href=\"#DejaVuSans-48\"/>\n",
       "       <use x=\"254.492188\" xlink:href=\"#DejaVuSans-48\"/>\n",
       "      </g>\n",
       "     </g>\n",
       "    </g>\n",
       "    <g id=\"ytick_7\">\n",
       "     <g id=\"line2d_13\">\n",
       "      <g>\n",
       "       <use style=\"stroke:#000000;stroke-width:0.8;\" x=\"59.690625\" xlink:href=\"#md57def3e20\" y=\"30.274335\"/>\n",
       "      </g>\n",
       "     </g>\n",
       "     <g id=\"text_13\">\n",
       "      <!-- 30000 -->\n",
       "      <g transform=\"translate(20.878125 34.073553)scale(0.1 -0.1)\">\n",
       "       <defs>\n",
       "        <path d=\"M 40.578125 39.3125 \n",
       "Q 47.65625 37.796875 51.625 33 \n",
       "Q 55.609375 28.21875 55.609375 21.1875 \n",
       "Q 55.609375 10.40625 48.1875 4.484375 \n",
       "Q 40.765625 -1.421875 27.09375 -1.421875 \n",
       "Q 22.515625 -1.421875 17.65625 -0.515625 \n",
       "Q 12.796875 0.390625 7.625 2.203125 \n",
       "L 7.625 11.71875 \n",
       "Q 11.71875 9.328125 16.59375 8.109375 \n",
       "Q 21.484375 6.890625 26.8125 6.890625 \n",
       "Q 36.078125 6.890625 40.9375 10.546875 \n",
       "Q 45.796875 14.203125 45.796875 21.1875 \n",
       "Q 45.796875 27.640625 41.28125 31.265625 \n",
       "Q 36.765625 34.90625 28.71875 34.90625 \n",
       "L 20.21875 34.90625 \n",
       "L 20.21875 43.015625 \n",
       "L 29.109375 43.015625 \n",
       "Q 36.375 43.015625 40.234375 45.921875 \n",
       "Q 44.09375 48.828125 44.09375 54.296875 \n",
       "Q 44.09375 59.90625 40.109375 62.90625 \n",
       "Q 36.140625 65.921875 28.71875 65.921875 \n",
       "Q 24.65625 65.921875 20.015625 65.03125 \n",
       "Q 15.375 64.15625 9.8125 62.3125 \n",
       "L 9.8125 71.09375 \n",
       "Q 15.4375 72.65625 20.34375 73.4375 \n",
       "Q 25.25 74.21875 29.59375 74.21875 \n",
       "Q 40.828125 74.21875 47.359375 69.109375 \n",
       "Q 53.90625 64.015625 53.90625 55.328125 \n",
       "Q 53.90625 49.265625 50.4375 45.09375 \n",
       "Q 46.96875 40.921875 40.578125 39.3125 \n",
       "z\n",
       "\" id=\"DejaVuSans-51\"/>\n",
       "       </defs>\n",
       "       <use xlink:href=\"#DejaVuSans-51\"/>\n",
       "       <use x=\"63.623047\" xlink:href=\"#DejaVuSans-48\"/>\n",
       "       <use x=\"127.246094\" xlink:href=\"#DejaVuSans-48\"/>\n",
       "       <use x=\"190.869141\" xlink:href=\"#DejaVuSans-48\"/>\n",
       "       <use x=\"254.492188\" xlink:href=\"#DejaVuSans-48\"/>\n",
       "      </g>\n",
       "     </g>\n",
       "    </g>\n",
       "    <g id=\"text_14\">\n",
       "     <!-- Frequency -->\n",
       "     <g transform=\"translate(14.798438 184.047813)rotate(-90)scale(0.1 -0.1)\">\n",
       "      <defs>\n",
       "       <path d=\"M 9.8125 72.90625 \n",
       "L 51.703125 72.90625 \n",
       "L 51.703125 64.59375 \n",
       "L 19.671875 64.59375 \n",
       "L 19.671875 43.109375 \n",
       "L 48.578125 43.109375 \n",
       "L 48.578125 34.8125 \n",
       "L 19.671875 34.8125 \n",
       "L 19.671875 0 \n",
       "L 9.8125 0 \n",
       "z\n",
       "\" id=\"DejaVuSans-70\"/>\n",
       "       <path d=\"M 41.109375 46.296875 \n",
       "Q 39.59375 47.171875 37.8125 47.578125 \n",
       "Q 36.03125 48 33.890625 48 \n",
       "Q 26.265625 48 22.1875 43.046875 \n",
       "Q 18.109375 38.09375 18.109375 28.8125 \n",
       "L 18.109375 0 \n",
       "L 9.078125 0 \n",
       "L 9.078125 54.6875 \n",
       "L 18.109375 54.6875 \n",
       "L 18.109375 46.1875 \n",
       "Q 20.953125 51.171875 25.484375 53.578125 \n",
       "Q 30.03125 56 36.53125 56 \n",
       "Q 37.453125 56 38.578125 55.875 \n",
       "Q 39.703125 55.765625 41.0625 55.515625 \n",
       "z\n",
       "\" id=\"DejaVuSans-114\"/>\n",
       "       <path d=\"M 56.203125 29.59375 \n",
       "L 56.203125 25.203125 \n",
       "L 14.890625 25.203125 \n",
       "Q 15.484375 15.921875 20.484375 11.0625 \n",
       "Q 25.484375 6.203125 34.421875 6.203125 \n",
       "Q 39.59375 6.203125 44.453125 7.46875 \n",
       "Q 49.3125 8.734375 54.109375 11.28125 \n",
       "L 54.109375 2.78125 \n",
       "Q 49.265625 0.734375 44.1875 -0.34375 \n",
       "Q 39.109375 -1.421875 33.890625 -1.421875 \n",
       "Q 20.796875 -1.421875 13.15625 6.1875 \n",
       "Q 5.515625 13.8125 5.515625 26.8125 \n",
       "Q 5.515625 40.234375 12.765625 48.109375 \n",
       "Q 20.015625 56 32.328125 56 \n",
       "Q 43.359375 56 49.78125 48.890625 \n",
       "Q 56.203125 41.796875 56.203125 29.59375 \n",
       "z\n",
       "M 47.21875 32.234375 \n",
       "Q 47.125 39.59375 43.09375 43.984375 \n",
       "Q 39.0625 48.390625 32.421875 48.390625 \n",
       "Q 24.90625 48.390625 20.390625 44.140625 \n",
       "Q 15.875 39.890625 15.1875 32.171875 \n",
       "z\n",
       "\" id=\"DejaVuSans-101\"/>\n",
       "       <path d=\"M 14.796875 27.296875 \n",
       "Q 14.796875 17.390625 18.875 11.75 \n",
       "Q 22.953125 6.109375 30.078125 6.109375 \n",
       "Q 37.203125 6.109375 41.296875 11.75 \n",
       "Q 45.40625 17.390625 45.40625 27.296875 \n",
       "Q 45.40625 37.203125 41.296875 42.84375 \n",
       "Q 37.203125 48.484375 30.078125 48.484375 \n",
       "Q 22.953125 48.484375 18.875 42.84375 \n",
       "Q 14.796875 37.203125 14.796875 27.296875 \n",
       "z\n",
       "M 45.40625 8.203125 \n",
       "Q 42.578125 3.328125 38.25 0.953125 \n",
       "Q 33.9375 -1.421875 27.875 -1.421875 \n",
       "Q 17.96875 -1.421875 11.734375 6.484375 \n",
       "Q 5.515625 14.40625 5.515625 27.296875 \n",
       "Q 5.515625 40.1875 11.734375 48.09375 \n",
       "Q 17.96875 56 27.875 56 \n",
       "Q 33.9375 56 38.25 53.625 \n",
       "Q 42.578125 51.265625 45.40625 46.390625 \n",
       "L 45.40625 54.6875 \n",
       "L 54.390625 54.6875 \n",
       "L 54.390625 -20.796875 \n",
       "L 45.40625 -20.796875 \n",
       "z\n",
       "\" id=\"DejaVuSans-113\"/>\n",
       "       <path d=\"M 8.5 21.578125 \n",
       "L 8.5 54.6875 \n",
       "L 17.484375 54.6875 \n",
       "L 17.484375 21.921875 \n",
       "Q 17.484375 14.15625 20.5 10.265625 \n",
       "Q 23.53125 6.390625 29.59375 6.390625 \n",
       "Q 36.859375 6.390625 41.078125 11.03125 \n",
       "Q 45.3125 15.671875 45.3125 23.6875 \n",
       "L 45.3125 54.6875 \n",
       "L 54.296875 54.6875 \n",
       "L 54.296875 0 \n",
       "L 45.3125 0 \n",
       "L 45.3125 8.40625 \n",
       "Q 42.046875 3.421875 37.71875 1 \n",
       "Q 33.40625 -1.421875 27.6875 -1.421875 \n",
       "Q 18.265625 -1.421875 13.375 4.4375 \n",
       "Q 8.5 10.296875 8.5 21.578125 \n",
       "z\n",
       "M 31.109375 56 \n",
       "z\n",
       "\" id=\"DejaVuSans-117\"/>\n",
       "       <path d=\"M 54.890625 33.015625 \n",
       "L 54.890625 0 \n",
       "L 45.90625 0 \n",
       "L 45.90625 32.71875 \n",
       "Q 45.90625 40.484375 42.875 44.328125 \n",
       "Q 39.84375 48.1875 33.796875 48.1875 \n",
       "Q 26.515625 48.1875 22.3125 43.546875 \n",
       "Q 18.109375 38.921875 18.109375 30.90625 \n",
       "L 18.109375 0 \n",
       "L 9.078125 0 \n",
       "L 9.078125 54.6875 \n",
       "L 18.109375 54.6875 \n",
       "L 18.109375 46.1875 \n",
       "Q 21.34375 51.125 25.703125 53.5625 \n",
       "Q 30.078125 56 35.796875 56 \n",
       "Q 45.21875 56 50.046875 50.171875 \n",
       "Q 54.890625 44.34375 54.890625 33.015625 \n",
       "z\n",
       "\" id=\"DejaVuSans-110\"/>\n",
       "       <path d=\"M 48.78125 52.59375 \n",
       "L 48.78125 44.1875 \n",
       "Q 44.96875 46.296875 41.140625 47.34375 \n",
       "Q 37.3125 48.390625 33.40625 48.390625 \n",
       "Q 24.65625 48.390625 19.8125 42.84375 \n",
       "Q 14.984375 37.3125 14.984375 27.296875 \n",
       "Q 14.984375 17.28125 19.8125 11.734375 \n",
       "Q 24.65625 6.203125 33.40625 6.203125 \n",
       "Q 37.3125 6.203125 41.140625 7.25 \n",
       "Q 44.96875 8.296875 48.78125 10.40625 \n",
       "L 48.78125 2.09375 \n",
       "Q 45.015625 0.34375 40.984375 -0.53125 \n",
       "Q 36.96875 -1.421875 32.421875 -1.421875 \n",
       "Q 20.0625 -1.421875 12.78125 6.34375 \n",
       "Q 5.515625 14.109375 5.515625 27.296875 \n",
       "Q 5.515625 40.671875 12.859375 48.328125 \n",
       "Q 20.21875 56 33.015625 56 \n",
       "Q 37.15625 56 41.109375 55.140625 \n",
       "Q 45.0625 54.296875 48.78125 52.59375 \n",
       "z\n",
       "\" id=\"DejaVuSans-99\"/>\n",
       "       <path d=\"M 32.171875 -5.078125 \n",
       "Q 28.375 -14.84375 24.75 -17.8125 \n",
       "Q 21.140625 -20.796875 15.09375 -20.796875 \n",
       "L 7.90625 -20.796875 \n",
       "L 7.90625 -13.28125 \n",
       "L 13.1875 -13.28125 \n",
       "Q 16.890625 -13.28125 18.9375 -11.515625 \n",
       "Q 21 -9.765625 23.484375 -3.21875 \n",
       "L 25.09375 0.875 \n",
       "L 2.984375 54.6875 \n",
       "L 12.5 54.6875 \n",
       "L 29.59375 11.921875 \n",
       "L 46.6875 54.6875 \n",
       "L 56.203125 54.6875 \n",
       "z\n",
       "\" id=\"DejaVuSans-121\"/>\n",
       "      </defs>\n",
       "      <use xlink:href=\"#DejaVuSans-70\"/>\n",
       "      <use x=\"50.269531\" xlink:href=\"#DejaVuSans-114\"/>\n",
       "      <use x=\"89.132812\" xlink:href=\"#DejaVuSans-101\"/>\n",
       "      <use x=\"150.65625\" xlink:href=\"#DejaVuSans-113\"/>\n",
       "      <use x=\"214.132812\" xlink:href=\"#DejaVuSans-117\"/>\n",
       "      <use x=\"277.511719\" xlink:href=\"#DejaVuSans-101\"/>\n",
       "      <use x=\"339.035156\" xlink:href=\"#DejaVuSans-110\"/>\n",
       "      <use x=\"402.414062\" xlink:href=\"#DejaVuSans-99\"/>\n",
       "      <use x=\"457.394531\" xlink:href=\"#DejaVuSans-121\"/>\n",
       "     </g>\n",
       "    </g>\n",
       "   </g>\n",
       "   <g id=\"patch_12\">\n",
       "    <path d=\"M 59.690625 294.118125 \n",
       "L 59.690625 22.318125 \n",
       "\" style=\"fill:none;stroke:#000000;stroke-linecap:square;stroke-linejoin:miter;stroke-width:0.8;\"/>\n",
       "   </g>\n",
       "   <g id=\"patch_13\">\n",
       "    <path d=\"M 617.690625 294.118125 \n",
       "L 617.690625 22.318125 \n",
       "\" style=\"fill:none;stroke:#000000;stroke-linecap:square;stroke-linejoin:miter;stroke-width:0.8;\"/>\n",
       "   </g>\n",
       "   <g id=\"patch_14\">\n",
       "    <path d=\"M 59.690625 294.118125 \n",
       "L 617.690625 294.118125 \n",
       "\" style=\"fill:none;stroke:#000000;stroke-linecap:square;stroke-linejoin:miter;stroke-width:0.8;\"/>\n",
       "   </g>\n",
       "   <g id=\"patch_15\">\n",
       "    <path d=\"M 59.690625 22.318125 \n",
       "L 617.690625 22.318125 \n",
       "\" style=\"fill:none;stroke:#000000;stroke-linecap:square;stroke-linejoin:miter;stroke-width:0.8;\"/>\n",
       "   </g>\n",
       "   <g id=\"text_15\">\n",
       "    <!-- Распределение по мощности -->\n",
       "    <g transform=\"translate(246.249375 16.318125)scale(0.12 -0.12)\">\n",
       "     <defs>\n",
       "      <path d=\"M 19.671875 64.796875 \n",
       "L 19.671875 37.40625 \n",
       "L 32.078125 37.40625 \n",
       "Q 38.96875 37.40625 42.71875 40.96875 \n",
       "Q 46.484375 44.53125 46.484375 51.125 \n",
       "Q 46.484375 57.671875 42.71875 61.234375 \n",
       "Q 38.96875 64.796875 32.078125 64.796875 \n",
       "z\n",
       "M 9.8125 72.90625 \n",
       "L 32.078125 72.90625 \n",
       "Q 44.34375 72.90625 50.609375 67.359375 \n",
       "Q 56.890625 61.8125 56.890625 51.125 \n",
       "Q 56.890625 40.328125 50.609375 34.8125 \n",
       "Q 44.34375 29.296875 32.078125 29.296875 \n",
       "L 19.671875 29.296875 \n",
       "L 19.671875 0 \n",
       "L 9.8125 0 \n",
       "z\n",
       "\" id=\"DejaVuSans-1056\"/>\n",
       "      <path d=\"M 34.28125 27.484375 \n",
       "Q 23.390625 27.484375 19.1875 25 \n",
       "Q 14.984375 22.515625 14.984375 16.5 \n",
       "Q 14.984375 11.71875 18.140625 8.90625 \n",
       "Q 21.296875 6.109375 26.703125 6.109375 \n",
       "Q 34.1875 6.109375 38.703125 11.40625 \n",
       "Q 43.21875 16.703125 43.21875 25.484375 \n",
       "L 43.21875 27.484375 \n",
       "z\n",
       "M 52.203125 31.203125 \n",
       "L 52.203125 0 \n",
       "L 43.21875 0 \n",
       "L 43.21875 8.296875 \n",
       "Q 40.140625 3.328125 35.546875 0.953125 \n",
       "Q 30.953125 -1.421875 24.3125 -1.421875 \n",
       "Q 15.921875 -1.421875 10.953125 3.296875 \n",
       "Q 6 8.015625 6 15.921875 \n",
       "Q 6 25.140625 12.171875 29.828125 \n",
       "Q 18.359375 34.515625 30.609375 34.515625 \n",
       "L 43.21875 34.515625 \n",
       "L 43.21875 35.40625 \n",
       "Q 43.21875 41.609375 39.140625 45 \n",
       "Q 35.0625 48.390625 27.6875 48.390625 \n",
       "Q 23 48.390625 18.546875 47.265625 \n",
       "Q 14.109375 46.140625 10.015625 43.890625 \n",
       "L 10.015625 52.203125 \n",
       "Q 14.9375 54.109375 19.578125 55.046875 \n",
       "Q 24.21875 56 28.609375 56 \n",
       "Q 40.484375 56 46.34375 49.84375 \n",
       "Q 52.203125 43.703125 52.203125 31.203125 \n",
       "z\n",
       "\" id=\"DejaVuSans-1072\"/>\n",
       "      <path d=\"M 48.78125 52.59375 \n",
       "L 48.78125 44.1875 \n",
       "Q 44.96875 46.296875 41.140625 47.34375 \n",
       "Q 37.3125 48.390625 33.40625 48.390625 \n",
       "Q 24.65625 48.390625 19.8125 42.84375 \n",
       "Q 14.984375 37.3125 14.984375 27.296875 \n",
       "Q 14.984375 17.28125 19.8125 11.734375 \n",
       "Q 24.65625 6.203125 33.40625 6.203125 \n",
       "Q 37.3125 6.203125 41.140625 7.25 \n",
       "Q 44.96875 8.296875 48.78125 10.40625 \n",
       "L 48.78125 2.09375 \n",
       "Q 45.015625 0.34375 40.984375 -0.53125 \n",
       "Q 36.96875 -1.421875 32.421875 -1.421875 \n",
       "Q 20.0625 -1.421875 12.78125 6.34375 \n",
       "Q 5.515625 14.109375 5.515625 27.296875 \n",
       "Q 5.515625 40.671875 12.859375 48.328125 \n",
       "Q 20.21875 56 33.015625 56 \n",
       "Q 37.15625 56 41.109375 55.140625 \n",
       "Q 45.0625 54.296875 48.78125 52.59375 \n",
       "z\n",
       "\" id=\"DejaVuSans-1089\"/>\n",
       "      <path d=\"M 56.296875 54.6875 \n",
       "L 56.296875 0 \n",
       "L 47.265625 0 \n",
       "L 47.265625 47.515625 \n",
       "L 18.109375 47.515625 \n",
       "L 18.109375 0 \n",
       "L 9.078125 0 \n",
       "L 9.078125 54.6875 \n",
       "z\n",
       "\" id=\"DejaVuSans-1087\"/>\n",
       "      <path d=\"M 18.109375 8.203125 \n",
       "L 18.109375 -20.796875 \n",
       "L 9.078125 -20.796875 \n",
       "L 9.078125 54.6875 \n",
       "L 18.109375 54.6875 \n",
       "L 18.109375 46.390625 \n",
       "Q 20.953125 51.265625 25.265625 53.625 \n",
       "Q 29.59375 56 35.59375 56 \n",
       "Q 45.5625 56 51.78125 48.09375 \n",
       "Q 58.015625 40.1875 58.015625 27.296875 \n",
       "Q 58.015625 14.40625 51.78125 6.484375 \n",
       "Q 45.5625 -1.421875 35.59375 -1.421875 \n",
       "Q 29.59375 -1.421875 25.265625 0.953125 \n",
       "Q 20.953125 3.328125 18.109375 8.203125 \n",
       "z\n",
       "M 48.6875 27.296875 \n",
       "Q 48.6875 37.203125 44.609375 42.84375 \n",
       "Q 40.53125 48.484375 33.40625 48.484375 \n",
       "Q 26.265625 48.484375 22.1875 42.84375 \n",
       "Q 18.109375 37.203125 18.109375 27.296875 \n",
       "Q 18.109375 17.390625 22.1875 11.75 \n",
       "Q 26.265625 6.109375 33.40625 6.109375 \n",
       "Q 40.53125 6.109375 44.609375 11.75 \n",
       "Q 48.6875 17.390625 48.6875 27.296875 \n",
       "z\n",
       "\" id=\"DejaVuSans-1088\"/>\n",
       "      <path d=\"M 56.203125 29.59375 \n",
       "L 56.203125 25.203125 \n",
       "L 14.890625 25.203125 \n",
       "Q 15.484375 15.921875 20.484375 11.0625 \n",
       "Q 25.484375 6.203125 34.421875 6.203125 \n",
       "Q 39.59375 6.203125 44.453125 7.46875 \n",
       "Q 49.3125 8.734375 54.109375 11.28125 \n",
       "L 54.109375 2.78125 \n",
       "Q 49.265625 0.734375 44.1875 -0.34375 \n",
       "Q 39.109375 -1.421875 33.890625 -1.421875 \n",
       "Q 20.796875 -1.421875 13.15625 6.1875 \n",
       "Q 5.515625 13.8125 5.515625 26.8125 \n",
       "Q 5.515625 40.234375 12.765625 48.109375 \n",
       "Q 20.015625 56 32.328125 56 \n",
       "Q 43.359375 56 49.78125 48.890625 \n",
       "Q 56.203125 41.796875 56.203125 29.59375 \n",
       "z\n",
       "M 47.21875 32.234375 \n",
       "Q 47.125 39.59375 43.09375 43.984375 \n",
       "Q 39.0625 48.390625 32.421875 48.390625 \n",
       "Q 24.90625 48.390625 20.390625 44.140625 \n",
       "Q 15.875 39.890625 15.1875 32.171875 \n",
       "z\n",
       "\" id=\"DejaVuSans-1077\"/>\n",
       "      <path d=\"M 21.625 7.171875 \n",
       "L 47.703125 7.171875 \n",
       "L 47.703125 47.515625 \n",
       "L 28.8125 47.515625 \n",
       "L 28.8125 40.671875 \n",
       "Q 28.8125 20.5625 23.046875 9.8125 \n",
       "z\n",
       "M 8.59375 7.171875 \n",
       "Q 13.03125 9.125 14.984375 13.28125 \n",
       "Q 19.78125 23.578125 19.78125 44.34375 \n",
       "L 19.78125 54.6875 \n",
       "L 56.734375 54.6875 \n",
       "L 56.734375 7.171875 \n",
       "L 63.921875 7.171875 \n",
       "L 63.921875 -13.8125 \n",
       "L 56.734375 -13.8125 \n",
       "L 56.734375 0 \n",
       "L 12.40625 0 \n",
       "L 12.40625 -13.8125 \n",
       "L 5.21875 -13.8125 \n",
       "L 5.21875 7.171875 \n",
       "z\n",
       "\" id=\"DejaVuSans-1076\"/>\n",
       "      <path d=\"M 3.71875 0 \n",
       "L 3.71875 7.46875 \n",
       "Q 12.59375 8.84375 15.328125 14.984375 \n",
       "Q 18.65625 23.640625 18.65625 45.75 \n",
       "L 18.65625 54.6875 \n",
       "L 55.609375 54.6875 \n",
       "L 55.609375 0 \n",
       "L 46.625 0 \n",
       "L 46.625 47.515625 \n",
       "L 27.640625 47.515625 \n",
       "L 27.640625 42.09375 \n",
       "Q 27.640625 21 23.34375 11.53125 \n",
       "Q 18.75 1.421875 3.71875 0 \n",
       "z\n",
       "\" id=\"DejaVuSans-1083\"/>\n",
       "      <path d=\"M 9.078125 54.6875 \n",
       "L 18.109375 54.6875 \n",
       "L 18.109375 32.375 \n",
       "L 47.265625 32.375 \n",
       "L 47.265625 54.6875 \n",
       "L 56.296875 54.6875 \n",
       "L 56.296875 0 \n",
       "L 47.265625 0 \n",
       "L 47.265625 25.203125 \n",
       "L 18.109375 25.203125 \n",
       "L 18.109375 0 \n",
       "L 9.078125 0 \n",
       "z\n",
       "\" id=\"DejaVuSans-1085\"/>\n",
       "      <path d=\"M 55.90625 54.6875 \n",
       "L 55.90625 0 \n",
       "L 46.96875 0 \n",
       "L 46.96875 43.890625 \n",
       "L 20.609375 0 \n",
       "L 9.078125 0 \n",
       "L 9.078125 54.6875 \n",
       "L 18.015625 54.6875 \n",
       "L 18.015625 10.890625 \n",
       "L 44.34375 54.6875 \n",
       "z\n",
       "\" id=\"DejaVuSans-1080\"/>\n",
       "      <path id=\"DejaVuSans-32\"/>\n",
       "      <path d=\"M 30.609375 48.390625 \n",
       "Q 23.390625 48.390625 19.1875 42.75 \n",
       "Q 14.984375 37.109375 14.984375 27.296875 \n",
       "Q 14.984375 17.484375 19.15625 11.84375 \n",
       "Q 23.34375 6.203125 30.609375 6.203125 \n",
       "Q 37.796875 6.203125 41.984375 11.859375 \n",
       "Q 46.1875 17.53125 46.1875 27.296875 \n",
       "Q 46.1875 37.015625 41.984375 42.703125 \n",
       "Q 37.796875 48.390625 30.609375 48.390625 \n",
       "z\n",
       "M 30.609375 56 \n",
       "Q 42.328125 56 49.015625 48.375 \n",
       "Q 55.71875 40.765625 55.71875 27.296875 \n",
       "Q 55.71875 13.875 49.015625 6.21875 \n",
       "Q 42.328125 -1.421875 30.609375 -1.421875 \n",
       "Q 18.84375 -1.421875 12.171875 6.21875 \n",
       "Q 5.515625 13.875 5.515625 27.296875 \n",
       "Q 5.515625 40.765625 12.171875 48.375 \n",
       "Q 18.84375 56 30.609375 56 \n",
       "z\n",
       "\" id=\"DejaVuSans-1086\"/>\n",
       "      <path d=\"M 9.078125 54.6875 \n",
       "L 22.21875 54.6875 \n",
       "L 37.75 18.0625 \n",
       "L 53.328125 54.6875 \n",
       "L 66.359375 54.6875 \n",
       "L 66.359375 0 \n",
       "L 57.328125 0 \n",
       "L 57.328125 46.09375 \n",
       "L 42.234375 10.5 \n",
       "L 33.25 10.5 \n",
       "L 18.109375 46.09375 \n",
       "L 18.109375 0 \n",
       "L 9.078125 0 \n",
       "z\n",
       "\" id=\"DejaVuSans-1084\"/>\n",
       "      <path d=\"M 82.421875 0 \n",
       "L 9.078125 0 \n",
       "L 9.078125 54.6875 \n",
       "L 18.109375 54.6875 \n",
       "L 18.109375 7.171875 \n",
       "L 41.21875 7.171875 \n",
       "L 41.21875 54.6875 \n",
       "L 50.25 54.6875 \n",
       "L 50.25 7.171875 \n",
       "L 73.390625 7.171875 \n",
       "L 73.390625 54.6875 \n",
       "L 82.421875 54.6875 \n",
       "L 82.421875 7.171875 \n",
       "L 89.59375 7.171875 \n",
       "L 89.59375 -13.8125 \n",
       "L 82.421875 -13.8125 \n",
       "z\n",
       "\" id=\"DejaVuSans-1097\"/>\n",
       "      <path d=\"M 2.9375 54.6875 \n",
       "L 55.328125 54.6875 \n",
       "L 55.328125 47.515625 \n",
       "L 33.546875 47.515625 \n",
       "L 33.546875 0 \n",
       "L 24.703125 0 \n",
       "L 24.703125 47.515625 \n",
       "L 2.9375 47.515625 \n",
       "z\n",
       "\" id=\"DejaVuSans-1090\"/>\n",
       "     </defs>\n",
       "     <use xlink:href=\"#DejaVuSans-1056\"/>\n",
       "     <use x=\"60.302734\" xlink:href=\"#DejaVuSans-1072\"/>\n",
       "     <use x=\"121.582031\" xlink:href=\"#DejaVuSans-1089\"/>\n",
       "     <use x=\"176.5625\" xlink:href=\"#DejaVuSans-1087\"/>\n",
       "     <use x=\"241.943359\" xlink:href=\"#DejaVuSans-1088\"/>\n",
       "     <use x=\"305.419922\" xlink:href=\"#DejaVuSans-1077\"/>\n",
       "     <use x=\"366.943359\" xlink:href=\"#DejaVuSans-1076\"/>\n",
       "     <use x=\"436.083984\" xlink:href=\"#DejaVuSans-1077\"/>\n",
       "     <use x=\"497.607422\" xlink:href=\"#DejaVuSans-1083\"/>\n",
       "     <use x=\"561.523438\" xlink:href=\"#DejaVuSans-1077\"/>\n",
       "     <use x=\"623.046875\" xlink:href=\"#DejaVuSans-1085\"/>\n",
       "     <use x=\"688.427734\" xlink:href=\"#DejaVuSans-1080\"/>\n",
       "     <use x=\"753.417969\" xlink:href=\"#DejaVuSans-1077\"/>\n",
       "     <use x=\"814.941406\" xlink:href=\"#DejaVuSans-32\"/>\n",
       "     <use x=\"846.728516\" xlink:href=\"#DejaVuSans-1087\"/>\n",
       "     <use x=\"912.109375\" xlink:href=\"#DejaVuSans-1086\"/>\n",
       "     <use x=\"973.291016\" xlink:href=\"#DejaVuSans-32\"/>\n",
       "     <use x=\"1005.078125\" xlink:href=\"#DejaVuSans-1084\"/>\n",
       "     <use x=\"1080.517578\" xlink:href=\"#DejaVuSans-1086\"/>\n",
       "     <use x=\"1141.699219\" xlink:href=\"#DejaVuSans-1097\"/>\n",
       "     <use x=\"1235.888672\" xlink:href=\"#DejaVuSans-1085\"/>\n",
       "     <use x=\"1301.269531\" xlink:href=\"#DejaVuSans-1086\"/>\n",
       "     <use x=\"1362.451172\" xlink:href=\"#DejaVuSans-1089\"/>\n",
       "     <use x=\"1417.431641\" xlink:href=\"#DejaVuSans-1090\"/>\n",
       "     <use x=\"1475.683594\" xlink:href=\"#DejaVuSans-1080\"/>\n",
       "    </g>\n",
       "   </g>\n",
       "  </g>\n",
       " </g>\n",
       " <defs>\n",
       "  <clipPath id=\"p0f76103dd5\">\n",
       "   <rect height=\"271.8\" width=\"558\" x=\"59.690625\" y=\"22.318125\"/>\n",
       "  </clipPath>\n",
       " </defs>\n",
       "</svg>\n"
      ],
      "text/plain": [
       "<Figure size 720x360 with 1 Axes>"
      ]
     },
     "metadata": {
      "needs_background": "light"
     },
     "output_type": "display_data"
    }
   ],
   "source": [
    "data['power'].plot(kind='hist', bins=[11, 20, 30, 40, 50, 60, 70, 80, 90, 100], alpha=0.7, xlim=(0, 250))\n",
    "plt.title('Распределение по мощности')"
   ]
  },
  {
   "cell_type": "markdown",
   "metadata": {},
   "source": [
    "Посмотрим на значения годов регистрации автомобиля"
   ]
  },
  {
   "cell_type": "code",
   "execution_count": 17,
   "metadata": {},
   "outputs": [
    {
     "data": {
      "text/plain": [
       "array([1993, 2011, 2001, 2008, 1995, 2004, 1980, 2014, 1998, 2005, 1910,\n",
       "       2016, 2007, 2009, 2002, 2018, 1997, 1990, 2017, 1981, 2003, 1994,\n",
       "       1991, 1984, 2006, 1999, 2012, 2010, 2000, 1992, 2013, 1996, 1985,\n",
       "       1989, 2015, 1982, 1976, 1983, 1973, 1111, 1969, 1971, 1987, 1988,\n",
       "       1970, 1986, 1965, 1945, 1974, 1955, 1978, 1979, 1972, 1968, 1977,\n",
       "       1961, 1960, 1966, 1975, 1963, 1954, 1967, 1956, 1000, 9999, 1500,\n",
       "       2200, 1964, 3000, 2066, 1940, 1962, 2019, 1937, 1951, 1800, 1959,\n",
       "       1953, 1958, 9000, 2900, 5900, 5911, 1933, 1400, 5000, 1950, 4000,\n",
       "       8000, 1952, 1200, 8500, 1932, 3700, 1942, 1935, 1234, 1936, 6500,\n",
       "       1957, 1923, 2290, 2500, 1930, 1001, 7000, 1929, 1943, 1934, 1938,\n",
       "       1688, 2800, 1928, 1919, 5555, 5600, 1039, 6000, 1948, 2222, 1931,\n",
       "       4500, 1602, 7800, 9229, 1947, 1927, 7100, 1300, 8200, 7500, 1600])"
      ]
     },
     "execution_count": 17,
     "metadata": {},
     "output_type": "execute_result"
    }
   ],
   "source": [
    "data.registration_year.unique()"
   ]
  },
  {
   "cell_type": "markdown",
   "metadata": {},
   "source": [
    "Среди значений года выпуска присутствует большой разброс. Некоторые значения имеют аномальный характер, такие как: 1001, 1600, 9229. Методом `query` создадим отдельный срез, в котором будет только года из актуального периода."
   ]
  },
  {
   "cell_type": "code",
   "execution_count": 18,
   "metadata": {},
   "outputs": [
    {
     "data": {
      "text/plain": [
       "Text(0.5, 1.0, 'Распределение по годам регистрации')"
      ]
     },
     "execution_count": 18,
     "metadata": {},
     "output_type": "execute_result"
    },
    {
     "data": {
      "image/svg+xml": [
       "<?xml version=\"1.0\" encoding=\"utf-8\" standalone=\"no\"?>\n",
       "<!DOCTYPE svg PUBLIC \"-//W3C//DTD SVG 1.1//EN\"\n",
       "  \"http://www.w3.org/Graphics/SVG/1.1/DTD/svg11.dtd\">\n",
       "<!-- Created with matplotlib (https://matplotlib.org/) -->\n",
       "<svg height=\"317.99625pt\" version=\"1.1\" viewBox=\"0 0 611.923146 317.99625\" width=\"611.923146pt\" xmlns=\"http://www.w3.org/2000/svg\" xmlns:xlink=\"http://www.w3.org/1999/xlink\">\n",
       " <metadata>\n",
       "  <rdf:RDF xmlns:cc=\"http://creativecommons.org/ns#\" xmlns:dc=\"http://purl.org/dc/elements/1.1/\" xmlns:rdf=\"http://www.w3.org/1999/02/22-rdf-syntax-ns#\">\n",
       "   <cc:Work>\n",
       "    <dc:type rdf:resource=\"http://purl.org/dc/dcmitype/StillImage\"/>\n",
       "    <dc:date>2022-04-13T07:56:34.209503</dc:date>\n",
       "    <dc:format>image/svg+xml</dc:format>\n",
       "    <dc:creator>\n",
       "     <cc:Agent>\n",
       "      <dc:title>Matplotlib v3.3.4, https://matplotlib.org/</dc:title>\n",
       "     </cc:Agent>\n",
       "    </dc:creator>\n",
       "   </cc:Work>\n",
       "  </rdf:RDF>\n",
       " </metadata>\n",
       " <defs>\n",
       "  <style type=\"text/css\">*{stroke-linecap:butt;stroke-linejoin:round;}</style>\n",
       " </defs>\n",
       " <g id=\"figure_1\">\n",
       "  <g id=\"patch_1\">\n",
       "   <path d=\"M 0 317.99625 \n",
       "L 611.923146 317.99625 \n",
       "L 611.923146 0 \n",
       "L 0 0 \n",
       "z\n",
       "\" style=\"fill:none;\"/>\n",
       "  </g>\n",
       "  <g id=\"axes_1\">\n",
       "   <g id=\"patch_2\">\n",
       "    <path d=\"M 46.0125 294.118125 \n",
       "L 604.0125 294.118125 \n",
       "L 604.0125 22.318125 \n",
       "L 46.0125 22.318125 \n",
       "z\n",
       "\" style=\"fill:#ffffff;\"/>\n",
       "   </g>\n",
       "   <g id=\"patch_3\">\n",
       "    <path clip-path=\"url(#p1536efdc44)\" d=\"M 71.376136 294.118125 \n",
       "L 96.739773 294.118125 \n",
       "L 96.739773 291.00706 \n",
       "L 71.376136 291.00706 \n",
       "z\n",
       "\" style=\"fill:#1f77b4;\"/>\n",
       "   </g>\n",
       "   <g id=\"patch_4\">\n",
       "    <path clip-path=\"url(#p1536efdc44)\" d=\"M 96.739773 294.118125 \n",
       "L 122.103409 294.118125 \n",
       "L 122.103409 289.510674 \n",
       "L 96.739773 289.510674 \n",
       "z\n",
       "\" style=\"fill:#1f77b4;\"/>\n",
       "   </g>\n",
       "   <g id=\"patch_5\">\n",
       "    <path clip-path=\"url(#p1536efdc44)\" d=\"M 122.103409 294.118125 \n",
       "L 147.467045 294.118125 \n",
       "L 147.467045 287.026554 \n",
       "L 122.103409 287.026554 \n",
       "z\n",
       "\" style=\"fill:#1f77b4;\"/>\n",
       "   </g>\n",
       "   <g id=\"patch_6\">\n",
       "    <path clip-path=\"url(#p1536efdc44)\" d=\"M 147.467045 294.118125 \n",
       "L 172.830682 294.118125 \n",
       "L 172.830682 284.956454 \n",
       "L 147.467045 284.956454 \n",
       "z\n",
       "\" style=\"fill:#1f77b4;\"/>\n",
       "   </g>\n",
       "   <g id=\"patch_7\">\n",
       "    <path clip-path=\"url(#p1536efdc44)\" d=\"M 172.830682 294.118125 \n",
       "L 198.194318 294.118125 \n",
       "L 198.194318 271.086783 \n",
       "L 172.830682 271.086783 \n",
       "z\n",
       "\" style=\"fill:#1f77b4;\"/>\n",
       "   </g>\n",
       "   <g id=\"patch_8\">\n",
       "    <path clip-path=\"url(#p1536efdc44)\" d=\"M 198.194318 294.118125 \n",
       "L 223.557955 294.118125 \n",
       "L 223.557955 260.582504 \n",
       "L 198.194318 260.582504 \n",
       "z\n",
       "\" style=\"fill:#1f77b4;\"/>\n",
       "   </g>\n",
       "   <g id=\"patch_9\">\n",
       "    <path clip-path=\"url(#p1536efdc44)\" d=\"M 223.557955 294.118125 \n",
       "L 248.921591 294.118125 \n",
       "L 248.921591 245.926195 \n",
       "L 223.557955 245.926195 \n",
       "z\n",
       "\" style=\"fill:#1f77b4;\"/>\n",
       "   </g>\n",
       "   <g id=\"patch_10\">\n",
       "    <path clip-path=\"url(#p1536efdc44)\" d=\"M 248.921591 294.118125 \n",
       "L 274.285227 294.118125 \n",
       "L 274.285227 175.217491 \n",
       "L 248.921591 175.217491 \n",
       "z\n",
       "\" style=\"fill:#1f77b4;\"/>\n",
       "   </g>\n",
       "   <g id=\"patch_11\">\n",
       "    <path clip-path=\"url(#p1536efdc44)\" d=\"M 274.285227 294.118125 \n",
       "L 299.648864 294.118125 \n",
       "L 299.648864 103.627516 \n",
       "L 274.285227 103.627516 \n",
       "z\n",
       "\" style=\"fill:#1f77b4;\"/>\n",
       "   </g>\n",
       "   <g id=\"patch_12\">\n",
       "    <path clip-path=\"url(#p1536efdc44)\" d=\"M 299.648864 294.118125 \n",
       "L 325.0125 294.118125 \n",
       "L 325.0125 160.856911 \n",
       "L 299.648864 160.856911 \n",
       "z\n",
       "\" style=\"fill:#1f77b4;\"/>\n",
       "   </g>\n",
       "   <g id=\"patch_13\">\n",
       "    <path clip-path=\"url(#p1536efdc44)\" d=\"M 325.0125 294.118125 \n",
       "L 350.376136 294.118125 \n",
       "L 350.376136 35.260982 \n",
       "L 325.0125 35.260982 \n",
       "z\n",
       "\" style=\"fill:#1f77b4;\"/>\n",
       "   </g>\n",
       "   <g id=\"patch_14\">\n",
       "    <path clip-path=\"url(#p1536efdc44)\" d=\"M 350.376136 294.118125 \n",
       "L 375.739773 294.118125 \n",
       "L 375.739773 66.21785 \n",
       "L 350.376136 66.21785 \n",
       "z\n",
       "\" style=\"fill:#1f77b4;\"/>\n",
       "   </g>\n",
       "   <g id=\"patch_15\">\n",
       "    <path clip-path=\"url(#p1536efdc44)\" d=\"M 375.739773 294.118125 \n",
       "L 401.103409 294.118125 \n",
       "L 401.103409 50.307652 \n",
       "L 375.739773 50.307652 \n",
       "z\n",
       "\" style=\"fill:#1f77b4;\"/>\n",
       "   </g>\n",
       "   <g id=\"patch_16\">\n",
       "    <path clip-path=\"url(#p1536efdc44)\" d=\"M 401.103409 294.118125 \n",
       "L 426.467045 294.118125 \n",
       "L 426.467045 77.088833 \n",
       "L 401.103409 77.088833 \n",
       "z\n",
       "\" style=\"fill:#1f77b4;\"/>\n",
       "   </g>\n",
       "   <g id=\"patch_17\">\n",
       "    <path clip-path=\"url(#p1536efdc44)\" d=\"M 426.467045 294.118125 \n",
       "L 451.830682 294.118125 \n",
       "L 451.830682 119.182839 \n",
       "L 426.467045 119.182839 \n",
       "z\n",
       "\" style=\"fill:#1f77b4;\"/>\n",
       "   </g>\n",
       "   <g id=\"patch_18\">\n",
       "    <path clip-path=\"url(#p1536efdc44)\" d=\"M 451.830682 294.118125 \n",
       "L 477.194318 294.118125 \n",
       "L 477.194318 173.324828 \n",
       "L 451.830682 173.324828 \n",
       "z\n",
       "\" style=\"fill:#1f77b4;\"/>\n",
       "   </g>\n",
       "   <g id=\"patch_19\">\n",
       "    <path clip-path=\"url(#p1536efdc44)\" d=\"M 477.194318 294.118125 \n",
       "L 502.557955 294.118125 \n",
       "L 502.557955 228.105591 \n",
       "L 477.194318 228.105591 \n",
       "z\n",
       "\" style=\"fill:#1f77b4;\"/>\n",
       "   </g>\n",
       "   <g id=\"patch_20\">\n",
       "    <path clip-path=\"url(#p1536efdc44)\" d=\"M 502.557955 294.118125 \n",
       "L 527.921591 294.118125 \n",
       "L 527.921591 272.594999 \n",
       "L 502.557955 272.594999 \n",
       "z\n",
       "\" style=\"fill:#1f77b4;\"/>\n",
       "   </g>\n",
       "   <g id=\"patch_21\">\n",
       "    <path clip-path=\"url(#p1536efdc44)\" d=\"M 527.921591 294.118125 \n",
       "L 553.285227 294.118125 \n",
       "L 553.285227 178.606541 \n",
       "L 527.921591 178.606541 \n",
       "z\n",
       "\" style=\"fill:#1f77b4;\"/>\n",
       "   </g>\n",
       "   <g id=\"patch_22\">\n",
       "    <path clip-path=\"url(#p1536efdc44)\" d=\"M 553.285227 294.118125 \n",
       "L 578.648864 294.118125 \n",
       "L 578.648864 271.352939 \n",
       "L 553.285227 271.352939 \n",
       "z\n",
       "\" style=\"fill:#1f77b4;\"/>\n",
       "   </g>\n",
       "   <g id=\"matplotlib.axis_1\">\n",
       "    <g id=\"xtick_1\">\n",
       "     <g id=\"line2d_1\">\n",
       "      <path clip-path=\"url(#p1536efdc44)\" d=\"M 58.026854 294.118125 \n",
       "L 58.026854 22.318125 \n",
       "\" style=\"fill:none;stroke:#b0b0b0;stroke-linecap:square;stroke-width:0.8;\"/>\n",
       "     </g>\n",
       "     <g id=\"line2d_2\">\n",
       "      <defs>\n",
       "       <path d=\"M 0 0 \n",
       "L 0 3.5 \n",
       "\" id=\"m38c87b9366\" style=\"stroke:#000000;stroke-width:0.8;\"/>\n",
       "      </defs>\n",
       "      <g>\n",
       "       <use style=\"stroke:#000000;stroke-width:0.8;\" x=\"58.026854\" xlink:href=\"#m38c87b9366\" y=\"294.118125\"/>\n",
       "      </g>\n",
       "     </g>\n",
       "     <g id=\"text_1\">\n",
       "      <!-- 1980 -->\n",
       "      <g transform=\"translate(45.301854 308.716563)scale(0.1 -0.1)\">\n",
       "       <defs>\n",
       "        <path d=\"M 12.40625 8.296875 \n",
       "L 28.515625 8.296875 \n",
       "L 28.515625 63.921875 \n",
       "L 10.984375 60.40625 \n",
       "L 10.984375 69.390625 \n",
       "L 28.421875 72.90625 \n",
       "L 38.28125 72.90625 \n",
       "L 38.28125 8.296875 \n",
       "L 54.390625 8.296875 \n",
       "L 54.390625 0 \n",
       "L 12.40625 0 \n",
       "z\n",
       "\" id=\"DejaVuSans-49\"/>\n",
       "        <path d=\"M 10.984375 1.515625 \n",
       "L 10.984375 10.5 \n",
       "Q 14.703125 8.734375 18.5 7.8125 \n",
       "Q 22.3125 6.890625 25.984375 6.890625 \n",
       "Q 35.75 6.890625 40.890625 13.453125 \n",
       "Q 46.046875 20.015625 46.78125 33.40625 \n",
       "Q 43.953125 29.203125 39.59375 26.953125 \n",
       "Q 35.25 24.703125 29.984375 24.703125 \n",
       "Q 19.046875 24.703125 12.671875 31.3125 \n",
       "Q 6.296875 37.9375 6.296875 49.421875 \n",
       "Q 6.296875 60.640625 12.9375 67.421875 \n",
       "Q 19.578125 74.21875 30.609375 74.21875 \n",
       "Q 43.265625 74.21875 49.921875 64.515625 \n",
       "Q 56.59375 54.828125 56.59375 36.375 \n",
       "Q 56.59375 19.140625 48.40625 8.859375 \n",
       "Q 40.234375 -1.421875 26.421875 -1.421875 \n",
       "Q 22.703125 -1.421875 18.890625 -0.6875 \n",
       "Q 15.09375 0.046875 10.984375 1.515625 \n",
       "z\n",
       "M 30.609375 32.421875 \n",
       "Q 37.25 32.421875 41.125 36.953125 \n",
       "Q 45.015625 41.5 45.015625 49.421875 \n",
       "Q 45.015625 57.28125 41.125 61.84375 \n",
       "Q 37.25 66.40625 30.609375 66.40625 \n",
       "Q 23.96875 66.40625 20.09375 61.84375 \n",
       "Q 16.21875 57.28125 16.21875 49.421875 \n",
       "Q 16.21875 41.5 20.09375 36.953125 \n",
       "Q 23.96875 32.421875 30.609375 32.421875 \n",
       "z\n",
       "\" id=\"DejaVuSans-57\"/>\n",
       "        <path d=\"M 31.78125 34.625 \n",
       "Q 24.75 34.625 20.71875 30.859375 \n",
       "Q 16.703125 27.09375 16.703125 20.515625 \n",
       "Q 16.703125 13.921875 20.71875 10.15625 \n",
       "Q 24.75 6.390625 31.78125 6.390625 \n",
       "Q 38.8125 6.390625 42.859375 10.171875 \n",
       "Q 46.921875 13.96875 46.921875 20.515625 \n",
       "Q 46.921875 27.09375 42.890625 30.859375 \n",
       "Q 38.875 34.625 31.78125 34.625 \n",
       "z\n",
       "M 21.921875 38.8125 \n",
       "Q 15.578125 40.375 12.03125 44.71875 \n",
       "Q 8.5 49.078125 8.5 55.328125 \n",
       "Q 8.5 64.0625 14.71875 69.140625 \n",
       "Q 20.953125 74.21875 31.78125 74.21875 \n",
       "Q 42.671875 74.21875 48.875 69.140625 \n",
       "Q 55.078125 64.0625 55.078125 55.328125 \n",
       "Q 55.078125 49.078125 51.53125 44.71875 \n",
       "Q 48 40.375 41.703125 38.8125 \n",
       "Q 48.828125 37.15625 52.796875 32.3125 \n",
       "Q 56.78125 27.484375 56.78125 20.515625 \n",
       "Q 56.78125 9.90625 50.3125 4.234375 \n",
       "Q 43.84375 -1.421875 31.78125 -1.421875 \n",
       "Q 19.734375 -1.421875 13.25 4.234375 \n",
       "Q 6.78125 9.90625 6.78125 20.515625 \n",
       "Q 6.78125 27.484375 10.78125 32.3125 \n",
       "Q 14.796875 37.15625 21.921875 38.8125 \n",
       "z\n",
       "M 18.3125 54.390625 \n",
       "Q 18.3125 48.734375 21.84375 45.5625 \n",
       "Q 25.390625 42.390625 31.78125 42.390625 \n",
       "Q 38.140625 42.390625 41.71875 45.5625 \n",
       "Q 45.3125 48.734375 45.3125 54.390625 \n",
       "Q 45.3125 60.0625 41.71875 63.234375 \n",
       "Q 38.140625 66.40625 31.78125 66.40625 \n",
       "Q 25.390625 66.40625 21.84375 63.234375 \n",
       "Q 18.3125 60.0625 18.3125 54.390625 \n",
       "z\n",
       "\" id=\"DejaVuSans-56\"/>\n",
       "        <path d=\"M 31.78125 66.40625 \n",
       "Q 24.171875 66.40625 20.328125 58.90625 \n",
       "Q 16.5 51.421875 16.5 36.375 \n",
       "Q 16.5 21.390625 20.328125 13.890625 \n",
       "Q 24.171875 6.390625 31.78125 6.390625 \n",
       "Q 39.453125 6.390625 43.28125 13.890625 \n",
       "Q 47.125 21.390625 47.125 36.375 \n",
       "Q 47.125 51.421875 43.28125 58.90625 \n",
       "Q 39.453125 66.40625 31.78125 66.40625 \n",
       "z\n",
       "M 31.78125 74.21875 \n",
       "Q 44.046875 74.21875 50.515625 64.515625 \n",
       "Q 56.984375 54.828125 56.984375 36.375 \n",
       "Q 56.984375 17.96875 50.515625 8.265625 \n",
       "Q 44.046875 -1.421875 31.78125 -1.421875 \n",
       "Q 19.53125 -1.421875 13.0625 8.265625 \n",
       "Q 6.59375 17.96875 6.59375 36.375 \n",
       "Q 6.59375 54.828125 13.0625 64.515625 \n",
       "Q 19.53125 74.21875 31.78125 74.21875 \n",
       "z\n",
       "\" id=\"DejaVuSans-48\"/>\n",
       "       </defs>\n",
       "       <use xlink:href=\"#DejaVuSans-49\"/>\n",
       "       <use x=\"63.623047\" xlink:href=\"#DejaVuSans-57\"/>\n",
       "       <use x=\"127.246094\" xlink:href=\"#DejaVuSans-56\"/>\n",
       "       <use x=\"190.869141\" xlink:href=\"#DejaVuSans-48\"/>\n",
       "      </g>\n",
       "     </g>\n",
       "    </g>\n",
       "    <g id=\"xtick_2\">\n",
       "     <g id=\"line2d_3\">\n",
       "      <path clip-path=\"url(#p1536efdc44)\" d=\"M 124.773266 294.118125 \n",
       "L 124.773266 22.318125 \n",
       "\" style=\"fill:none;stroke:#b0b0b0;stroke-linecap:square;stroke-width:0.8;\"/>\n",
       "     </g>\n",
       "     <g id=\"line2d_4\">\n",
       "      <g>\n",
       "       <use style=\"stroke:#000000;stroke-width:0.8;\" x=\"124.773266\" xlink:href=\"#m38c87b9366\" y=\"294.118125\"/>\n",
       "      </g>\n",
       "     </g>\n",
       "     <g id=\"text_2\">\n",
       "      <!-- 1985 -->\n",
       "      <g transform=\"translate(112.048266 308.716563)scale(0.1 -0.1)\">\n",
       "       <defs>\n",
       "        <path d=\"M 10.796875 72.90625 \n",
       "L 49.515625 72.90625 \n",
       "L 49.515625 64.59375 \n",
       "L 19.828125 64.59375 \n",
       "L 19.828125 46.734375 \n",
       "Q 21.96875 47.46875 24.109375 47.828125 \n",
       "Q 26.265625 48.1875 28.421875 48.1875 \n",
       "Q 40.625 48.1875 47.75 41.5 \n",
       "Q 54.890625 34.8125 54.890625 23.390625 \n",
       "Q 54.890625 11.625 47.5625 5.09375 \n",
       "Q 40.234375 -1.421875 26.90625 -1.421875 \n",
       "Q 22.3125 -1.421875 17.546875 -0.640625 \n",
       "Q 12.796875 0.140625 7.71875 1.703125 \n",
       "L 7.71875 11.625 \n",
       "Q 12.109375 9.234375 16.796875 8.0625 \n",
       "Q 21.484375 6.890625 26.703125 6.890625 \n",
       "Q 35.15625 6.890625 40.078125 11.328125 \n",
       "Q 45.015625 15.765625 45.015625 23.390625 \n",
       "Q 45.015625 31 40.078125 35.4375 \n",
       "Q 35.15625 39.890625 26.703125 39.890625 \n",
       "Q 22.75 39.890625 18.8125 39.015625 \n",
       "Q 14.890625 38.140625 10.796875 36.28125 \n",
       "z\n",
       "\" id=\"DejaVuSans-53\"/>\n",
       "       </defs>\n",
       "       <use xlink:href=\"#DejaVuSans-49\"/>\n",
       "       <use x=\"63.623047\" xlink:href=\"#DejaVuSans-57\"/>\n",
       "       <use x=\"127.246094\" xlink:href=\"#DejaVuSans-56\"/>\n",
       "       <use x=\"190.869141\" xlink:href=\"#DejaVuSans-53\"/>\n",
       "      </g>\n",
       "     </g>\n",
       "    </g>\n",
       "    <g id=\"xtick_3\">\n",
       "     <g id=\"line2d_5\">\n",
       "      <path clip-path=\"url(#p1536efdc44)\" d=\"M 191.519677 294.118125 \n",
       "L 191.519677 22.318125 \n",
       "\" style=\"fill:none;stroke:#b0b0b0;stroke-linecap:square;stroke-width:0.8;\"/>\n",
       "     </g>\n",
       "     <g id=\"line2d_6\">\n",
       "      <g>\n",
       "       <use style=\"stroke:#000000;stroke-width:0.8;\" x=\"191.519677\" xlink:href=\"#m38c87b9366\" y=\"294.118125\"/>\n",
       "      </g>\n",
       "     </g>\n",
       "     <g id=\"text_3\">\n",
       "      <!-- 1990 -->\n",
       "      <g transform=\"translate(178.794677 308.716563)scale(0.1 -0.1)\">\n",
       "       <use xlink:href=\"#DejaVuSans-49\"/>\n",
       "       <use x=\"63.623047\" xlink:href=\"#DejaVuSans-57\"/>\n",
       "       <use x=\"127.246094\" xlink:href=\"#DejaVuSans-57\"/>\n",
       "       <use x=\"190.869141\" xlink:href=\"#DejaVuSans-48\"/>\n",
       "      </g>\n",
       "     </g>\n",
       "    </g>\n",
       "    <g id=\"xtick_4\">\n",
       "     <g id=\"line2d_7\">\n",
       "      <path clip-path=\"url(#p1536efdc44)\" d=\"M 258.266089 294.118125 \n",
       "L 258.266089 22.318125 \n",
       "\" style=\"fill:none;stroke:#b0b0b0;stroke-linecap:square;stroke-width:0.8;\"/>\n",
       "     </g>\n",
       "     <g id=\"line2d_8\">\n",
       "      <g>\n",
       "       <use style=\"stroke:#000000;stroke-width:0.8;\" x=\"258.266089\" xlink:href=\"#m38c87b9366\" y=\"294.118125\"/>\n",
       "      </g>\n",
       "     </g>\n",
       "     <g id=\"text_4\">\n",
       "      <!-- 1995 -->\n",
       "      <g transform=\"translate(245.541089 308.716563)scale(0.1 -0.1)\">\n",
       "       <use xlink:href=\"#DejaVuSans-49\"/>\n",
       "       <use x=\"63.623047\" xlink:href=\"#DejaVuSans-57\"/>\n",
       "       <use x=\"127.246094\" xlink:href=\"#DejaVuSans-57\"/>\n",
       "       <use x=\"190.869141\" xlink:href=\"#DejaVuSans-53\"/>\n",
       "      </g>\n",
       "     </g>\n",
       "    </g>\n",
       "    <g id=\"xtick_5\">\n",
       "     <g id=\"line2d_9\">\n",
       "      <path clip-path=\"url(#p1536efdc44)\" d=\"M 325.0125 294.118125 \n",
       "L 325.0125 22.318125 \n",
       "\" style=\"fill:none;stroke:#b0b0b0;stroke-linecap:square;stroke-width:0.8;\"/>\n",
       "     </g>\n",
       "     <g id=\"line2d_10\">\n",
       "      <g>\n",
       "       <use style=\"stroke:#000000;stroke-width:0.8;\" x=\"325.0125\" xlink:href=\"#m38c87b9366\" y=\"294.118125\"/>\n",
       "      </g>\n",
       "     </g>\n",
       "     <g id=\"text_5\">\n",
       "      <!-- 2000 -->\n",
       "      <g transform=\"translate(312.2875 308.716563)scale(0.1 -0.1)\">\n",
       "       <defs>\n",
       "        <path d=\"M 19.1875 8.296875 \n",
       "L 53.609375 8.296875 \n",
       "L 53.609375 0 \n",
       "L 7.328125 0 \n",
       "L 7.328125 8.296875 \n",
       "Q 12.9375 14.109375 22.625 23.890625 \n",
       "Q 32.328125 33.6875 34.8125 36.53125 \n",
       "Q 39.546875 41.84375 41.421875 45.53125 \n",
       "Q 43.3125 49.21875 43.3125 52.78125 \n",
       "Q 43.3125 58.59375 39.234375 62.25 \n",
       "Q 35.15625 65.921875 28.609375 65.921875 \n",
       "Q 23.96875 65.921875 18.8125 64.3125 \n",
       "Q 13.671875 62.703125 7.8125 59.421875 \n",
       "L 7.8125 69.390625 \n",
       "Q 13.765625 71.78125 18.9375 73 \n",
       "Q 24.125 74.21875 28.421875 74.21875 \n",
       "Q 39.75 74.21875 46.484375 68.546875 \n",
       "Q 53.21875 62.890625 53.21875 53.421875 \n",
       "Q 53.21875 48.921875 51.53125 44.890625 \n",
       "Q 49.859375 40.875 45.40625 35.40625 \n",
       "Q 44.1875 33.984375 37.640625 27.21875 \n",
       "Q 31.109375 20.453125 19.1875 8.296875 \n",
       "z\n",
       "\" id=\"DejaVuSans-50\"/>\n",
       "       </defs>\n",
       "       <use xlink:href=\"#DejaVuSans-50\"/>\n",
       "       <use x=\"63.623047\" xlink:href=\"#DejaVuSans-48\"/>\n",
       "       <use x=\"127.246094\" xlink:href=\"#DejaVuSans-48\"/>\n",
       "       <use x=\"190.869141\" xlink:href=\"#DejaVuSans-48\"/>\n",
       "      </g>\n",
       "     </g>\n",
       "    </g>\n",
       "    <g id=\"xtick_6\">\n",
       "     <g id=\"line2d_11\">\n",
       "      <path clip-path=\"url(#p1536efdc44)\" d=\"M 391.758911 294.118125 \n",
       "L 391.758911 22.318125 \n",
       "\" style=\"fill:none;stroke:#b0b0b0;stroke-linecap:square;stroke-width:0.8;\"/>\n",
       "     </g>\n",
       "     <g id=\"line2d_12\">\n",
       "      <g>\n",
       "       <use style=\"stroke:#000000;stroke-width:0.8;\" x=\"391.758911\" xlink:href=\"#m38c87b9366\" y=\"294.118125\"/>\n",
       "      </g>\n",
       "     </g>\n",
       "     <g id=\"text_6\">\n",
       "      <!-- 2005 -->\n",
       "      <g transform=\"translate(379.033911 308.716563)scale(0.1 -0.1)\">\n",
       "       <use xlink:href=\"#DejaVuSans-50\"/>\n",
       "       <use x=\"63.623047\" xlink:href=\"#DejaVuSans-48\"/>\n",
       "       <use x=\"127.246094\" xlink:href=\"#DejaVuSans-48\"/>\n",
       "       <use x=\"190.869141\" xlink:href=\"#DejaVuSans-53\"/>\n",
       "      </g>\n",
       "     </g>\n",
       "    </g>\n",
       "    <g id=\"xtick_7\">\n",
       "     <g id=\"line2d_13\">\n",
       "      <path clip-path=\"url(#p1536efdc44)\" d=\"M 458.505323 294.118125 \n",
       "L 458.505323 22.318125 \n",
       "\" style=\"fill:none;stroke:#b0b0b0;stroke-linecap:square;stroke-width:0.8;\"/>\n",
       "     </g>\n",
       "     <g id=\"line2d_14\">\n",
       "      <g>\n",
       "       <use style=\"stroke:#000000;stroke-width:0.8;\" x=\"458.505323\" xlink:href=\"#m38c87b9366\" y=\"294.118125\"/>\n",
       "      </g>\n",
       "     </g>\n",
       "     <g id=\"text_7\">\n",
       "      <!-- 2010 -->\n",
       "      <g transform=\"translate(445.780323 308.716563)scale(0.1 -0.1)\">\n",
       "       <use xlink:href=\"#DejaVuSans-50\"/>\n",
       "       <use x=\"63.623047\" xlink:href=\"#DejaVuSans-48\"/>\n",
       "       <use x=\"127.246094\" xlink:href=\"#DejaVuSans-49\"/>\n",
       "       <use x=\"190.869141\" xlink:href=\"#DejaVuSans-48\"/>\n",
       "      </g>\n",
       "     </g>\n",
       "    </g>\n",
       "    <g id=\"xtick_8\">\n",
       "     <g id=\"line2d_15\">\n",
       "      <path clip-path=\"url(#p1536efdc44)\" d=\"M 525.251734 294.118125 \n",
       "L 525.251734 22.318125 \n",
       "\" style=\"fill:none;stroke:#b0b0b0;stroke-linecap:square;stroke-width:0.8;\"/>\n",
       "     </g>\n",
       "     <g id=\"line2d_16\">\n",
       "      <g>\n",
       "       <use style=\"stroke:#000000;stroke-width:0.8;\" x=\"525.251734\" xlink:href=\"#m38c87b9366\" y=\"294.118125\"/>\n",
       "      </g>\n",
       "     </g>\n",
       "     <g id=\"text_8\">\n",
       "      <!-- 2015 -->\n",
       "      <g transform=\"translate(512.526734 308.716563)scale(0.1 -0.1)\">\n",
       "       <use xlink:href=\"#DejaVuSans-50\"/>\n",
       "       <use x=\"63.623047\" xlink:href=\"#DejaVuSans-48\"/>\n",
       "       <use x=\"127.246094\" xlink:href=\"#DejaVuSans-49\"/>\n",
       "       <use x=\"190.869141\" xlink:href=\"#DejaVuSans-53\"/>\n",
       "      </g>\n",
       "     </g>\n",
       "    </g>\n",
       "    <g id=\"xtick_9\">\n",
       "     <g id=\"line2d_17\">\n",
       "      <path clip-path=\"url(#p1536efdc44)\" d=\"M 591.998146 294.118125 \n",
       "L 591.998146 22.318125 \n",
       "\" style=\"fill:none;stroke:#b0b0b0;stroke-linecap:square;stroke-width:0.8;\"/>\n",
       "     </g>\n",
       "     <g id=\"line2d_18\">\n",
       "      <g>\n",
       "       <use style=\"stroke:#000000;stroke-width:0.8;\" x=\"591.998146\" xlink:href=\"#m38c87b9366\" y=\"294.118125\"/>\n",
       "      </g>\n",
       "     </g>\n",
       "     <g id=\"text_9\">\n",
       "      <!-- 2020 -->\n",
       "      <g transform=\"translate(579.273146 308.716563)scale(0.1 -0.1)\">\n",
       "       <use xlink:href=\"#DejaVuSans-50\"/>\n",
       "       <use x=\"63.623047\" xlink:href=\"#DejaVuSans-48\"/>\n",
       "       <use x=\"127.246094\" xlink:href=\"#DejaVuSans-50\"/>\n",
       "       <use x=\"190.869141\" xlink:href=\"#DejaVuSans-48\"/>\n",
       "      </g>\n",
       "     </g>\n",
       "    </g>\n",
       "   </g>\n",
       "   <g id=\"matplotlib.axis_2\">\n",
       "    <g id=\"ytick_1\">\n",
       "     <g id=\"line2d_19\">\n",
       "      <path clip-path=\"url(#p1536efdc44)\" d=\"M 46.0125 294.118125 \n",
       "L 604.0125 294.118125 \n",
       "\" style=\"fill:none;stroke:#b0b0b0;stroke-linecap:square;stroke-width:0.8;\"/>\n",
       "     </g>\n",
       "     <g id=\"line2d_20\">\n",
       "      <defs>\n",
       "       <path d=\"M 0 0 \n",
       "L -3.5 0 \n",
       "\" id=\"mf39dd30f2c\" style=\"stroke:#000000;stroke-width:0.8;\"/>\n",
       "      </defs>\n",
       "      <g>\n",
       "       <use style=\"stroke:#000000;stroke-width:0.8;\" x=\"46.0125\" xlink:href=\"#mf39dd30f2c\" y=\"294.118125\"/>\n",
       "      </g>\n",
       "     </g>\n",
       "     <g id=\"text_10\">\n",
       "      <!-- 0 -->\n",
       "      <g transform=\"translate(32.65 297.917344)scale(0.1 -0.1)\">\n",
       "       <use xlink:href=\"#DejaVuSans-48\"/>\n",
       "      </g>\n",
       "     </g>\n",
       "    </g>\n",
       "    <g id=\"ytick_2\">\n",
       "     <g id=\"line2d_21\">\n",
       "      <path clip-path=\"url(#p1536efdc44)\" d=\"M 46.0125 234.972408 \n",
       "L 604.0125 234.972408 \n",
       "\" style=\"fill:none;stroke:#b0b0b0;stroke-linecap:square;stroke-width:0.8;\"/>\n",
       "     </g>\n",
       "     <g id=\"line2d_22\">\n",
       "      <g>\n",
       "       <use style=\"stroke:#000000;stroke-width:0.8;\" x=\"46.0125\" xlink:href=\"#mf39dd30f2c\" y=\"234.972408\"/>\n",
       "      </g>\n",
       "     </g>\n",
       "     <g id=\"text_11\">\n",
       "      <!-- 10000 -->\n",
       "      <g transform=\"translate(7.2 238.771627)scale(0.1 -0.1)\">\n",
       "       <use xlink:href=\"#DejaVuSans-49\"/>\n",
       "       <use x=\"63.623047\" xlink:href=\"#DejaVuSans-48\"/>\n",
       "       <use x=\"127.246094\" xlink:href=\"#DejaVuSans-48\"/>\n",
       "       <use x=\"190.869141\" xlink:href=\"#DejaVuSans-48\"/>\n",
       "       <use x=\"254.492188\" xlink:href=\"#DejaVuSans-48\"/>\n",
       "      </g>\n",
       "     </g>\n",
       "    </g>\n",
       "    <g id=\"ytick_3\">\n",
       "     <g id=\"line2d_23\">\n",
       "      <path clip-path=\"url(#p1536efdc44)\" d=\"M 46.0125 175.826692 \n",
       "L 604.0125 175.826692 \n",
       "\" style=\"fill:none;stroke:#b0b0b0;stroke-linecap:square;stroke-width:0.8;\"/>\n",
       "     </g>\n",
       "     <g id=\"line2d_24\">\n",
       "      <g>\n",
       "       <use style=\"stroke:#000000;stroke-width:0.8;\" x=\"46.0125\" xlink:href=\"#mf39dd30f2c\" y=\"175.826692\"/>\n",
       "      </g>\n",
       "     </g>\n",
       "     <g id=\"text_12\">\n",
       "      <!-- 20000 -->\n",
       "      <g transform=\"translate(7.2 179.625911)scale(0.1 -0.1)\">\n",
       "       <use xlink:href=\"#DejaVuSans-50\"/>\n",
       "       <use x=\"63.623047\" xlink:href=\"#DejaVuSans-48\"/>\n",
       "       <use x=\"127.246094\" xlink:href=\"#DejaVuSans-48\"/>\n",
       "       <use x=\"190.869141\" xlink:href=\"#DejaVuSans-48\"/>\n",
       "       <use x=\"254.492188\" xlink:href=\"#DejaVuSans-48\"/>\n",
       "      </g>\n",
       "     </g>\n",
       "    </g>\n",
       "    <g id=\"ytick_4\">\n",
       "     <g id=\"line2d_25\">\n",
       "      <path clip-path=\"url(#p1536efdc44)\" d=\"M 46.0125 116.680975 \n",
       "L 604.0125 116.680975 \n",
       "\" style=\"fill:none;stroke:#b0b0b0;stroke-linecap:square;stroke-width:0.8;\"/>\n",
       "     </g>\n",
       "     <g id=\"line2d_26\">\n",
       "      <g>\n",
       "       <use style=\"stroke:#000000;stroke-width:0.8;\" x=\"46.0125\" xlink:href=\"#mf39dd30f2c\" y=\"116.680975\"/>\n",
       "      </g>\n",
       "     </g>\n",
       "     <g id=\"text_13\">\n",
       "      <!-- 30000 -->\n",
       "      <g transform=\"translate(7.2 120.480194)scale(0.1 -0.1)\">\n",
       "       <defs>\n",
       "        <path d=\"M 40.578125 39.3125 \n",
       "Q 47.65625 37.796875 51.625 33 \n",
       "Q 55.609375 28.21875 55.609375 21.1875 \n",
       "Q 55.609375 10.40625 48.1875 4.484375 \n",
       "Q 40.765625 -1.421875 27.09375 -1.421875 \n",
       "Q 22.515625 -1.421875 17.65625 -0.515625 \n",
       "Q 12.796875 0.390625 7.625 2.203125 \n",
       "L 7.625 11.71875 \n",
       "Q 11.71875 9.328125 16.59375 8.109375 \n",
       "Q 21.484375 6.890625 26.8125 6.890625 \n",
       "Q 36.078125 6.890625 40.9375 10.546875 \n",
       "Q 45.796875 14.203125 45.796875 21.1875 \n",
       "Q 45.796875 27.640625 41.28125 31.265625 \n",
       "Q 36.765625 34.90625 28.71875 34.90625 \n",
       "L 20.21875 34.90625 \n",
       "L 20.21875 43.015625 \n",
       "L 29.109375 43.015625 \n",
       "Q 36.375 43.015625 40.234375 45.921875 \n",
       "Q 44.09375 48.828125 44.09375 54.296875 \n",
       "Q 44.09375 59.90625 40.109375 62.90625 \n",
       "Q 36.140625 65.921875 28.71875 65.921875 \n",
       "Q 24.65625 65.921875 20.015625 65.03125 \n",
       "Q 15.375 64.15625 9.8125 62.3125 \n",
       "L 9.8125 71.09375 \n",
       "Q 15.4375 72.65625 20.34375 73.4375 \n",
       "Q 25.25 74.21875 29.59375 74.21875 \n",
       "Q 40.828125 74.21875 47.359375 69.109375 \n",
       "Q 53.90625 64.015625 53.90625 55.328125 \n",
       "Q 53.90625 49.265625 50.4375 45.09375 \n",
       "Q 46.96875 40.921875 40.578125 39.3125 \n",
       "z\n",
       "\" id=\"DejaVuSans-51\"/>\n",
       "       </defs>\n",
       "       <use xlink:href=\"#DejaVuSans-51\"/>\n",
       "       <use x=\"63.623047\" xlink:href=\"#DejaVuSans-48\"/>\n",
       "       <use x=\"127.246094\" xlink:href=\"#DejaVuSans-48\"/>\n",
       "       <use x=\"190.869141\" xlink:href=\"#DejaVuSans-48\"/>\n",
       "       <use x=\"254.492188\" xlink:href=\"#DejaVuSans-48\"/>\n",
       "      </g>\n",
       "     </g>\n",
       "    </g>\n",
       "    <g id=\"ytick_5\">\n",
       "     <g id=\"line2d_27\">\n",
       "      <path clip-path=\"url(#p1536efdc44)\" d=\"M 46.0125 57.535259 \n",
       "L 604.0125 57.535259 \n",
       "\" style=\"fill:none;stroke:#b0b0b0;stroke-linecap:square;stroke-width:0.8;\"/>\n",
       "     </g>\n",
       "     <g id=\"line2d_28\">\n",
       "      <g>\n",
       "       <use style=\"stroke:#000000;stroke-width:0.8;\" x=\"46.0125\" xlink:href=\"#mf39dd30f2c\" y=\"57.535259\"/>\n",
       "      </g>\n",
       "     </g>\n",
       "     <g id=\"text_14\">\n",
       "      <!-- 40000 -->\n",
       "      <g transform=\"translate(7.2 61.334478)scale(0.1 -0.1)\">\n",
       "       <defs>\n",
       "        <path d=\"M 37.796875 64.3125 \n",
       "L 12.890625 25.390625 \n",
       "L 37.796875 25.390625 \n",
       "z\n",
       "M 35.203125 72.90625 \n",
       "L 47.609375 72.90625 \n",
       "L 47.609375 25.390625 \n",
       "L 58.015625 25.390625 \n",
       "L 58.015625 17.1875 \n",
       "L 47.609375 17.1875 \n",
       "L 47.609375 0 \n",
       "L 37.796875 0 \n",
       "L 37.796875 17.1875 \n",
       "L 4.890625 17.1875 \n",
       "L 4.890625 26.703125 \n",
       "z\n",
       "\" id=\"DejaVuSans-52\"/>\n",
       "       </defs>\n",
       "       <use xlink:href=\"#DejaVuSans-52\"/>\n",
       "       <use x=\"63.623047\" xlink:href=\"#DejaVuSans-48\"/>\n",
       "       <use x=\"127.246094\" xlink:href=\"#DejaVuSans-48\"/>\n",
       "       <use x=\"190.869141\" xlink:href=\"#DejaVuSans-48\"/>\n",
       "       <use x=\"254.492188\" xlink:href=\"#DejaVuSans-48\"/>\n",
       "      </g>\n",
       "     </g>\n",
       "    </g>\n",
       "   </g>\n",
       "   <g id=\"patch_23\">\n",
       "    <path d=\"M 46.0125 294.118125 \n",
       "L 46.0125 22.318125 \n",
       "\" style=\"fill:none;stroke:#000000;stroke-linecap:square;stroke-linejoin:miter;stroke-width:0.8;\"/>\n",
       "   </g>\n",
       "   <g id=\"patch_24\">\n",
       "    <path d=\"M 604.0125 294.118125 \n",
       "L 604.0125 22.318125 \n",
       "\" style=\"fill:none;stroke:#000000;stroke-linecap:square;stroke-linejoin:miter;stroke-width:0.8;\"/>\n",
       "   </g>\n",
       "   <g id=\"patch_25\">\n",
       "    <path d=\"M 46.0125 294.118125 \n",
       "L 604.0125 294.118125 \n",
       "\" style=\"fill:none;stroke:#000000;stroke-linecap:square;stroke-linejoin:miter;stroke-width:0.8;\"/>\n",
       "   </g>\n",
       "   <g id=\"patch_26\">\n",
       "    <path d=\"M 46.0125 22.318125 \n",
       "L 604.0125 22.318125 \n",
       "\" style=\"fill:none;stroke:#000000;stroke-linecap:square;stroke-linejoin:miter;stroke-width:0.8;\"/>\n",
       "   </g>\n",
       "   <g id=\"text_15\">\n",
       "    <!-- Распределение по годам регистрации -->\n",
       "    <g transform=\"translate(202.909687 16.318125)scale(0.12 -0.12)\">\n",
       "     <defs>\n",
       "      <path d=\"M 19.671875 64.796875 \n",
       "L 19.671875 37.40625 \n",
       "L 32.078125 37.40625 \n",
       "Q 38.96875 37.40625 42.71875 40.96875 \n",
       "Q 46.484375 44.53125 46.484375 51.125 \n",
       "Q 46.484375 57.671875 42.71875 61.234375 \n",
       "Q 38.96875 64.796875 32.078125 64.796875 \n",
       "z\n",
       "M 9.8125 72.90625 \n",
       "L 32.078125 72.90625 \n",
       "Q 44.34375 72.90625 50.609375 67.359375 \n",
       "Q 56.890625 61.8125 56.890625 51.125 \n",
       "Q 56.890625 40.328125 50.609375 34.8125 \n",
       "Q 44.34375 29.296875 32.078125 29.296875 \n",
       "L 19.671875 29.296875 \n",
       "L 19.671875 0 \n",
       "L 9.8125 0 \n",
       "z\n",
       "\" id=\"DejaVuSans-1056\"/>\n",
       "      <path d=\"M 34.28125 27.484375 \n",
       "Q 23.390625 27.484375 19.1875 25 \n",
       "Q 14.984375 22.515625 14.984375 16.5 \n",
       "Q 14.984375 11.71875 18.140625 8.90625 \n",
       "Q 21.296875 6.109375 26.703125 6.109375 \n",
       "Q 34.1875 6.109375 38.703125 11.40625 \n",
       "Q 43.21875 16.703125 43.21875 25.484375 \n",
       "L 43.21875 27.484375 \n",
       "z\n",
       "M 52.203125 31.203125 \n",
       "L 52.203125 0 \n",
       "L 43.21875 0 \n",
       "L 43.21875 8.296875 \n",
       "Q 40.140625 3.328125 35.546875 0.953125 \n",
       "Q 30.953125 -1.421875 24.3125 -1.421875 \n",
       "Q 15.921875 -1.421875 10.953125 3.296875 \n",
       "Q 6 8.015625 6 15.921875 \n",
       "Q 6 25.140625 12.171875 29.828125 \n",
       "Q 18.359375 34.515625 30.609375 34.515625 \n",
       "L 43.21875 34.515625 \n",
       "L 43.21875 35.40625 \n",
       "Q 43.21875 41.609375 39.140625 45 \n",
       "Q 35.0625 48.390625 27.6875 48.390625 \n",
       "Q 23 48.390625 18.546875 47.265625 \n",
       "Q 14.109375 46.140625 10.015625 43.890625 \n",
       "L 10.015625 52.203125 \n",
       "Q 14.9375 54.109375 19.578125 55.046875 \n",
       "Q 24.21875 56 28.609375 56 \n",
       "Q 40.484375 56 46.34375 49.84375 \n",
       "Q 52.203125 43.703125 52.203125 31.203125 \n",
       "z\n",
       "\" id=\"DejaVuSans-1072\"/>\n",
       "      <path d=\"M 48.78125 52.59375 \n",
       "L 48.78125 44.1875 \n",
       "Q 44.96875 46.296875 41.140625 47.34375 \n",
       "Q 37.3125 48.390625 33.40625 48.390625 \n",
       "Q 24.65625 48.390625 19.8125 42.84375 \n",
       "Q 14.984375 37.3125 14.984375 27.296875 \n",
       "Q 14.984375 17.28125 19.8125 11.734375 \n",
       "Q 24.65625 6.203125 33.40625 6.203125 \n",
       "Q 37.3125 6.203125 41.140625 7.25 \n",
       "Q 44.96875 8.296875 48.78125 10.40625 \n",
       "L 48.78125 2.09375 \n",
       "Q 45.015625 0.34375 40.984375 -0.53125 \n",
       "Q 36.96875 -1.421875 32.421875 -1.421875 \n",
       "Q 20.0625 -1.421875 12.78125 6.34375 \n",
       "Q 5.515625 14.109375 5.515625 27.296875 \n",
       "Q 5.515625 40.671875 12.859375 48.328125 \n",
       "Q 20.21875 56 33.015625 56 \n",
       "Q 37.15625 56 41.109375 55.140625 \n",
       "Q 45.0625 54.296875 48.78125 52.59375 \n",
       "z\n",
       "\" id=\"DejaVuSans-1089\"/>\n",
       "      <path d=\"M 56.296875 54.6875 \n",
       "L 56.296875 0 \n",
       "L 47.265625 0 \n",
       "L 47.265625 47.515625 \n",
       "L 18.109375 47.515625 \n",
       "L 18.109375 0 \n",
       "L 9.078125 0 \n",
       "L 9.078125 54.6875 \n",
       "z\n",
       "\" id=\"DejaVuSans-1087\"/>\n",
       "      <path d=\"M 18.109375 8.203125 \n",
       "L 18.109375 -20.796875 \n",
       "L 9.078125 -20.796875 \n",
       "L 9.078125 54.6875 \n",
       "L 18.109375 54.6875 \n",
       "L 18.109375 46.390625 \n",
       "Q 20.953125 51.265625 25.265625 53.625 \n",
       "Q 29.59375 56 35.59375 56 \n",
       "Q 45.5625 56 51.78125 48.09375 \n",
       "Q 58.015625 40.1875 58.015625 27.296875 \n",
       "Q 58.015625 14.40625 51.78125 6.484375 \n",
       "Q 45.5625 -1.421875 35.59375 -1.421875 \n",
       "Q 29.59375 -1.421875 25.265625 0.953125 \n",
       "Q 20.953125 3.328125 18.109375 8.203125 \n",
       "z\n",
       "M 48.6875 27.296875 \n",
       "Q 48.6875 37.203125 44.609375 42.84375 \n",
       "Q 40.53125 48.484375 33.40625 48.484375 \n",
       "Q 26.265625 48.484375 22.1875 42.84375 \n",
       "Q 18.109375 37.203125 18.109375 27.296875 \n",
       "Q 18.109375 17.390625 22.1875 11.75 \n",
       "Q 26.265625 6.109375 33.40625 6.109375 \n",
       "Q 40.53125 6.109375 44.609375 11.75 \n",
       "Q 48.6875 17.390625 48.6875 27.296875 \n",
       "z\n",
       "\" id=\"DejaVuSans-1088\"/>\n",
       "      <path d=\"M 56.203125 29.59375 \n",
       "L 56.203125 25.203125 \n",
       "L 14.890625 25.203125 \n",
       "Q 15.484375 15.921875 20.484375 11.0625 \n",
       "Q 25.484375 6.203125 34.421875 6.203125 \n",
       "Q 39.59375 6.203125 44.453125 7.46875 \n",
       "Q 49.3125 8.734375 54.109375 11.28125 \n",
       "L 54.109375 2.78125 \n",
       "Q 49.265625 0.734375 44.1875 -0.34375 \n",
       "Q 39.109375 -1.421875 33.890625 -1.421875 \n",
       "Q 20.796875 -1.421875 13.15625 6.1875 \n",
       "Q 5.515625 13.8125 5.515625 26.8125 \n",
       "Q 5.515625 40.234375 12.765625 48.109375 \n",
       "Q 20.015625 56 32.328125 56 \n",
       "Q 43.359375 56 49.78125 48.890625 \n",
       "Q 56.203125 41.796875 56.203125 29.59375 \n",
       "z\n",
       "M 47.21875 32.234375 \n",
       "Q 47.125 39.59375 43.09375 43.984375 \n",
       "Q 39.0625 48.390625 32.421875 48.390625 \n",
       "Q 24.90625 48.390625 20.390625 44.140625 \n",
       "Q 15.875 39.890625 15.1875 32.171875 \n",
       "z\n",
       "\" id=\"DejaVuSans-1077\"/>\n",
       "      <path d=\"M 21.625 7.171875 \n",
       "L 47.703125 7.171875 \n",
       "L 47.703125 47.515625 \n",
       "L 28.8125 47.515625 \n",
       "L 28.8125 40.671875 \n",
       "Q 28.8125 20.5625 23.046875 9.8125 \n",
       "z\n",
       "M 8.59375 7.171875 \n",
       "Q 13.03125 9.125 14.984375 13.28125 \n",
       "Q 19.78125 23.578125 19.78125 44.34375 \n",
       "L 19.78125 54.6875 \n",
       "L 56.734375 54.6875 \n",
       "L 56.734375 7.171875 \n",
       "L 63.921875 7.171875 \n",
       "L 63.921875 -13.8125 \n",
       "L 56.734375 -13.8125 \n",
       "L 56.734375 0 \n",
       "L 12.40625 0 \n",
       "L 12.40625 -13.8125 \n",
       "L 5.21875 -13.8125 \n",
       "L 5.21875 7.171875 \n",
       "z\n",
       "\" id=\"DejaVuSans-1076\"/>\n",
       "      <path d=\"M 3.71875 0 \n",
       "L 3.71875 7.46875 \n",
       "Q 12.59375 8.84375 15.328125 14.984375 \n",
       "Q 18.65625 23.640625 18.65625 45.75 \n",
       "L 18.65625 54.6875 \n",
       "L 55.609375 54.6875 \n",
       "L 55.609375 0 \n",
       "L 46.625 0 \n",
       "L 46.625 47.515625 \n",
       "L 27.640625 47.515625 \n",
       "L 27.640625 42.09375 \n",
       "Q 27.640625 21 23.34375 11.53125 \n",
       "Q 18.75 1.421875 3.71875 0 \n",
       "z\n",
       "\" id=\"DejaVuSans-1083\"/>\n",
       "      <path d=\"M 9.078125 54.6875 \n",
       "L 18.109375 54.6875 \n",
       "L 18.109375 32.375 \n",
       "L 47.265625 32.375 \n",
       "L 47.265625 54.6875 \n",
       "L 56.296875 54.6875 \n",
       "L 56.296875 0 \n",
       "L 47.265625 0 \n",
       "L 47.265625 25.203125 \n",
       "L 18.109375 25.203125 \n",
       "L 18.109375 0 \n",
       "L 9.078125 0 \n",
       "z\n",
       "\" id=\"DejaVuSans-1085\"/>\n",
       "      <path d=\"M 55.90625 54.6875 \n",
       "L 55.90625 0 \n",
       "L 46.96875 0 \n",
       "L 46.96875 43.890625 \n",
       "L 20.609375 0 \n",
       "L 9.078125 0 \n",
       "L 9.078125 54.6875 \n",
       "L 18.015625 54.6875 \n",
       "L 18.015625 10.890625 \n",
       "L 44.34375 54.6875 \n",
       "z\n",
       "\" id=\"DejaVuSans-1080\"/>\n",
       "      <path id=\"DejaVuSans-32\"/>\n",
       "      <path d=\"M 30.609375 48.390625 \n",
       "Q 23.390625 48.390625 19.1875 42.75 \n",
       "Q 14.984375 37.109375 14.984375 27.296875 \n",
       "Q 14.984375 17.484375 19.15625 11.84375 \n",
       "Q 23.34375 6.203125 30.609375 6.203125 \n",
       "Q 37.796875 6.203125 41.984375 11.859375 \n",
       "Q 46.1875 17.53125 46.1875 27.296875 \n",
       "Q 46.1875 37.015625 41.984375 42.703125 \n",
       "Q 37.796875 48.390625 30.609375 48.390625 \n",
       "z\n",
       "M 30.609375 56 \n",
       "Q 42.328125 56 49.015625 48.375 \n",
       "Q 55.71875 40.765625 55.71875 27.296875 \n",
       "Q 55.71875 13.875 49.015625 6.21875 \n",
       "Q 42.328125 -1.421875 30.609375 -1.421875 \n",
       "Q 18.84375 -1.421875 12.171875 6.21875 \n",
       "Q 5.515625 13.875 5.515625 27.296875 \n",
       "Q 5.515625 40.765625 12.171875 48.375 \n",
       "Q 18.84375 56 30.609375 56 \n",
       "z\n",
       "\" id=\"DejaVuSans-1086\"/>\n",
       "      <path d=\"M 9.078125 0 \n",
       "L 9.078125 54.6875 \n",
       "L 47.65625 54.6875 \n",
       "L 47.65625 47.515625 \n",
       "L 18.109375 47.515625 \n",
       "L 18.109375 0 \n",
       "z\n",
       "\" id=\"DejaVuSans-1075\"/>\n",
       "      <path d=\"M 9.078125 54.6875 \n",
       "L 22.21875 54.6875 \n",
       "L 37.75 18.0625 \n",
       "L 53.328125 54.6875 \n",
       "L 66.359375 54.6875 \n",
       "L 66.359375 0 \n",
       "L 57.328125 0 \n",
       "L 57.328125 46.09375 \n",
       "L 42.234375 10.5 \n",
       "L 33.25 10.5 \n",
       "L 18.109375 46.09375 \n",
       "L 18.109375 0 \n",
       "L 9.078125 0 \n",
       "z\n",
       "\" id=\"DejaVuSans-1084\"/>\n",
       "      <path d=\"M 2.9375 54.6875 \n",
       "L 55.328125 54.6875 \n",
       "L 55.328125 47.515625 \n",
       "L 33.546875 47.515625 \n",
       "L 33.546875 0 \n",
       "L 24.703125 0 \n",
       "L 24.703125 47.515625 \n",
       "L 2.9375 47.515625 \n",
       "z\n",
       "\" id=\"DejaVuSans-1090\"/>\n",
       "      <path d=\"M 56.296875 0 \n",
       "L 9.078125 0 \n",
       "L 9.078125 54.6875 \n",
       "L 18.109375 54.6875 \n",
       "L 18.109375 7.171875 \n",
       "L 47.265625 7.171875 \n",
       "L 47.265625 54.6875 \n",
       "L 56.296875 54.6875 \n",
       "L 56.296875 7.171875 \n",
       "L 63.484375 7.171875 \n",
       "L 63.484375 -13.8125 \n",
       "L 56.296875 -13.8125 \n",
       "z\n",
       "\" id=\"DejaVuSans-1094\"/>\n",
       "     </defs>\n",
       "     <use xlink:href=\"#DejaVuSans-1056\"/>\n",
       "     <use x=\"60.302734\" xlink:href=\"#DejaVuSans-1072\"/>\n",
       "     <use x=\"121.582031\" xlink:href=\"#DejaVuSans-1089\"/>\n",
       "     <use x=\"176.5625\" xlink:href=\"#DejaVuSans-1087\"/>\n",
       "     <use x=\"241.943359\" xlink:href=\"#DejaVuSans-1088\"/>\n",
       "     <use x=\"305.419922\" xlink:href=\"#DejaVuSans-1077\"/>\n",
       "     <use x=\"366.943359\" xlink:href=\"#DejaVuSans-1076\"/>\n",
       "     <use x=\"436.083984\" xlink:href=\"#DejaVuSans-1077\"/>\n",
       "     <use x=\"497.607422\" xlink:href=\"#DejaVuSans-1083\"/>\n",
       "     <use x=\"561.523438\" xlink:href=\"#DejaVuSans-1077\"/>\n",
       "     <use x=\"623.046875\" xlink:href=\"#DejaVuSans-1085\"/>\n",
       "     <use x=\"688.427734\" xlink:href=\"#DejaVuSans-1080\"/>\n",
       "     <use x=\"753.417969\" xlink:href=\"#DejaVuSans-1077\"/>\n",
       "     <use x=\"814.941406\" xlink:href=\"#DejaVuSans-32\"/>\n",
       "     <use x=\"846.728516\" xlink:href=\"#DejaVuSans-1087\"/>\n",
       "     <use x=\"912.109375\" xlink:href=\"#DejaVuSans-1086\"/>\n",
       "     <use x=\"973.291016\" xlink:href=\"#DejaVuSans-32\"/>\n",
       "     <use x=\"1005.078125\" xlink:href=\"#DejaVuSans-1075\"/>\n",
       "     <use x=\"1057.617188\" xlink:href=\"#DejaVuSans-1086\"/>\n",
       "     <use x=\"1118.798828\" xlink:href=\"#DejaVuSans-1076\"/>\n",
       "     <use x=\"1187.939453\" xlink:href=\"#DejaVuSans-1072\"/>\n",
       "     <use x=\"1249.21875\" xlink:href=\"#DejaVuSans-1084\"/>\n",
       "     <use x=\"1324.658203\" xlink:href=\"#DejaVuSans-32\"/>\n",
       "     <use x=\"1356.445312\" xlink:href=\"#DejaVuSans-1088\"/>\n",
       "     <use x=\"1419.921875\" xlink:href=\"#DejaVuSans-1077\"/>\n",
       "     <use x=\"1481.445312\" xlink:href=\"#DejaVuSans-1075\"/>\n",
       "     <use x=\"1533.984375\" xlink:href=\"#DejaVuSans-1080\"/>\n",
       "     <use x=\"1598.974609\" xlink:href=\"#DejaVuSans-1089\"/>\n",
       "     <use x=\"1653.955078\" xlink:href=\"#DejaVuSans-1090\"/>\n",
       "     <use x=\"1712.207031\" xlink:href=\"#DejaVuSans-1088\"/>\n",
       "     <use x=\"1775.683594\" xlink:href=\"#DejaVuSans-1072\"/>\n",
       "     <use x=\"1836.962891\" xlink:href=\"#DejaVuSans-1094\"/>\n",
       "     <use x=\"1905.029297\" xlink:href=\"#DejaVuSans-1080\"/>\n",
       "     <use x=\"1970.019531\" xlink:href=\"#DejaVuSans-1080\"/>\n",
       "    </g>\n",
       "   </g>\n",
       "  </g>\n",
       " </g>\n",
       " <defs>\n",
       "  <clipPath id=\"p1536efdc44\">\n",
       "   <rect height=\"271.8\" width=\"558\" x=\"46.0125\" y=\"22.318125\"/>\n",
       "  </clipPath>\n",
       " </defs>\n",
       "</svg>\n"
      ],
      "text/plain": [
       "<Figure size 720x360 with 1 Axes>"
      ]
     },
     "metadata": {
      "needs_background": "light"
     },
     "output_type": "display_data"
    }
   ],
   "source": [
    "x = data.query('1980 < registration_year < 2020')\n",
    "x ['registration_year'].hist(bins=20)\n",
    "plt.title('Распределение по годам регистрации')"
   ]
  },
  {
   "cell_type": "markdown",
   "metadata": {},
   "source": [
    "Изучив полученные данные, построим на их основе очищенный от вбросов срез."
   ]
  },
  {
   "cell_type": "code",
   "execution_count": 19,
   "metadata": {},
   "outputs": [
    {
     "name": "stdout",
     "output_type": "stream",
     "text": [
      "<class 'pandas.core.frame.DataFrame'>\n",
      "Int64Index: 335060 entries, 0 to 354368\n",
      "Data columns (total 10 columns):\n",
      " #   Column             Non-Null Count   Dtype \n",
      "---  ------             --------------   ----- \n",
      " 0   price              335060 non-null  int64 \n",
      " 1   vehicle_type       335060 non-null  object\n",
      " 2   registration_year  335060 non-null  int64 \n",
      " 3   gearbox            335060 non-null  object\n",
      " 4   power              335060 non-null  int64 \n",
      " 5   model              335060 non-null  object\n",
      " 6   kilometer          335060 non-null  int64 \n",
      " 7   fuel_type          335060 non-null  object\n",
      " 8   brand              335060 non-null  object\n",
      " 9   not_repaired       335060 non-null  object\n",
      "dtypes: int64(4), object(6)\n",
      "memory usage: 28.1+ MB\n"
     ]
    }
   ],
   "source": [
    "actual_data = data.query('1980 < registration_year < 2020 and price != 0' )\n",
    "actual_data.info()"
   ]
  },
  {
   "cell_type": "markdown",
   "metadata": {},
   "source": [
    "Существует гипотеза о том, что возраст машины влияет на ее ценобразование. Проверим это путём разбивки на возрастные группы."
   ]
  },
  {
   "cell_type": "code",
   "execution_count": 20,
   "metadata": {},
   "outputs": [],
   "source": [
    "#создадим функцию для раздела по году регистрации:\n",
    "def reg_group(row):\n",
    "    year = row['registration_year']\n",
    "    if 2015 <= year <= 2021:\n",
    "        return 'новая'\n",
    "    if 2010 <= year <= 2014:\n",
    "        return 'средне-новая'\n",
    "    if 2000 <= year <= 2009:\n",
    "        return 'старая'\n",
    "    else:\n",
    "        return 'ретро'"
   ]
  },
  {
   "cell_type": "code",
   "execution_count": 21,
   "metadata": {},
   "outputs": [
    {
     "data": {
      "text/plain": [
       "старая          186014\n",
       "ретро            92076\n",
       "средне-новая     33791\n",
       "новая            23179\n",
       "Name: registration_group, dtype: int64"
      ]
     },
     "execution_count": 21,
     "metadata": {},
     "output_type": "execute_result"
    }
   ],
   "source": [
    "actual_data['registration_group'] = actual_data.apply(reg_group, axis=1)\n",
    "actual_data['registration_group'].value_counts()"
   ]
  },
  {
   "cell_type": "code",
   "execution_count": 22,
   "metadata": {},
   "outputs": [],
   "source": [
    "categorical_features = ['vehicle_type', 'gearbox',  \n",
    "                        'model', 'fuel_type', 'brand', \n",
    "                        'not_repaired', 'registration_year',\n",
    "                       'registration_group']"
   ]
  },
  {
   "cell_type": "code",
   "execution_count": 23,
   "metadata": {},
   "outputs": [
    {
     "name": "stdout",
     "output_type": "stream",
     "text": [
      "<class 'pandas.core.frame.DataFrame'>\n",
      "Int64Index: 335060 entries, 0 to 354368\n",
      "Data columns (total 11 columns):\n",
      " #   Column              Non-Null Count   Dtype   \n",
      "---  ------              --------------   -----   \n",
      " 0   price               335060 non-null  int64   \n",
      " 1   vehicle_type        335060 non-null  category\n",
      " 2   registration_year   335060 non-null  category\n",
      " 3   gearbox             335060 non-null  category\n",
      " 4   power               335060 non-null  int64   \n",
      " 5   model               335060 non-null  category\n",
      " 6   kilometer           335060 non-null  int64   \n",
      " 7   fuel_type           335060 non-null  category\n",
      " 8   brand               335060 non-null  category\n",
      " 9   not_repaired        335060 non-null  category\n",
      " 10  registration_group  335060 non-null  category\n",
      "dtypes: category(8), int64(3)\n",
      "memory usage: 13.1 MB\n"
     ]
    }
   ],
   "source": [
    "actual_data[categorical_features] = actual_data[categorical_features].astype('category')\n",
    "actual_data.info()"
   ]
  },
  {
   "cell_type": "code",
   "execution_count": 24,
   "metadata": {},
   "outputs": [],
   "source": [
    "def split_data(data, target_column):\n",
    "    return data.drop(columns=[target_column], axis=1), data[target_column]"
   ]
  },
  {
   "cell_type": "code",
   "execution_count": 25,
   "metadata": {},
   "outputs": [
    {
     "name": "stdout",
     "output_type": "stream",
     "text": [
      "Объктов в train: 201036\n",
      "Объктов в valid: 67012\n",
      "Объктов в test: 67012\n",
      "Сумма объектов: 335060\n",
      "\n",
      "Объектов всего: 348267\n"
     ]
    }
   ],
   "source": [
    "features, target = split_data(actual_data,'price')\n",
    "\n",
    "features_df, features_valid, target_df, target_valid = train_test_split(features, \n",
    "                                                                        target, \n",
    "                                                                        test_size=0.20, \n",
    "                                                                        random_state=42)\n",
    "\n",
    "features_train, features_test, target_train, target_test = train_test_split(features_df, \n",
    "                                                                            target_df, \n",
    "                                                                            test_size=0.25, \n",
    "                                                                            random_state=42)\n",
    "\n",
    "print('Объктов в train:', len(features_train))\n",
    "print('Объктов в valid:', len(features_valid))\n",
    "print('Объктов в test:', len(features_test))\n",
    "print('Сумма объектов:', len(features_train) + len(features_test) + len(features_valid))\n",
    "print()\n",
    "print('Объектов всего:', len(data))"
   ]
  },
  {
   "cell_type": "markdown",
   "metadata": {},
   "source": [
    "## Обучение моделей"
   ]
  },
  {
   "cell_type": "markdown",
   "metadata": {},
   "source": [
    "### LightGBM"
   ]
  },
  {
   "cell_type": "code",
   "execution_count": 26,
   "metadata": {},
   "outputs": [
    {
     "name": "stdout",
     "output_type": "stream",
     "text": [
      "[LightGBM] [Warning] Unknown parameter: nam_leaves\n",
      "RMSE: 1544.4669303092162\n",
      "Время обучения: 14.734466314315796\n",
      "Скорость предсказания 15.457278490066528\n",
      "CPU times: user 15.4 s, sys: 83 ms, total: 15.4 s\n",
      "Wall time: 15.5 s\n"
     ]
    }
   ],
   "source": [
    "%%time\n",
    "import time\n",
    "time_start = time.time()\n",
    "model = LGBMRegressor(random_state=393, learning_rate=0.3, nam_leaves=50)\n",
    "model.fit(features_train, target_train)\n",
    "time_lgbm_fit = time.time() - time_start\n",
    "predict_valid = model.predict(features_valid)\n",
    "time_lgbm_predict = time.time() - time_start\n",
    "result_lgbm = mean_squared_error(target_valid, predict_valid) ** 0.5\n",
    "print('RMSE:', result_lgbm)\n",
    "print('Время обучения:', time_lgbm_fit)\n",
    "print('Скорость предсказания', time_lgbm_predict)"
   ]
  },
  {
   "cell_type": "markdown",
   "metadata": {},
   "source": [
    "### CatBoost"
   ]
  },
  {
   "cell_type": "code",
   "execution_count": 31,
   "metadata": {},
   "outputs": [],
   "source": [
    "grid = [{'iterations': [180, 200, 20],\n",
    "        'depth': [ 6, 10, 2]}]\n",
    "\n",
    "cat_features = ['vehicle_type', 'gearbox', 'registration_year', 'model', \n",
    "                'fuel_type', 'brand', 'not_repaired', 'registration_group']"
   ]
  },
  {
   "cell_type": "code",
   "execution_count": 32,
   "metadata": {},
   "outputs": [
    {
     "name": "stdout",
     "output_type": "stream",
     "text": [
      "CPU times: user 22min 29s, sys: 2.74 s, total: 22min 32s\n",
      "Wall time: 23min 28s\n"
     ]
    },
    {
     "data": {
      "text/plain": [
       "GridSearchCV(cv=3,\n",
       "             estimator=<catboost.core.CatBoostRegressor object at 0x7f8ba78ad4f0>,\n",
       "             n_jobs=-1,\n",
       "             param_grid=[{'depth': [6, 10, 2], 'iterations': [180, 200, 20]}],\n",
       "             scoring='neg_mean_squared_error')"
      ]
     },
     "execution_count": 32,
     "metadata": {},
     "output_type": "execute_result"
    }
   ],
   "source": [
    "%%time\n",
    "regressor = CatBoostRegressor(random_state=393,cat_features=cat_features,logging_level='Silent') \n",
    "clf = GridSearchCV(regressor, grid, scoring='neg_mean_squared_error',n_jobs = -1,cv=3)\n",
    "clf.fit(features_train,target_train)"
   ]
  },
  {
   "cell_type": "code",
   "execution_count": 33,
   "metadata": {},
   "outputs": [
    {
     "data": {
      "text/plain": [
       "{'depth': 10, 'iterations': 200}"
      ]
     },
     "execution_count": 33,
     "metadata": {},
     "output_type": "execute_result"
    }
   ],
   "source": [
    "clf.best_params_"
   ]
  },
  {
   "cell_type": "code",
   "execution_count": 34,
   "metadata": {},
   "outputs": [
    {
     "name": "stdout",
     "output_type": "stream",
     "text": [
      "RMSE: 1526.5526938152163\n",
      "Время обучения: 274.276912689209\n",
      "Скорость предсказания 1649839541.0157752\n"
     ]
    }
   ],
   "source": [
    "time_start = time.time()\n",
    "model = CatBoostRegressor(random_state=393,\n",
    "                          cat_features=cat_features, \n",
    "                          logging_level='Silent',\n",
    "                          depth=10, \n",
    "                          iterations=200)\n",
    "model.fit(features_train,target_train)\n",
    "time_cat_fit = time.time() - time_start\n",
    "predict_valid = model.predict(features_valid)\n",
    "time_cat_predict = time.time() - time_cat_fit\n",
    "result_cat = mean_squared_error(target_valid, predict_valid) ** 0.5\n",
    "print('RMSE:', result_cat)\n",
    "print('Время обучения:', time_cat_fit)\n",
    "print('Скорость предсказания', time_cat_predict)"
   ]
  },
  {
   "cell_type": "markdown",
   "metadata": {},
   "source": [
    "### Линейная регрессия"
   ]
  },
  {
   "cell_type": "code",
   "execution_count": 35,
   "metadata": {},
   "outputs": [
    {
     "data": {
      "text/plain": [
       "Index(['price', 'vehicle_type', 'registration_year', 'gearbox', 'power',\n",
       "       'model', 'kilometer', 'fuel_type', 'brand', 'not_repaired',\n",
       "       'registration_group'],\n",
       "      dtype='object')"
      ]
     },
     "execution_count": 35,
     "metadata": {},
     "output_type": "execute_result"
    }
   ],
   "source": [
    "actual_data.columns"
   ]
  },
  {
   "cell_type": "code",
   "execution_count": 36,
   "metadata": {},
   "outputs": [
    {
     "data": {
      "text/html": [
       "<div>\n",
       "<style scoped>\n",
       "    .dataframe tbody tr th:only-of-type {\n",
       "        vertical-align: middle;\n",
       "    }\n",
       "\n",
       "    .dataframe tbody tr th {\n",
       "        vertical-align: top;\n",
       "    }\n",
       "\n",
       "    .dataframe thead th {\n",
       "        text-align: right;\n",
       "    }\n",
       "</style>\n",
       "<table border=\"1\" class=\"dataframe\">\n",
       "  <thead>\n",
       "    <tr style=\"text-align: right;\">\n",
       "      <th></th>\n",
       "      <th>price</th>\n",
       "      <th>power</th>\n",
       "      <th>kilometer</th>\n",
       "    </tr>\n",
       "  </thead>\n",
       "  <tbody>\n",
       "    <tr>\n",
       "      <th>0</th>\n",
       "      <td>480</td>\n",
       "      <td>0</td>\n",
       "      <td>150000</td>\n",
       "    </tr>\n",
       "    <tr>\n",
       "      <th>1</th>\n",
       "      <td>18300</td>\n",
       "      <td>190</td>\n",
       "      <td>125000</td>\n",
       "    </tr>\n",
       "    <tr>\n",
       "      <th>3</th>\n",
       "      <td>1500</td>\n",
       "      <td>75</td>\n",
       "      <td>150000</td>\n",
       "    </tr>\n",
       "    <tr>\n",
       "      <th>4</th>\n",
       "      <td>3600</td>\n",
       "      <td>69</td>\n",
       "      <td>90000</td>\n",
       "    </tr>\n",
       "    <tr>\n",
       "      <th>5</th>\n",
       "      <td>650</td>\n",
       "      <td>102</td>\n",
       "      <td>150000</td>\n",
       "    </tr>\n",
       "  </tbody>\n",
       "</table>\n",
       "</div>"
      ],
      "text/plain": [
       "   price  power  kilometer\n",
       "0    480      0     150000\n",
       "1  18300    190     125000\n",
       "3   1500     75     150000\n",
       "4   3600     69      90000\n",
       "5    650    102     150000"
      ]
     },
     "execution_count": 36,
     "metadata": {},
     "output_type": "execute_result"
    }
   ],
   "source": [
    "# Занесем категориальные признаки в отдельную переменную:\n",
    "ohe_columns = ['vehicle_type', 'gearbox', 'model', \n",
    "               'fuel_type', 'brand', \n",
    "               'not_repaired', 'registration_year',\n",
    "              'registration_group']\n",
    "\n",
    "# кодируем признаки\n",
    "ohe = pd.get_dummies(actual_data[ohe_columns], drop_first=True)\n",
    "\n",
    "# Удалим ненужные столбцы\n",
    "actual_data = actual_data.drop(['vehicle_type', 'gearbox', 'registration_year', 'model', 'fuel_type', 'brand', 'not_repaired', 'registration_group'], axis=1)\n",
    "actual_data.head()"
   ]
  },
  {
   "cell_type": "code",
   "execution_count": 37,
   "metadata": {},
   "outputs": [
    {
     "data": {
      "text/html": [
       "<div>\n",
       "<style scoped>\n",
       "    .dataframe tbody tr th:only-of-type {\n",
       "        vertical-align: middle;\n",
       "    }\n",
       "\n",
       "    .dataframe tbody tr th {\n",
       "        vertical-align: top;\n",
       "    }\n",
       "\n",
       "    .dataframe thead th {\n",
       "        text-align: right;\n",
       "    }\n",
       "</style>\n",
       "<table border=\"1\" class=\"dataframe\">\n",
       "  <thead>\n",
       "    <tr style=\"text-align: right;\">\n",
       "      <th></th>\n",
       "      <th>price</th>\n",
       "      <th>power</th>\n",
       "      <th>kilometer</th>\n",
       "      <th>vehicle_type_convertible</th>\n",
       "      <th>vehicle_type_coupe</th>\n",
       "      <th>vehicle_type_other</th>\n",
       "      <th>vehicle_type_sedan</th>\n",
       "      <th>vehicle_type_small</th>\n",
       "      <th>vehicle_type_suv</th>\n",
       "      <th>vehicle_type_wagon</th>\n",
       "      <th>...</th>\n",
       "      <th>registration_year_2013</th>\n",
       "      <th>registration_year_2014</th>\n",
       "      <th>registration_year_2015</th>\n",
       "      <th>registration_year_2016</th>\n",
       "      <th>registration_year_2017</th>\n",
       "      <th>registration_year_2018</th>\n",
       "      <th>registration_year_2019</th>\n",
       "      <th>registration_group_ретро</th>\n",
       "      <th>registration_group_средне-новая</th>\n",
       "      <th>registration_group_старая</th>\n",
       "    </tr>\n",
       "  </thead>\n",
       "  <tbody>\n",
       "    <tr>\n",
       "      <th>0</th>\n",
       "      <td>480</td>\n",
       "      <td>0</td>\n",
       "      <td>150000</td>\n",
       "      <td>0</td>\n",
       "      <td>0</td>\n",
       "      <td>0</td>\n",
       "      <td>0</td>\n",
       "      <td>1</td>\n",
       "      <td>0</td>\n",
       "      <td>0</td>\n",
       "      <td>...</td>\n",
       "      <td>0</td>\n",
       "      <td>0</td>\n",
       "      <td>0</td>\n",
       "      <td>0</td>\n",
       "      <td>0</td>\n",
       "      <td>0</td>\n",
       "      <td>0</td>\n",
       "      <td>1</td>\n",
       "      <td>0</td>\n",
       "      <td>0</td>\n",
       "    </tr>\n",
       "    <tr>\n",
       "      <th>1</th>\n",
       "      <td>18300</td>\n",
       "      <td>190</td>\n",
       "      <td>125000</td>\n",
       "      <td>0</td>\n",
       "      <td>1</td>\n",
       "      <td>0</td>\n",
       "      <td>0</td>\n",
       "      <td>0</td>\n",
       "      <td>0</td>\n",
       "      <td>0</td>\n",
       "      <td>...</td>\n",
       "      <td>0</td>\n",
       "      <td>0</td>\n",
       "      <td>0</td>\n",
       "      <td>0</td>\n",
       "      <td>0</td>\n",
       "      <td>0</td>\n",
       "      <td>0</td>\n",
       "      <td>0</td>\n",
       "      <td>1</td>\n",
       "      <td>0</td>\n",
       "    </tr>\n",
       "    <tr>\n",
       "      <th>3</th>\n",
       "      <td>1500</td>\n",
       "      <td>75</td>\n",
       "      <td>150000</td>\n",
       "      <td>0</td>\n",
       "      <td>0</td>\n",
       "      <td>0</td>\n",
       "      <td>0</td>\n",
       "      <td>1</td>\n",
       "      <td>0</td>\n",
       "      <td>0</td>\n",
       "      <td>...</td>\n",
       "      <td>0</td>\n",
       "      <td>0</td>\n",
       "      <td>0</td>\n",
       "      <td>0</td>\n",
       "      <td>0</td>\n",
       "      <td>0</td>\n",
       "      <td>0</td>\n",
       "      <td>0</td>\n",
       "      <td>0</td>\n",
       "      <td>1</td>\n",
       "    </tr>\n",
       "    <tr>\n",
       "      <th>4</th>\n",
       "      <td>3600</td>\n",
       "      <td>69</td>\n",
       "      <td>90000</td>\n",
       "      <td>0</td>\n",
       "      <td>0</td>\n",
       "      <td>0</td>\n",
       "      <td>0</td>\n",
       "      <td>1</td>\n",
       "      <td>0</td>\n",
       "      <td>0</td>\n",
       "      <td>...</td>\n",
       "      <td>0</td>\n",
       "      <td>0</td>\n",
       "      <td>0</td>\n",
       "      <td>0</td>\n",
       "      <td>0</td>\n",
       "      <td>0</td>\n",
       "      <td>0</td>\n",
       "      <td>0</td>\n",
       "      <td>0</td>\n",
       "      <td>1</td>\n",
       "    </tr>\n",
       "    <tr>\n",
       "      <th>5</th>\n",
       "      <td>650</td>\n",
       "      <td>102</td>\n",
       "      <td>150000</td>\n",
       "      <td>0</td>\n",
       "      <td>0</td>\n",
       "      <td>0</td>\n",
       "      <td>1</td>\n",
       "      <td>0</td>\n",
       "      <td>0</td>\n",
       "      <td>0</td>\n",
       "      <td>...</td>\n",
       "      <td>0</td>\n",
       "      <td>0</td>\n",
       "      <td>0</td>\n",
       "      <td>0</td>\n",
       "      <td>0</td>\n",
       "      <td>0</td>\n",
       "      <td>0</td>\n",
       "      <td>1</td>\n",
       "      <td>0</td>\n",
       "      <td>0</td>\n",
       "    </tr>\n",
       "    <tr>\n",
       "      <th>...</th>\n",
       "      <td>...</td>\n",
       "      <td>...</td>\n",
       "      <td>...</td>\n",
       "      <td>...</td>\n",
       "      <td>...</td>\n",
       "      <td>...</td>\n",
       "      <td>...</td>\n",
       "      <td>...</td>\n",
       "      <td>...</td>\n",
       "      <td>...</td>\n",
       "      <td>...</td>\n",
       "      <td>...</td>\n",
       "      <td>...</td>\n",
       "      <td>...</td>\n",
       "      <td>...</td>\n",
       "      <td>...</td>\n",
       "      <td>...</td>\n",
       "      <td>...</td>\n",
       "      <td>...</td>\n",
       "      <td>...</td>\n",
       "      <td>...</td>\n",
       "    </tr>\n",
       "    <tr>\n",
       "      <th>354362</th>\n",
       "      <td>3200</td>\n",
       "      <td>225</td>\n",
       "      <td>150000</td>\n",
       "      <td>0</td>\n",
       "      <td>0</td>\n",
       "      <td>0</td>\n",
       "      <td>1</td>\n",
       "      <td>0</td>\n",
       "      <td>0</td>\n",
       "      <td>0</td>\n",
       "      <td>...</td>\n",
       "      <td>0</td>\n",
       "      <td>0</td>\n",
       "      <td>0</td>\n",
       "      <td>0</td>\n",
       "      <td>0</td>\n",
       "      <td>0</td>\n",
       "      <td>0</td>\n",
       "      <td>0</td>\n",
       "      <td>0</td>\n",
       "      <td>1</td>\n",
       "    </tr>\n",
       "    <tr>\n",
       "      <th>354363</th>\n",
       "      <td>1150</td>\n",
       "      <td>0</td>\n",
       "      <td>150000</td>\n",
       "      <td>0</td>\n",
       "      <td>0</td>\n",
       "      <td>0</td>\n",
       "      <td>0</td>\n",
       "      <td>0</td>\n",
       "      <td>0</td>\n",
       "      <td>0</td>\n",
       "      <td>...</td>\n",
       "      <td>0</td>\n",
       "      <td>0</td>\n",
       "      <td>0</td>\n",
       "      <td>0</td>\n",
       "      <td>0</td>\n",
       "      <td>0</td>\n",
       "      <td>0</td>\n",
       "      <td>0</td>\n",
       "      <td>0</td>\n",
       "      <td>1</td>\n",
       "    </tr>\n",
       "    <tr>\n",
       "      <th>354366</th>\n",
       "      <td>1199</td>\n",
       "      <td>101</td>\n",
       "      <td>125000</td>\n",
       "      <td>1</td>\n",
       "      <td>0</td>\n",
       "      <td>0</td>\n",
       "      <td>0</td>\n",
       "      <td>0</td>\n",
       "      <td>0</td>\n",
       "      <td>0</td>\n",
       "      <td>...</td>\n",
       "      <td>0</td>\n",
       "      <td>0</td>\n",
       "      <td>0</td>\n",
       "      <td>0</td>\n",
       "      <td>0</td>\n",
       "      <td>0</td>\n",
       "      <td>0</td>\n",
       "      <td>0</td>\n",
       "      <td>0</td>\n",
       "      <td>1</td>\n",
       "    </tr>\n",
       "    <tr>\n",
       "      <th>354367</th>\n",
       "      <td>9200</td>\n",
       "      <td>102</td>\n",
       "      <td>150000</td>\n",
       "      <td>0</td>\n",
       "      <td>0</td>\n",
       "      <td>0</td>\n",
       "      <td>0</td>\n",
       "      <td>0</td>\n",
       "      <td>0</td>\n",
       "      <td>0</td>\n",
       "      <td>...</td>\n",
       "      <td>0</td>\n",
       "      <td>0</td>\n",
       "      <td>0</td>\n",
       "      <td>0</td>\n",
       "      <td>0</td>\n",
       "      <td>0</td>\n",
       "      <td>0</td>\n",
       "      <td>1</td>\n",
       "      <td>0</td>\n",
       "      <td>0</td>\n",
       "    </tr>\n",
       "    <tr>\n",
       "      <th>354368</th>\n",
       "      <td>3400</td>\n",
       "      <td>100</td>\n",
       "      <td>150000</td>\n",
       "      <td>0</td>\n",
       "      <td>0</td>\n",
       "      <td>0</td>\n",
       "      <td>0</td>\n",
       "      <td>0</td>\n",
       "      <td>0</td>\n",
       "      <td>1</td>\n",
       "      <td>...</td>\n",
       "      <td>0</td>\n",
       "      <td>0</td>\n",
       "      <td>0</td>\n",
       "      <td>0</td>\n",
       "      <td>0</td>\n",
       "      <td>0</td>\n",
       "      <td>0</td>\n",
       "      <td>0</td>\n",
       "      <td>0</td>\n",
       "      <td>1</td>\n",
       "    </tr>\n",
       "  </tbody>\n",
       "</table>\n",
       "<p>335060 rows × 344 columns</p>\n",
       "</div>"
      ],
      "text/plain": [
       "        price  power  kilometer  vehicle_type_convertible  vehicle_type_coupe  \\\n",
       "0         480      0     150000                         0                   0   \n",
       "1       18300    190     125000                         0                   1   \n",
       "3        1500     75     150000                         0                   0   \n",
       "4        3600     69      90000                         0                   0   \n",
       "5         650    102     150000                         0                   0   \n",
       "...       ...    ...        ...                       ...                 ...   \n",
       "354362   3200    225     150000                         0                   0   \n",
       "354363   1150      0     150000                         0                   0   \n",
       "354366   1199    101     125000                         1                   0   \n",
       "354367   9200    102     150000                         0                   0   \n",
       "354368   3400    100     150000                         0                   0   \n",
       "\n",
       "        vehicle_type_other  vehicle_type_sedan  vehicle_type_small  \\\n",
       "0                        0                   0                   1   \n",
       "1                        0                   0                   0   \n",
       "3                        0                   0                   1   \n",
       "4                        0                   0                   1   \n",
       "5                        0                   1                   0   \n",
       "...                    ...                 ...                 ...   \n",
       "354362                   0                   1                   0   \n",
       "354363                   0                   0                   0   \n",
       "354366                   0                   0                   0   \n",
       "354367                   0                   0                   0   \n",
       "354368                   0                   0                   0   \n",
       "\n",
       "        vehicle_type_suv  vehicle_type_wagon  ...  registration_year_2013  \\\n",
       "0                      0                   0  ...                       0   \n",
       "1                      0                   0  ...                       0   \n",
       "3                      0                   0  ...                       0   \n",
       "4                      0                   0  ...                       0   \n",
       "5                      0                   0  ...                       0   \n",
       "...                  ...                 ...  ...                     ...   \n",
       "354362                 0                   0  ...                       0   \n",
       "354363                 0                   0  ...                       0   \n",
       "354366                 0                   0  ...                       0   \n",
       "354367                 0                   0  ...                       0   \n",
       "354368                 0                   1  ...                       0   \n",
       "\n",
       "        registration_year_2014  registration_year_2015  \\\n",
       "0                            0                       0   \n",
       "1                            0                       0   \n",
       "3                            0                       0   \n",
       "4                            0                       0   \n",
       "5                            0                       0   \n",
       "...                        ...                     ...   \n",
       "354362                       0                       0   \n",
       "354363                       0                       0   \n",
       "354366                       0                       0   \n",
       "354367                       0                       0   \n",
       "354368                       0                       0   \n",
       "\n",
       "        registration_year_2016  registration_year_2017  \\\n",
       "0                            0                       0   \n",
       "1                            0                       0   \n",
       "3                            0                       0   \n",
       "4                            0                       0   \n",
       "5                            0                       0   \n",
       "...                        ...                     ...   \n",
       "354362                       0                       0   \n",
       "354363                       0                       0   \n",
       "354366                       0                       0   \n",
       "354367                       0                       0   \n",
       "354368                       0                       0   \n",
       "\n",
       "        registration_year_2018  registration_year_2019  \\\n",
       "0                            0                       0   \n",
       "1                            0                       0   \n",
       "3                            0                       0   \n",
       "4                            0                       0   \n",
       "5                            0                       0   \n",
       "...                        ...                     ...   \n",
       "354362                       0                       0   \n",
       "354363                       0                       0   \n",
       "354366                       0                       0   \n",
       "354367                       0                       0   \n",
       "354368                       0                       0   \n",
       "\n",
       "        registration_group_ретро  registration_group_средне-новая  \\\n",
       "0                              1                                0   \n",
       "1                              0                                1   \n",
       "3                              0                                0   \n",
       "4                              0                                0   \n",
       "5                              1                                0   \n",
       "...                          ...                              ...   \n",
       "354362                         0                                0   \n",
       "354363                         0                                0   \n",
       "354366                         0                                0   \n",
       "354367                         1                                0   \n",
       "354368                         0                                0   \n",
       "\n",
       "        registration_group_старая  \n",
       "0                               0  \n",
       "1                               0  \n",
       "3                               1  \n",
       "4                               1  \n",
       "5                               0  \n",
       "...                           ...  \n",
       "354362                          1  \n",
       "354363                          1  \n",
       "354366                          1  \n",
       "354367                          0  \n",
       "354368                          1  \n",
       "\n",
       "[335060 rows x 344 columns]"
      ]
     },
     "execution_count": 37,
     "metadata": {},
     "output_type": "execute_result"
    }
   ],
   "source": [
    "df_ohe = pd.concat([actual_data, ohe], axis=1)\n",
    "df_ohe"
   ]
  },
  {
   "cell_type": "code",
   "execution_count": 38,
   "metadata": {},
   "outputs": [
    {
     "name": "stdout",
     "output_type": "stream",
     "text": [
      "Объктов в train: 201036\n",
      "Объктов в valid: 67012\n",
      "Объктов в test: 67012\n",
      "Сумма объектов: 335060\n"
     ]
    }
   ],
   "source": [
    "features, target = split_data(df_ohe, 'price')\n",
    "\n",
    "features_df, features_valid, target_df, target_valid = train_test_split(features, \n",
    "                                                                        target, \n",
    "                                                                        test_size=0.20, \n",
    "                                                                        random_state=42)\n",
    "\n",
    "features_train, features_test, target_train, target_test = train_test_split(features_df, \n",
    "                                                                            target_df, \n",
    "                                                                            test_size=0.25, \n",
    "                                                                            random_state=42)\n",
    "\n",
    "print('Объктов в train:', len(features_train))\n",
    "print('Объктов в valid:', len(features_valid))\n",
    "print('Объктов в test:', len(features_test))\n",
    "print('Сумма объектов:', len(features_train) + len(features_test) + len(features_valid))"
   ]
  },
  {
   "cell_type": "code",
   "execution_count": 39,
   "metadata": {},
   "outputs": [
    {
     "name": "stdout",
     "output_type": "stream",
     "text": [
      "RMSE линейной регресси: 2211.8089078214757\n",
      "Время обучения: 36.25577640533447\n",
      "Скорость предсказания 1649839818.2045047\n"
     ]
    }
   ],
   "source": [
    "time_start = time.time()\n",
    "model = LinearRegression()\n",
    "model.fit(features_train, target_train)\n",
    "time_linear_fit = time.time() - time_start\n",
    "predict_valid = model.predict(features_valid)\n",
    "time_linear_predict = time.time() - time_linear_fit\n",
    "result_linear = mean_squared_error(target_valid, predict_valid) ** 0.5\n",
    "print('RMSE линейной регресси:', result_linear)\n",
    "print('Время обучения:', time_linear_fit)\n",
    "print('Скорость предсказания', time_linear_predict)"
   ]
  },
  {
   "cell_type": "markdown",
   "metadata": {},
   "source": [
    "## Анализ моделей"
   ]
  },
  {
   "cell_type": "markdown",
   "metadata": {},
   "source": [
    "Для более наглядного сравнения, создадим сводную таблицу по каждой модели с указанием качества предсказания, скорости и времени обучения."
   ]
  },
  {
   "cell_type": "code",
   "execution_count": 40,
   "metadata": {},
   "outputs": [
    {
     "data": {
      "text/html": [
       "<div>\n",
       "<style scoped>\n",
       "    .dataframe tbody tr th:only-of-type {\n",
       "        vertical-align: middle;\n",
       "    }\n",
       "\n",
       "    .dataframe tbody tr th {\n",
       "        vertical-align: top;\n",
       "    }\n",
       "\n",
       "    .dataframe thead th {\n",
       "        text-align: right;\n",
       "    }\n",
       "</style>\n",
       "<table border=\"1\" class=\"dataframe\">\n",
       "  <thead>\n",
       "    <tr style=\"text-align: right;\">\n",
       "      <th></th>\n",
       "      <th>Параметр</th>\n",
       "      <th>LightGBM</th>\n",
       "      <th>CatBoost</th>\n",
       "      <th>Linear_regression</th>\n",
       "    </tr>\n",
       "  </thead>\n",
       "  <tbody>\n",
       "    <tr>\n",
       "      <th>0</th>\n",
       "      <td>Качество предсказаний</td>\n",
       "      <td>1544.466930</td>\n",
       "      <td>1.526553e+03</td>\n",
       "      <td>2.211809e+03</td>\n",
       "    </tr>\n",
       "    <tr>\n",
       "      <th>1</th>\n",
       "      <td>Скорость предсказаний</td>\n",
       "      <td>15.457278</td>\n",
       "      <td>1.649840e+09</td>\n",
       "      <td>1.649840e+09</td>\n",
       "    </tr>\n",
       "    <tr>\n",
       "      <th>2</th>\n",
       "      <td>Время обучения</td>\n",
       "      <td>14.734466</td>\n",
       "      <td>2.742769e+02</td>\n",
       "      <td>3.625578e+01</td>\n",
       "    </tr>\n",
       "  </tbody>\n",
       "</table>\n",
       "</div>"
      ],
      "text/plain": [
       "                Параметр     LightGBM      CatBoost  Linear_regression\n",
       "0  Качество предсказаний  1544.466930  1.526553e+03       2.211809e+03\n",
       "1  Скорость предсказаний    15.457278  1.649840e+09       1.649840e+09\n",
       "2         Время обучения    14.734466  2.742769e+02       3.625578e+01"
      ]
     },
     "execution_count": 40,
     "metadata": {},
     "output_type": "execute_result"
    }
   ],
   "source": [
    "data=data = [['Качество предсказаний', result_lgbm, result_cat, result_linear], \n",
    "             ['Скорость предсказаний', time_lgbm_predict, time_cat_predict, time_linear_predict],\n",
    "            ['Время обучения', time_lgbm_fit, time_cat_fit, time_linear_fit]]\n",
    "columns = ['Параметр', 'LightGBM', 'CatBoost', 'Linear_regression']\n",
    "table = pd.DataFrame(data = data, columns = columns )\n",
    "\n",
    "table"
   ]
  },
  {
   "cell_type": "markdown",
   "metadata": {},
   "source": [
    "## Общий вывод\n",
    "Для выполнения поставленной задачи был проведён предварительный анализ, который показал, что таблица содержит более 350 тыс. наблюдений о характеристиках и стоимости автомоблией. \n",
    "\n",
    "Было установлено, что строки содержат пропуски в столбцах с категориальными значениями. Обнаруженные пропуски были заменены на значения моды в сгруппированном датасете по марке автомобилей и их ценам. Незначительное количество оставшихся пропусков было удалено из датасета.\n",
    "\n",
    "Кроме того, в данных присутствовали аномальные значения, такие как регистрации транспортого средства в 1001 году или цена автомобиля, равная нулю. Чтобы избежать некорректные значения, был создан срез данных с регистрацией от 1980 по 2021 год и ценой, не равной нулю. \n",
    "\n",
    "Учитывая, что в разные года регистрация по-своему влияла на цену автомобиля, данные были разбиты на четыре категории: новая, средне-новая, старая и ретро. \n",
    "\n",
    "Таким образом, для обучения были созданы три модели машинного обучения: LightGBM, CatBoost и линейная регрессия. При сравнении моделей по качеству предсказаний лучший результат дал CatBoost. Рузельтат чуть ниже показал LightGBM. В то же время, LightGBM имеет большую скорость обучения. Поэтому при создании приложения, определяющего цены, рекомендуется использовать именно LightGBM, поскольку у него самые оптимальные характеристики.\n"
   ]
  }
 ],
 "metadata": {
  "ExecuteTimeLog": [
   {
    "duration": 9,
    "start_time": "2022-01-03T10:33:25.068Z"
   },
   {
    "duration": 4,
    "start_time": "2022-01-03T10:44:22.499Z"
   },
   {
    "duration": 4,
    "start_time": "2022-01-03T10:44:29.462Z"
   },
   {
    "duration": 3,
    "start_time": "2022-01-03T10:44:33.008Z"
   },
   {
    "duration": 3,
    "start_time": "2022-01-03T10:45:48.858Z"
   },
   {
    "duration": 1308,
    "start_time": "2022-01-07T09:39:15.852Z"
   },
   {
    "duration": 1031,
    "start_time": "2022-01-07T09:39:40.928Z"
   },
   {
    "duration": 1256,
    "start_time": "2022-01-07T09:39:44.243Z"
   },
   {
    "duration": 40,
    "start_time": "2022-01-07T09:39:55.634Z"
   },
   {
    "duration": 6,
    "start_time": "2022-01-07T09:40:26.136Z"
   },
   {
    "duration": 164,
    "start_time": "2022-01-07T09:40:34.934Z"
   },
   {
    "duration": 7,
    "start_time": "2022-01-07T09:40:42.763Z"
   },
   {
    "duration": 186,
    "start_time": "2022-01-07T09:40:56.058Z"
   },
   {
    "duration": 58,
    "start_time": "2022-01-07T09:41:23.148Z"
   },
   {
    "duration": 591,
    "start_time": "2022-01-07T09:41:47.435Z"
   },
   {
    "duration": 576,
    "start_time": "2022-01-07T09:42:51.673Z"
   },
   {
    "duration": 7,
    "start_time": "2022-01-07T09:57:28.103Z"
   },
   {
    "duration": 37,
    "start_time": "2022-01-07T09:58:35.256Z"
   },
   {
    "duration": 5,
    "start_time": "2022-01-07T09:58:38.478Z"
   },
   {
    "duration": 155,
    "start_time": "2022-01-07T09:58:40.453Z"
   },
   {
    "duration": 7,
    "start_time": "2022-01-07T09:58:44.380Z"
   },
   {
    "duration": 145,
    "start_time": "2022-01-07T09:58:46.935Z"
   },
   {
    "duration": 771,
    "start_time": "2022-01-08T07:05:41.100Z"
   },
   {
    "duration": 9,
    "start_time": "2022-01-08T07:05:47.047Z"
   },
   {
    "duration": 1219,
    "start_time": "2022-01-08T07:05:47.058Z"
   },
   {
    "duration": 1417,
    "start_time": "2022-01-08T07:05:48.279Z"
   },
   {
    "duration": 25,
    "start_time": "2022-01-08T07:05:49.698Z"
   },
   {
    "duration": 18,
    "start_time": "2022-01-08T07:05:49.725Z"
   },
   {
    "duration": 171,
    "start_time": "2022-01-08T07:05:49.745Z"
   },
   {
    "duration": 6,
    "start_time": "2022-01-08T07:05:49.918Z"
   },
   {
    "duration": 157,
    "start_time": "2022-01-08T07:05:49.927Z"
   },
   {
    "duration": 152,
    "start_time": "2022-01-08T07:05:50.086Z"
   },
   {
    "duration": 349,
    "start_time": "2022-01-08T07:09:18.989Z"
   },
   {
    "duration": 4,
    "start_time": "2022-01-08T09:24:42.153Z"
   },
   {
    "duration": 6,
    "start_time": "2022-01-08T09:24:42.159Z"
   },
   {
    "duration": 733,
    "start_time": "2022-01-08T09:24:42.167Z"
   },
   {
    "duration": 22,
    "start_time": "2022-01-08T09:24:42.902Z"
   },
   {
    "duration": 3,
    "start_time": "2022-01-08T09:24:42.925Z"
   },
   {
    "duration": 136,
    "start_time": "2022-01-08T09:24:42.929Z"
   },
   {
    "duration": 4,
    "start_time": "2022-01-08T09:24:43.067Z"
   },
   {
    "duration": 95,
    "start_time": "2022-01-08T09:24:43.073Z"
   },
   {
    "duration": 115,
    "start_time": "2022-01-08T09:24:43.169Z"
   },
   {
    "duration": 12,
    "start_time": "2022-01-08T09:24:43.286Z"
   },
   {
    "duration": 362,
    "start_time": "2022-01-08T09:29:45.283Z"
   },
   {
    "duration": 265,
    "start_time": "2022-01-08T09:30:07.684Z"
   },
   {
    "duration": 146,
    "start_time": "2022-01-08T09:30:13.214Z"
   },
   {
    "duration": 126,
    "start_time": "2022-01-08T09:30:29.915Z"
   },
   {
    "duration": 135,
    "start_time": "2022-01-08T09:31:04.343Z"
   },
   {
    "duration": 114,
    "start_time": "2022-01-08T09:31:13.205Z"
   },
   {
    "duration": 241,
    "start_time": "2022-01-08T09:34:38.537Z"
   },
   {
    "duration": 340,
    "start_time": "2022-01-08T09:34:47.501Z"
   },
   {
    "duration": 4,
    "start_time": "2022-01-08T09:41:17.142Z"
   },
   {
    "duration": 31,
    "start_time": "2022-01-08T09:49:41.697Z"
   },
   {
    "duration": 4,
    "start_time": "2022-01-08T10:10:34.487Z"
   },
   {
    "duration": 5,
    "start_time": "2022-01-08T10:10:34.493Z"
   },
   {
    "duration": 776,
    "start_time": "2022-01-08T10:10:34.500Z"
   },
   {
    "duration": 24,
    "start_time": "2022-01-08T10:10:35.278Z"
   },
   {
    "duration": 5,
    "start_time": "2022-01-08T10:10:35.304Z"
   },
   {
    "duration": 149,
    "start_time": "2022-01-08T10:10:35.311Z"
   },
   {
    "duration": 6,
    "start_time": "2022-01-08T10:10:35.462Z"
   },
   {
    "duration": 116,
    "start_time": "2022-01-08T10:10:35.471Z"
   },
   {
    "duration": 125,
    "start_time": "2022-01-08T10:10:35.589Z"
   },
   {
    "duration": 313,
    "start_time": "2022-01-08T10:10:35.716Z"
   },
   {
    "duration": 55,
    "start_time": "2022-01-08T10:10:36.032Z"
   },
   {
    "duration": 189,
    "start_time": "2022-01-08T10:10:36.089Z"
   },
   {
    "duration": 295,
    "start_time": "2022-01-08T10:19:01.202Z"
   },
   {
    "duration": 258,
    "start_time": "2022-01-08T10:19:29.676Z"
   },
   {
    "duration": 304,
    "start_time": "2022-01-08T10:19:35.409Z"
   },
   {
    "duration": 241,
    "start_time": "2022-01-08T10:19:39.177Z"
   },
   {
    "duration": 50,
    "start_time": "2022-01-08T10:20:18.819Z"
   },
   {
    "duration": 72,
    "start_time": "2022-01-08T10:21:34.188Z"
   },
   {
    "duration": 4,
    "start_time": "2022-01-08T10:43:59.480Z"
   },
   {
    "duration": 86,
    "start_time": "2022-01-08T10:47:19.920Z"
   },
   {
    "duration": 8454,
    "start_time": "2022-01-08T10:47:26.241Z"
   },
   {
    "duration": 8062,
    "start_time": "2022-01-08T10:48:10.923Z"
   },
   {
    "duration": 103,
    "start_time": "2022-01-08T11:24:27.326Z"
   },
   {
    "duration": 7154,
    "start_time": "2022-01-08T11:24:32.284Z"
   },
   {
    "duration": 5,
    "start_time": "2022-01-08T11:31:31.828Z"
   },
   {
    "duration": 65,
    "start_time": "2022-01-08T11:33:01.864Z"
   },
   {
    "duration": 6962,
    "start_time": "2022-01-08T11:33:07.137Z"
   },
   {
    "duration": 18,
    "start_time": "2022-01-08T11:34:51.956Z"
   },
   {
    "duration": 96,
    "start_time": "2022-01-08T11:35:37.247Z"
   },
   {
    "duration": 39,
    "start_time": "2022-01-08T11:37:53.244Z"
   },
   {
    "duration": 7716,
    "start_time": "2022-01-08T11:37:58.058Z"
   },
   {
    "duration": 9,
    "start_time": "2022-01-09T06:50:42.921Z"
   },
   {
    "duration": 1611,
    "start_time": "2022-01-09T06:50:42.932Z"
   },
   {
    "duration": 1177,
    "start_time": "2022-01-09T06:50:44.545Z"
   },
   {
    "duration": 47,
    "start_time": "2022-01-09T06:50:45.724Z"
   },
   {
    "duration": 4,
    "start_time": "2022-01-09T06:50:45.773Z"
   },
   {
    "duration": 135,
    "start_time": "2022-01-09T06:50:45.778Z"
   },
   {
    "duration": 5,
    "start_time": "2022-01-09T06:50:45.914Z"
   },
   {
    "duration": 149,
    "start_time": "2022-01-09T06:50:45.920Z"
   },
   {
    "duration": 123,
    "start_time": "2022-01-09T06:50:46.071Z"
   },
   {
    "duration": 350,
    "start_time": "2022-01-09T06:50:46.196Z"
   },
   {
    "duration": 157,
    "start_time": "2022-01-09T06:50:46.548Z"
   },
   {
    "duration": 5,
    "start_time": "2022-01-09T06:50:46.707Z"
   },
   {
    "duration": 5,
    "start_time": "2022-01-09T06:50:46.714Z"
   },
   {
    "duration": 271,
    "start_time": "2022-01-09T06:50:46.720Z"
   },
   {
    "duration": 36,
    "start_time": "2022-01-09T06:50:46.993Z"
   },
   {
    "duration": 7243,
    "start_time": "2022-01-09T06:50:47.031Z"
   },
   {
    "duration": -2731,
    "start_time": "2022-01-09T06:50:57.007Z"
   },
   {
    "duration": 19,
    "start_time": "2022-01-09T06:51:42.589Z"
   },
   {
    "duration": 18,
    "start_time": "2022-01-09T06:52:39.503Z"
   },
   {
    "duration": 43,
    "start_time": "2022-01-09T06:53:28.927Z"
   },
   {
    "duration": 7068,
    "start_time": "2022-01-09T06:53:34.701Z"
   },
   {
    "duration": 39,
    "start_time": "2022-01-09T06:54:49.892Z"
   },
   {
    "duration": 8213,
    "start_time": "2022-01-09T06:54:54.997Z"
   },
   {
    "duration": 306,
    "start_time": "2022-01-09T06:55:35.513Z"
   },
   {
    "duration": 16,
    "start_time": "2022-01-09T07:01:43.862Z"
   },
   {
    "duration": 179,
    "start_time": "2022-01-09T07:05:31.927Z"
   },
   {
    "duration": 79,
    "start_time": "2022-01-09T07:06:32.065Z"
   },
   {
    "duration": 5,
    "start_time": "2022-01-09T07:45:46.243Z"
   },
   {
    "duration": 281,
    "start_time": "2022-01-09T07:51:13.392Z"
   },
   {
    "duration": 5,
    "start_time": "2022-01-09T07:51:22.684Z"
   },
   {
    "duration": 78,
    "start_time": "2022-01-09T07:56:54.264Z"
   },
   {
    "duration": 356,
    "start_time": "2022-01-09T07:57:04.871Z"
   },
   {
    "duration": 261,
    "start_time": "2022-01-09T07:57:35.664Z"
   },
   {
    "duration": 4,
    "start_time": "2022-01-09T07:58:00.566Z"
   },
   {
    "duration": 258,
    "start_time": "2022-01-09T07:58:13.069Z"
   },
   {
    "duration": 253,
    "start_time": "2022-01-09T07:58:45.665Z"
   },
   {
    "duration": 268,
    "start_time": "2022-01-09T08:00:03.229Z"
   },
   {
    "duration": 253,
    "start_time": "2022-01-09T08:03:49.760Z"
   },
   {
    "duration": 82,
    "start_time": "2022-01-09T08:03:58.654Z"
   },
   {
    "duration": 40,
    "start_time": "2022-01-09T08:04:07.117Z"
   },
   {
    "duration": 4,
    "start_time": "2022-01-09T08:04:10.086Z"
   },
   {
    "duration": 293,
    "start_time": "2022-01-09T08:04:11.457Z"
   },
   {
    "duration": 100,
    "start_time": "2022-01-09T08:04:41.448Z"
   },
   {
    "duration": 7073,
    "start_time": "2022-01-09T08:05:32.499Z"
   },
   {
    "duration": 5,
    "start_time": "2022-01-09T08:06:00.942Z"
   },
   {
    "duration": 19,
    "start_time": "2022-01-09T08:06:00.949Z"
   },
   {
    "duration": 790,
    "start_time": "2022-01-09T08:06:00.970Z"
   },
   {
    "duration": 22,
    "start_time": "2022-01-09T08:06:01.762Z"
   },
   {
    "duration": 3,
    "start_time": "2022-01-09T08:06:01.786Z"
   },
   {
    "duration": 141,
    "start_time": "2022-01-09T08:06:01.791Z"
   },
   {
    "duration": 5,
    "start_time": "2022-01-09T08:06:01.933Z"
   },
   {
    "duration": 92,
    "start_time": "2022-01-09T08:06:01.940Z"
   },
   {
    "duration": 143,
    "start_time": "2022-01-09T08:06:02.034Z"
   },
   {
    "duration": 255,
    "start_time": "2022-01-09T08:06:02.179Z"
   },
   {
    "duration": 44,
    "start_time": "2022-01-09T08:06:02.436Z"
   },
   {
    "duration": 4,
    "start_time": "2022-01-09T08:06:02.482Z"
   },
   {
    "duration": 6055,
    "start_time": "2022-01-09T08:06:02.488Z"
   },
   {
    "duration": -2747,
    "start_time": "2022-01-09T08:06:11.292Z"
   },
   {
    "duration": 46,
    "start_time": "2022-01-09T08:07:38.808Z"
   },
   {
    "duration": 4,
    "start_time": "2022-01-09T08:07:40.033Z"
   },
   {
    "duration": 5777,
    "start_time": "2022-01-09T08:07:40.948Z"
   },
   {
    "duration": 5946,
    "start_time": "2022-01-09T08:19:45.175Z"
   },
   {
    "duration": 104,
    "start_time": "2022-01-09T08:20:42.188Z"
   },
   {
    "duration": 7412,
    "start_time": "2022-01-09T08:21:01.779Z"
   },
   {
    "duration": 194,
    "start_time": "2022-01-09T08:21:53.078Z"
   },
   {
    "duration": 6738,
    "start_time": "2022-01-09T08:21:56.630Z"
   },
   {
    "duration": 23,
    "start_time": "2022-01-09T08:31:03.190Z"
   },
   {
    "duration": 4,
    "start_time": "2022-01-09T08:31:05.844Z"
   },
   {
    "duration": 181,
    "start_time": "2022-01-09T08:31:15.604Z"
   },
   {
    "duration": 249,
    "start_time": "2022-01-09T08:31:18.364Z"
   },
   {
    "duration": 5907,
    "start_time": "2022-01-09T08:31:40.169Z"
   },
   {
    "duration": 230,
    "start_time": "2022-01-09T08:34:34.981Z"
   },
   {
    "duration": 6272,
    "start_time": "2022-01-09T08:35:10.966Z"
   },
   {
    "duration": 5928,
    "start_time": "2022-01-09T08:35:57.590Z"
   },
   {
    "duration": 4,
    "start_time": "2022-01-09T09:21:59.833Z"
   },
   {
    "duration": 5,
    "start_time": "2022-01-09T09:23:25.345Z"
   },
   {
    "duration": 462,
    "start_time": "2022-01-09T09:23:49.479Z"
   },
   {
    "duration": 352,
    "start_time": "2022-01-09T09:24:43.120Z"
   },
   {
    "duration": 257,
    "start_time": "2022-01-09T09:30:13.732Z"
   },
   {
    "duration": 87,
    "start_time": "2022-01-09T09:30:47.379Z"
   },
   {
    "duration": 549,
    "start_time": "2022-01-09T09:31:09.179Z"
   },
   {
    "duration": 4,
    "start_time": "2022-01-09T11:17:24.798Z"
   },
   {
    "duration": 4,
    "start_time": "2022-01-09T11:19:12.341Z"
   },
   {
    "duration": 248,
    "start_time": "2022-01-09T11:29:56.871Z"
   },
   {
    "duration": 4,
    "start_time": "2022-01-09T11:32:03.172Z"
   },
   {
    "duration": 4,
    "start_time": "2022-01-09T11:32:03.178Z"
   },
   {
    "duration": 763,
    "start_time": "2022-01-09T11:32:03.184Z"
   },
   {
    "duration": 28,
    "start_time": "2022-01-09T11:32:03.949Z"
   },
   {
    "duration": 4,
    "start_time": "2022-01-09T11:32:03.978Z"
   },
   {
    "duration": 142,
    "start_time": "2022-01-09T11:32:03.984Z"
   },
   {
    "duration": 5,
    "start_time": "2022-01-09T11:32:04.127Z"
   },
   {
    "duration": 134,
    "start_time": "2022-01-09T11:32:04.134Z"
   },
   {
    "duration": 243,
    "start_time": "2022-01-09T11:32:04.271Z"
   },
   {
    "duration": 33,
    "start_time": "2022-01-09T11:32:04.483Z"
   },
   {
    "duration": 29,
    "start_time": "2022-01-09T11:32:20.468Z"
   },
   {
    "duration": 4,
    "start_time": "2022-01-09T11:32:38.131Z"
   },
   {
    "duration": 995,
    "start_time": "2022-01-09T11:38:45.907Z"
   },
   {
    "duration": 1841,
    "start_time": "2022-01-09T11:41:58.512Z"
   },
   {
    "duration": 475,
    "start_time": "2022-01-09T12:05:50.314Z"
   },
   {
    "duration": 4,
    "start_time": "2022-01-09T12:06:05.822Z"
   },
   {
    "duration": 4879,
    "start_time": "2022-01-09T12:09:38.544Z"
   },
   {
    "duration": 5168,
    "start_time": "2022-01-09T12:10:43.881Z"
   },
   {
    "duration": 166,
    "start_time": "2022-01-09T12:13:23.028Z"
   },
   {
    "duration": 688,
    "start_time": "2022-01-09T12:13:33.868Z"
   },
   {
    "duration": 172,
    "start_time": "2022-01-09T12:14:11.892Z"
   },
   {
    "duration": 607,
    "start_time": "2022-01-09T12:14:27.320Z"
   },
   {
    "duration": 305,
    "start_time": "2022-01-09T12:45:30.126Z"
   },
   {
    "duration": 1268,
    "start_time": "2022-01-09T12:45:39.339Z"
   },
   {
    "duration": 294,
    "start_time": "2022-01-09T12:45:46.435Z"
   },
   {
    "duration": 5,
    "start_time": "2022-01-09T12:45:51.612Z"
   },
   {
    "duration": 24,
    "start_time": "2022-01-09T12:45:51.619Z"
   },
   {
    "duration": 885,
    "start_time": "2022-01-09T12:45:51.645Z"
   },
   {
    "duration": 33,
    "start_time": "2022-01-09T12:45:52.532Z"
   },
   {
    "duration": 6,
    "start_time": "2022-01-09T12:45:52.567Z"
   },
   {
    "duration": 141,
    "start_time": "2022-01-09T12:45:52.575Z"
   },
   {
    "duration": 5,
    "start_time": "2022-01-09T12:45:52.718Z"
   },
   {
    "duration": 174,
    "start_time": "2022-01-09T12:45:52.725Z"
   },
   {
    "duration": 64,
    "start_time": "2022-01-09T12:45:52.901Z"
   },
   {
    "duration": 1055,
    "start_time": "2022-01-09T12:45:52.967Z"
   },
   {
    "duration": 1613,
    "start_time": "2022-01-09T12:45:54.023Z"
   },
   {
    "duration": 9284,
    "start_time": "2022-01-09T12:45:55.637Z"
   },
   {
    "duration": 349,
    "start_time": "2022-01-09T12:49:51.095Z"
   },
   {
    "duration": 3,
    "start_time": "2022-01-09T12:50:08.471Z"
   },
   {
    "duration": 251,
    "start_time": "2022-01-09T12:50:10.773Z"
   },
   {
    "duration": 84,
    "start_time": "2022-01-09T12:52:14.314Z"
   },
   {
    "duration": 259,
    "start_time": "2022-01-09T12:52:26.537Z"
   },
   {
    "duration": 3,
    "start_time": "2022-01-09T12:52:30.015Z"
   },
   {
    "duration": 292,
    "start_time": "2022-01-09T12:52:30.918Z"
   },
   {
    "duration": 6442,
    "start_time": "2022-01-09T12:52:49.271Z"
   },
   {
    "duration": 265,
    "start_time": "2022-01-09T12:53:41.537Z"
   },
   {
    "duration": 3,
    "start_time": "2022-01-09T12:53:44.655Z"
   },
   {
    "duration": 6694,
    "start_time": "2022-01-09T12:53:45.288Z"
   },
   {
    "duration": 5,
    "start_time": "2022-01-09T12:55:07.681Z"
   },
   {
    "duration": 4,
    "start_time": "2022-01-09T12:55:07.690Z"
   },
   {
    "duration": 1158,
    "start_time": "2022-01-09T12:55:07.696Z"
   },
   {
    "duration": 22,
    "start_time": "2022-01-09T12:55:08.856Z"
   },
   {
    "duration": 3,
    "start_time": "2022-01-09T12:55:08.880Z"
   },
   {
    "duration": 139,
    "start_time": "2022-01-09T12:55:08.885Z"
   },
   {
    "duration": 4,
    "start_time": "2022-01-09T12:55:09.026Z"
   },
   {
    "duration": 123,
    "start_time": "2022-01-09T12:55:09.032Z"
   },
   {
    "duration": 35,
    "start_time": "2022-01-09T12:55:09.157Z"
   },
   {
    "duration": 1016,
    "start_time": "2022-01-09T12:55:09.194Z"
   },
   {
    "duration": 1598,
    "start_time": "2022-01-09T12:55:10.212Z"
   },
   {
    "duration": 3,
    "start_time": "2022-01-09T12:55:11.812Z"
   },
   {
    "duration": 6274,
    "start_time": "2022-01-09T12:55:11.817Z"
   },
   {
    "duration": 4,
    "start_time": "2022-01-09T12:55:39.669Z"
   },
   {
    "duration": 5,
    "start_time": "2022-01-09T12:55:39.676Z"
   },
   {
    "duration": 772,
    "start_time": "2022-01-09T12:55:39.684Z"
   },
   {
    "duration": 23,
    "start_time": "2022-01-09T12:55:40.460Z"
   },
   {
    "duration": 4,
    "start_time": "2022-01-09T12:55:40.485Z"
   },
   {
    "duration": 136,
    "start_time": "2022-01-09T12:55:40.490Z"
   },
   {
    "duration": 5,
    "start_time": "2022-01-09T12:55:40.628Z"
   },
   {
    "duration": 119,
    "start_time": "2022-01-09T12:55:40.634Z"
   },
   {
    "duration": 36,
    "start_time": "2022-01-09T12:55:40.756Z"
   },
   {
    "duration": 1578,
    "start_time": "2022-01-09T12:55:40.794Z"
   },
   {
    "duration": 3,
    "start_time": "2022-01-09T12:55:42.375Z"
   },
   {
    "duration": 5905,
    "start_time": "2022-01-09T12:55:42.380Z"
   },
   {
    "duration": 32,
    "start_time": "2022-01-09T13:03:05.365Z"
   },
   {
    "duration": 4,
    "start_time": "2022-01-09T13:04:22.400Z"
   },
   {
    "duration": 6,
    "start_time": "2022-01-09T13:04:22.406Z"
   },
   {
    "duration": 1113,
    "start_time": "2022-01-09T13:04:22.414Z"
   },
   {
    "duration": 30,
    "start_time": "2022-01-09T13:04:23.530Z"
   },
   {
    "duration": 3,
    "start_time": "2022-01-09T13:04:23.562Z"
   },
   {
    "duration": 133,
    "start_time": "2022-01-09T13:04:23.567Z"
   },
   {
    "duration": 5,
    "start_time": "2022-01-09T13:04:23.701Z"
   },
   {
    "duration": 91,
    "start_time": "2022-01-09T13:04:23.707Z"
   },
   {
    "duration": 36,
    "start_time": "2022-01-09T13:04:23.800Z"
   },
   {
    "duration": 1603,
    "start_time": "2022-01-09T13:04:23.838Z"
   },
   {
    "duration": 3,
    "start_time": "2022-01-09T13:04:25.443Z"
   },
   {
    "duration": 9863,
    "start_time": "2022-01-09T13:04:25.460Z"
   },
   {
    "duration": 31,
    "start_time": "2022-01-09T13:04:35.295Z"
   },
   {
    "duration": 20,
    "start_time": "2022-01-09T13:04:40.153Z"
   },
   {
    "duration": 1778,
    "start_time": "2022-01-09T13:06:11.898Z"
   },
   {
    "duration": 3,
    "start_time": "2022-01-09T13:06:19.029Z"
   },
   {
    "duration": 5586,
    "start_time": "2022-01-09T13:06:24.477Z"
   },
   {
    "duration": 19,
    "start_time": "2022-01-09T13:06:37.428Z"
   },
   {
    "duration": 51,
    "start_time": "2022-01-09T13:07:33.885Z"
   },
   {
    "duration": 1506,
    "start_time": "2022-01-09T13:07:42.508Z"
   },
   {
    "duration": 4,
    "start_time": "2022-01-09T13:07:47.737Z"
   },
   {
    "duration": 6029,
    "start_time": "2022-01-09T13:07:54.575Z"
   },
   {
    "duration": 82,
    "start_time": "2022-01-09T13:08:07.988Z"
   },
   {
    "duration": 339,
    "start_time": "2022-01-09T13:36:40.526Z"
   },
   {
    "duration": 3,
    "start_time": "2022-01-09T13:36:44.353Z"
   },
   {
    "duration": 6619,
    "start_time": "2022-01-09T13:36:46.643Z"
   },
   {
    "duration": 212,
    "start_time": "2022-01-09T13:37:36.694Z"
   },
   {
    "duration": 3,
    "start_time": "2022-01-09T13:37:40.455Z"
   },
   {
    "duration": 5771,
    "start_time": "2022-01-09T13:37:43.290Z"
   },
   {
    "duration": 154,
    "start_time": "2022-01-09T13:39:15.757Z"
   },
   {
    "duration": 167,
    "start_time": "2022-01-09T13:46:42.023Z"
   },
   {
    "duration": 53,
    "start_time": "2022-01-09T13:47:11.956Z"
   },
   {
    "duration": 3,
    "start_time": "2022-01-09T14:03:00.732Z"
   },
   {
    "duration": 8285,
    "start_time": "2022-01-09T14:07:58.054Z"
   },
   {
    "duration": 12125,
    "start_time": "2022-01-09T14:19:00.836Z"
   },
   {
    "duration": 12106,
    "start_time": "2022-01-09T14:19:40.323Z"
   },
   {
    "duration": 12453,
    "start_time": "2022-01-09T14:20:25.633Z"
   },
   {
    "duration": 123,
    "start_time": "2022-01-09T14:20:40.012Z"
   },
   {
    "duration": 2,
    "start_time": "2022-01-09T14:21:08.081Z"
   },
   {
    "duration": 125,
    "start_time": "2022-01-09T14:21:09.746Z"
   },
   {
    "duration": 4,
    "start_time": "2022-01-09T14:21:52.044Z"
   },
   {
    "duration": 20,
    "start_time": "2022-01-09T14:21:52.050Z"
   },
   {
    "duration": 791,
    "start_time": "2022-01-09T14:21:52.072Z"
   },
   {
    "duration": 22,
    "start_time": "2022-01-09T14:21:52.865Z"
   },
   {
    "duration": 21,
    "start_time": "2022-01-09T14:21:52.889Z"
   },
   {
    "duration": 145,
    "start_time": "2022-01-09T14:21:52.911Z"
   },
   {
    "duration": 15,
    "start_time": "2022-01-09T14:21:53.058Z"
   },
   {
    "duration": 95,
    "start_time": "2022-01-09T14:21:53.075Z"
   },
   {
    "duration": 2,
    "start_time": "2022-01-09T14:21:53.172Z"
   },
   {
    "duration": 147,
    "start_time": "2022-01-09T14:21:53.175Z"
   },
   {
    "duration": 32,
    "start_time": "2022-01-09T14:21:53.324Z"
   },
   {
    "duration": 168,
    "start_time": "2022-01-09T14:21:53.358Z"
   },
   {
    "duration": 2,
    "start_time": "2022-01-09T14:21:53.528Z"
   },
   {
    "duration": 5797,
    "start_time": "2022-01-09T14:21:53.532Z"
   },
   {
    "duration": 66,
    "start_time": "2022-01-09T14:21:59.264Z"
   },
   {
    "duration": 11764,
    "start_time": "2022-01-09T14:22:29.324Z"
   },
   {
    "duration": 127,
    "start_time": "2022-01-09T14:22:41.090Z"
   },
   {
    "duration": 33,
    "start_time": "2022-01-09T14:23:24.671Z"
   },
   {
    "duration": 118,
    "start_time": "2022-01-09T14:23:26.083Z"
   },
   {
    "duration": 21,
    "start_time": "2022-01-09T14:23:37.067Z"
   },
   {
    "duration": 114,
    "start_time": "2022-01-09T14:23:39.962Z"
   },
   {
    "duration": 264,
    "start_time": "2022-01-09T14:24:01.928Z"
   },
   {
    "duration": 276,
    "start_time": "2022-01-09T14:24:23.250Z"
   },
   {
    "duration": 13,
    "start_time": "2022-01-09T14:24:39.592Z"
   },
   {
    "duration": 99,
    "start_time": "2022-01-09T14:24:49.175Z"
   },
   {
    "duration": 15,
    "start_time": "2022-01-09T14:24:52.333Z"
   },
   {
    "duration": 360,
    "start_time": "2022-01-09T14:24:59.290Z"
   },
   {
    "duration": 8,
    "start_time": "2022-01-09T16:07:50.547Z"
   },
   {
    "duration": 376,
    "start_time": "2022-01-09T16:07:54.561Z"
   },
   {
    "duration": 4,
    "start_time": "2022-01-09T16:08:07.629Z"
   },
   {
    "duration": 5,
    "start_time": "2022-01-09T16:08:07.635Z"
   },
   {
    "duration": 704,
    "start_time": "2022-01-09T16:08:07.641Z"
   },
   {
    "duration": 24,
    "start_time": "2022-01-09T16:08:08.347Z"
   },
   {
    "duration": 4,
    "start_time": "2022-01-09T16:08:08.372Z"
   },
   {
    "duration": 138,
    "start_time": "2022-01-09T16:08:08.377Z"
   },
   {
    "duration": 5,
    "start_time": "2022-01-09T16:08:08.518Z"
   },
   {
    "duration": 89,
    "start_time": "2022-01-09T16:08:08.526Z"
   },
   {
    "duration": 12404,
    "start_time": "2022-01-09T16:08:08.617Z"
   },
   {
    "duration": 17,
    "start_time": "2022-01-09T16:08:21.023Z"
   },
   {
    "duration": 141,
    "start_time": "2022-01-09T16:08:21.042Z"
   },
   {
    "duration": 32,
    "start_time": "2022-01-09T16:08:21.185Z"
   },
   {
    "duration": 174,
    "start_time": "2022-01-09T16:08:21.219Z"
   },
   {
    "duration": 4,
    "start_time": "2022-01-09T16:08:21.396Z"
   },
   {
    "duration": 5639,
    "start_time": "2022-01-09T16:08:21.402Z"
   },
   {
    "duration": 127,
    "start_time": "2022-01-09T16:08:26.916Z"
   },
   {
    "duration": 23,
    "start_time": "2022-01-09T16:08:59.216Z"
   },
   {
    "duration": 113,
    "start_time": "2022-01-09T16:09:00.717Z"
   },
   {
    "duration": 13,
    "start_time": "2022-01-09T16:09:13.996Z"
   },
   {
    "duration": 115,
    "start_time": "2022-01-09T16:09:15.004Z"
   },
   {
    "duration": 4,
    "start_time": "2022-01-09T16:10:26.570Z"
   },
   {
    "duration": 21,
    "start_time": "2022-01-09T16:10:26.584Z"
   },
   {
    "duration": 761,
    "start_time": "2022-01-09T16:10:26.608Z"
   },
   {
    "duration": 24,
    "start_time": "2022-01-09T16:10:27.371Z"
   },
   {
    "duration": 5,
    "start_time": "2022-01-09T16:10:27.397Z"
   },
   {
    "duration": 145,
    "start_time": "2022-01-09T16:10:27.404Z"
   },
   {
    "duration": 11,
    "start_time": "2022-01-09T16:10:27.551Z"
   },
   {
    "duration": 85,
    "start_time": "2022-01-09T16:10:27.564Z"
   },
   {
    "duration": 12744,
    "start_time": "2022-01-09T16:10:27.651Z"
   },
   {
    "duration": 154,
    "start_time": "2022-01-09T16:10:40.399Z"
   },
   {
    "duration": 38,
    "start_time": "2022-01-09T16:10:40.555Z"
   },
   {
    "duration": 182,
    "start_time": "2022-01-09T16:10:40.596Z"
   },
   {
    "duration": 3,
    "start_time": "2022-01-09T16:10:40.779Z"
   },
   {
    "duration": 6422,
    "start_time": "2022-01-09T16:10:40.784Z"
   },
   {
    "duration": 146,
    "start_time": "2022-01-09T16:10:47.062Z"
   },
   {
    "duration": 24747,
    "start_time": "2022-01-09T16:11:44.139Z"
   },
   {
    "duration": 61236,
    "start_time": "2022-01-09T16:14:20.359Z"
   },
   {
    "duration": 117,
    "start_time": "2022-01-09T16:15:39.774Z"
   },
   {
    "duration": 257,
    "start_time": "2022-01-09T16:15:55.456Z"
   },
   {
    "duration": 117,
    "start_time": "2022-01-09T16:16:09.260Z"
   },
   {
    "duration": 4,
    "start_time": "2022-01-09T16:16:14.571Z"
   },
   {
    "duration": 4,
    "start_time": "2022-01-09T16:16:14.577Z"
   },
   {
    "duration": 695,
    "start_time": "2022-01-09T16:16:14.583Z"
   },
   {
    "duration": 24,
    "start_time": "2022-01-09T16:16:15.280Z"
   },
   {
    "duration": 4,
    "start_time": "2022-01-09T16:16:15.306Z"
   },
   {
    "duration": 156,
    "start_time": "2022-01-09T16:16:15.312Z"
   },
   {
    "duration": 5,
    "start_time": "2022-01-09T16:16:15.470Z"
   },
   {
    "duration": 106,
    "start_time": "2022-01-09T16:16:15.477Z"
   },
   {
    "duration": 131,
    "start_time": "2022-01-09T16:16:15.585Z"
   },
   {
    "duration": 61583,
    "start_time": "2022-01-09T16:16:15.718Z"
   },
   {
    "duration": 127,
    "start_time": "2022-01-09T16:17:17.303Z"
   },
   {
    "duration": 269,
    "start_time": "2022-01-09T16:17:17.432Z"
   },
   {
    "duration": 30,
    "start_time": "2022-01-09T16:17:17.703Z"
   },
   {
    "duration": 166,
    "start_time": "2022-01-09T16:17:17.735Z"
   },
   {
    "duration": 3,
    "start_time": "2022-01-09T16:17:17.903Z"
   },
   {
    "duration": 261,
    "start_time": "2022-01-09T16:17:17.907Z"
   },
   {
    "duration": 172,
    "start_time": "2022-01-09T16:17:17.997Z"
   },
   {
    "duration": 5,
    "start_time": "2022-01-09T16:26:12.620Z"
   },
   {
    "duration": 83,
    "start_time": "2022-01-09T16:26:21.420Z"
   },
   {
    "duration": 566,
    "start_time": "2022-01-09T16:26:28.506Z"
   },
   {
    "duration": 287,
    "start_time": "2022-01-09T16:26:39.151Z"
   },
   {
    "duration": 117,
    "start_time": "2022-01-09T16:27:59.064Z"
   },
   {
    "duration": 291,
    "start_time": "2022-01-10T09:32:06.190Z"
   },
   {
    "duration": 9,
    "start_time": "2022-01-10T09:32:13.741Z"
   },
   {
    "duration": 1325,
    "start_time": "2022-01-10T09:32:13.751Z"
   },
   {
    "duration": 835,
    "start_time": "2022-01-10T09:32:15.078Z"
   },
   {
    "duration": 27,
    "start_time": "2022-01-10T09:32:15.915Z"
   },
   {
    "duration": 4,
    "start_time": "2022-01-10T09:32:15.943Z"
   },
   {
    "duration": 126,
    "start_time": "2022-01-10T09:32:15.949Z"
   },
   {
    "duration": 4,
    "start_time": "2022-01-10T09:32:16.077Z"
   },
   {
    "duration": 140,
    "start_time": "2022-01-10T09:32:16.084Z"
   },
   {
    "duration": 125,
    "start_time": "2022-01-10T09:32:16.226Z"
   },
   {
    "duration": 58138,
    "start_time": "2022-01-10T09:32:16.352Z"
   },
   {
    "duration": 112,
    "start_time": "2022-01-10T09:33:14.492Z"
   },
   {
    "duration": 268,
    "start_time": "2022-01-10T09:33:14.606Z"
   },
   {
    "duration": 327,
    "start_time": "2022-01-10T09:33:14.875Z"
   },
   {
    "duration": 349,
    "start_time": "2022-01-10T09:33:35.369Z"
   },
   {
    "duration": 260,
    "start_time": "2022-01-10T09:34:32.018Z"
   },
   {
    "duration": 60,
    "start_time": "2022-01-10T09:34:41.812Z"
   },
   {
    "duration": 2,
    "start_time": "2022-01-10T09:38:36.179Z"
   },
   {
    "duration": 771,
    "start_time": "2022-01-10T09:42:20.454Z"
   },
   {
    "duration": 165,
    "start_time": "2022-01-10T09:42:50.952Z"
   },
   {
    "duration": 3,
    "start_time": "2022-01-10T09:46:07.163Z"
   },
   {
    "duration": 295624,
    "start_time": "2022-01-10T09:48:08.902Z"
   },
   {
    "duration": 289516,
    "start_time": "2022-01-10T09:54:40.032Z"
   },
   {
    "duration": 86,
    "start_time": "2022-01-10T10:03:13.181Z"
   },
   {
    "duration": 268,
    "start_time": "2022-01-10T10:03:20.061Z"
   },
   {
    "duration": 51,
    "start_time": "2022-01-10T10:04:02.998Z"
   },
   {
    "duration": 3,
    "start_time": "2022-01-10T10:04:05.139Z"
   },
   {
    "duration": 157,
    "start_time": "2022-01-10T10:04:06.057Z"
   },
   {
    "duration": 3,
    "start_time": "2022-01-10T10:04:09.692Z"
   },
   {
    "duration": 308,
    "start_time": "2022-01-10T10:04:10.557Z"
   },
   {
    "duration": 11,
    "start_time": "2022-01-10T10:04:31.202Z"
   },
   {
    "duration": 286,
    "start_time": "2022-01-10T10:04:36.353Z"
   },
   {
    "duration": 3,
    "start_time": "2022-01-10T10:05:02.275Z"
   },
   {
    "duration": 262,
    "start_time": "2022-01-10T10:05:03.750Z"
   },
   {
    "duration": 268,
    "start_time": "2022-01-10T10:05:19.903Z"
   },
   {
    "duration": 4,
    "start_time": "2022-01-10T10:05:23.326Z"
   },
   {
    "duration": 13,
    "start_time": "2022-01-10T10:05:23.332Z"
   },
   {
    "duration": 779,
    "start_time": "2022-01-10T10:05:23.347Z"
   },
   {
    "duration": 35,
    "start_time": "2022-01-10T10:05:24.127Z"
   },
   {
    "duration": 4,
    "start_time": "2022-01-10T10:05:24.163Z"
   },
   {
    "duration": 130,
    "start_time": "2022-01-10T10:05:24.169Z"
   },
   {
    "duration": 5,
    "start_time": "2022-01-10T10:05:24.301Z"
   },
   {
    "duration": 114,
    "start_time": "2022-01-10T10:05:24.308Z"
   },
   {
    "duration": 124,
    "start_time": "2022-01-10T10:05:24.424Z"
   },
   {
    "duration": 60163,
    "start_time": "2022-01-10T10:05:24.550Z"
   },
   {
    "duration": 127,
    "start_time": "2022-01-10T10:06:24.715Z"
   },
   {
    "duration": 264,
    "start_time": "2022-01-10T10:06:24.843Z"
   },
   {
    "duration": 46,
    "start_time": "2022-01-10T10:06:25.108Z"
   },
   {
    "duration": 2,
    "start_time": "2022-01-10T10:06:25.156Z"
   },
   {
    "duration": 172,
    "start_time": "2022-01-10T10:06:25.159Z"
   },
   {
    "duration": 2,
    "start_time": "2022-01-10T10:06:25.333Z"
   },
   {
    "duration": 454128,
    "start_time": "2022-01-10T10:06:25.336Z"
   },
   {
    "duration": 323,
    "start_time": "2022-01-10T14:04:16.622Z"
   },
   {
    "duration": 11,
    "start_time": "2022-01-10T14:04:22.427Z"
   },
   {
    "duration": 1298,
    "start_time": "2022-01-10T14:04:22.439Z"
   },
   {
    "duration": 801,
    "start_time": "2022-01-10T14:04:23.739Z"
   },
   {
    "duration": 35,
    "start_time": "2022-01-10T14:04:24.543Z"
   },
   {
    "duration": 4,
    "start_time": "2022-01-10T14:04:24.580Z"
   },
   {
    "duration": 140,
    "start_time": "2022-01-10T14:04:24.586Z"
   },
   {
    "duration": 5,
    "start_time": "2022-01-10T14:04:24.728Z"
   },
   {
    "duration": 177,
    "start_time": "2022-01-10T14:04:24.736Z"
   },
   {
    "duration": 137,
    "start_time": "2022-01-10T14:04:24.915Z"
   },
   {
    "duration": 62995,
    "start_time": "2022-01-10T14:04:25.054Z"
   },
   {
    "duration": 124,
    "start_time": "2022-01-10T14:05:28.050Z"
   },
   {
    "duration": 288,
    "start_time": "2022-01-10T14:05:28.176Z"
   },
   {
    "duration": 63,
    "start_time": "2022-01-10T14:05:28.466Z"
   },
   {
    "duration": 3,
    "start_time": "2022-01-10T14:05:28.530Z"
   },
   {
    "duration": 193,
    "start_time": "2022-01-10T14:05:28.535Z"
   },
   {
    "duration": 3,
    "start_time": "2022-01-10T14:05:28.729Z"
   },
   {
    "duration": 345,
    "start_time": "2022-01-10T14:05:28.734Z"
   },
   {
    "duration": 3,
    "start_time": "2022-01-10T14:06:01.075Z"
   },
   {
    "duration": 284,
    "start_time": "2022-01-10T14:06:03.849Z"
   },
   {
    "duration": 283,
    "start_time": "2022-01-10T14:06:39.462Z"
   },
   {
    "duration": 568808,
    "start_time": "2022-01-10T14:11:24.997Z"
   },
   {
    "duration": 2,
    "start_time": "2022-01-10T14:21:52.953Z"
   },
   {
    "duration": 82449,
    "start_time": "2022-01-10T14:21:53.723Z"
   },
   {
    "duration": 480,
    "start_time": "2022-01-10T14:27:45.788Z"
   },
   {
    "duration": 272,
    "start_time": "2022-01-10T14:27:51.632Z"
   },
   {
    "duration": 387,
    "start_time": "2022-01-10T14:29:37.902Z"
   },
   {
    "duration": 593,
    "start_time": "2022-01-10T14:29:41.021Z"
   },
   {
    "duration": 82536,
    "start_time": "2022-01-10T14:30:30.617Z"
   },
   {
    "duration": 86204,
    "start_time": "2022-01-10T14:32:25.003Z"
   },
   {
    "duration": 82436,
    "start_time": "2022-01-10T14:34:41.219Z"
   },
   {
    "duration": 315,
    "start_time": "2022-01-10T14:36:36.171Z"
   },
   {
    "duration": 591,
    "start_time": "2022-01-10T14:37:11.316Z"
   },
   {
    "duration": 357,
    "start_time": "2022-01-10T14:44:56.109Z"
   },
   {
    "duration": 264,
    "start_time": "2022-01-10T14:45:06.713Z"
   },
   {
    "duration": 246,
    "start_time": "2022-01-10T14:45:13.783Z"
   },
   {
    "duration": 254,
    "start_time": "2022-01-10T14:45:19.271Z"
   },
   {
    "duration": 3,
    "start_time": "2022-01-10T14:45:45.699Z"
   },
   {
    "duration": 89501,
    "start_time": "2022-01-10T14:45:48.284Z"
   },
   {
    "duration": 5,
    "start_time": "2022-01-10T15:11:32.899Z"
   },
   {
    "duration": 3,
    "start_time": "2022-01-10T15:18:02.945Z"
   },
   {
    "duration": 39252,
    "start_time": "2022-01-10T15:18:05.165Z"
   },
   {
    "duration": 3,
    "start_time": "2022-01-10T15:18:53.348Z"
   },
   {
    "duration": 1694886,
    "start_time": "2022-01-10T15:18:55.063Z"
   },
   {
    "duration": 4,
    "start_time": "2022-01-10T16:16:47.000Z"
   },
   {
    "duration": 84,
    "start_time": "2022-01-10T16:22:32.747Z"
   },
   {
    "duration": 285,
    "start_time": "2022-01-10T16:22:43.929Z"
   },
   {
    "duration": 3523,
    "start_time": "2022-01-10T16:22:58.642Z"
   },
   {
    "duration": 2812,
    "start_time": "2022-01-10T16:23:24.290Z"
   },
   {
    "duration": 201920,
    "start_time": "2022-01-10T16:23:55.788Z"
   },
   {
    "duration": 202188,
    "start_time": "2022-01-10T16:27:33.784Z"
   },
   {
    "duration": 49,
    "start_time": "2022-01-10T16:31:40.377Z"
   },
   {
    "duration": 5,
    "start_time": "2022-01-10T16:33:35.510Z"
   },
   {
    "duration": 16,
    "start_time": "2022-01-10T16:35:46.018Z"
   },
   {
    "duration": 11,
    "start_time": "2022-01-10T16:36:29.196Z"
   },
   {
    "duration": 351,
    "start_time": "2022-01-10T16:36:32.667Z"
   },
   {
    "duration": 21,
    "start_time": "2022-01-10T16:45:37.107Z"
   },
   {
    "duration": 37,
    "start_time": "2022-01-10T16:47:57.335Z"
   },
   {
    "duration": 26,
    "start_time": "2022-01-10T16:52:10.752Z"
   },
   {
    "duration": 44,
    "start_time": "2022-01-10T16:54:07.872Z"
   },
   {
    "duration": 7728,
    "start_time": "2022-01-10T16:55:51.277Z"
   },
   {
    "duration": 3,
    "start_time": "2022-01-10T16:57:15.621Z"
   },
   {
    "duration": 7897,
    "start_time": "2022-01-10T16:57:27.148Z"
   },
   {
    "duration": 54462,
    "start_time": "2022-01-10T16:58:38.980Z"
   },
   {
    "duration": 36716,
    "start_time": "2022-01-10T16:59:59.347Z"
   },
   {
    "duration": 1170,
    "start_time": "2022-01-11T07:12:38.808Z"
   },
   {
    "duration": 4,
    "start_time": "2022-01-11T09:00:09.841Z"
   },
   {
    "duration": 338,
    "start_time": "2022-01-11T09:00:12.949Z"
   },
   {
    "duration": 8,
    "start_time": "2022-01-11T09:00:53.417Z"
   },
   {
    "duration": 188,
    "start_time": "2022-01-11T09:00:53.427Z"
   },
   {
    "duration": 876,
    "start_time": "2022-01-11T09:00:53.617Z"
   },
   {
    "duration": 24,
    "start_time": "2022-01-11T09:00:54.496Z"
   },
   {
    "duration": 4,
    "start_time": "2022-01-11T09:00:54.522Z"
   },
   {
    "duration": 147,
    "start_time": "2022-01-11T09:00:54.528Z"
   },
   {
    "duration": 5,
    "start_time": "2022-01-11T09:00:54.677Z"
   },
   {
    "duration": 147,
    "start_time": "2022-01-11T09:00:54.685Z"
   },
   {
    "duration": 136,
    "start_time": "2022-01-11T09:00:54.834Z"
   },
   {
    "duration": 64070,
    "start_time": "2022-01-11T09:00:54.973Z"
   },
   {
    "duration": 127,
    "start_time": "2022-01-11T09:01:59.044Z"
   },
   {
    "duration": 303,
    "start_time": "2022-01-11T09:01:59.173Z"
   },
   {
    "duration": 65,
    "start_time": "2022-01-11T09:01:59.478Z"
   },
   {
    "duration": 16,
    "start_time": "2022-01-11T09:01:59.545Z"
   },
   {
    "duration": 209,
    "start_time": "2022-01-11T09:01:59.563Z"
   },
   {
    "duration": 3,
    "start_time": "2022-01-11T09:01:59.774Z"
   },
   {
    "duration": 38,
    "start_time": "2022-01-11T09:01:59.779Z"
   },
   {
    "duration": 32,
    "start_time": "2022-01-11T09:01:59.819Z"
   },
   {
    "duration": 32,
    "start_time": "2022-01-11T09:01:59.853Z"
   },
   {
    "duration": 99,
    "start_time": "2022-01-11T09:01:59.887Z"
   },
   {
    "duration": 3,
    "start_time": "2022-01-11T09:01:59.986Z"
   },
   {
    "duration": 1,
    "start_time": "2022-01-11T09:01:59.988Z"
   },
   {
    "duration": -2,
    "start_time": "2022-01-11T09:01:59.992Z"
   },
   {
    "duration": 3,
    "start_time": "2022-01-11T09:16:32.909Z"
   },
   {
    "duration": 398,
    "start_time": "2022-01-11T09:16:34.428Z"
   },
   {
    "duration": 175,
    "start_time": "2022-01-11T09:37:09.406Z"
   },
   {
    "duration": 294,
    "start_time": "2022-01-11T09:38:15.888Z"
   },
   {
    "duration": 326,
    "start_time": "2022-01-11T09:49:19.618Z"
   },
   {
    "duration": 27,
    "start_time": "2022-01-11T09:49:30.259Z"
   },
   {
    "duration": 291,
    "start_time": "2022-01-11T09:51:21.911Z"
   },
   {
    "duration": 263,
    "start_time": "2022-01-11T09:51:26.826Z"
   },
   {
    "duration": 14135,
    "start_time": "2022-01-11T09:58:06.728Z"
   },
   {
    "duration": 14117,
    "start_time": "2022-01-11T10:05:40.151Z"
   },
   {
    "duration": 435,
    "start_time": "2022-01-11T10:12:42.288Z"
   },
   {
    "duration": 40149,
    "start_time": "2022-01-11T10:13:17.722Z"
   },
   {
    "duration": 2356,
    "start_time": "2022-01-11T10:13:57.873Z"
   },
   {
    "duration": 292,
    "start_time": "2022-01-11T10:14:00.231Z"
   },
   {
    "duration": 48,
    "start_time": "2022-01-11T10:14:00.477Z"
   },
   {
    "duration": 43239,
    "start_time": "2022-01-11T10:14:16.931Z"
   },
   {
    "duration": 4,
    "start_time": "2022-01-11T10:15:13.321Z"
   },
   {
    "duration": 3,
    "start_time": "2022-01-11T10:16:41.644Z"
   },
   {
    "duration": 879377,
    "start_time": "2022-01-11T10:16:42.446Z"
   },
   {
    "duration": 4,
    "start_time": "2022-01-11T10:31:21.824Z"
   },
   {
    "duration": 188748,
    "start_time": "2022-01-11T10:31:21.830Z"
   },
   {
    "duration": 4,
    "start_time": "2022-01-11T11:35:38.445Z"
   },
   {
    "duration": 323,
    "start_time": "2022-01-11T11:40:02.072Z"
   },
   {
    "duration": 140,
    "start_time": "2022-01-11T11:40:11.844Z"
   },
   {
    "duration": 434,
    "start_time": "2022-01-11T11:40:15.850Z"
   },
   {
    "duration": 315,
    "start_time": "2022-01-11T11:43:59.869Z"
   },
   {
    "duration": 16,
    "start_time": "2022-01-11T11:46:43.976Z"
   },
   {
    "duration": 950,
    "start_time": "2022-01-11T11:59:02.733Z"
   },
   {
    "duration": 988,
    "start_time": "2022-01-11T12:00:09.440Z"
   },
   {
    "duration": 1586,
    "start_time": "2022-01-11T12:00:41.265Z"
   },
   {
    "duration": 341,
    "start_time": "2022-01-11T12:02:20.442Z"
   },
   {
    "duration": 286,
    "start_time": "2022-01-11T12:02:27.959Z"
   },
   {
    "duration": 269,
    "start_time": "2022-01-11T12:36:20.383Z"
   },
   {
    "duration": 9,
    "start_time": "2022-01-11T12:36:23.771Z"
   },
   {
    "duration": 1237,
    "start_time": "2022-01-11T12:36:23.782Z"
   },
   {
    "duration": 948,
    "start_time": "2022-01-11T12:36:25.022Z"
   },
   {
    "duration": 27,
    "start_time": "2022-01-11T12:36:25.973Z"
   },
   {
    "duration": 6,
    "start_time": "2022-01-11T12:36:26.002Z"
   },
   {
    "duration": 251,
    "start_time": "2022-01-11T12:36:26.010Z"
   },
   {
    "duration": 6,
    "start_time": "2022-01-11T12:36:26.264Z"
   },
   {
    "duration": 147,
    "start_time": "2022-01-11T12:36:26.273Z"
   },
   {
    "duration": 128,
    "start_time": "2022-01-11T12:36:26.423Z"
   },
   {
    "duration": 65570,
    "start_time": "2022-01-11T12:36:26.552Z"
   },
   {
    "duration": 122,
    "start_time": "2022-01-11T12:37:32.124Z"
   },
   {
    "duration": 296,
    "start_time": "2022-01-11T12:37:32.248Z"
   },
   {
    "duration": 69,
    "start_time": "2022-01-11T12:37:32.546Z"
   },
   {
    "duration": 3,
    "start_time": "2022-01-11T12:37:32.617Z"
   },
   {
    "duration": 190,
    "start_time": "2022-01-11T12:37:32.621Z"
   },
   {
    "duration": 3,
    "start_time": "2022-01-11T12:37:32.813Z"
   },
   {
    "duration": 6,
    "start_time": "2022-01-11T12:37:32.817Z"
   },
   {
    "duration": 11,
    "start_time": "2022-01-11T12:37:32.825Z"
   },
   {
    "duration": 6,
    "start_time": "2022-01-11T12:37:32.838Z"
   },
   {
    "duration": 188532,
    "start_time": "2022-01-11T12:37:32.846Z"
   },
   {
    "duration": 14192,
    "start_time": "2022-01-11T12:40:41.380Z"
   },
   {
    "duration": 42096,
    "start_time": "2022-01-11T12:40:55.574Z"
   },
   {
    "duration": 4,
    "start_time": "2022-01-11T12:41:37.673Z"
   },
   {
    "duration": 1410,
    "start_time": "2022-01-11T12:41:37.679Z"
   },
   {
    "duration": 3774,
    "start_time": "2022-01-11T12:41:39.091Z"
   },
   {
    "duration": 370,
    "start_time": "2022-01-11T12:43:07.607Z"
   },
   {
    "duration": 255,
    "start_time": "2022-01-11T12:43:22.222Z"
   },
   {
    "duration": 258,
    "start_time": "2022-01-11T12:43:34.049Z"
   },
   {
    "duration": 118,
    "start_time": "2022-01-11T12:43:34.191Z"
   },
   {
    "duration": 14,
    "start_time": "2022-01-11T12:44:27.338Z"
   },
   {
    "duration": 1299,
    "start_time": "2022-01-11T12:44:27.354Z"
   },
   {
    "duration": 879,
    "start_time": "2022-01-11T12:44:28.655Z"
   },
   {
    "duration": 40,
    "start_time": "2022-01-11T12:44:29.537Z"
   },
   {
    "duration": 4,
    "start_time": "2022-01-11T12:44:29.579Z"
   },
   {
    "duration": 158,
    "start_time": "2022-01-11T12:44:29.585Z"
   },
   {
    "duration": 19,
    "start_time": "2022-01-11T12:44:29.745Z"
   },
   {
    "duration": 154,
    "start_time": "2022-01-11T12:44:29.768Z"
   },
   {
    "duration": 143,
    "start_time": "2022-01-11T12:44:29.925Z"
   },
   {
    "duration": 71339,
    "start_time": "2022-01-11T12:44:30.070Z"
   },
   {
    "duration": 122,
    "start_time": "2022-01-11T12:45:41.411Z"
   },
   {
    "duration": 303,
    "start_time": "2022-01-11T12:45:41.535Z"
   },
   {
    "duration": 68,
    "start_time": "2022-01-11T12:45:41.839Z"
   },
   {
    "duration": 3,
    "start_time": "2022-01-11T12:45:41.908Z"
   },
   {
    "duration": 194,
    "start_time": "2022-01-11T12:45:41.913Z"
   },
   {
    "duration": 3,
    "start_time": "2022-01-11T12:45:42.109Z"
   },
   {
    "duration": 87,
    "start_time": "2022-01-11T12:45:42.113Z"
   },
   {
    "duration": 124,
    "start_time": "2022-01-11T12:45:42.078Z"
   },
   {
    "duration": 122,
    "start_time": "2022-01-11T12:45:42.081Z"
   },
   {
    "duration": 108,
    "start_time": "2022-01-11T12:45:42.096Z"
   },
   {
    "duration": 97,
    "start_time": "2022-01-11T12:45:42.108Z"
   },
   {
    "duration": 96,
    "start_time": "2022-01-11T12:45:42.110Z"
   },
   {
    "duration": 95,
    "start_time": "2022-01-11T12:45:42.112Z"
   },
   {
    "duration": 92,
    "start_time": "2022-01-11T12:45:42.116Z"
   },
   {
    "duration": 90,
    "start_time": "2022-01-11T12:45:42.119Z"
   },
   {
    "duration": 2,
    "start_time": "2022-01-11T12:45:59.584Z"
   },
   {
    "duration": 2,
    "start_time": "2022-01-11T12:46:01.417Z"
   },
   {
    "duration": 3,
    "start_time": "2022-01-11T12:46:02.064Z"
   },
   {
    "duration": 3,
    "start_time": "2022-01-11T12:46:02.561Z"
   },
   {
    "duration": 2,
    "start_time": "2022-01-11T12:46:03.822Z"
   },
   {
    "duration": 3,
    "start_time": "2022-01-11T12:46:04.470Z"
   },
   {
    "duration": 3,
    "start_time": "2022-01-11T12:46:05.162Z"
   },
   {
    "duration": 1463,
    "start_time": "2022-01-11T12:46:06.809Z"
   },
   {
    "duration": 3790,
    "start_time": "2022-01-11T12:46:16.617Z"
   },
   {
    "duration": 252,
    "start_time": "2022-01-11T12:48:37.260Z"
   },
   {
    "duration": 1301,
    "start_time": "2022-01-11T12:48:49.113Z"
   },
   {
    "duration": 303,
    "start_time": "2022-01-11T12:49:02.892Z"
   },
   {
    "duration": 306,
    "start_time": "2022-01-11T12:49:09.360Z"
   },
   {
    "duration": 4,
    "start_time": "2022-01-11T12:49:31.770Z"
   },
   {
    "duration": 279,
    "start_time": "2022-01-11T12:49:32.628Z"
   },
   {
    "duration": 9,
    "start_time": "2022-01-11T12:49:37.503Z"
   },
   {
    "duration": 1506,
    "start_time": "2022-01-11T12:49:37.514Z"
   },
   {
    "duration": 839,
    "start_time": "2022-01-11T12:49:39.023Z"
   },
   {
    "duration": 24,
    "start_time": "2022-01-11T12:49:39.865Z"
   },
   {
    "duration": 4,
    "start_time": "2022-01-11T12:49:39.891Z"
   },
   {
    "duration": 146,
    "start_time": "2022-01-11T12:49:39.897Z"
   },
   {
    "duration": 5,
    "start_time": "2022-01-11T12:49:40.046Z"
   },
   {
    "duration": 140,
    "start_time": "2022-01-11T12:49:40.061Z"
   },
   {
    "duration": 125,
    "start_time": "2022-01-11T12:49:40.203Z"
   },
   {
    "duration": 3,
    "start_time": "2022-01-11T12:49:40.330Z"
   },
   {
    "duration": 64207,
    "start_time": "2022-01-11T12:49:40.335Z"
   },
   {
    "duration": 125,
    "start_time": "2022-01-11T12:50:44.544Z"
   },
   {
    "duration": 289,
    "start_time": "2022-01-11T12:50:44.672Z"
   },
   {
    "duration": 64,
    "start_time": "2022-01-11T12:50:44.964Z"
   },
   {
    "duration": 3,
    "start_time": "2022-01-11T12:50:45.030Z"
   },
   {
    "duration": 222,
    "start_time": "2022-01-11T12:50:45.035Z"
   },
   {
    "duration": 2,
    "start_time": "2022-01-11T12:50:45.259Z"
   },
   {
    "duration": 29,
    "start_time": "2022-01-11T12:50:45.263Z"
   },
   {
    "duration": 20,
    "start_time": "2022-01-11T12:50:45.295Z"
   },
   {
    "duration": 38,
    "start_time": "2022-01-11T12:50:45.317Z"
   },
   {
    "duration": 22,
    "start_time": "2022-01-11T12:50:45.357Z"
   },
   {
    "duration": 29,
    "start_time": "2022-01-11T12:50:45.381Z"
   },
   {
    "duration": 30,
    "start_time": "2022-01-11T12:50:45.412Z"
   },
   {
    "duration": 22,
    "start_time": "2022-01-11T12:50:45.444Z"
   },
   {
    "duration": 1312,
    "start_time": "2022-01-11T12:50:45.468Z"
   },
   {
    "duration": 3665,
    "start_time": "2022-01-11T12:50:46.782Z"
   },
   {
    "duration": 1307,
    "start_time": "2022-01-11T13:19:25.134Z"
   },
   {
    "duration": 394,
    "start_time": "2022-01-11T13:19:56.138Z"
   },
   {
    "duration": 179,
    "start_time": "2022-01-11T13:20:05.335Z"
   },
   {
    "duration": 9,
    "start_time": "2022-01-12T06:58:56.920Z"
   },
   {
    "duration": 1167,
    "start_time": "2022-01-12T06:58:56.931Z"
   },
   {
    "duration": 764,
    "start_time": "2022-01-12T06:58:58.100Z"
   },
   {
    "duration": 37,
    "start_time": "2022-01-12T06:58:58.866Z"
   },
   {
    "duration": 5,
    "start_time": "2022-01-12T06:58:58.905Z"
   },
   {
    "duration": 129,
    "start_time": "2022-01-12T06:58:58.912Z"
   },
   {
    "duration": 5,
    "start_time": "2022-01-12T06:58:59.044Z"
   },
   {
    "duration": 155,
    "start_time": "2022-01-12T06:58:59.053Z"
   },
   {
    "duration": 123,
    "start_time": "2022-01-12T06:58:59.211Z"
   },
   {
    "duration": 3,
    "start_time": "2022-01-12T06:58:59.336Z"
   },
   {
    "duration": 60053,
    "start_time": "2022-01-12T06:58:59.341Z"
   },
   {
    "duration": 115,
    "start_time": "2022-01-12T06:59:59.396Z"
   },
   {
    "duration": 274,
    "start_time": "2022-01-12T06:59:59.513Z"
   },
   {
    "duration": 61,
    "start_time": "2022-01-12T06:59:59.792Z"
   },
   {
    "duration": 3,
    "start_time": "2022-01-12T06:59:59.854Z"
   },
   {
    "duration": 179,
    "start_time": "2022-01-12T06:59:59.858Z"
   },
   {
    "duration": 2,
    "start_time": "2022-01-12T07:00:00.039Z"
   },
   {
    "duration": 8,
    "start_time": "2022-01-12T07:00:00.043Z"
   },
   {
    "duration": 8,
    "start_time": "2022-01-12T07:00:00.053Z"
   },
   {
    "duration": 7,
    "start_time": "2022-01-12T07:00:00.062Z"
   },
   {
    "duration": 7,
    "start_time": "2022-01-12T07:00:00.070Z"
   },
   {
    "duration": 12,
    "start_time": "2022-01-12T07:00:00.079Z"
   },
   {
    "duration": 13,
    "start_time": "2022-01-12T07:00:00.094Z"
   },
   {
    "duration": 11,
    "start_time": "2022-01-12T07:00:00.109Z"
   },
   {
    "duration": 1147,
    "start_time": "2022-01-12T07:00:00.122Z"
   },
   {
    "duration": 286,
    "start_time": "2022-01-12T07:00:01.270Z"
   },
   {
    "duration": 385,
    "start_time": "2022-01-12T07:00:01.558Z"
   },
   {
    "duration": 1285,
    "start_time": "2022-01-12T07:12:29.332Z"
   },
   {
    "duration": 4934,
    "start_time": "2022-01-12T07:13:04.576Z"
   },
   {
    "duration": 5236,
    "start_time": "2022-01-12T07:13:27.320Z"
   },
   {
    "duration": 5252,
    "start_time": "2022-01-12T07:13:52.618Z"
   },
   {
    "duration": 301,
    "start_time": "2022-01-12T07:14:12.917Z"
   },
   {
    "duration": 4671,
    "start_time": "2022-01-12T07:14:28.200Z"
   },
   {
    "duration": 4,
    "start_time": "2022-01-12T07:14:54.219Z"
   },
   {
    "duration": 6,
    "start_time": "2022-01-12T07:14:54.225Z"
   },
   {
    "duration": 764,
    "start_time": "2022-01-12T07:14:54.233Z"
   },
   {
    "duration": 26,
    "start_time": "2022-01-12T07:14:54.999Z"
   },
   {
    "duration": 4,
    "start_time": "2022-01-12T07:14:55.027Z"
   },
   {
    "duration": 145,
    "start_time": "2022-01-12T07:14:55.033Z"
   },
   {
    "duration": 11,
    "start_time": "2022-01-12T07:14:55.180Z"
   },
   {
    "duration": 139,
    "start_time": "2022-01-12T07:14:55.194Z"
   },
   {
    "duration": 121,
    "start_time": "2022-01-12T07:14:55.336Z"
   },
   {
    "duration": 2,
    "start_time": "2022-01-12T07:14:55.459Z"
   },
   {
    "duration": 61228,
    "start_time": "2022-01-12T07:14:55.463Z"
   },
   {
    "duration": 115,
    "start_time": "2022-01-12T07:15:56.693Z"
   },
   {
    "duration": 264,
    "start_time": "2022-01-12T07:15:56.810Z"
   },
   {
    "duration": 39,
    "start_time": "2022-01-12T07:15:57.076Z"
   },
   {
    "duration": 2,
    "start_time": "2022-01-12T07:15:57.117Z"
   },
   {
    "duration": 164,
    "start_time": "2022-01-12T07:15:57.120Z"
   },
   {
    "duration": 6,
    "start_time": "2022-01-12T07:15:57.286Z"
   },
   {
    "duration": 5,
    "start_time": "2022-01-12T07:15:57.294Z"
   },
   {
    "duration": 7,
    "start_time": "2022-01-12T07:15:57.300Z"
   },
   {
    "duration": 7,
    "start_time": "2022-01-12T07:15:57.309Z"
   },
   {
    "duration": 6,
    "start_time": "2022-01-12T07:15:57.318Z"
   },
   {
    "duration": 6,
    "start_time": "2022-01-12T07:15:57.326Z"
   },
   {
    "duration": 5,
    "start_time": "2022-01-12T07:15:57.335Z"
   },
   {
    "duration": 4,
    "start_time": "2022-01-12T07:15:57.342Z"
   },
   {
    "duration": 1005,
    "start_time": "2022-01-12T07:15:57.347Z"
   },
   {
    "duration": 377,
    "start_time": "2022-01-12T07:15:58.353Z"
   },
   {
    "duration": 963,
    "start_time": "2022-01-12T07:16:08.980Z"
   },
   {
    "duration": 4990,
    "start_time": "2022-01-12T07:17:14.009Z"
   },
   {
    "duration": 4712,
    "start_time": "2022-01-12T07:17:36.060Z"
   },
   {
    "duration": 4887,
    "start_time": "2022-01-12T07:18:21.161Z"
   },
   {
    "duration": 5217,
    "start_time": "2022-01-12T07:18:34.944Z"
   },
   {
    "duration": 7215,
    "start_time": "2022-01-12T07:18:55.694Z"
   },
   {
    "duration": 4618,
    "start_time": "2022-01-12T07:19:52.035Z"
   },
   {
    "duration": 6828,
    "start_time": "2022-01-12T07:20:07.395Z"
   },
   {
    "duration": 4,
    "start_time": "2022-01-12T07:20:23.951Z"
   },
   {
    "duration": 5,
    "start_time": "2022-01-12T07:20:23.957Z"
   },
   {
    "duration": 750,
    "start_time": "2022-01-12T07:20:23.964Z"
   },
   {
    "duration": 23,
    "start_time": "2022-01-12T07:20:24.717Z"
   },
   {
    "duration": 4,
    "start_time": "2022-01-12T07:20:24.742Z"
   },
   {
    "duration": 141,
    "start_time": "2022-01-12T07:20:24.748Z"
   },
   {
    "duration": 5,
    "start_time": "2022-01-12T07:20:24.892Z"
   },
   {
    "duration": 147,
    "start_time": "2022-01-12T07:20:24.899Z"
   },
   {
    "duration": 122,
    "start_time": "2022-01-12T07:20:25.050Z"
   },
   {
    "duration": 19,
    "start_time": "2022-01-12T07:20:25.174Z"
   },
   {
    "duration": 61697,
    "start_time": "2022-01-12T07:20:25.196Z"
   },
   {
    "duration": 118,
    "start_time": "2022-01-12T07:21:26.894Z"
   },
   {
    "duration": 266,
    "start_time": "2022-01-12T07:21:27.013Z"
   },
   {
    "duration": 42,
    "start_time": "2022-01-12T07:21:27.281Z"
   },
   {
    "duration": 3,
    "start_time": "2022-01-12T07:21:27.324Z"
   },
   {
    "duration": 171,
    "start_time": "2022-01-12T07:21:27.329Z"
   },
   {
    "duration": 3,
    "start_time": "2022-01-12T07:21:27.501Z"
   },
   {
    "duration": 17,
    "start_time": "2022-01-12T07:21:27.506Z"
   },
   {
    "duration": 13,
    "start_time": "2022-01-12T07:21:27.525Z"
   },
   {
    "duration": 13,
    "start_time": "2022-01-12T07:21:27.540Z"
   },
   {
    "duration": 6,
    "start_time": "2022-01-12T07:21:27.555Z"
   },
   {
    "duration": 16,
    "start_time": "2022-01-12T07:21:27.563Z"
   },
   {
    "duration": 24,
    "start_time": "2022-01-12T07:21:27.581Z"
   },
   {
    "duration": 12,
    "start_time": "2022-01-12T07:21:27.607Z"
   },
   {
    "duration": 161,
    "start_time": "2022-01-12T07:21:27.621Z"
   },
   {
    "duration": 330,
    "start_time": "2022-01-12T07:21:27.784Z"
   },
   {
    "duration": 146,
    "start_time": "2022-01-12T07:22:00.562Z"
   },
   {
    "duration": 275,
    "start_time": "2022-01-12T07:22:26.181Z"
   },
   {
    "duration": 151,
    "start_time": "2022-01-12T07:23:19.191Z"
   },
   {
    "duration": 62,
    "start_time": "2022-01-12T07:23:57.907Z"
   },
   {
    "duration": 4796,
    "start_time": "2022-01-12T07:24:03.696Z"
   },
   {
    "duration": 4,
    "start_time": "2022-01-12T07:25:27.311Z"
   },
   {
    "duration": 4,
    "start_time": "2022-01-12T07:25:27.319Z"
   },
   {
    "duration": 703,
    "start_time": "2022-01-12T07:25:27.325Z"
   },
   {
    "duration": 23,
    "start_time": "2022-01-12T07:25:28.030Z"
   },
   {
    "duration": 5,
    "start_time": "2022-01-12T07:25:28.055Z"
   },
   {
    "duration": 142,
    "start_time": "2022-01-12T07:25:28.062Z"
   },
   {
    "duration": 5,
    "start_time": "2022-01-12T07:25:28.206Z"
   },
   {
    "duration": 144,
    "start_time": "2022-01-12T07:25:28.213Z"
   },
   {
    "duration": 175,
    "start_time": "2022-01-12T07:25:28.359Z"
   },
   {
    "duration": 13,
    "start_time": "2022-01-12T07:25:28.538Z"
   },
   {
    "duration": 61261,
    "start_time": "2022-01-12T07:25:28.561Z"
   },
   {
    "duration": 126,
    "start_time": "2022-01-12T07:26:29.824Z"
   },
   {
    "duration": 273,
    "start_time": "2022-01-12T07:26:29.952Z"
   },
   {
    "duration": 35,
    "start_time": "2022-01-12T07:26:30.227Z"
   },
   {
    "duration": 2,
    "start_time": "2022-01-12T07:26:30.264Z"
   },
   {
    "duration": 178,
    "start_time": "2022-01-12T07:26:30.268Z"
   },
   {
    "duration": 2,
    "start_time": "2022-01-12T07:26:30.448Z"
   },
   {
    "duration": 29,
    "start_time": "2022-01-12T07:26:30.452Z"
   },
   {
    "duration": 31,
    "start_time": "2022-01-12T07:26:30.482Z"
   },
   {
    "duration": 36,
    "start_time": "2022-01-12T07:26:30.515Z"
   },
   {
    "duration": 32,
    "start_time": "2022-01-12T07:26:30.553Z"
   },
   {
    "duration": 19,
    "start_time": "2022-01-12T07:26:30.587Z"
   },
   {
    "duration": 30,
    "start_time": "2022-01-12T07:26:30.608Z"
   },
   {
    "duration": 25,
    "start_time": "2022-01-12T07:26:30.640Z"
   },
   {
    "duration": 144,
    "start_time": "2022-01-12T07:26:30.667Z"
   },
   {
    "duration": 228,
    "start_time": "2022-01-12T07:26:30.813Z"
   },
   {
    "duration": 143,
    "start_time": "2022-01-12T07:27:15.880Z"
   },
   {
    "duration": 150,
    "start_time": "2022-01-12T07:28:11.341Z"
   },
   {
    "duration": 5116,
    "start_time": "2022-01-12T07:28:28.050Z"
   },
   {
    "duration": 5616,
    "start_time": "2022-01-12T07:28:41.795Z"
   },
   {
    "duration": 4859,
    "start_time": "2022-01-12T07:28:59.029Z"
   },
   {
    "duration": 1340,
    "start_time": "2022-01-12T08:27:12.273Z"
   },
   {
    "duration": 6,
    "start_time": "2022-01-12T08:27:18.483Z"
   },
   {
    "duration": 7,
    "start_time": "2022-01-12T08:27:18.490Z"
   },
   {
    "duration": 803,
    "start_time": "2022-01-12T08:27:18.498Z"
   },
   {
    "duration": 24,
    "start_time": "2022-01-12T08:27:19.303Z"
   },
   {
    "duration": 8,
    "start_time": "2022-01-12T08:27:19.329Z"
   },
   {
    "duration": 140,
    "start_time": "2022-01-12T08:27:19.338Z"
   },
   {
    "duration": 10,
    "start_time": "2022-01-12T08:27:19.481Z"
   },
   {
    "duration": 153,
    "start_time": "2022-01-12T08:27:19.493Z"
   },
   {
    "duration": 136,
    "start_time": "2022-01-12T08:27:19.647Z"
   },
   {
    "duration": 6,
    "start_time": "2022-01-12T08:27:19.785Z"
   },
   {
    "duration": 9888,
    "start_time": "2022-01-12T08:27:19.793Z"
   },
   {
    "duration": -47,
    "start_time": "2022-01-12T08:27:29.730Z"
   },
   {
    "duration": -49,
    "start_time": "2022-01-12T08:27:29.733Z"
   },
   {
    "duration": -51,
    "start_time": "2022-01-12T08:27:29.737Z"
   },
   {
    "duration": -56,
    "start_time": "2022-01-12T08:27:29.743Z"
   },
   {
    "duration": -58,
    "start_time": "2022-01-12T08:27:29.746Z"
   },
   {
    "duration": -60,
    "start_time": "2022-01-12T08:27:29.748Z"
   },
   {
    "duration": -62,
    "start_time": "2022-01-12T08:27:29.751Z"
   },
   {
    "duration": -64,
    "start_time": "2022-01-12T08:27:29.754Z"
   },
   {
    "duration": -65,
    "start_time": "2022-01-12T08:27:29.756Z"
   },
   {
    "duration": -88,
    "start_time": "2022-01-12T08:27:29.780Z"
   },
   {
    "duration": -91,
    "start_time": "2022-01-12T08:27:29.784Z"
   },
   {
    "duration": -94,
    "start_time": "2022-01-12T08:27:29.788Z"
   },
   {
    "duration": -96,
    "start_time": "2022-01-12T08:27:29.791Z"
   },
   {
    "duration": -99,
    "start_time": "2022-01-12T08:27:29.795Z"
   },
   {
    "duration": -106,
    "start_time": "2022-01-12T08:27:29.803Z"
   },
   {
    "duration": 4,
    "start_time": "2022-01-12T08:27:56.257Z"
   },
   {
    "duration": 6,
    "start_time": "2022-01-12T08:27:56.265Z"
   },
   {
    "duration": 801,
    "start_time": "2022-01-12T08:27:56.273Z"
   },
   {
    "duration": 27,
    "start_time": "2022-01-12T08:27:57.076Z"
   },
   {
    "duration": 4,
    "start_time": "2022-01-12T08:27:57.105Z"
   },
   {
    "duration": 129,
    "start_time": "2022-01-12T08:27:57.110Z"
   },
   {
    "duration": 5,
    "start_time": "2022-01-12T08:27:57.241Z"
   },
   {
    "duration": 117,
    "start_time": "2022-01-12T08:27:57.247Z"
   },
   {
    "duration": 123,
    "start_time": "2022-01-12T08:27:57.365Z"
   },
   {
    "duration": 25,
    "start_time": "2022-01-12T08:27:57.491Z"
   },
   {
    "duration": 63491,
    "start_time": "2022-01-12T08:27:57.518Z"
   },
   {
    "duration": 121,
    "start_time": "2022-01-12T08:29:01.011Z"
   },
   {
    "duration": 281,
    "start_time": "2022-01-12T08:29:01.134Z"
   },
   {
    "duration": 56,
    "start_time": "2022-01-12T08:29:01.416Z"
   },
   {
    "duration": 3,
    "start_time": "2022-01-12T08:29:01.474Z"
   },
   {
    "duration": 181,
    "start_time": "2022-01-12T08:29:01.491Z"
   },
   {
    "duration": 3,
    "start_time": "2022-01-12T08:29:01.674Z"
   },
   {
    "duration": 36,
    "start_time": "2022-01-12T08:29:01.678Z"
   },
   {
    "duration": 30,
    "start_time": "2022-01-12T08:29:01.716Z"
   },
   {
    "duration": 23,
    "start_time": "2022-01-12T08:29:01.748Z"
   },
   {
    "duration": 26,
    "start_time": "2022-01-12T08:29:01.772Z"
   },
   {
    "duration": 21,
    "start_time": "2022-01-12T08:29:01.800Z"
   },
   {
    "duration": 42,
    "start_time": "2022-01-12T08:29:01.823Z"
   },
   {
    "duration": 26,
    "start_time": "2022-01-12T08:29:01.866Z"
   },
   {
    "duration": 40,
    "start_time": "2022-01-12T08:29:01.894Z"
   },
   {
    "duration": 280,
    "start_time": "2022-01-12T08:29:01.936Z"
   },
   {
    "duration": 4602,
    "start_time": "2022-01-12T08:44:22.758Z"
   },
   {
    "duration": 4,
    "start_time": "2022-01-12T08:46:29.149Z"
   },
   {
    "duration": 5,
    "start_time": "2022-01-12T08:46:29.155Z"
   },
   {
    "duration": 774,
    "start_time": "2022-01-12T08:46:29.162Z"
   },
   {
    "duration": 23,
    "start_time": "2022-01-12T08:46:29.938Z"
   },
   {
    "duration": 3,
    "start_time": "2022-01-12T08:46:29.963Z"
   },
   {
    "duration": 142,
    "start_time": "2022-01-12T08:46:29.968Z"
   },
   {
    "duration": 4,
    "start_time": "2022-01-12T08:46:30.113Z"
   },
   {
    "duration": 142,
    "start_time": "2022-01-12T08:46:30.119Z"
   },
   {
    "duration": 126,
    "start_time": "2022-01-12T08:46:30.263Z"
   },
   {
    "duration": 3,
    "start_time": "2022-01-12T08:46:30.391Z"
   },
   {
    "duration": 62303,
    "start_time": "2022-01-12T08:46:30.396Z"
   },
   {
    "duration": 123,
    "start_time": "2022-01-12T08:47:32.701Z"
   },
   {
    "duration": 267,
    "start_time": "2022-01-12T08:47:32.826Z"
   },
   {
    "duration": 34,
    "start_time": "2022-01-12T08:47:33.095Z"
   },
   {
    "duration": 4,
    "start_time": "2022-01-12T08:47:33.130Z"
   },
   {
    "duration": 157,
    "start_time": "2022-01-12T08:47:33.135Z"
   },
   {
    "duration": 3,
    "start_time": "2022-01-12T08:47:33.294Z"
   },
   {
    "duration": 7,
    "start_time": "2022-01-12T08:47:33.298Z"
   },
   {
    "duration": 5,
    "start_time": "2022-01-12T08:47:33.307Z"
   },
   {
    "duration": 10,
    "start_time": "2022-01-12T08:47:33.313Z"
   },
   {
    "duration": 8,
    "start_time": "2022-01-12T08:47:33.324Z"
   },
   {
    "duration": 5,
    "start_time": "2022-01-12T08:47:33.333Z"
   },
   {
    "duration": 8,
    "start_time": "2022-01-12T08:47:33.339Z"
   },
   {
    "duration": 5,
    "start_time": "2022-01-12T08:47:33.349Z"
   },
   {
    "duration": 5,
    "start_time": "2022-01-12T08:47:33.356Z"
   },
   {
    "duration": 5,
    "start_time": "2022-01-12T08:47:33.362Z"
   },
   {
    "duration": 5553,
    "start_time": "2022-01-12T08:47:33.368Z"
   },
   {
    "duration": 1914,
    "start_time": "2022-01-12T08:47:53.927Z"
   },
   {
    "duration": 15,
    "start_time": "2022-01-12T08:48:09.750Z"
   },
   {
    "duration": 121,
    "start_time": "2022-01-12T08:48:37.867Z"
   },
   {
    "duration": 124,
    "start_time": "2022-01-12T08:48:51.877Z"
   },
   {
    "duration": 1128,
    "start_time": "2022-01-12T08:59:09.064Z"
   },
   {
    "duration": 5660,
    "start_time": "2022-01-12T08:59:20.762Z"
   },
   {
    "duration": 4770,
    "start_time": "2022-01-12T08:59:32.001Z"
   },
   {
    "duration": 6034,
    "start_time": "2022-01-12T08:59:56.057Z"
   },
   {
    "duration": 4638,
    "start_time": "2022-01-12T09:00:17.842Z"
   },
   {
    "duration": 4,
    "start_time": "2022-01-12T09:00:34.857Z"
   },
   {
    "duration": 10,
    "start_time": "2022-01-12T09:00:34.862Z"
   },
   {
    "duration": 777,
    "start_time": "2022-01-12T09:00:34.875Z"
   },
   {
    "duration": 24,
    "start_time": "2022-01-12T09:00:35.654Z"
   },
   {
    "duration": 14,
    "start_time": "2022-01-12T09:00:35.680Z"
   },
   {
    "duration": 135,
    "start_time": "2022-01-12T09:00:35.695Z"
   },
   {
    "duration": 4,
    "start_time": "2022-01-12T09:00:35.832Z"
   },
   {
    "duration": 112,
    "start_time": "2022-01-12T09:00:35.838Z"
   },
   {
    "duration": 120,
    "start_time": "2022-01-12T09:00:35.952Z"
   },
   {
    "duration": 3,
    "start_time": "2022-01-12T09:00:36.074Z"
   },
   {
    "duration": 63021,
    "start_time": "2022-01-12T09:00:36.078Z"
   },
   {
    "duration": 114,
    "start_time": "2022-01-12T09:01:39.101Z"
   },
   {
    "duration": 266,
    "start_time": "2022-01-12T09:01:39.216Z"
   },
   {
    "duration": 41,
    "start_time": "2022-01-12T09:01:39.483Z"
   },
   {
    "duration": 3,
    "start_time": "2022-01-12T09:01:39.525Z"
   },
   {
    "duration": 169,
    "start_time": "2022-01-12T09:01:39.529Z"
   },
   {
    "duration": 3,
    "start_time": "2022-01-12T09:01:39.700Z"
   },
   {
    "duration": 10,
    "start_time": "2022-01-12T09:01:39.704Z"
   },
   {
    "duration": 5,
    "start_time": "2022-01-12T09:01:39.715Z"
   },
   {
    "duration": 6,
    "start_time": "2022-01-12T09:01:39.722Z"
   },
   {
    "duration": 9,
    "start_time": "2022-01-12T09:01:39.730Z"
   },
   {
    "duration": 5,
    "start_time": "2022-01-12T09:01:39.740Z"
   },
   {
    "duration": 5,
    "start_time": "2022-01-12T09:01:39.746Z"
   },
   {
    "duration": 4,
    "start_time": "2022-01-12T09:01:39.753Z"
   },
   {
    "duration": 1174,
    "start_time": "2022-01-12T09:01:39.758Z"
   },
   {
    "duration": 2,
    "start_time": "2022-01-12T09:01:40.934Z"
   },
   {
    "duration": 190,
    "start_time": "2022-01-12T09:02:18.756Z"
   },
   {
    "duration": 4,
    "start_time": "2022-01-12T09:02:56.912Z"
   },
   {
    "duration": 1436,
    "start_time": "2022-01-12T09:03:37.382Z"
   },
   {
    "duration": 176,
    "start_time": "2022-01-12T09:05:33.318Z"
   },
   {
    "duration": 4,
    "start_time": "2022-01-12T09:05:37.392Z"
   },
   {
    "duration": 1568,
    "start_time": "2022-01-12T09:11:22.626Z"
   },
   {
    "duration": 24,
    "start_time": "2022-01-12T09:13:55.462Z"
   },
   {
    "duration": 6634,
    "start_time": "2022-01-12T10:55:10.239Z"
   },
   {
    "duration": 4,
    "start_time": "2022-01-12T10:55:30.186Z"
   },
   {
    "duration": 8,
    "start_time": "2022-01-12T10:55:30.192Z"
   },
   {
    "duration": 734,
    "start_time": "2022-01-12T10:55:30.202Z"
   },
   {
    "duration": 24,
    "start_time": "2022-01-12T10:55:30.939Z"
   },
   {
    "duration": 3,
    "start_time": "2022-01-12T10:55:30.965Z"
   },
   {
    "duration": 152,
    "start_time": "2022-01-12T10:55:30.970Z"
   },
   {
    "duration": 5,
    "start_time": "2022-01-12T10:55:31.124Z"
   },
   {
    "duration": 144,
    "start_time": "2022-01-12T10:55:31.131Z"
   },
   {
    "duration": 145,
    "start_time": "2022-01-12T10:55:31.279Z"
   },
   {
    "duration": 3,
    "start_time": "2022-01-12T10:55:31.426Z"
   },
   {
    "duration": 61568,
    "start_time": "2022-01-12T10:55:31.431Z"
   },
   {
    "duration": 116,
    "start_time": "2022-01-12T10:56:33.000Z"
   },
   {
    "duration": 274,
    "start_time": "2022-01-12T10:56:33.118Z"
   },
   {
    "duration": 33,
    "start_time": "2022-01-12T10:56:33.394Z"
   },
   {
    "duration": 7,
    "start_time": "2022-01-12T10:56:33.428Z"
   },
   {
    "duration": 184,
    "start_time": "2022-01-12T10:56:33.436Z"
   },
   {
    "duration": 4,
    "start_time": "2022-01-12T10:56:33.622Z"
   },
   {
    "duration": 36,
    "start_time": "2022-01-12T10:56:33.628Z"
   },
   {
    "duration": 27,
    "start_time": "2022-01-12T10:56:33.666Z"
   },
   {
    "duration": 30,
    "start_time": "2022-01-12T10:56:33.695Z"
   },
   {
    "duration": 39,
    "start_time": "2022-01-12T10:56:33.726Z"
   },
   {
    "duration": 29,
    "start_time": "2022-01-12T10:56:33.767Z"
   },
   {
    "duration": 42,
    "start_time": "2022-01-12T10:56:33.798Z"
   },
   {
    "duration": 41,
    "start_time": "2022-01-12T10:56:33.842Z"
   },
   {
    "duration": 25,
    "start_time": "2022-01-12T10:56:33.885Z"
   },
   {
    "duration": 176,
    "start_time": "2022-01-12T10:56:33.912Z"
   },
   {
    "duration": 189,
    "start_time": "2022-01-12T10:56:34.093Z"
   },
   {
    "duration": 443,
    "start_time": "2022-01-12T11:24:03.686Z"
   },
   {
    "duration": 151,
    "start_time": "2022-01-12T11:24:14.615Z"
   },
   {
    "duration": 2,
    "start_time": "2022-01-12T11:24:24.023Z"
   },
   {
    "duration": 177,
    "start_time": "2022-01-12T11:48:15.192Z"
   },
   {
    "duration": 8193,
    "start_time": "2022-01-12T11:48:39.182Z"
   },
   {
    "duration": 4519,
    "start_time": "2022-01-12T11:49:08.041Z"
   },
   {
    "duration": 4,
    "start_time": "2022-01-12T11:49:46.176Z"
   },
   {
    "duration": 5,
    "start_time": "2022-01-12T11:49:46.187Z"
   },
   {
    "duration": 722,
    "start_time": "2022-01-12T11:49:46.193Z"
   },
   {
    "duration": 24,
    "start_time": "2022-01-12T11:49:46.917Z"
   },
   {
    "duration": 3,
    "start_time": "2022-01-12T11:49:46.944Z"
   },
   {
    "duration": 137,
    "start_time": "2022-01-12T11:49:46.949Z"
   },
   {
    "duration": 4,
    "start_time": "2022-01-12T11:49:47.091Z"
   },
   {
    "duration": 114,
    "start_time": "2022-01-12T11:49:47.097Z"
   },
   {
    "duration": 125,
    "start_time": "2022-01-12T11:49:47.213Z"
   },
   {
    "duration": 3,
    "start_time": "2022-01-12T11:49:47.339Z"
   },
   {
    "duration": 62272,
    "start_time": "2022-01-12T11:49:47.344Z"
   },
   {
    "duration": 152,
    "start_time": "2022-01-12T11:50:49.618Z"
   },
   {
    "duration": 278,
    "start_time": "2022-01-12T11:50:49.771Z"
   },
   {
    "duration": 44,
    "start_time": "2022-01-12T11:50:50.051Z"
   },
   {
    "duration": 3,
    "start_time": "2022-01-12T11:50:50.096Z"
   },
   {
    "duration": 161,
    "start_time": "2022-01-12T11:50:50.101Z"
   },
   {
    "duration": 3,
    "start_time": "2022-01-12T11:50:50.264Z"
   },
   {
    "duration": 9,
    "start_time": "2022-01-12T11:50:50.269Z"
   },
   {
    "duration": 9,
    "start_time": "2022-01-12T11:50:50.279Z"
   },
   {
    "duration": 9,
    "start_time": "2022-01-12T11:50:50.291Z"
   },
   {
    "duration": 19,
    "start_time": "2022-01-12T11:50:50.302Z"
   },
   {
    "duration": 14,
    "start_time": "2022-01-12T11:50:50.322Z"
   },
   {
    "duration": 10,
    "start_time": "2022-01-12T11:50:50.337Z"
   },
   {
    "duration": 6,
    "start_time": "2022-01-12T11:50:50.348Z"
   },
   {
    "duration": 6,
    "start_time": "2022-01-12T11:50:50.356Z"
   },
   {
    "duration": 183,
    "start_time": "2022-01-12T11:50:50.363Z"
   },
   {
    "duration": 3,
    "start_time": "2022-01-12T11:50:50.548Z"
   },
   {
    "duration": 5845,
    "start_time": "2022-01-12T11:51:38.559Z"
   },
   {
    "duration": 4,
    "start_time": "2022-01-12T11:51:57.133Z"
   },
   {
    "duration": 6,
    "start_time": "2022-01-12T11:51:57.139Z"
   },
   {
    "duration": 712,
    "start_time": "2022-01-12T11:51:57.147Z"
   },
   {
    "duration": 32,
    "start_time": "2022-01-12T11:51:57.861Z"
   },
   {
    "duration": 4,
    "start_time": "2022-01-12T11:51:57.894Z"
   },
   {
    "duration": 137,
    "start_time": "2022-01-12T11:51:57.900Z"
   },
   {
    "duration": 5,
    "start_time": "2022-01-12T11:51:58.038Z"
   },
   {
    "duration": 146,
    "start_time": "2022-01-12T11:51:58.045Z"
   },
   {
    "duration": 119,
    "start_time": "2022-01-12T11:51:58.194Z"
   },
   {
    "duration": 3,
    "start_time": "2022-01-12T11:51:58.315Z"
   },
   {
    "duration": 62147,
    "start_time": "2022-01-12T11:51:58.319Z"
   },
   {
    "duration": 116,
    "start_time": "2022-01-12T11:53:00.468Z"
   },
   {
    "duration": 266,
    "start_time": "2022-01-12T11:53:00.586Z"
   },
   {
    "duration": 47,
    "start_time": "2022-01-12T11:53:00.854Z"
   },
   {
    "duration": 2,
    "start_time": "2022-01-12T11:53:00.904Z"
   },
   {
    "duration": 164,
    "start_time": "2022-01-12T11:53:00.908Z"
   },
   {
    "duration": 3,
    "start_time": "2022-01-12T11:53:01.074Z"
   },
   {
    "duration": 13,
    "start_time": "2022-01-12T11:53:01.079Z"
   },
   {
    "duration": 15,
    "start_time": "2022-01-12T11:53:01.094Z"
   },
   {
    "duration": 22,
    "start_time": "2022-01-12T11:53:01.111Z"
   },
   {
    "duration": 7,
    "start_time": "2022-01-12T11:53:01.135Z"
   },
   {
    "duration": 15,
    "start_time": "2022-01-12T11:53:01.143Z"
   },
   {
    "duration": 14,
    "start_time": "2022-01-12T11:53:01.160Z"
   },
   {
    "duration": 13,
    "start_time": "2022-01-12T11:53:01.176Z"
   },
   {
    "duration": 10,
    "start_time": "2022-01-12T11:53:01.190Z"
   },
   {
    "duration": 169,
    "start_time": "2022-01-12T11:53:01.202Z"
   },
   {
    "duration": 3,
    "start_time": "2022-01-12T11:53:01.374Z"
   },
   {
    "duration": 5053,
    "start_time": "2022-01-12T11:55:04.839Z"
   },
   {
    "duration": 4,
    "start_time": "2022-01-12T11:55:14.181Z"
   },
   {
    "duration": 8,
    "start_time": "2022-01-12T11:55:14.187Z"
   },
   {
    "duration": 695,
    "start_time": "2022-01-12T11:55:14.197Z"
   },
   {
    "duration": 23,
    "start_time": "2022-01-12T11:55:14.894Z"
   },
   {
    "duration": 3,
    "start_time": "2022-01-12T11:55:14.919Z"
   },
   {
    "duration": 141,
    "start_time": "2022-01-12T11:55:14.923Z"
   },
   {
    "duration": 5,
    "start_time": "2022-01-12T11:55:15.065Z"
   },
   {
    "duration": 144,
    "start_time": "2022-01-12T11:55:15.072Z"
   },
   {
    "duration": 123,
    "start_time": "2022-01-12T11:55:15.219Z"
   },
   {
    "duration": 9,
    "start_time": "2022-01-12T11:55:15.344Z"
   },
   {
    "duration": 62228,
    "start_time": "2022-01-12T11:55:15.354Z"
   },
   {
    "duration": 114,
    "start_time": "2022-01-12T11:56:17.584Z"
   },
   {
    "duration": 264,
    "start_time": "2022-01-12T11:56:17.700Z"
   },
   {
    "duration": 48,
    "start_time": "2022-01-12T11:56:17.966Z"
   },
   {
    "duration": 3,
    "start_time": "2022-01-12T11:56:18.015Z"
   },
   {
    "duration": 159,
    "start_time": "2022-01-12T11:56:18.019Z"
   },
   {
    "duration": 3,
    "start_time": "2022-01-12T11:56:18.180Z"
   },
   {
    "duration": 2,
    "start_time": "2022-01-12T11:56:18.191Z"
   },
   {
    "duration": 5,
    "start_time": "2022-01-12T11:56:18.195Z"
   },
   {
    "duration": 5,
    "start_time": "2022-01-12T11:56:18.202Z"
   },
   {
    "duration": 8,
    "start_time": "2022-01-12T11:56:18.209Z"
   },
   {
    "duration": 7,
    "start_time": "2022-01-12T11:56:18.219Z"
   },
   {
    "duration": 13,
    "start_time": "2022-01-12T11:56:18.228Z"
   },
   {
    "duration": 10,
    "start_time": "2022-01-12T11:56:18.243Z"
   },
   {
    "duration": 14,
    "start_time": "2022-01-12T11:56:18.255Z"
   },
   {
    "duration": 151,
    "start_time": "2022-01-12T11:56:18.271Z"
   },
   {
    "duration": 2,
    "start_time": "2022-01-12T11:56:18.425Z"
   },
   {
    "duration": 861,
    "start_time": "2022-01-12T11:58:52.876Z"
   },
   {
    "duration": 313,
    "start_time": "2022-01-12T12:00:19.883Z"
   },
   {
    "duration": 2025,
    "start_time": "2022-01-12T12:05:38.967Z"
   },
   {
    "duration": 221,
    "start_time": "2022-01-12T12:17:56.235Z"
   },
   {
    "duration": 8,
    "start_time": "2022-01-12T12:18:18.618Z"
   },
   {
    "duration": 1557,
    "start_time": "2022-01-12T12:18:18.630Z"
   },
   {
    "duration": 900,
    "start_time": "2022-01-12T12:18:20.189Z"
   },
   {
    "duration": 24,
    "start_time": "2022-01-12T12:18:21.091Z"
   },
   {
    "duration": 4,
    "start_time": "2022-01-12T12:18:21.117Z"
   },
   {
    "duration": 143,
    "start_time": "2022-01-12T12:18:21.123Z"
   },
   {
    "duration": 5,
    "start_time": "2022-01-12T12:18:21.268Z"
   },
   {
    "duration": 166,
    "start_time": "2022-01-12T12:18:21.274Z"
   },
   {
    "duration": 134,
    "start_time": "2022-01-12T12:18:21.444Z"
   },
   {
    "duration": 3,
    "start_time": "2022-01-12T12:18:21.581Z"
   },
   {
    "duration": 61123,
    "start_time": "2022-01-12T12:18:21.592Z"
   },
   {
    "duration": 118,
    "start_time": "2022-01-12T12:19:22.717Z"
   },
   {
    "duration": 284,
    "start_time": "2022-01-12T12:19:22.837Z"
   },
   {
    "duration": 69,
    "start_time": "2022-01-12T12:19:23.123Z"
   },
   {
    "duration": 3,
    "start_time": "2022-01-12T12:19:23.194Z"
   },
   {
    "duration": 180,
    "start_time": "2022-01-12T12:19:23.199Z"
   },
   {
    "duration": 3,
    "start_time": "2022-01-12T12:19:23.381Z"
   },
   {
    "duration": 2,
    "start_time": "2022-01-12T12:19:23.391Z"
   },
   {
    "duration": 5,
    "start_time": "2022-01-12T12:19:23.394Z"
   },
   {
    "duration": 5,
    "start_time": "2022-01-12T12:19:23.401Z"
   },
   {
    "duration": 10,
    "start_time": "2022-01-12T12:19:23.407Z"
   },
   {
    "duration": 6,
    "start_time": "2022-01-12T12:19:23.419Z"
   },
   {
    "duration": 8,
    "start_time": "2022-01-12T12:19:23.427Z"
   },
   {
    "duration": 10,
    "start_time": "2022-01-12T12:19:23.438Z"
   },
   {
    "duration": 9,
    "start_time": "2022-01-12T12:19:23.450Z"
   },
   {
    "duration": 186,
    "start_time": "2022-01-12T12:19:23.461Z"
   },
   {
    "duration": 839,
    "start_time": "2022-01-12T12:19:23.649Z"
   },
   {
    "duration": 2209,
    "start_time": "2022-01-12T12:19:24.490Z"
   },
   {
    "duration": 30097,
    "start_time": "2022-01-12T12:19:26.702Z"
   },
   {
    "duration": 4,
    "start_time": "2022-01-12T12:49:18.125Z"
   },
   {
    "duration": 18,
    "start_time": "2022-01-12T12:49:18.135Z"
   },
   {
    "duration": 809,
    "start_time": "2022-01-12T12:49:18.155Z"
   },
   {
    "duration": 23,
    "start_time": "2022-01-12T12:49:18.966Z"
   },
   {
    "duration": 3,
    "start_time": "2022-01-12T12:49:18.991Z"
   },
   {
    "duration": 134,
    "start_time": "2022-01-12T12:49:18.996Z"
   },
   {
    "duration": 5,
    "start_time": "2022-01-12T12:49:19.132Z"
   },
   {
    "duration": 119,
    "start_time": "2022-01-12T12:49:19.139Z"
   },
   {
    "duration": 130,
    "start_time": "2022-01-12T12:49:19.261Z"
   },
   {
    "duration": 2,
    "start_time": "2022-01-12T12:49:19.395Z"
   },
   {
    "duration": 62859,
    "start_time": "2022-01-12T12:49:19.399Z"
   },
   {
    "duration": 119,
    "start_time": "2022-01-12T12:50:22.260Z"
   },
   {
    "duration": 262,
    "start_time": "2022-01-12T12:50:22.381Z"
   },
   {
    "duration": 48,
    "start_time": "2022-01-12T12:50:22.645Z"
   },
   {
    "duration": 3,
    "start_time": "2022-01-12T12:50:22.695Z"
   },
   {
    "duration": 182,
    "start_time": "2022-01-12T12:50:22.699Z"
   },
   {
    "duration": 9,
    "start_time": "2022-01-12T12:50:22.883Z"
   },
   {
    "duration": 14,
    "start_time": "2022-01-12T12:50:22.894Z"
   },
   {
    "duration": 57,
    "start_time": "2022-01-12T12:50:22.910Z"
   },
   {
    "duration": 5,
    "start_time": "2022-01-12T12:50:22.969Z"
   },
   {
    "duration": 5,
    "start_time": "2022-01-12T12:50:22.976Z"
   },
   {
    "duration": 5,
    "start_time": "2022-01-12T12:50:22.982Z"
   },
   {
    "duration": 8,
    "start_time": "2022-01-12T12:50:22.989Z"
   },
   {
    "duration": 5,
    "start_time": "2022-01-12T12:50:22.998Z"
   },
   {
    "duration": 6,
    "start_time": "2022-01-12T12:50:23.005Z"
   },
   {
    "duration": 177,
    "start_time": "2022-01-12T12:50:23.012Z"
   },
   {
    "duration": 891,
    "start_time": "2022-01-12T12:50:23.191Z"
   },
   {
    "duration": 2212,
    "start_time": "2022-01-12T12:50:24.085Z"
   },
   {
    "duration": 303,
    "start_time": "2022-01-12T12:50:26.298Z"
   },
   {
    "duration": 4,
    "start_time": "2022-01-12T12:51:55.318Z"
   },
   {
    "duration": 5,
    "start_time": "2022-01-12T12:51:55.324Z"
   },
   {
    "duration": 712,
    "start_time": "2022-01-12T12:51:55.331Z"
   },
   {
    "duration": 24,
    "start_time": "2022-01-12T12:51:56.045Z"
   },
   {
    "duration": 4,
    "start_time": "2022-01-12T12:51:56.070Z"
   },
   {
    "duration": 143,
    "start_time": "2022-01-12T12:51:56.076Z"
   },
   {
    "duration": 5,
    "start_time": "2022-01-12T12:51:56.220Z"
   },
   {
    "duration": 142,
    "start_time": "2022-01-12T12:51:56.227Z"
   },
   {
    "duration": 122,
    "start_time": "2022-01-12T12:51:56.372Z"
   },
   {
    "duration": 3,
    "start_time": "2022-01-12T12:51:56.496Z"
   },
   {
    "duration": 62311,
    "start_time": "2022-01-12T12:51:56.501Z"
   },
   {
    "duration": 121,
    "start_time": "2022-01-12T12:52:58.814Z"
   },
   {
    "duration": 274,
    "start_time": "2022-01-12T12:52:58.937Z"
   },
   {
    "duration": 36,
    "start_time": "2022-01-12T12:52:59.213Z"
   },
   {
    "duration": 3,
    "start_time": "2022-01-12T12:52:59.250Z"
   },
   {
    "duration": 173,
    "start_time": "2022-01-12T12:52:59.254Z"
   },
   {
    "duration": 4,
    "start_time": "2022-01-12T12:52:59.428Z"
   },
   {
    "duration": 8,
    "start_time": "2022-01-12T12:52:59.433Z"
   },
   {
    "duration": 174,
    "start_time": "2022-01-12T13:31:46.102Z"
   },
   {
    "duration": 7,
    "start_time": "2022-01-12T13:32:11.605Z"
   },
   {
    "duration": 2103,
    "start_time": "2022-01-12T13:32:11.614Z"
   },
   {
    "duration": 819,
    "start_time": "2022-01-12T13:32:13.718Z"
   },
   {
    "duration": 21,
    "start_time": "2022-01-12T13:32:14.539Z"
   },
   {
    "duration": 3,
    "start_time": "2022-01-12T13:32:14.562Z"
   },
   {
    "duration": 136,
    "start_time": "2022-01-12T13:32:14.566Z"
   },
   {
    "duration": 9,
    "start_time": "2022-01-12T13:32:14.704Z"
   },
   {
    "duration": 147,
    "start_time": "2022-01-12T13:32:14.715Z"
   },
   {
    "duration": 130,
    "start_time": "2022-01-12T13:32:14.863Z"
   },
   {
    "duration": 4,
    "start_time": "2022-01-12T13:32:14.995Z"
   },
   {
    "duration": 55396,
    "start_time": "2022-01-12T13:32:15.001Z"
   },
   {
    "duration": 115,
    "start_time": "2022-01-12T13:33:10.399Z"
   },
   {
    "duration": 259,
    "start_time": "2022-01-12T13:33:10.515Z"
   },
   {
    "duration": 81,
    "start_time": "2022-01-12T13:33:10.776Z"
   },
   {
    "duration": 3,
    "start_time": "2022-01-12T13:33:10.858Z"
   },
   {
    "duration": 186,
    "start_time": "2022-01-12T13:33:10.862Z"
   },
   {
    "duration": 2,
    "start_time": "2022-01-12T13:33:11.050Z"
   },
   {
    "duration": 8,
    "start_time": "2022-01-12T13:33:11.053Z"
   },
   {
    "duration": 142,
    "start_time": "2022-01-12T13:54:18.489Z"
   },
   {
    "duration": 122,
    "start_time": "2022-01-12T13:54:18.511Z"
   },
   {
    "duration": 121,
    "start_time": "2022-01-12T13:54:18.514Z"
   },
   {
    "duration": 118,
    "start_time": "2022-01-12T13:54:18.518Z"
   },
   {
    "duration": 118,
    "start_time": "2022-01-12T13:54:18.520Z"
   },
   {
    "duration": 115,
    "start_time": "2022-01-12T13:54:18.524Z"
   },
   {
    "duration": 114,
    "start_time": "2022-01-12T13:54:18.527Z"
   },
   {
    "duration": 112,
    "start_time": "2022-01-12T13:54:18.530Z"
   },
   {
    "duration": 112,
    "start_time": "2022-01-12T13:54:18.532Z"
   },
   {
    "duration": 111,
    "start_time": "2022-01-12T13:54:18.535Z"
   },
   {
    "duration": 111,
    "start_time": "2022-01-12T13:54:18.537Z"
   },
   {
    "duration": 105,
    "start_time": "2022-01-12T13:54:18.546Z"
   },
   {
    "duration": 103,
    "start_time": "2022-01-12T13:54:18.550Z"
   },
   {
    "duration": 98,
    "start_time": "2022-01-12T13:54:18.557Z"
   },
   {
    "duration": 98,
    "start_time": "2022-01-12T13:54:18.560Z"
   },
   {
    "duration": 95,
    "start_time": "2022-01-12T13:54:18.564Z"
   },
   {
    "duration": 95,
    "start_time": "2022-01-12T13:54:18.566Z"
   },
   {
    "duration": 88,
    "start_time": "2022-01-12T13:54:18.574Z"
   },
   {
    "duration": 87,
    "start_time": "2022-01-12T13:54:18.577Z"
   },
   {
    "duration": 133,
    "start_time": "2022-01-12T13:54:18.579Z"
   },
   {
    "duration": 133,
    "start_time": "2022-01-12T13:54:18.581Z"
   },
   {
    "duration": 133,
    "start_time": "2022-01-12T13:54:18.583Z"
   },
   {
    "duration": 132,
    "start_time": "2022-01-12T13:54:18.585Z"
   },
   {
    "duration": 132,
    "start_time": "2022-01-12T13:54:18.587Z"
   },
   {
    "duration": 128,
    "start_time": "2022-01-12T13:54:18.592Z"
   },
   {
    "duration": 128,
    "start_time": "2022-01-12T13:54:18.594Z"
   },
   {
    "duration": 126,
    "start_time": "2022-01-12T13:54:18.597Z"
   },
   {
    "duration": 125,
    "start_time": "2022-01-12T13:54:18.599Z"
   },
   {
    "duration": 123,
    "start_time": "2022-01-12T13:54:18.601Z"
   },
   {
    "duration": 5,
    "start_time": "2022-01-12T13:54:49.269Z"
   },
   {
    "duration": 8,
    "start_time": "2022-01-12T13:54:49.276Z"
   },
   {
    "duration": 682,
    "start_time": "2022-01-12T13:54:49.286Z"
   },
   {
    "duration": 20,
    "start_time": "2022-01-12T13:54:49.970Z"
   },
   {
    "duration": 3,
    "start_time": "2022-01-12T13:54:49.991Z"
   },
   {
    "duration": 123,
    "start_time": "2022-01-12T13:54:49.996Z"
   },
   {
    "duration": 3,
    "start_time": "2022-01-12T13:54:50.121Z"
   },
   {
    "duration": 111,
    "start_time": "2022-01-12T13:54:50.126Z"
   },
   {
    "duration": 108,
    "start_time": "2022-01-12T13:54:50.240Z"
   },
   {
    "duration": 2,
    "start_time": "2022-01-12T13:54:50.350Z"
   },
   {
    "duration": 57271,
    "start_time": "2022-01-12T13:54:50.354Z"
   },
   {
    "duration": 113,
    "start_time": "2022-01-12T13:55:47.626Z"
   },
   {
    "duration": 262,
    "start_time": "2022-01-12T13:55:47.740Z"
   },
   {
    "duration": 37,
    "start_time": "2022-01-12T13:55:48.003Z"
   },
   {
    "duration": 2,
    "start_time": "2022-01-12T13:55:48.042Z"
   },
   {
    "duration": 158,
    "start_time": "2022-01-12T13:55:48.046Z"
   },
   {
    "duration": 2,
    "start_time": "2022-01-12T13:55:48.206Z"
   },
   {
    "duration": 6,
    "start_time": "2022-01-12T13:55:48.211Z"
   },
   {
    "duration": 4,
    "start_time": "2022-01-12T13:55:48.218Z"
   },
   {
    "duration": 4,
    "start_time": "2022-01-12T13:55:48.223Z"
   },
   {
    "duration": 171301,
    "start_time": "2022-01-12T13:55:48.228Z"
   },
   {
    "duration": 38690,
    "start_time": "2022-01-12T13:58:39.530Z"
   },
   {
    "duration": 33903,
    "start_time": "2022-01-12T13:59:18.222Z"
   },
   {
    "duration": 4,
    "start_time": "2022-01-12T13:59:52.127Z"
   },
   {
    "duration": 5,
    "start_time": "2022-01-12T13:59:52.213Z"
   },
   {
    "duration": 125,
    "start_time": "2022-01-12T13:59:52.220Z"
   },
   {
    "duration": 831,
    "start_time": "2022-01-12T13:59:52.348Z"
   },
   {
    "duration": 2443,
    "start_time": "2022-01-12T13:59:53.181Z"
   },
   {
    "duration": 183,
    "start_time": "2022-01-12T13:59:55.626Z"
   },
   {
    "duration": 31277,
    "start_time": "2022-01-12T14:01:26.212Z"
   },
   {
    "duration": 320,
    "start_time": "2022-01-12T14:24:30.195Z"
   },
   {
    "duration": 8,
    "start_time": "2022-01-12T14:26:08.710Z"
   },
   {
    "duration": 2024,
    "start_time": "2022-01-12T14:26:08.719Z"
   },
   {
    "duration": 654,
    "start_time": "2022-01-12T14:26:10.745Z"
   },
   {
    "duration": 25,
    "start_time": "2022-01-12T14:26:11.400Z"
   },
   {
    "duration": 3,
    "start_time": "2022-01-12T14:26:11.427Z"
   },
   {
    "duration": 118,
    "start_time": "2022-01-12T14:26:11.431Z"
   },
   {
    "duration": 4,
    "start_time": "2022-01-12T14:26:11.551Z"
   },
   {
    "duration": 124,
    "start_time": "2022-01-12T14:26:11.557Z"
   },
   {
    "duration": 106,
    "start_time": "2022-01-12T14:26:11.683Z"
   },
   {
    "duration": 2,
    "start_time": "2022-01-12T14:26:11.791Z"
   },
   {
    "duration": 56192,
    "start_time": "2022-01-12T14:26:11.794Z"
   },
   {
    "duration": 103,
    "start_time": "2022-01-12T14:27:07.987Z"
   },
   {
    "duration": 248,
    "start_time": "2022-01-12T14:27:08.092Z"
   },
   {
    "duration": 54,
    "start_time": "2022-01-12T14:27:08.342Z"
   },
   {
    "duration": 2,
    "start_time": "2022-01-12T14:27:08.397Z"
   },
   {
    "duration": 153,
    "start_time": "2022-01-12T14:27:08.400Z"
   },
   {
    "duration": 3,
    "start_time": "2022-01-12T14:27:08.555Z"
   },
   {
    "duration": 4,
    "start_time": "2022-01-12T14:27:08.560Z"
   },
   {
    "duration": 5,
    "start_time": "2022-01-12T14:27:08.566Z"
   },
   {
    "duration": 11,
    "start_time": "2022-01-12T14:27:08.572Z"
   },
   {
    "duration": 160341,
    "start_time": "2022-01-12T14:27:08.584Z"
   },
   {
    "duration": 10785,
    "start_time": "2022-01-12T14:29:48.927Z"
   },
   {
    "duration": 31503,
    "start_time": "2022-01-12T14:29:59.715Z"
   },
   {
    "duration": 3,
    "start_time": "2022-01-12T14:30:31.220Z"
   },
   {
    "duration": 221,
    "start_time": "2022-01-12T14:30:31.224Z"
   },
   {
    "duration": 3,
    "start_time": "2022-01-12T14:30:31.447Z"
   },
   {
    "duration": 68,
    "start_time": "2022-01-12T14:30:31.451Z"
   },
   {
    "duration": 695,
    "start_time": "2022-01-12T14:30:31.521Z"
   },
   {
    "duration": 1906,
    "start_time": "2022-01-12T14:30:32.218Z"
   },
   {
    "duration": 32700,
    "start_time": "2022-01-12T14:30:34.125Z"
   },
   {
    "duration": 72,
    "start_time": "2022-01-12T15:03:49.127Z"
   },
   {
    "duration": 11108,
    "start_time": "2022-01-12T15:03:57.519Z"
   },
   {
    "duration": 14,
    "start_time": "2022-01-13T06:37:12.631Z"
   },
   {
    "duration": 1607,
    "start_time": "2022-01-13T06:37:12.648Z"
   },
   {
    "duration": 1186,
    "start_time": "2022-01-13T06:37:14.258Z"
   },
   {
    "duration": 49,
    "start_time": "2022-01-13T06:37:15.447Z"
   },
   {
    "duration": 6,
    "start_time": "2022-01-13T06:37:15.499Z"
   },
   {
    "duration": 189,
    "start_time": "2022-01-13T06:37:15.508Z"
   },
   {
    "duration": 6,
    "start_time": "2022-01-13T06:37:15.699Z"
   },
   {
    "duration": 204,
    "start_time": "2022-01-13T06:37:15.709Z"
   },
   {
    "duration": 164,
    "start_time": "2022-01-13T06:37:15.916Z"
   },
   {
    "duration": 4,
    "start_time": "2022-01-13T06:37:16.082Z"
   },
   {
    "duration": 113150,
    "start_time": "2022-01-13T06:37:16.088Z"
   },
   {
    "duration": 154,
    "start_time": "2022-01-13T06:39:09.241Z"
   },
   {
    "duration": 382,
    "start_time": "2022-01-13T06:39:09.398Z"
   },
   {
    "duration": 100,
    "start_time": "2022-01-13T06:39:09.782Z"
   },
   {
    "duration": 4,
    "start_time": "2022-01-13T06:39:09.884Z"
   },
   {
    "duration": 343,
    "start_time": "2022-01-13T06:39:09.890Z"
   },
   {
    "duration": 3,
    "start_time": "2022-01-13T06:39:10.236Z"
   },
   {
    "duration": 8,
    "start_time": "2022-01-13T06:39:10.242Z"
   },
   {
    "duration": 14,
    "start_time": "2022-01-13T06:39:10.253Z"
   },
   {
    "duration": 6,
    "start_time": "2022-01-13T06:39:10.270Z"
   },
   {
    "duration": 302126,
    "start_time": "2022-01-13T06:39:10.278Z"
   },
   {
    "duration": 31771,
    "start_time": "2022-01-13T06:44:12.407Z"
   },
   {
    "duration": 53199,
    "start_time": "2022-01-13T06:44:44.183Z"
   },
   {
    "duration": 6,
    "start_time": "2022-01-13T06:45:37.468Z"
   },
   {
    "duration": 371,
    "start_time": "2022-01-13T06:45:37.477Z"
   },
   {
    "duration": 6,
    "start_time": "2022-01-13T06:45:37.851Z"
   },
   {
    "duration": 94,
    "start_time": "2022-01-13T06:45:37.860Z"
   },
   {
    "duration": 1601,
    "start_time": "2022-01-13T06:45:37.957Z"
   },
   {
    "duration": 3262,
    "start_time": "2022-01-13T06:45:39.561Z"
   },
   {
    "duration": 5777,
    "start_time": "2022-01-13T06:45:42.826Z"
   },
   {
    "duration": 584,
    "start_time": "2022-01-13T06:45:48.605Z"
   },
   {
    "duration": 176,
    "start_time": "2022-01-15T10:25:20.402Z"
   },
   {
    "duration": 7101,
    "start_time": "2022-01-15T10:25:20.581Z"
   },
   {
    "duration": -57,
    "start_time": "2022-01-15T10:25:27.750Z"
   },
   {
    "duration": -63,
    "start_time": "2022-01-15T10:25:27.757Z"
   },
   {
    "duration": -69,
    "start_time": "2022-01-15T10:25:27.764Z"
   },
   {
    "duration": -80,
    "start_time": "2022-01-15T10:25:27.776Z"
   },
   {
    "duration": -84,
    "start_time": "2022-01-15T10:25:27.781Z"
   },
   {
    "duration": -2,
    "start_time": "2022-01-15T10:25:27.785Z"
   },
   {
    "duration": -107,
    "start_time": "2022-01-15T10:25:27.892Z"
   },
   {
    "duration": -109,
    "start_time": "2022-01-15T10:25:27.896Z"
   },
   {
    "duration": -111,
    "start_time": "2022-01-15T10:25:27.899Z"
   },
   {
    "duration": -150,
    "start_time": "2022-01-15T10:25:27.939Z"
   },
   {
    "duration": 7,
    "start_time": "2022-01-15T10:25:27.961Z"
   },
   {
    "duration": 7,
    "start_time": "2022-01-15T10:25:27.964Z"
   },
   {
    "duration": 5,
    "start_time": "2022-01-15T10:25:27.968Z"
   },
   {
    "duration": 2,
    "start_time": "2022-01-15T10:25:27.973Z"
   },
   {
    "duration": -5,
    "start_time": "2022-01-15T10:25:27.982Z"
   },
   {
    "duration": -6,
    "start_time": "2022-01-15T10:25:27.985Z"
   },
   {
    "duration": -9,
    "start_time": "2022-01-15T10:25:27.989Z"
   },
   {
    "duration": -68,
    "start_time": "2022-01-15T10:25:28.051Z"
   },
   {
    "duration": -80,
    "start_time": "2022-01-15T10:25:28.065Z"
   },
   {
    "duration": -88,
    "start_time": "2022-01-15T10:25:28.075Z"
   },
   {
    "duration": -106,
    "start_time": "2022-01-15T10:25:28.095Z"
   },
   {
    "duration": -32,
    "start_time": "2022-01-15T10:25:28.098Z"
   },
   {
    "duration": -33,
    "start_time": "2022-01-15T10:25:28.101Z"
   },
   {
    "duration": -35,
    "start_time": "2022-01-15T10:25:28.106Z"
   },
   {
    "duration": -85,
    "start_time": "2022-01-15T10:25:28.158Z"
   },
   {
    "duration": -92,
    "start_time": "2022-01-15T10:25:28.167Z"
   },
   {
    "duration": -98,
    "start_time": "2022-01-15T10:25:28.175Z"
   },
   {
    "duration": -99,
    "start_time": "2022-01-15T10:25:28.178Z"
   },
   {
    "duration": -100,
    "start_time": "2022-01-15T10:25:28.181Z"
   },
   {
    "duration": -106,
    "start_time": "2022-01-15T10:25:28.189Z"
   },
   {
    "duration": -174,
    "start_time": "2022-01-15T10:25:28.259Z"
   },
   {
    "duration": -176,
    "start_time": "2022-01-15T10:25:28.263Z"
   },
   {
    "duration": -182,
    "start_time": "2022-01-15T10:25:28.270Z"
   },
   {
    "duration": -185,
    "start_time": "2022-01-15T10:25:28.274Z"
   },
   {
    "duration": -109,
    "start_time": "2022-01-15T10:25:28.278Z"
   },
   {
    "duration": -117,
    "start_time": "2022-01-15T10:25:28.288Z"
   },
   {
    "duration": -119,
    "start_time": "2022-01-15T10:25:28.292Z"
   },
   {
    "duration": 6,
    "start_time": "2022-01-15T10:31:44.544Z"
   },
   {
    "duration": 253,
    "start_time": "2022-01-15T10:31:44.579Z"
   },
   {
    "duration": 1199,
    "start_time": "2022-01-15T10:31:44.835Z"
   },
   {
    "duration": 48,
    "start_time": "2022-01-15T10:31:46.037Z"
   },
   {
    "duration": 6,
    "start_time": "2022-01-15T10:31:46.088Z"
   },
   {
    "duration": 218,
    "start_time": "2022-01-15T10:31:46.096Z"
   },
   {
    "duration": 6,
    "start_time": "2022-01-15T10:31:46.317Z"
   },
   {
    "duration": 6,
    "start_time": "2022-01-15T10:31:46.326Z"
   },
   {
    "duration": 6,
    "start_time": "2022-01-15T10:31:46.335Z"
   },
   {
    "duration": 215,
    "start_time": "2022-01-15T10:31:46.345Z"
   },
   {
    "duration": 174,
    "start_time": "2022-01-15T10:31:46.567Z"
   },
   {
    "duration": 4,
    "start_time": "2022-01-15T10:31:46.743Z"
   },
   {
    "duration": 113754,
    "start_time": "2022-01-15T10:31:46.766Z"
   },
   {
    "duration": 161,
    "start_time": "2022-01-15T10:33:40.523Z"
   },
   {
    "duration": 394,
    "start_time": "2022-01-15T10:33:40.687Z"
   },
   {
    "duration": 105,
    "start_time": "2022-01-15T10:33:41.084Z"
   },
   {
    "duration": 1040,
    "start_time": "2022-01-15T10:33:41.192Z"
   },
   {
    "duration": 350,
    "start_time": "2022-01-15T10:33:42.235Z"
   },
   {
    "duration": 312,
    "start_time": "2022-01-15T10:33:42.588Z"
   },
   {
    "duration": 11,
    "start_time": "2022-01-15T10:33:42.903Z"
   },
   {
    "duration": 408,
    "start_time": "2022-01-15T10:33:42.917Z"
   },
   {
    "duration": 163,
    "start_time": "2022-01-15T10:33:43.327Z"
   },
   {
    "duration": 5,
    "start_time": "2022-01-15T10:33:43.492Z"
   },
   {
    "duration": 6449,
    "start_time": "2022-01-15T10:33:43.499Z"
   },
   {
    "duration": 4,
    "start_time": "2022-01-15T10:33:49.950Z"
   },
   {
    "duration": 404,
    "start_time": "2022-01-15T10:33:49.956Z"
   },
   {
    "duration": 4,
    "start_time": "2022-01-15T10:33:50.368Z"
   },
   {
    "duration": 137,
    "start_time": "2022-01-15T10:33:50.379Z"
   },
   {
    "duration": 7460,
    "start_time": "2022-01-15T10:33:50.518Z"
   },
   {
    "duration": 4,
    "start_time": "2022-01-15T10:33:57.980Z"
   },
   {
    "duration": 8,
    "start_time": "2022-01-15T10:33:57.986Z"
   },
   {
    "duration": 12,
    "start_time": "2022-01-15T10:33:57.996Z"
   },
   {
    "duration": 287067,
    "start_time": "2022-01-15T10:33:58.011Z"
   },
   {
    "duration": 5,
    "start_time": "2022-01-15T10:38:45.080Z"
   },
   {
    "duration": 1214,
    "start_time": "2022-01-15T10:38:45.088Z"
   },
   {
    "duration": 247,
    "start_time": "2022-01-15T10:38:46.304Z"
   },
   {
    "duration": 2488,
    "start_time": "2022-01-15T10:38:46.554Z"
   },
   {
    "duration": 29025,
    "start_time": "2022-01-15T10:38:49.044Z"
   },
   {
    "duration": 363,
    "start_time": "2022-01-15T10:39:18.073Z"
   },
   {
    "duration": -26,
    "start_time": "2022-01-15T10:39:18.465Z"
   },
   {
    "duration": 2453,
    "start_time": "2022-04-13T07:55:19.638Z"
   },
   {
    "duration": 1215,
    "start_time": "2022-04-13T07:55:22.093Z"
   },
   {
    "duration": 55,
    "start_time": "2022-04-13T07:55:23.313Z"
   },
   {
    "duration": 6,
    "start_time": "2022-04-13T07:55:23.372Z"
   },
   {
    "duration": 219,
    "start_time": "2022-04-13T07:55:23.383Z"
   },
   {
    "duration": 7,
    "start_time": "2022-04-13T07:55:23.604Z"
   },
   {
    "duration": 129,
    "start_time": "2022-04-13T07:55:23.613Z"
   },
   {
    "duration": 196,
    "start_time": "2022-04-13T07:55:23.745Z"
   },
   {
    "duration": 8,
    "start_time": "2022-04-13T07:55:23.951Z"
   },
   {
    "duration": 68064,
    "start_time": "2022-04-13T07:55:23.963Z"
   },
   {
    "duration": 174,
    "start_time": "2022-04-13T07:56:32.029Z"
   },
   {
    "duration": 430,
    "start_time": "2022-04-13T07:56:32.206Z"
   },
   {
    "duration": 128,
    "start_time": "2022-04-13T07:56:32.638Z"
   },
   {
    "duration": 682,
    "start_time": "2022-04-13T07:56:32.771Z"
   },
   {
    "duration": 261,
    "start_time": "2022-04-13T07:56:33.456Z"
   },
   {
    "duration": 233,
    "start_time": "2022-04-13T07:56:33.719Z"
   },
   {
    "duration": 14,
    "start_time": "2022-04-13T07:56:33.955Z"
   },
   {
    "duration": 311,
    "start_time": "2022-04-13T07:56:33.972Z"
   },
   {
    "duration": 167,
    "start_time": "2022-04-13T07:56:34.285Z"
   },
   {
    "duration": 7,
    "start_time": "2022-04-13T07:56:34.456Z"
   },
   {
    "duration": 3956,
    "start_time": "2022-04-13T07:56:34.466Z"
   },
   {
    "duration": 3,
    "start_time": "2022-04-13T07:56:38.425Z"
   },
   {
    "duration": 447,
    "start_time": "2022-04-13T07:56:38.431Z"
   },
   {
    "duration": 5,
    "start_time": "2022-04-13T07:56:38.880Z"
   },
   {
    "duration": 123,
    "start_time": "2022-04-13T07:56:38.888Z"
   },
   {
    "duration": 15467,
    "start_time": "2022-04-13T07:56:39.014Z"
   },
   {
    "duration": 69,
    "start_time": "2022-04-13T07:56:54.483Z"
   },
   {
    "duration": 278,
    "start_time": "2022-04-13T07:56:54.555Z"
   },
   {
    "duration": 11,
    "start_time": "2022-04-13T07:56:54.836Z"
   },
   {
    "duration": 0,
    "start_time": "2022-04-13T07:56:54.849Z"
   },
   {
    "duration": 0,
    "start_time": "2022-04-13T07:56:54.852Z"
   },
   {
    "duration": 0,
    "start_time": "2022-04-13T07:56:54.855Z"
   },
   {
    "duration": 0,
    "start_time": "2022-04-13T07:56:54.857Z"
   },
   {
    "duration": 0,
    "start_time": "2022-04-13T07:56:54.859Z"
   },
   {
    "duration": 0,
    "start_time": "2022-04-13T07:56:54.862Z"
   },
   {
    "duration": 0,
    "start_time": "2022-04-13T07:56:54.864Z"
   },
   {
    "duration": 110,
    "start_time": "2022-04-13T08:03:02.754Z"
   },
   {
    "duration": 4,
    "start_time": "2022-04-13T08:03:11.522Z"
   },
   {
    "duration": 1408541,
    "start_time": "2022-04-13T08:03:13.741Z"
   },
   {
    "duration": 6,
    "start_time": "2022-04-13T08:45:00.519Z"
   },
   {
    "duration": 274765,
    "start_time": "2022-04-13T08:45:40.532Z"
   },
   {
    "duration": 7,
    "start_time": "2022-04-13T08:50:15.300Z"
   },
   {
    "duration": 1289,
    "start_time": "2022-04-13T08:50:15.310Z"
   },
   {
    "duration": 223,
    "start_time": "2022-04-13T08:50:16.604Z"
   },
   {
    "duration": 1066,
    "start_time": "2022-04-13T08:50:16.831Z"
   },
   {
    "duration": 36652,
    "start_time": "2022-04-13T08:50:17.900Z"
   },
   {
    "duration": 112,
    "start_time": "2022-04-13T08:50:54.555Z"
   }
  ],
  "kernelspec": {
   "display_name": "Python 3 (ipykernel)",
   "language": "python",
   "name": "python3"
  },
  "language_info": {
   "codemirror_mode": {
    "name": "ipython",
    "version": 3
   },
   "file_extension": ".py",
   "mimetype": "text/x-python",
   "name": "python",
   "nbconvert_exporter": "python",
   "pygments_lexer": "ipython3",
   "version": "3.9.5"
  },
  "toc": {
   "base_numbering": 1,
   "nav_menu": {},
   "number_sections": true,
   "sideBar": true,
   "skip_h1_title": true,
   "title_cell": "Table of Contents",
   "title_sidebar": "Contents",
   "toc_cell": false,
   "toc_position": {},
   "toc_section_display": true,
   "toc_window_display": false
  }
 },
 "nbformat": 4,
 "nbformat_minor": 2
}
