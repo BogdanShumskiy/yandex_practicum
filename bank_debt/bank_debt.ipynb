{
 "cells": [
  {
   "cell_type": "markdown",
   "metadata": {},
   "source": [
    "# Исследование надёжности заёмщиков\n",
    "\n",
    "Заказчик — кредитный отдел банка. Нужно разобраться, влияет ли семейное положение и количество детей клиента на факт погашения кредита в срок. Входные данные от банка — статистика о платёжеспособности клиентов.\n",
    "\n",
    "Результаты исследования будут учтены при построении модели **кредитного скоринга** — специальной системы, которая оценивает способность потенциального заёмщика вернуть кредит банку."
   ]
  },
  {
   "cell_type": "markdown",
   "metadata": {},
   "source": [
    "## Первичное ознакомление  с данными"
   ]
  },
  {
   "cell_type": "code",
   "execution_count": 1,
   "metadata": {},
   "outputs": [],
   "source": [
    "import pandas as pd #импортируем библиотеку pandas"
   ]
  },
  {
   "cell_type": "code",
   "execution_count": 2,
   "metadata": {},
   "outputs": [],
   "source": [
    "import warnings\n",
    "warnings.filterwarnings('ignore')"
   ]
  },
  {
   "cell_type": "code",
   "execution_count": 3,
   "metadata": {},
   "outputs": [],
   "source": [
    "df = pd.read_csv('/datasets/data.csv') #введем переменную для нашего датасета и пропишем путь для открытия таблицы с данными"
   ]
  },
  {
   "cell_type": "code",
   "execution_count": 4,
   "metadata": {},
   "outputs": [
    {
     "name": "stdout",
     "output_type": "stream",
     "text": [
      "<class 'pandas.core.frame.DataFrame'>\n",
      "RangeIndex: 21525 entries, 0 to 21524\n",
      "Data columns (total 12 columns):\n",
      " #   Column            Non-Null Count  Dtype  \n",
      "---  ------            --------------  -----  \n",
      " 0   children          21525 non-null  int64  \n",
      " 1   days_employed     19351 non-null  float64\n",
      " 2   dob_years         21525 non-null  int64  \n",
      " 3   education         21525 non-null  object \n",
      " 4   education_id      21525 non-null  int64  \n",
      " 5   family_status     21525 non-null  object \n",
      " 6   family_status_id  21525 non-null  int64  \n",
      " 7   gender            21525 non-null  object \n",
      " 8   income_type       21525 non-null  object \n",
      " 9   debt              21525 non-null  int64  \n",
      " 10  total_income      19351 non-null  float64\n",
      " 11  purpose           21525 non-null  object \n",
      "dtypes: float64(2), int64(5), object(5)\n",
      "memory usage: 2.0+ MB\n"
     ]
    }
   ],
   "source": [
    "df.info()# получим общую информацию о таблице"
   ]
  },
  {
   "cell_type": "code",
   "execution_count": 5,
   "metadata": {},
   "outputs": [
    {
     "data": {
      "text/html": [
       "<div>\n",
       "<style scoped>\n",
       "    .dataframe tbody tr th:only-of-type {\n",
       "        vertical-align: middle;\n",
       "    }\n",
       "\n",
       "    .dataframe tbody tr th {\n",
       "        vertical-align: top;\n",
       "    }\n",
       "\n",
       "    .dataframe thead th {\n",
       "        text-align: right;\n",
       "    }\n",
       "</style>\n",
       "<table border=\"1\" class=\"dataframe\">\n",
       "  <thead>\n",
       "    <tr style=\"text-align: right;\">\n",
       "      <th></th>\n",
       "      <th>children</th>\n",
       "      <th>days_employed</th>\n",
       "      <th>dob_years</th>\n",
       "      <th>education</th>\n",
       "      <th>education_id</th>\n",
       "      <th>family_status</th>\n",
       "      <th>family_status_id</th>\n",
       "      <th>gender</th>\n",
       "      <th>income_type</th>\n",
       "      <th>debt</th>\n",
       "      <th>total_income</th>\n",
       "      <th>purpose</th>\n",
       "    </tr>\n",
       "  </thead>\n",
       "  <tbody>\n",
       "    <tr>\n",
       "      <th>0</th>\n",
       "      <td>1</td>\n",
       "      <td>-8437.673028</td>\n",
       "      <td>42</td>\n",
       "      <td>высшее</td>\n",
       "      <td>0</td>\n",
       "      <td>женат / замужем</td>\n",
       "      <td>0</td>\n",
       "      <td>F</td>\n",
       "      <td>сотрудник</td>\n",
       "      <td>0</td>\n",
       "      <td>253875.639453</td>\n",
       "      <td>покупка жилья</td>\n",
       "    </tr>\n",
       "    <tr>\n",
       "      <th>1</th>\n",
       "      <td>1</td>\n",
       "      <td>-4024.803754</td>\n",
       "      <td>36</td>\n",
       "      <td>среднее</td>\n",
       "      <td>1</td>\n",
       "      <td>женат / замужем</td>\n",
       "      <td>0</td>\n",
       "      <td>F</td>\n",
       "      <td>сотрудник</td>\n",
       "      <td>0</td>\n",
       "      <td>112080.014102</td>\n",
       "      <td>приобретение автомобиля</td>\n",
       "    </tr>\n",
       "    <tr>\n",
       "      <th>2</th>\n",
       "      <td>0</td>\n",
       "      <td>-5623.422610</td>\n",
       "      <td>33</td>\n",
       "      <td>Среднее</td>\n",
       "      <td>1</td>\n",
       "      <td>женат / замужем</td>\n",
       "      <td>0</td>\n",
       "      <td>M</td>\n",
       "      <td>сотрудник</td>\n",
       "      <td>0</td>\n",
       "      <td>145885.952297</td>\n",
       "      <td>покупка жилья</td>\n",
       "    </tr>\n",
       "    <tr>\n",
       "      <th>3</th>\n",
       "      <td>3</td>\n",
       "      <td>-4124.747207</td>\n",
       "      <td>32</td>\n",
       "      <td>среднее</td>\n",
       "      <td>1</td>\n",
       "      <td>женат / замужем</td>\n",
       "      <td>0</td>\n",
       "      <td>M</td>\n",
       "      <td>сотрудник</td>\n",
       "      <td>0</td>\n",
       "      <td>267628.550329</td>\n",
       "      <td>дополнительное образование</td>\n",
       "    </tr>\n",
       "    <tr>\n",
       "      <th>4</th>\n",
       "      <td>0</td>\n",
       "      <td>340266.072047</td>\n",
       "      <td>53</td>\n",
       "      <td>среднее</td>\n",
       "      <td>1</td>\n",
       "      <td>гражданский брак</td>\n",
       "      <td>1</td>\n",
       "      <td>F</td>\n",
       "      <td>пенсионер</td>\n",
       "      <td>0</td>\n",
       "      <td>158616.077870</td>\n",
       "      <td>сыграть свадьбу</td>\n",
       "    </tr>\n",
       "  </tbody>\n",
       "</table>\n",
       "</div>"
      ],
      "text/plain": [
       "   children  days_employed  dob_years education  education_id  \\\n",
       "0         1   -8437.673028         42    высшее             0   \n",
       "1         1   -4024.803754         36   среднее             1   \n",
       "2         0   -5623.422610         33   Среднее             1   \n",
       "3         3   -4124.747207         32   среднее             1   \n",
       "4         0  340266.072047         53   среднее             1   \n",
       "\n",
       "      family_status  family_status_id gender income_type  debt   total_income  \\\n",
       "0   женат / замужем                 0      F   сотрудник     0  253875.639453   \n",
       "1   женат / замужем                 0      F   сотрудник     0  112080.014102   \n",
       "2   женат / замужем                 0      M   сотрудник     0  145885.952297   \n",
       "3   женат / замужем                 0      M   сотрудник     0  267628.550329   \n",
       "4  гражданский брак                 1      F   пенсионер     0  158616.077870   \n",
       "\n",
       "                      purpose  \n",
       "0               покупка жилья  \n",
       "1     приобретение автомобиля  \n",
       "2               покупка жилья  \n",
       "3  дополнительное образование  \n",
       "4             сыграть свадьбу  "
      ]
     },
     "execution_count": 5,
     "metadata": {},
     "output_type": "execute_result"
    }
   ],
   "source": [
    "df.head() #посмотрим, что из себя представляет таблица \"с головы\""
   ]
  },
  {
   "cell_type": "code",
   "execution_count": 6,
   "metadata": {},
   "outputs": [
    {
     "data": {
      "text/html": [
       "<div>\n",
       "<style scoped>\n",
       "    .dataframe tbody tr th:only-of-type {\n",
       "        vertical-align: middle;\n",
       "    }\n",
       "\n",
       "    .dataframe tbody tr th {\n",
       "        vertical-align: top;\n",
       "    }\n",
       "\n",
       "    .dataframe thead th {\n",
       "        text-align: right;\n",
       "    }\n",
       "</style>\n",
       "<table border=\"1\" class=\"dataframe\">\n",
       "  <thead>\n",
       "    <tr style=\"text-align: right;\">\n",
       "      <th></th>\n",
       "      <th>children</th>\n",
       "      <th>days_employed</th>\n",
       "      <th>dob_years</th>\n",
       "      <th>education</th>\n",
       "      <th>education_id</th>\n",
       "      <th>family_status</th>\n",
       "      <th>family_status_id</th>\n",
       "      <th>gender</th>\n",
       "      <th>income_type</th>\n",
       "      <th>debt</th>\n",
       "      <th>total_income</th>\n",
       "      <th>purpose</th>\n",
       "    </tr>\n",
       "  </thead>\n",
       "  <tbody>\n",
       "    <tr>\n",
       "      <th>21520</th>\n",
       "      <td>1</td>\n",
       "      <td>-4529.316663</td>\n",
       "      <td>43</td>\n",
       "      <td>среднее</td>\n",
       "      <td>1</td>\n",
       "      <td>гражданский брак</td>\n",
       "      <td>1</td>\n",
       "      <td>F</td>\n",
       "      <td>компаньон</td>\n",
       "      <td>0</td>\n",
       "      <td>224791.862382</td>\n",
       "      <td>операции с жильем</td>\n",
       "    </tr>\n",
       "    <tr>\n",
       "      <th>21521</th>\n",
       "      <td>0</td>\n",
       "      <td>343937.404131</td>\n",
       "      <td>67</td>\n",
       "      <td>среднее</td>\n",
       "      <td>1</td>\n",
       "      <td>женат / замужем</td>\n",
       "      <td>0</td>\n",
       "      <td>F</td>\n",
       "      <td>пенсионер</td>\n",
       "      <td>0</td>\n",
       "      <td>155999.806512</td>\n",
       "      <td>сделка с автомобилем</td>\n",
       "    </tr>\n",
       "    <tr>\n",
       "      <th>21522</th>\n",
       "      <td>1</td>\n",
       "      <td>-2113.346888</td>\n",
       "      <td>38</td>\n",
       "      <td>среднее</td>\n",
       "      <td>1</td>\n",
       "      <td>гражданский брак</td>\n",
       "      <td>1</td>\n",
       "      <td>M</td>\n",
       "      <td>сотрудник</td>\n",
       "      <td>1</td>\n",
       "      <td>89672.561153</td>\n",
       "      <td>недвижимость</td>\n",
       "    </tr>\n",
       "    <tr>\n",
       "      <th>21523</th>\n",
       "      <td>3</td>\n",
       "      <td>-3112.481705</td>\n",
       "      <td>38</td>\n",
       "      <td>среднее</td>\n",
       "      <td>1</td>\n",
       "      <td>женат / замужем</td>\n",
       "      <td>0</td>\n",
       "      <td>M</td>\n",
       "      <td>сотрудник</td>\n",
       "      <td>1</td>\n",
       "      <td>244093.050500</td>\n",
       "      <td>на покупку своего автомобиля</td>\n",
       "    </tr>\n",
       "    <tr>\n",
       "      <th>21524</th>\n",
       "      <td>2</td>\n",
       "      <td>-1984.507589</td>\n",
       "      <td>40</td>\n",
       "      <td>среднее</td>\n",
       "      <td>1</td>\n",
       "      <td>женат / замужем</td>\n",
       "      <td>0</td>\n",
       "      <td>F</td>\n",
       "      <td>сотрудник</td>\n",
       "      <td>0</td>\n",
       "      <td>82047.418899</td>\n",
       "      <td>на покупку автомобиля</td>\n",
       "    </tr>\n",
       "  </tbody>\n",
       "</table>\n",
       "</div>"
      ],
      "text/plain": [
       "       children  days_employed  dob_years education  education_id  \\\n",
       "21520         1   -4529.316663         43   среднее             1   \n",
       "21521         0  343937.404131         67   среднее             1   \n",
       "21522         1   -2113.346888         38   среднее             1   \n",
       "21523         3   -3112.481705         38   среднее             1   \n",
       "21524         2   -1984.507589         40   среднее             1   \n",
       "\n",
       "          family_status  family_status_id gender income_type  debt  \\\n",
       "21520  гражданский брак                 1      F   компаньон     0   \n",
       "21521   женат / замужем                 0      F   пенсионер     0   \n",
       "21522  гражданский брак                 1      M   сотрудник     1   \n",
       "21523   женат / замужем                 0      M   сотрудник     1   \n",
       "21524   женат / замужем                 0      F   сотрудник     0   \n",
       "\n",
       "        total_income                       purpose  \n",
       "21520  224791.862382             операции с жильем  \n",
       "21521  155999.806512          сделка с автомобилем  \n",
       "21522   89672.561153                  недвижимость  \n",
       "21523  244093.050500  на покупку своего автомобиля  \n",
       "21524   82047.418899         на покупку автомобиля  "
      ]
     },
     "execution_count": 6,
     "metadata": {},
     "output_type": "execute_result"
    }
   ],
   "source": [
    "df.tail() #'с хвоста' тоже не будет лишним:)"
   ]
  },
  {
   "cell_type": "markdown",
   "metadata": {},
   "source": [
    "**Вывод**\n",
    "   "
   ]
  },
  {
   "cell_type": "markdown",
   "metadata": {},
   "source": [
    "В представленной таблице содержатся данные о клиентах, заключивших с банком кредитный договор. Информация о каждом должнике хранится в отдельной строчке на 12 столбцах. При исследовании общих сведений об объекте DataFrame после вызова метода info(), было отмечено, что количество строк в столбцах \"days_employed\" и \"total_income\" отличается от количества в других столбцах, при этом между собой данные столбцы по количеству строк одинаковы. Кроме того, как следует из текста задания, в \"days_employed\" отображены  суммы общего трудового стажа в днях. Из этого следует, что данная информация должна быть представлена в целочисленном виде. Между тем, в указанном столбце сведения имеют формат float64, то есть в виде десятичной дроби."
   ]
  },
  {
   "cell_type": "markdown",
   "metadata": {},
   "source": [
    "## Предобработка данных"
   ]
  },
  {
   "cell_type": "markdown",
   "metadata": {},
   "source": [
    "### Обработка пропусков"
   ]
  },
  {
   "cell_type": "code",
   "execution_count": 7,
   "metadata": {},
   "outputs": [
    {
     "data": {
      "text/html": [
       "<div>\n",
       "<style scoped>\n",
       "    .dataframe tbody tr th:only-of-type {\n",
       "        vertical-align: middle;\n",
       "    }\n",
       "\n",
       "    .dataframe tbody tr th {\n",
       "        vertical-align: top;\n",
       "    }\n",
       "\n",
       "    .dataframe thead th {\n",
       "        text-align: right;\n",
       "    }\n",
       "</style>\n",
       "<table border=\"1\" class=\"dataframe\">\n",
       "  <thead>\n",
       "    <tr style=\"text-align: right;\">\n",
       "      <th></th>\n",
       "      <th>children</th>\n",
       "      <th>days_employed</th>\n",
       "      <th>dob_years</th>\n",
       "      <th>education</th>\n",
       "      <th>education_id</th>\n",
       "      <th>family_status</th>\n",
       "      <th>family_status_id</th>\n",
       "      <th>gender</th>\n",
       "      <th>income_type</th>\n",
       "      <th>debt</th>\n",
       "      <th>total_income</th>\n",
       "      <th>purpose</th>\n",
       "    </tr>\n",
       "  </thead>\n",
       "  <tbody>\n",
       "    <tr>\n",
       "      <th>12</th>\n",
       "      <td>0</td>\n",
       "      <td>NaN</td>\n",
       "      <td>65</td>\n",
       "      <td>среднее</td>\n",
       "      <td>1</td>\n",
       "      <td>гражданский брак</td>\n",
       "      <td>1</td>\n",
       "      <td>M</td>\n",
       "      <td>пенсионер</td>\n",
       "      <td>0</td>\n",
       "      <td>NaN</td>\n",
       "      <td>сыграть свадьбу</td>\n",
       "    </tr>\n",
       "    <tr>\n",
       "      <th>26</th>\n",
       "      <td>0</td>\n",
       "      <td>NaN</td>\n",
       "      <td>41</td>\n",
       "      <td>среднее</td>\n",
       "      <td>1</td>\n",
       "      <td>женат / замужем</td>\n",
       "      <td>0</td>\n",
       "      <td>M</td>\n",
       "      <td>госслужащий</td>\n",
       "      <td>0</td>\n",
       "      <td>NaN</td>\n",
       "      <td>образование</td>\n",
       "    </tr>\n",
       "    <tr>\n",
       "      <th>29</th>\n",
       "      <td>0</td>\n",
       "      <td>NaN</td>\n",
       "      <td>63</td>\n",
       "      <td>среднее</td>\n",
       "      <td>1</td>\n",
       "      <td>Не женат / не замужем</td>\n",
       "      <td>4</td>\n",
       "      <td>F</td>\n",
       "      <td>пенсионер</td>\n",
       "      <td>0</td>\n",
       "      <td>NaN</td>\n",
       "      <td>строительство жилой недвижимости</td>\n",
       "    </tr>\n",
       "    <tr>\n",
       "      <th>41</th>\n",
       "      <td>0</td>\n",
       "      <td>NaN</td>\n",
       "      <td>50</td>\n",
       "      <td>среднее</td>\n",
       "      <td>1</td>\n",
       "      <td>женат / замужем</td>\n",
       "      <td>0</td>\n",
       "      <td>F</td>\n",
       "      <td>госслужащий</td>\n",
       "      <td>0</td>\n",
       "      <td>NaN</td>\n",
       "      <td>сделка с подержанным автомобилем</td>\n",
       "    </tr>\n",
       "    <tr>\n",
       "      <th>55</th>\n",
       "      <td>0</td>\n",
       "      <td>NaN</td>\n",
       "      <td>54</td>\n",
       "      <td>среднее</td>\n",
       "      <td>1</td>\n",
       "      <td>гражданский брак</td>\n",
       "      <td>1</td>\n",
       "      <td>F</td>\n",
       "      <td>пенсионер</td>\n",
       "      <td>1</td>\n",
       "      <td>NaN</td>\n",
       "      <td>сыграть свадьбу</td>\n",
       "    </tr>\n",
       "  </tbody>\n",
       "</table>\n",
       "</div>"
      ],
      "text/plain": [
       "    children  days_employed  dob_years education  education_id  \\\n",
       "12         0            NaN         65   среднее             1   \n",
       "26         0            NaN         41   среднее             1   \n",
       "29         0            NaN         63   среднее             1   \n",
       "41         0            NaN         50   среднее             1   \n",
       "55         0            NaN         54   среднее             1   \n",
       "\n",
       "            family_status  family_status_id gender  income_type  debt  \\\n",
       "12       гражданский брак                 1      M    пенсионер     0   \n",
       "26        женат / замужем                 0      M  госслужащий     0   \n",
       "29  Не женат / не замужем                 4      F    пенсионер     0   \n",
       "41        женат / замужем                 0      F  госслужащий     0   \n",
       "55       гражданский брак                 1      F    пенсионер     1   \n",
       "\n",
       "    total_income                           purpose  \n",
       "12           NaN                   сыграть свадьбу  \n",
       "26           NaN                       образование  \n",
       "29           NaN  строительство жилой недвижимости  \n",
       "41           NaN  сделка с подержанным автомобилем  \n",
       "55           NaN                   сыграть свадьбу  "
      ]
     },
     "execution_count": 7,
     "metadata": {},
     "output_type": "execute_result"
    }
   ],
   "source": [
    "df[df['days_employed'].isnull()].head() #вызываем метод isna(), чтобы посмотреть в каких столбцах присутствуют пропуски"
   ]
  },
  {
   "cell_type": "code",
   "execution_count": 8,
   "metadata": {},
   "outputs": [
    {
     "data": {
      "text/plain": [
       "2174"
      ]
     },
     "execution_count": 8,
     "metadata": {},
     "output_type": "execute_result"
    }
   ],
   "source": [
    "#пропущенные значения содеражатся в столбцах \"days_employed\" и \"total_income\"\n",
    "len(df[df['days_employed'].isna()]) #посчитаем количество строк, в которых содержаться в пропуски"
   ]
  },
  {
   "cell_type": "code",
   "execution_count": 9,
   "metadata": {},
   "outputs": [],
   "source": [
    "# В таблице присутствуют более двух тысяч строк с пропущенными значениями, что составляет примерно 10% от общего количества.\n",
    "df_income_median = df['total_income'].median() #посчитали медиану и сохранили ее в отдельной переменной"
   ]
  },
  {
   "cell_type": "code",
   "execution_count": 10,
   "metadata": {},
   "outputs": [
    {
     "data": {
      "text/plain": [
       "-1203.369528770489"
      ]
     },
     "execution_count": 10,
     "metadata": {},
     "output_type": "execute_result"
    }
   ],
   "source": [
    "df['days_employed'].median()"
   ]
  },
  {
   "cell_type": "code",
   "execution_count": 11,
   "metadata": {},
   "outputs": [],
   "source": [
    "data_transformed = df.groupby('income_type')['total_income'].transform('mean') #сгруппировали таблицу для замены пропущенных значений на среднее по группе\n",
    " \n",
    "df['total_income'] = df['total_income'].fillna(data_transformed)"
   ]
  },
  {
   "cell_type": "code",
   "execution_count": 12,
   "metadata": {},
   "outputs": [],
   "source": [
    "# признаться, тут я просто считерил:) этот способ описывал наш преподаватель в  Slack, как возможный вариант решения "
   ]
  },
  {
   "cell_type": "code",
   "execution_count": 13,
   "metadata": {},
   "outputs": [],
   "source": [
    "df['days_employed'] = df['days_employed'].fillna(0) #заполним пропуски нулями, так как нам не нужен данный столбец"
   ]
  },
  {
   "cell_type": "code",
   "execution_count": 14,
   "metadata": {},
   "outputs": [
    {
     "name": "stdout",
     "output_type": "stream",
     "text": [
      "<class 'pandas.core.frame.DataFrame'>\n",
      "RangeIndex: 21525 entries, 0 to 21524\n",
      "Data columns (total 12 columns):\n",
      " #   Column            Non-Null Count  Dtype  \n",
      "---  ------            --------------  -----  \n",
      " 0   children          21525 non-null  int64  \n",
      " 1   days_employed     21525 non-null  float64\n",
      " 2   dob_years         21525 non-null  int64  \n",
      " 3   education         21525 non-null  object \n",
      " 4   education_id      21525 non-null  int64  \n",
      " 5   family_status     21525 non-null  object \n",
      " 6   family_status_id  21525 non-null  int64  \n",
      " 7   gender            21525 non-null  object \n",
      " 8   income_type       21525 non-null  object \n",
      " 9   debt              21525 non-null  int64  \n",
      " 10  total_income      21525 non-null  float64\n",
      " 11  purpose           21525 non-null  object \n",
      "dtypes: float64(2), int64(5), object(5)\n",
      "memory usage: 2.0+ MB\n"
     ]
    }
   ],
   "source": [
    "df.info() #убедимся, что пропусков больше нет"
   ]
  },
  {
   "cell_type": "code",
   "execution_count": 15,
   "metadata": {},
   "outputs": [
    {
     "data": {
      "text/plain": [
       " 0     14149\n",
       " 1      4818\n",
       " 2      2055\n",
       " 3       330\n",
       " 20       76\n",
       "-1        47\n",
       " 4        41\n",
       " 5         9\n",
       "Name: children, dtype: int64"
      ]
     },
     "execution_count": 15,
     "metadata": {},
     "output_type": "execute_result"
    }
   ],
   "source": [
    "df['children'].value_counts() #теперь проверим, есть ли в столбцах пропуски в виде строковых \"None\" или \" \" "
   ]
  },
  {
   "cell_type": "code",
   "execution_count": 16,
   "metadata": {},
   "outputs": [
    {
     "data": {
      "text/plain": [
       "35    617\n",
       "40    609\n",
       "41    607\n",
       "34    603\n",
       "38    598\n",
       "42    597\n",
       "33    581\n",
       "39    573\n",
       "31    560\n",
       "36    555\n",
       "44    547\n",
       "29    545\n",
       "30    540\n",
       "48    538\n",
       "37    537\n",
       "50    514\n",
       "43    513\n",
       "32    510\n",
       "49    508\n",
       "28    503\n",
       "45    497\n",
       "27    493\n",
       "56    487\n",
       "52    484\n",
       "47    480\n",
       "54    479\n",
       "46    475\n",
       "58    461\n",
       "57    460\n",
       "53    459\n",
       "51    448\n",
       "59    444\n",
       "55    443\n",
       "26    408\n",
       "60    377\n",
       "25    357\n",
       "61    355\n",
       "62    352\n",
       "63    269\n",
       "64    265\n",
       "24    264\n",
       "23    254\n",
       "65    194\n",
       "66    183\n",
       "22    183\n",
       "67    167\n",
       "21    111\n",
       "0     101\n",
       "68     99\n",
       "69     85\n",
       "70     65\n",
       "71     58\n",
       "20     51\n",
       "72     33\n",
       "19     14\n",
       "73      8\n",
       "74      6\n",
       "75      1\n",
       "Name: dob_years, dtype: int64"
      ]
     },
     "execution_count": 16,
     "metadata": {},
     "output_type": "execute_result"
    }
   ],
   "source": [
    "df['dob_years'].value_counts() # 101 должник, которому 0 лет"
   ]
  },
  {
   "cell_type": "code",
   "execution_count": 17,
   "metadata": {},
   "outputs": [
    {
     "data": {
      "text/plain": [
       "42.0"
      ]
     },
     "execution_count": 17,
     "metadata": {},
     "output_type": "execute_result"
    }
   ],
   "source": [
    "df['dob_years'].median() #чтобы заменить значение возраста 0 лет, посчитаем медиану и подставим ее значение вместо нуля"
   ]
  },
  {
   "cell_type": "code",
   "execution_count": 18,
   "metadata": {},
   "outputs": [],
   "source": [
    "df.loc[df['dob_years'] == '0', 'dob_years' ] = '42' # поменяем значение в столбце с возрастом"
   ]
  },
  {
   "cell_type": "code",
   "execution_count": 19,
   "metadata": {},
   "outputs": [
    {
     "data": {
      "text/plain": [
       "43.29337979094077"
      ]
     },
     "execution_count": 19,
     "metadata": {},
     "output_type": "execute_result"
    }
   ],
   "source": [
    "df['dob_years'].mean() #уточнил этот вопрос ниже. Разбил данные по возрастным группам. Теперь замена на медиану более-менее обоснована   "
   ]
  },
  {
   "cell_type": "code",
   "execution_count": 20,
   "metadata": {},
   "outputs": [],
   "source": [
    "def age_group(age):\n",
    "    if age <=18:\n",
    "        return 'дети'\n",
    "    if age <= 64:\n",
    "        return 'взрослые'\n",
    "    return 'пенсионеры'"
   ]
  },
  {
   "cell_type": "code",
   "execution_count": 21,
   "metadata": {},
   "outputs": [
    {
     "data": {
      "text/plain": [
       "взрослые      20525\n",
       "пенсионеры      899\n",
       "дети            101\n",
       "Name: age_group, dtype: int64"
      ]
     },
     "execution_count": 21,
     "metadata": {},
     "output_type": "execute_result"
    }
   ],
   "source": [
    "df['age_group'] = df['dob_years'].apply(age_group)\n",
    "df['age_group'].value_counts()"
   ]
  },
  {
   "cell_type": "code",
   "execution_count": 22,
   "metadata": {},
   "outputs": [
    {
     "data": {
      "text/plain": [
       "42.0"
      ]
     },
     "execution_count": 22,
     "metadata": {},
     "output_type": "execute_result"
    }
   ],
   "source": [
    "data_adult = df[df['age_group'] == 'взрослые']\n",
    "data_adult['dob_years'].median()"
   ]
  },
  {
   "cell_type": "code",
   "execution_count": 23,
   "metadata": {},
   "outputs": [],
   "source": [
    "# сделал)"
   ]
  },
  {
   "cell_type": "code",
   "execution_count": 24,
   "metadata": {},
   "outputs": [
    {
     "data": {
      "text/plain": [
       "среднее                13750\n",
       "высшее                  4718\n",
       "СРЕДНЕЕ                  772\n",
       "Среднее                  711\n",
       "неоконченное высшее      668\n",
       "ВЫСШЕЕ                   274\n",
       "Высшее                   268\n",
       "начальное                250\n",
       "Неоконченное высшее       47\n",
       "НЕОКОНЧЕННОЕ ВЫСШЕЕ       29\n",
       "НАЧАЛЬНОЕ                 17\n",
       "Начальное                 15\n",
       "ученая степень             4\n",
       "Ученая степень             1\n",
       "УЧЕНАЯ СТЕПЕНЬ             1\n",
       "Name: education, dtype: int64"
      ]
     },
     "execution_count": 24,
     "metadata": {},
     "output_type": "execute_result"
    }
   ],
   "source": [
    "df['education'].value_counts() # большое количество дубликатов с учетом регистра"
   ]
  },
  {
   "cell_type": "code",
   "execution_count": 25,
   "metadata": {},
   "outputs": [
    {
     "data": {
      "text/plain": [
       "женат / замужем          12380\n",
       "гражданский брак          4177\n",
       "Не женат / не замужем     2813\n",
       "в разводе                 1195\n",
       "вдовец / вдова             960\n",
       "Name: family_status, dtype: int64"
      ]
     },
     "execution_count": 25,
     "metadata": {},
     "output_type": "execute_result"
    }
   ],
   "source": [
    "df['family_status'].value_counts()"
   ]
  },
  {
   "cell_type": "code",
   "execution_count": 26,
   "metadata": {},
   "outputs": [
    {
     "data": {
      "text/plain": [
       "F      14236\n",
       "M       7288\n",
       "XNA        1\n",
       "Name: gender, dtype: int64"
      ]
     },
     "execution_count": 26,
     "metadata": {},
     "output_type": "execute_result"
    }
   ],
   "source": [
    "df['gender'].value_counts() # какой-то ХNA..."
   ]
  },
  {
   "cell_type": "code",
   "execution_count": 27,
   "metadata": {},
   "outputs": [
    {
     "data": {
      "text/html": [
       "<div>\n",
       "<style scoped>\n",
       "    .dataframe tbody tr th:only-of-type {\n",
       "        vertical-align: middle;\n",
       "    }\n",
       "\n",
       "    .dataframe tbody tr th {\n",
       "        vertical-align: top;\n",
       "    }\n",
       "\n",
       "    .dataframe thead th {\n",
       "        text-align: right;\n",
       "    }\n",
       "</style>\n",
       "<table border=\"1\" class=\"dataframe\">\n",
       "  <thead>\n",
       "    <tr style=\"text-align: right;\">\n",
       "      <th></th>\n",
       "      <th>children</th>\n",
       "      <th>days_employed</th>\n",
       "      <th>dob_years</th>\n",
       "      <th>education</th>\n",
       "      <th>education_id</th>\n",
       "      <th>family_status</th>\n",
       "      <th>family_status_id</th>\n",
       "      <th>gender</th>\n",
       "      <th>income_type</th>\n",
       "      <th>debt</th>\n",
       "      <th>total_income</th>\n",
       "      <th>purpose</th>\n",
       "      <th>age_group</th>\n",
       "    </tr>\n",
       "  </thead>\n",
       "  <tbody>\n",
       "    <tr>\n",
       "      <th>10701</th>\n",
       "      <td>0</td>\n",
       "      <td>-2358.600502</td>\n",
       "      <td>24</td>\n",
       "      <td>неоконченное высшее</td>\n",
       "      <td>2</td>\n",
       "      <td>гражданский брак</td>\n",
       "      <td>1</td>\n",
       "      <td>XNA</td>\n",
       "      <td>компаньон</td>\n",
       "      <td>0</td>\n",
       "      <td>203905.157261</td>\n",
       "      <td>покупка недвижимости</td>\n",
       "      <td>взрослые</td>\n",
       "    </tr>\n",
       "  </tbody>\n",
       "</table>\n",
       "</div>"
      ],
      "text/plain": [
       "       children  days_employed dob_years            education  education_id  \\\n",
       "10701         0   -2358.600502        24  неоконченное высшее             2   \n",
       "\n",
       "          family_status  family_status_id gender income_type  debt  \\\n",
       "10701  гражданский брак                 1    XNA   компаньон     0   \n",
       "\n",
       "        total_income               purpose age_group  \n",
       "10701  203905.157261  покупка недвижимости  взрослые  "
      ]
     },
     "execution_count": 27,
     "metadata": {},
     "output_type": "execute_result"
    }
   ],
   "source": [
    "df[df['gender'] == 'XNA']"
   ]
  },
  {
   "cell_type": "code",
   "execution_count": 28,
   "metadata": {},
   "outputs": [
    {
     "data": {
      "text/plain": [
       "сотрудник          11119\n",
       "компаньон           5085\n",
       "пенсионер           3856\n",
       "госслужащий         1459\n",
       "предприниматель        2\n",
       "безработный            2\n",
       "студент                1\n",
       "в декрете              1\n",
       "Name: income_type, dtype: int64"
      ]
     },
     "execution_count": 28,
     "metadata": {},
     "output_type": "execute_result"
    }
   ],
   "source": [
    "df['income_type'].value_counts()"
   ]
  },
  {
   "cell_type": "code",
   "execution_count": 29,
   "metadata": {},
   "outputs": [
    {
     "data": {
      "text/plain": [
       "0    19784\n",
       "1     1741\n",
       "Name: debt, dtype: int64"
      ]
     },
     "execution_count": 29,
     "metadata": {},
     "output_type": "execute_result"
    }
   ],
   "source": [
    "df['debt'].value_counts()"
   ]
  },
  {
   "cell_type": "markdown",
   "metadata": {},
   "source": [
    "**Вывод**"
   ]
  },
  {
   "cell_type": "markdown",
   "metadata": {},
   "source": [
    "В таблице было выявлено свыше двух тысяч строк с пропущенными значениями, которые содержались в столбцах \"days_employed\" и \"total_income\". При этом в каждом из этих столбцов количество пропусков  было одинаково. \n",
    "\n",
    "При анализе было отмечено, что пропуски встречаются в строках с абсолютно разными значениями, то есть нет никакой взаимосвязи между внесенными данными и самим пропуском. Строки со значением  \"NaN\" появляются в самом начале таблицы (строка 12) и присутствуют на протяжении всего объекта DataFrame вплоть до самых последних. Таким образом, данные пропуски являются полностью случайными. \n",
    "\n",
    "Обнаруженную абривиатуру XNA в столбце  с полом клиентов считаем полностью случайным пропуском в категориальной переменной, однако заполнить его не представляется возможным ввиду отсутствия данных об имени клиента.  \n",
    "\n",
    "Сложно высказаться однозначно о причинах появления пропусков, поскольку в них нет никакой взаимосвязи. Возможно, данная таблица была составлена на основании анкет-заявок на получение кредита с сайта банка, в которых поля с информацией о трудовом стаже и доходе заявителя не являются обязательными для заполнения. \n",
    "\n",
    "В своей совокупности, пропуски составляют приблизительно 10% от общего количества строк, поэтому мы не можем просто удалить эти строки методом dropna(), так как это может привести к искаженным результатам исследования. Поскольку пропуски содержаться на месте количественных переменных, было принято решение заменить их на значение медианы, используя соответствующий метод median(). Применять метод mean() для замены значений на среднее арифметическое полагаем нецелесообразным, поскольку достаточно всего несколько должников, имеющих значительный доход, чтобы средней уровень дохода всех клиентов значительно превысил их самый распространенный уровень.\n",
    "\n",
    "Касательно попусков в столбце \"days_employed\" было принято решение заменить их на значение \"0\", поскольку для проведения анализа  и ответа на поставленные вопросы, у нас нет необходомости  оперировать сведениями, содержащимися в данном столбце."
   ]
  },
  {
   "cell_type": "markdown",
   "metadata": {},
   "source": [
    "### Замена типа данных"
   ]
  },
  {
   "cell_type": "code",
   "execution_count": 30,
   "metadata": {},
   "outputs": [],
   "source": [
    "df['total_income'] = df['total_income'].astype('int') #приводим значение дохода должников к целочисленному значению"
   ]
  },
  {
   "cell_type": "code",
   "execution_count": 31,
   "metadata": {},
   "outputs": [],
   "source": [
    "df['days_employed'] = df['days_employed'].astype('int') #для красоты сделаем это и для столбца с трудовым стажем"
   ]
  },
  {
   "cell_type": "code",
   "execution_count": 32,
   "metadata": {},
   "outputs": [],
   "source": [
    "df.loc[df['gender'] == 'M', 'gender'] = 'мужской' # сведения о поле приведем к более понятной форме"
   ]
  },
  {
   "cell_type": "code",
   "execution_count": 33,
   "metadata": {},
   "outputs": [],
   "source": [
    "df.loc[df['gender'] == 'F', 'gender'] = 'женский'"
   ]
  },
  {
   "cell_type": "code",
   "execution_count": 34,
   "metadata": {},
   "outputs": [
    {
     "data": {
      "text/html": [
       "<div>\n",
       "<style scoped>\n",
       "    .dataframe tbody tr th:only-of-type {\n",
       "        vertical-align: middle;\n",
       "    }\n",
       "\n",
       "    .dataframe tbody tr th {\n",
       "        vertical-align: top;\n",
       "    }\n",
       "\n",
       "    .dataframe thead th {\n",
       "        text-align: right;\n",
       "    }\n",
       "</style>\n",
       "<table border=\"1\" class=\"dataframe\">\n",
       "  <thead>\n",
       "    <tr style=\"text-align: right;\">\n",
       "      <th></th>\n",
       "      <th>children</th>\n",
       "      <th>days_employed</th>\n",
       "      <th>dob_years</th>\n",
       "      <th>education</th>\n",
       "      <th>education_id</th>\n",
       "      <th>family_status</th>\n",
       "      <th>family_status_id</th>\n",
       "      <th>gender</th>\n",
       "      <th>income_type</th>\n",
       "      <th>debt</th>\n",
       "      <th>total_income</th>\n",
       "      <th>purpose</th>\n",
       "      <th>age_group</th>\n",
       "    </tr>\n",
       "  </thead>\n",
       "  <tbody>\n",
       "    <tr>\n",
       "      <th>0</th>\n",
       "      <td>1</td>\n",
       "      <td>-8437</td>\n",
       "      <td>42</td>\n",
       "      <td>высшее</td>\n",
       "      <td>0</td>\n",
       "      <td>женат / замужем</td>\n",
       "      <td>0</td>\n",
       "      <td>женский</td>\n",
       "      <td>сотрудник</td>\n",
       "      <td>0</td>\n",
       "      <td>253875</td>\n",
       "      <td>покупка жилья</td>\n",
       "      <td>взрослые</td>\n",
       "    </tr>\n",
       "    <tr>\n",
       "      <th>1</th>\n",
       "      <td>1</td>\n",
       "      <td>-4024</td>\n",
       "      <td>36</td>\n",
       "      <td>среднее</td>\n",
       "      <td>1</td>\n",
       "      <td>женат / замужем</td>\n",
       "      <td>0</td>\n",
       "      <td>женский</td>\n",
       "      <td>сотрудник</td>\n",
       "      <td>0</td>\n",
       "      <td>112080</td>\n",
       "      <td>приобретение автомобиля</td>\n",
       "      <td>взрослые</td>\n",
       "    </tr>\n",
       "    <tr>\n",
       "      <th>2</th>\n",
       "      <td>0</td>\n",
       "      <td>-5623</td>\n",
       "      <td>33</td>\n",
       "      <td>Среднее</td>\n",
       "      <td>1</td>\n",
       "      <td>женат / замужем</td>\n",
       "      <td>0</td>\n",
       "      <td>мужской</td>\n",
       "      <td>сотрудник</td>\n",
       "      <td>0</td>\n",
       "      <td>145885</td>\n",
       "      <td>покупка жилья</td>\n",
       "      <td>взрослые</td>\n",
       "    </tr>\n",
       "    <tr>\n",
       "      <th>3</th>\n",
       "      <td>3</td>\n",
       "      <td>-4124</td>\n",
       "      <td>32</td>\n",
       "      <td>среднее</td>\n",
       "      <td>1</td>\n",
       "      <td>женат / замужем</td>\n",
       "      <td>0</td>\n",
       "      <td>мужской</td>\n",
       "      <td>сотрудник</td>\n",
       "      <td>0</td>\n",
       "      <td>267628</td>\n",
       "      <td>дополнительное образование</td>\n",
       "      <td>взрослые</td>\n",
       "    </tr>\n",
       "    <tr>\n",
       "      <th>4</th>\n",
       "      <td>0</td>\n",
       "      <td>340266</td>\n",
       "      <td>53</td>\n",
       "      <td>среднее</td>\n",
       "      <td>1</td>\n",
       "      <td>гражданский брак</td>\n",
       "      <td>1</td>\n",
       "      <td>женский</td>\n",
       "      <td>пенсионер</td>\n",
       "      <td>0</td>\n",
       "      <td>158616</td>\n",
       "      <td>сыграть свадьбу</td>\n",
       "      <td>взрослые</td>\n",
       "    </tr>\n",
       "  </tbody>\n",
       "</table>\n",
       "</div>"
      ],
      "text/plain": [
       "   children  days_employed dob_years education  education_id  \\\n",
       "0         1          -8437        42    высшее             0   \n",
       "1         1          -4024        36   среднее             1   \n",
       "2         0          -5623        33   Среднее             1   \n",
       "3         3          -4124        32   среднее             1   \n",
       "4         0         340266        53   среднее             1   \n",
       "\n",
       "      family_status  family_status_id   gender income_type  debt  \\\n",
       "0   женат / замужем                 0  женский   сотрудник     0   \n",
       "1   женат / замужем                 0  женский   сотрудник     0   \n",
       "2   женат / замужем                 0  мужской   сотрудник     0   \n",
       "3   женат / замужем                 0  мужской   сотрудник     0   \n",
       "4  гражданский брак                 1  женский   пенсионер     0   \n",
       "\n",
       "   total_income                     purpose age_group  \n",
       "0        253875               покупка жилья  взрослые  \n",
       "1        112080     приобретение автомобиля  взрослые  \n",
       "2        145885               покупка жилья  взрослые  \n",
       "3        267628  дополнительное образование  взрослые  \n",
       "4        158616             сыграть свадьбу  взрослые  "
      ]
     },
     "execution_count": 34,
     "metadata": {},
     "output_type": "execute_result"
    }
   ],
   "source": [
    "df.head()"
   ]
  },
  {
   "cell_type": "markdown",
   "metadata": {},
   "source": [
    "**Вывод**"
   ]
  },
  {
   "cell_type": "markdown",
   "metadata": {},
   "source": [
    "В столбце с доходом содержалась информация о доходе должников  в виде десятичной дроби до миллионой доли. Если речь идет не о криптовалюте, то эта форма является неправильной. Возможно, вводимую сумму встроенный на сайте банка конвертер автоматически переводит в доллары или евро. В этой же форме данные так и храняться в банковской базе. Однако, при извлечении информации из базы программа снова переводит в рубли по действующему курсу, при этом неверно задан формат выводимых данных.   \n",
    "\n",
    "Чтобы привести сведения к целочисленному виду, был использован метод astype() с аргументом 'int'. Также в таблице была изменена информация о поле путем метода loc[] и логической индексации. "
   ]
  },
  {
   "cell_type": "markdown",
   "metadata": {},
   "source": [
    "### Обработка дубликатов"
   ]
  },
  {
   "cell_type": "code",
   "execution_count": 35,
   "metadata": {},
   "outputs": [
    {
     "data": {
      "text/plain": [
       "54"
      ]
     },
     "execution_count": 35,
     "metadata": {},
     "output_type": "execute_result"
    }
   ],
   "source": [
    "df.duplicated().sum() #посчитаем количество дубликатов"
   ]
  },
  {
   "cell_type": "code",
   "execution_count": 36,
   "metadata": {},
   "outputs": [
    {
     "data": {
      "text/plain": [
       "'0.25%'"
      ]
     },
     "execution_count": 36,
     "metadata": {},
     "output_type": "execute_result"
    }
   ],
   "source": [
    "'{:.2%}'.format(df.duplicated().sum() / len(df)) #высчитаем процентную долю дубликатов "
   ]
  },
  {
   "cell_type": "code",
   "execution_count": 37,
   "metadata": {},
   "outputs": [],
   "source": [
    "df = df.drop_duplicates().reset_index(drop = True) #изменим наш DataFrame и удалим все дубликаты с заменой индексов "
   ]
  },
  {
   "cell_type": "code",
   "execution_count": 38,
   "metadata": {},
   "outputs": [
    {
     "data": {
      "text/plain": [
       "0"
      ]
     },
     "execution_count": 38,
     "metadata": {},
     "output_type": "execute_result"
    }
   ],
   "source": [
    "df.duplicated().sum() # дубликатов больше нет"
   ]
  },
  {
   "cell_type": "code",
   "execution_count": 39,
   "metadata": {},
   "outputs": [],
   "source": [
    "df['education'] = df['education'].str.lower() #уберем дубликаты, приведя строки к нижнему регистру"
   ]
  },
  {
   "cell_type": "code",
   "execution_count": 40,
   "metadata": {},
   "outputs": [
    {
     "data": {
      "text/plain": [
       "среднее                15188\n",
       "высшее                  5251\n",
       "неоконченное высшее      744\n",
       "начальное                282\n",
       "ученая степень             6\n",
       "Name: education, dtype: int64"
      ]
     },
     "execution_count": 40,
     "metadata": {},
     "output_type": "execute_result"
    }
   ],
   "source": [
    "df['education'].value_counts()"
   ]
  },
  {
   "cell_type": "markdown",
   "metadata": {},
   "source": [
    "**Вывод**"
   ]
  },
  {
   "cell_type": "markdown",
   "metadata": {},
   "source": [
    "Для поиска и подчета дубликатов мы применили методы duplicated() и sum(), после чего удалили их, используя drop_duplicates(). Чтобы заполнить оставшиеся пустые строки, был использован метод reset_index() с аргументом \"drop = True\". Данный метод позволяет переписать таблицу без пустых строк. Дубликаты могли образоваться вследствие программного сбоя, а также по причине повторного нажатия клавиши \"оформить заявку\".\n",
    "Дубликаты с учетом регистра в колонке \"образование\" были устранены путем приведения текста к нижнему регистру методом str.lower()"
   ]
  },
  {
   "cell_type": "markdown",
   "metadata": {},
   "source": [
    "### Лемматизация"
   ]
  },
  {
   "cell_type": "code",
   "execution_count": 41,
   "metadata": {},
   "outputs": [],
   "source": [
    "from pymystem3 import Mystem # импортируем библиотеку для стемминга\n",
    "m = Mystem()"
   ]
  },
  {
   "cell_type": "code",
   "execution_count": 42,
   "metadata": {},
   "outputs": [],
   "source": [
    "df['lemma_purpose'] = df['purpose'].apply(m.lemmatize) #добавим новый столбец с лемматезированными значениями"
   ]
  },
  {
   "cell_type": "code",
   "execution_count": 43,
   "metadata": {},
   "outputs": [
    {
     "data": {
      "text/html": [
       "<div>\n",
       "<style scoped>\n",
       "    .dataframe tbody tr th:only-of-type {\n",
       "        vertical-align: middle;\n",
       "    }\n",
       "\n",
       "    .dataframe tbody tr th {\n",
       "        vertical-align: top;\n",
       "    }\n",
       "\n",
       "    .dataframe thead th {\n",
       "        text-align: right;\n",
       "    }\n",
       "</style>\n",
       "<table border=\"1\" class=\"dataframe\">\n",
       "  <thead>\n",
       "    <tr style=\"text-align: right;\">\n",
       "      <th></th>\n",
       "      <th>children</th>\n",
       "      <th>days_employed</th>\n",
       "      <th>dob_years</th>\n",
       "      <th>education</th>\n",
       "      <th>education_id</th>\n",
       "      <th>family_status</th>\n",
       "      <th>family_status_id</th>\n",
       "      <th>gender</th>\n",
       "      <th>income_type</th>\n",
       "      <th>debt</th>\n",
       "      <th>total_income</th>\n",
       "      <th>purpose</th>\n",
       "      <th>age_group</th>\n",
       "      <th>lemma_purpose</th>\n",
       "    </tr>\n",
       "  </thead>\n",
       "  <tbody>\n",
       "    <tr>\n",
       "      <th>0</th>\n",
       "      <td>1</td>\n",
       "      <td>-8437</td>\n",
       "      <td>42</td>\n",
       "      <td>высшее</td>\n",
       "      <td>0</td>\n",
       "      <td>женат / замужем</td>\n",
       "      <td>0</td>\n",
       "      <td>женский</td>\n",
       "      <td>сотрудник</td>\n",
       "      <td>0</td>\n",
       "      <td>253875</td>\n",
       "      <td>покупка жилья</td>\n",
       "      <td>взрослые</td>\n",
       "      <td>[покупка,  , жилье, \\n]</td>\n",
       "    </tr>\n",
       "    <tr>\n",
       "      <th>1</th>\n",
       "      <td>1</td>\n",
       "      <td>-4024</td>\n",
       "      <td>36</td>\n",
       "      <td>среднее</td>\n",
       "      <td>1</td>\n",
       "      <td>женат / замужем</td>\n",
       "      <td>0</td>\n",
       "      <td>женский</td>\n",
       "      <td>сотрудник</td>\n",
       "      <td>0</td>\n",
       "      <td>112080</td>\n",
       "      <td>приобретение автомобиля</td>\n",
       "      <td>взрослые</td>\n",
       "      <td>[приобретение,  , автомобиль, \\n]</td>\n",
       "    </tr>\n",
       "    <tr>\n",
       "      <th>2</th>\n",
       "      <td>0</td>\n",
       "      <td>-5623</td>\n",
       "      <td>33</td>\n",
       "      <td>среднее</td>\n",
       "      <td>1</td>\n",
       "      <td>женат / замужем</td>\n",
       "      <td>0</td>\n",
       "      <td>мужской</td>\n",
       "      <td>сотрудник</td>\n",
       "      <td>0</td>\n",
       "      <td>145885</td>\n",
       "      <td>покупка жилья</td>\n",
       "      <td>взрослые</td>\n",
       "      <td>[покупка,  , жилье, \\n]</td>\n",
       "    </tr>\n",
       "    <tr>\n",
       "      <th>3</th>\n",
       "      <td>3</td>\n",
       "      <td>-4124</td>\n",
       "      <td>32</td>\n",
       "      <td>среднее</td>\n",
       "      <td>1</td>\n",
       "      <td>женат / замужем</td>\n",
       "      <td>0</td>\n",
       "      <td>мужской</td>\n",
       "      <td>сотрудник</td>\n",
       "      <td>0</td>\n",
       "      <td>267628</td>\n",
       "      <td>дополнительное образование</td>\n",
       "      <td>взрослые</td>\n",
       "      <td>[дополнительный,  , образование, \\n]</td>\n",
       "    </tr>\n",
       "    <tr>\n",
       "      <th>4</th>\n",
       "      <td>0</td>\n",
       "      <td>340266</td>\n",
       "      <td>53</td>\n",
       "      <td>среднее</td>\n",
       "      <td>1</td>\n",
       "      <td>гражданский брак</td>\n",
       "      <td>1</td>\n",
       "      <td>женский</td>\n",
       "      <td>пенсионер</td>\n",
       "      <td>0</td>\n",
       "      <td>158616</td>\n",
       "      <td>сыграть свадьбу</td>\n",
       "      <td>взрослые</td>\n",
       "      <td>[сыграть,  , свадьба, \\n]</td>\n",
       "    </tr>\n",
       "  </tbody>\n",
       "</table>\n",
       "</div>"
      ],
      "text/plain": [
       "   children  days_employed dob_years education  education_id  \\\n",
       "0         1          -8437        42    высшее             0   \n",
       "1         1          -4024        36   среднее             1   \n",
       "2         0          -5623        33   среднее             1   \n",
       "3         3          -4124        32   среднее             1   \n",
       "4         0         340266        53   среднее             1   \n",
       "\n",
       "      family_status  family_status_id   gender income_type  debt  \\\n",
       "0   женат / замужем                 0  женский   сотрудник     0   \n",
       "1   женат / замужем                 0  женский   сотрудник     0   \n",
       "2   женат / замужем                 0  мужской   сотрудник     0   \n",
       "3   женат / замужем                 0  мужской   сотрудник     0   \n",
       "4  гражданский брак                 1  женский   пенсионер     0   \n",
       "\n",
       "   total_income                     purpose age_group  \\\n",
       "0        253875               покупка жилья  взрослые   \n",
       "1        112080     приобретение автомобиля  взрослые   \n",
       "2        145885               покупка жилья  взрослые   \n",
       "3        267628  дополнительное образование  взрослые   \n",
       "4        158616             сыграть свадьбу  взрослые   \n",
       "\n",
       "                          lemma_purpose  \n",
       "0               [покупка,  , жилье, \\n]  \n",
       "1     [приобретение,  , автомобиль, \\n]  \n",
       "2               [покупка,  , жилье, \\n]  \n",
       "3  [дополнительный,  , образование, \\n]  \n",
       "4             [сыграть,  , свадьба, \\n]  "
      ]
     },
     "execution_count": 43,
     "metadata": {},
     "output_type": "execute_result"
    }
   ],
   "source": [
    "df.head()"
   ]
  },
  {
   "cell_type": "code",
   "execution_count": 44,
   "metadata": {},
   "outputs": [],
   "source": [
    "def purpose_group(row): #сделаем функцию для категоризации по целям кредитования\n",
    "    purpose = row['lemma_purpose']\n",
    "    if 'свадьба' in purpose:\n",
    "        return 'свадьба'\n",
    "    if 'образование' in purpose: \n",
    "        return 'образование' \n",
    "    if 'автомобиль' in purpose:\n",
    "        return 'автомобиль'\n",
    "    if 'жилье' in purpose:\n",
    "        return 'жилье'\n",
    "    if 'недвижимость' in purpose:\n",
    "        return 'жилье'\n"
   ]
  },
  {
   "cell_type": "code",
   "execution_count": 45,
   "metadata": {},
   "outputs": [],
   "source": [
    "df['purpose_group'] = df.apply(purpose_group, axis=1) #применим функцию, создав новый столбец"
   ]
  },
  {
   "cell_type": "code",
   "execution_count": 46,
   "metadata": {},
   "outputs": [
    {
     "data": {
      "text/plain": [
       "жилье          10814\n",
       "автомобиль      4308\n",
       "образование     4014\n",
       "свадьба         2335\n",
       "Name: purpose_group, dtype: int64"
      ]
     },
     "execution_count": 46,
     "metadata": {},
     "output_type": "execute_result"
    }
   ],
   "source": [
    "df['purpose_group'].value_counts()"
   ]
  },
  {
   "cell_type": "markdown",
   "metadata": {},
   "source": [
    "Для лемматизации информации о целях получения кредита был использована библиотека pymystem3. Ко всему столбцу был применен метод lemmatize c образованием нового столбца с леммами целей. Далее информация была разбита на 4 категории: \"автомобиль\", \"жилье\", \"свадьба\" и \"образование\"."
   ]
  },
  {
   "cell_type": "markdown",
   "metadata": {},
   "source": [
    "### Категоризация данных"
   ]
  },
  {
   "cell_type": "code",
   "execution_count": 47,
   "metadata": {},
   "outputs": [
    {
     "name": "stdout",
     "output_type": "stream",
     "text": [
      "             education  education_id\n",
      "0               высшее             0\n",
      "1              среднее             1\n",
      "2  неоконченное высшее             2\n",
      "3            начальное             3\n",
      "4       ученая степень             4\n"
     ]
    }
   ],
   "source": [
    "education_dict = df[['education', 'education_id']] #сделаем словарь для образования\n",
    "education_dict = education_dict.drop_duplicates().reset_index(drop=True)\n",
    "print(education_dict)"
   ]
  },
  {
   "cell_type": "code",
   "execution_count": 48,
   "metadata": {},
   "outputs": [
    {
     "name": "stdout",
     "output_type": "stream",
     "text": [
      "           family_status  family_status_id\n",
      "0        женат / замужем                 0\n",
      "1       гражданский брак                 1\n",
      "2         вдовец / вдова                 2\n",
      "3              в разводе                 3\n",
      "4  Не женат / не замужем                 4\n"
     ]
    }
   ],
   "source": [
    "family_dict = df[['family_status', 'family_status_id']] #сделаем словарь для семейного положения\n",
    "family_dict = family_dict.drop_duplicates().reset_index(drop=True)\n",
    "print(family_dict)"
   ]
  },
  {
   "cell_type": "code",
   "execution_count": 49,
   "metadata": {},
   "outputs": [],
   "source": [
    "def official_marriage_count(row): #сделаем функцию для раздела по наличию официального бракосочетания. \n",
    "    status = row['family_status_id']\n",
    "    if status == 0:\n",
    "        return 'оф. брак'\n",
    "    else:\n",
    "        return 'не сост в оф. браке'"
   ]
  },
  {
   "cell_type": "code",
   "execution_count": 50,
   "metadata": {},
   "outputs": [],
   "source": [
    "df['marriage'] = df.apply(official_marriage_count, axis=1)"
   ]
  },
  {
   "cell_type": "code",
   "execution_count": 51,
   "metadata": {},
   "outputs": [
    {
     "data": {
      "text/plain": [
       "оф. брак               12344\n",
       "не сост в оф. браке     9127\n",
       "Name: marriage, dtype: int64"
      ]
     },
     "execution_count": 51,
     "metadata": {},
     "output_type": "execute_result"
    }
   ],
   "source": [
    "df['marriage'].value_counts()"
   ]
  },
  {
   "cell_type": "code",
   "execution_count": 52,
   "metadata": {},
   "outputs": [],
   "source": [
    "#создадим функцию для раздела по количеству детей\n",
    "def child_group(row):\n",
    "    child = row['children']\n",
    "    if 1 <= child <= 2:\n",
    "        return 'есть дети'\n",
    "    if child >= 3:\n",
    "        return 'многодетные'\n",
    "    if child == 0 :\n",
    "        return 'нет детей'   "
   ]
  },
  {
   "cell_type": "code",
   "execution_count": 53,
   "metadata": {},
   "outputs": [],
   "source": [
    "df['children_group'] = df.apply(child_group, axis=1)"
   ]
  },
  {
   "cell_type": "code",
   "execution_count": 54,
   "metadata": {},
   "outputs": [
    {
     "data": {
      "text/plain": [
       "нет детей      14107\n",
       "есть дети       6861\n",
       "многодетные      456\n",
       "Name: children_group, dtype: int64"
      ]
     },
     "execution_count": 54,
     "metadata": {},
     "output_type": "execute_result"
    }
   ],
   "source": [
    "df['children_group'].value_counts() #уточнил по многодетным"
   ]
  },
  {
   "cell_type": "code",
   "execution_count": 55,
   "metadata": {},
   "outputs": [],
   "source": [
    "def income_group_count(row):#функция для категоризации по уровню дохода\n",
    "    income = row['total_income']\n",
    "    try:\n",
    "        if income > 1000000:\n",
    "            return 'состоятельные'\n",
    "        if 500000 < income <= 1000000:\n",
    "            return 'верхний средний класс'\n",
    "        if 250000 < income <= 500000:\n",
    "            return 'средний класс'\n",
    "        if 100000 < income <= 250000:\n",
    "            return 'предсредний класс'\n",
    "        if 36000 < income <= 100000:\n",
    "            return 'выше бедности'\n",
    "        if 0 < income <= 36000:\n",
    "            return 'бедные'\n",
    "    except:\n",
    "        return 'невозможно определить'    \n",
    "    \n",
    "    \n",
    "    "
   ]
  },
  {
   "cell_type": "code",
   "execution_count": 56,
   "metadata": {},
   "outputs": [],
   "source": [
    "df['income_group'] = df.apply(income_group_count, axis=1)"
   ]
  },
  {
   "cell_type": "code",
   "execution_count": 57,
   "metadata": {},
   "outputs": [
    {
     "data": {
      "text/plain": [
       "предсредний класс        14195\n",
       "выше бедности             4388\n",
       "средний класс             2591\n",
       "верхний средний класс      197\n",
       "бедные                      75\n",
       "состоятельные               25\n",
       "Name: income_group, dtype: int64"
      ]
     },
     "execution_count": 57,
     "metadata": {},
     "output_type": "execute_result"
    }
   ],
   "source": [
    "df['income_group'].value_counts()"
   ]
  },
  {
   "cell_type": "markdown",
   "metadata": {},
   "source": [
    "**Вывод**"
   ]
  },
  {
   "cell_type": "markdown",
   "metadata": {},
   "source": [
    "Были созданы несколько словарей: по образованию, по семейному положению. Для ответа на вопросы информацию о детях разделили на две категории: есть дети или нет, а также по наличию официального брака или его его отсутствию. Считаем, что именно такая категоризация соответствует целям исследования. Информация об уровне дохода также была категоризирована путем создания функции, которая была применена к столбцу с доходом.  "
   ]
  },
  {
   "cell_type": "markdown",
   "metadata": {},
   "source": [
    "## Ответы на вопросы"
   ]
  },
  {
   "cell_type": "markdown",
   "metadata": {},
   "source": [
    "- Есть ли зависимость между наличием детей и возвратом кредита в срок?"
   ]
  },
  {
   "cell_type": "code",
   "execution_count": 58,
   "metadata": {},
   "outputs": [
    {
     "data": {
      "text/plain": [
       "1741"
      ]
     },
     "execution_count": 58,
     "metadata": {},
     "output_type": "execute_result"
    }
   ],
   "source": [
    "len(df[df['debt'] == 1]) #посчитаем сколько у нас должников есть вообще"
   ]
  },
  {
   "cell_type": "code",
   "execution_count": 59,
   "metadata": {},
   "outputs": [],
   "source": [
    "#создадим функцию, которая будет возвращать количество должников в зависимости от количества детей\n",
    "def children_debt_count(df, children, debt):\n",
    "    debt_list = df[(df['children_group'] == children)&(df['debt'] == debt)]\n",
    "    debt_list_count = debt_list.loc[:, 'debt'].count()\n",
    "    return debt_list_count"
   ]
  },
  {
   "cell_type": "code",
   "execution_count": 60,
   "metadata": {},
   "outputs": [],
   "source": [
    "#создадим переменные, к которых будут храниться требуемые нам цифры\n",
    "\n",
    "#переменные для подсчета должников с детьми:\n",
    "children_debt_sum = children_debt_count(df, \"есть дети\", 1) # здесь кол-во должников с детьми и с просрочкой\n",
    "children_debt_total = children_debt_count(df, \"есть дети\", 0) + children_debt_count(df, \"есть дети\", 1) #здесь общее кол-во клиентов с детьми\n",
    "\n",
    "#переменные для подсчета должников без детей:\n",
    "childfree_debt_sum = children_debt_count(df, \"нет детей\", 1) #кол-во должников без детей, но с просрочкой\n",
    "childfree_debt_total = children_debt_count(df, \"нет детей\", 0) + children_debt_count(df, \"нет детей\", 1) #общее кол-во клиентов без детей\n",
    "\n",
    "#переменные для подсчета многодетных должников:\n",
    "large_family_debt_sum = children_debt_count(df, \"многодетные\", 1) #кол-во многодетных должников с просрочкой\n",
    "large_family_debt_total = children_debt_count(df, \"многодетные\", 1) + children_debt_count(df, \"многодетные\", 0) #общее кол-во многодетных клиентов\n",
    "\n",
    "#переменные для подсчета доли должников с просрочкой от общего количества клиентов в группе:\n",
    "got_children_part = '{:.2%}'.format(children_debt_sum / children_debt_total) #доля должников с детьми\n",
    "childfree_part = '{:.2%}'.format(childfree_debt_sum / childfree_debt_total) #доля должников без детей\n",
    "large_family_part = '{:.2%}'.format(large_family_debt_sum/ large_family_debt_total) #доля многодетных должников"
   ]
  },
  {
   "cell_type": "code",
   "execution_count": 61,
   "metadata": {},
   "outputs": [
    {
     "data": {
      "text/plain": [
       "0.07535266179910682"
      ]
     },
     "execution_count": 61,
     "metadata": {},
     "output_type": "execute_result"
    }
   ],
   "source": [
    "# посчитаем долю должников, не имеющих детей, к клиентам, не имеющим дететей и не имеющим просрочек платежей. \n",
    "a_test = children_debt_count(df, \"нет детей\", 1) / (children_debt_count(df, \"нет детей\", 1) + \\\n",
    "                                                    children_debt_count(df, \"нет детей\", 0)) \n",
    "\n",
    "a_test"
   ]
  },
  {
   "cell_type": "code",
   "execution_count": 62,
   "metadata": {},
   "outputs": [
    {
     "data": {
      "text/html": [
       "<div>\n",
       "<style scoped>\n",
       "    .dataframe tbody tr th:only-of-type {\n",
       "        vertical-align: middle;\n",
       "    }\n",
       "\n",
       "    .dataframe tbody tr th {\n",
       "        vertical-align: top;\n",
       "    }\n",
       "\n",
       "    .dataframe thead th {\n",
       "        text-align: right;\n",
       "    }\n",
       "</style>\n",
       "<table border=\"1\" class=\"dataframe\">\n",
       "  <thead>\n",
       "    <tr style=\"text-align: right;\">\n",
       "      <th></th>\n",
       "      <th>наличие детей</th>\n",
       "      <th>всего</th>\n",
       "      <th>дожники</th>\n",
       "      <th>доля должников</th>\n",
       "    </tr>\n",
       "  </thead>\n",
       "  <tbody>\n",
       "    <tr>\n",
       "      <th>0</th>\n",
       "      <td>нет детей</td>\n",
       "      <td>14107</td>\n",
       "      <td>1063</td>\n",
       "      <td>7.54%</td>\n",
       "    </tr>\n",
       "    <tr>\n",
       "      <th>1</th>\n",
       "      <td>есть дети</td>\n",
       "      <td>6861</td>\n",
       "      <td>638</td>\n",
       "      <td>9.30%</td>\n",
       "    </tr>\n",
       "    <tr>\n",
       "      <th>2</th>\n",
       "      <td>многодетные</td>\n",
       "      <td>456</td>\n",
       "      <td>39</td>\n",
       "      <td>8.55%</td>\n",
       "    </tr>\n",
       "  </tbody>\n",
       "</table>\n",
       "</div>"
      ],
      "text/plain": [
       "  наличие детей  всего  дожники доля должников\n",
       "0     нет детей  14107     1063          7.54%\n",
       "1     есть дети   6861      638          9.30%\n",
       "2   многодетные    456       39          8.55%"
      ]
     },
     "execution_count": 62,
     "metadata": {},
     "output_type": "execute_result"
    }
   ],
   "source": [
    "#для наглядности занесем полученные данные в отдельную таблицу\n",
    "\n",
    "data=data = [['нет детей', childfree_debt_total, childfree_debt_sum, childfree_part], \n",
    "             ['есть дети', children_debt_total, children_debt_sum, got_children_part],\n",
    "            ['многодетные', large_family_debt_total, large_family_debt_sum, large_family_part]]\n",
    "columns = ['наличие детей', 'всего', 'дожники', 'доля должников']\n",
    "table = pd.DataFrame(data = data, columns = columns )\n",
    "\n",
    "table"
   ]
  },
  {
   "cell_type": "markdown",
   "metadata": {},
   "source": [
    "**Вывод**"
   ]
  },
  {
   "cell_type": "markdown",
   "metadata": {},
   "source": [
    "Не имеющих детей клиентов в два раза больше, чем клиентов с детьми. Этим объясняется большее количество должников среди них. Однако, из полученных данных видно, что доля должников, имеющих детей, из группы клиентов, имеющих детей, больше доли должников, у которых детей нет. В связи с этим, мы можем утверждать о наличии взаимосвязи между наличием детей и возвратом кредита в срок - наличие детей увеличивает вероятность просрочки платежей.  "
   ]
  },
  {
   "cell_type": "markdown",
   "metadata": {},
   "source": [
    "- Есть ли зависимость между семейным положением и возвратом кредита в срок?"
   ]
  },
  {
   "cell_type": "code",
   "execution_count": 63,
   "metadata": {},
   "outputs": [],
   "source": [
    "# создадим функцию, которая будет возвращать количество должников, состоящих в официальном браке\n",
    "def family_debt_count(df, status, debt): \n",
    "    debt_list = df[(df['marriage'] == status)&(df['debt']==debt)]\n",
    "    debt_list_count = debt_list.loc[:, 'debt'].count()\n",
    "    return debt_list_count\n",
    "    "
   ]
  },
  {
   "cell_type": "code",
   "execution_count": 64,
   "metadata": {},
   "outputs": [],
   "source": [
    "#создадим переменные, которых будут содержаться данные о количестве должников по наличию/отсутствую брака\n",
    "\n",
    "#переменные для подсчета количества клиентов с просрочкой, состоящих в браке:\n",
    "married_debt_sum = family_debt_count(df, 'оф. брак', 1) #должники, состоящие в браке\n",
    "married_debt_total = family_debt_count(df, 'оф. брак', 1) + family_debt_count(df, 'оф. брак', 0) #общее количество клиентов, состоящих в браке\n",
    "\n",
    "#переменные для подсчета количества должников, не состоящих в официальном браке:\n",
    "unmarried_debt_sum = family_debt_count(df, 'не сост в оф. браке', 1) #должники, не состоящие в официальном браке\n",
    "unmarried_debt_total = family_debt_count(df, 'не сост в оф. браке', 1) + family_debt_count(df, 'не сост в оф. браке', 0)#общее количество клиентов, не состоящих в браке\n",
    "\n",
    "#переменные для подсчета доли должников в группе:\n",
    "married_debt_part = '{:.2%}'.format(married_debt_sum / married_debt_total)\n",
    "unmarried_debt_part = '{:.2%}'.format(unmarried_debt_sum / unmarried_debt_total)\n"
   ]
  },
  {
   "cell_type": "code",
   "execution_count": 65,
   "metadata": {},
   "outputs": [
    {
     "data": {
      "text/html": [
       "<div>\n",
       "<style scoped>\n",
       "    .dataframe tbody tr th:only-of-type {\n",
       "        vertical-align: middle;\n",
       "    }\n",
       "\n",
       "    .dataframe tbody tr th {\n",
       "        vertical-align: top;\n",
       "    }\n",
       "\n",
       "    .dataframe thead th {\n",
       "        text-align: right;\n",
       "    }\n",
       "</style>\n",
       "<table border=\"1\" class=\"dataframe\">\n",
       "  <thead>\n",
       "    <tr style=\"text-align: right;\">\n",
       "      <th></th>\n",
       "      <th>Брак</th>\n",
       "      <th>всего</th>\n",
       "      <th>дожники</th>\n",
       "      <th>доля должников</th>\n",
       "    </tr>\n",
       "  </thead>\n",
       "  <tbody>\n",
       "    <tr>\n",
       "      <th>0</th>\n",
       "      <td>Состоят в официальном браке</td>\n",
       "      <td>12344</td>\n",
       "      <td>931</td>\n",
       "      <td>7.54%</td>\n",
       "    </tr>\n",
       "    <tr>\n",
       "      <th>1</th>\n",
       "      <td>Не состоят в официальном браке</td>\n",
       "      <td>9127</td>\n",
       "      <td>810</td>\n",
       "      <td>8.87%</td>\n",
       "    </tr>\n",
       "  </tbody>\n",
       "</table>\n",
       "</div>"
      ],
      "text/plain": [
       "                             Брак  всего  дожники доля должников\n",
       "0     Состоят в официальном браке  12344      931          7.54%\n",
       "1  Не состоят в официальном браке   9127      810          8.87%"
      ]
     },
     "execution_count": 65,
     "metadata": {},
     "output_type": "execute_result"
    }
   ],
   "source": [
    "# создаем отдельную таблицу\n",
    "data=data = [['Состоят в официальном браке', married_debt_total, married_debt_sum, married_debt_part], \n",
    "             ['Не состоят в официальном браке', unmarried_debt_total, unmarried_debt_sum, unmarried_debt_part]]\n",
    "columns = ['Брак', 'всего', 'дожники', 'доля должников']\n",
    "table = pd.DataFrame(data = data, columns = columns )\n",
    "\n",
    "table"
   ]
  },
  {
   "cell_type": "markdown",
   "metadata": {},
   "source": [
    "**Вывод**"
   ]
  },
  {
   "cell_type": "markdown",
   "metadata": {},
   "source": [
    "Большинство клиентов состоят в официальном браке. Количество должников среди состоящих в официальном браке чуть выше, чем среди не состоящих. В то же время, не так значительно. Из этого можно сделать вывод, что количество должников в каждой группе примерно одинаково. Однако, доля должников, не состоящих в официальном браке, выше доли должников состоящих. Поэтому можно сделать вывод о том, что отсутствие действующего брака увеличивает вероятность просрочки. "
   ]
  },
  {
   "cell_type": "markdown",
   "metadata": {},
   "source": [
    "- Есть ли зависимость между уровнем дохода и возвратом кредита в срок?"
   ]
  },
  {
   "cell_type": "code",
   "execution_count": 66,
   "metadata": {},
   "outputs": [
    {
     "data": {
      "text/html": [
       "<div>\n",
       "<style scoped>\n",
       "    .dataframe tbody tr th:only-of-type {\n",
       "        vertical-align: middle;\n",
       "    }\n",
       "\n",
       "    .dataframe tbody tr th {\n",
       "        vertical-align: top;\n",
       "    }\n",
       "\n",
       "    .dataframe thead th {\n",
       "        text-align: right;\n",
       "    }\n",
       "</style>\n",
       "<table border=\"1\" class=\"dataframe\">\n",
       "  <thead>\n",
       "    <tr style=\"text-align: right;\">\n",
       "      <th></th>\n",
       "      <th>total</th>\n",
       "      <th>debt</th>\n",
       "    </tr>\n",
       "    <tr>\n",
       "      <th>income_group</th>\n",
       "      <th></th>\n",
       "      <th></th>\n",
       "    </tr>\n",
       "  </thead>\n",
       "  <tbody>\n",
       "    <tr>\n",
       "      <th>предсредний класс</th>\n",
       "      <td>14195</td>\n",
       "      <td>1193</td>\n",
       "    </tr>\n",
       "    <tr>\n",
       "      <th>выше бедности</th>\n",
       "      <td>4388</td>\n",
       "      <td>350</td>\n",
       "    </tr>\n",
       "    <tr>\n",
       "      <th>средний класс</th>\n",
       "      <td>2591</td>\n",
       "      <td>180</td>\n",
       "    </tr>\n",
       "    <tr>\n",
       "      <th>верхний средний класс</th>\n",
       "      <td>197</td>\n",
       "      <td>12</td>\n",
       "    </tr>\n",
       "    <tr>\n",
       "      <th>бедные</th>\n",
       "      <td>75</td>\n",
       "      <td>4</td>\n",
       "    </tr>\n",
       "    <tr>\n",
       "      <th>состоятельные</th>\n",
       "      <td>25</td>\n",
       "      <td>2</td>\n",
       "    </tr>\n",
       "  </tbody>\n",
       "</table>\n",
       "</div>"
      ],
      "text/plain": [
       "                       total  debt\n",
       "income_group                      \n",
       "предсредний класс      14195  1193\n",
       "выше бедности           4388   350\n",
       "средний класс           2591   180\n",
       "верхний средний класс    197    12\n",
       "бедные                    75     4\n",
       "состоятельные             25     2"
      ]
     },
     "execution_count": 66,
     "metadata": {},
     "output_type": "execute_result"
    }
   ],
   "source": [
    "# сгруппируем датасет с должниками и сортируем его по уровню дохода\n",
    "df_debt = df[df['debt'] == 1] \n",
    "df_debt_sorted = df_debt.groupby(['income_group'])['debt'].count().sort_values(ascending=False)\n",
    "\n",
    "#сгруппируем основной датасет по группам и получим данные об общем количестве клиентов по каждой группе \n",
    "df_debt_income_total = df.groupby(['income_group'])['debt'].count().sort_values(ascending=False)\n",
    "\n",
    "#из полученных данных сделаем два отдельных ДатаФрейма\n",
    "data_debt_income = pd.DataFrame(data = df_debt_sorted, columns = ['debt'])\n",
    "data_debt_total = pd.DataFrame(data = df_debt_income_total, columns = ['debt'])\n",
    "\n",
    "#теперь соединим их методом merge()\n",
    "data_inc = data_debt_total.merge(data_debt_income, on='income_group', how = 'right')\n",
    "\n",
    "#поменяем названия столбцов\n",
    "data_inc.set_axis(['total', 'debt'], axis = 'columns', inplace=True)\n",
    "\n",
    "#новая таблица готова\n",
    "data_inc"
   ]
  },
  {
   "cell_type": "code",
   "execution_count": 67,
   "metadata": {},
   "outputs": [],
   "source": [
    "# создадим функцию для подсчета процентного соотношения количества должников к общему количеству в группе \n",
    "def debt_ratio(row):\n",
    "    debt = row['debt']\n",
    "    total = row['total']\n",
    "    ratio = debt / total\n",
    "    return '{:.2%}'.format(ratio)"
   ]
  },
  {
   "cell_type": "code",
   "execution_count": 68,
   "metadata": {},
   "outputs": [
    {
     "data": {
      "text/html": [
       "<div>\n",
       "<style scoped>\n",
       "    .dataframe tbody tr th:only-of-type {\n",
       "        vertical-align: middle;\n",
       "    }\n",
       "\n",
       "    .dataframe tbody tr th {\n",
       "        vertical-align: top;\n",
       "    }\n",
       "\n",
       "    .dataframe thead th {\n",
       "        text-align: right;\n",
       "    }\n",
       "</style>\n",
       "<table border=\"1\" class=\"dataframe\">\n",
       "  <thead>\n",
       "    <tr style=\"text-align: right;\">\n",
       "      <th></th>\n",
       "      <th>total</th>\n",
       "      <th>debt</th>\n",
       "      <th>ratio</th>\n",
       "    </tr>\n",
       "    <tr>\n",
       "      <th>income_group</th>\n",
       "      <th></th>\n",
       "      <th></th>\n",
       "      <th></th>\n",
       "    </tr>\n",
       "  </thead>\n",
       "  <tbody>\n",
       "    <tr>\n",
       "      <th>предсредний класс</th>\n",
       "      <td>14195</td>\n",
       "      <td>1193</td>\n",
       "      <td>8.40%</td>\n",
       "    </tr>\n",
       "    <tr>\n",
       "      <th>состоятельные</th>\n",
       "      <td>25</td>\n",
       "      <td>2</td>\n",
       "      <td>8.00%</td>\n",
       "    </tr>\n",
       "    <tr>\n",
       "      <th>выше бедности</th>\n",
       "      <td>4388</td>\n",
       "      <td>350</td>\n",
       "      <td>7.98%</td>\n",
       "    </tr>\n",
       "    <tr>\n",
       "      <th>средний класс</th>\n",
       "      <td>2591</td>\n",
       "      <td>180</td>\n",
       "      <td>6.95%</td>\n",
       "    </tr>\n",
       "    <tr>\n",
       "      <th>верхний средний класс</th>\n",
       "      <td>197</td>\n",
       "      <td>12</td>\n",
       "      <td>6.09%</td>\n",
       "    </tr>\n",
       "    <tr>\n",
       "      <th>бедные</th>\n",
       "      <td>75</td>\n",
       "      <td>4</td>\n",
       "      <td>5.33%</td>\n",
       "    </tr>\n",
       "  </tbody>\n",
       "</table>\n",
       "</div>"
      ],
      "text/plain": [
       "                       total  debt  ratio\n",
       "income_group                             \n",
       "предсредний класс      14195  1193  8.40%\n",
       "состоятельные             25     2  8.00%\n",
       "выше бедности           4388   350  7.98%\n",
       "средний класс           2591   180  6.95%\n",
       "верхний средний класс    197    12  6.09%\n",
       "бедные                    75     4  5.33%"
      ]
     },
     "execution_count": 68,
     "metadata": {},
     "output_type": "execute_result"
    }
   ],
   "source": [
    "# применим функцию к таблице, создав новый столбец ['ratio']\n",
    "data_inc['ratio'] = data_inc.apply(debt_ratio, axis=1)\n",
    "\n",
    "# сортируем таблицу по новому столбцу ['ratio'] и посмотрит на результаты\n",
    "data_inc.sort_values(by='ratio', ascending=False)"
   ]
  },
  {
   "cell_type": "markdown",
   "metadata": {},
   "source": [
    "**Вывод**"
   ]
  },
  {
   "cell_type": "markdown",
   "metadata": {},
   "source": [
    "Самыми внушающими доверие клиентами являются представители среднего, верхнего среднего класса, и, как это неудивительно, бедные. Предсредний класс, наоборот, оказался менее благонадежными из всех. \n",
    "\n",
    "В целом, это легко поддается объяснению. Во-первых, представители среднего класса - это либо владельцы устойчивого бизнеса и его руководящий персонал, либо востребованные высококвалифицированные специалисты, имеющие регулярную заработную плату. Иными словами, имеющие весомый стабильный доход. Большая часть же предсреднего класса - это как правило торговцы и мелкие предприниматели, доход которых часто варируется по синусоиде. \n",
    "\n",
    "Благонадежность бедных, на наш взгляд, заключается в следующем. Во-первых, банк им одобряет лишь небольшие суммы. Во-вторых, бедные прекрасно понимают, что взять кредит для них - это риск, и в случае просрочки они испортят себе кредитную историю, что в последующем станет препятствием в получении нового. В-третьих, бедные хорошо осведомлены, что за просрочки платежей банк начисляет неустойку, и в конечном итоге денег на возврат кредита будет потрачено еще больше. Таким образом, бедные в своем большинстве, более мотивированы и организованы в выплате кредита, а небольшая сумма ежемесячного платежа позволяет им выплачивать кредит относительно комфортно, чем и объясняется самый маленький процент должников среди них.\n",
    "\n",
    "Относительно неблагонадежности \"состоятельных\" хотим отметить, что в нашей выборке их представлено всего 25 человек (0,1% от общего количества всех клиентов). Если их включить в верхний средний класс, результаты исследования практически не изменяться. Средний класс все равно окажется более благонадежным чем предсредний. Однако, полагаем, что кредитная благонадежность состоятельных людей заслуживает отдельного исследования.   \n",
    "\n"
   ]
  },
  {
   "cell_type": "markdown",
   "metadata": {},
   "source": [
    "- Как разные цели кредита влияют на его возврат в срок?"
   ]
  },
  {
   "cell_type": "code",
   "execution_count": 69,
   "metadata": {},
   "outputs": [],
   "source": [
    "#создадим функци, которая вернет нам количество должников по определенной цели кредита\n",
    "def purpose_debt_count(df, purpose, debt):\n",
    "    debt_list = df[(df['purpose_group'] == purpose)&(df['debt']==debt)]\n",
    "    debt_list_count = debt_list.loc[:, 'debt'].count()\n",
    "    return debt_list_count\n",
    "    "
   ]
  },
  {
   "cell_type": "code",
   "execution_count": 70,
   "metadata": {},
   "outputs": [
    {
     "data": {
      "text/html": [
       "<div>\n",
       "<style scoped>\n",
       "    .dataframe tbody tr th:only-of-type {\n",
       "        vertical-align: middle;\n",
       "    }\n",
       "\n",
       "    .dataframe tbody tr th {\n",
       "        vertical-align: top;\n",
       "    }\n",
       "\n",
       "    .dataframe thead th {\n",
       "        text-align: right;\n",
       "    }\n",
       "</style>\n",
       "<table border=\"1\" class=\"dataframe\">\n",
       "  <thead>\n",
       "    <tr style=\"text-align: right;\">\n",
       "      <th></th>\n",
       "      <th>purpose_group</th>\n",
       "      <th>total</th>\n",
       "      <th>debt</th>\n",
       "      <th>ratio</th>\n",
       "    </tr>\n",
       "  </thead>\n",
       "  <tbody>\n",
       "    <tr>\n",
       "      <th>1</th>\n",
       "      <td>автомобиль</td>\n",
       "      <td>4308</td>\n",
       "      <td>403</td>\n",
       "      <td>9.354689</td>\n",
       "    </tr>\n",
       "    <tr>\n",
       "      <th>2</th>\n",
       "      <td>образование</td>\n",
       "      <td>4014</td>\n",
       "      <td>370</td>\n",
       "      <td>9.217738</td>\n",
       "    </tr>\n",
       "    <tr>\n",
       "      <th>3</th>\n",
       "      <td>свадьба</td>\n",
       "      <td>2335</td>\n",
       "      <td>186</td>\n",
       "      <td>7.965739</td>\n",
       "    </tr>\n",
       "    <tr>\n",
       "      <th>0</th>\n",
       "      <td>жилье</td>\n",
       "      <td>10814</td>\n",
       "      <td>782</td>\n",
       "      <td>7.231367</td>\n",
       "    </tr>\n",
       "  </tbody>\n",
       "</table>\n",
       "</div>"
      ],
      "text/plain": [
       "  purpose_group  total  debt     ratio\n",
       "1    автомобиль   4308   403  9.354689\n",
       "2   образование   4014   370  9.217738\n",
       "3       свадьба   2335   186  7.965739\n",
       "0         жилье  10814   782  7.231367"
      ]
     },
     "execution_count": 70,
     "metadata": {},
     "output_type": "execute_result"
    }
   ],
   "source": [
    "#сгруппируем данные по целевым группам и создадим отдельный ДатаФрейм\n",
    "df_purpose_group = df.groupby(['purpose_group'])['debt'].count().sort_values(ascending=False)\n",
    "data_purpose_total = pd.DataFrame(data = df_purpose_group, columns = ['debt']) \n",
    "\n",
    "#используя функцию для подсчета должников, создадим ДатаФрейм из должников с просрочкой\n",
    "data=data = [ ['жилье', purpose_debt_count(df, 'жилье', 1)], \n",
    "             ['автомобиль', purpose_debt_count(df, 'автомобиль', 1)], \n",
    "             ['образование', purpose_debt_count(df, 'образование', 1)], \n",
    "             ['свадьба', purpose_debt_count(df, 'свадьба', 1)]]\n",
    "columns = ['purpose_group', 'debt']\n",
    "data_purpose_debt = pd.DataFrame(data = data, columns=columns)\n",
    "\n",
    "#объединим полученные таблицы\n",
    "data_purpose_final = data_purpose_total.merge(data_purpose_debt, on = 'purpose_group', how = 'right')\n",
    "\n",
    "#поменяем названия столбцов\n",
    "data_purpose_final.set_axis(['purpose_group', 'total', 'debt'], axis = 'columns', inplace=True)\n",
    "\n",
    "#создадим новый столбец с подсчетом доли должников в группе\n",
    "data_purpose_final['ratio'] = (data_purpose_final['debt'] / data_purpose_final['total'])*100\n",
    "\n",
    "#отсортируем таблицу по убыванию размера доли должников\n",
    "data_purpose_final.sort_values(by='ratio', ascending=False)"
   ]
  },
  {
   "cell_type": "markdown",
   "metadata": {},
   "source": [
    "**Вывод**"
   ]
  },
  {
   "cell_type": "markdown",
   "metadata": {},
   "source": [
    "Самая популярная цель кредитования - приобретение жилья. Вполне ожидаемо, что больше всего должников будут именно из этой группы. Однако, процентное соотношение по должникам из них самое низкое. Полагаем, что это связано с тем, что решение о приобретениии жилья люди принимают более осознано, когда уверены в стабильности своего дохода. Иными словами, когда чувтсвуют, что они прочно стоят на ногах. \n",
    "\n",
    "Покупатели автомобилей менее благонадежны в этом плане, так как автомобиль чаще приобретается в подтверждение своего мнимого социального статуса, нежели просто для перемещения на расстоянии. \n",
    "\n",
    "Кредиты на образование берут студенты, у которых нет стабильного дохода, поэтому и должников среди них также весомое количество. \n",
    "\n",
    "Примечательно, что соотношение \"женатиков\" проходит практически по медиане между \"домоседами\" и \"студентами\". Можно предположить, что они представляют собой усредненный вариант между людьми, прочно стоящими на ногах, и бедными студентами, которыми нечем оплатить учебу. "
   ]
  },
  {
   "cell_type": "markdown",
   "metadata": {},
   "source": [
    "## Шаг 4. Общий вывод"
   ]
  },
  {
   "cell_type": "markdown",
   "metadata": {},
   "source": [
    "Начнем с того, что большая часть клиентов не имеют проблем с выплатами кредита. Лица, допустившие просрочку, составляют всего 8% от общего числа должников. Из этого следует, что подавляющее большинство клиентов лояльно настроены к банку и избегают появления просрочки. \n",
    "\n",
    "Мы выяснили, что доля просрочивших должников, имеющих детей, от общего числа клиентов с детьми, выше, чем аналогичная доля среди клиентов, детей не имеющих. Логично предположить, что дети - это дополнительное финансовое бремя для их родителей, нередко весьма существенное. Поэтому вполне ожидаемо, что имеющие детей клиенты могут допустить просрочку. В то же время, разница в процентном соотношении не так значительна. Исходя из этого, ответ на первый вопрос можно сформулировать так: \"Наличие детей создает некритичную вероятность появления просрочки\". \n",
    "\n",
    "По второму вопросу, изучив данные о семейном положении, мы пришли к выводу, что информация в них представлена не совсем в корректном виде. Как отличить \"неженатого клиента\" от \"клиента в разводе\" или \"клиента-вдовца\", не говоря уже о том, что действующее семейное законодательство не предусматривает такого понятия как \"гражданский брак\". По этой причине мы приняли решение разделить данные на две категории: \"Лица, состоящие в официальном браке\" и \"Лица, не состоящие в официальном браке\". Получив данные, и проанализировав их тем же методом, что и с детьми, мы установили, что доля должников с просрочкой, состоящих в браке, ниже чем должников, не состоящих в браке. Однако, опять же незначительно. Из этого мы пришли к выводу, что наличие официального брака некритично снижает вероятность появления просрочки. \n",
    "\n",
    "Для ответа на третий вопрос, мы разделили клиентов по социальным классам. Было выявлено, что менее благонадежными клиентами, являются представители предсреднего класса. Бедные, наоборот, имеют самое маленькое процентное соотношение должников, ввиду своей мотивированности. При этом даже состоятельные допускают просрочки. Из этого мы делаем вывод, что на вероятность просрочки влияет не столько уровень дохода, сколько его стабильность и организованность клиентов. \n",
    "\n",
    "По вопросу о целях кредитования, меньше всего просрочек среди клиентов, приобретающих жилье. Больше всего просрочек, среди автовладельцев. Покупка жилья - дорогое приобретение. Редко кому удается накопить на него, минуя ипотеку. Альтернатива только одна - брать жилье в аренду, при этом по своей цене данные варианты равнозначны. Поэтому брать кредит на жилье - больше вынужденная мера для многих людей, к которой они подходят осознано. Покупка автомобиля, да еще и в кредит - это статусное приобретение, которое люди совершают не всегда осознано, чем и объясняют наличие большей доли от должников. . "
   ]
  }
 ],
 "metadata": {
  "ExecuteTimeLog": [
   {
    "duration": 2867,
    "start_time": "2021-08-22T14:00:24.539Z"
   },
   {
    "duration": 76,
    "start_time": "2021-08-22T14:00:50.645Z"
   },
   {
    "duration": 70,
    "start_time": "2021-08-22T14:02:56.841Z"
   },
   {
    "duration": 71,
    "start_time": "2021-08-22T14:03:55.048Z"
   },
   {
    "duration": 98,
    "start_time": "2021-08-22T14:05:51.652Z"
   },
   {
    "duration": 73,
    "start_time": "2021-08-22T14:06:59.572Z"
   },
   {
    "duration": 70,
    "start_time": "2021-08-22T14:07:20.152Z"
   },
   {
    "duration": 76,
    "start_time": "2021-08-22T14:22:34.098Z"
   },
   {
    "duration": 335,
    "start_time": "2021-08-22T14:30:18.356Z"
   },
   {
    "duration": 88,
    "start_time": "2021-08-22T14:31:01.496Z"
   },
   {
    "duration": 86,
    "start_time": "2021-08-22T14:32:32.906Z"
   },
   {
    "duration": 119,
    "start_time": "2021-08-23T14:15:55.666Z"
   },
   {
    "duration": 372,
    "start_time": "2021-08-23T14:16:07.272Z"
   },
   {
    "duration": 1006,
    "start_time": "2021-08-23T14:16:13.261Z"
   },
   {
    "duration": 22,
    "start_time": "2021-08-23T14:16:18.794Z"
   },
   {
    "duration": 20,
    "start_time": "2021-08-23T14:16:51.378Z"
   },
   {
    "duration": 6,
    "start_time": "2021-08-23T14:18:13.288Z"
   },
   {
    "duration": 20,
    "start_time": "2021-08-23T14:18:44.349Z"
   },
   {
    "duration": 11,
    "start_time": "2021-08-23T14:19:03.514Z"
   },
   {
    "duration": 16,
    "start_time": "2021-08-23T14:20:11.638Z"
   },
   {
    "duration": 15,
    "start_time": "2021-08-23T14:20:20.442Z"
   },
   {
    "duration": 258,
    "start_time": "2021-08-23T14:21:23.909Z"
   },
   {
    "duration": 5,
    "start_time": "2021-08-23T14:21:33.153Z"
   },
   {
    "duration": 7,
    "start_time": "2021-08-23T14:39:44.456Z"
   },
   {
    "duration": 9,
    "start_time": "2021-08-23T14:41:45.874Z"
   },
   {
    "duration": 9,
    "start_time": "2021-08-23T14:43:39.474Z"
   },
   {
    "duration": 58,
    "start_time": "2021-08-23T15:03:45.483Z"
   },
   {
    "duration": 8,
    "start_time": "2021-08-23T15:46:45.631Z"
   },
   {
    "duration": 489,
    "start_time": "2021-08-23T15:48:25.567Z"
   },
   {
    "duration": 14,
    "start_time": "2021-08-23T15:48:43.345Z"
   },
   {
    "duration": 8,
    "start_time": "2021-08-23T15:49:24.291Z"
   },
   {
    "duration": 14,
    "start_time": "2021-08-23T15:49:43.265Z"
   },
   {
    "duration": 14,
    "start_time": "2021-08-23T15:49:53.993Z"
   },
   {
    "duration": 14,
    "start_time": "2021-08-23T17:33:21.102Z"
   },
   {
    "duration": 12,
    "start_time": "2021-08-23T17:33:51.883Z"
   },
   {
    "duration": 50,
    "start_time": "2021-08-23T17:41:46.854Z"
   },
   {
    "duration": 2,
    "start_time": "2021-08-23T17:41:52.257Z"
   },
   {
    "duration": 11,
    "start_time": "2021-08-23T17:46:21.135Z"
   },
   {
    "duration": 12,
    "start_time": "2021-08-23T17:47:38.931Z"
   },
   {
    "duration": 12,
    "start_time": "2021-08-23T17:49:23.111Z"
   },
   {
    "duration": 13,
    "start_time": "2021-08-23T19:48:24.857Z"
   },
   {
    "duration": 371,
    "start_time": "2021-08-24T20:19:16.424Z"
   },
   {
    "duration": 725,
    "start_time": "2021-08-24T20:19:29.535Z"
   },
   {
    "duration": 64,
    "start_time": "2021-08-24T20:19:30.262Z"
   },
   {
    "duration": 15,
    "start_time": "2021-08-24T20:19:30.329Z"
   },
   {
    "duration": 50,
    "start_time": "2021-08-24T20:19:30.347Z"
   },
   {
    "duration": 17,
    "start_time": "2021-08-24T20:19:30.400Z"
   },
   {
    "duration": 593,
    "start_time": "2021-08-24T20:19:37.253Z"
   },
   {
    "duration": 6540,
    "start_time": "2021-08-24T20:19:41.977Z"
   },
   {
    "duration": 14,
    "start_time": "2021-08-24T20:19:58.278Z"
   },
   {
    "duration": 8,
    "start_time": "2021-08-24T20:20:36.369Z"
   },
   {
    "duration": 9,
    "start_time": "2021-08-24T20:20:44.701Z"
   },
   {
    "duration": 9,
    "start_time": "2021-08-24T20:20:58.550Z"
   },
   {
    "duration": 9,
    "start_time": "2021-08-24T20:21:12.213Z"
   },
   {
    "duration": 440,
    "start_time": "2021-08-25T13:57:30.278Z"
   },
   {
    "duration": 786,
    "start_time": "2021-08-25T13:57:38.799Z"
   },
   {
    "duration": 67,
    "start_time": "2021-08-25T13:57:39.588Z"
   },
   {
    "duration": 15,
    "start_time": "2021-08-25T13:57:39.659Z"
   },
   {
    "duration": 30,
    "start_time": "2021-08-25T13:57:39.687Z"
   },
   {
    "duration": 21,
    "start_time": "2021-08-25T13:57:39.720Z"
   },
   {
    "duration": 51,
    "start_time": "2021-08-25T13:57:39.744Z"
   },
   {
    "duration": -55,
    "start_time": "2021-08-25T14:00:34.073Z"
   },
   {
    "duration": -44,
    "start_time": "2021-08-25T14:00:50.229Z"
   },
   {
    "duration": 21,
    "start_time": "2021-08-25T14:00:52.711Z"
   },
   {
    "duration": -34,
    "start_time": "2021-08-25T14:01:09.185Z"
   },
   {
    "duration": -40,
    "start_time": "2021-08-25T14:01:09.192Z"
   },
   {
    "duration": -43,
    "start_time": "2021-08-25T14:01:09.197Z"
   },
   {
    "duration": -45,
    "start_time": "2021-08-25T14:01:09.200Z"
   },
   {
    "duration": -46,
    "start_time": "2021-08-25T14:01:09.203Z"
   },
   {
    "duration": -53,
    "start_time": "2021-08-25T14:01:09.211Z"
   },
   {
    "duration": -55,
    "start_time": "2021-08-25T14:01:09.214Z"
   },
   {
    "duration": 10382,
    "start_time": "2021-08-25T14:01:20.963Z"
   },
   {
    "duration": -57,
    "start_time": "2021-08-25T14:02:02.494Z"
   },
   {
    "duration": -64,
    "start_time": "2021-08-25T14:02:02.502Z"
   },
   {
    "duration": -67,
    "start_time": "2021-08-25T14:02:02.506Z"
   },
   {
    "duration": -69,
    "start_time": "2021-08-25T14:02:02.510Z"
   },
   {
    "duration": -72,
    "start_time": "2021-08-25T14:02:02.514Z"
   },
   {
    "duration": -73,
    "start_time": "2021-08-25T14:02:02.517Z"
   },
   {
    "duration": -76,
    "start_time": "2021-08-25T14:02:02.521Z"
   },
   {
    "duration": 4,
    "start_time": "2021-08-25T14:02:05.620Z"
   },
   {
    "duration": 65,
    "start_time": "2021-08-25T14:02:08.015Z"
   },
   {
    "duration": 16,
    "start_time": "2021-08-25T14:02:08.628Z"
   },
   {
    "duration": 20,
    "start_time": "2021-08-25T14:02:09.463Z"
   },
   {
    "duration": 18,
    "start_time": "2021-08-25T14:02:12.153Z"
   },
   {
    "duration": 22,
    "start_time": "2021-08-25T14:02:17.061Z"
   },
   {
    "duration": 10324,
    "start_time": "2021-08-25T14:02:19.537Z"
   },
   {
    "duration": 7,
    "start_time": "2021-08-25T14:02:55.619Z"
   },
   {
    "duration": 7,
    "start_time": "2021-08-25T14:03:45.049Z"
   },
   {
    "duration": 7,
    "start_time": "2021-08-25T14:04:03.183Z"
   },
   {
    "duration": 9,
    "start_time": "2021-08-25T14:04:34.639Z"
   },
   {
    "duration": 7,
    "start_time": "2021-08-25T14:04:48.605Z"
   },
   {
    "duration": 8,
    "start_time": "2021-08-25T14:10:34.223Z"
   },
   {
    "duration": 26,
    "start_time": "2021-08-25T14:54:47.741Z"
   },
   {
    "duration": 33,
    "start_time": "2021-08-25T14:55:03.598Z"
   },
   {
    "duration": 20,
    "start_time": "2021-08-25T14:55:32.908Z"
   },
   {
    "duration": 3,
    "start_time": "2021-08-25T15:06:03.417Z"
   },
   {
    "duration": 3,
    "start_time": "2021-08-25T15:09:35.693Z"
   },
   {
    "duration": 346,
    "start_time": "2021-08-26T07:54:53.156Z"
   },
   {
    "duration": 847,
    "start_time": "2021-08-26T07:54:59.847Z"
   },
   {
    "duration": 71,
    "start_time": "2021-08-26T07:55:00.697Z"
   },
   {
    "duration": 14,
    "start_time": "2021-08-26T07:55:00.771Z"
   },
   {
    "duration": 27,
    "start_time": "2021-08-26T07:55:00.788Z"
   },
   {
    "duration": 51,
    "start_time": "2021-08-26T07:55:00.818Z"
   },
   {
    "duration": 29,
    "start_time": "2021-08-26T07:55:00.871Z"
   },
   {
    "duration": 19,
    "start_time": "2021-08-26T07:55:00.903Z"
   },
   {
    "duration": 19,
    "start_time": "2021-08-26T07:55:00.925Z"
   },
   {
    "duration": 16,
    "start_time": "2021-08-26T07:55:00.946Z"
   },
   {
    "duration": 29,
    "start_time": "2021-08-26T07:55:40.794Z"
   },
   {
    "duration": 7,
    "start_time": "2021-08-26T07:57:10.890Z"
   },
   {
    "duration": 26,
    "start_time": "2021-08-26T07:57:17.946Z"
   },
   {
    "duration": 17,
    "start_time": "2021-08-26T07:57:32.470Z"
   },
   {
    "duration": 26,
    "start_time": "2021-08-26T07:57:44.500Z"
   },
   {
    "duration": 37,
    "start_time": "2021-08-26T07:58:29.996Z"
   },
   {
    "duration": 6,
    "start_time": "2021-08-26T10:17:38.901Z"
   },
   {
    "duration": 12,
    "start_time": "2021-08-26T10:17:56.608Z"
   },
   {
    "duration": 12,
    "start_time": "2021-08-26T10:18:14.681Z"
   },
   {
    "duration": 13,
    "start_time": "2021-08-26T10:18:26.999Z"
   },
   {
    "duration": 13,
    "start_time": "2021-08-26T10:18:41.345Z"
   },
   {
    "duration": 7,
    "start_time": "2021-08-26T10:25:22.758Z"
   },
   {
    "duration": 7,
    "start_time": "2021-08-26T10:25:37.159Z"
   },
   {
    "duration": 7,
    "start_time": "2021-08-26T10:57:10.212Z"
   },
   {
    "duration": 6,
    "start_time": "2021-08-26T10:57:32.293Z"
   },
   {
    "duration": 6,
    "start_time": "2021-08-26T10:58:17.799Z"
   },
   {
    "duration": 7,
    "start_time": "2021-08-26T10:58:26.436Z"
   },
   {
    "duration": 6,
    "start_time": "2021-08-26T10:59:26.547Z"
   },
   {
    "duration": 7,
    "start_time": "2021-08-26T11:01:06.166Z"
   },
   {
    "duration": 7,
    "start_time": "2021-08-26T11:04:01.971Z"
   },
   {
    "duration": 7,
    "start_time": "2021-08-26T11:04:04.893Z"
   },
   {
    "duration": 17,
    "start_time": "2021-08-26T11:04:29.615Z"
   },
   {
    "duration": 17,
    "start_time": "2021-08-26T11:05:18.269Z"
   },
   {
    "duration": 332,
    "start_time": "2021-08-26T11:05:45.516Z"
   },
   {
    "duration": 96,
    "start_time": "2021-08-26T11:05:54.868Z"
   },
   {
    "duration": 9,
    "start_time": "2021-08-26T11:06:28.330Z"
   },
   {
    "duration": 10,
    "start_time": "2021-08-26T11:06:31.139Z"
   },
   {
    "duration": 24,
    "start_time": "2021-08-26T11:06:37.840Z"
   },
   {
    "duration": 14,
    "start_time": "2021-08-26T11:06:56.370Z"
   },
   {
    "duration": 29,
    "start_time": "2021-08-26T11:07:31.005Z"
   },
   {
    "duration": 4,
    "start_time": "2021-08-26T11:08:06.819Z"
   },
   {
    "duration": 72,
    "start_time": "2021-08-26T11:08:06.825Z"
   },
   {
    "duration": 15,
    "start_time": "2021-08-26T11:08:06.900Z"
   },
   {
    "duration": 18,
    "start_time": "2021-08-26T11:08:06.917Z"
   },
   {
    "duration": 42,
    "start_time": "2021-08-26T11:08:06.938Z"
   },
   {
    "duration": 37,
    "start_time": "2021-08-26T11:08:06.982Z"
   },
   {
    "duration": 14,
    "start_time": "2021-08-26T11:08:07.021Z"
   },
   {
    "duration": 33,
    "start_time": "2021-08-26T11:08:07.038Z"
   },
   {
    "duration": 6,
    "start_time": "2021-08-26T11:08:07.074Z"
   },
   {
    "duration": 19,
    "start_time": "2021-08-26T11:08:07.082Z"
   },
   {
    "duration": 12,
    "start_time": "2021-08-26T11:08:07.103Z"
   },
   {
    "duration": 10,
    "start_time": "2021-08-26T11:08:43.109Z"
   },
   {
    "duration": 18,
    "start_time": "2021-08-26T11:08:45.876Z"
   },
   {
    "duration": 4,
    "start_time": "2021-08-26T11:09:23.820Z"
   },
   {
    "duration": 322,
    "start_time": "2021-08-26T11:09:25.026Z"
   },
   {
    "duration": 277,
    "start_time": "2021-08-26T11:09:49.041Z"
   },
   {
    "duration": 5,
    "start_time": "2021-08-26T11:10:04.751Z"
   },
   {
    "duration": 5,
    "start_time": "2021-08-26T11:10:10.570Z"
   },
   {
    "duration": 287,
    "start_time": "2021-08-26T11:10:12.386Z"
   },
   {
    "duration": 18,
    "start_time": "2021-08-26T11:10:27.361Z"
   },
   {
    "duration": 19,
    "start_time": "2021-08-26T11:10:31.664Z"
   },
   {
    "duration": 18,
    "start_time": "2021-08-26T11:10:35.378Z"
   },
   {
    "duration": 5,
    "start_time": "2021-08-26T11:10:38.784Z"
   },
   {
    "duration": 313,
    "start_time": "2021-08-26T11:10:39.856Z"
   },
   {
    "duration": 8,
    "start_time": "2021-08-26T11:10:44.134Z"
   },
   {
    "duration": 8,
    "start_time": "2021-08-26T11:11:16.306Z"
   },
   {
    "duration": 34,
    "start_time": "2021-08-26T11:11:29.830Z"
   },
   {
    "duration": 6,
    "start_time": "2021-08-26T11:12:11.754Z"
   },
   {
    "duration": 13,
    "start_time": "2021-08-26T11:12:15.589Z"
   },
   {
    "duration": 17,
    "start_time": "2021-08-26T11:12:29.707Z"
   },
   {
    "duration": 34,
    "start_time": "2021-08-26T11:14:04.073Z"
   },
   {
    "duration": 19,
    "start_time": "2021-08-26T11:14:38.720Z"
   },
   {
    "duration": 18,
    "start_time": "2021-08-26T11:14:44.530Z"
   },
   {
    "duration": 33,
    "start_time": "2021-08-26T11:15:02.986Z"
   },
   {
    "duration": 35,
    "start_time": "2021-08-26T11:15:27.870Z"
   },
   {
    "duration": 20,
    "start_time": "2021-08-26T11:15:40.215Z"
   },
   {
    "duration": 20,
    "start_time": "2021-08-26T11:17:51.506Z"
   },
   {
    "duration": 8,
    "start_time": "2021-08-26T11:18:47.682Z"
   },
   {
    "duration": 19,
    "start_time": "2021-08-26T11:20:38.402Z"
   },
   {
    "duration": 610,
    "start_time": "2021-08-26T11:22:31.387Z"
   },
   {
    "duration": 6,
    "start_time": "2021-08-26T11:22:48.983Z"
   },
   {
    "duration": 14,
    "start_time": "2021-08-26T11:24:43.219Z"
   },
   {
    "duration": 11,
    "start_time": "2021-08-26T11:26:53.920Z"
   },
   {
    "duration": 18,
    "start_time": "2021-08-26T11:27:05.981Z"
   },
   {
    "duration": 7,
    "start_time": "2021-08-26T11:30:41.456Z"
   },
   {
    "duration": 308,
    "start_time": "2021-08-26T11:31:38.355Z"
   },
   {
    "duration": 5,
    "start_time": "2021-08-26T11:31:44.957Z"
   },
   {
    "duration": 7,
    "start_time": "2021-08-26T11:31:46.936Z"
   },
   {
    "duration": 5,
    "start_time": "2021-08-26T11:31:48.130Z"
   },
   {
    "duration": 15,
    "start_time": "2021-08-26T11:31:55.873Z"
   },
   {
    "duration": 14,
    "start_time": "2021-08-26T11:32:13.243Z"
   },
   {
    "duration": 3,
    "start_time": "2021-08-26T11:32:36.197Z"
   },
   {
    "duration": 72,
    "start_time": "2021-08-26T11:32:36.203Z"
   },
   {
    "duration": 15,
    "start_time": "2021-08-26T11:32:36.278Z"
   },
   {
    "duration": 19,
    "start_time": "2021-08-26T11:32:36.296Z"
   },
   {
    "duration": 24,
    "start_time": "2021-08-26T11:32:36.317Z"
   },
   {
    "duration": 21,
    "start_time": "2021-08-26T11:32:36.368Z"
   },
   {
    "duration": 10,
    "start_time": "2021-08-26T11:32:36.392Z"
   },
   {
    "duration": 6,
    "start_time": "2021-08-26T11:32:36.406Z"
   },
   {
    "duration": 53,
    "start_time": "2021-08-26T11:32:36.415Z"
   },
   {
    "duration": 6,
    "start_time": "2021-08-26T11:32:36.472Z"
   },
   {
    "duration": 18,
    "start_time": "2021-08-26T11:32:36.481Z"
   },
   {
    "duration": 5,
    "start_time": "2021-08-26T11:34:56.020Z"
   },
   {
    "duration": 15,
    "start_time": "2021-08-26T11:35:07.939Z"
   },
   {
    "duration": 88,
    "start_time": "2021-08-26T11:42:22.023Z"
   },
   {
    "duration": 106,
    "start_time": "2021-08-26T11:42:42.670Z"
   },
   {
    "duration": 100,
    "start_time": "2021-08-26T11:42:56.450Z"
   },
   {
    "duration": 93,
    "start_time": "2021-08-26T11:43:05.125Z"
   },
   {
    "duration": 99,
    "start_time": "2021-08-26T11:43:31.051Z"
   },
   {
    "duration": 313,
    "start_time": "2021-08-26T11:44:43.633Z"
   },
   {
    "duration": 14,
    "start_time": "2021-08-26T11:44:52.888Z"
   },
   {
    "duration": 17,
    "start_time": "2021-08-26T15:09:42.942Z"
   },
   {
    "duration": 18,
    "start_time": "2021-08-26T15:09:45.592Z"
   },
   {
    "duration": 3,
    "start_time": "2021-08-26T15:09:50.728Z"
   },
   {
    "duration": 91,
    "start_time": "2021-08-26T15:09:50.734Z"
   },
   {
    "duration": 16,
    "start_time": "2021-08-26T15:09:50.829Z"
   },
   {
    "duration": 32,
    "start_time": "2021-08-26T15:09:50.848Z"
   },
   {
    "duration": 35,
    "start_time": "2021-08-26T15:09:50.882Z"
   },
   {
    "duration": 31,
    "start_time": "2021-08-26T15:09:50.920Z"
   },
   {
    "duration": 17,
    "start_time": "2021-08-26T15:09:50.953Z"
   },
   {
    "duration": 6,
    "start_time": "2021-08-26T15:09:50.974Z"
   },
   {
    "duration": 9,
    "start_time": "2021-08-26T15:09:50.983Z"
   },
   {
    "duration": 5,
    "start_time": "2021-08-26T15:09:50.995Z"
   },
   {
    "duration": 7,
    "start_time": "2021-08-26T15:09:51.003Z"
   },
   {
    "duration": 64,
    "start_time": "2021-08-26T15:09:51.013Z"
   },
   {
    "duration": 14,
    "start_time": "2021-08-26T15:10:38.233Z"
   },
   {
    "duration": 13,
    "start_time": "2021-08-26T15:10:40.754Z"
   },
   {
    "duration": 4,
    "start_time": "2021-08-26T15:10:45.403Z"
   },
   {
    "duration": 72,
    "start_time": "2021-08-26T15:10:45.409Z"
   },
   {
    "duration": 14,
    "start_time": "2021-08-26T15:10:45.484Z"
   },
   {
    "duration": 19,
    "start_time": "2021-08-26T15:10:45.501Z"
   },
   {
    "duration": 52,
    "start_time": "2021-08-26T15:10:45.522Z"
   },
   {
    "duration": 27,
    "start_time": "2021-08-26T15:10:45.576Z"
   },
   {
    "duration": 7,
    "start_time": "2021-08-26T15:10:45.605Z"
   },
   {
    "duration": 4,
    "start_time": "2021-08-26T15:10:45.616Z"
   },
   {
    "duration": 49,
    "start_time": "2021-08-26T15:10:45.623Z"
   },
   {
    "duration": 5,
    "start_time": "2021-08-26T15:10:45.674Z"
   },
   {
    "duration": 6,
    "start_time": "2021-08-26T15:10:45.681Z"
   },
   {
    "duration": 24,
    "start_time": "2021-08-26T15:10:45.690Z"
   },
   {
    "duration": 13,
    "start_time": "2021-08-26T15:34:48.210Z"
   },
   {
    "duration": 4,
    "start_time": "2021-08-26T15:34:52.526Z"
   },
   {
    "duration": 1063,
    "start_time": "2021-08-26T15:34:52.532Z"
   },
   {
    "duration": 14,
    "start_time": "2021-08-26T15:34:53.598Z"
   },
   {
    "duration": 23,
    "start_time": "2021-08-26T15:34:53.615Z"
   },
   {
    "duration": 38,
    "start_time": "2021-08-26T15:34:53.641Z"
   },
   {
    "duration": 34,
    "start_time": "2021-08-26T15:34:53.682Z"
   },
   {
    "duration": 7,
    "start_time": "2021-08-26T15:34:53.719Z"
   },
   {
    "duration": 11,
    "start_time": "2021-08-26T15:34:53.729Z"
   },
   {
    "duration": 25,
    "start_time": "2021-08-26T15:34:53.743Z"
   },
   {
    "duration": 5,
    "start_time": "2021-08-26T15:34:53.770Z"
   },
   {
    "duration": 7,
    "start_time": "2021-08-26T15:34:53.777Z"
   },
   {
    "duration": 24,
    "start_time": "2021-08-26T15:34:53.786Z"
   },
   {
    "duration": 12,
    "start_time": "2021-08-26T15:36:43.931Z"
   },
   {
    "duration": 7,
    "start_time": "2021-08-26T15:36:45.592Z"
   },
   {
    "duration": 19,
    "start_time": "2021-08-26T15:36:50.495Z"
   },
   {
    "duration": 12,
    "start_time": "2021-08-26T15:36:54.471Z"
   },
   {
    "duration": 4,
    "start_time": "2021-08-26T15:36:59.796Z"
   },
   {
    "duration": 72,
    "start_time": "2021-08-26T15:36:59.802Z"
   },
   {
    "duration": 14,
    "start_time": "2021-08-26T15:36:59.877Z"
   },
   {
    "duration": 18,
    "start_time": "2021-08-26T15:36:59.894Z"
   },
   {
    "duration": 26,
    "start_time": "2021-08-26T15:36:59.914Z"
   },
   {
    "duration": 21,
    "start_time": "2021-08-26T15:36:59.968Z"
   },
   {
    "duration": 8,
    "start_time": "2021-08-26T15:36:59.992Z"
   },
   {
    "duration": 8,
    "start_time": "2021-08-26T15:37:00.002Z"
   },
   {
    "duration": 19,
    "start_time": "2021-08-26T15:37:00.013Z"
   },
   {
    "duration": 36,
    "start_time": "2021-08-26T15:37:00.034Z"
   },
   {
    "duration": 24,
    "start_time": "2021-08-26T15:37:00.072Z"
   },
   {
    "duration": 25,
    "start_time": "2021-08-26T15:37:00.098Z"
   },
   {
    "duration": 16,
    "start_time": "2021-08-26T15:50:55.926Z"
   },
   {
    "duration": 17,
    "start_time": "2021-08-26T15:51:10.564Z"
   },
   {
    "duration": 18,
    "start_time": "2021-08-26T15:51:56.619Z"
   },
   {
    "duration": 15,
    "start_time": "2021-08-26T15:52:13.208Z"
   },
   {
    "duration": 16,
    "start_time": "2021-08-26T15:52:38.375Z"
   },
   {
    "duration": 27,
    "start_time": "2021-08-26T15:53:25.260Z"
   },
   {
    "duration": 19,
    "start_time": "2021-08-26T15:54:19.950Z"
   },
   {
    "duration": 13,
    "start_time": "2021-08-26T15:54:31.860Z"
   },
   {
    "duration": 8,
    "start_time": "2021-08-26T15:54:32.900Z"
   },
   {
    "duration": 6,
    "start_time": "2021-08-26T15:54:58.669Z"
   },
   {
    "duration": 10,
    "start_time": "2021-08-26T15:55:11.830Z"
   },
   {
    "duration": 3,
    "start_time": "2021-08-26T19:19:23.009Z"
   },
   {
    "duration": 68,
    "start_time": "2021-08-26T19:19:23.015Z"
   },
   {
    "duration": 15,
    "start_time": "2021-08-26T19:19:23.086Z"
   },
   {
    "duration": 19,
    "start_time": "2021-08-26T19:19:23.104Z"
   },
   {
    "duration": 53,
    "start_time": "2021-08-26T19:19:23.125Z"
   },
   {
    "duration": 6,
    "start_time": "2021-08-26T19:19:23.181Z"
   },
   {
    "duration": 8,
    "start_time": "2021-08-26T19:19:23.190Z"
   },
   {
    "duration": 5,
    "start_time": "2021-08-26T19:19:23.201Z"
   },
   {
    "duration": 11,
    "start_time": "2021-08-26T19:19:23.208Z"
   },
   {
    "duration": 5,
    "start_time": "2021-08-26T19:19:23.221Z"
   },
   {
    "duration": 10,
    "start_time": "2021-08-26T19:19:23.267Z"
   },
   {
    "duration": 18,
    "start_time": "2021-08-26T19:19:23.280Z"
   },
   {
    "duration": 11,
    "start_time": "2021-08-26T19:20:19.250Z"
   },
   {
    "duration": 4,
    "start_time": "2021-08-26T19:20:29.527Z"
   },
   {
    "duration": 67,
    "start_time": "2021-08-26T19:20:29.535Z"
   },
   {
    "duration": 17,
    "start_time": "2021-08-26T19:20:29.605Z"
   },
   {
    "duration": 42,
    "start_time": "2021-08-26T19:20:29.625Z"
   },
   {
    "duration": 18,
    "start_time": "2021-08-26T19:20:29.670Z"
   },
   {
    "duration": 8,
    "start_time": "2021-08-26T19:20:29.690Z"
   },
   {
    "duration": 17,
    "start_time": "2021-08-26T19:20:29.702Z"
   },
   {
    "duration": 10,
    "start_time": "2021-08-26T19:20:29.723Z"
   },
   {
    "duration": 7,
    "start_time": "2021-08-26T19:20:29.768Z"
   },
   {
    "duration": 9,
    "start_time": "2021-08-26T19:20:29.778Z"
   },
   {
    "duration": 10,
    "start_time": "2021-08-26T19:20:29.790Z"
   },
   {
    "duration": 13,
    "start_time": "2021-08-26T19:20:29.803Z"
   },
   {
    "duration": 53,
    "start_time": "2021-08-26T19:20:29.819Z"
   },
   {
    "duration": 36,
    "start_time": "2021-08-26T19:20:43.696Z"
   },
   {
    "duration": 36,
    "start_time": "2021-08-26T19:22:24.960Z"
   },
   {
    "duration": 9,
    "start_time": "2021-08-26T19:23:58.941Z"
   },
   {
    "duration": 6,
    "start_time": "2021-08-26T19:24:34.789Z"
   },
   {
    "duration": 9,
    "start_time": "2021-08-26T19:24:35.310Z"
   },
   {
    "duration": 98,
    "start_time": "2021-08-26T19:24:52.394Z"
   },
   {
    "duration": 4,
    "start_time": "2021-08-26T19:25:01.690Z"
   },
   {
    "duration": 3700,
    "start_time": "2021-08-26T19:25:02.927Z"
   },
   {
    "duration": 3613,
    "start_time": "2021-08-26T19:25:07.091Z"
   },
   {
    "duration": 5,
    "start_time": "2021-08-26T19:25:25.263Z"
   },
   {
    "duration": 8,
    "start_time": "2021-08-26T19:25:29.105Z"
   },
   {
    "duration": 12,
    "start_time": "2021-08-26T19:26:28.941Z"
   },
   {
    "duration": 5,
    "start_time": "2021-08-26T19:27:10.201Z"
   },
   {
    "duration": 12,
    "start_time": "2021-08-26T19:27:10.727Z"
   },
   {
    "duration": 11,
    "start_time": "2021-08-26T19:27:29.976Z"
   },
   {
    "duration": 8,
    "start_time": "2021-08-26T19:28:18.643Z"
   },
   {
    "duration": 8,
    "start_time": "2021-08-26T19:28:24.004Z"
   },
   {
    "duration": 3,
    "start_time": "2021-08-26T19:28:28.159Z"
   },
   {
    "duration": 2614,
    "start_time": "2021-08-26T19:28:28.166Z"
   },
   {
    "duration": 15,
    "start_time": "2021-08-26T19:28:30.783Z"
   },
   {
    "duration": 35,
    "start_time": "2021-08-26T19:28:30.801Z"
   },
   {
    "duration": 39,
    "start_time": "2021-08-26T19:28:30.839Z"
   },
   {
    "duration": 48,
    "start_time": "2021-08-26T19:28:30.881Z"
   },
   {
    "duration": 9,
    "start_time": "2021-08-26T19:28:30.932Z"
   },
   {
    "duration": 23,
    "start_time": "2021-08-26T19:28:30.944Z"
   },
   {
    "duration": 26,
    "start_time": "2021-08-26T19:28:30.970Z"
   },
   {
    "duration": 28,
    "start_time": "2021-08-26T19:28:30.998Z"
   },
   {
    "duration": 17,
    "start_time": "2021-08-26T19:28:31.029Z"
   },
   {
    "duration": 31,
    "start_time": "2021-08-26T19:28:31.048Z"
   },
   {
    "duration": 12,
    "start_time": "2021-08-26T19:30:27.273Z"
   },
   {
    "duration": 3,
    "start_time": "2021-08-26T19:30:32.437Z"
   },
   {
    "duration": 68,
    "start_time": "2021-08-26T19:30:32.443Z"
   },
   {
    "duration": 13,
    "start_time": "2021-08-26T19:30:32.514Z"
   },
   {
    "duration": 18,
    "start_time": "2021-08-26T19:30:32.530Z"
   },
   {
    "duration": 19,
    "start_time": "2021-08-26T19:30:32.567Z"
   },
   {
    "duration": 12,
    "start_time": "2021-08-26T19:30:32.588Z"
   },
   {
    "duration": 49,
    "start_time": "2021-08-26T19:30:32.603Z"
   },
   {
    "duration": 10,
    "start_time": "2021-08-26T19:30:32.668Z"
   },
   {
    "duration": 6,
    "start_time": "2021-08-26T19:30:32.682Z"
   },
   {
    "duration": 15,
    "start_time": "2021-08-26T19:30:32.691Z"
   },
   {
    "duration": 9,
    "start_time": "2021-08-26T19:30:32.708Z"
   },
   {
    "duration": 17,
    "start_time": "2021-08-26T19:30:32.719Z"
   },
   {
    "duration": 43,
    "start_time": "2021-08-26T19:30:32.738Z"
   },
   {
    "duration": 232,
    "start_time": "2021-08-26T19:32:47.546Z"
   },
   {
    "duration": 9,
    "start_time": "2021-08-26T19:33:14.162Z"
   },
   {
    "duration": 11,
    "start_time": "2021-08-26T19:33:56.552Z"
   },
   {
    "duration": 3,
    "start_time": "2021-08-26T19:34:00.868Z"
   },
   {
    "duration": 289,
    "start_time": "2021-08-26T19:34:00.874Z"
   },
   {
    "duration": 14,
    "start_time": "2021-08-26T19:34:01.166Z"
   },
   {
    "duration": 18,
    "start_time": "2021-08-26T19:34:01.183Z"
   },
   {
    "duration": 20,
    "start_time": "2021-08-26T19:34:01.203Z"
   },
   {
    "duration": 62,
    "start_time": "2021-08-26T19:34:01.226Z"
   },
   {
    "duration": 8,
    "start_time": "2021-08-26T19:34:01.290Z"
   },
   {
    "duration": 12,
    "start_time": "2021-08-26T19:34:01.300Z"
   },
   {
    "duration": 10,
    "start_time": "2021-08-26T19:34:01.316Z"
   },
   {
    "duration": 18,
    "start_time": "2021-08-26T19:34:01.328Z"
   },
   {
    "duration": 31,
    "start_time": "2021-08-26T19:34:01.348Z"
   },
   {
    "duration": 26,
    "start_time": "2021-08-26T19:34:01.381Z"
   },
   {
    "duration": 3,
    "start_time": "2021-08-26T19:34:13.707Z"
   },
   {
    "duration": 63,
    "start_time": "2021-08-26T19:34:13.715Z"
   },
   {
    "duration": 14,
    "start_time": "2021-08-26T19:34:13.780Z"
   },
   {
    "duration": 17,
    "start_time": "2021-08-26T19:34:13.797Z"
   },
   {
    "duration": 18,
    "start_time": "2021-08-26T19:34:13.817Z"
   },
   {
    "duration": 20,
    "start_time": "2021-08-26T19:34:13.867Z"
   },
   {
    "duration": 7,
    "start_time": "2021-08-26T19:34:13.890Z"
   },
   {
    "duration": 13,
    "start_time": "2021-08-26T19:34:13.899Z"
   },
   {
    "duration": 6,
    "start_time": "2021-08-26T19:34:13.916Z"
   },
   {
    "duration": 5,
    "start_time": "2021-08-26T19:34:13.925Z"
   },
   {
    "duration": 41,
    "start_time": "2021-08-26T19:34:13.932Z"
   },
   {
    "duration": 15,
    "start_time": "2021-08-26T19:34:13.976Z"
   },
   {
    "duration": 9,
    "start_time": "2021-08-26T19:55:32.722Z"
   },
   {
    "duration": 8,
    "start_time": "2021-08-26T19:57:04.146Z"
   },
   {
    "duration": 10,
    "start_time": "2021-08-26T19:58:28.052Z"
   },
   {
    "duration": 10,
    "start_time": "2021-08-26T20:03:28.188Z"
   },
   {
    "duration": 10,
    "start_time": "2021-08-26T20:03:57.606Z"
   },
   {
    "duration": 18,
    "start_time": "2021-08-26T20:09:05.596Z"
   },
   {
    "duration": 13,
    "start_time": "2021-08-26T20:15:03.580Z"
   },
   {
    "duration": 7,
    "start_time": "2021-08-26T20:15:56.985Z"
   },
   {
    "duration": 5049,
    "start_time": "2021-08-26T20:54:02.053Z"
   },
   {
    "duration": 5,
    "start_time": "2021-08-26T20:54:44.435Z"
   },
   {
    "duration": 25,
    "start_time": "2021-08-26T20:54:56.545Z"
   },
   {
    "duration": 18,
    "start_time": "2021-08-26T20:58:14.376Z"
   },
   {
    "duration": 333,
    "start_time": "2021-08-27T08:31:00.114Z"
   },
   {
    "duration": 774,
    "start_time": "2021-08-27T08:31:08.362Z"
   },
   {
    "duration": 74,
    "start_time": "2021-08-27T08:31:09.139Z"
   },
   {
    "duration": 18,
    "start_time": "2021-08-27T08:31:09.216Z"
   },
   {
    "duration": 44,
    "start_time": "2021-08-27T08:31:09.237Z"
   },
   {
    "duration": 27,
    "start_time": "2021-08-27T08:31:09.283Z"
   },
   {
    "duration": 30,
    "start_time": "2021-08-27T08:31:09.312Z"
   },
   {
    "duration": 27,
    "start_time": "2021-08-27T08:31:09.344Z"
   },
   {
    "duration": 5,
    "start_time": "2021-08-27T08:31:09.375Z"
   },
   {
    "duration": 18,
    "start_time": "2021-08-27T08:31:09.383Z"
   },
   {
    "duration": 13,
    "start_time": "2021-08-27T08:31:09.403Z"
   },
   {
    "duration": 13,
    "start_time": "2021-08-27T08:31:09.418Z"
   },
   {
    "duration": 21,
    "start_time": "2021-08-27T08:31:09.433Z"
   },
   {
    "duration": 8,
    "start_time": "2021-08-27T08:31:09.467Z"
   },
   {
    "duration": 11,
    "start_time": "2021-08-27T08:31:09.477Z"
   },
   {
    "duration": 8,
    "start_time": "2021-08-27T08:31:09.491Z"
   },
   {
    "duration": 18,
    "start_time": "2021-08-27T08:31:09.502Z"
   },
   {
    "duration": 44,
    "start_time": "2021-08-27T08:31:09.523Z"
   },
   {
    "duration": 10,
    "start_time": "2021-08-27T08:31:09.570Z"
   },
   {
    "duration": 31,
    "start_time": "2021-08-27T08:31:09.582Z"
   },
   {
    "duration": 13,
    "start_time": "2021-08-27T08:31:09.616Z"
   },
   {
    "duration": 13,
    "start_time": "2021-08-27T08:31:09.632Z"
   },
   {
    "duration": 5,
    "start_time": "2021-08-27T08:31:09.668Z"
   },
   {
    "duration": 18,
    "start_time": "2021-08-27T08:31:09.677Z"
   },
   {
    "duration": 6,
    "start_time": "2021-08-27T08:31:30.717Z"
   },
   {
    "duration": 14,
    "start_time": "2021-08-27T08:34:49.037Z"
   },
   {
    "duration": 3,
    "start_time": "2021-08-27T08:35:05.185Z"
   },
   {
    "duration": 71,
    "start_time": "2021-08-27T08:35:05.194Z"
   },
   {
    "duration": 14,
    "start_time": "2021-08-27T08:35:05.267Z"
   },
   {
    "duration": 17,
    "start_time": "2021-08-27T08:35:05.284Z"
   },
   {
    "duration": 18,
    "start_time": "2021-08-27T08:35:05.303Z"
   },
   {
    "duration": 57,
    "start_time": "2021-08-27T08:35:05.324Z"
   },
   {
    "duration": 14,
    "start_time": "2021-08-27T08:35:05.384Z"
   },
   {
    "duration": 11,
    "start_time": "2021-08-27T08:35:05.401Z"
   },
   {
    "duration": 25,
    "start_time": "2021-08-27T08:35:05.417Z"
   },
   {
    "duration": 23,
    "start_time": "2021-08-27T08:35:05.445Z"
   },
   {
    "duration": 9,
    "start_time": "2021-08-27T08:35:05.470Z"
   },
   {
    "duration": 28,
    "start_time": "2021-08-27T08:35:05.482Z"
   },
   {
    "duration": 12,
    "start_time": "2021-08-27T08:35:05.513Z"
   },
   {
    "duration": 19,
    "start_time": "2021-08-27T08:35:05.528Z"
   },
   {
    "duration": 23,
    "start_time": "2021-08-27T08:35:05.549Z"
   },
   {
    "duration": 19,
    "start_time": "2021-08-27T08:35:05.575Z"
   },
   {
    "duration": 21,
    "start_time": "2021-08-27T08:35:05.596Z"
   },
   {
    "duration": 20,
    "start_time": "2021-08-27T08:35:05.619Z"
   },
   {
    "duration": 34,
    "start_time": "2021-08-27T08:35:05.642Z"
   },
   {
    "duration": 23,
    "start_time": "2021-08-27T08:35:05.679Z"
   },
   {
    "duration": 13,
    "start_time": "2021-08-27T08:35:05.705Z"
   },
   {
    "duration": 8,
    "start_time": "2021-08-27T08:35:05.720Z"
   },
   {
    "duration": 40,
    "start_time": "2021-08-27T08:35:05.730Z"
   },
   {
    "duration": 27,
    "start_time": "2021-08-27T08:35:05.774Z"
   },
   {
    "duration": 12,
    "start_time": "2021-08-27T08:35:14.397Z"
   },
   {
    "duration": 7562,
    "start_time": "2021-08-27T08:36:18.658Z"
   },
   {
    "duration": 13,
    "start_time": "2021-08-27T08:36:40.810Z"
   },
   {
    "duration": 6,
    "start_time": "2021-08-27T08:43:00.812Z"
   },
   {
    "duration": 23,
    "start_time": "2021-08-27T08:43:01.793Z"
   },
   {
    "duration": 137,
    "start_time": "2021-08-27T08:50:20.046Z"
   },
   {
    "duration": 11,
    "start_time": "2021-08-27T08:50:28.547Z"
   },
   {
    "duration": 10,
    "start_time": "2021-08-27T08:51:04.707Z"
   },
   {
    "duration": 16,
    "start_time": "2021-08-27T08:51:14.954Z"
   },
   {
    "duration": 253,
    "start_time": "2021-08-27T09:03:20.383Z"
   },
   {
    "duration": 12,
    "start_time": "2021-08-27T09:03:49.901Z"
   },
   {
    "duration": 11,
    "start_time": "2021-08-27T09:04:34.680Z"
   },
   {
    "duration": 4,
    "start_time": "2021-08-27T11:32:40.379Z"
   },
   {
    "duration": 78,
    "start_time": "2021-08-27T11:32:40.385Z"
   },
   {
    "duration": 13,
    "start_time": "2021-08-27T11:32:40.466Z"
   },
   {
    "duration": 22,
    "start_time": "2021-08-27T11:32:40.482Z"
   },
   {
    "duration": 25,
    "start_time": "2021-08-27T11:32:40.506Z"
   },
   {
    "duration": 39,
    "start_time": "2021-08-27T11:32:40.534Z"
   },
   {
    "duration": 7,
    "start_time": "2021-08-27T11:32:40.575Z"
   },
   {
    "duration": 5,
    "start_time": "2021-08-27T11:32:40.585Z"
   },
   {
    "duration": 7,
    "start_time": "2021-08-27T11:32:40.594Z"
   },
   {
    "duration": 10,
    "start_time": "2021-08-27T11:32:40.605Z"
   },
   {
    "duration": 52,
    "start_time": "2021-08-27T11:32:40.617Z"
   },
   {
    "duration": 16,
    "start_time": "2021-08-27T11:32:40.672Z"
   },
   {
    "duration": 7,
    "start_time": "2021-08-27T11:32:40.691Z"
   },
   {
    "duration": 8,
    "start_time": "2021-08-27T11:32:40.701Z"
   },
   {
    "duration": 6,
    "start_time": "2021-08-27T11:32:40.712Z"
   },
   {
    "duration": 11,
    "start_time": "2021-08-27T11:32:40.768Z"
   },
   {
    "duration": 11,
    "start_time": "2021-08-27T11:32:40.781Z"
   },
   {
    "duration": 12,
    "start_time": "2021-08-27T11:32:40.795Z"
   },
   {
    "duration": 10,
    "start_time": "2021-08-27T11:32:40.809Z"
   },
   {
    "duration": 59,
    "start_time": "2021-08-27T11:32:40.821Z"
   },
   {
    "duration": 12,
    "start_time": "2021-08-27T11:32:40.882Z"
   },
   {
    "duration": 10,
    "start_time": "2021-08-27T11:32:40.896Z"
   },
   {
    "duration": 6,
    "start_time": "2021-08-27T11:32:40.909Z"
   },
   {
    "duration": 49,
    "start_time": "2021-08-27T11:32:40.918Z"
   },
   {
    "duration": 14,
    "start_time": "2021-08-27T11:32:40.970Z"
   },
   {
    "duration": 11,
    "start_time": "2021-08-27T11:32:40.986Z"
   },
   {
    "duration": 16,
    "start_time": "2021-08-27T11:32:41.002Z"
   },
   {
    "duration": 302,
    "start_time": "2021-08-27T13:08:02.167Z"
   },
   {
    "duration": 22,
    "start_time": "2021-08-27T13:08:11.350Z"
   },
   {
    "duration": 6408,
    "start_time": "2021-08-27T13:08:50.058Z"
   },
   {
    "duration": 4,
    "start_time": "2021-08-27T13:09:25.868Z"
   },
   {
    "duration": 66,
    "start_time": "2021-08-27T13:09:25.874Z"
   },
   {
    "duration": 30,
    "start_time": "2021-08-27T13:09:25.943Z"
   },
   {
    "duration": 18,
    "start_time": "2021-08-27T13:09:25.976Z"
   },
   {
    "duration": 18,
    "start_time": "2021-08-27T13:09:25.996Z"
   },
   {
    "duration": 20,
    "start_time": "2021-08-27T13:09:26.016Z"
   },
   {
    "duration": 8,
    "start_time": "2021-08-27T13:09:26.068Z"
   },
   {
    "duration": 15,
    "start_time": "2021-08-27T13:09:26.080Z"
   },
   {
    "duration": 12,
    "start_time": "2021-08-27T13:09:26.098Z"
   },
   {
    "duration": 11,
    "start_time": "2021-08-27T13:09:26.112Z"
   },
   {
    "duration": 4,
    "start_time": "2021-08-27T13:09:26.126Z"
   },
   {
    "duration": 47,
    "start_time": "2021-08-27T13:09:26.132Z"
   },
   {
    "duration": 8,
    "start_time": "2021-08-27T13:09:26.181Z"
   },
   {
    "duration": 8,
    "start_time": "2021-08-27T13:09:26.192Z"
   },
   {
    "duration": 7,
    "start_time": "2021-08-27T13:09:26.203Z"
   },
   {
    "duration": 11,
    "start_time": "2021-08-27T13:09:26.212Z"
   },
   {
    "duration": 10,
    "start_time": "2021-08-27T13:09:26.268Z"
   },
   {
    "duration": 11,
    "start_time": "2021-08-27T13:09:26.280Z"
   },
   {
    "duration": 14,
    "start_time": "2021-08-27T13:09:26.293Z"
   },
   {
    "duration": 19,
    "start_time": "2021-08-27T13:09:26.309Z"
   },
   {
    "duration": 44,
    "start_time": "2021-08-27T13:09:26.331Z"
   },
   {
    "duration": 13,
    "start_time": "2021-08-27T13:09:26.378Z"
   },
   {
    "duration": 5,
    "start_time": "2021-08-27T13:09:26.395Z"
   },
   {
    "duration": 5,
    "start_time": "2021-08-27T13:09:26.403Z"
   },
   {
    "duration": 60,
    "start_time": "2021-08-27T13:09:26.411Z"
   },
   {
    "duration": 9,
    "start_time": "2021-08-27T13:09:26.474Z"
   },
   {
    "duration": 17,
    "start_time": "2021-08-27T13:09:26.485Z"
   },
   {
    "duration": 531,
    "start_time": "2021-08-27T13:09:32.924Z"
   },
   {
    "duration": 7460,
    "start_time": "2021-08-27T13:22:27.940Z"
   },
   {
    "duration": 4,
    "start_time": "2021-08-27T13:22:43.396Z"
   },
   {
    "duration": 66,
    "start_time": "2021-08-27T13:22:43.403Z"
   },
   {
    "duration": 13,
    "start_time": "2021-08-27T13:22:43.472Z"
   },
   {
    "duration": 19,
    "start_time": "2021-08-27T13:22:43.488Z"
   },
   {
    "duration": 17,
    "start_time": "2021-08-27T13:22:43.509Z"
   },
   {
    "duration": 52,
    "start_time": "2021-08-27T13:22:43.528Z"
   },
   {
    "duration": 7,
    "start_time": "2021-08-27T13:22:43.582Z"
   },
   {
    "duration": 6,
    "start_time": "2021-08-27T13:22:43.593Z"
   },
   {
    "duration": 9,
    "start_time": "2021-08-27T13:22:43.602Z"
   },
   {
    "duration": 10,
    "start_time": "2021-08-27T13:22:43.614Z"
   },
   {
    "duration": 6,
    "start_time": "2021-08-27T13:22:43.666Z"
   },
   {
    "duration": 29,
    "start_time": "2021-08-27T13:22:43.674Z"
   },
   {
    "duration": 8,
    "start_time": "2021-08-27T13:22:43.705Z"
   },
   {
    "duration": 15,
    "start_time": "2021-08-27T13:22:43.715Z"
   },
   {
    "duration": 9,
    "start_time": "2021-08-27T13:22:43.732Z"
   },
   {
    "duration": 10,
    "start_time": "2021-08-27T13:22:43.767Z"
   },
   {
    "duration": 11,
    "start_time": "2021-08-27T13:22:43.779Z"
   },
   {
    "duration": 11,
    "start_time": "2021-08-27T13:22:43.792Z"
   },
   {
    "duration": 12,
    "start_time": "2021-08-27T13:22:43.805Z"
   },
   {
    "duration": 49,
    "start_time": "2021-08-27T13:22:43.819Z"
   },
   {
    "duration": 11,
    "start_time": "2021-08-27T13:22:43.871Z"
   },
   {
    "duration": 8,
    "start_time": "2021-08-27T13:22:43.885Z"
   },
   {
    "duration": 5,
    "start_time": "2021-08-27T13:22:43.897Z"
   },
   {
    "duration": 6,
    "start_time": "2021-08-27T13:22:43.904Z"
   },
   {
    "duration": 55,
    "start_time": "2021-08-27T13:22:43.912Z"
   },
   {
    "duration": 9,
    "start_time": "2021-08-27T13:22:43.970Z"
   },
   {
    "duration": 17,
    "start_time": "2021-08-27T13:22:43.981Z"
   },
   {
    "duration": 527,
    "start_time": "2021-08-27T13:22:50.455Z"
   },
   {
    "duration": 308,
    "start_time": "2021-08-27T13:28:24.759Z"
   },
   {
    "duration": 286,
    "start_time": "2021-08-27T13:28:55.779Z"
   },
   {
    "duration": 4,
    "start_time": "2021-08-27T13:29:10.022Z"
   },
   {
    "duration": 80,
    "start_time": "2021-08-27T13:29:10.029Z"
   },
   {
    "duration": 15,
    "start_time": "2021-08-27T13:29:10.112Z"
   },
   {
    "duration": 39,
    "start_time": "2021-08-27T13:29:10.130Z"
   },
   {
    "duration": 19,
    "start_time": "2021-08-27T13:29:10.171Z"
   },
   {
    "duration": 21,
    "start_time": "2021-08-27T13:29:10.192Z"
   },
   {
    "duration": 7,
    "start_time": "2021-08-27T13:29:10.216Z"
   },
   {
    "duration": 42,
    "start_time": "2021-08-27T13:29:10.227Z"
   },
   {
    "duration": 9,
    "start_time": "2021-08-27T13:29:10.272Z"
   },
   {
    "duration": 12,
    "start_time": "2021-08-27T13:29:10.284Z"
   },
   {
    "duration": 4,
    "start_time": "2021-08-27T13:29:10.298Z"
   },
   {
    "duration": 17,
    "start_time": "2021-08-27T13:29:10.304Z"
   },
   {
    "duration": 48,
    "start_time": "2021-08-27T13:29:10.325Z"
   },
   {
    "duration": 11,
    "start_time": "2021-08-27T13:29:10.376Z"
   },
   {
    "duration": 8,
    "start_time": "2021-08-27T13:29:10.390Z"
   },
   {
    "duration": 12,
    "start_time": "2021-08-27T13:29:10.402Z"
   },
   {
    "duration": 58,
    "start_time": "2021-08-27T13:29:10.417Z"
   },
   {
    "duration": 12,
    "start_time": "2021-08-27T13:29:10.478Z"
   },
   {
    "duration": 12,
    "start_time": "2021-08-27T13:29:10.493Z"
   },
   {
    "duration": 59,
    "start_time": "2021-08-27T13:29:10.508Z"
   },
   {
    "duration": 12,
    "start_time": "2021-08-27T13:29:10.570Z"
   },
   {
    "duration": 12,
    "start_time": "2021-08-27T13:29:10.584Z"
   },
   {
    "duration": 5,
    "start_time": "2021-08-27T13:29:10.602Z"
   },
   {
    "duration": 8,
    "start_time": "2021-08-27T13:29:10.611Z"
   },
   {
    "duration": 56,
    "start_time": "2021-08-27T13:29:10.621Z"
   },
   {
    "duration": 10,
    "start_time": "2021-08-27T13:29:10.679Z"
   },
   {
    "duration": 17,
    "start_time": "2021-08-27T13:29:10.692Z"
   },
   {
    "duration": 293,
    "start_time": "2021-08-27T13:29:10.711Z"
   },
   {
    "duration": 539,
    "start_time": "2021-08-27T13:29:10.467Z"
   },
   {
    "duration": 17,
    "start_time": "2021-08-27T13:29:37.497Z"
   },
   {
    "duration": 12,
    "start_time": "2021-08-27T13:30:14.820Z"
   },
   {
    "duration": 25,
    "start_time": "2021-08-27T13:31:52.843Z"
   },
   {
    "duration": 24,
    "start_time": "2021-08-27T13:32:42.121Z"
   },
   {
    "duration": 22,
    "start_time": "2021-08-27T13:32:51.234Z"
   },
   {
    "duration": 330,
    "start_time": "2021-08-27T13:34:05.308Z"
   },
   {
    "duration": 50,
    "start_time": "2021-08-27T13:34:18.341Z"
   },
   {
    "duration": 23,
    "start_time": "2021-08-27T13:35:23.858Z"
   },
   {
    "duration": 4,
    "start_time": "2021-08-27T13:35:36.276Z"
   },
   {
    "duration": 65,
    "start_time": "2021-08-27T13:35:36.282Z"
   },
   {
    "duration": 29,
    "start_time": "2021-08-27T13:35:36.350Z"
   },
   {
    "duration": 16,
    "start_time": "2021-08-27T13:35:36.382Z"
   },
   {
    "duration": 18,
    "start_time": "2021-08-27T13:35:36.401Z"
   },
   {
    "duration": 52,
    "start_time": "2021-08-27T13:35:36.421Z"
   },
   {
    "duration": 7,
    "start_time": "2021-08-27T13:35:36.475Z"
   },
   {
    "duration": 5,
    "start_time": "2021-08-27T13:35:36.485Z"
   },
   {
    "duration": 6,
    "start_time": "2021-08-27T13:35:36.495Z"
   },
   {
    "duration": 10,
    "start_time": "2021-08-27T13:35:36.504Z"
   },
   {
    "duration": 5,
    "start_time": "2021-08-27T13:35:36.517Z"
   },
   {
    "duration": 15,
    "start_time": "2021-08-27T13:35:36.568Z"
   },
   {
    "duration": 7,
    "start_time": "2021-08-27T13:35:36.586Z"
   },
   {
    "duration": 9,
    "start_time": "2021-08-27T13:35:36.595Z"
   },
   {
    "duration": 6,
    "start_time": "2021-08-27T13:35:36.606Z"
   },
   {
    "duration": 55,
    "start_time": "2021-08-27T13:35:36.615Z"
   },
   {
    "duration": 10,
    "start_time": "2021-08-27T13:35:36.672Z"
   },
   {
    "duration": 12,
    "start_time": "2021-08-27T13:35:36.684Z"
   },
   {
    "duration": 11,
    "start_time": "2021-08-27T13:35:36.698Z"
   },
   {
    "duration": 22,
    "start_time": "2021-08-27T13:35:36.711Z"
   },
   {
    "duration": 9,
    "start_time": "2021-08-27T13:35:36.768Z"
   },
   {
    "duration": 9,
    "start_time": "2021-08-27T13:35:36.779Z"
   },
   {
    "duration": 5,
    "start_time": "2021-08-27T13:35:36.790Z"
   },
   {
    "duration": 6,
    "start_time": "2021-08-27T13:35:36.797Z"
   },
   {
    "duration": 13,
    "start_time": "2021-08-27T13:35:36.806Z"
   },
   {
    "duration": 50,
    "start_time": "2021-08-27T13:35:36.821Z"
   },
   {
    "duration": 17,
    "start_time": "2021-08-27T13:35:36.877Z"
   },
   {
    "duration": 18,
    "start_time": "2021-08-27T13:35:36.898Z"
   },
   {
    "duration": 50,
    "start_time": "2021-08-27T13:35:36.918Z"
   },
   {
    "duration": 25,
    "start_time": "2021-08-27T13:35:36.971Z"
   },
   {
    "duration": 68,
    "start_time": "2021-08-27T13:35:36.998Z"
   },
   {
    "duration": 22,
    "start_time": "2021-08-27T13:35:37.069Z"
   },
   {
    "duration": 26,
    "start_time": "2021-08-27T13:36:10.950Z"
   },
   {
    "duration": 27,
    "start_time": "2021-08-27T13:36:14.163Z"
   },
   {
    "duration": 418,
    "start_time": "2021-08-28T13:36:49.049Z"
   },
   {
    "duration": 696,
    "start_time": "2021-08-28T13:36:54.863Z"
   },
   {
    "duration": 63,
    "start_time": "2021-08-28T13:36:55.561Z"
   },
   {
    "duration": 21,
    "start_time": "2021-08-28T13:36:55.629Z"
   },
   {
    "duration": 43,
    "start_time": "2021-08-28T13:36:55.653Z"
   },
   {
    "duration": 12,
    "start_time": "2021-08-28T13:36:55.699Z"
   },
   {
    "duration": 20,
    "start_time": "2021-08-28T13:36:55.714Z"
   },
   {
    "duration": 8,
    "start_time": "2021-08-28T13:36:55.736Z"
   },
   {
    "duration": 12,
    "start_time": "2021-08-28T13:36:55.747Z"
   },
   {
    "duration": 8,
    "start_time": "2021-08-28T13:36:55.786Z"
   },
   {
    "duration": 9,
    "start_time": "2021-08-28T13:36:55.796Z"
   },
   {
    "duration": 5,
    "start_time": "2021-08-28T13:36:55.807Z"
   },
   {
    "duration": 15,
    "start_time": "2021-08-28T13:36:55.814Z"
   },
   {
    "duration": 8,
    "start_time": "2021-08-28T13:36:55.831Z"
   },
   {
    "duration": 44,
    "start_time": "2021-08-28T13:36:55.841Z"
   },
   {
    "duration": 9,
    "start_time": "2021-08-28T13:36:55.888Z"
   },
   {
    "duration": 15,
    "start_time": "2021-08-28T13:36:55.899Z"
   },
   {
    "duration": 10,
    "start_time": "2021-08-28T13:36:55.916Z"
   },
   {
    "duration": 8,
    "start_time": "2021-08-28T13:36:55.928Z"
   },
   {
    "duration": 40,
    "start_time": "2021-08-28T13:36:55.938Z"
   },
   {
    "duration": 26,
    "start_time": "2021-08-28T13:36:55.983Z"
   },
   {
    "duration": 13,
    "start_time": "2021-08-28T13:36:56.012Z"
   },
   {
    "duration": 11,
    "start_time": "2021-08-28T13:36:56.028Z"
   },
   {
    "duration": 40,
    "start_time": "2021-08-28T13:36:56.045Z"
   },
   {
    "duration": 6,
    "start_time": "2021-08-28T13:36:56.088Z"
   },
   {
    "duration": 16,
    "start_time": "2021-08-28T13:36:56.096Z"
   },
   {
    "duration": 8,
    "start_time": "2021-08-28T13:36:56.114Z"
   },
   {
    "duration": 21,
    "start_time": "2021-08-28T13:36:56.123Z"
   },
   {
    "duration": 32,
    "start_time": "2021-08-28T13:36:56.145Z"
   },
   {
    "duration": 14,
    "start_time": "2021-08-28T13:36:56.178Z"
   },
   {
    "duration": 25,
    "start_time": "2021-08-28T13:36:56.195Z"
   },
   {
    "duration": 21,
    "start_time": "2021-08-28T13:36:56.222Z"
   },
   {
    "duration": 44,
    "start_time": "2021-08-28T13:36:56.245Z"
   },
   {
    "duration": 459,
    "start_time": "2021-08-28T13:37:02.812Z"
   },
   {
    "duration": 233,
    "start_time": "2021-08-28T13:37:24.580Z"
   },
   {
    "duration": 7282,
    "start_time": "2021-08-28T13:38:01.308Z"
   },
   {
    "duration": 3,
    "start_time": "2021-08-28T13:43:24.615Z"
   },
   {
    "duration": 7,
    "start_time": "2021-08-28T13:44:37.711Z"
   },
   {
    "duration": 6,
    "start_time": "2021-08-28T13:46:34.490Z"
   },
   {
    "duration": 6,
    "start_time": "2021-08-28T13:46:37.579Z"
   },
   {
    "duration": 336,
    "start_time": "2021-08-28T13:46:51.632Z"
   },
   {
    "duration": 6,
    "start_time": "2021-08-28T13:46:59.428Z"
   },
   {
    "duration": 347,
    "start_time": "2021-08-28T13:48:04.884Z"
   },
   {
    "duration": 382,
    "start_time": "2021-08-28T13:48:33.992Z"
   },
   {
    "duration": 375,
    "start_time": "2021-08-28T13:48:46.269Z"
   },
   {
    "duration": 3,
    "start_time": "2021-08-28T13:48:57.450Z"
   },
   {
    "duration": 338,
    "start_time": "2021-08-28T13:48:58.360Z"
   },
   {
    "duration": 3,
    "start_time": "2021-08-28T13:49:02.857Z"
   },
   {
    "duration": 64,
    "start_time": "2021-08-28T13:49:02.864Z"
   },
   {
    "duration": 12,
    "start_time": "2021-08-28T13:49:02.930Z"
   },
   {
    "duration": 40,
    "start_time": "2021-08-28T13:49:02.945Z"
   },
   {
    "duration": 20,
    "start_time": "2021-08-28T13:49:02.988Z"
   },
   {
    "duration": 28,
    "start_time": "2021-08-28T13:49:03.011Z"
   },
   {
    "duration": 7,
    "start_time": "2021-08-28T13:49:03.041Z"
   },
   {
    "duration": 6,
    "start_time": "2021-08-28T13:49:03.051Z"
   },
   {
    "duration": 7,
    "start_time": "2021-08-28T13:49:03.076Z"
   },
   {
    "duration": 16,
    "start_time": "2021-08-28T13:49:03.087Z"
   },
   {
    "duration": 4,
    "start_time": "2021-08-28T13:49:03.105Z"
   },
   {
    "duration": 27,
    "start_time": "2021-08-28T13:49:03.111Z"
   },
   {
    "duration": 11,
    "start_time": "2021-08-28T13:49:03.140Z"
   },
   {
    "duration": 17,
    "start_time": "2021-08-28T13:49:03.153Z"
   },
   {
    "duration": 11,
    "start_time": "2021-08-28T13:49:03.178Z"
   },
   {
    "duration": 16,
    "start_time": "2021-08-28T13:49:03.191Z"
   },
   {
    "duration": 22,
    "start_time": "2021-08-28T13:49:03.209Z"
   },
   {
    "duration": 14,
    "start_time": "2021-08-28T13:49:03.233Z"
   },
   {
    "duration": 13,
    "start_time": "2021-08-28T13:49:03.249Z"
   },
   {
    "duration": 32,
    "start_time": "2021-08-28T13:49:03.264Z"
   },
   {
    "duration": 12,
    "start_time": "2021-08-28T13:49:03.298Z"
   },
   {
    "duration": 8,
    "start_time": "2021-08-28T13:49:03.311Z"
   },
   {
    "duration": 4,
    "start_time": "2021-08-28T13:49:03.321Z"
   },
   {
    "duration": 4,
    "start_time": "2021-08-28T13:49:03.328Z"
   },
   {
    "duration": 46,
    "start_time": "2021-08-28T13:49:03.334Z"
   },
   {
    "duration": 10,
    "start_time": "2021-08-28T13:49:03.382Z"
   },
   {
    "duration": 14,
    "start_time": "2021-08-28T13:49:03.393Z"
   },
   {
    "duration": 14,
    "start_time": "2021-08-28T13:49:03.410Z"
   },
   {
    "duration": 17,
    "start_time": "2021-08-28T13:49:03.426Z"
   },
   {
    "duration": 48,
    "start_time": "2021-08-28T13:49:03.445Z"
   },
   {
    "duration": 33,
    "start_time": "2021-08-28T13:49:03.496Z"
   },
   {
    "duration": 29,
    "start_time": "2021-08-28T13:49:03.532Z"
   },
   {
    "duration": 4,
    "start_time": "2021-08-28T13:49:03.579Z"
   },
   {
    "duration": 8,
    "start_time": "2021-08-28T13:49:03.585Z"
   },
   {
    "duration": 401,
    "start_time": "2021-08-28T13:49:03.596Z"
   },
   {
    "duration": 400,
    "start_time": "2021-08-28T13:56:57.208Z"
   },
   {
    "duration": 4715,
    "start_time": "2021-08-28T13:57:07.737Z"
   },
   {
    "duration": 5,
    "start_time": "2021-08-28T13:58:41.271Z"
   },
   {
    "duration": 74,
    "start_time": "2021-08-28T13:58:41.278Z"
   },
   {
    "duration": 36,
    "start_time": "2021-08-28T13:58:41.354Z"
   },
   {
    "duration": 13,
    "start_time": "2021-08-28T13:58:41.393Z"
   },
   {
    "duration": 15,
    "start_time": "2021-08-28T13:58:41.408Z"
   },
   {
    "duration": 17,
    "start_time": "2021-08-28T13:58:41.426Z"
   },
   {
    "duration": 39,
    "start_time": "2021-08-28T13:58:41.446Z"
   },
   {
    "duration": 10,
    "start_time": "2021-08-28T13:58:41.487Z"
   },
   {
    "duration": 8,
    "start_time": "2021-08-28T13:58:41.502Z"
   },
   {
    "duration": 9,
    "start_time": "2021-08-28T13:58:41.512Z"
   },
   {
    "duration": 4,
    "start_time": "2021-08-28T13:58:41.524Z"
   },
   {
    "duration": 17,
    "start_time": "2021-08-28T13:58:41.530Z"
   },
   {
    "duration": 9,
    "start_time": "2021-08-28T13:58:41.586Z"
   },
   {
    "duration": 12,
    "start_time": "2021-08-28T13:58:41.598Z"
   },
   {
    "duration": 6,
    "start_time": "2021-08-28T13:58:41.612Z"
   },
   {
    "duration": 8,
    "start_time": "2021-08-28T13:58:41.620Z"
   },
   {
    "duration": 12,
    "start_time": "2021-08-28T13:58:41.630Z"
   },
   {
    "duration": 45,
    "start_time": "2021-08-28T13:58:41.644Z"
   },
   {
    "duration": 9,
    "start_time": "2021-08-28T13:58:41.696Z"
   },
   {
    "duration": 16,
    "start_time": "2021-08-28T13:58:41.707Z"
   },
   {
    "duration": 13,
    "start_time": "2021-08-28T13:58:41.725Z"
   },
   {
    "duration": 10,
    "start_time": "2021-08-28T13:58:41.741Z"
   },
   {
    "duration": 39,
    "start_time": "2021-08-28T13:58:41.754Z"
   },
   {
    "duration": 7,
    "start_time": "2021-08-28T13:58:41.797Z"
   },
   {
    "duration": 11,
    "start_time": "2021-08-28T13:58:41.806Z"
   },
   {
    "duration": 9,
    "start_time": "2021-08-28T13:58:41.820Z"
   },
   {
    "duration": 13,
    "start_time": "2021-08-28T13:58:41.832Z"
   },
   {
    "duration": 50,
    "start_time": "2021-08-28T13:58:41.848Z"
   },
   {
    "duration": 23,
    "start_time": "2021-08-28T13:58:41.900Z"
   },
   {
    "duration": 31,
    "start_time": "2021-08-28T13:58:41.925Z"
   },
   {
    "duration": 26,
    "start_time": "2021-08-28T13:58:41.957Z"
   },
   {
    "duration": 21,
    "start_time": "2021-08-28T13:58:41.985Z"
   },
   {
    "duration": 4746,
    "start_time": "2021-08-28T13:58:42.008Z"
   },
   {
    "duration": 6948,
    "start_time": "2021-08-28T14:03:23.508Z"
   },
   {
    "duration": 3,
    "start_time": "2021-08-28T14:03:38.453Z"
   },
   {
    "duration": 66,
    "start_time": "2021-08-28T14:03:38.458Z"
   },
   {
    "duration": 13,
    "start_time": "2021-08-28T14:03:38.527Z"
   },
   {
    "duration": 47,
    "start_time": "2021-08-28T14:03:38.542Z"
   },
   {
    "duration": 23,
    "start_time": "2021-08-28T14:03:38.592Z"
   },
   {
    "duration": 23,
    "start_time": "2021-08-28T14:03:38.619Z"
   },
   {
    "duration": 10,
    "start_time": "2021-08-28T14:03:38.644Z"
   },
   {
    "duration": 32,
    "start_time": "2021-08-28T14:03:38.656Z"
   },
   {
    "duration": 7,
    "start_time": "2021-08-28T14:03:38.692Z"
   },
   {
    "duration": 9,
    "start_time": "2021-08-28T14:03:38.702Z"
   },
   {
    "duration": 5,
    "start_time": "2021-08-28T14:03:38.714Z"
   },
   {
    "duration": 22,
    "start_time": "2021-08-28T14:03:38.721Z"
   },
   {
    "duration": 51,
    "start_time": "2021-08-28T14:03:38.745Z"
   },
   {
    "duration": 8,
    "start_time": "2021-08-28T14:03:38.798Z"
   },
   {
    "duration": 6,
    "start_time": "2021-08-28T14:03:38.808Z"
   },
   {
    "duration": 9,
    "start_time": "2021-08-28T14:03:38.816Z"
   },
   {
    "duration": 11,
    "start_time": "2021-08-28T14:03:38.827Z"
   },
   {
    "duration": 12,
    "start_time": "2021-08-28T14:03:38.840Z"
   },
   {
    "duration": 11,
    "start_time": "2021-08-28T14:03:38.880Z"
   },
   {
    "duration": 18,
    "start_time": "2021-08-28T14:03:38.894Z"
   },
   {
    "duration": 11,
    "start_time": "2021-08-28T14:03:38.914Z"
   },
   {
    "duration": 9,
    "start_time": "2021-08-28T14:03:38.927Z"
   },
   {
    "duration": 40,
    "start_time": "2021-08-28T14:03:38.939Z"
   },
   {
    "duration": 7,
    "start_time": "2021-08-28T14:03:38.981Z"
   },
   {
    "duration": 13,
    "start_time": "2021-08-28T14:03:38.990Z"
   },
   {
    "duration": 10,
    "start_time": "2021-08-28T14:03:39.005Z"
   },
   {
    "duration": 12,
    "start_time": "2021-08-28T14:03:39.020Z"
   },
   {
    "duration": 43,
    "start_time": "2021-08-28T14:03:39.034Z"
   },
   {
    "duration": 12,
    "start_time": "2021-08-28T14:03:39.079Z"
   },
   {
    "duration": 25,
    "start_time": "2021-08-28T14:03:39.093Z"
   },
   {
    "duration": 21,
    "start_time": "2021-08-28T14:03:39.120Z"
   },
   {
    "duration": 55,
    "start_time": "2021-08-28T14:03:39.142Z"
   },
   {
    "duration": 47,
    "start_time": "2021-08-28T14:03:39.199Z"
   },
   {
    "duration": 6691,
    "start_time": "2021-08-28T14:03:39.248Z"
   },
   {
    "duration": 7,
    "start_time": "2021-08-28T14:03:57.026Z"
   },
   {
    "duration": 379,
    "start_time": "2021-08-28T14:16:22.885Z"
   },
   {
    "duration": 390,
    "start_time": "2021-08-28T14:16:47.806Z"
   },
   {
    "duration": 6,
    "start_time": "2021-08-28T14:16:56.154Z"
   },
   {
    "duration": 4,
    "start_time": "2021-08-28T14:17:08.260Z"
   },
   {
    "duration": 464,
    "start_time": "2021-08-28T14:17:24.999Z"
   },
   {
    "duration": 800,
    "start_time": "2021-08-28T14:18:39.440Z"
   },
   {
    "duration": 5,
    "start_time": "2021-08-28T16:18:33.734Z"
   },
   {
    "duration": 3,
    "start_time": "2021-08-28T17:29:06.255Z"
   },
   {
    "duration": 56,
    "start_time": "2021-08-28T17:29:06.259Z"
   },
   {
    "duration": 16,
    "start_time": "2021-08-28T17:29:06.317Z"
   },
   {
    "duration": 11,
    "start_time": "2021-08-28T17:29:06.335Z"
   },
   {
    "duration": 37,
    "start_time": "2021-08-28T17:29:06.347Z"
   },
   {
    "duration": 18,
    "start_time": "2021-08-28T17:29:06.386Z"
   },
   {
    "duration": 5,
    "start_time": "2021-08-28T17:29:06.406Z"
   },
   {
    "duration": 4,
    "start_time": "2021-08-28T17:29:06.414Z"
   },
   {
    "duration": 5,
    "start_time": "2021-08-28T17:29:06.420Z"
   },
   {
    "duration": 7,
    "start_time": "2021-08-28T17:29:06.427Z"
   },
   {
    "duration": 6,
    "start_time": "2021-08-28T17:29:06.435Z"
   },
   {
    "duration": 43,
    "start_time": "2021-08-28T17:29:06.442Z"
   },
   {
    "duration": 5,
    "start_time": "2021-08-28T17:29:06.487Z"
   },
   {
    "duration": 6,
    "start_time": "2021-08-28T17:29:06.494Z"
   },
   {
    "duration": 5,
    "start_time": "2021-08-28T17:29:06.501Z"
   },
   {
    "duration": 11,
    "start_time": "2021-08-28T17:29:06.508Z"
   },
   {
    "duration": 10,
    "start_time": "2021-08-28T17:29:06.520Z"
   },
   {
    "duration": 9,
    "start_time": "2021-08-28T17:29:06.532Z"
   },
   {
    "duration": 38,
    "start_time": "2021-08-28T17:29:06.542Z"
   },
   {
    "duration": 16,
    "start_time": "2021-08-28T17:29:06.581Z"
   },
   {
    "duration": 8,
    "start_time": "2021-08-28T17:29:06.599Z"
   },
   {
    "duration": 8,
    "start_time": "2021-08-28T17:29:06.608Z"
   },
   {
    "duration": 6,
    "start_time": "2021-08-28T17:29:06.618Z"
   },
   {
    "duration": 4,
    "start_time": "2021-08-28T17:29:06.625Z"
   },
   {
    "duration": 8,
    "start_time": "2021-08-28T17:29:06.631Z"
   },
   {
    "duration": 6,
    "start_time": "2021-08-28T17:29:06.641Z"
   },
   {
    "duration": 37,
    "start_time": "2021-08-28T17:29:06.649Z"
   },
   {
    "duration": 12,
    "start_time": "2021-08-28T17:29:06.688Z"
   },
   {
    "duration": 12,
    "start_time": "2021-08-28T17:29:06.701Z"
   },
   {
    "duration": 22,
    "start_time": "2021-08-28T17:29:06.715Z"
   },
   {
    "duration": 37,
    "start_time": "2021-08-28T17:29:06.739Z"
   },
   {
    "duration": 16,
    "start_time": "2021-08-28T17:29:06.778Z"
   },
   {
    "duration": 21,
    "start_time": "2021-08-28T17:29:06.796Z"
   },
   {
    "duration": 784,
    "start_time": "2021-08-28T17:29:06.819Z"
   },
   {
    "duration": 343,
    "start_time": "2021-08-28T17:44:14.039Z"
   },
   {
    "duration": 349,
    "start_time": "2021-08-28T17:44:33.410Z"
   },
   {
    "duration": 127,
    "start_time": "2021-08-28T17:47:25.780Z"
   },
   {
    "duration": 3,
    "start_time": "2021-08-28T17:47:58.019Z"
   },
   {
    "duration": 2928,
    "start_time": "2021-08-28T17:50:35.107Z"
   },
   {
    "duration": 12,
    "start_time": "2021-08-28T17:50:55.809Z"
   },
   {
    "duration": 11,
    "start_time": "2021-08-28T17:51:17.384Z"
   },
   {
    "duration": 361,
    "start_time": "2021-08-28T18:01:04.293Z"
   },
   {
    "duration": 3,
    "start_time": "2021-08-28T18:01:15.820Z"
   },
   {
    "duration": 2794,
    "start_time": "2021-08-28T18:01:16.428Z"
   },
   {
    "duration": 14,
    "start_time": "2021-08-28T18:01:34.961Z"
   },
   {
    "duration": 2355,
    "start_time": "2021-08-28T18:02:02.883Z"
   },
   {
    "duration": 462,
    "start_time": "2021-08-28T18:02:04.778Z"
   },
   {
    "duration": 459,
    "start_time": "2021-08-28T18:02:04.783Z"
   },
   {
    "duration": 3,
    "start_time": "2021-08-28T18:02:05.540Z"
   },
   {
    "duration": 3055,
    "start_time": "2021-08-28T18:02:06.048Z"
   },
   {
    "duration": 13,
    "start_time": "2021-08-28T18:02:09.105Z"
   },
   {
    "duration": 2,
    "start_time": "2021-08-28T18:03:34.677Z"
   },
   {
    "duration": 54,
    "start_time": "2021-08-28T18:03:34.681Z"
   },
   {
    "duration": 11,
    "start_time": "2021-08-28T18:03:34.737Z"
   },
   {
    "duration": 29,
    "start_time": "2021-08-28T18:03:34.749Z"
   },
   {
    "duration": 13,
    "start_time": "2021-08-28T18:03:34.779Z"
   },
   {
    "duration": 14,
    "start_time": "2021-08-28T18:03:34.794Z"
   },
   {
    "duration": 5,
    "start_time": "2021-08-28T18:03:34.809Z"
   },
   {
    "duration": 4,
    "start_time": "2021-08-28T18:03:34.816Z"
   },
   {
    "duration": 6,
    "start_time": "2021-08-28T18:03:34.822Z"
   },
   {
    "duration": 6,
    "start_time": "2021-08-28T18:03:34.830Z"
   },
   {
    "duration": 39,
    "start_time": "2021-08-28T18:03:34.838Z"
   },
   {
    "duration": 11,
    "start_time": "2021-08-28T18:03:34.878Z"
   },
   {
    "duration": 5,
    "start_time": "2021-08-28T18:03:34.891Z"
   },
   {
    "duration": 11,
    "start_time": "2021-08-28T18:03:34.898Z"
   },
   {
    "duration": 7,
    "start_time": "2021-08-28T18:03:34.911Z"
   },
   {
    "duration": 11,
    "start_time": "2021-08-28T18:03:34.920Z"
   },
   {
    "duration": 10,
    "start_time": "2021-08-28T18:03:34.933Z"
   },
   {
    "duration": 12,
    "start_time": "2021-08-28T18:03:34.945Z"
   },
   {
    "duration": 24,
    "start_time": "2021-08-28T18:03:34.959Z"
   },
   {
    "duration": 13,
    "start_time": "2021-08-28T18:03:34.984Z"
   },
   {
    "duration": 12,
    "start_time": "2021-08-28T18:03:34.999Z"
   },
   {
    "duration": 8,
    "start_time": "2021-08-28T18:03:35.013Z"
   },
   {
    "duration": 5,
    "start_time": "2021-08-28T18:03:35.024Z"
   },
   {
    "duration": 9,
    "start_time": "2021-08-28T18:03:35.031Z"
   },
   {
    "duration": 11,
    "start_time": "2021-08-28T18:03:35.041Z"
   },
   {
    "duration": 28,
    "start_time": "2021-08-28T18:03:35.053Z"
   },
   {
    "duration": 26,
    "start_time": "2021-08-28T18:03:35.083Z"
   },
   {
    "duration": 18,
    "start_time": "2021-08-28T18:03:35.110Z"
   },
   {
    "duration": 13,
    "start_time": "2021-08-28T18:03:35.129Z"
   },
   {
    "duration": 21,
    "start_time": "2021-08-28T18:03:35.143Z"
   },
   {
    "duration": 23,
    "start_time": "2021-08-28T18:03:35.165Z"
   },
   {
    "duration": 15,
    "start_time": "2021-08-28T18:03:35.189Z"
   },
   {
    "duration": 26,
    "start_time": "2021-08-28T18:03:35.206Z"
   },
   {
    "duration": 4,
    "start_time": "2021-08-28T18:03:35.234Z"
   },
   {
    "duration": 6,
    "start_time": "2021-08-28T18:03:35.239Z"
   },
   {
    "duration": 3716,
    "start_time": "2021-08-28T18:03:35.246Z"
   },
   {
    "duration": 21,
    "start_time": "2021-08-28T18:03:38.964Z"
   },
   {
    "duration": 417,
    "start_time": "2021-08-29T14:55:34.020Z"
   },
   {
    "duration": 771,
    "start_time": "2021-08-29T14:55:38.388Z"
   },
   {
    "duration": 67,
    "start_time": "2021-08-29T14:55:39.162Z"
   },
   {
    "duration": 16,
    "start_time": "2021-08-29T14:55:39.232Z"
   },
   {
    "duration": 27,
    "start_time": "2021-08-29T14:55:39.257Z"
   },
   {
    "duration": 23,
    "start_time": "2021-08-29T14:55:39.286Z"
   },
   {
    "duration": 48,
    "start_time": "2021-08-29T14:55:39.311Z"
   },
   {
    "duration": 7,
    "start_time": "2021-08-29T14:55:39.361Z"
   },
   {
    "duration": 4,
    "start_time": "2021-08-29T14:55:39.371Z"
   },
   {
    "duration": 7,
    "start_time": "2021-08-29T14:55:39.379Z"
   },
   {
    "duration": 18,
    "start_time": "2021-08-29T14:55:39.389Z"
   },
   {
    "duration": 5,
    "start_time": "2021-08-29T14:55:39.410Z"
   },
   {
    "duration": 52,
    "start_time": "2021-08-29T14:55:39.417Z"
   },
   {
    "duration": 8,
    "start_time": "2021-08-29T14:55:39.471Z"
   },
   {
    "duration": 14,
    "start_time": "2021-08-29T14:55:39.481Z"
   },
   {
    "duration": 10,
    "start_time": "2021-08-29T14:55:39.497Z"
   },
   {
    "duration": 48,
    "start_time": "2021-08-29T14:55:39.509Z"
   },
   {
    "duration": 9,
    "start_time": "2021-08-29T14:55:39.559Z"
   },
   {
    "duration": 13,
    "start_time": "2021-08-29T14:55:39.570Z"
   },
   {
    "duration": 11,
    "start_time": "2021-08-29T14:55:39.585Z"
   },
   {
    "duration": 22,
    "start_time": "2021-08-29T14:55:39.598Z"
   },
   {
    "duration": 12,
    "start_time": "2021-08-29T14:55:39.655Z"
   },
   {
    "duration": 9,
    "start_time": "2021-08-29T14:55:39.669Z"
   },
   {
    "duration": 4,
    "start_time": "2021-08-29T14:55:39.681Z"
   },
   {
    "duration": 6,
    "start_time": "2021-08-29T14:55:39.687Z"
   },
   {
    "duration": 16,
    "start_time": "2021-08-29T14:55:39.695Z"
   },
   {
    "duration": 48,
    "start_time": "2021-08-29T14:55:39.714Z"
   },
   {
    "duration": 16,
    "start_time": "2021-08-29T14:55:39.767Z"
   },
   {
    "duration": 23,
    "start_time": "2021-08-29T14:55:39.785Z"
   },
   {
    "duration": 13,
    "start_time": "2021-08-29T14:55:39.810Z"
   },
   {
    "duration": 47,
    "start_time": "2021-08-29T14:55:39.826Z"
   },
   {
    "duration": 25,
    "start_time": "2021-08-29T14:55:39.875Z"
   },
   {
    "duration": 22,
    "start_time": "2021-08-29T14:55:39.902Z"
   },
   {
    "duration": 38,
    "start_time": "2021-08-29T14:55:39.926Z"
   },
   {
    "duration": 10,
    "start_time": "2021-08-29T14:55:39.966Z"
   },
   {
    "duration": 7,
    "start_time": "2021-08-29T14:55:39.978Z"
   },
   {
    "duration": 4655,
    "start_time": "2021-08-29T14:55:39.988Z"
   },
   {
    "duration": 37,
    "start_time": "2021-08-29T14:55:44.646Z"
   },
   {
    "duration": 11,
    "start_time": "2021-08-29T14:55:44.719Z"
   },
   {
    "duration": 11,
    "start_time": "2021-08-29T14:56:01.719Z"
   },
   {
    "duration": 14,
    "start_time": "2021-08-29T14:59:42.609Z"
   },
   {
    "duration": 13,
    "start_time": "2021-08-29T15:00:26.762Z"
   },
   {
    "duration": 18,
    "start_time": "2021-08-29T15:04:01.704Z"
   },
   {
    "duration": 14,
    "start_time": "2021-08-29T15:04:13.096Z"
   },
   {
    "duration": 6,
    "start_time": "2021-08-29T15:13:54.263Z"
   },
   {
    "duration": 6,
    "start_time": "2021-08-29T15:14:19.363Z"
   },
   {
    "duration": 16,
    "start_time": "2021-08-29T15:19:42.789Z"
   },
   {
    "duration": 8,
    "start_time": "2021-08-29T15:20:31.627Z"
   },
   {
    "duration": 11,
    "start_time": "2021-08-29T15:21:01.910Z"
   },
   {
    "duration": 9,
    "start_time": "2021-08-29T15:21:05.037Z"
   },
   {
    "duration": 400,
    "start_time": "2021-08-29T15:22:08.912Z"
   },
   {
    "duration": 14,
    "start_time": "2021-08-29T15:22:33.785Z"
   },
   {
    "duration": 13,
    "start_time": "2021-08-29T15:22:55.265Z"
   },
   {
    "duration": 7,
    "start_time": "2021-08-29T15:22:56.241Z"
   },
   {
    "duration": 88,
    "start_time": "2021-08-29T15:23:20.911Z"
   },
   {
    "duration": 8,
    "start_time": "2021-08-29T15:23:26.205Z"
   },
   {
    "duration": 8,
    "start_time": "2021-08-29T15:23:28.845Z"
   },
   {
    "duration": 82,
    "start_time": "2021-08-29T15:23:32.925Z"
   },
   {
    "duration": 6,
    "start_time": "2021-08-29T15:25:02.613Z"
   },
   {
    "duration": 3,
    "start_time": "2021-08-29T19:04:08.034Z"
   },
   {
    "duration": 64,
    "start_time": "2021-08-29T19:04:08.064Z"
   },
   {
    "duration": 16,
    "start_time": "2021-08-29T19:04:08.131Z"
   },
   {
    "duration": 17,
    "start_time": "2021-08-29T19:04:08.223Z"
   },
   {
    "duration": 28,
    "start_time": "2021-08-29T19:04:08.246Z"
   },
   {
    "duration": 19,
    "start_time": "2021-08-29T19:04:08.389Z"
   },
   {
    "duration": 9,
    "start_time": "2021-08-29T19:04:08.411Z"
   },
   {
    "duration": 6,
    "start_time": "2021-08-29T19:04:08.424Z"
   },
   {
    "duration": 19,
    "start_time": "2021-08-29T19:04:08.433Z"
   },
   {
    "duration": 19,
    "start_time": "2021-08-29T19:04:08.454Z"
   },
   {
    "duration": 13,
    "start_time": "2021-08-29T19:04:08.476Z"
   },
   {
    "duration": 26,
    "start_time": "2021-08-29T19:04:08.492Z"
   },
   {
    "duration": 9,
    "start_time": "2021-08-29T19:04:08.521Z"
   },
   {
    "duration": 10,
    "start_time": "2021-08-29T19:04:08.532Z"
   },
   {
    "duration": 7,
    "start_time": "2021-08-29T19:04:08.555Z"
   },
   {
    "duration": 13,
    "start_time": "2021-08-29T19:04:08.565Z"
   },
   {
    "duration": 10,
    "start_time": "2021-08-29T19:04:08.596Z"
   },
   {
    "duration": 11,
    "start_time": "2021-08-29T19:04:08.627Z"
   },
   {
    "duration": 10,
    "start_time": "2021-08-29T19:04:08.656Z"
   },
   {
    "duration": 21,
    "start_time": "2021-08-29T19:04:08.669Z"
   },
   {
    "duration": 14,
    "start_time": "2021-08-29T19:04:08.692Z"
   },
   {
    "duration": 11,
    "start_time": "2021-08-29T19:04:08.709Z"
   },
   {
    "duration": 5,
    "start_time": "2021-08-29T19:04:08.756Z"
   },
   {
    "duration": 10,
    "start_time": "2021-08-29T19:04:08.763Z"
   },
   {
    "duration": 15,
    "start_time": "2021-08-29T19:04:08.775Z"
   },
   {
    "duration": 15,
    "start_time": "2021-08-29T19:04:08.792Z"
   },
   {
    "duration": 46,
    "start_time": "2021-08-29T19:04:08.811Z"
   },
   {
    "duration": 19,
    "start_time": "2021-08-29T19:04:08.860Z"
   },
   {
    "duration": 18,
    "start_time": "2021-08-29T19:04:08.881Z"
   },
   {
    "duration": 38,
    "start_time": "2021-08-29T19:04:08.901Z"
   },
   {
    "duration": 39,
    "start_time": "2021-08-29T19:04:08.941Z"
   },
   {
    "duration": 22,
    "start_time": "2021-08-29T19:04:08.983Z"
   },
   {
    "duration": 56,
    "start_time": "2021-08-29T19:04:09.008Z"
   },
   {
    "duration": 5,
    "start_time": "2021-08-29T19:04:09.066Z"
   },
   {
    "duration": 5,
    "start_time": "2021-08-29T19:04:09.073Z"
   },
   {
    "duration": 4414,
    "start_time": "2021-08-29T19:04:09.080Z"
   },
   {
    "duration": 19,
    "start_time": "2021-08-29T19:04:13.497Z"
   },
   {
    "duration": 39,
    "start_time": "2021-08-29T19:04:13.518Z"
   },
   {
    "duration": 13,
    "start_time": "2021-08-29T19:04:13.560Z"
   },
   {
    "duration": 7,
    "start_time": "2021-08-29T19:04:13.575Z"
   },
   {
    "duration": 4,
    "start_time": "2021-08-29T19:04:13.584Z"
   },
   {
    "duration": 362,
    "start_time": "2021-08-29T19:12:04.755Z"
   },
   {
    "duration": 4,
    "start_time": "2021-08-29T19:12:08.940Z"
   },
   {
    "duration": 1420,
    "start_time": "2021-08-29T19:12:09.672Z"
   },
   {
    "duration": 368,
    "start_time": "2021-08-29T19:12:57.088Z"
   },
   {
    "duration": 12,
    "start_time": "2021-08-29T19:13:16.369Z"
   },
   {
    "duration": 11,
    "start_time": "2021-08-29T19:13:24.302Z"
   },
   {
    "duration": 36,
    "start_time": "2021-08-29T19:13:37.091Z"
   },
   {
    "duration": 19,
    "start_time": "2021-08-29T19:14:32.005Z"
   },
   {
    "duration": 1425,
    "start_time": "2021-08-29T19:15:12.283Z"
   },
   {
    "duration": 872,
    "start_time": "2021-08-29T19:15:12.838Z"
   },
   {
    "duration": 5,
    "start_time": "2021-08-29T19:16:08.725Z"
   },
   {
    "duration": 1566,
    "start_time": "2021-08-29T19:16:10.908Z"
   },
   {
    "duration": 1927,
    "start_time": "2021-08-29T19:16:20.610Z"
   },
   {
    "duration": 881,
    "start_time": "2021-08-29T19:16:21.659Z"
   },
   {
    "duration": 4,
    "start_time": "2021-08-29T19:17:15.021Z"
   },
   {
    "duration": 2011,
    "start_time": "2021-08-29T19:17:15.890Z"
   },
   {
    "duration": 876,
    "start_time": "2021-08-29T19:17:17.028Z"
   },
   {
    "duration": 3187,
    "start_time": "2021-08-29T19:19:39.400Z"
   },
   {
    "duration": 885,
    "start_time": "2021-08-29T19:19:41.705Z"
   },
   {
    "duration": 3,
    "start_time": "2021-08-29T19:23:24.082Z"
   },
   {
    "duration": 5,
    "start_time": "2021-08-29T19:23:24.623Z"
   },
   {
    "duration": 1767,
    "start_time": "2021-08-29T19:23:25.426Z"
   },
   {
    "duration": 4731,
    "start_time": "2021-08-29T19:26:52.307Z"
   },
   {
    "duration": 864,
    "start_time": "2021-08-29T19:26:56.177Z"
   },
   {
    "duration": 5,
    "start_time": "2021-08-29T19:27:40.026Z"
   },
   {
    "duration": 5168,
    "start_time": "2021-08-29T19:27:42.349Z"
   },
   {
    "duration": 909,
    "start_time": "2021-08-29T19:27:46.611Z"
   },
   {
    "duration": 498,
    "start_time": "2021-08-29T19:28:51.127Z"
   },
   {
    "duration": 19,
    "start_time": "2021-08-29T19:28:59.021Z"
   },
   {
    "duration": 11,
    "start_time": "2021-08-29T19:29:30.547Z"
   },
   {
    "duration": 4,
    "start_time": "2021-08-29T19:33:14.197Z"
   },
   {
    "duration": 382,
    "start_time": "2021-08-29T19:33:17.076Z"
   },
   {
    "duration": 11,
    "start_time": "2021-08-29T19:33:18.692Z"
   },
   {
    "duration": 24,
    "start_time": "2021-08-29T19:33:47.442Z"
   },
   {
    "duration": 28,
    "start_time": "2021-08-29T19:34:33.467Z"
   },
   {
    "duration": 5,
    "start_time": "2021-08-29T19:36:15.584Z"
   },
   {
    "duration": 375,
    "start_time": "2021-08-29T19:36:16.076Z"
   },
   {
    "duration": 10,
    "start_time": "2021-08-29T19:36:16.541Z"
   },
   {
    "duration": 4,
    "start_time": "2021-08-29T19:36:32.845Z"
   },
   {
    "duration": 386,
    "start_time": "2021-08-29T19:36:33.363Z"
   },
   {
    "duration": 10,
    "start_time": "2021-08-29T19:36:33.828Z"
   },
   {
    "duration": 24,
    "start_time": "2021-08-29T19:37:18.893Z"
   },
   {
    "duration": 528,
    "start_time": "2021-08-29T20:06:48.409Z"
   },
   {
    "duration": 6,
    "start_time": "2021-08-29T20:07:18.222Z"
   },
   {
    "duration": 433,
    "start_time": "2021-08-29T20:07:18.890Z"
   },
   {
    "duration": 11,
    "start_time": "2021-08-29T20:08:03.848Z"
   },
   {
    "duration": 41,
    "start_time": "2021-08-29T20:09:47.468Z"
   },
   {
    "duration": 13,
    "start_time": "2021-08-29T20:10:46.486Z"
   },
   {
    "duration": 6,
    "start_time": "2021-08-29T20:10:58.495Z"
   },
   {
    "duration": 397,
    "start_time": "2021-08-29T20:10:58.995Z"
   },
   {
    "duration": 10,
    "start_time": "2021-08-29T20:10:59.565Z"
   },
   {
    "duration": 40,
    "start_time": "2021-08-29T20:11:02.301Z"
   },
   {
    "duration": 387,
    "start_time": "2021-08-29T20:14:30.965Z"
   },
   {
    "duration": 7,
    "start_time": "2021-08-29T20:14:39.634Z"
   },
   {
    "duration": 10,
    "start_time": "2021-08-29T20:14:49.955Z"
   },
   {
    "duration": 52,
    "start_time": "2021-08-29T20:15:11.323Z"
   },
   {
    "duration": 7,
    "start_time": "2021-08-29T20:16:02.556Z"
   },
   {
    "duration": 6,
    "start_time": "2021-08-29T20:16:35.578Z"
   },
   {
    "duration": 10,
    "start_time": "2021-08-29T20:16:56.783Z"
   },
   {
    "duration": 12,
    "start_time": "2021-08-29T20:17:52.954Z"
   },
   {
    "duration": 13,
    "start_time": "2021-08-29T20:18:20.026Z"
   },
   {
    "duration": 6,
    "start_time": "2021-08-29T20:18:28.917Z"
   },
   {
    "duration": 395,
    "start_time": "2021-08-29T20:19:07.007Z"
   },
   {
    "duration": 4,
    "start_time": "2021-08-29T20:19:20.889Z"
   },
   {
    "duration": 6,
    "start_time": "2021-08-29T20:19:21.896Z"
   },
   {
    "duration": 12,
    "start_time": "2021-08-29T20:19:33.464Z"
   },
   {
    "duration": 7,
    "start_time": "2021-08-29T20:20:16.226Z"
   },
   {
    "duration": 6,
    "start_time": "2021-08-29T20:20:16.839Z"
   },
   {
    "duration": 7,
    "start_time": "2021-08-29T20:20:57.591Z"
   },
   {
    "duration": 7,
    "start_time": "2021-08-29T20:20:58.139Z"
   },
   {
    "duration": 318,
    "start_time": "2021-08-31T10:54:08.200Z"
   },
   {
    "duration": 253,
    "start_time": "2021-08-31T10:54:08.674Z"
   },
   {
    "duration": 730,
    "start_time": "2021-08-31T10:54:12.651Z"
   },
   {
    "duration": 49,
    "start_time": "2021-08-31T10:54:13.382Z"
   },
   {
    "duration": 14,
    "start_time": "2021-08-31T10:54:13.434Z"
   },
   {
    "duration": 18,
    "start_time": "2021-08-31T10:54:13.450Z"
   },
   {
    "duration": 27,
    "start_time": "2021-08-31T10:54:13.470Z"
   },
   {
    "duration": 13,
    "start_time": "2021-08-31T10:54:13.500Z"
   },
   {
    "duration": 7,
    "start_time": "2021-08-31T10:54:13.515Z"
   },
   {
    "duration": 6,
    "start_time": "2021-08-31T10:54:13.523Z"
   },
   {
    "duration": 5,
    "start_time": "2021-08-31T10:54:13.532Z"
   },
   {
    "duration": 16,
    "start_time": "2021-08-31T10:54:13.539Z"
   },
   {
    "duration": 7,
    "start_time": "2021-08-31T10:54:13.556Z"
   },
   {
    "duration": 35,
    "start_time": "2021-08-31T10:54:13.565Z"
   },
   {
    "duration": 16,
    "start_time": "2021-08-31T10:54:13.602Z"
   },
   {
    "duration": 10,
    "start_time": "2021-08-31T10:54:13.620Z"
   },
   {
    "duration": 10,
    "start_time": "2021-08-31T10:54:13.632Z"
   },
   {
    "duration": 26,
    "start_time": "2021-08-31T10:54:13.643Z"
   },
   {
    "duration": 11,
    "start_time": "2021-08-31T10:54:13.670Z"
   },
   {
    "duration": 12,
    "start_time": "2021-08-31T10:54:13.683Z"
   },
   {
    "duration": 11,
    "start_time": "2021-08-31T10:54:13.697Z"
   },
   {
    "duration": 16,
    "start_time": "2021-08-31T10:54:13.709Z"
   },
   {
    "duration": 7,
    "start_time": "2021-08-31T10:54:13.726Z"
   },
   {
    "duration": 10,
    "start_time": "2021-08-31T10:54:13.734Z"
   },
   {
    "duration": 8,
    "start_time": "2021-08-31T10:54:13.745Z"
   },
   {
    "duration": 10,
    "start_time": "2021-08-31T10:54:13.755Z"
   },
   {
    "duration": 17,
    "start_time": "2021-08-31T10:54:13.766Z"
   },
   {
    "duration": 10,
    "start_time": "2021-08-31T10:54:13.785Z"
   },
   {
    "duration": 13,
    "start_time": "2021-08-31T10:54:13.799Z"
   },
   {
    "duration": 18,
    "start_time": "2021-08-31T10:54:13.814Z"
   },
   {
    "duration": 20,
    "start_time": "2021-08-31T10:54:13.833Z"
   },
   {
    "duration": 23,
    "start_time": "2021-08-31T10:54:13.854Z"
   },
   {
    "duration": 21,
    "start_time": "2021-08-31T10:54:13.878Z"
   },
   {
    "duration": 15,
    "start_time": "2021-08-31T10:54:13.901Z"
   },
   {
    "duration": 8,
    "start_time": "2021-08-31T10:54:13.918Z"
   },
   {
    "duration": 5,
    "start_time": "2021-08-31T10:54:13.928Z"
   },
   {
    "duration": 9,
    "start_time": "2021-08-31T10:54:13.934Z"
   },
   {
    "duration": 3696,
    "start_time": "2021-08-31T10:54:13.944Z"
   },
   {
    "duration": 13,
    "start_time": "2021-08-31T10:54:17.642Z"
   },
   {
    "duration": 35,
    "start_time": "2021-08-31T10:54:17.656Z"
   },
   {
    "duration": 9,
    "start_time": "2021-08-31T10:54:17.693Z"
   },
   {
    "duration": 4,
    "start_time": "2021-08-31T10:54:17.704Z"
   },
   {
    "duration": 4,
    "start_time": "2021-08-31T10:54:17.710Z"
   },
   {
    "duration": 238,
    "start_time": "2021-08-31T10:54:17.716Z"
   },
   {
    "duration": 7,
    "start_time": "2021-08-31T10:54:17.956Z"
   },
   {
    "duration": 5,
    "start_time": "2021-08-31T10:54:17.965Z"
   },
   {
    "duration": 239,
    "start_time": "2021-08-31T10:54:17.971Z"
   },
   {
    "duration": 7,
    "start_time": "2021-08-31T10:54:18.211Z"
   },
   {
    "duration": 4,
    "start_time": "2021-08-31T10:54:18.230Z"
   },
   {
    "duration": 5,
    "start_time": "2021-08-31T10:54:18.309Z"
   },
   {
    "duration": 5,
    "start_time": "2021-08-31T10:54:26.440Z"
   },
   {
    "duration": 3,
    "start_time": "2021-08-31T11:08:37.026Z"
   },
   {
    "duration": 8,
    "start_time": "2021-08-31T11:09:24.500Z"
   },
   {
    "duration": 3,
    "start_time": "2021-08-31T11:09:47.269Z"
   },
   {
    "duration": 11,
    "start_time": "2021-08-31T11:09:47.815Z"
   },
   {
    "duration": 3,
    "start_time": "2021-08-31T11:12:50.575Z"
   },
   {
    "duration": 8,
    "start_time": "2021-08-31T11:12:51.198Z"
   },
   {
    "duration": 8,
    "start_time": "2021-08-31T11:13:06.689Z"
   },
   {
    "duration": 3,
    "start_time": "2021-08-31T11:13:21.470Z"
   },
   {
    "duration": 11,
    "start_time": "2021-08-31T11:13:22.907Z"
   },
   {
    "duration": 84,
    "start_time": "2021-08-31T11:14:23.493Z"
   },
   {
    "duration": 298,
    "start_time": "2021-08-31T11:14:24.630Z"
   },
   {
    "duration": 241,
    "start_time": "2021-08-31T11:14:35.554Z"
   },
   {
    "duration": 6,
    "start_time": "2021-08-31T11:15:00.684Z"
   },
   {
    "duration": 13,
    "start_time": "2021-08-31T11:15:02.397Z"
   },
   {
    "duration": 6,
    "start_time": "2021-08-31T11:15:38.708Z"
   },
   {
    "duration": 6,
    "start_time": "2021-08-31T11:16:21.115Z"
   },
   {
    "duration": 79,
    "start_time": "2021-08-31T11:18:59.866Z"
   },
   {
    "duration": 5,
    "start_time": "2021-08-31T11:19:11.585Z"
   },
   {
    "duration": 1973,
    "start_time": "2021-08-31T11:19:17.183Z"
   },
   {
    "duration": 3,
    "start_time": "2021-08-31T11:19:45.319Z"
   },
   {
    "duration": 8,
    "start_time": "2021-08-31T11:19:48.292Z"
   },
   {
    "duration": 3,
    "start_time": "2021-08-31T11:20:15.875Z"
   },
   {
    "duration": 9,
    "start_time": "2021-08-31T11:20:17.166Z"
   },
   {
    "duration": 8,
    "start_time": "2021-08-31T11:22:42.701Z"
   },
   {
    "duration": 3,
    "start_time": "2021-08-31T11:23:25.351Z"
   },
   {
    "duration": 7,
    "start_time": "2021-08-31T11:23:25.832Z"
   },
   {
    "duration": 4,
    "start_time": "2021-08-31T11:24:24.624Z"
   },
   {
    "duration": 7,
    "start_time": "2021-08-31T11:24:25.213Z"
   },
   {
    "duration": 7,
    "start_time": "2021-08-31T11:24:38.295Z"
   },
   {
    "duration": 7,
    "start_time": "2021-08-31T11:24:57.805Z"
   },
   {
    "duration": 3,
    "start_time": "2021-08-31T11:26:40.080Z"
   },
   {
    "duration": 7,
    "start_time": "2021-08-31T11:26:47.992Z"
   },
   {
    "duration": 3,
    "start_time": "2021-08-31T11:27:07.276Z"
   },
   {
    "duration": 63,
    "start_time": "2021-08-31T11:27:07.282Z"
   },
   {
    "duration": 13,
    "start_time": "2021-08-31T11:27:07.347Z"
   },
   {
    "duration": 36,
    "start_time": "2021-08-31T11:27:07.362Z"
   },
   {
    "duration": 41,
    "start_time": "2021-08-31T11:27:07.399Z"
   },
   {
    "duration": 40,
    "start_time": "2021-08-31T11:27:07.441Z"
   },
   {
    "duration": 34,
    "start_time": "2021-08-31T11:27:07.483Z"
   },
   {
    "duration": 25,
    "start_time": "2021-08-31T11:27:07.519Z"
   },
   {
    "duration": 28,
    "start_time": "2021-08-31T11:27:07.548Z"
   },
   {
    "duration": 36,
    "start_time": "2021-08-31T11:27:07.579Z"
   },
   {
    "duration": 28,
    "start_time": "2021-08-31T11:27:07.618Z"
   },
   {
    "duration": 36,
    "start_time": "2021-08-31T11:27:07.649Z"
   },
   {
    "duration": 27,
    "start_time": "2021-08-31T11:27:07.688Z"
   },
   {
    "duration": 32,
    "start_time": "2021-08-31T11:27:07.717Z"
   },
   {
    "duration": 29,
    "start_time": "2021-08-31T11:27:07.752Z"
   },
   {
    "duration": 46,
    "start_time": "2021-08-31T11:27:07.783Z"
   },
   {
    "duration": 23,
    "start_time": "2021-08-31T11:27:07.831Z"
   },
   {
    "duration": 30,
    "start_time": "2021-08-31T11:27:07.855Z"
   },
   {
    "duration": 30,
    "start_time": "2021-08-31T11:27:07.887Z"
   },
   {
    "duration": 50,
    "start_time": "2021-08-31T11:27:07.920Z"
   },
   {
    "duration": 38,
    "start_time": "2021-08-31T11:27:07.972Z"
   },
   {
    "duration": 30,
    "start_time": "2021-08-31T11:27:08.013Z"
   },
   {
    "duration": 23,
    "start_time": "2021-08-31T11:27:08.046Z"
   },
   {
    "duration": 34,
    "start_time": "2021-08-31T11:27:08.072Z"
   },
   {
    "duration": 34,
    "start_time": "2021-08-31T11:27:08.109Z"
   },
   {
    "duration": 24,
    "start_time": "2021-08-31T11:27:08.145Z"
   },
   {
    "duration": 40,
    "start_time": "2021-08-31T11:27:08.170Z"
   },
   {
    "duration": 37,
    "start_time": "2021-08-31T11:27:08.212Z"
   },
   {
    "duration": 41,
    "start_time": "2021-08-31T11:27:08.251Z"
   },
   {
    "duration": 63,
    "start_time": "2021-08-31T11:27:08.294Z"
   },
   {
    "duration": 45,
    "start_time": "2021-08-31T11:27:08.359Z"
   },
   {
    "duration": 27,
    "start_time": "2021-08-31T11:27:08.406Z"
   },
   {
    "duration": 32,
    "start_time": "2021-08-31T11:27:08.435Z"
   },
   {
    "duration": 15,
    "start_time": "2021-08-31T11:27:08.469Z"
   },
   {
    "duration": 23,
    "start_time": "2021-08-31T11:27:08.486Z"
   },
   {
    "duration": 3944,
    "start_time": "2021-08-31T11:27:08.511Z"
   },
   {
    "duration": 14,
    "start_time": "2021-08-31T11:27:12.457Z"
   },
   {
    "duration": 31,
    "start_time": "2021-08-31T11:27:12.473Z"
   },
   {
    "duration": 11,
    "start_time": "2021-08-31T11:27:12.506Z"
   },
   {
    "duration": 2,
    "start_time": "2021-08-31T11:27:12.519Z"
   },
   {
    "duration": 6,
    "start_time": "2021-08-31T11:27:12.523Z"
   },
   {
    "duration": 265,
    "start_time": "2021-08-31T11:27:12.531Z"
   },
   {
    "duration": 7,
    "start_time": "2021-08-31T11:27:12.798Z"
   },
   {
    "duration": 6,
    "start_time": "2021-08-31T11:27:12.807Z"
   },
   {
    "duration": 254,
    "start_time": "2021-08-31T11:27:12.815Z"
   },
   {
    "duration": 7,
    "start_time": "2021-08-31T11:27:13.071Z"
   },
   {
    "duration": 3,
    "start_time": "2021-08-31T11:27:13.092Z"
   },
   {
    "duration": 7,
    "start_time": "2021-08-31T11:27:13.117Z"
   },
   {
    "duration": 7,
    "start_time": "2021-08-31T11:27:20.552Z"
   },
   {
    "duration": 6,
    "start_time": "2021-08-31T11:30:02.513Z"
   },
   {
    "duration": 6,
    "start_time": "2021-08-31T11:30:39.568Z"
   },
   {
    "duration": 6,
    "start_time": "2021-08-31T11:33:06.773Z"
   },
   {
    "duration": 7,
    "start_time": "2021-08-31T11:33:26.546Z"
   },
   {
    "duration": 7,
    "start_time": "2021-08-31T11:33:51.513Z"
   },
   {
    "duration": 245,
    "start_time": "2021-08-31T11:34:27.719Z"
   },
   {
    "duration": 7,
    "start_time": "2021-08-31T11:34:39.818Z"
   },
   {
    "duration": 8,
    "start_time": "2021-08-31T11:34:47.979Z"
   },
   {
    "duration": 7,
    "start_time": "2021-08-31T11:34:53.352Z"
   },
   {
    "duration": 7,
    "start_time": "2021-08-31T11:34:58.321Z"
   },
   {
    "duration": 4,
    "start_time": "2021-08-31T11:35:12.509Z"
   },
   {
    "duration": 8,
    "start_time": "2021-08-31T11:35:13.115Z"
   },
   {
    "duration": 6,
    "start_time": "2021-08-31T11:35:18.103Z"
   },
   {
    "duration": 6,
    "start_time": "2021-08-31T11:35:23.199Z"
   },
   {
    "duration": 8,
    "start_time": "2021-08-31T11:35:30.825Z"
   },
   {
    "duration": 10,
    "start_time": "2021-08-31T11:36:28.103Z"
   },
   {
    "duration": 8,
    "start_time": "2021-08-31T11:36:42.451Z"
   },
   {
    "duration": 3,
    "start_time": "2021-08-31T11:40:27.592Z"
   },
   {
    "duration": 375,
    "start_time": "2021-08-31T11:40:28.683Z"
   },
   {
    "duration": 10,
    "start_time": "2021-08-31T11:40:29.527Z"
   },
   {
    "duration": 3,
    "start_time": "2021-08-31T11:40:44.103Z"
   },
   {
    "duration": 100,
    "start_time": "2021-08-31T11:40:52.366Z"
   },
   {
    "duration": 8,
    "start_time": "2021-08-31T11:41:01.094Z"
   },
   {
    "duration": 9,
    "start_time": "2021-08-31T11:41:24.774Z"
   },
   {
    "duration": 10,
    "start_time": "2021-08-31T12:26:04.839Z"
   },
   {
    "duration": 10,
    "start_time": "2021-08-31T12:27:18.361Z"
   },
   {
    "duration": 11,
    "start_time": "2021-08-31T12:27:29.828Z"
   },
   {
    "duration": 8,
    "start_time": "2021-08-31T12:53:18.729Z"
   },
   {
    "duration": 4,
    "start_time": "2021-08-31T12:53:27.773Z"
   },
   {
    "duration": 9,
    "start_time": "2021-08-31T12:53:48.898Z"
   },
   {
    "duration": 5,
    "start_time": "2021-08-31T12:54:19.469Z"
   },
   {
    "duration": 4,
    "start_time": "2021-08-31T12:54:21.175Z"
   },
   {
    "duration": 9,
    "start_time": "2021-08-31T12:57:18.569Z"
   },
   {
    "duration": 8,
    "start_time": "2021-08-31T13:06:21.473Z"
   },
   {
    "duration": 4,
    "start_time": "2021-08-31T13:12:39.961Z"
   },
   {
    "duration": 87,
    "start_time": "2021-08-31T13:14:34.661Z"
   },
   {
    "duration": 85,
    "start_time": "2021-08-31T13:14:45.037Z"
   },
   {
    "duration": 81,
    "start_time": "2021-08-31T13:17:28.033Z"
   },
   {
    "duration": 253,
    "start_time": "2021-08-31T13:17:36.584Z"
   },
   {
    "duration": 4,
    "start_time": "2021-08-31T13:17:49.580Z"
   },
   {
    "duration": 240,
    "start_time": "2021-08-31T13:24:50.940Z"
   },
   {
    "duration": 4,
    "start_time": "2021-08-31T13:25:00.317Z"
   },
   {
    "duration": 3,
    "start_time": "2021-08-31T13:25:04.274Z"
   },
   {
    "duration": 11,
    "start_time": "2021-08-31T13:25:04.704Z"
   },
   {
    "duration": 9,
    "start_time": "2021-08-31T13:25:05.285Z"
   },
   {
    "duration": 9,
    "start_time": "2021-08-31T13:25:06.054Z"
   },
   {
    "duration": 12,
    "start_time": "2021-08-31T13:28:18.698Z"
   },
   {
    "duration": 17,
    "start_time": "2021-08-31T13:34:01.780Z"
   },
   {
    "duration": 11,
    "start_time": "2021-08-31T13:34:25.146Z"
   },
   {
    "duration": 10,
    "start_time": "2021-08-31T13:34:30.251Z"
   },
   {
    "duration": 300,
    "start_time": "2021-08-31T13:53:32.038Z"
   },
   {
    "duration": 3,
    "start_time": "2021-08-31T13:53:37.073Z"
   },
   {
    "duration": 217,
    "start_time": "2021-08-31T13:53:37.639Z"
   },
   {
    "duration": 245,
    "start_time": "2021-08-31T13:54:10.284Z"
   },
   {
    "duration": 10,
    "start_time": "2021-08-31T13:54:29.113Z"
   },
   {
    "duration": 296,
    "start_time": "2021-08-31T14:10:52.678Z"
   },
   {
    "duration": 3,
    "start_time": "2021-08-31T14:10:58.174Z"
   },
   {
    "duration": 486,
    "start_time": "2021-08-31T14:10:58.885Z"
   },
   {
    "duration": 530,
    "start_time": "2021-08-31T14:12:10.235Z"
   },
   {
    "duration": 4,
    "start_time": "2021-08-31T14:12:18.209Z"
   },
   {
    "duration": 58,
    "start_time": "2021-08-31T14:12:18.218Z"
   },
   {
    "duration": 11,
    "start_time": "2021-08-31T14:12:18.278Z"
   },
   {
    "duration": 15,
    "start_time": "2021-08-31T14:12:18.292Z"
   },
   {
    "duration": 15,
    "start_time": "2021-08-31T14:12:18.309Z"
   },
   {
    "duration": 14,
    "start_time": "2021-08-31T14:12:18.333Z"
   },
   {
    "duration": 7,
    "start_time": "2021-08-31T14:12:18.350Z"
   },
   {
    "duration": 9,
    "start_time": "2021-08-31T14:12:18.359Z"
   },
   {
    "duration": 11,
    "start_time": "2021-08-31T14:12:18.393Z"
   },
   {
    "duration": 14,
    "start_time": "2021-08-31T14:12:18.405Z"
   },
   {
    "duration": 4,
    "start_time": "2021-08-31T14:12:18.421Z"
   },
   {
    "duration": 20,
    "start_time": "2021-08-31T14:12:18.428Z"
   },
   {
    "duration": 13,
    "start_time": "2021-08-31T14:12:18.451Z"
   },
   {
    "duration": 20,
    "start_time": "2021-08-31T14:12:18.491Z"
   },
   {
    "duration": 8,
    "start_time": "2021-08-31T14:12:18.513Z"
   },
   {
    "duration": 10,
    "start_time": "2021-08-31T14:12:18.523Z"
   },
   {
    "duration": 12,
    "start_time": "2021-08-31T14:12:18.535Z"
   },
   {
    "duration": 11,
    "start_time": "2021-08-31T14:12:18.549Z"
   },
   {
    "duration": 38,
    "start_time": "2021-08-31T14:12:18.561Z"
   },
   {
    "duration": 15,
    "start_time": "2021-08-31T14:12:18.608Z"
   },
   {
    "duration": 9,
    "start_time": "2021-08-31T14:12:18.625Z"
   },
   {
    "duration": 10,
    "start_time": "2021-08-31T14:12:18.636Z"
   },
   {
    "duration": 9,
    "start_time": "2021-08-31T14:12:18.648Z"
   },
   {
    "duration": 8,
    "start_time": "2021-08-31T14:12:18.658Z"
   },
   {
    "duration": 32,
    "start_time": "2021-08-31T14:12:18.668Z"
   },
   {
    "duration": 11,
    "start_time": "2021-08-31T14:12:18.702Z"
   },
   {
    "duration": 15,
    "start_time": "2021-08-31T14:12:18.717Z"
   },
   {
    "duration": 14,
    "start_time": "2021-08-31T14:12:18.734Z"
   },
   {
    "duration": 16,
    "start_time": "2021-08-31T14:12:18.750Z"
   },
   {
    "duration": 27,
    "start_time": "2021-08-31T14:12:18.767Z"
   },
   {
    "duration": 22,
    "start_time": "2021-08-31T14:12:18.799Z"
   },
   {
    "duration": 15,
    "start_time": "2021-08-31T14:12:18.823Z"
   },
   {
    "duration": 20,
    "start_time": "2021-08-31T14:12:18.840Z"
   },
   {
    "duration": 4,
    "start_time": "2021-08-31T14:12:18.862Z"
   },
   {
    "duration": 33,
    "start_time": "2021-08-31T14:12:18.867Z"
   },
   {
    "duration": 3662,
    "start_time": "2021-08-31T14:12:18.902Z"
   },
   {
    "duration": 14,
    "start_time": "2021-08-31T14:12:22.566Z"
   },
   {
    "duration": 19,
    "start_time": "2021-08-31T14:12:22.591Z"
   },
   {
    "duration": 10,
    "start_time": "2021-08-31T14:12:22.614Z"
   },
   {
    "duration": 4,
    "start_time": "2021-08-31T14:12:22.626Z"
   },
   {
    "duration": 247,
    "start_time": "2021-08-31T14:12:22.632Z"
   },
   {
    "duration": 25,
    "start_time": "2021-08-31T14:12:22.881Z"
   },
   {
    "duration": 3,
    "start_time": "2021-08-31T14:12:22.908Z"
   },
   {
    "duration": 4,
    "start_time": "2021-08-31T14:12:22.913Z"
   },
   {
    "duration": 237,
    "start_time": "2021-08-31T14:12:22.919Z"
   },
   {
    "duration": 7,
    "start_time": "2021-08-31T14:12:23.157Z"
   },
   {
    "duration": 6,
    "start_time": "2021-08-31T14:12:23.165Z"
   },
   {
    "duration": 246,
    "start_time": "2021-08-31T14:12:23.172Z"
   },
   {
    "duration": 9,
    "start_time": "2021-08-31T14:12:23.420Z"
   },
   {
    "duration": 13,
    "start_time": "2021-08-31T14:12:23.430Z"
   },
   {
    "duration": 12,
    "start_time": "2021-08-31T14:12:23.445Z"
   },
   {
    "duration": 15,
    "start_time": "2021-08-31T14:12:23.458Z"
   },
   {
    "duration": 22,
    "start_time": "2021-08-31T14:12:23.475Z"
   },
   {
    "duration": 17,
    "start_time": "2021-08-31T14:12:23.499Z"
   },
   {
    "duration": 32,
    "start_time": "2021-08-31T14:12:23.518Z"
   },
   {
    "duration": 22,
    "start_time": "2021-08-31T14:12:23.552Z"
   },
   {
    "duration": -446,
    "start_time": "2021-08-31T14:12:24.696Z"
   },
   {
    "duration": 533,
    "start_time": "2021-08-31T14:12:27.711Z"
   },
   {
    "duration": 6,
    "start_time": "2021-08-31T14:12:31.301Z"
   },
   {
    "duration": 473,
    "start_time": "2021-08-31T14:12:31.777Z"
   },
   {
    "duration": 3,
    "start_time": "2021-08-31T14:12:52.685Z"
   },
   {
    "duration": 8,
    "start_time": "2021-08-31T14:12:53.275Z"
   },
   {
    "duration": 7,
    "start_time": "2021-08-31T14:13:25.452Z"
   },
   {
    "duration": 7,
    "start_time": "2021-08-31T14:13:52.577Z"
   },
   {
    "duration": 4,
    "start_time": "2021-08-31T14:15:12.478Z"
   },
   {
    "duration": 389,
    "start_time": "2021-08-31T14:15:13.335Z"
   },
   {
    "duration": 11,
    "start_time": "2021-08-31T14:15:13.983Z"
   },
   {
    "duration": 7,
    "start_time": "2021-08-31T14:15:41.123Z"
   },
   {
    "duration": 4,
    "start_time": "2021-08-31T14:16:43.545Z"
   },
   {
    "duration": 12,
    "start_time": "2021-08-31T14:16:44.699Z"
   },
   {
    "duration": 8,
    "start_time": "2021-08-31T14:18:43.765Z"
   },
   {
    "duration": 7,
    "start_time": "2021-08-31T14:18:44.524Z"
   },
   {
    "duration": 10,
    "start_time": "2021-08-31T14:19:11.289Z"
   },
   {
    "duration": 13,
    "start_time": "2021-08-31T14:27:34.209Z"
   },
   {
    "duration": 13,
    "start_time": "2021-08-31T14:30:26.801Z"
   },
   {
    "duration": 9,
    "start_time": "2021-08-31T14:30:44.046Z"
   },
   {
    "duration": 16,
    "start_time": "2021-08-31T14:31:08.907Z"
   },
   {
    "duration": 14,
    "start_time": "2021-08-31T14:31:19.983Z"
   },
   {
    "duration": 14,
    "start_time": "2021-08-31T15:33:38.047Z"
   },
   {
    "duration": 247,
    "start_time": "2021-08-31T15:35:05.760Z"
   },
   {
    "duration": 78,
    "start_time": "2021-08-31T15:35:10.391Z"
   },
   {
    "duration": 15,
    "start_time": "2021-08-31T15:35:20.899Z"
   },
   {
    "duration": 5,
    "start_time": "2021-08-31T15:35:23.061Z"
   },
   {
    "duration": 7,
    "start_time": "2021-08-31T15:37:00.430Z"
   },
   {
    "duration": 4,
    "start_time": "2021-08-31T15:37:12.205Z"
   },
   {
    "duration": 4,
    "start_time": "2021-08-31T15:37:19.677Z"
   },
   {
    "duration": 5,
    "start_time": "2021-08-31T15:47:15.755Z"
   },
   {
    "duration": 5,
    "start_time": "2021-08-31T15:47:35.853Z"
   },
   {
    "duration": 7,
    "start_time": "2021-08-31T15:48:09.466Z"
   },
   {
    "duration": 4,
    "start_time": "2021-08-31T15:48:16.536Z"
   },
   {
    "duration": 6,
    "start_time": "2021-08-31T15:48:46.935Z"
   },
   {
    "duration": 5,
    "start_time": "2021-08-31T15:48:54.875Z"
   },
   {
    "duration": 245,
    "start_time": "2021-08-31T15:52:19.839Z"
   },
   {
    "duration": 4,
    "start_time": "2021-08-31T16:06:05.889Z"
   },
   {
    "duration": 5,
    "start_time": "2021-08-31T16:06:15.865Z"
   },
   {
    "duration": 3,
    "start_time": "2021-08-31T16:06:49.184Z"
   },
   {
    "duration": 5,
    "start_time": "2021-08-31T16:08:07.004Z"
   },
   {
    "duration": 327,
    "start_time": "2021-08-31T16:08:18.988Z"
   },
   {
    "duration": 4,
    "start_time": "2021-08-31T16:08:19.493Z"
   },
   {
    "duration": 82,
    "start_time": "2021-08-31T16:09:08.894Z"
   },
   {
    "duration": 8,
    "start_time": "2021-08-31T16:09:19.370Z"
   },
   {
    "duration": 6,
    "start_time": "2021-08-31T16:09:21.906Z"
   },
   {
    "duration": 4,
    "start_time": "2021-08-31T16:10:04.272Z"
   },
   {
    "duration": 4,
    "start_time": "2021-08-31T16:10:16.669Z"
   },
   {
    "duration": 321,
    "start_time": "2021-08-31T16:10:33.447Z"
   },
   {
    "duration": 4,
    "start_time": "2021-08-31T16:10:43.065Z"
   },
   {
    "duration": 5,
    "start_time": "2021-08-31T16:10:48.360Z"
   },
   {
    "duration": 246,
    "start_time": "2021-08-31T18:15:26.507Z"
   },
   {
    "duration": 4,
    "start_time": "2021-08-31T18:15:27.063Z"
   },
   {
    "duration": 7,
    "start_time": "2021-08-31T18:15:59.831Z"
   },
   {
    "duration": 22,
    "start_time": "2021-08-31T18:16:01.492Z"
   },
   {
    "duration": 258,
    "start_time": "2021-08-31T18:18:41.099Z"
   },
   {
    "duration": 7,
    "start_time": "2021-08-31T18:18:54.063Z"
   },
   {
    "duration": 5,
    "start_time": "2021-08-31T18:18:56.659Z"
   },
   {
    "duration": 308,
    "start_time": "2021-08-31T18:21:13.204Z"
   },
   {
    "duration": 93,
    "start_time": "2021-08-31T18:21:26.650Z"
   },
   {
    "duration": 8,
    "start_time": "2021-08-31T18:21:33.449Z"
   },
   {
    "duration": 7,
    "start_time": "2021-08-31T18:21:35.597Z"
   },
   {
    "duration": 241,
    "start_time": "2021-08-31T18:43:41.308Z"
   },
   {
    "duration": 3,
    "start_time": "2021-08-31T18:43:45.978Z"
   },
   {
    "duration": 10,
    "start_time": "2021-08-31T18:43:46.676Z"
   },
   {
    "duration": 8,
    "start_time": "2021-08-31T18:44:22.919Z"
   },
   {
    "duration": 3,
    "start_time": "2021-08-31T18:48:02.201Z"
   },
   {
    "duration": 61,
    "start_time": "2021-08-31T18:48:02.207Z"
   },
   {
    "duration": 12,
    "start_time": "2021-08-31T18:48:02.271Z"
   },
   {
    "duration": 11,
    "start_time": "2021-08-31T18:48:02.308Z"
   },
   {
    "duration": 12,
    "start_time": "2021-08-31T18:48:02.346Z"
   },
   {
    "duration": 20,
    "start_time": "2021-08-31T18:48:02.401Z"
   },
   {
    "duration": 6,
    "start_time": "2021-08-31T18:48:02.424Z"
   },
   {
    "duration": 6,
    "start_time": "2021-08-31T18:48:02.432Z"
   },
   {
    "duration": 9,
    "start_time": "2021-08-31T18:48:02.440Z"
   },
   {
    "duration": 14,
    "start_time": "2021-08-31T18:48:02.450Z"
   },
   {
    "duration": 30,
    "start_time": "2021-08-31T18:48:02.465Z"
   },
   {
    "duration": 20,
    "start_time": "2021-08-31T18:48:02.498Z"
   },
   {
    "duration": 9,
    "start_time": "2021-08-31T18:48:02.521Z"
   },
   {
    "duration": 61,
    "start_time": "2021-08-31T18:48:02.531Z"
   },
   {
    "duration": 6,
    "start_time": "2021-08-31T18:48:02.594Z"
   },
   {
    "duration": 18,
    "start_time": "2021-08-31T18:48:02.602Z"
   },
   {
    "duration": 8,
    "start_time": "2021-08-31T18:48:02.621Z"
   },
   {
    "duration": 13,
    "start_time": "2021-08-31T18:48:02.631Z"
   },
   {
    "duration": 12,
    "start_time": "2021-08-31T18:48:02.646Z"
   },
   {
    "duration": 42,
    "start_time": "2021-08-31T18:48:02.660Z"
   },
   {
    "duration": 8,
    "start_time": "2021-08-31T18:48:02.710Z"
   },
   {
    "duration": 13,
    "start_time": "2021-08-31T18:48:02.720Z"
   },
   {
    "duration": 5,
    "start_time": "2021-08-31T18:48:02.738Z"
   },
   {
    "duration": 10,
    "start_time": "2021-08-31T18:48:02.745Z"
   },
   {
    "duration": 46,
    "start_time": "2021-08-31T18:48:02.756Z"
   },
   {
    "duration": 10,
    "start_time": "2021-08-31T18:48:02.807Z"
   },
   {
    "duration": 16,
    "start_time": "2021-08-31T18:48:02.819Z"
   },
   {
    "duration": 14,
    "start_time": "2021-08-31T18:48:02.837Z"
   },
   {
    "duration": 14,
    "start_time": "2021-08-31T18:48:02.852Z"
   },
   {
    "duration": 37,
    "start_time": "2021-08-31T18:48:02.868Z"
   },
   {
    "duration": 18,
    "start_time": "2021-08-31T18:48:02.907Z"
   },
   {
    "duration": 15,
    "start_time": "2021-08-31T18:48:02.927Z"
   },
   {
    "duration": 19,
    "start_time": "2021-08-31T18:48:02.944Z"
   },
   {
    "duration": 30,
    "start_time": "2021-08-31T18:48:02.965Z"
   },
   {
    "duration": 11,
    "start_time": "2021-08-31T18:48:02.997Z"
   },
   {
    "duration": 3928,
    "start_time": "2021-08-31T18:48:03.010Z"
   },
   {
    "duration": 14,
    "start_time": "2021-08-31T18:48:06.940Z"
   },
   {
    "duration": 16,
    "start_time": "2021-08-31T18:48:06.956Z"
   },
   {
    "duration": 28,
    "start_time": "2021-08-31T18:48:06.974Z"
   },
   {
    "duration": 4,
    "start_time": "2021-08-31T18:48:07.006Z"
   },
   {
    "duration": 249,
    "start_time": "2021-08-31T18:48:07.012Z"
   },
   {
    "duration": 7,
    "start_time": "2021-08-31T18:48:07.263Z"
   },
   {
    "duration": 5,
    "start_time": "2021-08-31T18:48:07.271Z"
   },
   {
    "duration": 14,
    "start_time": "2021-08-31T18:48:07.278Z"
   },
   {
    "duration": 277,
    "start_time": "2021-08-31T18:48:07.294Z"
   },
   {
    "duration": 10,
    "start_time": "2021-08-31T18:48:07.573Z"
   },
   {
    "duration": 14,
    "start_time": "2021-08-31T18:48:07.584Z"
   },
   {
    "duration": 259,
    "start_time": "2021-08-31T18:48:07.600Z"
   },
   {
    "duration": 7,
    "start_time": "2021-08-31T18:48:07.861Z"
   },
   {
    "duration": 24,
    "start_time": "2021-08-31T18:48:07.870Z"
   },
   {
    "duration": 5,
    "start_time": "2021-08-31T18:48:07.896Z"
   },
   {
    "duration": 11,
    "start_time": "2021-08-31T18:48:07.906Z"
   },
   {
    "duration": 8,
    "start_time": "2021-08-31T18:48:07.920Z"
   },
   {
    "duration": 4,
    "start_time": "2021-08-31T18:48:07.929Z"
   },
   {
    "duration": 9,
    "start_time": "2021-08-31T18:48:07.935Z"
   },
   {
    "duration": 6,
    "start_time": "2021-08-31T18:48:07.946Z"
   },
   {
    "duration": 42,
    "start_time": "2021-08-31T18:48:07.954Z"
   },
   {
    "duration": 8,
    "start_time": "2021-08-31T18:48:07.998Z"
   },
   {
    "duration": 3,
    "start_time": "2021-08-31T18:48:08.009Z"
   },
   {
    "duration": 18,
    "start_time": "2021-08-31T18:48:08.014Z"
   },
   {
    "duration": 11,
    "start_time": "2021-08-31T18:48:08.034Z"
   },
   {
    "duration": 6,
    "start_time": "2021-08-31T18:48:08.047Z"
   },
   {
    "duration": 7,
    "start_time": "2021-08-31T18:48:08.055Z"
   },
   {
    "duration": 42,
    "start_time": "2021-08-31T18:48:08.064Z"
   },
   {
    "duration": 12,
    "start_time": "2021-08-31T18:48:08.108Z"
   },
   {
    "duration": 11,
    "start_time": "2021-08-31T18:48:08.122Z"
   },
   {
    "duration": 10,
    "start_time": "2021-08-31T18:48:08.135Z"
   },
   {
    "duration": 9,
    "start_time": "2021-08-31T18:48:08.147Z"
   },
   {
    "duration": 52,
    "start_time": "2021-08-31T18:48:08.158Z"
   },
   {
    "duration": 7,
    "start_time": "2021-08-31T18:48:08.212Z"
   },
   {
    "duration": 271,
    "start_time": "2021-08-31T18:52:47.118Z"
   },
   {
    "duration": 8,
    "start_time": "2021-08-31T18:52:56.066Z"
   },
   {
    "duration": 3,
    "start_time": "2021-08-31T18:54:49.762Z"
   },
   {
    "duration": 9,
    "start_time": "2021-08-31T18:54:50.812Z"
   },
   {
    "duration": 238,
    "start_time": "2021-08-31T18:57:22.996Z"
   },
   {
    "duration": 237,
    "start_time": "2021-08-31T18:57:31.661Z"
   },
   {
    "duration": 235,
    "start_time": "2021-08-31T18:57:44.243Z"
   },
   {
    "duration": 3,
    "start_time": "2021-08-31T18:58:08.461Z"
   },
   {
    "duration": 239,
    "start_time": "2021-08-31T18:58:22.066Z"
   },
   {
    "duration": 8,
    "start_time": "2021-08-31T19:30:05.951Z"
   },
   {
    "duration": 3,
    "start_time": "2021-08-31T19:30:06.014Z"
   },
   {
    "duration": 8,
    "start_time": "2021-08-31T19:30:36.869Z"
   },
   {
    "duration": 7,
    "start_time": "2021-08-31T19:31:32.221Z"
   },
   {
    "duration": 10,
    "start_time": "2021-08-31T19:34:03.714Z"
   },
   {
    "duration": 11,
    "start_time": "2021-08-31T19:34:44.011Z"
   },
   {
    "duration": 273,
    "start_time": "2021-08-31T19:38:05.875Z"
   },
   {
    "duration": 244,
    "start_time": "2021-08-31T19:39:01.328Z"
   },
   {
    "duration": 8,
    "start_time": "2021-08-31T19:39:10.271Z"
   },
   {
    "duration": 7,
    "start_time": "2021-08-31T19:39:12.735Z"
   },
   {
    "duration": 8,
    "start_time": "2021-08-31T19:39:13.959Z"
   },
   {
    "duration": 6,
    "start_time": "2021-08-31T19:39:16.397Z"
   },
   {
    "duration": 6,
    "start_time": "2021-08-31T19:39:29.885Z"
   },
   {
    "duration": 10,
    "start_time": "2021-08-31T19:39:41.416Z"
   },
   {
    "duration": 8,
    "start_time": "2021-08-31T19:40:16.330Z"
   },
   {
    "duration": 9,
    "start_time": "2021-08-31T19:40:18.219Z"
   },
   {
    "duration": 9,
    "start_time": "2021-08-31T19:40:27.375Z"
   },
   {
    "duration": 9,
    "start_time": "2021-08-31T19:40:52.993Z"
   },
   {
    "duration": 9,
    "start_time": "2021-08-31T19:41:43.091Z"
   },
   {
    "duration": 516,
    "start_time": "2021-08-31T19:45:45.649Z"
   },
   {
    "duration": 498,
    "start_time": "2021-08-31T19:46:08.087Z"
   },
   {
    "duration": 486,
    "start_time": "2021-08-31T19:48:50.457Z"
   },
   {
    "duration": 472,
    "start_time": "2021-08-31T19:49:03.962Z"
   },
   {
    "duration": 1067,
    "start_time": "2021-08-31T19:50:11.429Z"
   },
   {
    "duration": 1268,
    "start_time": "2021-08-31T19:50:23.223Z"
   },
   {
    "duration": 34,
    "start_time": "2021-08-31T19:50:32.278Z"
   },
   {
    "duration": 39,
    "start_time": "2021-08-31T19:50:43.085Z"
   },
   {
    "duration": 280,
    "start_time": "2021-08-31T19:51:33.401Z"
   },
   {
    "duration": 38,
    "start_time": "2021-08-31T19:51:56.874Z"
   },
   {
    "duration": 2,
    "start_time": "2021-08-31T20:01:03.822Z"
   },
   {
    "duration": 56,
    "start_time": "2021-08-31T20:01:03.828Z"
   },
   {
    "duration": 11,
    "start_time": "2021-08-31T20:01:03.886Z"
   },
   {
    "duration": 30,
    "start_time": "2021-08-31T20:01:03.899Z"
   },
   {
    "duration": 15,
    "start_time": "2021-08-31T20:01:03.931Z"
   },
   {
    "duration": 18,
    "start_time": "2021-08-31T20:01:03.948Z"
   },
   {
    "duration": 6,
    "start_time": "2021-08-31T20:01:03.968Z"
   },
   {
    "duration": 18,
    "start_time": "2021-08-31T20:01:03.976Z"
   },
   {
    "duration": 17,
    "start_time": "2021-08-31T20:01:03.997Z"
   },
   {
    "duration": 21,
    "start_time": "2021-08-31T20:01:04.016Z"
   },
   {
    "duration": 10,
    "start_time": "2021-08-31T20:01:04.040Z"
   },
   {
    "duration": 20,
    "start_time": "2021-08-31T20:01:04.052Z"
   },
   {
    "duration": 21,
    "start_time": "2021-08-31T20:01:04.074Z"
   },
   {
    "duration": 16,
    "start_time": "2021-08-31T20:01:04.097Z"
   },
   {
    "duration": 16,
    "start_time": "2021-08-31T20:01:04.115Z"
   },
   {
    "duration": 17,
    "start_time": "2021-08-31T20:01:04.133Z"
   },
   {
    "duration": 24,
    "start_time": "2021-08-31T20:01:04.152Z"
   },
   {
    "duration": 18,
    "start_time": "2021-08-31T20:01:04.178Z"
   },
   {
    "duration": 23,
    "start_time": "2021-08-31T20:01:04.198Z"
   },
   {
    "duration": 23,
    "start_time": "2021-08-31T20:01:04.223Z"
   },
   {
    "duration": 20,
    "start_time": "2021-08-31T20:01:04.248Z"
   },
   {
    "duration": 18,
    "start_time": "2021-08-31T20:01:04.270Z"
   },
   {
    "duration": 15,
    "start_time": "2021-08-31T20:01:04.290Z"
   },
   {
    "duration": 12,
    "start_time": "2021-08-31T20:01:04.310Z"
   },
   {
    "duration": 25,
    "start_time": "2021-08-31T20:01:04.324Z"
   },
   {
    "duration": 20,
    "start_time": "2021-08-31T20:01:04.350Z"
   },
   {
    "duration": 22,
    "start_time": "2021-08-31T20:01:04.372Z"
   },
   {
    "duration": 18,
    "start_time": "2021-08-31T20:01:04.396Z"
   },
   {
    "duration": 14,
    "start_time": "2021-08-31T20:01:04.416Z"
   },
   {
    "duration": 24,
    "start_time": "2021-08-31T20:01:04.432Z"
   },
   {
    "duration": 19,
    "start_time": "2021-08-31T20:01:04.458Z"
   },
   {
    "duration": 27,
    "start_time": "2021-08-31T20:01:04.479Z"
   },
   {
    "duration": 25,
    "start_time": "2021-08-31T20:01:04.508Z"
   },
   {
    "duration": 6,
    "start_time": "2021-08-31T20:01:04.535Z"
   },
   {
    "duration": 8,
    "start_time": "2021-08-31T20:01:04.542Z"
   },
   {
    "duration": 4077,
    "start_time": "2021-08-31T20:01:04.552Z"
   },
   {
    "duration": 16,
    "start_time": "2021-08-31T20:01:08.631Z"
   },
   {
    "duration": 17,
    "start_time": "2021-08-31T20:01:08.649Z"
   },
   {
    "duration": 31,
    "start_time": "2021-08-31T20:01:08.668Z"
   },
   {
    "duration": 3,
    "start_time": "2021-08-31T20:01:08.701Z"
   },
   {
    "duration": 230,
    "start_time": "2021-08-31T20:01:08.705Z"
   },
   {
    "duration": 8,
    "start_time": "2021-08-31T20:01:08.937Z"
   },
   {
    "duration": 10,
    "start_time": "2021-08-31T20:01:08.947Z"
   },
   {
    "duration": 7,
    "start_time": "2021-08-31T20:01:08.959Z"
   },
   {
    "duration": 229,
    "start_time": "2021-08-31T20:01:08.968Z"
   },
   {
    "duration": 8,
    "start_time": "2021-08-31T20:01:09.199Z"
   },
   {
    "duration": 9,
    "start_time": "2021-08-31T20:01:09.208Z"
   },
   {
    "duration": 243,
    "start_time": "2021-08-31T20:01:09.219Z"
   },
   {
    "duration": 7,
    "start_time": "2021-08-31T20:01:09.464Z"
   },
   {
    "duration": 27,
    "start_time": "2021-08-31T20:01:09.473Z"
   },
   {
    "duration": 4,
    "start_time": "2021-08-31T20:01:09.502Z"
   },
   {
    "duration": 19,
    "start_time": "2021-08-31T20:01:09.508Z"
   },
   {
    "duration": 16,
    "start_time": "2021-08-31T20:01:09.529Z"
   },
   {
    "duration": 4,
    "start_time": "2021-08-31T20:01:09.547Z"
   },
   {
    "duration": 38,
    "start_time": "2021-08-31T20:01:09.553Z"
   },
   {
    "duration": 3,
    "start_time": "2021-08-31T20:01:09.594Z"
   },
   {
    "duration": 12,
    "start_time": "2021-08-31T20:01:09.599Z"
   },
   {
    "duration": 9,
    "start_time": "2021-08-31T20:01:09.613Z"
   },
   {
    "duration": 9,
    "start_time": "2021-08-31T20:01:09.624Z"
   },
   {
    "duration": 16,
    "start_time": "2021-08-31T20:01:09.635Z"
   },
   {
    "duration": 15,
    "start_time": "2021-08-31T20:01:09.652Z"
   },
   {
    "duration": 27,
    "start_time": "2021-08-31T20:01:09.669Z"
   },
   {
    "duration": 19,
    "start_time": "2021-08-31T20:01:09.698Z"
   },
   {
    "duration": 12,
    "start_time": "2021-08-31T20:01:09.719Z"
   },
   {
    "duration": 14,
    "start_time": "2021-08-31T20:01:09.733Z"
   },
   {
    "duration": 16,
    "start_time": "2021-08-31T20:01:09.749Z"
   },
   {
    "duration": 8,
    "start_time": "2021-08-31T20:01:09.768Z"
   },
   {
    "duration": 1211,
    "start_time": "2021-08-31T20:01:09.792Z"
   },
   {
    "duration": 8,
    "start_time": "2021-08-31T20:02:41.182Z"
   },
   {
    "duration": 8,
    "start_time": "2021-08-31T20:03:10.307Z"
   },
   {
    "duration": 9,
    "start_time": "2021-08-31T20:03:13.443Z"
   },
   {
    "duration": 3,
    "start_time": "2021-08-31T20:03:16.436Z"
   },
   {
    "duration": 1236,
    "start_time": "2021-08-31T20:03:19.636Z"
   },
   {
    "duration": 1224,
    "start_time": "2021-08-31T20:04:17.689Z"
   },
   {
    "duration": 3,
    "start_time": "2021-08-31T20:06:11.402Z"
   },
   {
    "duration": 1170,
    "start_time": "2021-08-31T20:06:12.710Z"
   },
   {
    "duration": 79,
    "start_time": "2021-08-31T20:09:52.212Z"
   },
   {
    "duration": 3,
    "start_time": "2021-08-31T20:10:15.189Z"
   },
   {
    "duration": 942,
    "start_time": "2021-08-31T20:10:38.059Z"
   },
   {
    "duration": 1001,
    "start_time": "2021-08-31T20:10:48.738Z"
   },
   {
    "duration": 1165,
    "start_time": "2021-08-31T20:10:58.876Z"
   },
   {
    "duration": 2,
    "start_time": "2021-08-31T20:11:12.547Z"
   },
   {
    "duration": 70,
    "start_time": "2021-08-31T20:11:12.551Z"
   },
   {
    "duration": 10,
    "start_time": "2021-08-31T20:11:12.623Z"
   },
   {
    "duration": 12,
    "start_time": "2021-08-31T20:11:12.635Z"
   },
   {
    "duration": 15,
    "start_time": "2021-08-31T20:11:12.649Z"
   },
   {
    "duration": 12,
    "start_time": "2021-08-31T20:11:12.692Z"
   },
   {
    "duration": 5,
    "start_time": "2021-08-31T20:11:12.706Z"
   },
   {
    "duration": 6,
    "start_time": "2021-08-31T20:11:12.712Z"
   },
   {
    "duration": 8,
    "start_time": "2021-08-31T20:11:12.720Z"
   },
   {
    "duration": 8,
    "start_time": "2021-08-31T20:11:12.730Z"
   },
   {
    "duration": 4,
    "start_time": "2021-08-31T20:11:12.740Z"
   },
   {
    "duration": 50,
    "start_time": "2021-08-31T20:11:12.745Z"
   },
   {
    "duration": 5,
    "start_time": "2021-08-31T20:11:12.796Z"
   },
   {
    "duration": 8,
    "start_time": "2021-08-31T20:11:12.803Z"
   },
   {
    "duration": 5,
    "start_time": "2021-08-31T20:11:12.812Z"
   },
   {
    "duration": 18,
    "start_time": "2021-08-31T20:11:12.819Z"
   },
   {
    "duration": 9,
    "start_time": "2021-08-31T20:11:12.838Z"
   },
   {
    "duration": 13,
    "start_time": "2021-08-31T20:11:12.849Z"
   },
   {
    "duration": 28,
    "start_time": "2021-08-31T20:11:12.864Z"
   },
   {
    "duration": 15,
    "start_time": "2021-08-31T20:11:12.894Z"
   },
   {
    "duration": 10,
    "start_time": "2021-08-31T20:11:12.911Z"
   },
   {
    "duration": 10,
    "start_time": "2021-08-31T20:11:12.923Z"
   },
   {
    "duration": 6,
    "start_time": "2021-08-31T20:11:12.935Z"
   },
   {
    "duration": 9,
    "start_time": "2021-08-31T20:11:12.942Z"
   },
   {
    "duration": 14,
    "start_time": "2021-08-31T20:11:12.953Z"
   },
   {
    "duration": 22,
    "start_time": "2021-08-31T20:11:12.969Z"
   },
   {
    "duration": 12,
    "start_time": "2021-08-31T20:11:12.997Z"
   },
   {
    "duration": 13,
    "start_time": "2021-08-31T20:11:13.011Z"
   },
   {
    "duration": 14,
    "start_time": "2021-08-31T20:11:13.026Z"
   },
   {
    "duration": 22,
    "start_time": "2021-08-31T20:11:13.042Z"
   },
   {
    "duration": 41,
    "start_time": "2021-08-31T20:11:13.066Z"
   },
   {
    "duration": 16,
    "start_time": "2021-08-31T20:11:13.108Z"
   },
   {
    "duration": 27,
    "start_time": "2021-08-31T20:11:13.126Z"
   },
   {
    "duration": 4,
    "start_time": "2021-08-31T20:11:13.155Z"
   },
   {
    "duration": 31,
    "start_time": "2021-08-31T20:11:13.160Z"
   },
   {
    "duration": 3549,
    "start_time": "2021-08-31T20:11:13.193Z"
   },
   {
    "duration": 12,
    "start_time": "2021-08-31T20:11:16.744Z"
   },
   {
    "duration": 16,
    "start_time": "2021-08-31T20:11:16.757Z"
   },
   {
    "duration": 9,
    "start_time": "2021-08-31T20:11:16.791Z"
   },
   {
    "duration": 3,
    "start_time": "2021-08-31T20:11:16.801Z"
   },
   {
    "duration": 225,
    "start_time": "2021-08-31T20:11:16.805Z"
   },
   {
    "duration": 6,
    "start_time": "2021-08-31T20:11:17.032Z"
   },
   {
    "duration": 4,
    "start_time": "2021-08-31T20:11:17.040Z"
   },
   {
    "duration": 4,
    "start_time": "2021-08-31T20:11:17.046Z"
   },
   {
    "duration": 227,
    "start_time": "2021-08-31T20:11:17.051Z"
   },
   {
    "duration": 12,
    "start_time": "2021-08-31T20:11:17.280Z"
   },
   {
    "duration": 6,
    "start_time": "2021-08-31T20:11:17.294Z"
   },
   {
    "duration": 223,
    "start_time": "2021-08-31T20:11:17.302Z"
   },
   {
    "duration": 7,
    "start_time": "2021-08-31T20:11:17.526Z"
   },
   {
    "duration": 29,
    "start_time": "2021-08-31T20:11:17.534Z"
   },
   {
    "duration": 3,
    "start_time": "2021-08-31T20:11:17.565Z"
   },
   {
    "duration": 19,
    "start_time": "2021-08-31T20:11:17.569Z"
   },
   {
    "duration": 10,
    "start_time": "2021-08-31T20:11:17.590Z"
   },
   {
    "duration": 14,
    "start_time": "2021-08-31T20:11:17.601Z"
   },
   {
    "duration": 24,
    "start_time": "2021-08-31T20:11:17.617Z"
   },
   {
    "duration": 14,
    "start_time": "2021-08-31T20:11:17.643Z"
   },
   {
    "duration": 25,
    "start_time": "2021-08-31T20:11:17.658Z"
   },
   {
    "duration": 28,
    "start_time": "2021-08-31T20:11:17.685Z"
   },
   {
    "duration": 18,
    "start_time": "2021-08-31T20:11:17.714Z"
   },
   {
    "duration": 22,
    "start_time": "2021-08-31T20:11:17.734Z"
   },
   {
    "duration": 24,
    "start_time": "2021-08-31T20:11:17.758Z"
   },
   {
    "duration": 15,
    "start_time": "2021-08-31T20:11:17.784Z"
   },
   {
    "duration": 16,
    "start_time": "2021-08-31T20:11:17.801Z"
   },
   {
    "duration": 30,
    "start_time": "2021-08-31T20:11:17.819Z"
   },
   {
    "duration": 28,
    "start_time": "2021-08-31T20:11:17.851Z"
   },
   {
    "duration": 23,
    "start_time": "2021-08-31T20:11:17.881Z"
   },
   {
    "duration": 14,
    "start_time": "2021-08-31T20:11:17.906Z"
   },
   {
    "duration": 1176,
    "start_time": "2021-08-31T20:11:17.922Z"
   },
   {
    "duration": 3239,
    "start_time": "2021-08-31T20:11:53.511Z"
   },
   {
    "duration": 1212,
    "start_time": "2021-08-31T20:12:23.339Z"
   },
   {
    "duration": 4,
    "start_time": "2021-08-31T20:13:14.535Z"
   },
   {
    "duration": 1156,
    "start_time": "2021-08-31T20:13:15.431Z"
   },
   {
    "duration": 5,
    "start_time": "2021-08-31T20:19:10.859Z"
   },
   {
    "duration": 9,
    "start_time": "2021-08-31T20:19:46.490Z"
   },
   {
    "duration": 4,
    "start_time": "2021-08-31T20:20:33.556Z"
   },
   {
    "duration": 9,
    "start_time": "2021-08-31T20:20:34.117Z"
   },
   {
    "duration": 10,
    "start_time": "2021-08-31T20:21:55.658Z"
   },
   {
    "duration": 1717,
    "start_time": "2021-08-31T20:53:58.942Z"
   },
   {
    "duration": 2025,
    "start_time": "2021-08-31T20:54:51.450Z"
   },
   {
    "duration": 6,
    "start_time": "2021-08-31T20:59:12.213Z"
   },
   {
    "duration": 274,
    "start_time": "2021-08-31T20:59:51.555Z"
   },
   {
    "duration": 4,
    "start_time": "2021-08-31T21:13:25.192Z"
   },
   {
    "duration": 3638,
    "start_time": "2021-08-31T21:13:46.710Z"
   },
   {
    "duration": 15,
    "start_time": "2021-08-31T21:13:53.521Z"
   },
   {
    "duration": 3343,
    "start_time": "2021-08-31T21:14:20.475Z"
   },
   {
    "duration": 3139,
    "start_time": "2021-08-31T21:14:42.725Z"
   },
   {
    "duration": 3537,
    "start_time": "2021-08-31T21:15:44.105Z"
   },
   {
    "duration": 8,
    "start_time": "2021-08-31T21:15:52.329Z"
   },
   {
    "duration": 5209,
    "start_time": "2021-08-31T21:16:24.783Z"
   },
   {
    "duration": 3594,
    "start_time": "2021-08-31T21:16:54.264Z"
   },
   {
    "duration": 4,
    "start_time": "2021-08-31T21:18:58.561Z"
   },
   {
    "duration": 8,
    "start_time": "2021-08-31T21:19:19.664Z"
   },
   {
    "duration": 213,
    "start_time": "2021-09-01T07:51:46.414Z"
   },
   {
    "duration": 565,
    "start_time": "2021-09-01T07:51:50.189Z"
   },
   {
    "duration": 52,
    "start_time": "2021-09-01T07:51:50.755Z"
   },
   {
    "duration": 11,
    "start_time": "2021-09-01T07:51:50.809Z"
   },
   {
    "duration": 17,
    "start_time": "2021-09-01T07:51:50.822Z"
   },
   {
    "duration": 11,
    "start_time": "2021-09-01T07:51:50.840Z"
   },
   {
    "duration": 33,
    "start_time": "2021-09-01T07:51:50.852Z"
   },
   {
    "duration": 5,
    "start_time": "2021-09-01T07:51:50.887Z"
   },
   {
    "duration": 9,
    "start_time": "2021-09-01T07:51:50.893Z"
   },
   {
    "duration": 5,
    "start_time": "2021-09-01T07:51:50.904Z"
   },
   {
    "duration": 12,
    "start_time": "2021-09-01T07:51:50.911Z"
   },
   {
    "duration": 12,
    "start_time": "2021-09-01T07:51:50.924Z"
   },
   {
    "duration": 22,
    "start_time": "2021-09-01T07:51:50.938Z"
   },
   {
    "duration": 10,
    "start_time": "2021-09-01T07:51:50.962Z"
   },
   {
    "duration": 11,
    "start_time": "2021-09-01T07:51:50.974Z"
   },
   {
    "duration": 11,
    "start_time": "2021-09-01T07:51:50.987Z"
   },
   {
    "duration": 16,
    "start_time": "2021-09-01T07:51:51.000Z"
   },
   {
    "duration": 7,
    "start_time": "2021-09-01T07:51:51.018Z"
   },
   {
    "duration": 15,
    "start_time": "2021-09-01T07:51:51.027Z"
   },
   {
    "duration": 17,
    "start_time": "2021-09-01T07:51:51.043Z"
   },
   {
    "duration": 15,
    "start_time": "2021-09-01T07:51:51.062Z"
   },
   {
    "duration": 6,
    "start_time": "2021-09-01T07:51:51.084Z"
   },
   {
    "duration": 6,
    "start_time": "2021-09-01T07:51:51.092Z"
   },
   {
    "duration": 5,
    "start_time": "2021-09-01T07:51:51.100Z"
   },
   {
    "duration": 9,
    "start_time": "2021-09-01T07:51:51.107Z"
   },
   {
    "duration": 9,
    "start_time": "2021-09-01T07:51:51.118Z"
   },
   {
    "duration": 6,
    "start_time": "2021-09-01T07:51:51.129Z"
   },
   {
    "duration": 14,
    "start_time": "2021-09-01T07:51:51.139Z"
   },
   {
    "duration": 37,
    "start_time": "2021-09-01T07:51:51.155Z"
   },
   {
    "duration": 14,
    "start_time": "2021-09-01T07:51:51.194Z"
   },
   {
    "duration": 18,
    "start_time": "2021-09-01T07:51:51.210Z"
   },
   {
    "duration": 19,
    "start_time": "2021-09-01T07:51:51.230Z"
   },
   {
    "duration": 41,
    "start_time": "2021-09-01T07:51:51.250Z"
   },
   {
    "duration": 5,
    "start_time": "2021-09-01T07:51:51.293Z"
   },
   {
    "duration": 12,
    "start_time": "2021-09-01T07:51:51.300Z"
   },
   {
    "duration": 11,
    "start_time": "2021-09-01T07:51:51.313Z"
   },
   {
    "duration": 3865,
    "start_time": "2021-09-01T07:51:51.325Z"
   },
   {
    "duration": 10,
    "start_time": "2021-09-01T07:51:55.192Z"
   },
   {
    "duration": 29,
    "start_time": "2021-09-01T07:51:55.204Z"
   },
   {
    "duration": 27,
    "start_time": "2021-09-01T07:51:55.235Z"
   },
   {
    "duration": 15,
    "start_time": "2021-09-01T07:51:55.264Z"
   },
   {
    "duration": 10,
    "start_time": "2021-09-01T07:51:55.281Z"
   },
   {
    "duration": 225,
    "start_time": "2021-09-01T07:51:55.292Z"
   },
   {
    "duration": 6,
    "start_time": "2021-09-01T07:51:55.519Z"
   },
   {
    "duration": 17,
    "start_time": "2021-09-01T07:51:55.527Z"
   },
   {
    "duration": 14,
    "start_time": "2021-09-01T07:51:55.546Z"
   },
   {
    "duration": 236,
    "start_time": "2021-09-01T07:51:55.561Z"
   },
   {
    "duration": 6,
    "start_time": "2021-09-01T07:51:55.799Z"
   },
   {
    "duration": 10,
    "start_time": "2021-09-01T07:51:55.807Z"
   },
   {
    "duration": 243,
    "start_time": "2021-09-01T07:51:55.819Z"
   },
   {
    "duration": 8,
    "start_time": "2021-09-01T07:51:56.063Z"
   },
   {
    "duration": 16,
    "start_time": "2021-09-01T07:51:56.072Z"
   },
   {
    "duration": 6,
    "start_time": "2021-09-01T07:51:56.090Z"
   },
   {
    "duration": 12,
    "start_time": "2021-09-01T07:51:56.097Z"
   },
   {
    "duration": 9,
    "start_time": "2021-09-01T07:51:56.111Z"
   },
   {
    "duration": 9,
    "start_time": "2021-09-01T07:51:56.121Z"
   },
   {
    "duration": 13,
    "start_time": "2021-09-01T07:51:56.131Z"
   },
   {
    "duration": 5,
    "start_time": "2021-09-01T07:51:56.146Z"
   },
   {
    "duration": 31,
    "start_time": "2021-09-01T07:51:56.153Z"
   },
   {
    "duration": 6,
    "start_time": "2021-09-01T07:51:56.186Z"
   },
   {
    "duration": 11,
    "start_time": "2021-09-01T07:51:56.194Z"
   },
   {
    "duration": 12,
    "start_time": "2021-09-01T07:51:56.206Z"
   },
   {
    "duration": 7,
    "start_time": "2021-09-01T07:51:56.220Z"
   },
   {
    "duration": 9,
    "start_time": "2021-09-01T07:51:56.229Z"
   },
   {
    "duration": 18,
    "start_time": "2021-09-01T07:51:56.239Z"
   },
   {
    "duration": 25,
    "start_time": "2021-09-01T07:51:56.259Z"
   },
   {
    "duration": 8,
    "start_time": "2021-09-01T07:51:56.286Z"
   },
   {
    "duration": 10,
    "start_time": "2021-09-01T07:51:56.296Z"
   },
   {
    "duration": 3,
    "start_time": "2021-09-01T07:51:56.308Z"
   },
   {
    "duration": 11,
    "start_time": "2021-09-01T07:51:56.313Z"
   },
   {
    "duration": 4,
    "start_time": "2021-09-01T07:54:51.674Z"
   },
   {
    "duration": 6,
    "start_time": "2021-09-01T07:55:11.122Z"
   },
   {
    "duration": 219,
    "start_time": "2021-09-01T07:59:58.248Z"
   },
   {
    "duration": 6,
    "start_time": "2021-09-01T08:00:14.879Z"
   },
   {
    "duration": 3691,
    "start_time": "2021-09-01T08:04:15.143Z"
   },
   {
    "duration": 3,
    "start_time": "2021-09-01T08:04:23.617Z"
   },
   {
    "duration": 10,
    "start_time": "2021-09-01T08:10:09.777Z"
   },
   {
    "duration": 64,
    "start_time": "2021-09-01T08:10:09.815Z"
   },
   {
    "duration": 25,
    "start_time": "2021-09-01T08:10:09.887Z"
   },
   {
    "duration": 19,
    "start_time": "2021-09-01T08:10:09.933Z"
   },
   {
    "duration": 20,
    "start_time": "2021-09-01T08:10:10.010Z"
   },
   {
    "duration": 12,
    "start_time": "2021-09-01T08:10:10.043Z"
   },
   {
    "duration": 13,
    "start_time": "2021-09-01T08:10:10.080Z"
   },
   {
    "duration": 24,
    "start_time": "2021-09-01T08:10:10.116Z"
   },
   {
    "duration": 19,
    "start_time": "2021-09-01T08:10:10.168Z"
   },
   {
    "duration": 10,
    "start_time": "2021-09-01T08:10:10.214Z"
   },
   {
    "duration": 20,
    "start_time": "2021-09-01T08:10:10.249Z"
   },
   {
    "duration": 21,
    "start_time": "2021-09-01T08:10:10.278Z"
   },
   {
    "duration": 15,
    "start_time": "2021-09-01T08:10:10.316Z"
   },
   {
    "duration": 19,
    "start_time": "2021-09-01T08:10:10.372Z"
   },
   {
    "duration": 20,
    "start_time": "2021-09-01T08:10:10.413Z"
   },
   {
    "duration": 12,
    "start_time": "2021-09-01T08:10:10.462Z"
   },
   {
    "duration": 21,
    "start_time": "2021-09-01T08:10:10.505Z"
   },
   {
    "duration": 11,
    "start_time": "2021-09-01T08:10:10.550Z"
   },
   {
    "duration": 11,
    "start_time": "2021-09-01T08:10:10.585Z"
   },
   {
    "duration": 7,
    "start_time": "2021-09-01T08:10:10.623Z"
   },
   {
    "duration": 5,
    "start_time": "2021-09-01T08:10:10.652Z"
   },
   {
    "duration": 3,
    "start_time": "2021-09-01T08:10:10.712Z"
   },
   {
    "duration": 7,
    "start_time": "2021-09-01T08:10:10.728Z"
   },
   {
    "duration": 10,
    "start_time": "2021-09-01T08:10:10.744Z"
   },
   {
    "duration": -287,
    "start_time": "2021-09-01T08:15:57.050Z"
   },
   {
    "duration": -296,
    "start_time": "2021-09-01T08:15:57.060Z"
   },
   {
    "duration": -304,
    "start_time": "2021-09-01T08:15:57.069Z"
   },
   {
    "duration": -309,
    "start_time": "2021-09-01T08:15:57.075Z"
   },
   {
    "duration": -314,
    "start_time": "2021-09-01T08:15:57.081Z"
   },
   {
    "duration": -319,
    "start_time": "2021-09-01T08:15:57.087Z"
   },
   {
    "duration": -323,
    "start_time": "2021-09-01T08:15:57.092Z"
   },
   {
    "duration": -330,
    "start_time": "2021-09-01T08:15:57.100Z"
   },
   {
    "duration": -334,
    "start_time": "2021-09-01T08:15:57.105Z"
   },
   {
    "duration": -339,
    "start_time": "2021-09-01T08:15:57.111Z"
   },
   {
    "duration": -343,
    "start_time": "2021-09-01T08:15:57.116Z"
   },
   {
    "duration": -347,
    "start_time": "2021-09-01T08:15:57.121Z"
   },
   {
    "duration": -352,
    "start_time": "2021-09-01T08:15:57.127Z"
   },
   {
    "duration": -356,
    "start_time": "2021-09-01T08:15:57.132Z"
   },
   {
    "duration": -361,
    "start_time": "2021-09-01T08:15:57.138Z"
   },
   {
    "duration": -366,
    "start_time": "2021-09-01T08:15:57.144Z"
   },
   {
    "duration": -370,
    "start_time": "2021-09-01T08:15:57.149Z"
   },
   {
    "duration": -370,
    "start_time": "2021-09-01T08:15:57.155Z"
   },
   {
    "duration": -372,
    "start_time": "2021-09-01T08:15:57.158Z"
   },
   {
    "duration": -375,
    "start_time": "2021-09-01T08:15:57.162Z"
   },
   {
    "duration": -378,
    "start_time": "2021-09-01T08:15:57.166Z"
   },
   {
    "duration": -383,
    "start_time": "2021-09-01T08:15:57.172Z"
   },
   {
    "duration": -387,
    "start_time": "2021-09-01T08:15:57.177Z"
   },
   {
    "duration": -389,
    "start_time": "2021-09-01T08:15:57.181Z"
   },
   {
    "duration": -385,
    "start_time": "2021-09-01T08:15:57.184Z"
   },
   {
    "duration": -387,
    "start_time": "2021-09-01T08:15:57.188Z"
   },
   {
    "duration": -390,
    "start_time": "2021-09-01T08:15:57.192Z"
   },
   {
    "duration": -392,
    "start_time": "2021-09-01T08:15:57.196Z"
   },
   {
    "duration": -396,
    "start_time": "2021-09-01T08:15:57.201Z"
   },
   {
    "duration": -399,
    "start_time": "2021-09-01T08:15:57.206Z"
   },
   {
    "duration": -401,
    "start_time": "2021-09-01T08:15:57.209Z"
   },
   {
    "duration": -403,
    "start_time": "2021-09-01T08:15:57.213Z"
   },
   {
    "duration": -405,
    "start_time": "2021-09-01T08:15:57.216Z"
   },
   {
    "duration": -406,
    "start_time": "2021-09-01T08:15:57.219Z"
   },
   {
    "duration": -408,
    "start_time": "2021-09-01T08:15:57.222Z"
   },
   {
    "duration": -410,
    "start_time": "2021-09-01T08:15:57.225Z"
   },
   {
    "duration": -411,
    "start_time": "2021-09-01T08:15:57.228Z"
   },
   {
    "duration": -414,
    "start_time": "2021-09-01T08:15:57.232Z"
   },
   {
    "duration": -415,
    "start_time": "2021-09-01T08:15:57.235Z"
   },
   {
    "duration": -417,
    "start_time": "2021-09-01T08:15:57.238Z"
   },
   {
    "duration": -425,
    "start_time": "2021-09-01T08:15:57.247Z"
   },
   {
    "duration": -431,
    "start_time": "2021-09-01T08:15:57.255Z"
   },
   {
    "duration": -437,
    "start_time": "2021-09-01T08:15:57.262Z"
   },
   {
    "duration": -447,
    "start_time": "2021-09-01T08:15:57.273Z"
   },
   {
    "duration": -454,
    "start_time": "2021-09-01T08:15:57.280Z"
   },
   {
    "duration": -457,
    "start_time": "2021-09-01T08:15:57.284Z"
   },
   {
    "duration": -459,
    "start_time": "2021-09-01T08:15:57.287Z"
   },
   {
    "duration": -462,
    "start_time": "2021-09-01T08:15:57.291Z"
   },
   {
    "duration": -402,
    "start_time": "2021-09-01T08:15:57.295Z"
   },
   {
    "duration": -405,
    "start_time": "2021-09-01T08:15:57.299Z"
   },
   {
    "duration": -408,
    "start_time": "2021-09-01T08:15:57.303Z"
   },
   {
    "duration": -412,
    "start_time": "2021-09-01T08:15:57.307Z"
   },
   {
    "duration": -416,
    "start_time": "2021-09-01T08:15:57.312Z"
   },
   {
    "duration": -418,
    "start_time": "2021-09-01T08:15:57.316Z"
   },
   {
    "duration": -420,
    "start_time": "2021-09-01T08:15:57.319Z"
   },
   {
    "duration": -422,
    "start_time": "2021-09-01T08:15:57.322Z"
   },
   {
    "duration": -425,
    "start_time": "2021-09-01T08:15:57.326Z"
   },
   {
    "duration": -428,
    "start_time": "2021-09-01T08:15:57.330Z"
   },
   {
    "duration": -429,
    "start_time": "2021-09-01T08:15:57.332Z"
   },
   {
    "duration": -432,
    "start_time": "2021-09-01T08:15:57.336Z"
   },
   {
    "duration": -434,
    "start_time": "2021-09-01T08:15:57.339Z"
   },
   {
    "duration": -437,
    "start_time": "2021-09-01T08:15:57.343Z"
   },
   {
    "duration": -440,
    "start_time": "2021-09-01T08:15:57.346Z"
   },
   {
    "duration": -441,
    "start_time": "2021-09-01T08:15:57.349Z"
   },
   {
    "duration": -443,
    "start_time": "2021-09-01T08:15:57.352Z"
   },
   {
    "duration": -446,
    "start_time": "2021-09-01T08:15:57.356Z"
   },
   {
    "duration": -449,
    "start_time": "2021-09-01T08:15:57.360Z"
   },
   {
    "duration": -466,
    "start_time": "2021-09-01T08:15:57.377Z"
   },
   {
    "duration": -364,
    "start_time": "2021-09-01T08:15:57.382Z"
   },
   {
    "duration": 2,
    "start_time": "2021-09-01T08:19:37.936Z"
   },
   {
    "duration": 52,
    "start_time": "2021-09-01T08:19:38.413Z"
   },
   {
    "duration": 12,
    "start_time": "2021-09-01T08:19:38.940Z"
   },
   {
    "duration": 16,
    "start_time": "2021-09-01T08:19:39.944Z"
   },
   {
    "duration": 13,
    "start_time": "2021-09-01T08:19:42.194Z"
   },
   {
    "duration": 16,
    "start_time": "2021-09-01T08:19:44.480Z"
   },
   {
    "duration": 9,
    "start_time": "2021-09-01T08:19:44.892Z"
   },
   {
    "duration": 4,
    "start_time": "2021-09-01T08:19:45.309Z"
   },
   {
    "duration": 6,
    "start_time": "2021-09-01T08:19:45.589Z"
   },
   {
    "duration": 7,
    "start_time": "2021-09-01T08:19:45.754Z"
   },
   {
    "duration": 4,
    "start_time": "2021-09-01T08:19:45.937Z"
   },
   {
    "duration": 12,
    "start_time": "2021-09-01T08:19:46.106Z"
   },
   {
    "duration": 6,
    "start_time": "2021-09-01T08:19:46.267Z"
   },
   {
    "duration": 7,
    "start_time": "2021-09-01T08:19:46.440Z"
   },
   {
    "duration": 4,
    "start_time": "2021-09-01T08:19:46.619Z"
   },
   {
    "duration": 9,
    "start_time": "2021-09-01T08:19:46.793Z"
   },
   {
    "duration": 9,
    "start_time": "2021-09-01T08:19:46.979Z"
   },
   {
    "duration": 8,
    "start_time": "2021-09-01T08:19:47.163Z"
   },
   {
    "duration": 7,
    "start_time": "2021-09-01T08:19:47.337Z"
   },
   {
    "duration": 12,
    "start_time": "2021-09-01T08:19:47.514Z"
   },
   {
    "duration": 10,
    "start_time": "2021-09-01T08:19:47.688Z"
   },
   {
    "duration": 6,
    "start_time": "2021-09-01T08:19:47.857Z"
   },
   {
    "duration": 4,
    "start_time": "2021-09-01T08:19:50.062Z"
   },
   {
    "duration": 4,
    "start_time": "2021-09-01T08:19:50.355Z"
   },
   {
    "duration": 8,
    "start_time": "2021-09-01T08:19:50.527Z"
   },
   {
    "duration": 9,
    "start_time": "2021-09-01T08:19:50.689Z"
   },
   {
    "duration": 12,
    "start_time": "2021-09-01T08:19:50.850Z"
   },
   {
    "duration": 11,
    "start_time": "2021-09-01T08:19:52.911Z"
   },
   {
    "duration": 8,
    "start_time": "2021-09-01T08:19:53.369Z"
   },
   {
    "duration": 20,
    "start_time": "2021-09-01T08:19:55.258Z"
   },
   {
    "duration": 25,
    "start_time": "2021-09-01T08:19:55.749Z"
   },
   {
    "duration": 21,
    "start_time": "2021-09-01T08:19:56.191Z"
   },
   {
    "duration": 22,
    "start_time": "2021-09-01T08:19:59.054Z"
   },
   {
    "duration": 6,
    "start_time": "2021-09-01T08:19:59.754Z"
   },
   {
    "duration": 4,
    "start_time": "2021-09-01T08:20:00.603Z"
   },
   {
    "duration": 176665,
    "start_time": "2021-09-01T08:20:01.706Z"
   },
   {
    "duration": 22,
    "start_time": "2021-09-01T08:22:58.373Z"
   },
   {
    "duration": 12,
    "start_time": "2021-09-01T08:22:58.397Z"
   },
   {
    "duration": 12,
    "start_time": "2021-09-01T08:22:58.410Z"
   },
   {
    "duration": 8,
    "start_time": "2021-09-01T08:22:58.424Z"
   },
   {
    "duration": 3,
    "start_time": "2021-09-01T08:22:58.433Z"
   },
   {
    "duration": 260,
    "start_time": "2021-09-01T08:22:58.437Z"
   },
   {
    "duration": 2,
    "start_time": "2021-09-01T08:45:05.432Z"
   },
   {
    "duration": 498,
    "start_time": "2021-09-01T08:45:06.441Z"
   },
   {
    "duration": 3,
    "start_time": "2021-09-01T08:45:21.932Z"
   },
   {
    "duration": 445,
    "start_time": "2021-09-01T08:45:24.571Z"
   },
   {
    "duration": 2996,
    "start_time": "2021-09-01T08:46:59.946Z"
   },
   {
    "duration": 14,
    "start_time": "2021-09-01T08:47:02.986Z"
   },
   {
    "duration": 3,
    "start_time": "2021-09-01T08:47:12.665Z"
   },
   {
    "duration": 52,
    "start_time": "2021-09-01T08:47:12.670Z"
   },
   {
    "duration": 10,
    "start_time": "2021-09-01T08:47:12.724Z"
   },
   {
    "duration": 10,
    "start_time": "2021-09-01T08:47:12.736Z"
   },
   {
    "duration": 13,
    "start_time": "2021-09-01T08:47:12.748Z"
   },
   {
    "duration": 14,
    "start_time": "2021-09-01T08:47:12.785Z"
   },
   {
    "duration": 10,
    "start_time": "2021-09-01T08:47:12.801Z"
   },
   {
    "duration": 5,
    "start_time": "2021-09-01T08:47:12.813Z"
   },
   {
    "duration": 7,
    "start_time": "2021-09-01T08:47:12.821Z"
   },
   {
    "duration": 8,
    "start_time": "2021-09-01T08:47:12.830Z"
   },
   {
    "duration": 4,
    "start_time": "2021-09-01T08:47:12.841Z"
   },
   {
    "duration": 15,
    "start_time": "2021-09-01T08:47:12.886Z"
   },
   {
    "duration": 7,
    "start_time": "2021-09-01T08:47:12.903Z"
   },
   {
    "duration": 7,
    "start_time": "2021-09-01T08:47:12.912Z"
   },
   {
    "duration": 9,
    "start_time": "2021-09-01T08:47:12.921Z"
   },
   {
    "duration": 53,
    "start_time": "2021-09-01T08:47:12.932Z"
   },
   {
    "duration": 7,
    "start_time": "2021-09-01T08:47:12.987Z"
   },
   {
    "duration": 9,
    "start_time": "2021-09-01T08:47:12.995Z"
   },
   {
    "duration": 8,
    "start_time": "2021-09-01T08:47:13.006Z"
   },
   {
    "duration": 18,
    "start_time": "2021-09-01T08:47:13.016Z"
   },
   {
    "duration": 8,
    "start_time": "2021-09-01T08:47:13.036Z"
   },
   {
    "duration": 6,
    "start_time": "2021-09-01T08:47:13.046Z"
   },
   {
    "duration": 3,
    "start_time": "2021-09-01T08:47:13.054Z"
   },
   {
    "duration": 3,
    "start_time": "2021-09-01T08:47:13.085Z"
   },
   {
    "duration": 12,
    "start_time": "2021-09-01T08:47:13.090Z"
   },
   {
    "duration": 5,
    "start_time": "2021-09-01T08:47:13.104Z"
   },
   {
    "duration": 9,
    "start_time": "2021-09-01T08:47:13.114Z"
   },
   {
    "duration": 11,
    "start_time": "2021-09-01T08:47:13.125Z"
   },
   {
    "duration": 9,
    "start_time": "2021-09-01T08:47:13.138Z"
   },
   {
    "duration": 38,
    "start_time": "2021-09-01T08:47:13.149Z"
   },
   {
    "duration": 16,
    "start_time": "2021-09-01T08:47:13.189Z"
   },
   {
    "duration": 15,
    "start_time": "2021-09-01T08:47:13.207Z"
   },
   {
    "duration": 2,
    "start_time": "2021-09-01T08:47:13.224Z"
   },
   {
    "duration": 9,
    "start_time": "2021-09-01T08:47:13.228Z"
   },
   {
    "duration": 3,
    "start_time": "2021-09-01T08:47:13.239Z"
   },
   {
    "duration": 3359,
    "start_time": "2021-09-01T08:47:13.243Z"
   },
   {
    "duration": 14,
    "start_time": "2021-09-01T08:47:16.605Z"
   },
   {
    "duration": 17,
    "start_time": "2021-09-01T08:47:16.620Z"
   },
   {
    "duration": 10,
    "start_time": "2021-09-01T08:47:16.639Z"
   },
   {
    "duration": 34,
    "start_time": "2021-09-01T08:47:16.651Z"
   },
   {
    "duration": 235,
    "start_time": "2021-09-01T08:47:16.687Z"
   },
   {
    "duration": 8,
    "start_time": "2021-09-01T08:47:16.924Z"
   },
   {
    "duration": 5,
    "start_time": "2021-09-01T08:47:16.934Z"
   },
   {
    "duration": 4,
    "start_time": "2021-09-01T08:47:16.941Z"
   },
   {
    "duration": 240,
    "start_time": "2021-09-01T08:47:16.947Z"
   },
   {
    "duration": 8,
    "start_time": "2021-09-01T08:47:17.189Z"
   },
   {
    "duration": 16,
    "start_time": "2021-09-01T08:47:17.199Z"
   },
   {
    "duration": 245,
    "start_time": "2021-09-01T08:47:17.217Z"
   },
   {
    "duration": 8,
    "start_time": "2021-09-01T08:47:17.463Z"
   },
   {
    "duration": 20,
    "start_time": "2021-09-01T08:47:17.472Z"
   },
   {
    "duration": 13,
    "start_time": "2021-09-01T08:47:17.493Z"
   },
   {
    "duration": 24,
    "start_time": "2021-09-01T08:47:17.507Z"
   },
   {
    "duration": 14,
    "start_time": "2021-09-01T08:47:17.532Z"
   },
   {
    "duration": 16,
    "start_time": "2021-09-01T08:47:17.547Z"
   },
   {
    "duration": 16,
    "start_time": "2021-09-01T08:47:17.565Z"
   },
   {
    "duration": 17,
    "start_time": "2021-09-01T08:47:17.583Z"
   },
   {
    "duration": 26,
    "start_time": "2021-09-01T08:47:17.601Z"
   },
   {
    "duration": 17,
    "start_time": "2021-09-01T08:47:17.628Z"
   },
   {
    "duration": 8,
    "start_time": "2021-09-01T08:47:17.646Z"
   },
   {
    "duration": 10,
    "start_time": "2021-09-01T08:47:17.656Z"
   },
   {
    "duration": 8,
    "start_time": "2021-09-01T08:47:17.667Z"
   },
   {
    "duration": 4,
    "start_time": "2021-09-01T08:47:17.677Z"
   },
   {
    "duration": 8,
    "start_time": "2021-09-01T08:47:17.682Z"
   },
   {
    "duration": 12,
    "start_time": "2021-09-01T08:47:17.692Z"
   },
   {
    "duration": 9,
    "start_time": "2021-09-01T08:47:17.705Z"
   },
   {
    "duration": 11,
    "start_time": "2021-09-01T08:47:17.715Z"
   },
   {
    "duration": 4,
    "start_time": "2021-09-01T08:47:17.728Z"
   },
   {
    "duration": 11,
    "start_time": "2021-09-01T08:47:17.734Z"
   },
   {
    "duration": 4,
    "start_time": "2021-09-01T08:52:31.635Z"
   },
   {
    "duration": 8,
    "start_time": "2021-09-01T08:53:15.173Z"
   },
   {
    "duration": 3,
    "start_time": "2021-09-01T08:54:03.229Z"
   },
   {
    "duration": 7,
    "start_time": "2021-09-01T08:54:03.759Z"
   },
   {
    "duration": 8,
    "start_time": "2021-09-01T08:54:47.537Z"
   },
   {
    "duration": 2805,
    "start_time": "2021-09-01T08:55:55.897Z"
   },
   {
    "duration": 13,
    "start_time": "2021-09-01T08:55:58.704Z"
   },
   {
    "duration": 2,
    "start_time": "2021-09-01T08:59:55.206Z"
   },
   {
    "duration": 817,
    "start_time": "2021-09-01T09:00:40.181Z"
   },
   {
    "duration": 914,
    "start_time": "2021-09-01T09:00:50.602Z"
   },
   {
    "duration": 182,
    "start_time": "2021-09-01T09:01:44.163Z"
   },
   {
    "duration": 205,
    "start_time": "2021-09-01T09:01:58.655Z"
   },
   {
    "duration": 988,
    "start_time": "2021-09-01T09:08:10.425Z"
   },
   {
    "duration": 718,
    "start_time": "2021-09-01T09:08:31.850Z"
   },
   {
    "duration": 1969,
    "start_time": "2021-09-01T09:08:57.658Z"
   },
   {
    "duration": -331,
    "start_time": "2021-09-01T09:08:59.960Z"
   },
   {
    "duration": 3,
    "start_time": "2021-09-01T09:09:39.914Z"
   },
   {
    "duration": 951,
    "start_time": "2021-09-01T09:09:40.784Z"
   },
   {
    "duration": 3486,
    "start_time": "2021-09-01T09:09:57.351Z"
   },
   {
    "duration": 14,
    "start_time": "2021-09-01T09:10:03.412Z"
   },
   {
    "duration": 3,
    "start_time": "2021-09-01T09:11:01.110Z"
   },
   {
    "duration": 8,
    "start_time": "2021-09-01T09:11:01.691Z"
   },
   {
    "duration": 3,
    "start_time": "2021-09-01T09:11:19.471Z"
   },
   {
    "duration": 69,
    "start_time": "2021-09-01T09:11:19.476Z"
   },
   {
    "duration": 10,
    "start_time": "2021-09-01T09:11:19.547Z"
   },
   {
    "duration": 27,
    "start_time": "2021-09-01T09:11:19.559Z"
   },
   {
    "duration": 12,
    "start_time": "2021-09-01T09:11:19.587Z"
   },
   {
    "duration": 15,
    "start_time": "2021-09-01T09:11:19.601Z"
   },
   {
    "duration": 7,
    "start_time": "2021-09-01T09:11:19.617Z"
   },
   {
    "duration": 4,
    "start_time": "2021-09-01T09:11:19.626Z"
   },
   {
    "duration": 8,
    "start_time": "2021-09-01T09:11:19.632Z"
   },
   {
    "duration": 46,
    "start_time": "2021-09-01T09:11:19.641Z"
   },
   {
    "duration": 6,
    "start_time": "2021-09-01T09:11:19.689Z"
   },
   {
    "duration": 17,
    "start_time": "2021-09-01T09:11:19.696Z"
   },
   {
    "duration": 5,
    "start_time": "2021-09-01T09:11:19.715Z"
   },
   {
    "duration": 7,
    "start_time": "2021-09-01T09:11:19.722Z"
   },
   {
    "duration": 5,
    "start_time": "2021-09-01T09:11:19.730Z"
   },
   {
    "duration": 10,
    "start_time": "2021-09-01T09:11:19.736Z"
   },
   {
    "duration": 38,
    "start_time": "2021-09-01T09:11:19.748Z"
   },
   {
    "duration": 11,
    "start_time": "2021-09-01T09:11:19.787Z"
   },
   {
    "duration": 9,
    "start_time": "2021-09-01T09:11:19.799Z"
   },
   {
    "duration": 16,
    "start_time": "2021-09-01T09:11:19.809Z"
   },
   {
    "duration": 8,
    "start_time": "2021-09-01T09:11:19.827Z"
   },
   {
    "duration": 5,
    "start_time": "2021-09-01T09:11:19.837Z"
   },
   {
    "duration": 4,
    "start_time": "2021-09-01T09:11:19.846Z"
   },
   {
    "duration": 33,
    "start_time": "2021-09-01T09:11:19.852Z"
   },
   {
    "duration": 9,
    "start_time": "2021-09-01T09:11:19.887Z"
   },
   {
    "duration": 7,
    "start_time": "2021-09-01T09:11:19.898Z"
   },
   {
    "duration": 14,
    "start_time": "2021-09-01T09:11:19.907Z"
   },
   {
    "duration": 15,
    "start_time": "2021-09-01T09:11:19.923Z"
   },
   {
    "duration": 17,
    "start_time": "2021-09-01T09:11:19.940Z"
   },
   {
    "duration": 31,
    "start_time": "2021-09-01T09:11:19.959Z"
   },
   {
    "duration": 19,
    "start_time": "2021-09-01T09:11:19.991Z"
   },
   {
    "duration": 17,
    "start_time": "2021-09-01T09:11:20.012Z"
   },
   {
    "duration": 18,
    "start_time": "2021-09-01T09:11:20.031Z"
   },
   {
    "duration": 5,
    "start_time": "2021-09-01T09:11:20.051Z"
   },
   {
    "duration": 4116,
    "start_time": "2021-09-01T09:11:20.057Z"
   },
   {
    "duration": 20,
    "start_time": "2021-09-01T09:11:24.175Z"
   },
   {
    "duration": 22,
    "start_time": "2021-09-01T09:11:24.197Z"
   },
   {
    "duration": 9,
    "start_time": "2021-09-01T09:11:24.221Z"
   },
   {
    "duration": 10,
    "start_time": "2021-09-01T09:11:24.231Z"
   },
   {
    "duration": 239,
    "start_time": "2021-09-01T09:11:24.243Z"
   },
   {
    "duration": 7,
    "start_time": "2021-09-01T09:11:24.485Z"
   },
   {
    "duration": 16,
    "start_time": "2021-09-01T09:11:24.494Z"
   },
   {
    "duration": 5,
    "start_time": "2021-09-01T09:11:24.512Z"
   },
   {
    "duration": 248,
    "start_time": "2021-09-01T09:11:24.519Z"
   },
   {
    "duration": 7,
    "start_time": "2021-09-01T09:11:24.769Z"
   },
   {
    "duration": 24,
    "start_time": "2021-09-01T09:11:24.777Z"
   },
   {
    "duration": 238,
    "start_time": "2021-09-01T09:11:24.803Z"
   },
   {
    "duration": 7,
    "start_time": "2021-09-01T09:11:25.042Z"
   },
   {
    "duration": 39,
    "start_time": "2021-09-01T09:11:25.051Z"
   },
   {
    "duration": 19,
    "start_time": "2021-09-01T09:11:25.092Z"
   },
   {
    "duration": 36,
    "start_time": "2021-09-01T09:11:25.113Z"
   },
   {
    "duration": 24,
    "start_time": "2021-09-01T09:11:25.151Z"
   },
   {
    "duration": 13,
    "start_time": "2021-09-01T09:11:25.177Z"
   },
   {
    "duration": 21,
    "start_time": "2021-09-01T09:11:25.192Z"
   },
   {
    "duration": 28,
    "start_time": "2021-09-01T09:11:25.214Z"
   },
   {
    "duration": 35,
    "start_time": "2021-09-01T09:11:25.243Z"
   },
   {
    "duration": 20,
    "start_time": "2021-09-01T09:11:25.280Z"
   },
   {
    "duration": 29,
    "start_time": "2021-09-01T09:11:25.301Z"
   },
   {
    "duration": 29,
    "start_time": "2021-09-01T09:11:25.331Z"
   },
   {
    "duration": 19,
    "start_time": "2021-09-01T09:11:25.362Z"
   },
   {
    "duration": 4,
    "start_time": "2021-09-01T09:11:25.383Z"
   },
   {
    "duration": 13,
    "start_time": "2021-09-01T09:11:25.389Z"
   },
   {
    "duration": 20,
    "start_time": "2021-09-01T09:11:25.404Z"
   },
   {
    "duration": 17,
    "start_time": "2021-09-01T09:11:25.425Z"
   },
   {
    "duration": 11,
    "start_time": "2021-09-01T09:11:25.444Z"
   },
   {
    "duration": 13,
    "start_time": "2021-09-01T09:11:25.457Z"
   },
   {
    "duration": 19,
    "start_time": "2021-09-01T09:11:25.471Z"
   },
   {
    "duration": 7,
    "start_time": "2021-09-01T09:11:25.495Z"
   },
   {
    "duration": 20,
    "start_time": "2021-09-01T09:11:25.503Z"
   },
   {
    "duration": 4,
    "start_time": "2021-09-01T09:15:51.276Z"
   },
   {
    "duration": 5,
    "start_time": "2021-09-01T09:16:08.012Z"
   },
   {
    "duration": 4,
    "start_time": "2021-09-01T09:16:47.044Z"
   },
   {
    "duration": 3,
    "start_time": "2021-09-01T09:17:39.821Z"
   },
   {
    "duration": 4,
    "start_time": "2021-09-01T09:17:41.886Z"
   },
   {
    "duration": 4,
    "start_time": "2021-09-01T09:17:46.380Z"
   },
   {
    "duration": 20,
    "start_time": "2021-09-01T15:26:00.178Z"
   },
   {
    "duration": 331,
    "start_time": "2021-09-01T15:26:00.736Z"
   },
   {
    "duration": 3,
    "start_time": "2021-09-01T15:26:01.505Z"
   },
   {
    "duration": 360,
    "start_time": "2021-09-01T15:28:34.148Z"
   },
   {
    "duration": 323,
    "start_time": "2021-09-01T15:34:50.738Z"
   },
   {
    "duration": 361,
    "start_time": "2021-09-01T15:35:09.421Z"
   },
   {
    "duration": 657,
    "start_time": "2021-09-01T15:35:55.931Z"
   },
   {
    "duration": 2558,
    "start_time": "2021-09-01T15:36:31.994Z"
   },
   {
    "duration": 8,
    "start_time": "2021-09-01T15:39:00.456Z"
   },
   {
    "duration": 639,
    "start_time": "2021-09-01T16:27:34.930Z"
   },
   {
    "duration": 2641,
    "start_time": "2021-09-01T16:28:02.805Z"
   },
   {
    "duration": 4,
    "start_time": "2021-09-01T16:28:54.046Z"
   },
   {
    "duration": 2668,
    "start_time": "2021-09-01T16:28:55.373Z"
   },
   {
    "duration": 7,
    "start_time": "2021-09-01T16:28:58.042Z"
   },
   {
    "duration": 4,
    "start_time": "2021-09-01T16:31:23.833Z"
   },
   {
    "duration": 1516,
    "start_time": "2021-09-01T16:31:28.582Z"
   },
   {
    "duration": 1492,
    "start_time": "2021-09-01T16:45:05.890Z"
   },
   {
    "duration": 1165,
    "start_time": "2021-09-01T16:45:21.817Z"
   },
   {
    "duration": 4222,
    "start_time": "2021-09-01T16:45:36.183Z"
   },
   {
    "duration": 3063,
    "start_time": "2021-09-01T16:45:54.435Z"
   },
   {
    "duration": 3,
    "start_time": "2021-09-01T16:49:45.511Z"
   },
   {
    "duration": 221,
    "start_time": "2021-09-01T16:50:16.133Z"
   },
   {
    "duration": 8,
    "start_time": "2021-09-01T16:50:24.431Z"
   },
   {
    "duration": 4,
    "start_time": "2021-09-01T16:50:51.866Z"
   },
   {
    "duration": 222,
    "start_time": "2021-09-01T16:50:53.506Z"
   },
   {
    "duration": 7,
    "start_time": "2021-09-01T16:50:55.034Z"
   },
   {
    "duration": 3,
    "start_time": "2021-09-01T16:51:45.364Z"
   },
   {
    "duration": 223,
    "start_time": "2021-09-01T16:51:46.020Z"
   },
   {
    "duration": 7,
    "start_time": "2021-09-01T16:51:46.543Z"
   },
   {
    "duration": 4,
    "start_time": "2021-09-01T16:52:05.581Z"
   },
   {
    "duration": 622,
    "start_time": "2021-09-01T16:52:06.323Z"
   },
   {
    "duration": 4,
    "start_time": "2021-09-01T16:52:39.052Z"
   },
   {
    "duration": 617,
    "start_time": "2021-09-01T16:52:44.632Z"
   },
   {
    "duration": 4,
    "start_time": "2021-09-01T16:52:59.697Z"
   },
   {
    "duration": 206,
    "start_time": "2021-09-01T16:53:02.556Z"
   },
   {
    "duration": 8,
    "start_time": "2021-09-01T16:53:08.113Z"
   },
   {
    "duration": 3,
    "start_time": "2021-09-01T17:09:22.992Z"
   },
   {
    "duration": 604,
    "start_time": "2021-09-01T17:09:26.462Z"
   },
   {
    "duration": 636,
    "start_time": "2021-09-01T17:10:09.932Z"
   },
   {
    "duration": 2,
    "start_time": "2021-09-01T17:10:59.339Z"
   },
   {
    "duration": 4940,
    "start_time": "2021-09-01T17:11:02.516Z"
   },
   {
    "duration": 3367,
    "start_time": "2021-09-01T17:11:20.339Z"
   },
   {
    "duration": 3,
    "start_time": "2021-09-01T17:11:35.656Z"
   },
   {
    "duration": 276,
    "start_time": "2021-09-01T17:11:40.088Z"
   },
   {
    "duration": 7,
    "start_time": "2021-09-01T17:11:41.649Z"
   },
   {
    "duration": 3,
    "start_time": "2021-09-01T17:13:16.056Z"
   },
   {
    "duration": 612,
    "start_time": "2021-09-01T17:13:17.836Z"
   },
   {
    "duration": 15,
    "start_time": "2021-09-01T17:14:15.437Z"
   },
   {
    "duration": 3,
    "start_time": "2021-09-01T17:15:40.576Z"
   },
   {
    "duration": 3085,
    "start_time": "2021-09-01T17:15:43.323Z"
   },
   {
    "duration": 18,
    "start_time": "2021-09-01T17:15:46.410Z"
   },
   {
    "duration": 1181,
    "start_time": "2021-09-01T17:16:45.277Z"
   },
   {
    "duration": -309,
    "start_time": "2021-09-01T17:16:46.768Z"
   },
   {
    "duration": 2007,
    "start_time": "2021-09-01T17:16:53.761Z"
   },
   {
    "duration": -343,
    "start_time": "2021-09-01T17:16:56.112Z"
   },
   {
    "duration": 3,
    "start_time": "2021-09-01T17:46:11.191Z"
   },
   {
    "duration": 1557,
    "start_time": "2021-09-01T17:46:12.006Z"
   },
   {
    "duration": 1226,
    "start_time": "2021-09-01T17:46:33.486Z"
   },
   {
    "duration": 3214,
    "start_time": "2021-09-01T17:47:01.155Z"
   },
   {
    "duration": 13,
    "start_time": "2021-09-01T17:47:12.269Z"
   },
   {
    "duration": 4194,
    "start_time": "2021-09-01T17:48:00.942Z"
   },
   {
    "duration": 1548,
    "start_time": "2021-09-01T17:52:05.602Z"
   },
   {
    "duration": 1800,
    "start_time": "2021-09-01T17:52:20.003Z"
   },
   {
    "duration": 1477,
    "start_time": "2021-09-01T17:53:02.878Z"
   },
   {
    "duration": 2,
    "start_time": "2021-09-01T17:53:54.555Z"
   },
   {
    "duration": 52,
    "start_time": "2021-09-01T17:53:54.559Z"
   },
   {
    "duration": 9,
    "start_time": "2021-09-01T17:53:54.613Z"
   },
   {
    "duration": 19,
    "start_time": "2021-09-01T17:53:54.624Z"
   },
   {
    "duration": 20,
    "start_time": "2021-09-01T17:53:54.645Z"
   },
   {
    "duration": 28,
    "start_time": "2021-09-01T17:53:54.667Z"
   },
   {
    "duration": 5,
    "start_time": "2021-09-01T17:53:54.697Z"
   },
   {
    "duration": 5,
    "start_time": "2021-09-01T17:53:54.704Z"
   },
   {
    "duration": 7,
    "start_time": "2021-09-01T17:53:54.711Z"
   },
   {
    "duration": 6,
    "start_time": "2021-09-01T17:53:54.720Z"
   },
   {
    "duration": 3,
    "start_time": "2021-09-01T17:53:54.728Z"
   },
   {
    "duration": 11,
    "start_time": "2021-09-01T17:53:54.732Z"
   },
   {
    "duration": 41,
    "start_time": "2021-09-01T17:53:54.744Z"
   },
   {
    "duration": 6,
    "start_time": "2021-09-01T17:53:54.787Z"
   },
   {
    "duration": 4,
    "start_time": "2021-09-01T17:53:54.794Z"
   },
   {
    "duration": 8,
    "start_time": "2021-09-01T17:53:54.801Z"
   },
   {
    "duration": 8,
    "start_time": "2021-09-01T17:53:54.811Z"
   },
   {
    "duration": 8,
    "start_time": "2021-09-01T17:53:54.821Z"
   },
   {
    "duration": 9,
    "start_time": "2021-09-01T17:53:54.830Z"
   },
   {
    "duration": 49,
    "start_time": "2021-09-01T17:53:54.841Z"
   },
   {
    "duration": 6,
    "start_time": "2021-09-01T17:53:54.892Z"
   },
   {
    "duration": 9,
    "start_time": "2021-09-01T17:53:54.900Z"
   },
   {
    "duration": 4,
    "start_time": "2021-09-01T17:53:54.911Z"
   },
   {
    "duration": 5,
    "start_time": "2021-09-01T17:53:54.916Z"
   },
   {
    "duration": 9,
    "start_time": "2021-09-01T17:53:54.923Z"
   },
   {
    "duration": 8,
    "start_time": "2021-09-01T17:53:54.934Z"
   },
   {
    "duration": 11,
    "start_time": "2021-09-01T17:53:54.943Z"
   },
   {
    "duration": 37,
    "start_time": "2021-09-01T17:53:54.956Z"
   },
   {
    "duration": 9,
    "start_time": "2021-09-01T17:53:54.995Z"
   },
   {
    "duration": 18,
    "start_time": "2021-09-01T17:53:55.005Z"
   },
   {
    "duration": 15,
    "start_time": "2021-09-01T17:53:55.025Z"
   },
   {
    "duration": 14,
    "start_time": "2021-09-01T17:53:55.041Z"
   },
   {
    "duration": 50,
    "start_time": "2021-09-01T17:53:55.056Z"
   },
   {
    "duration": 3,
    "start_time": "2021-09-01T17:53:55.107Z"
   },
   {
    "duration": 3227,
    "start_time": "2021-09-01T17:53:55.111Z"
   },
   {
    "duration": 12,
    "start_time": "2021-09-01T17:53:58.340Z"
   },
   {
    "duration": 5,
    "start_time": "2021-09-01T17:53:58.353Z"
   },
   {
    "duration": 31,
    "start_time": "2021-09-01T17:53:58.360Z"
   },
   {
    "duration": 7,
    "start_time": "2021-09-01T17:53:58.393Z"
   },
   {
    "duration": 3,
    "start_time": "2021-09-01T17:53:58.404Z"
   },
   {
    "duration": 222,
    "start_time": "2021-09-01T17:53:58.409Z"
   },
   {
    "duration": 8,
    "start_time": "2021-09-01T17:53:58.633Z"
   },
   {
    "duration": 5,
    "start_time": "2021-09-01T17:53:58.643Z"
   },
   {
    "duration": 5,
    "start_time": "2021-09-01T17:53:58.649Z"
   },
   {
    "duration": 229,
    "start_time": "2021-09-01T17:53:58.656Z"
   },
   {
    "duration": 8,
    "start_time": "2021-09-01T17:53:58.887Z"
   },
   {
    "duration": 5,
    "start_time": "2021-09-01T17:53:58.897Z"
   },
   {
    "duration": 231,
    "start_time": "2021-09-01T17:53:58.903Z"
   },
   {
    "duration": 7,
    "start_time": "2021-09-01T17:53:59.136Z"
   },
   {
    "duration": 11,
    "start_time": "2021-09-01T17:53:59.145Z"
   },
   {
    "duration": 4,
    "start_time": "2021-09-01T17:53:59.157Z"
   },
   {
    "duration": 26,
    "start_time": "2021-09-01T17:53:59.163Z"
   },
   {
    "duration": 8,
    "start_time": "2021-09-01T17:53:59.190Z"
   },
   {
    "duration": 3,
    "start_time": "2021-09-01T17:53:59.200Z"
   },
   {
    "duration": 11,
    "start_time": "2021-09-01T17:53:59.204Z"
   },
   {
    "duration": 4,
    "start_time": "2021-09-01T17:53:59.216Z"
   },
   {
    "duration": 10,
    "start_time": "2021-09-01T17:53:59.222Z"
   },
   {
    "duration": 8,
    "start_time": "2021-09-01T17:53:59.233Z"
   },
   {
    "duration": 3,
    "start_time": "2021-09-01T17:53:59.242Z"
   },
   {
    "duration": 43,
    "start_time": "2021-09-01T17:53:59.246Z"
   },
   {
    "duration": 7,
    "start_time": "2021-09-01T17:53:59.291Z"
   },
   {
    "duration": 6,
    "start_time": "2021-09-01T17:53:59.300Z"
   },
   {
    "duration": 8,
    "start_time": "2021-09-01T17:53:59.307Z"
   },
   {
    "duration": 9,
    "start_time": "2021-09-01T17:53:59.317Z"
   },
   {
    "duration": 7,
    "start_time": "2021-09-01T17:53:59.328Z"
   },
   {
    "duration": 10,
    "start_time": "2021-09-01T17:53:59.336Z"
   },
   {
    "duration": 6,
    "start_time": "2021-09-01T17:53:59.348Z"
   },
   {
    "duration": 36,
    "start_time": "2021-09-01T17:53:59.355Z"
   },
   {
    "duration": 4,
    "start_time": "2021-09-01T17:53:59.392Z"
   },
   {
    "duration": 319,
    "start_time": "2021-09-01T17:53:59.398Z"
   },
   {
    "duration": 12,
    "start_time": "2021-09-01T17:54:33.869Z"
   },
   {
    "duration": 3,
    "start_time": "2021-09-01T17:56:19.242Z"
   },
   {
    "duration": 53,
    "start_time": "2021-09-01T17:56:19.247Z"
   },
   {
    "duration": 10,
    "start_time": "2021-09-01T17:56:19.302Z"
   },
   {
    "duration": 13,
    "start_time": "2021-09-01T17:56:19.314Z"
   },
   {
    "duration": 27,
    "start_time": "2021-09-01T17:56:19.329Z"
   },
   {
    "duration": 36,
    "start_time": "2021-09-01T17:56:19.358Z"
   },
   {
    "duration": 11,
    "start_time": "2021-09-01T17:56:19.396Z"
   },
   {
    "duration": 17,
    "start_time": "2021-09-01T17:56:19.408Z"
   },
   {
    "duration": 19,
    "start_time": "2021-09-01T17:56:19.426Z"
   },
   {
    "duration": 17,
    "start_time": "2021-09-01T17:56:19.448Z"
   },
   {
    "duration": 9,
    "start_time": "2021-09-01T17:56:19.467Z"
   },
   {
    "duration": 35,
    "start_time": "2021-09-01T17:56:19.478Z"
   },
   {
    "duration": 19,
    "start_time": "2021-09-01T17:56:19.515Z"
   },
   {
    "duration": 17,
    "start_time": "2021-09-01T17:56:19.536Z"
   },
   {
    "duration": 21,
    "start_time": "2021-09-01T17:56:19.555Z"
   },
   {
    "duration": 14,
    "start_time": "2021-09-01T17:56:19.577Z"
   },
   {
    "duration": 26,
    "start_time": "2021-09-01T17:56:19.592Z"
   },
   {
    "duration": 16,
    "start_time": "2021-09-01T17:56:19.620Z"
   },
   {
    "duration": 29,
    "start_time": "2021-09-01T17:56:19.637Z"
   },
   {
    "duration": 32,
    "start_time": "2021-09-01T17:56:19.667Z"
   },
   {
    "duration": 17,
    "start_time": "2021-09-01T17:56:19.700Z"
   },
   {
    "duration": 13,
    "start_time": "2021-09-01T17:56:19.719Z"
   },
   {
    "duration": 4,
    "start_time": "2021-09-01T17:56:19.735Z"
   },
   {
    "duration": 8,
    "start_time": "2021-09-01T17:56:19.741Z"
   },
   {
    "duration": 18,
    "start_time": "2021-09-01T17:56:19.752Z"
   },
   {
    "duration": 14,
    "start_time": "2021-09-01T17:56:19.772Z"
   },
   {
    "duration": 19,
    "start_time": "2021-09-01T17:56:19.788Z"
   },
   {
    "duration": 16,
    "start_time": "2021-09-01T17:56:19.811Z"
   },
   {
    "duration": 12,
    "start_time": "2021-09-01T17:56:19.830Z"
   },
   {
    "duration": 22,
    "start_time": "2021-09-01T17:56:19.844Z"
   },
   {
    "duration": 24,
    "start_time": "2021-09-01T17:56:19.868Z"
   },
   {
    "duration": 16,
    "start_time": "2021-09-01T17:56:19.893Z"
   },
   {
    "duration": 27,
    "start_time": "2021-09-01T17:56:19.910Z"
   },
   {
    "duration": 12,
    "start_time": "2021-09-01T17:56:19.938Z"
   },
   {
    "duration": 36,
    "start_time": "2021-09-01T17:56:19.952Z"
   },
   {
    "duration": 3,
    "start_time": "2021-09-01T17:56:19.990Z"
   },
   {
    "duration": 226,
    "start_time": "2021-09-01T17:56:19.995Z"
   },
   {
    "duration": 9,
    "start_time": "2021-09-01T17:56:20.222Z"
   },
   {
    "duration": 4,
    "start_time": "2021-09-01T17:56:20.233Z"
   },
   {
    "duration": 7,
    "start_time": "2021-09-01T17:56:20.238Z"
   },
   {
    "duration": 232,
    "start_time": "2021-09-01T17:56:20.247Z"
   },
   {
    "duration": 8,
    "start_time": "2021-09-01T17:56:20.481Z"
   },
   {
    "duration": 17,
    "start_time": "2021-09-01T17:56:20.491Z"
   },
   {
    "duration": 225,
    "start_time": "2021-09-01T17:56:20.510Z"
   },
   {
    "duration": 9,
    "start_time": "2021-09-01T17:56:20.736Z"
   },
   {
    "duration": 11,
    "start_time": "2021-09-01T17:56:20.747Z"
   },
   {
    "duration": 13,
    "start_time": "2021-09-01T17:56:20.760Z"
   },
   {
    "duration": 30,
    "start_time": "2021-09-01T17:56:20.775Z"
   },
   {
    "duration": 11,
    "start_time": "2021-09-01T17:56:20.806Z"
   },
   {
    "duration": 19,
    "start_time": "2021-09-01T17:56:20.818Z"
   },
   {
    "duration": 15,
    "start_time": "2021-09-01T17:56:20.839Z"
   },
   {
    "duration": 34,
    "start_time": "2021-09-01T17:56:20.855Z"
   },
   {
    "duration": 30,
    "start_time": "2021-09-01T17:56:20.891Z"
   },
   {
    "duration": 30,
    "start_time": "2021-09-01T17:56:20.923Z"
   },
   {
    "duration": 24,
    "start_time": "2021-09-01T17:56:20.955Z"
   },
   {
    "duration": 24,
    "start_time": "2021-09-01T17:56:20.981Z"
   },
   {
    "duration": 44,
    "start_time": "2021-09-01T17:56:21.007Z"
   },
   {
    "duration": 15,
    "start_time": "2021-09-01T17:56:21.053Z"
   },
   {
    "duration": 21,
    "start_time": "2021-09-01T17:56:21.070Z"
   },
   {
    "duration": 24,
    "start_time": "2021-09-01T17:56:21.093Z"
   },
   {
    "duration": 44,
    "start_time": "2021-09-01T17:56:21.119Z"
   },
   {
    "duration": 18,
    "start_time": "2021-09-01T17:56:21.165Z"
   },
   {
    "duration": 23,
    "start_time": "2021-09-01T17:56:21.185Z"
   },
   {
    "duration": 18,
    "start_time": "2021-09-01T17:56:21.210Z"
   },
   {
    "duration": 26,
    "start_time": "2021-09-01T17:56:21.229Z"
   },
   {
    "duration": 313,
    "start_time": "2021-09-01T17:56:21.257Z"
   },
   {
    "duration": 316,
    "start_time": "2021-09-01T17:56:34.738Z"
   },
   {
    "duration": 3298,
    "start_time": "2021-09-01T17:56:54.519Z"
   },
   {
    "duration": 14,
    "start_time": "2021-09-01T17:57:31.841Z"
   },
   {
    "duration": 116,
    "start_time": "2021-09-01T17:59:10.161Z"
   },
   {
    "duration": 305,
    "start_time": "2021-09-01T18:00:34.407Z"
   },
   {
    "duration": 2523,
    "start_time": "2021-09-01T18:01:15.224Z"
   },
   {
    "duration": 2670,
    "start_time": "2021-09-01T18:04:00.901Z"
   },
   {
    "duration": 12,
    "start_time": "2021-09-01T18:04:03.572Z"
   },
   {
    "duration": 1494,
    "start_time": "2021-09-01T18:04:04.925Z"
   },
   {
    "duration": 4,
    "start_time": "2021-09-01T18:06:17.092Z"
   },
   {
    "duration": 2,
    "start_time": "2021-09-01T18:06:28.877Z"
   },
   {
    "duration": 4,
    "start_time": "2021-09-01T18:06:33.037Z"
   },
   {
    "duration": 4,
    "start_time": "2021-09-01T18:07:06.973Z"
   },
   {
    "duration": 308,
    "start_time": "2021-09-01T18:07:22.097Z"
   },
   {
    "duration": 12,
    "start_time": "2021-09-01T18:10:07.893Z"
   },
   {
    "duration": 10,
    "start_time": "2021-09-01T18:10:18.126Z"
   },
   {
    "duration": 4,
    "start_time": "2021-09-01T18:12:25.065Z"
   },
   {
    "duration": 3,
    "start_time": "2021-09-01T18:12:51.140Z"
   },
   {
    "duration": 4,
    "start_time": "2021-09-01T18:13:06.834Z"
   },
   {
    "duration": 3,
    "start_time": "2021-09-01T18:13:20.333Z"
   },
   {
    "duration": 2721,
    "start_time": "2021-09-01T18:13:23.637Z"
   },
   {
    "duration": 4,
    "start_time": "2021-09-01T18:13:26.359Z"
   },
   {
    "duration": 4,
    "start_time": "2021-09-01T18:13:40.412Z"
   },
   {
    "duration": 4,
    "start_time": "2021-09-01T18:13:47.597Z"
   },
   {
    "duration": 4,
    "start_time": "2021-09-01T18:14:20.194Z"
   },
   {
    "duration": 3,
    "start_time": "2021-09-01T18:14:40.339Z"
   },
   {
    "duration": 4,
    "start_time": "2021-09-01T18:14:48.185Z"
   },
   {
    "duration": 3,
    "start_time": "2021-09-01T18:15:01.190Z"
   },
   {
    "duration": 4,
    "start_time": "2021-09-01T18:15:07.610Z"
   },
   {
    "duration": 302,
    "start_time": "2021-09-01T18:16:40.527Z"
   },
   {
    "duration": 4,
    "start_time": "2021-09-01T18:16:48.159Z"
   },
   {
    "duration": 3,
    "start_time": "2021-09-01T18:16:56.506Z"
   },
   {
    "duration": 4,
    "start_time": "2021-09-01T18:17:38.251Z"
   },
   {
    "duration": 4,
    "start_time": "2021-09-01T18:17:48.971Z"
   },
   {
    "duration": 2572,
    "start_time": "2021-09-01T18:25:48.394Z"
   },
   {
    "duration": 25,
    "start_time": "2021-09-01T18:26:57.761Z"
   },
   {
    "duration": 3,
    "start_time": "2021-09-01T18:27:18.600Z"
   },
   {
    "duration": 69,
    "start_time": "2021-09-01T18:27:18.607Z"
   },
   {
    "duration": 11,
    "start_time": "2021-09-01T18:27:18.678Z"
   },
   {
    "duration": 13,
    "start_time": "2021-09-01T18:27:18.691Z"
   },
   {
    "duration": 11,
    "start_time": "2021-09-01T18:27:18.706Z"
   },
   {
    "duration": 13,
    "start_time": "2021-09-01T18:27:18.719Z"
   },
   {
    "duration": 5,
    "start_time": "2021-09-01T18:27:18.734Z"
   },
   {
    "duration": 45,
    "start_time": "2021-09-01T18:27:18.741Z"
   },
   {
    "duration": 5,
    "start_time": "2021-09-01T18:27:18.788Z"
   },
   {
    "duration": 10,
    "start_time": "2021-09-01T18:27:18.794Z"
   },
   {
    "duration": 3,
    "start_time": "2021-09-01T18:27:18.805Z"
   },
   {
    "duration": 13,
    "start_time": "2021-09-01T18:27:18.809Z"
   },
   {
    "duration": 4,
    "start_time": "2021-09-01T18:27:18.823Z"
   },
   {
    "duration": 9,
    "start_time": "2021-09-01T18:27:18.829Z"
   },
   {
    "duration": 9,
    "start_time": "2021-09-01T18:27:18.840Z"
   },
   {
    "duration": 41,
    "start_time": "2021-09-01T18:27:18.851Z"
   },
   {
    "duration": 9,
    "start_time": "2021-09-01T18:27:18.894Z"
   },
   {
    "duration": 9,
    "start_time": "2021-09-01T18:27:18.905Z"
   },
   {
    "duration": 7,
    "start_time": "2021-09-01T18:27:18.916Z"
   },
   {
    "duration": 13,
    "start_time": "2021-09-01T18:27:18.925Z"
   },
   {
    "duration": 46,
    "start_time": "2021-09-01T18:27:18.940Z"
   },
   {
    "duration": 6,
    "start_time": "2021-09-01T18:27:18.988Z"
   },
   {
    "duration": 5,
    "start_time": "2021-09-01T18:27:18.996Z"
   },
   {
    "duration": 4,
    "start_time": "2021-09-01T18:27:19.005Z"
   },
   {
    "duration": 8,
    "start_time": "2021-09-01T18:27:19.011Z"
   },
   {
    "duration": 5,
    "start_time": "2021-09-01T18:27:19.021Z"
   },
   {
    "duration": 12,
    "start_time": "2021-09-01T18:27:19.028Z"
   },
   {
    "duration": 13,
    "start_time": "2021-09-01T18:27:19.042Z"
   },
   {
    "duration": 30,
    "start_time": "2021-09-01T18:27:19.056Z"
   },
   {
    "duration": 16,
    "start_time": "2021-09-01T18:27:19.088Z"
   },
   {
    "duration": 17,
    "start_time": "2021-09-01T18:27:19.105Z"
   },
   {
    "duration": 14,
    "start_time": "2021-09-01T18:27:19.124Z"
   },
   {
    "duration": 54,
    "start_time": "2021-09-01T18:27:19.139Z"
   },
   {
    "duration": 3345,
    "start_time": "2021-09-01T18:27:19.195Z"
   },
   {
    "duration": 24,
    "start_time": "2021-09-01T18:27:22.542Z"
   },
   {
    "duration": 31,
    "start_time": "2021-09-01T18:27:22.568Z"
   },
   {
    "duration": 10,
    "start_time": "2021-09-01T18:27:22.601Z"
   },
   {
    "duration": 2,
    "start_time": "2021-09-01T18:27:22.613Z"
   },
   {
    "duration": 234,
    "start_time": "2021-09-01T18:27:22.617Z"
   },
   {
    "duration": 6,
    "start_time": "2021-09-01T18:27:22.853Z"
   },
   {
    "duration": 46,
    "start_time": "2021-09-01T18:27:22.861Z"
   },
   {
    "duration": 97,
    "start_time": "2021-09-01T18:27:22.909Z"
   },
   {
    "duration": 216,
    "start_time": "2021-09-01T18:27:23.008Z"
   },
   {
    "duration": 7,
    "start_time": "2021-09-01T18:27:23.225Z"
   },
   {
    "duration": 5,
    "start_time": "2021-09-01T18:27:23.234Z"
   },
   {
    "duration": 232,
    "start_time": "2021-09-01T18:27:23.241Z"
   },
   {
    "duration": 14,
    "start_time": "2021-09-01T18:27:23.475Z"
   },
   {
    "duration": 13,
    "start_time": "2021-09-01T18:27:23.490Z"
   },
   {
    "duration": 2,
    "start_time": "2021-09-01T18:27:23.505Z"
   },
   {
    "duration": 11,
    "start_time": "2021-09-01T18:27:23.509Z"
   },
   {
    "duration": 6,
    "start_time": "2021-09-01T18:27:23.522Z"
   },
   {
    "duration": 3,
    "start_time": "2021-09-01T18:27:23.530Z"
   },
   {
    "duration": 10,
    "start_time": "2021-09-01T18:27:23.534Z"
   },
   {
    "duration": 4,
    "start_time": "2021-09-01T18:27:23.545Z"
   },
   {
    "duration": 37,
    "start_time": "2021-09-01T18:27:23.551Z"
   },
   {
    "duration": 7,
    "start_time": "2021-09-01T18:27:23.589Z"
   },
   {
    "duration": 5,
    "start_time": "2021-09-01T18:27:23.598Z"
   },
   {
    "duration": 10,
    "start_time": "2021-09-01T18:27:23.604Z"
   },
   {
    "duration": 7,
    "start_time": "2021-09-01T18:27:23.615Z"
   },
   {
    "duration": 4,
    "start_time": "2021-09-01T18:27:23.623Z"
   },
   {
    "duration": 12,
    "start_time": "2021-09-01T18:27:23.628Z"
   },
   {
    "duration": 8,
    "start_time": "2021-09-01T18:27:23.642Z"
   },
   {
    "duration": 37,
    "start_time": "2021-09-01T18:27:23.651Z"
   },
   {
    "duration": 13,
    "start_time": "2021-09-01T18:27:23.689Z"
   },
   {
    "duration": 5,
    "start_time": "2021-09-01T18:27:23.704Z"
   },
   {
    "duration": 12,
    "start_time": "2021-09-01T18:27:23.710Z"
   },
   {
    "duration": 5,
    "start_time": "2021-09-01T18:27:23.723Z"
   },
   {
    "duration": 327,
    "start_time": "2021-09-01T18:27:23.730Z"
   },
   {
    "duration": 14,
    "start_time": "2021-09-01T18:31:28.559Z"
   },
   {
    "duration": 5,
    "start_time": "2021-09-01T18:32:48.012Z"
   },
   {
    "duration": 4,
    "start_time": "2021-09-01T18:33:22.905Z"
   },
   {
    "duration": 535,
    "start_time": "2021-09-01T18:36:04.638Z"
   },
   {
    "duration": 208,
    "start_time": "2021-09-01T18:36:34.452Z"
   },
   {
    "duration": 6,
    "start_time": "2021-09-01T18:36:41.677Z"
   },
   {
    "duration": 5,
    "start_time": "2021-09-01T18:36:58.700Z"
   },
   {
    "duration": 3,
    "start_time": "2021-09-01T18:37:15.039Z"
   },
   {
    "duration": 5,
    "start_time": "2021-09-01T18:37:21.506Z"
   },
   {
    "duration": 4,
    "start_time": "2021-09-01T18:38:49.037Z"
   },
   {
    "duration": 7,
    "start_time": "2021-09-01T18:39:03.279Z"
   },
   {
    "duration": 306,
    "start_time": "2021-09-01T18:42:45.928Z"
   },
   {
    "duration": 102,
    "start_time": "2021-09-01T18:44:33.093Z"
   },
   {
    "duration": 5,
    "start_time": "2021-09-01T18:44:43.691Z"
   },
   {
    "duration": 470,
    "start_time": "2021-09-01T19:31:48.260Z"
   },
   {
    "duration": 3,
    "start_time": "2021-09-01T20:02:44.775Z"
   },
   {
    "duration": 275,
    "start_time": "2021-09-01T20:03:48.442Z"
   },
   {
    "duration": 7,
    "start_time": "2021-09-01T20:04:18.059Z"
   },
   {
    "duration": 3,
    "start_time": "2021-09-01T20:06:37.181Z"
   },
   {
    "duration": 642,
    "start_time": "2021-09-01T20:06:37.803Z"
   },
   {
    "duration": -352,
    "start_time": "2021-09-01T20:06:38.799Z"
   },
   {
    "duration": 3,
    "start_time": "2021-09-01T20:06:53.097Z"
   },
   {
    "duration": 279,
    "start_time": "2021-09-01T20:06:54.845Z"
   },
   {
    "duration": 7,
    "start_time": "2021-09-01T20:06:56.260Z"
   },
   {
    "duration": 4,
    "start_time": "2021-09-01T20:17:36.866Z"
   },
   {
    "duration": 279,
    "start_time": "2021-09-01T20:17:41.397Z"
   },
   {
    "duration": 7,
    "start_time": "2021-09-01T20:17:43.452Z"
   },
   {
    "duration": 3,
    "start_time": "2021-09-01T20:19:22.656Z"
   },
   {
    "duration": 279,
    "start_time": "2021-09-01T20:19:26.089Z"
   },
   {
    "duration": 6,
    "start_time": "2021-09-01T20:19:27.671Z"
   },
   {
    "duration": 3,
    "start_time": "2021-09-01T20:20:32.913Z"
   },
   {
    "duration": 275,
    "start_time": "2021-09-01T20:20:33.548Z"
   },
   {
    "duration": 7,
    "start_time": "2021-09-01T20:20:34.406Z"
   },
   {
    "duration": 4,
    "start_time": "2021-09-01T20:21:34.973Z"
   },
   {
    "duration": 281,
    "start_time": "2021-09-01T20:21:37.680Z"
   },
   {
    "duration": 7,
    "start_time": "2021-09-01T20:21:38.157Z"
   },
   {
    "duration": 3,
    "start_time": "2021-09-01T20:22:30.348Z"
   },
   {
    "duration": 285,
    "start_time": "2021-09-01T20:22:31.050Z"
   },
   {
    "duration": 8,
    "start_time": "2021-09-01T20:22:31.539Z"
   },
   {
    "duration": 3,
    "start_time": "2021-09-01T20:23:14.734Z"
   },
   {
    "duration": 281,
    "start_time": "2021-09-01T20:23:15.803Z"
   },
   {
    "duration": 6,
    "start_time": "2021-09-01T20:23:16.386Z"
   },
   {
    "duration": 3,
    "start_time": "2021-09-01T20:23:34.137Z"
   },
   {
    "duration": 281,
    "start_time": "2021-09-01T20:23:34.632Z"
   },
   {
    "duration": 6,
    "start_time": "2021-09-01T20:23:35.064Z"
   },
   {
    "duration": 3,
    "start_time": "2021-09-01T20:23:57.375Z"
   },
   {
    "duration": 277,
    "start_time": "2021-09-01T20:23:58.152Z"
   },
   {
    "duration": 6,
    "start_time": "2021-09-01T20:23:58.625Z"
   },
   {
    "duration": 3,
    "start_time": "2021-09-01T20:25:06.695Z"
   },
   {
    "duration": 277,
    "start_time": "2021-09-01T20:25:07.211Z"
   },
   {
    "duration": 7,
    "start_time": "2021-09-01T20:25:07.793Z"
   },
   {
    "duration": 4,
    "start_time": "2021-09-01T20:25:55.562Z"
   },
   {
    "duration": 281,
    "start_time": "2021-09-01T20:25:56.171Z"
   },
   {
    "duration": 7,
    "start_time": "2021-09-01T20:25:56.628Z"
   },
   {
    "duration": 3,
    "start_time": "2021-09-01T20:26:45.066Z"
   },
   {
    "duration": 276,
    "start_time": "2021-09-01T20:26:46.271Z"
   },
   {
    "duration": 7,
    "start_time": "2021-09-01T20:26:46.890Z"
   },
   {
    "duration": 128,
    "start_time": "2021-09-01T20:29:27.889Z"
   },
   {
    "duration": 330,
    "start_time": "2021-09-01T20:29:36.028Z"
   },
   {
    "duration": 17,
    "start_time": "2021-09-01T20:30:28.656Z"
   },
   {
    "duration": 7,
    "start_time": "2021-09-01T20:32:07.729Z"
   },
   {
    "duration": 292,
    "start_time": "2021-09-01T21:03:31.941Z"
   },
   {
    "duration": 3,
    "start_time": "2021-09-01T21:03:37.268Z"
   },
   {
    "duration": 5,
    "start_time": "2021-09-01T21:03:37.788Z"
   },
   {
    "duration": 8,
    "start_time": "2021-09-01T21:03:38.362Z"
   },
   {
    "duration": 7,
    "start_time": "2021-09-01T21:03:56.715Z"
   },
   {
    "duration": 8,
    "start_time": "2021-09-01T21:04:11.234Z"
   },
   {
    "duration": 7,
    "start_time": "2021-09-01T21:04:31.593Z"
   },
   {
    "duration": 8,
    "start_time": "2021-09-01T21:07:00.970Z"
   },
   {
    "duration": 8,
    "start_time": "2021-09-01T21:07:11.503Z"
   },
   {
    "duration": 295,
    "start_time": "2021-09-01T21:08:50.190Z"
   },
   {
    "duration": 5,
    "start_time": "2021-09-01T21:08:58.604Z"
   },
   {
    "duration": 8,
    "start_time": "2021-09-01T21:08:59.589Z"
   },
   {
    "duration": 7,
    "start_time": "2021-09-01T21:08:59.924Z"
   },
   {
    "duration": 7,
    "start_time": "2021-09-01T21:09:00.376Z"
   },
   {
    "duration": 7,
    "start_time": "2021-09-01T21:09:00.662Z"
   },
   {
    "duration": 8,
    "start_time": "2021-09-01T21:09:01.216Z"
   },
   {
    "duration": 290,
    "start_time": "2021-09-01T21:09:01.696Z"
   },
   {
    "duration": 285,
    "start_time": "2021-09-01T21:09:29.460Z"
   },
   {
    "duration": 302,
    "start_time": "2021-09-01T21:10:21.228Z"
   },
   {
    "duration": 354,
    "start_time": "2021-09-01T21:11:14.035Z"
   },
   {
    "duration": 7,
    "start_time": "2021-09-01T21:11:53.057Z"
   },
   {
    "duration": 313,
    "start_time": "2021-09-01T21:13:18.783Z"
   },
   {
    "duration": 12,
    "start_time": "2021-09-01T21:13:31.771Z"
   },
   {
    "duration": 6,
    "start_time": "2021-09-01T21:14:10.621Z"
   },
   {
    "duration": 11,
    "start_time": "2021-09-01T21:14:20.867Z"
   },
   {
    "duration": 9,
    "start_time": "2021-09-01T21:15:05.870Z"
   },
   {
    "duration": 9,
    "start_time": "2021-09-01T21:15:07.002Z"
   },
   {
    "duration": 14,
    "start_time": "2021-09-01T21:16:22.680Z"
   },
   {
    "duration": 305,
    "start_time": "2021-09-01T21:22:08.398Z"
   },
   {
    "duration": 99,
    "start_time": "2021-09-01T21:24:45.591Z"
   },
   {
    "duration": 8631,
    "start_time": "2021-09-01T21:24:52.033Z"
   },
   {
    "duration": 11,
    "start_time": "2021-09-01T21:25:55.090Z"
   },
   {
    "duration": 12,
    "start_time": "2021-09-01T21:26:19.531Z"
   },
   {
    "duration": 11,
    "start_time": "2021-09-01T21:26:28.104Z"
   },
   {
    "duration": 12,
    "start_time": "2021-09-01T21:26:44.644Z"
   },
   {
    "duration": 13,
    "start_time": "2021-09-01T21:26:52.241Z"
   },
   {
    "duration": 13,
    "start_time": "2021-09-01T21:27:12.247Z"
   },
   {
    "duration": 12,
    "start_time": "2021-09-01T21:27:44.088Z"
   },
   {
    "duration": 302,
    "start_time": "2021-09-01T21:28:12.093Z"
   },
   {
    "duration": 119,
    "start_time": "2021-09-01T21:30:39.515Z"
   },
   {
    "duration": 11,
    "start_time": "2021-09-01T21:35:13.595Z"
   },
   {
    "duration": 303,
    "start_time": "2021-09-01T21:39:47.718Z"
   },
   {
    "duration": 11,
    "start_time": "2021-09-01T21:39:59.566Z"
   },
   {
    "duration": 3,
    "start_time": "2021-09-02T07:41:25.498Z"
   },
   {
    "duration": 355,
    "start_time": "2021-09-02T07:43:08.460Z"
   },
   {
    "duration": 4,
    "start_time": "2021-09-02T07:43:20.812Z"
   },
   {
    "duration": 234,
    "start_time": "2021-09-02T07:43:21.653Z"
   },
   {
    "duration": 270,
    "start_time": "2021-09-02T07:43:22.021Z"
   },
   {
    "duration": 764,
    "start_time": "2021-09-02T07:43:26.519Z"
   },
   {
    "duration": 65,
    "start_time": "2021-09-02T07:43:27.285Z"
   },
   {
    "duration": 14,
    "start_time": "2021-09-02T07:43:27.353Z"
   },
   {
    "duration": 25,
    "start_time": "2021-09-02T07:43:27.382Z"
   },
   {
    "duration": 23,
    "start_time": "2021-09-02T07:43:27.409Z"
   },
   {
    "duration": 18,
    "start_time": "2021-09-02T07:43:27.435Z"
   },
   {
    "duration": 32,
    "start_time": "2021-09-02T07:43:27.455Z"
   },
   {
    "duration": 11,
    "start_time": "2021-09-02T07:43:27.490Z"
   },
   {
    "duration": 7,
    "start_time": "2021-09-02T07:43:27.505Z"
   },
   {
    "duration": 9,
    "start_time": "2021-09-02T07:43:27.515Z"
   },
   {
    "duration": 5,
    "start_time": "2021-09-02T07:43:27.526Z"
   },
   {
    "duration": 56,
    "start_time": "2021-09-02T07:43:27.533Z"
   },
   {
    "duration": 8,
    "start_time": "2021-09-02T07:43:27.591Z"
   },
   {
    "duration": 9,
    "start_time": "2021-09-02T07:43:27.602Z"
   },
   {
    "duration": 7,
    "start_time": "2021-09-02T07:43:27.614Z"
   },
   {
    "duration": 12,
    "start_time": "2021-09-02T07:43:27.624Z"
   },
   {
    "duration": 50,
    "start_time": "2021-09-02T07:43:27.638Z"
   },
   {
    "duration": 11,
    "start_time": "2021-09-02T07:43:27.690Z"
   },
   {
    "duration": 12,
    "start_time": "2021-09-02T07:43:27.703Z"
   },
   {
    "duration": 22,
    "start_time": "2021-09-02T07:43:27.718Z"
   },
   {
    "duration": 46,
    "start_time": "2021-09-02T07:43:27.742Z"
   },
   {
    "duration": 12,
    "start_time": "2021-09-02T07:43:27.791Z"
   },
   {
    "duration": 7,
    "start_time": "2021-09-02T07:43:27.806Z"
   },
   {
    "duration": 11,
    "start_time": "2021-09-02T07:43:27.816Z"
   },
   {
    "duration": 13,
    "start_time": "2021-09-02T07:43:27.830Z"
   },
   {
    "duration": 10,
    "start_time": "2021-09-02T07:43:27.883Z"
   },
   {
    "duration": 16,
    "start_time": "2021-09-02T07:43:27.900Z"
   },
   {
    "duration": 62,
    "start_time": "2021-09-02T07:43:27.920Z"
   },
   {
    "duration": 27,
    "start_time": "2021-09-02T07:43:27.985Z"
   },
   {
    "duration": 21,
    "start_time": "2021-09-02T07:43:28.014Z"
   },
   {
    "duration": 15,
    "start_time": "2021-09-02T07:43:28.037Z"
   },
   {
    "duration": 39,
    "start_time": "2021-09-02T07:43:28.054Z"
   },
   {
    "duration": 16,
    "start_time": "2021-09-02T07:43:28.095Z"
   },
   {
    "duration": 4342,
    "start_time": "2021-09-02T07:43:28.113Z"
   },
   {
    "duration": 33,
    "start_time": "2021-09-02T07:43:32.457Z"
   },
   {
    "duration": 12,
    "start_time": "2021-09-02T07:43:32.492Z"
   },
   {
    "duration": 513,
    "start_time": "2021-09-02T07:43:32.506Z"
   },
   {
    "duration": 10,
    "start_time": "2021-09-02T07:43:33.021Z"
   },
   {
    "duration": 24,
    "start_time": "2021-09-02T07:43:33.033Z"
   },
   {
    "duration": 28,
    "start_time": "2021-09-02T07:43:33.059Z"
   },
   {
    "duration": 4,
    "start_time": "2021-09-02T07:43:33.089Z"
   },
   {
    "duration": 399,
    "start_time": "2021-09-02T07:43:33.096Z"
   },
   {
    "duration": 11,
    "start_time": "2021-09-02T07:43:33.498Z"
   },
   {
    "duration": 10,
    "start_time": "2021-09-02T07:43:33.512Z"
   },
   {
    "duration": 399,
    "start_time": "2021-09-02T07:43:33.525Z"
   },
   {
    "duration": 10,
    "start_time": "2021-09-02T07:43:33.927Z"
   },
   {
    "duration": 8,
    "start_time": "2021-09-02T07:43:33.940Z"
   },
   {
    "duration": 398,
    "start_time": "2021-09-02T07:43:33.951Z"
   },
   {
    "duration": 11,
    "start_time": "2021-09-02T07:43:34.351Z"
   },
   {
    "duration": 34,
    "start_time": "2021-09-02T07:43:34.365Z"
   },
   {
    "duration": 5,
    "start_time": "2021-09-02T07:43:34.402Z"
   },
   {
    "duration": 15,
    "start_time": "2021-09-02T07:43:34.410Z"
   },
   {
    "duration": 12,
    "start_time": "2021-09-02T07:43:34.428Z"
   },
   {
    "duration": 10,
    "start_time": "2021-09-02T07:43:34.483Z"
   },
   {
    "duration": 4,
    "start_time": "2021-09-02T07:43:34.495Z"
   },
   {
    "duration": 16,
    "start_time": "2021-09-02T07:43:34.502Z"
   },
   {
    "duration": 6,
    "start_time": "2021-09-02T07:43:34.520Z"
   },
   {
    "duration": 14,
    "start_time": "2021-09-02T07:43:34.528Z"
   },
   {
    "duration": 12,
    "start_time": "2021-09-02T07:43:34.583Z"
   },
   {
    "duration": 5,
    "start_time": "2021-09-02T07:43:34.597Z"
   },
   {
    "duration": 15,
    "start_time": "2021-09-02T07:43:34.604Z"
   },
   {
    "duration": 8,
    "start_time": "2021-09-02T07:43:34.621Z"
   },
   {
    "duration": 6,
    "start_time": "2021-09-02T07:43:34.631Z"
   },
   {
    "duration": 52,
    "start_time": "2021-09-02T07:43:34.639Z"
   },
   {
    "duration": 14,
    "start_time": "2021-09-02T07:43:34.694Z"
   },
   {
    "duration": 19,
    "start_time": "2021-09-02T07:43:34.710Z"
   },
   {
    "duration": 15,
    "start_time": "2021-09-02T07:43:34.731Z"
   },
   {
    "duration": 38,
    "start_time": "2021-09-02T07:43:34.748Z"
   },
   {
    "duration": 16,
    "start_time": "2021-09-02T07:43:34.788Z"
   },
   {
    "duration": 4,
    "start_time": "2021-09-02T07:43:34.807Z"
   },
   {
    "duration": 28,
    "start_time": "2021-09-02T07:43:34.814Z"
   },
   {
    "duration": 11,
    "start_time": "2021-09-02T07:43:34.844Z"
   },
   {
    "duration": 30,
    "start_time": "2021-09-02T07:43:34.857Z"
   },
   {
    "duration": 10,
    "start_time": "2021-09-02T07:43:34.890Z"
   },
   {
    "duration": 10,
    "start_time": "2021-09-02T07:43:34.903Z"
   },
   {
    "duration": 12,
    "start_time": "2021-09-02T07:43:34.915Z"
   },
   {
    "duration": 69,
    "start_time": "2021-09-02T07:43:34.929Z"
   },
   {
    "duration": 3,
    "start_time": "2021-09-02T09:50:23.794Z"
   },
   {
    "duration": 72,
    "start_time": "2021-09-02T09:50:23.800Z"
   },
   {
    "duration": 18,
    "start_time": "2021-09-02T09:50:23.875Z"
   },
   {
    "duration": 18,
    "start_time": "2021-09-02T09:50:23.897Z"
   },
   {
    "duration": 23,
    "start_time": "2021-09-02T09:50:23.918Z"
   },
   {
    "duration": 61,
    "start_time": "2021-09-02T09:50:23.943Z"
   },
   {
    "duration": 7,
    "start_time": "2021-09-02T09:50:24.007Z"
   },
   {
    "duration": 9,
    "start_time": "2021-09-02T09:50:24.018Z"
   },
   {
    "duration": 54,
    "start_time": "2021-09-02T09:50:24.030Z"
   },
   {
    "duration": 9,
    "start_time": "2021-09-02T09:50:24.086Z"
   },
   {
    "duration": 5,
    "start_time": "2021-09-02T09:50:24.097Z"
   },
   {
    "duration": 18,
    "start_time": "2021-09-02T09:50:24.104Z"
   },
   {
    "duration": 7,
    "start_time": "2021-09-02T09:50:24.125Z"
   },
   {
    "duration": 7,
    "start_time": "2021-09-02T09:50:24.134Z"
   },
   {
    "duration": 6,
    "start_time": "2021-09-02T09:50:24.183Z"
   },
   {
    "duration": 12,
    "start_time": "2021-09-02T09:50:24.191Z"
   },
   {
    "duration": 10,
    "start_time": "2021-09-02T09:50:24.205Z"
   },
   {
    "duration": 11,
    "start_time": "2021-09-02T09:50:24.217Z"
   },
   {
    "duration": 53,
    "start_time": "2021-09-02T09:50:24.230Z"
   },
   {
    "duration": 18,
    "start_time": "2021-09-02T09:50:24.286Z"
   },
   {
    "duration": 14,
    "start_time": "2021-09-02T09:50:24.306Z"
   },
   {
    "duration": 9,
    "start_time": "2021-09-02T09:50:24.322Z"
   },
   {
    "duration": 4,
    "start_time": "2021-09-02T09:50:24.338Z"
   },
   {
    "duration": 5,
    "start_time": "2021-09-02T09:50:24.382Z"
   },
   {
    "duration": 14,
    "start_time": "2021-09-02T09:50:24.389Z"
   },
   {
    "duration": 9,
    "start_time": "2021-09-02T09:50:24.405Z"
   },
   {
    "duration": 28,
    "start_time": "2021-09-02T09:50:24.416Z"
   },
   {
    "duration": 46,
    "start_time": "2021-09-02T09:50:24.446Z"
   },
   {
    "duration": 23,
    "start_time": "2021-09-02T09:50:24.495Z"
   },
   {
    "duration": 21,
    "start_time": "2021-09-02T09:50:24.520Z"
   },
   {
    "duration": 41,
    "start_time": "2021-09-02T09:50:24.543Z"
   },
   {
    "duration": 11,
    "start_time": "2021-09-02T09:50:24.586Z"
   },
   {
    "duration": 5,
    "start_time": "2021-09-02T09:50:24.600Z"
   },
   {
    "duration": 4251,
    "start_time": "2021-09-02T09:50:24.607Z"
   },
   {
    "duration": 34,
    "start_time": "2021-09-02T09:50:28.860Z"
   },
   {
    "duration": 5,
    "start_time": "2021-09-02T09:50:28.897Z"
   },
   {
    "duration": 523,
    "start_time": "2021-09-02T09:50:28.904Z"
   },
   {
    "duration": 10,
    "start_time": "2021-09-02T09:50:29.430Z"
   },
   {
    "duration": 19,
    "start_time": "2021-09-02T09:50:29.442Z"
   },
   {
    "duration": 29,
    "start_time": "2021-09-02T09:50:29.463Z"
   },
   {
    "duration": 4,
    "start_time": "2021-09-02T09:50:29.494Z"
   },
   {
    "duration": 393,
    "start_time": "2021-09-02T09:50:29.500Z"
   },
   {
    "duration": 9,
    "start_time": "2021-09-02T09:50:29.896Z"
   },
   {
    "duration": 7,
    "start_time": "2021-09-02T09:50:29.907Z"
   },
   {
    "duration": 398,
    "start_time": "2021-09-02T09:50:29.916Z"
   },
   {
    "duration": 11,
    "start_time": "2021-09-02T09:50:30.317Z"
   },
   {
    "duration": 18,
    "start_time": "2021-09-02T09:50:30.331Z"
   },
   {
    "duration": 405,
    "start_time": "2021-09-02T09:50:30.352Z"
   },
   {
    "duration": 10,
    "start_time": "2021-09-02T09:50:30.759Z"
   },
   {
    "duration": 26,
    "start_time": "2021-09-02T09:50:30.783Z"
   },
   {
    "duration": 13,
    "start_time": "2021-09-02T09:50:30.811Z"
   },
   {
    "duration": 24,
    "start_time": "2021-09-02T09:50:30.826Z"
   },
   {
    "duration": 28,
    "start_time": "2021-09-02T09:50:30.852Z"
   },
   {
    "duration": 18,
    "start_time": "2021-09-02T09:50:30.882Z"
   },
   {
    "duration": 22,
    "start_time": "2021-09-02T09:50:30.903Z"
   },
   {
    "duration": 27,
    "start_time": "2021-09-02T09:50:30.928Z"
   },
   {
    "duration": 23,
    "start_time": "2021-09-02T09:50:30.958Z"
   },
   {
    "duration": 21,
    "start_time": "2021-09-02T09:50:30.983Z"
   },
   {
    "duration": 28,
    "start_time": "2021-09-02T09:50:31.007Z"
   },
   {
    "duration": 12,
    "start_time": "2021-09-02T09:50:31.038Z"
   },
   {
    "duration": 32,
    "start_time": "2021-09-02T09:50:31.052Z"
   },
   {
    "duration": 33,
    "start_time": "2021-09-02T09:50:31.086Z"
   },
   {
    "duration": 7,
    "start_time": "2021-09-02T09:50:31.121Z"
   },
   {
    "duration": 30,
    "start_time": "2021-09-02T09:50:31.130Z"
   },
   {
    "duration": 26,
    "start_time": "2021-09-02T09:50:31.163Z"
   },
   {
    "duration": 38,
    "start_time": "2021-09-02T09:50:31.192Z"
   },
   {
    "duration": 40,
    "start_time": "2021-09-02T09:50:31.232Z"
   },
   {
    "duration": 14,
    "start_time": "2021-09-02T09:50:31.279Z"
   },
   {
    "duration": 37,
    "start_time": "2021-09-02T09:50:31.296Z"
   },
   {
    "duration": 38,
    "start_time": "2021-09-02T09:50:31.336Z"
   },
   {
    "duration": 31,
    "start_time": "2021-09-02T09:50:31.377Z"
   },
   {
    "duration": 28,
    "start_time": "2021-09-02T09:50:31.411Z"
   },
   {
    "duration": 30,
    "start_time": "2021-09-02T09:50:31.441Z"
   },
   {
    "duration": 15,
    "start_time": "2021-09-02T09:50:31.474Z"
   },
   {
    "duration": 28,
    "start_time": "2021-09-02T09:50:31.491Z"
   },
   {
    "duration": 21,
    "start_time": "2021-09-02T09:50:31.521Z"
   },
   {
    "duration": 44,
    "start_time": "2021-09-02T09:50:31.544Z"
   },
   {
    "duration": 15,
    "start_time": "2021-09-02T15:33:45.482Z"
   },
   {
    "duration": 91,
    "start_time": "2021-09-02T15:34:40.870Z"
   },
   {
    "duration": 15,
    "start_time": "2021-09-02T15:34:48.998Z"
   },
   {
    "duration": 13,
    "start_time": "2021-09-02T15:35:57.673Z"
   },
   {
    "duration": 13,
    "start_time": "2021-09-02T15:36:10.711Z"
   },
   {
    "duration": 13,
    "start_time": "2021-09-02T15:36:34.107Z"
   },
   {
    "duration": 13,
    "start_time": "2021-09-02T15:36:52.530Z"
   },
   {
    "duration": 92,
    "start_time": "2021-09-02T15:38:32.069Z"
   },
   {
    "duration": 12,
    "start_time": "2021-09-02T15:38:39.693Z"
   },
   {
    "duration": 12,
    "start_time": "2021-09-02T15:45:12.326Z"
   },
   {
    "duration": 668,
    "start_time": "2021-09-05T06:38:44.234Z"
   },
   {
    "duration": 55,
    "start_time": "2021-09-05T06:38:44.905Z"
   },
   {
    "duration": 12,
    "start_time": "2021-09-05T06:38:44.962Z"
   },
   {
    "duration": 27,
    "start_time": "2021-09-05T06:38:44.977Z"
   },
   {
    "duration": 22,
    "start_time": "2021-09-05T06:38:45.006Z"
   },
   {
    "duration": 23,
    "start_time": "2021-09-05T06:38:45.030Z"
   },
   {
    "duration": 6,
    "start_time": "2021-09-05T06:38:45.055Z"
   },
   {
    "duration": 8,
    "start_time": "2021-09-05T06:38:45.064Z"
   },
   {
    "duration": 16,
    "start_time": "2021-09-05T06:38:45.074Z"
   },
   {
    "duration": 20,
    "start_time": "2021-09-05T06:38:45.092Z"
   },
   {
    "duration": 6,
    "start_time": "2021-09-05T06:38:45.114Z"
   },
   {
    "duration": 23,
    "start_time": "2021-09-05T06:38:45.122Z"
   },
   {
    "duration": 6,
    "start_time": "2021-09-05T06:38:45.147Z"
   },
   {
    "duration": 27,
    "start_time": "2021-09-05T06:38:45.155Z"
   },
   {
    "duration": 11,
    "start_time": "2021-09-05T06:38:45.183Z"
   },
   {
    "duration": 15,
    "start_time": "2021-09-05T06:38:45.196Z"
   },
   {
    "duration": 7,
    "start_time": "2021-09-05T06:38:45.213Z"
   },
   {
    "duration": 27,
    "start_time": "2021-09-05T06:38:45.222Z"
   },
   {
    "duration": 23,
    "start_time": "2021-09-05T06:38:45.251Z"
   },
   {
    "duration": 15,
    "start_time": "2021-09-05T06:38:45.276Z"
   },
   {
    "duration": 17,
    "start_time": "2021-09-05T06:38:45.293Z"
   },
   {
    "duration": 16,
    "start_time": "2021-09-05T06:38:45.312Z"
   },
   {
    "duration": 23,
    "start_time": "2021-09-05T06:38:45.332Z"
   },
   {
    "duration": 26,
    "start_time": "2021-09-05T06:38:45.358Z"
   },
   {
    "duration": 16,
    "start_time": "2021-09-05T06:38:45.386Z"
   },
   {
    "duration": 16,
    "start_time": "2021-09-05T06:38:45.404Z"
   },
   {
    "duration": 33,
    "start_time": "2021-09-05T06:38:45.421Z"
   },
   {
    "duration": 25,
    "start_time": "2021-09-05T06:38:45.455Z"
   },
   {
    "duration": 19,
    "start_time": "2021-09-05T06:38:45.482Z"
   },
   {
    "duration": 17,
    "start_time": "2021-09-05T06:38:45.503Z"
   },
   {
    "duration": 25,
    "start_time": "2021-09-05T06:38:45.522Z"
   },
   {
    "duration": 11,
    "start_time": "2021-09-05T06:38:45.549Z"
   },
   {
    "duration": 25,
    "start_time": "2021-09-05T06:38:45.561Z"
   },
   {
    "duration": 3744,
    "start_time": "2021-09-05T06:38:45.588Z"
   },
   {
    "duration": 14,
    "start_time": "2021-09-05T06:38:49.341Z"
   },
   {
    "duration": 9,
    "start_time": "2021-09-05T06:38:49.357Z"
   },
   {
    "duration": 344,
    "start_time": "2021-09-05T06:38:49.368Z"
   },
   {
    "duration": 8,
    "start_time": "2021-09-05T06:38:49.714Z"
   },
   {
    "duration": 26,
    "start_time": "2021-09-05T06:38:49.723Z"
   },
   {
    "duration": 11,
    "start_time": "2021-09-05T06:38:49.751Z"
   },
   {
    "duration": 7,
    "start_time": "2021-09-05T06:38:49.763Z"
   },
   {
    "duration": 273,
    "start_time": "2021-09-05T06:38:49.772Z"
   },
   {
    "duration": 7,
    "start_time": "2021-09-05T06:38:50.047Z"
   },
   {
    "duration": 13,
    "start_time": "2021-09-05T06:38:50.055Z"
   },
   {
    "duration": 265,
    "start_time": "2021-09-05T06:38:50.070Z"
   },
   {
    "duration": 7,
    "start_time": "2021-09-05T06:38:50.337Z"
   },
   {
    "duration": 6,
    "start_time": "2021-09-05T06:38:50.346Z"
   },
   {
    "duration": 270,
    "start_time": "2021-09-05T06:38:50.353Z"
   },
   {
    "duration": 8,
    "start_time": "2021-09-05T06:38:50.625Z"
   },
   {
    "duration": 26,
    "start_time": "2021-09-05T06:38:50.634Z"
   },
   {
    "duration": 3,
    "start_time": "2021-09-05T06:38:50.662Z"
   },
   {
    "duration": 18,
    "start_time": "2021-09-05T06:38:50.667Z"
   },
   {
    "duration": 27,
    "start_time": "2021-09-05T06:38:50.687Z"
   },
   {
    "duration": 22,
    "start_time": "2021-09-05T06:38:50.716Z"
   },
   {
    "duration": 23,
    "start_time": "2021-09-05T06:38:50.740Z"
   },
   {
    "duration": 22,
    "start_time": "2021-09-05T06:38:50.765Z"
   },
   {
    "duration": 7,
    "start_time": "2021-09-05T06:38:50.788Z"
   },
   {
    "duration": 16,
    "start_time": "2021-09-05T06:38:50.797Z"
   },
   {
    "duration": 12,
    "start_time": "2021-09-05T06:38:50.815Z"
   },
   {
    "duration": 12,
    "start_time": "2021-09-05T06:38:50.829Z"
   },
   {
    "duration": 21,
    "start_time": "2021-09-05T06:38:50.843Z"
   },
   {
    "duration": 28,
    "start_time": "2021-09-05T06:38:50.866Z"
   },
   {
    "duration": 7,
    "start_time": "2021-09-05T06:38:50.896Z"
   },
   {
    "duration": 12,
    "start_time": "2021-09-05T06:38:50.905Z"
   },
   {
    "duration": 17,
    "start_time": "2021-09-05T06:38:50.919Z"
   },
   {
    "duration": 20,
    "start_time": "2021-09-05T06:38:50.937Z"
   },
   {
    "duration": 28,
    "start_time": "2021-09-05T06:38:50.959Z"
   },
   {
    "duration": 10,
    "start_time": "2021-09-05T06:38:50.992Z"
   },
   {
    "duration": 27,
    "start_time": "2021-09-05T06:38:51.004Z"
   },
   {
    "duration": 14,
    "start_time": "2021-09-05T06:38:51.033Z"
   },
   {
    "duration": 11,
    "start_time": "2021-09-05T06:38:51.049Z"
   },
   {
    "duration": 24,
    "start_time": "2021-09-05T06:38:51.062Z"
   },
   {
    "duration": 20,
    "start_time": "2021-09-05T06:38:51.088Z"
   },
   {
    "duration": 18,
    "start_time": "2021-09-05T06:38:51.110Z"
   },
   {
    "duration": 13,
    "start_time": "2021-09-05T06:38:51.130Z"
   },
   {
    "duration": 16,
    "start_time": "2021-09-05T06:38:51.144Z"
   },
   {
    "duration": 11,
    "start_time": "2021-09-05T06:38:51.162Z"
   },
   {
    "duration": 35,
    "start_time": "2021-09-05T06:38:51.175Z"
   },
   {
    "duration": 5,
    "start_time": "2021-09-05T06:38:51.212Z"
   },
   {
    "duration": 26,
    "start_time": "2021-09-05T06:39:08.636Z"
   },
   {
    "duration": 11,
    "start_time": "2021-09-05T06:39:40.397Z"
   },
   {
    "duration": 2235,
    "start_time": "2021-09-05T06:47:43.605Z"
   },
   {
    "duration": 2136,
    "start_time": "2021-09-05T06:47:56.765Z"
   },
   {
    "duration": 31,
    "start_time": "2021-09-05T06:48:00.348Z"
   },
   {
    "duration": 2024,
    "start_time": "2021-09-05T06:48:12.628Z"
   },
   {
    "duration": 4,
    "start_time": "2021-09-05T06:48:22.920Z"
   },
   {
    "duration": 10,
    "start_time": "2021-09-05T06:53:08.528Z"
   },
   {
    "duration": 97,
    "start_time": "2021-09-05T06:53:30.257Z"
   },
   {
    "duration": 17,
    "start_time": "2021-09-05T06:53:33.544Z"
   },
   {
    "duration": 16,
    "start_time": "2021-09-05T06:53:37.539Z"
   },
   {
    "duration": 15,
    "start_time": "2021-09-05T06:53:42.785Z"
   },
   {
    "duration": 290,
    "start_time": "2021-09-08T07:45:29.338Z"
   },
   {
    "duration": 778,
    "start_time": "2021-09-08T07:45:32.989Z"
   },
   {
    "duration": 63,
    "start_time": "2021-09-08T07:45:33.770Z"
   },
   {
    "duration": 17,
    "start_time": "2021-09-08T07:45:33.836Z"
   },
   {
    "duration": 28,
    "start_time": "2021-09-08T07:45:33.868Z"
   },
   {
    "duration": 18,
    "start_time": "2021-09-08T07:45:33.899Z"
   },
   {
    "duration": 52,
    "start_time": "2021-09-08T07:45:33.920Z"
   },
   {
    "duration": 7,
    "start_time": "2021-09-08T07:45:33.975Z"
   },
   {
    "duration": 5,
    "start_time": "2021-09-08T07:45:33.985Z"
   },
   {
    "duration": 9,
    "start_time": "2021-09-08T07:45:33.993Z"
   },
   {
    "duration": 10,
    "start_time": "2021-09-08T07:45:34.004Z"
   },
   {
    "duration": 51,
    "start_time": "2021-09-08T07:45:34.016Z"
   },
   {
    "duration": 19,
    "start_time": "2021-09-08T07:45:34.069Z"
   },
   {
    "duration": 24,
    "start_time": "2021-09-08T07:45:34.090Z"
   },
   {
    "duration": 32,
    "start_time": "2021-09-08T07:45:34.116Z"
   },
   {
    "duration": 15,
    "start_time": "2021-09-08T07:45:34.151Z"
   },
   {
    "duration": 25,
    "start_time": "2021-09-08T07:45:34.168Z"
   },
   {
    "duration": 14,
    "start_time": "2021-09-08T07:45:34.195Z"
   },
   {
    "duration": 24,
    "start_time": "2021-09-08T07:45:34.211Z"
   },
   {
    "duration": 29,
    "start_time": "2021-09-08T07:45:34.237Z"
   },
   {
    "duration": 28,
    "start_time": "2021-09-08T07:45:34.268Z"
   },
   {
    "duration": 40,
    "start_time": "2021-09-08T07:45:34.298Z"
   },
   {
    "duration": 24,
    "start_time": "2021-09-08T07:45:34.340Z"
   },
   {
    "duration": 24,
    "start_time": "2021-09-08T07:45:34.369Z"
   },
   {
    "duration": 11,
    "start_time": "2021-09-08T07:45:34.397Z"
   },
   {
    "duration": 15,
    "start_time": "2021-09-08T07:45:34.411Z"
   },
   {
    "duration": 25,
    "start_time": "2021-09-08T07:45:34.429Z"
   },
   {
    "duration": 12,
    "start_time": "2021-09-08T07:45:34.456Z"
   },
   {
    "duration": 30,
    "start_time": "2021-09-08T07:45:34.471Z"
   },
   {
    "duration": 35,
    "start_time": "2021-09-08T07:45:34.504Z"
   },
   {
    "duration": 27,
    "start_time": "2021-09-08T07:45:34.542Z"
   },
   {
    "duration": 20,
    "start_time": "2021-09-08T07:45:34.571Z"
   },
   {
    "duration": 22,
    "start_time": "2021-09-08T07:45:34.593Z"
   },
   {
    "duration": 25,
    "start_time": "2021-09-08T07:45:34.617Z"
   },
   {
    "duration": 21,
    "start_time": "2021-09-08T07:45:34.644Z"
   },
   {
    "duration": 4342,
    "start_time": "2021-09-08T07:45:34.668Z"
   },
   {
    "duration": 21,
    "start_time": "2021-09-08T07:45:39.013Z"
   },
   {
    "duration": 5,
    "start_time": "2021-09-08T07:45:39.036Z"
   },
   {
    "duration": 532,
    "start_time": "2021-09-08T07:45:39.067Z"
   },
   {
    "duration": 10,
    "start_time": "2021-09-08T07:45:39.601Z"
   },
   {
    "duration": 24,
    "start_time": "2021-09-08T07:45:39.613Z"
   },
   {
    "duration": 38,
    "start_time": "2021-09-08T07:45:39.639Z"
   },
   {
    "duration": 3,
    "start_time": "2021-09-08T07:45:39.680Z"
   },
   {
    "duration": 429,
    "start_time": "2021-09-08T07:45:39.686Z"
   },
   {
    "duration": 9,
    "start_time": "2021-09-08T07:45:40.118Z"
   },
   {
    "duration": 5,
    "start_time": "2021-09-08T07:45:40.130Z"
   },
   {
    "duration": 430,
    "start_time": "2021-09-08T07:45:40.137Z"
   },
   {
    "duration": 10,
    "start_time": "2021-09-08T07:45:40.569Z"
   },
   {
    "duration": 6,
    "start_time": "2021-09-08T07:45:40.581Z"
   },
   {
    "duration": 442,
    "start_time": "2021-09-08T07:45:40.589Z"
   },
   {
    "duration": 11,
    "start_time": "2021-09-08T07:45:41.033Z"
   },
   {
    "duration": 42,
    "start_time": "2021-09-08T07:45:41.047Z"
   },
   {
    "duration": 5,
    "start_time": "2021-09-08T07:45:41.093Z"
   },
   {
    "duration": 20,
    "start_time": "2021-09-08T07:45:41.101Z"
   },
   {
    "duration": 21,
    "start_time": "2021-09-08T07:45:41.124Z"
   },
   {
    "duration": 26,
    "start_time": "2021-09-08T07:45:41.148Z"
   },
   {
    "duration": 4,
    "start_time": "2021-09-08T07:45:41.177Z"
   },
   {
    "duration": 46,
    "start_time": "2021-09-08T07:45:41.184Z"
   },
   {
    "duration": 35,
    "start_time": "2021-09-08T07:45:41.232Z"
   },
   {
    "duration": 4,
    "start_time": "2021-09-08T07:45:41.270Z"
   },
   {
    "duration": 15,
    "start_time": "2021-09-08T07:45:41.277Z"
   },
   {
    "duration": 10,
    "start_time": "2021-09-08T07:45:41.294Z"
   },
   {
    "duration": 5,
    "start_time": "2021-09-08T07:45:41.306Z"
   },
   {
    "duration": 55,
    "start_time": "2021-09-08T07:45:41.313Z"
   },
   {
    "duration": 12,
    "start_time": "2021-09-08T07:45:41.371Z"
   },
   {
    "duration": 14,
    "start_time": "2021-09-08T07:45:41.385Z"
   },
   {
    "duration": 27,
    "start_time": "2021-09-08T07:45:41.402Z"
   },
   {
    "duration": 21,
    "start_time": "2021-09-08T07:45:41.431Z"
   },
   {
    "duration": 12,
    "start_time": "2021-09-08T07:45:41.468Z"
   },
   {
    "duration": 24,
    "start_time": "2021-09-08T07:45:41.483Z"
   },
   {
    "duration": 6,
    "start_time": "2021-09-08T07:45:41.510Z"
   },
   {
    "duration": 23,
    "start_time": "2021-09-08T07:45:41.518Z"
   },
   {
    "duration": 31,
    "start_time": "2021-09-08T07:45:41.543Z"
   },
   {
    "duration": 5,
    "start_time": "2021-09-08T07:45:41.576Z"
   },
   {
    "duration": 18,
    "start_time": "2021-09-08T07:45:41.583Z"
   },
   {
    "duration": 17,
    "start_time": "2021-09-08T07:45:41.603Z"
   },
   {
    "duration": 46,
    "start_time": "2021-09-08T07:45:41.622Z"
   },
   {
    "duration": 10,
    "start_time": "2021-09-08T07:45:41.670Z"
   },
   {
    "duration": 11,
    "start_time": "2021-09-08T07:45:41.682Z"
   },
   {
    "duration": 10,
    "start_time": "2021-09-08T07:45:41.696Z"
   },
   {
    "duration": 25,
    "start_time": "2021-09-08T07:45:41.708Z"
   },
   {
    "duration": 4,
    "start_time": "2021-09-08T07:48:15.769Z"
   },
   {
    "duration": 4,
    "start_time": "2021-09-08T07:48:18.738Z"
   },
   {
    "duration": 7,
    "start_time": "2021-09-08T07:48:18.749Z"
   },
   {
    "duration": 83,
    "start_time": "2021-09-08T07:48:18.759Z"
   },
   {
    "duration": 28,
    "start_time": "2021-09-08T07:48:18.846Z"
   },
   {
    "duration": 25,
    "start_time": "2021-09-08T07:48:18.878Z"
   },
   {
    "duration": 63,
    "start_time": "2021-09-08T07:48:18.905Z"
   },
   {
    "duration": 22,
    "start_time": "2021-09-08T07:48:18.970Z"
   },
   {
    "duration": 7,
    "start_time": "2021-09-08T07:48:18.995Z"
   },
   {
    "duration": 6,
    "start_time": "2021-09-08T07:48:19.004Z"
   },
   {
    "duration": 54,
    "start_time": "2021-09-08T07:48:19.015Z"
   },
   {
    "duration": 13,
    "start_time": "2021-09-08T07:48:19.073Z"
   },
   {
    "duration": 4,
    "start_time": "2021-09-08T07:48:19.089Z"
   },
   {
    "duration": 16,
    "start_time": "2021-09-08T07:48:19.096Z"
   },
   {
    "duration": 54,
    "start_time": "2021-09-08T07:48:19.114Z"
   },
   {
    "duration": 8,
    "start_time": "2021-09-08T07:48:19.171Z"
   },
   {
    "duration": 9,
    "start_time": "2021-09-08T07:48:19.181Z"
   },
   {
    "duration": 14,
    "start_time": "2021-09-08T07:48:19.193Z"
   },
   {
    "duration": 9,
    "start_time": "2021-09-08T07:48:19.209Z"
   },
   {
    "duration": 48,
    "start_time": "2021-09-08T07:48:19.220Z"
   },
   {
    "duration": 10,
    "start_time": "2021-09-08T07:48:19.270Z"
   },
   {
    "duration": 16,
    "start_time": "2021-09-08T07:48:19.282Z"
   },
   {
    "duration": 28,
    "start_time": "2021-09-08T07:48:19.300Z"
   },
   {
    "duration": 10,
    "start_time": "2021-09-08T07:48:19.330Z"
   },
   {
    "duration": 31,
    "start_time": "2021-09-08T07:48:19.342Z"
   },
   {
    "duration": 6,
    "start_time": "2021-09-08T07:48:19.375Z"
   },
   {
    "duration": 8,
    "start_time": "2021-09-08T07:48:19.383Z"
   },
   {
    "duration": 12,
    "start_time": "2021-09-08T07:48:19.393Z"
   },
   {
    "duration": 9,
    "start_time": "2021-09-08T07:48:19.412Z"
   },
   {
    "duration": 57,
    "start_time": "2021-09-08T07:48:19.425Z"
   },
   {
    "duration": 25,
    "start_time": "2021-09-08T07:48:19.485Z"
   },
   {
    "duration": 26,
    "start_time": "2021-09-08T07:48:19.512Z"
   },
   {
    "duration": 43,
    "start_time": "2021-09-08T07:48:19.540Z"
   },
   {
    "duration": 15,
    "start_time": "2021-09-08T07:48:19.585Z"
   },
   {
    "duration": 16,
    "start_time": "2021-09-08T07:48:19.602Z"
   },
   {
    "duration": 50,
    "start_time": "2021-09-08T07:48:19.621Z"
   },
   {
    "duration": 4506,
    "start_time": "2021-09-08T07:48:19.673Z"
   },
   {
    "duration": 21,
    "start_time": "2021-09-08T07:48:24.182Z"
   },
   {
    "duration": 7,
    "start_time": "2021-09-08T07:48:24.205Z"
   },
   {
    "duration": 552,
    "start_time": "2021-09-08T07:48:24.215Z"
   },
   {
    "duration": 11,
    "start_time": "2021-09-08T07:48:24.770Z"
   },
   {
    "duration": 21,
    "start_time": "2021-09-08T07:48:24.783Z"
   },
   {
    "duration": 13,
    "start_time": "2021-09-08T07:48:24.806Z"
   },
   {
    "duration": 4,
    "start_time": "2021-09-08T07:48:24.822Z"
   },
   {
    "duration": 399,
    "start_time": "2021-09-08T07:48:24.868Z"
   },
   {
    "duration": 10,
    "start_time": "2021-09-08T07:48:25.269Z"
   },
   {
    "duration": 7,
    "start_time": "2021-09-08T07:48:25.281Z"
   },
   {
    "duration": 409,
    "start_time": "2021-09-08T07:48:25.290Z"
   },
   {
    "duration": 9,
    "start_time": "2021-09-08T07:48:25.702Z"
   },
   {
    "duration": 6,
    "start_time": "2021-09-08T07:48:25.714Z"
   },
   {
    "duration": 418,
    "start_time": "2021-09-08T07:48:25.723Z"
   },
   {
    "duration": 10,
    "start_time": "2021-09-08T07:48:26.143Z"
   },
   {
    "duration": 26,
    "start_time": "2021-09-08T07:48:26.155Z"
   },
   {
    "duration": 4,
    "start_time": "2021-09-08T07:48:26.183Z"
   },
   {
    "duration": 13,
    "start_time": "2021-09-08T07:48:26.190Z"
   },
   {
    "duration": 16,
    "start_time": "2021-09-08T07:48:26.205Z"
   },
   {
    "duration": 46,
    "start_time": "2021-09-08T07:48:26.223Z"
   },
   {
    "duration": 4,
    "start_time": "2021-09-08T07:48:26.271Z"
   },
   {
    "duration": 32,
    "start_time": "2021-09-08T07:48:26.277Z"
   },
   {
    "duration": 14,
    "start_time": "2021-09-08T07:48:26.311Z"
   },
   {
    "duration": 5,
    "start_time": "2021-09-08T07:48:26.327Z"
   },
   {
    "duration": 42,
    "start_time": "2021-09-08T07:48:26.334Z"
   },
   {
    "duration": 12,
    "start_time": "2021-09-08T07:48:26.378Z"
   },
   {
    "duration": 4,
    "start_time": "2021-09-08T07:48:26.392Z"
   },
   {
    "duration": 19,
    "start_time": "2021-09-08T07:48:26.398Z"
   },
   {
    "duration": 49,
    "start_time": "2021-09-08T07:48:26.419Z"
   },
   {
    "duration": 6,
    "start_time": "2021-09-08T07:48:26.470Z"
   },
   {
    "duration": 16,
    "start_time": "2021-09-08T07:48:26.478Z"
   },
   {
    "duration": 18,
    "start_time": "2021-09-08T07:48:26.496Z"
   },
   {
    "duration": 54,
    "start_time": "2021-09-08T07:48:26.516Z"
   },
   {
    "duration": 21,
    "start_time": "2021-09-08T07:48:26.572Z"
   },
   {
    "duration": 6,
    "start_time": "2021-09-08T07:48:26.596Z"
   },
   {
    "duration": 20,
    "start_time": "2021-09-08T07:48:26.605Z"
   },
   {
    "duration": 47,
    "start_time": "2021-09-08T07:48:26.628Z"
   },
   {
    "duration": 5,
    "start_time": "2021-09-08T07:48:26.677Z"
   },
   {
    "duration": 21,
    "start_time": "2021-09-08T07:48:26.684Z"
   },
   {
    "duration": 27,
    "start_time": "2021-09-08T07:48:26.707Z"
   },
   {
    "duration": 31,
    "start_time": "2021-09-08T07:48:26.737Z"
   },
   {
    "duration": 10,
    "start_time": "2021-09-08T07:48:26.771Z"
   },
   {
    "duration": 14,
    "start_time": "2021-09-08T07:48:26.783Z"
   },
   {
    "duration": 12,
    "start_time": "2021-09-08T07:48:26.800Z"
   },
   {
    "duration": 57,
    "start_time": "2021-09-08T07:48:26.814Z"
   },
   {
    "duration": 1971,
    "start_time": "2021-09-08T07:56:32.555Z"
   },
   {
    "duration": 1850,
    "start_time": "2021-09-08T07:58:33.565Z"
   },
   {
    "duration": 5,
    "start_time": "2021-09-08T07:58:50.285Z"
   },
   {
    "duration": 1857,
    "start_time": "2021-09-08T07:59:09.485Z"
   },
   {
    "duration": 1890,
    "start_time": "2021-09-08T07:59:33.370Z"
   },
   {
    "duration": 4,
    "start_time": "2021-09-08T07:59:41.359Z"
   },
   {
    "duration": 11,
    "start_time": "2021-09-08T07:59:41.365Z"
   },
   {
    "duration": 71,
    "start_time": "2021-09-08T07:59:41.380Z"
   },
   {
    "duration": 31,
    "start_time": "2021-09-08T07:59:41.453Z"
   },
   {
    "duration": 19,
    "start_time": "2021-09-08T07:59:41.487Z"
   },
   {
    "duration": 68,
    "start_time": "2021-09-08T07:59:41.509Z"
   },
   {
    "duration": 21,
    "start_time": "2021-09-08T07:59:41.582Z"
   },
   {
    "duration": 10,
    "start_time": "2021-09-08T07:59:41.605Z"
   },
   {
    "duration": 49,
    "start_time": "2021-09-08T07:59:41.618Z"
   },
   {
    "duration": 10,
    "start_time": "2021-09-08T07:59:41.670Z"
   },
   {
    "duration": 14,
    "start_time": "2021-09-08T07:59:41.683Z"
   },
   {
    "duration": 4,
    "start_time": "2021-09-08T07:59:41.699Z"
   },
   {
    "duration": 12,
    "start_time": "2021-09-08T07:59:41.705Z"
   },
   {
    "duration": 69,
    "start_time": "2021-09-08T07:59:41.722Z"
   },
   {
    "duration": 10,
    "start_time": "2021-09-08T07:59:41.795Z"
   },
   {
    "duration": 10,
    "start_time": "2021-09-08T07:59:41.808Z"
   },
   {
    "duration": 8,
    "start_time": "2021-09-08T07:59:41.820Z"
   },
   {
    "duration": 48,
    "start_time": "2021-09-08T07:59:41.831Z"
   },
   {
    "duration": 7,
    "start_time": "2021-09-08T07:59:41.882Z"
   },
   {
    "duration": 12,
    "start_time": "2021-09-08T07:59:41.892Z"
   },
   {
    "duration": 16,
    "start_time": "2021-09-08T07:59:41.906Z"
   },
   {
    "duration": 58,
    "start_time": "2021-09-08T07:59:41.924Z"
   },
   {
    "duration": 30,
    "start_time": "2021-09-08T07:59:41.985Z"
   },
   {
    "duration": 14,
    "start_time": "2021-09-08T07:59:42.019Z"
   },
   {
    "duration": 36,
    "start_time": "2021-09-08T07:59:42.036Z"
   },
   {
    "duration": 7,
    "start_time": "2021-09-08T07:59:42.075Z"
   },
   {
    "duration": 9,
    "start_time": "2021-09-08T07:59:42.085Z"
   },
   {
    "duration": 12,
    "start_time": "2021-09-08T07:59:42.096Z"
   },
   {
    "duration": 9,
    "start_time": "2021-09-08T07:59:42.110Z"
   },
   {
    "duration": 63,
    "start_time": "2021-09-08T07:59:42.121Z"
   },
   {
    "duration": 24,
    "start_time": "2021-09-08T07:59:42.189Z"
   },
   {
    "duration": 22,
    "start_time": "2021-09-08T07:59:42.216Z"
   },
   {
    "duration": 49,
    "start_time": "2021-09-08T07:59:42.240Z"
   },
   {
    "duration": 23,
    "start_time": "2021-09-08T07:59:42.292Z"
   },
   {
    "duration": 17,
    "start_time": "2021-09-08T07:59:42.317Z"
   },
   {
    "duration": 43,
    "start_time": "2021-09-08T07:59:42.337Z"
   },
   {
    "duration": 32,
    "start_time": "2021-09-08T07:59:42.383Z"
   },
   {
    "duration": 5125,
    "start_time": "2021-09-08T07:59:42.423Z"
   },
   {
    "duration": 37,
    "start_time": "2021-09-08T07:59:47.553Z"
   },
   {
    "duration": 6,
    "start_time": "2021-09-08T07:59:47.593Z"
   },
   {
    "duration": 694,
    "start_time": "2021-09-08T07:59:47.602Z"
   },
   {
    "duration": 10,
    "start_time": "2021-09-08T07:59:48.298Z"
   },
   {
    "duration": 40,
    "start_time": "2021-09-08T07:59:48.310Z"
   },
   {
    "duration": 23,
    "start_time": "2021-09-08T07:59:48.352Z"
   },
   {
    "duration": 7,
    "start_time": "2021-09-08T07:59:48.378Z"
   },
   {
    "duration": 438,
    "start_time": "2021-09-08T07:59:48.388Z"
   },
   {
    "duration": 10,
    "start_time": "2021-09-08T07:59:48.828Z"
   },
   {
    "duration": 25,
    "start_time": "2021-09-08T07:59:48.841Z"
   },
   {
    "duration": 427,
    "start_time": "2021-09-08T07:59:48.870Z"
   },
   {
    "duration": 10,
    "start_time": "2021-09-08T07:59:49.299Z"
   },
   {
    "duration": 6,
    "start_time": "2021-09-08T07:59:49.312Z"
   },
   {
    "duration": 448,
    "start_time": "2021-09-08T07:59:49.320Z"
   },
   {
    "duration": 13,
    "start_time": "2021-09-08T07:59:49.772Z"
   },
   {
    "duration": 18,
    "start_time": "2021-09-08T07:59:49.788Z"
   },
   {
    "duration": 5,
    "start_time": "2021-09-08T07:59:49.809Z"
   },
   {
    "duration": 18,
    "start_time": "2021-09-08T07:59:49.816Z"
   },
   {
    "duration": 45,
    "start_time": "2021-09-08T07:59:49.836Z"
   },
   {
    "duration": 20,
    "start_time": "2021-09-08T07:59:49.883Z"
   },
   {
    "duration": 7,
    "start_time": "2021-09-08T07:59:49.905Z"
   },
   {
    "duration": 56,
    "start_time": "2021-09-08T07:59:49.914Z"
   },
   {
    "duration": 18,
    "start_time": "2021-09-08T07:59:49.974Z"
   },
   {
    "duration": 7,
    "start_time": "2021-09-08T07:59:49.995Z"
   },
   {
    "duration": 19,
    "start_time": "2021-09-08T07:59:50.004Z"
   },
   {
    "duration": 43,
    "start_time": "2021-09-08T07:59:50.026Z"
   },
   {
    "duration": 5,
    "start_time": "2021-09-08T07:59:50.072Z"
   },
   {
    "duration": 18,
    "start_time": "2021-09-08T07:59:50.080Z"
   },
   {
    "duration": 14,
    "start_time": "2021-09-08T07:59:50.100Z"
   },
   {
    "duration": 7,
    "start_time": "2021-09-08T07:59:50.116Z"
   },
   {
    "duration": 58,
    "start_time": "2021-09-08T07:59:50.125Z"
   },
   {
    "duration": 10,
    "start_time": "2021-09-08T07:59:50.188Z"
   },
   {
    "duration": 13,
    "start_time": "2021-09-08T07:59:50.201Z"
   },
   {
    "duration": 54,
    "start_time": "2021-09-08T07:59:50.216Z"
   },
   {
    "duration": 12,
    "start_time": "2021-09-08T07:59:50.273Z"
   },
   {
    "duration": 19,
    "start_time": "2021-09-08T07:59:50.288Z"
   },
   {
    "duration": 16,
    "start_time": "2021-09-08T07:59:50.310Z"
   },
   {
    "duration": 6,
    "start_time": "2021-09-08T07:59:50.328Z"
   },
   {
    "duration": 54,
    "start_time": "2021-09-08T07:59:50.337Z"
   },
   {
    "duration": 15,
    "start_time": "2021-09-08T07:59:50.394Z"
   },
   {
    "duration": 9,
    "start_time": "2021-09-08T07:59:50.411Z"
   },
   {
    "duration": 9,
    "start_time": "2021-09-08T07:59:50.422Z"
   },
   {
    "duration": 37,
    "start_time": "2021-09-08T07:59:50.433Z"
   },
   {
    "duration": 15,
    "start_time": "2021-09-08T07:59:50.473Z"
   },
   {
    "duration": 21,
    "start_time": "2021-09-08T07:59:50.491Z"
   },
   {
    "duration": 2016,
    "start_time": "2021-09-08T08:00:22.344Z"
   },
   {
    "duration": 4,
    "start_time": "2021-09-08T08:00:40.225Z"
   },
   {
    "duration": 6,
    "start_time": "2021-09-08T08:00:40.235Z"
   },
   {
    "duration": 73,
    "start_time": "2021-09-08T08:00:40.244Z"
   },
   {
    "duration": 46,
    "start_time": "2021-09-08T08:00:40.321Z"
   },
   {
    "duration": 23,
    "start_time": "2021-09-08T08:00:40.372Z"
   },
   {
    "duration": 17,
    "start_time": "2021-09-08T08:00:40.398Z"
   },
   {
    "duration": 76,
    "start_time": "2021-09-08T08:00:40.418Z"
   },
   {
    "duration": 9,
    "start_time": "2021-09-08T08:00:40.500Z"
   },
   {
    "duration": 56,
    "start_time": "2021-09-08T08:00:40.513Z"
   },
   {
    "duration": 9,
    "start_time": "2021-09-08T08:00:40.573Z"
   },
   {
    "duration": 16,
    "start_time": "2021-09-08T08:00:40.586Z"
   },
   {
    "duration": 3,
    "start_time": "2021-09-08T08:00:40.605Z"
   },
   {
    "duration": 12,
    "start_time": "2021-09-08T08:00:40.610Z"
   },
   {
    "duration": 60,
    "start_time": "2021-09-08T08:00:40.624Z"
   },
   {
    "duration": 7,
    "start_time": "2021-09-08T08:00:40.686Z"
   },
   {
    "duration": 11,
    "start_time": "2021-09-08T08:00:40.695Z"
   },
   {
    "duration": 6,
    "start_time": "2021-09-08T08:00:40.708Z"
   },
   {
    "duration": 10,
    "start_time": "2021-09-08T08:00:40.716Z"
   },
   {
    "duration": 7,
    "start_time": "2021-09-08T08:00:40.767Z"
   },
   {
    "duration": 11,
    "start_time": "2021-09-08T08:00:40.782Z"
   },
   {
    "duration": 13,
    "start_time": "2021-09-08T08:00:40.796Z"
   },
   {
    "duration": 18,
    "start_time": "2021-09-08T08:00:40.811Z"
   },
   {
    "duration": 53,
    "start_time": "2021-09-08T08:00:40.831Z"
   },
   {
    "duration": 10,
    "start_time": "2021-09-08T08:00:40.886Z"
   },
   {
    "duration": 15,
    "start_time": "2021-09-08T08:00:40.898Z"
   },
   {
    "duration": 6,
    "start_time": "2021-09-08T08:00:40.915Z"
   },
   {
    "duration": 7,
    "start_time": "2021-09-08T08:00:40.923Z"
   },
   {
    "duration": 47,
    "start_time": "2021-09-08T08:00:40.933Z"
   },
   {
    "duration": 10,
    "start_time": "2021-09-08T08:00:40.984Z"
   },
   {
    "duration": 17,
    "start_time": "2021-09-08T08:00:40.996Z"
   },
   {
    "duration": 29,
    "start_time": "2021-09-08T08:00:41.016Z"
   },
   {
    "duration": 28,
    "start_time": "2021-09-08T08:00:41.068Z"
   },
   {
    "duration": 27,
    "start_time": "2021-09-08T08:00:41.099Z"
   },
   {
    "duration": 58,
    "start_time": "2021-09-08T08:00:41.129Z"
   },
   {
    "duration": 17,
    "start_time": "2021-09-08T08:00:41.189Z"
   },
   {
    "duration": 14,
    "start_time": "2021-09-08T08:00:41.208Z"
   },
   {
    "duration": 69,
    "start_time": "2021-09-08T08:00:41.225Z"
   },
   {
    "duration": 4855,
    "start_time": "2021-09-08T08:00:41.297Z"
   },
   {
    "duration": 36,
    "start_time": "2021-09-08T08:00:46.154Z"
   },
   {
    "duration": 10,
    "start_time": "2021-09-08T08:00:46.192Z"
   },
   {
    "duration": 667,
    "start_time": "2021-09-08T08:00:46.205Z"
   },
   {
    "duration": 13,
    "start_time": "2021-09-08T08:00:46.875Z"
   },
   {
    "duration": 22,
    "start_time": "2021-09-08T08:00:46.891Z"
   },
   {
    "duration": 12,
    "start_time": "2021-09-08T08:00:46.916Z"
   },
   {
    "duration": 36,
    "start_time": "2021-09-08T08:00:46.931Z"
   },
   {
    "duration": 433,
    "start_time": "2021-09-08T08:00:46.971Z"
   },
   {
    "duration": 10,
    "start_time": "2021-09-08T08:00:47.407Z"
   },
   {
    "duration": 7,
    "start_time": "2021-09-08T08:00:47.420Z"
   },
   {
    "duration": 460,
    "start_time": "2021-09-08T08:00:47.429Z"
   },
   {
    "duration": 9,
    "start_time": "2021-09-08T08:00:47.891Z"
   },
   {
    "duration": 18,
    "start_time": "2021-09-08T08:00:47.903Z"
   },
   {
    "duration": 467,
    "start_time": "2021-09-08T08:00:47.923Z"
   },
   {
    "duration": 10,
    "start_time": "2021-09-08T08:00:48.392Z"
   },
   {
    "duration": 25,
    "start_time": "2021-09-08T08:00:48.405Z"
   },
   {
    "duration": 26,
    "start_time": "2021-09-08T08:00:48.432Z"
   },
   {
    "duration": 32,
    "start_time": "2021-09-08T08:00:48.465Z"
   },
   {
    "duration": 10,
    "start_time": "2021-09-08T08:00:48.501Z"
   },
   {
    "duration": 24,
    "start_time": "2021-09-08T08:00:48.514Z"
   },
   {
    "duration": 10,
    "start_time": "2021-09-08T08:00:48.540Z"
   },
   {
    "duration": 48,
    "start_time": "2021-09-08T08:00:48.552Z"
   },
   {
    "duration": 17,
    "start_time": "2021-09-08T08:00:48.603Z"
   },
   {
    "duration": 9,
    "start_time": "2021-09-08T08:00:48.622Z"
   },
   {
    "duration": 20,
    "start_time": "2021-09-08T08:00:48.633Z"
   },
   {
    "duration": 18,
    "start_time": "2021-09-08T08:00:48.656Z"
   },
   {
    "duration": 5,
    "start_time": "2021-09-08T08:00:48.678Z"
   },
   {
    "duration": 20,
    "start_time": "2021-09-08T08:00:48.685Z"
   },
   {
    "duration": 17,
    "start_time": "2021-09-08T08:00:48.707Z"
   },
   {
    "duration": 8,
    "start_time": "2021-09-08T08:00:48.726Z"
   },
   {
    "duration": 43,
    "start_time": "2021-09-08T08:00:48.737Z"
   },
   {
    "duration": 25,
    "start_time": "2021-09-08T08:00:48.783Z"
   },
   {
    "duration": 21,
    "start_time": "2021-09-08T08:00:48.810Z"
   },
   {
    "duration": 36,
    "start_time": "2021-09-08T08:00:48.833Z"
   },
   {
    "duration": 5,
    "start_time": "2021-09-08T08:00:48.874Z"
   },
   {
    "duration": 20,
    "start_time": "2021-09-08T08:00:48.883Z"
   },
   {
    "duration": 27,
    "start_time": "2021-09-08T08:00:48.906Z"
   },
   {
    "duration": 10,
    "start_time": "2021-09-08T08:00:48.936Z"
   },
   {
    "duration": 32,
    "start_time": "2021-09-08T08:00:48.949Z"
   },
   {
    "duration": 17,
    "start_time": "2021-09-08T08:00:48.984Z"
   },
   {
    "duration": 16,
    "start_time": "2021-09-08T08:00:49.003Z"
   },
   {
    "duration": 13,
    "start_time": "2021-09-08T08:00:49.021Z"
   },
   {
    "duration": 37,
    "start_time": "2021-09-08T08:00:49.036Z"
   },
   {
    "duration": 14,
    "start_time": "2021-09-08T08:00:49.077Z"
   },
   {
    "duration": 22,
    "start_time": "2021-09-08T08:00:49.094Z"
   },
   {
    "duration": 2048,
    "start_time": "2021-09-08T08:01:31.479Z"
   },
   {
    "duration": 2288,
    "start_time": "2021-09-08T08:01:40.113Z"
   },
   {
    "duration": 4,
    "start_time": "2021-09-08T08:01:52.777Z"
   },
   {
    "duration": 10,
    "start_time": "2021-09-08T08:01:52.784Z"
   },
   {
    "duration": 71,
    "start_time": "2021-09-08T08:01:52.797Z"
   },
   {
    "duration": 20,
    "start_time": "2021-09-08T08:01:52.873Z"
   },
   {
    "duration": 19,
    "start_time": "2021-09-08T08:01:52.895Z"
   },
   {
    "duration": 66,
    "start_time": "2021-09-08T08:01:52.916Z"
   },
   {
    "duration": 21,
    "start_time": "2021-09-08T08:01:52.985Z"
   },
   {
    "duration": 58,
    "start_time": "2021-09-08T08:01:53.010Z"
   },
   {
    "duration": 6,
    "start_time": "2021-09-08T08:01:53.074Z"
   },
   {
    "duration": 14,
    "start_time": "2021-09-08T08:01:53.083Z"
   },
   {
    "duration": 21,
    "start_time": "2021-09-08T08:01:53.100Z"
   },
   {
    "duration": 11,
    "start_time": "2021-09-08T08:01:53.123Z"
   },
   {
    "duration": 23,
    "start_time": "2021-09-08T08:01:53.136Z"
   },
   {
    "duration": 29,
    "start_time": "2021-09-08T08:01:53.166Z"
   },
   {
    "duration": 12,
    "start_time": "2021-09-08T08:01:53.198Z"
   },
   {
    "duration": 11,
    "start_time": "2021-09-08T08:01:53.212Z"
   },
   {
    "duration": 10,
    "start_time": "2021-09-08T08:01:53.226Z"
   },
   {
    "duration": 30,
    "start_time": "2021-09-08T08:01:53.238Z"
   },
   {
    "duration": 8,
    "start_time": "2021-09-08T08:01:53.271Z"
   },
   {
    "duration": 15,
    "start_time": "2021-09-08T08:01:53.281Z"
   },
   {
    "duration": 10,
    "start_time": "2021-09-08T08:01:53.298Z"
   },
   {
    "duration": 9,
    "start_time": "2021-09-08T08:01:53.314Z"
   },
   {
    "duration": 52,
    "start_time": "2021-09-08T08:01:53.327Z"
   },
   {
    "duration": 17,
    "start_time": "2021-09-08T08:01:53.383Z"
   },
   {
    "duration": 10,
    "start_time": "2021-09-08T08:01:53.402Z"
   },
   {
    "duration": 5,
    "start_time": "2021-09-08T08:01:53.414Z"
   },
   {
    "duration": 6,
    "start_time": "2021-09-08T08:01:53.421Z"
   },
   {
    "duration": 16,
    "start_time": "2021-09-08T08:01:53.469Z"
   },
   {
    "duration": 11,
    "start_time": "2021-09-08T08:01:53.488Z"
   },
   {
    "duration": 19,
    "start_time": "2021-09-08T08:01:53.502Z"
   },
   {
    "duration": 67,
    "start_time": "2021-09-08T08:01:53.524Z"
   },
   {
    "duration": 23,
    "start_time": "2021-09-08T08:01:53.594Z"
   },
   {
    "duration": 65,
    "start_time": "2021-09-08T08:01:53.620Z"
   },
   {
    "duration": 23,
    "start_time": "2021-09-08T08:01:53.688Z"
   },
   {
    "duration": 15,
    "start_time": "2021-09-08T08:01:53.713Z"
   },
   {
    "duration": 40,
    "start_time": "2021-09-08T08:01:53.730Z"
   },
   {
    "duration": 51,
    "start_time": "2021-09-08T08:01:53.772Z"
   },
   {
    "duration": 4742,
    "start_time": "2021-09-08T08:01:53.825Z"
   },
   {
    "duration": 23,
    "start_time": "2021-09-08T08:01:58.571Z"
   },
   {
    "duration": 7,
    "start_time": "2021-09-08T08:01:58.597Z"
   },
   {
    "duration": 595,
    "start_time": "2021-09-08T08:01:58.607Z"
   },
   {
    "duration": 9,
    "start_time": "2021-09-08T08:01:59.205Z"
   },
   {
    "duration": 22,
    "start_time": "2021-09-08T08:01:59.216Z"
   },
   {
    "duration": 40,
    "start_time": "2021-09-08T08:01:59.241Z"
   },
   {
    "duration": 4,
    "start_time": "2021-09-08T08:01:59.283Z"
   },
   {
    "duration": 440,
    "start_time": "2021-09-08T08:01:59.290Z"
   },
   {
    "duration": 11,
    "start_time": "2021-09-08T08:01:59.733Z"
   },
   {
    "duration": 22,
    "start_time": "2021-09-08T08:01:59.746Z"
   },
   {
    "duration": 553,
    "start_time": "2021-09-08T08:01:59.772Z"
   },
   {
    "duration": 11,
    "start_time": "2021-09-08T08:02:00.328Z"
   },
   {
    "duration": 26,
    "start_time": "2021-09-08T08:02:00.341Z"
   },
   {
    "duration": 460,
    "start_time": "2021-09-08T08:02:00.371Z"
   },
   {
    "duration": 10,
    "start_time": "2021-09-08T08:02:00.833Z"
   },
   {
    "duration": 38,
    "start_time": "2021-09-08T08:02:00.845Z"
   },
   {
    "duration": 23,
    "start_time": "2021-09-08T08:02:00.886Z"
   },
   {
    "duration": 35,
    "start_time": "2021-09-08T08:02:00.911Z"
   },
   {
    "duration": 23,
    "start_time": "2021-09-08T08:02:00.948Z"
   },
   {
    "duration": 29,
    "start_time": "2021-09-08T08:02:00.974Z"
   },
   {
    "duration": 11,
    "start_time": "2021-09-08T08:02:01.006Z"
   },
   {
    "duration": 32,
    "start_time": "2021-09-08T08:02:01.019Z"
   },
   {
    "duration": 23,
    "start_time": "2021-09-08T08:02:01.054Z"
   },
   {
    "duration": 21,
    "start_time": "2021-09-08T08:02:01.080Z"
   },
   {
    "duration": 27,
    "start_time": "2021-09-08T08:02:01.104Z"
   },
   {
    "duration": 14,
    "start_time": "2021-09-08T08:02:01.140Z"
   },
   {
    "duration": 24,
    "start_time": "2021-09-08T08:02:01.158Z"
   },
   {
    "duration": 24,
    "start_time": "2021-09-08T08:02:01.184Z"
   },
   {
    "duration": 15,
    "start_time": "2021-09-08T08:02:01.211Z"
   },
   {
    "duration": 19,
    "start_time": "2021-09-08T08:02:01.229Z"
   },
   {
    "duration": 30,
    "start_time": "2021-09-08T08:02:01.250Z"
   },
   {
    "duration": 33,
    "start_time": "2021-09-08T08:02:01.283Z"
   },
   {
    "duration": 24,
    "start_time": "2021-09-08T08:02:01.319Z"
   },
   {
    "duration": 38,
    "start_time": "2021-09-08T08:02:01.346Z"
   },
   {
    "duration": 12,
    "start_time": "2021-09-08T08:02:01.386Z"
   },
   {
    "duration": 26,
    "start_time": "2021-09-08T08:02:01.401Z"
   },
   {
    "duration": 20,
    "start_time": "2021-09-08T08:02:01.429Z"
   },
   {
    "duration": 27,
    "start_time": "2021-09-08T08:02:01.451Z"
   },
   {
    "duration": 58,
    "start_time": "2021-09-08T08:02:01.481Z"
   },
   {
    "duration": 19,
    "start_time": "2021-09-08T08:02:01.541Z"
   },
   {
    "duration": 31,
    "start_time": "2021-09-08T08:02:01.563Z"
   },
   {
    "duration": 20,
    "start_time": "2021-09-08T08:02:01.597Z"
   },
   {
    "duration": 26,
    "start_time": "2021-09-08T08:02:01.620Z"
   },
   {
    "duration": 12,
    "start_time": "2021-09-08T08:02:01.655Z"
   },
   {
    "duration": 35,
    "start_time": "2021-09-08T08:02:01.670Z"
   },
   {
    "duration": 11,
    "start_time": "2021-09-08T08:02:13.949Z"
   },
   {
    "duration": 1935,
    "start_time": "2021-09-08T08:04:23.455Z"
   },
   {
    "duration": 3,
    "start_time": "2021-09-08T08:04:30.969Z"
   },
   {
    "duration": 16,
    "start_time": "2021-09-08T08:04:30.976Z"
   },
   {
    "duration": 87,
    "start_time": "2021-09-08T08:04:30.995Z"
   },
   {
    "duration": 29,
    "start_time": "2021-09-08T08:04:31.085Z"
   },
   {
    "duration": 21,
    "start_time": "2021-09-08T08:04:31.117Z"
   },
   {
    "duration": 51,
    "start_time": "2021-09-08T08:04:31.141Z"
   },
   {
    "duration": 28,
    "start_time": "2021-09-08T08:04:31.196Z"
   },
   {
    "duration": 48,
    "start_time": "2021-09-08T08:04:31.227Z"
   },
   {
    "duration": 8,
    "start_time": "2021-09-08T08:04:31.279Z"
   },
   {
    "duration": 17,
    "start_time": "2021-09-08T08:04:31.289Z"
   },
   {
    "duration": 19,
    "start_time": "2021-09-08T08:04:31.308Z"
   },
   {
    "duration": 6,
    "start_time": "2021-09-08T08:04:31.329Z"
   },
   {
    "duration": 32,
    "start_time": "2021-09-08T08:04:31.337Z"
   },
   {
    "duration": 29,
    "start_time": "2021-09-08T08:04:31.372Z"
   },
   {
    "duration": 9,
    "start_time": "2021-09-08T08:04:31.403Z"
   },
   {
    "duration": 35,
    "start_time": "2021-09-08T08:04:31.414Z"
   },
   {
    "duration": 31,
    "start_time": "2021-09-08T08:04:31.451Z"
   },
   {
    "duration": 28,
    "start_time": "2021-09-08T08:04:31.484Z"
   },
   {
    "duration": 11,
    "start_time": "2021-09-08T08:04:31.518Z"
   },
   {
    "duration": 34,
    "start_time": "2021-09-08T08:04:31.532Z"
   },
   {
    "duration": 45,
    "start_time": "2021-09-08T08:04:31.569Z"
   },
   {
    "duration": 32,
    "start_time": "2021-09-08T08:04:31.618Z"
   },
   {
    "duration": 39,
    "start_time": "2021-09-08T08:04:31.653Z"
   },
   {
    "duration": 21,
    "start_time": "2021-09-08T08:04:31.695Z"
   },
   {
    "duration": 13,
    "start_time": "2021-09-08T08:04:31.719Z"
   },
   {
    "duration": 9,
    "start_time": "2021-09-08T08:04:31.735Z"
   },
   {
    "duration": 23,
    "start_time": "2021-09-08T08:04:31.747Z"
   },
   {
    "duration": 49,
    "start_time": "2021-09-08T08:04:31.773Z"
   },
   {
    "duration": 39,
    "start_time": "2021-09-08T08:04:31.824Z"
   },
   {
    "duration": 53,
    "start_time": "2021-09-08T08:04:31.866Z"
   },
   {
    "duration": 35,
    "start_time": "2021-09-08T08:04:31.922Z"
   },
   {
    "duration": 38,
    "start_time": "2021-09-08T08:04:31.959Z"
   },
   {
    "duration": 28,
    "start_time": "2021-09-08T08:04:32.000Z"
   },
   {
    "duration": 27,
    "start_time": "2021-09-08T08:04:32.030Z"
   },
   {
    "duration": 28,
    "start_time": "2021-09-08T08:04:32.059Z"
   },
   {
    "duration": 20,
    "start_time": "2021-09-08T08:04:32.089Z"
   },
   {
    "duration": 56,
    "start_time": "2021-09-08T08:04:32.111Z"
   },
   {
    "duration": 4945,
    "start_time": "2021-09-08T08:04:32.171Z"
   },
   {
    "duration": 22,
    "start_time": "2021-09-08T08:04:37.118Z"
   },
   {
    "duration": 26,
    "start_time": "2021-09-08T08:04:37.142Z"
   },
   {
    "duration": 579,
    "start_time": "2021-09-08T08:04:37.171Z"
   },
   {
    "duration": 20,
    "start_time": "2021-09-08T08:04:37.752Z"
   },
   {
    "duration": 25,
    "start_time": "2021-09-08T08:04:37.775Z"
   },
   {
    "duration": 11,
    "start_time": "2021-09-08T08:04:37.803Z"
   },
   {
    "duration": 4,
    "start_time": "2021-09-08T08:04:37.816Z"
   },
   {
    "duration": 461,
    "start_time": "2021-09-08T08:04:37.822Z"
   },
   {
    "duration": 10,
    "start_time": "2021-09-08T08:04:38.286Z"
   },
   {
    "duration": 28,
    "start_time": "2021-09-08T08:04:38.298Z"
   },
   {
    "duration": 428,
    "start_time": "2021-09-08T08:04:38.328Z"
   },
   {
    "duration": 15,
    "start_time": "2021-09-08T08:04:38.758Z"
   },
   {
    "duration": 10,
    "start_time": "2021-09-08T08:04:38.775Z"
   },
   {
    "duration": 451,
    "start_time": "2021-09-08T08:04:38.788Z"
   },
   {
    "duration": 10,
    "start_time": "2021-09-08T08:04:39.242Z"
   },
   {
    "duration": 28,
    "start_time": "2021-09-08T08:04:39.254Z"
   },
   {
    "duration": 4,
    "start_time": "2021-09-08T08:04:39.290Z"
   },
   {
    "duration": 20,
    "start_time": "2021-09-08T08:04:39.299Z"
   },
   {
    "duration": 26,
    "start_time": "2021-09-08T08:04:39.321Z"
   },
   {
    "duration": 14,
    "start_time": "2021-09-08T08:04:39.368Z"
   },
   {
    "duration": 4,
    "start_time": "2021-09-08T08:04:39.385Z"
   },
   {
    "duration": 25,
    "start_time": "2021-09-08T08:04:39.392Z"
   },
   {
    "duration": 48,
    "start_time": "2021-09-08T08:04:39.420Z"
   },
   {
    "duration": 5,
    "start_time": "2021-09-08T08:04:39.471Z"
   },
   {
    "duration": 18,
    "start_time": "2021-09-08T08:04:39.480Z"
   },
   {
    "duration": 10,
    "start_time": "2021-09-08T08:04:39.500Z"
   },
   {
    "duration": 7,
    "start_time": "2021-09-08T08:04:39.512Z"
   },
   {
    "duration": 54,
    "start_time": "2021-09-08T08:04:39.521Z"
   },
   {
    "duration": 19,
    "start_time": "2021-09-08T08:04:39.578Z"
   },
   {
    "duration": 11,
    "start_time": "2021-09-08T08:04:39.600Z"
   },
   {
    "duration": 17,
    "start_time": "2021-09-08T08:04:39.613Z"
   },
   {
    "duration": 15,
    "start_time": "2021-09-08T08:04:39.632Z"
   },
   {
    "duration": 19,
    "start_time": "2021-09-08T08:04:39.670Z"
   },
   {
    "duration": 18,
    "start_time": "2021-09-08T08:04:39.692Z"
   },
   {
    "duration": 14,
    "start_time": "2021-09-08T08:04:39.712Z"
   },
   {
    "duration": 21,
    "start_time": "2021-09-08T08:04:39.728Z"
   },
   {
    "duration": 30,
    "start_time": "2021-09-08T08:04:39.751Z"
   },
   {
    "duration": 5,
    "start_time": "2021-09-08T08:04:39.783Z"
   },
   {
    "duration": 23,
    "start_time": "2021-09-08T08:04:39.790Z"
   },
   {
    "duration": 12,
    "start_time": "2021-09-08T08:04:39.815Z"
   },
   {
    "duration": 42,
    "start_time": "2021-09-08T08:04:39.829Z"
   },
   {
    "duration": 13,
    "start_time": "2021-09-08T08:04:39.874Z"
   },
   {
    "duration": 15,
    "start_time": "2021-09-08T08:04:39.889Z"
   },
   {
    "duration": 12,
    "start_time": "2021-09-08T08:04:39.906Z"
   },
   {
    "duration": 61,
    "start_time": "2021-09-08T08:04:39.920Z"
   },
   {
    "duration": 5,
    "start_time": "2021-09-08T09:29:49.005Z"
   },
   {
    "duration": 407,
    "start_time": "2021-09-08T09:29:52.202Z"
   },
   {
    "duration": 11,
    "start_time": "2021-09-08T09:29:54.273Z"
   },
   {
    "duration": 4,
    "start_time": "2021-09-08T10:12:39.233Z"
   },
   {
    "duration": 9202,
    "start_time": "2021-09-08T10:15:08.709Z"
   },
   {
    "duration": 11,
    "start_time": "2021-09-08T10:15:40.520Z"
   },
   {
    "duration": 20,
    "start_time": "2021-09-08T10:19:52.510Z"
   },
   {
    "duration": 6,
    "start_time": "2021-09-08T10:20:50.680Z"
   },
   {
    "duration": 7,
    "start_time": "2021-09-08T10:21:40.154Z"
   },
   {
    "duration": 12,
    "start_time": "2021-09-08T10:21:51.230Z"
   },
   {
    "duration": 7,
    "start_time": "2021-09-08T10:21:51.999Z"
   },
   {
    "duration": 16,
    "start_time": "2021-09-08T10:22:05.562Z"
   },
   {
    "duration": 29,
    "start_time": "2021-09-08T10:22:54.698Z"
   },
   {
    "duration": 19,
    "start_time": "2021-09-08T14:38:30.156Z"
   },
   {
    "duration": 6,
    "start_time": "2021-09-08T14:38:34.572Z"
   },
   {
    "duration": 9416,
    "start_time": "2021-09-08T14:38:45.293Z"
   },
   {
    "duration": 3,
    "start_time": "2021-09-08T14:39:00.175Z"
   },
   {
    "duration": 7,
    "start_time": "2021-09-08T14:39:00.185Z"
   },
   {
    "duration": 87,
    "start_time": "2021-09-08T14:39:00.195Z"
   },
   {
    "duration": 18,
    "start_time": "2021-09-08T14:39:00.286Z"
   },
   {
    "duration": 61,
    "start_time": "2021-09-08T14:39:00.308Z"
   },
   {
    "duration": 20,
    "start_time": "2021-09-08T14:39:00.372Z"
   },
   {
    "duration": 25,
    "start_time": "2021-09-08T14:39:00.395Z"
   },
   {
    "duration": 51,
    "start_time": "2021-09-08T14:39:00.423Z"
   },
   {
    "duration": 8,
    "start_time": "2021-09-08T14:39:00.477Z"
   },
   {
    "duration": 11,
    "start_time": "2021-09-08T14:39:00.487Z"
   },
   {
    "duration": 11,
    "start_time": "2021-09-08T14:39:00.501Z"
   },
   {
    "duration": 52,
    "start_time": "2021-09-08T14:39:00.515Z"
   },
   {
    "duration": 5,
    "start_time": "2021-09-08T14:39:00.570Z"
   },
   {
    "duration": 19,
    "start_time": "2021-09-08T14:39:00.577Z"
   },
   {
    "duration": 9,
    "start_time": "2021-09-08T14:39:00.598Z"
   },
   {
    "duration": 9,
    "start_time": "2021-09-08T14:39:00.609Z"
   },
   {
    "duration": 48,
    "start_time": "2021-09-08T14:39:00.621Z"
   },
   {
    "duration": 3,
    "start_time": "2021-09-08T14:39:00.671Z"
   },
   {
    "duration": 28,
    "start_time": "2021-09-08T14:39:00.677Z"
   },
   {
    "duration": 15,
    "start_time": "2021-09-08T14:39:00.708Z"
   },
   {
    "duration": 23,
    "start_time": "2021-09-08T14:39:00.725Z"
   },
   {
    "duration": 2074,
    "start_time": "2021-09-08T14:39:00.751Z"
   },
   {
    "duration": 636,
    "start_time": "2021-09-08T14:39:02.194Z"
   },
   {
    "duration": 615,
    "start_time": "2021-09-08T14:39:02.217Z"
   },
   {
    "duration": 609,
    "start_time": "2021-09-08T14:39:02.224Z"
   },
   {
    "duration": 606,
    "start_time": "2021-09-08T14:39:02.228Z"
   },
   {
    "duration": 602,
    "start_time": "2021-09-08T14:39:02.234Z"
   },
   {
    "duration": 599,
    "start_time": "2021-09-08T14:39:02.238Z"
   },
   {
    "duration": 595,
    "start_time": "2021-09-08T14:39:02.243Z"
   },
   {
    "duration": 591,
    "start_time": "2021-09-08T14:39:02.248Z"
   },
   {
    "duration": 589,
    "start_time": "2021-09-08T14:39:02.252Z"
   },
   {
    "duration": 585,
    "start_time": "2021-09-08T14:39:02.257Z"
   },
   {
    "duration": 582,
    "start_time": "2021-09-08T14:39:02.261Z"
   },
   {
    "duration": 580,
    "start_time": "2021-09-08T14:39:02.265Z"
   },
   {
    "duration": 577,
    "start_time": "2021-09-08T14:39:02.269Z"
   },
   {
    "duration": 573,
    "start_time": "2021-09-08T14:39:02.274Z"
   },
   {
    "duration": 571,
    "start_time": "2021-09-08T14:39:02.278Z"
   },
   {
    "duration": 568,
    "start_time": "2021-09-08T14:39:02.282Z"
   },
   {
    "duration": 565,
    "start_time": "2021-09-08T14:39:02.286Z"
   },
   {
    "duration": 562,
    "start_time": "2021-09-08T14:39:02.291Z"
   },
   {
    "duration": 558,
    "start_time": "2021-09-08T14:39:02.296Z"
   },
   {
    "duration": 538,
    "start_time": "2021-09-08T14:39:02.317Z"
   },
   {
    "duration": 531,
    "start_time": "2021-09-08T14:39:02.326Z"
   },
   {
    "duration": 527,
    "start_time": "2021-09-08T14:39:02.331Z"
   },
   {
    "duration": 522,
    "start_time": "2021-09-08T14:39:02.337Z"
   },
   {
    "duration": 518,
    "start_time": "2021-09-08T14:39:02.342Z"
   },
   {
    "duration": 514,
    "start_time": "2021-09-08T14:39:02.348Z"
   },
   {
    "duration": 511,
    "start_time": "2021-09-08T14:39:02.352Z"
   },
   {
    "duration": 508,
    "start_time": "2021-09-08T14:39:02.357Z"
   },
   {
    "duration": 506,
    "start_time": "2021-09-08T14:39:02.361Z"
   },
   {
    "duration": 503,
    "start_time": "2021-09-08T14:39:02.365Z"
   },
   {
    "duration": 501,
    "start_time": "2021-09-08T14:39:02.369Z"
   },
   {
    "duration": 496,
    "start_time": "2021-09-08T14:39:02.375Z"
   },
   {
    "duration": 493,
    "start_time": "2021-09-08T14:39:02.379Z"
   },
   {
    "duration": 490,
    "start_time": "2021-09-08T14:39:02.384Z"
   },
   {
    "duration": 487,
    "start_time": "2021-09-08T14:39:02.388Z"
   },
   {
    "duration": 467,
    "start_time": "2021-09-08T14:39:02.410Z"
   },
   {
    "duration": 435,
    "start_time": "2021-09-08T14:39:02.443Z"
   },
   {
    "duration": 431,
    "start_time": "2021-09-08T14:39:02.448Z"
   },
   {
    "duration": 427,
    "start_time": "2021-09-08T14:39:02.454Z"
   },
   {
    "duration": 413,
    "start_time": "2021-09-08T14:39:02.469Z"
   },
   {
    "duration": 291,
    "start_time": "2021-09-08T14:39:02.593Z"
   },
   {
    "duration": 244,
    "start_time": "2021-09-08T14:39:02.641Z"
   },
   {
    "duration": 223,
    "start_time": "2021-09-08T14:39:02.663Z"
   },
   {
    "duration": 219,
    "start_time": "2021-09-08T14:39:02.669Z"
   },
   {
    "duration": 214,
    "start_time": "2021-09-08T14:39:02.675Z"
   },
   {
    "duration": 211,
    "start_time": "2021-09-08T14:39:02.680Z"
   },
   {
    "duration": 206,
    "start_time": "2021-09-08T14:39:02.686Z"
   },
   {
    "duration": 200,
    "start_time": "2021-09-08T14:39:02.693Z"
   },
   {
    "duration": 196,
    "start_time": "2021-09-08T14:39:02.699Z"
   },
   {
    "duration": 196,
    "start_time": "2021-09-08T14:39:02.706Z"
   },
   {
    "duration": 192,
    "start_time": "2021-09-08T14:39:02.711Z"
   },
   {
    "duration": 188,
    "start_time": "2021-09-08T14:39:02.717Z"
   },
   {
    "duration": 32,
    "start_time": "2021-09-08T14:39:02.875Z"
   },
   {
    "duration": 10,
    "start_time": "2021-09-08T14:39:02.898Z"
   },
   {
    "duration": 70,
    "start_time": "2021-09-08T14:39:02.903Z"
   },
   {
    "duration": 65,
    "start_time": "2021-09-08T14:39:02.909Z"
   },
   {
    "duration": 63,
    "start_time": "2021-09-08T14:39:02.913Z"
   },
   {
    "duration": 59,
    "start_time": "2021-09-08T14:39:02.918Z"
   },
   {
    "duration": 56,
    "start_time": "2021-09-08T14:39:02.923Z"
   },
   {
    "duration": 48,
    "start_time": "2021-09-08T14:39:02.933Z"
   },
   {
    "duration": 45,
    "start_time": "2021-09-08T14:39:02.937Z"
   },
   {
    "duration": 23,
    "start_time": "2021-09-08T14:39:02.960Z"
   },
   {
    "duration": 5,
    "start_time": "2021-09-08T14:39:02.980Z"
   },
   {
    "duration": 3,
    "start_time": "2021-09-08T14:39:02.984Z"
   },
   {
    "duration": -1,
    "start_time": "2021-09-08T14:39:02.989Z"
   },
   {
    "duration": -20,
    "start_time": "2021-09-08T14:39:03.010Z"
   },
   {
    "duration": 3,
    "start_time": "2021-09-08T14:39:58.689Z"
   },
   {
    "duration": 3,
    "start_time": "2021-09-08T14:40:03.203Z"
   },
   {
    "duration": 15,
    "start_time": "2021-09-08T14:40:03.209Z"
   },
   {
    "duration": 78,
    "start_time": "2021-09-08T14:40:03.227Z"
   },
   {
    "duration": 14,
    "start_time": "2021-09-08T14:40:03.308Z"
   },
   {
    "duration": 53,
    "start_time": "2021-09-08T14:40:03.324Z"
   },
   {
    "duration": 38,
    "start_time": "2021-09-08T14:40:03.379Z"
   },
   {
    "duration": 33,
    "start_time": "2021-09-08T14:40:03.420Z"
   },
   {
    "duration": 16,
    "start_time": "2021-09-08T14:40:03.457Z"
   },
   {
    "duration": 17,
    "start_time": "2021-09-08T14:40:03.476Z"
   },
   {
    "duration": 31,
    "start_time": "2021-09-08T14:40:03.496Z"
   },
   {
    "duration": 23,
    "start_time": "2021-09-08T14:40:03.530Z"
   },
   {
    "duration": 14,
    "start_time": "2021-09-08T14:40:03.556Z"
   },
   {
    "duration": 12,
    "start_time": "2021-09-08T14:40:03.573Z"
   },
   {
    "duration": 25,
    "start_time": "2021-09-08T14:40:03.588Z"
   },
   {
    "duration": 11,
    "start_time": "2021-09-08T14:40:03.616Z"
   },
   {
    "duration": 20,
    "start_time": "2021-09-08T14:40:03.629Z"
   },
   {
    "duration": 16,
    "start_time": "2021-09-08T14:40:03.652Z"
   },
   {
    "duration": 10,
    "start_time": "2021-09-08T14:40:03.670Z"
   },
   {
    "duration": 19,
    "start_time": "2021-09-08T14:40:03.682Z"
   },
   {
    "duration": 18,
    "start_time": "2021-09-08T14:40:03.704Z"
   },
   {
    "duration": 38,
    "start_time": "2021-09-08T14:40:03.724Z"
   },
   {
    "duration": 21,
    "start_time": "2021-09-08T14:40:03.769Z"
   },
   {
    "duration": 21,
    "start_time": "2021-09-08T14:40:03.795Z"
   },
   {
    "duration": 31,
    "start_time": "2021-09-08T14:40:03.819Z"
   },
   {
    "duration": 27,
    "start_time": "2021-09-08T14:40:03.853Z"
   },
   {
    "duration": 25,
    "start_time": "2021-09-08T14:40:03.883Z"
   },
   {
    "duration": 35,
    "start_time": "2021-09-08T14:40:03.910Z"
   },
   {
    "duration": 9,
    "start_time": "2021-09-08T14:40:03.947Z"
   },
   {
    "duration": 20,
    "start_time": "2021-09-08T14:40:03.958Z"
   },
   {
    "duration": 30,
    "start_time": "2021-09-08T14:40:03.980Z"
   },
   {
    "duration": 35,
    "start_time": "2021-09-08T14:40:04.013Z"
   },
   {
    "duration": 26,
    "start_time": "2021-09-08T14:40:04.050Z"
   },
   {
    "duration": 25,
    "start_time": "2021-09-08T14:40:04.078Z"
   },
   {
    "duration": 33,
    "start_time": "2021-09-08T14:40:04.106Z"
   },
   {
    "duration": 39,
    "start_time": "2021-09-08T14:40:04.142Z"
   },
   {
    "duration": 26,
    "start_time": "2021-09-08T14:40:04.184Z"
   },
   {
    "duration": 26,
    "start_time": "2021-09-08T14:40:04.212Z"
   },
   {
    "duration": 44,
    "start_time": "2021-09-08T14:40:04.241Z"
   },
   {
    "duration": 16,
    "start_time": "2021-09-08T14:40:04.287Z"
   },
   {
    "duration": 32,
    "start_time": "2021-09-08T14:40:04.305Z"
   },
   {
    "duration": 46,
    "start_time": "2021-09-08T14:40:04.339Z"
   },
   {
    "duration": 4513,
    "start_time": "2021-09-08T14:40:04.388Z"
   },
   {
    "duration": 23,
    "start_time": "2021-09-08T14:40:08.904Z"
   },
   {
    "duration": 15,
    "start_time": "2021-09-08T14:40:08.929Z"
   },
   {
    "duration": 558,
    "start_time": "2021-09-08T14:40:08.947Z"
   },
   {
    "duration": 9,
    "start_time": "2021-09-08T14:40:09.508Z"
   },
   {
    "duration": 23,
    "start_time": "2021-09-08T14:40:09.519Z"
   },
   {
    "duration": 34,
    "start_time": "2021-09-08T14:40:09.544Z"
   },
   {
    "duration": 4,
    "start_time": "2021-09-08T14:40:09.580Z"
   },
   {
    "duration": 414,
    "start_time": "2021-09-08T14:40:09.587Z"
   },
   {
    "duration": 9,
    "start_time": "2021-09-08T14:40:10.004Z"
   },
   {
    "duration": 18,
    "start_time": "2021-09-08T14:40:10.016Z"
   },
   {
    "duration": 421,
    "start_time": "2021-09-08T14:40:10.036Z"
   },
   {
    "duration": 14,
    "start_time": "2021-09-08T14:40:10.459Z"
   },
   {
    "duration": 8,
    "start_time": "2021-09-08T14:40:10.475Z"
   },
   {
    "duration": 434,
    "start_time": "2021-09-08T14:40:10.485Z"
   },
   {
    "duration": 9,
    "start_time": "2021-09-08T14:40:10.921Z"
   },
   {
    "duration": 37,
    "start_time": "2021-09-08T14:40:10.932Z"
   },
   {
    "duration": 4,
    "start_time": "2021-09-08T14:40:10.971Z"
   },
   {
    "duration": 27,
    "start_time": "2021-09-08T14:40:10.977Z"
   },
   {
    "duration": 10,
    "start_time": "2021-09-08T14:40:11.007Z"
   },
   {
    "duration": 28,
    "start_time": "2021-09-08T14:40:11.019Z"
   },
   {
    "duration": 4,
    "start_time": "2021-09-08T14:40:11.049Z"
   },
   {
    "duration": 23,
    "start_time": "2021-09-08T14:40:11.073Z"
   },
   {
    "duration": 13,
    "start_time": "2021-09-08T14:40:11.099Z"
   },
   {
    "duration": 6,
    "start_time": "2021-09-08T14:40:11.114Z"
   },
   {
    "duration": 12,
    "start_time": "2021-09-08T14:40:11.122Z"
   },
   {
    "duration": 10,
    "start_time": "2021-09-08T14:40:11.168Z"
   },
   {
    "duration": 7,
    "start_time": "2021-09-08T14:40:11.181Z"
   },
   {
    "duration": 19,
    "start_time": "2021-09-08T14:40:11.190Z"
   },
   {
    "duration": 15,
    "start_time": "2021-09-08T14:40:11.211Z"
   },
   {
    "duration": 6,
    "start_time": "2021-09-08T14:40:11.228Z"
   },
   {
    "duration": 40,
    "start_time": "2021-09-08T14:40:11.237Z"
   },
   {
    "duration": 11,
    "start_time": "2021-09-08T14:40:11.280Z"
   },
   {
    "duration": 11,
    "start_time": "2021-09-08T14:40:11.294Z"
   },
   {
    "duration": 20,
    "start_time": "2021-09-08T14:40:11.308Z"
   },
   {
    "duration": 37,
    "start_time": "2021-09-08T14:40:11.330Z"
   },
   {
    "duration": 18,
    "start_time": "2021-09-08T14:40:11.370Z"
   },
   {
    "duration": 16,
    "start_time": "2021-09-08T14:40:11.391Z"
   },
   {
    "duration": 4,
    "start_time": "2021-09-08T14:40:11.409Z"
   },
   {
    "duration": 52,
    "start_time": "2021-09-08T14:40:11.416Z"
   },
   {
    "duration": 20,
    "start_time": "2021-09-08T14:40:11.471Z"
   },
   {
    "duration": 10,
    "start_time": "2021-09-08T14:40:11.494Z"
   },
   {
    "duration": 11,
    "start_time": "2021-09-08T14:40:11.506Z"
   },
   {
    "duration": 10,
    "start_time": "2021-09-08T14:40:11.520Z"
   },
   {
    "duration": 39,
    "start_time": "2021-09-08T14:40:11.532Z"
   },
   {
    "duration": 36,
    "start_time": "2021-09-08T14:40:11.574Z"
   },
   {
    "duration": 10,
    "start_time": "2021-09-08T15:09:15.532Z"
   },
   {
    "duration": 11,
    "start_time": "2021-09-08T15:16:12.032Z"
   },
   {
    "duration": 17,
    "start_time": "2021-09-08T15:16:43.323Z"
   },
   {
    "duration": 15,
    "start_time": "2021-09-08T15:16:53.451Z"
   },
   {
    "duration": 3,
    "start_time": "2021-09-08T15:21:09.496Z"
   },
   {
    "duration": 6,
    "start_time": "2021-09-08T15:21:09.502Z"
   },
   {
    "duration": 71,
    "start_time": "2021-09-08T15:21:09.511Z"
   },
   {
    "duration": 21,
    "start_time": "2021-09-08T15:21:09.585Z"
   },
   {
    "duration": 18,
    "start_time": "2021-09-08T15:21:09.609Z"
   },
   {
    "duration": 49,
    "start_time": "2021-09-08T15:21:09.629Z"
   },
   {
    "duration": 21,
    "start_time": "2021-09-08T15:21:09.680Z"
   },
   {
    "duration": 7,
    "start_time": "2021-09-08T15:21:09.704Z"
   },
   {
    "duration": 54,
    "start_time": "2021-09-08T15:21:09.713Z"
   },
   {
    "duration": 6,
    "start_time": "2021-09-08T15:21:09.770Z"
   },
   {
    "duration": 11,
    "start_time": "2021-09-08T15:21:09.778Z"
   },
   {
    "duration": 3,
    "start_time": "2021-09-08T15:21:09.791Z"
   },
   {
    "duration": 7,
    "start_time": "2021-09-08T15:21:09.796Z"
   },
   {
    "duration": 63,
    "start_time": "2021-09-08T15:21:09.805Z"
   },
   {
    "duration": 7,
    "start_time": "2021-09-08T15:21:09.871Z"
   },
   {
    "duration": 7,
    "start_time": "2021-09-08T15:21:09.881Z"
   },
   {
    "duration": 6,
    "start_time": "2021-09-08T15:21:09.890Z"
   },
   {
    "duration": 3,
    "start_time": "2021-09-08T15:21:09.899Z"
   },
   {
    "duration": 12,
    "start_time": "2021-09-08T15:21:09.904Z"
   },
   {
    "duration": 50,
    "start_time": "2021-09-08T15:21:09.918Z"
   },
   {
    "duration": 24,
    "start_time": "2021-09-08T15:21:09.971Z"
   },
   {
    "duration": 19,
    "start_time": "2021-09-08T15:21:10.001Z"
   },
   {
    "duration": 3,
    "start_time": "2021-09-08T15:21:10.023Z"
   },
   {
    "duration": 42,
    "start_time": "2021-09-08T15:21:10.028Z"
   },
   {
    "duration": 11,
    "start_time": "2021-09-08T15:21:10.072Z"
   },
   {
    "duration": 12,
    "start_time": "2021-09-08T15:21:10.085Z"
   },
   {
    "duration": 22,
    "start_time": "2021-09-08T15:21:10.099Z"
   },
   {
    "duration": 13,
    "start_time": "2021-09-08T15:21:10.123Z"
   },
   {
    "duration": 7,
    "start_time": "2021-09-08T15:21:10.168Z"
   },
   {
    "duration": 4,
    "start_time": "2021-09-08T15:21:10.178Z"
   },
   {
    "duration": 12,
    "start_time": "2021-09-08T15:21:10.184Z"
   },
   {
    "duration": 11,
    "start_time": "2021-09-08T15:21:10.198Z"
   },
   {
    "duration": 8,
    "start_time": "2021-09-08T15:21:10.212Z"
   },
   {
    "duration": 57,
    "start_time": "2021-09-08T15:21:10.222Z"
   },
   {
    "duration": 29,
    "start_time": "2021-09-08T15:21:10.281Z"
   },
   {
    "duration": 25,
    "start_time": "2021-09-08T15:21:10.312Z"
   },
   {
    "duration": 53,
    "start_time": "2021-09-08T15:21:10.340Z"
   },
   {
    "duration": 24,
    "start_time": "2021-09-08T15:21:10.395Z"
   },
   {
    "duration": 15,
    "start_time": "2021-09-08T15:21:10.421Z"
   },
   {
    "duration": 34,
    "start_time": "2021-09-08T15:21:10.438Z"
   },
   {
    "duration": 33,
    "start_time": "2021-09-08T15:21:10.475Z"
   },
   {
    "duration": 4541,
    "start_time": "2021-09-08T15:21:10.511Z"
   },
   {
    "duration": 31,
    "start_time": "2021-09-08T15:21:15.054Z"
   },
   {
    "duration": 7,
    "start_time": "2021-09-08T15:21:15.088Z"
   },
   {
    "duration": 556,
    "start_time": "2021-09-08T15:21:15.097Z"
   },
   {
    "duration": 14,
    "start_time": "2021-09-08T15:21:15.655Z"
   },
   {
    "duration": 35,
    "start_time": "2021-09-08T15:21:15.671Z"
   },
   {
    "duration": 13,
    "start_time": "2021-09-08T15:21:15.708Z"
   },
   {
    "duration": 10,
    "start_time": "2021-09-08T15:21:15.724Z"
   },
   {
    "duration": 413,
    "start_time": "2021-09-08T15:21:15.737Z"
   },
   {
    "duration": 16,
    "start_time": "2021-09-08T15:21:16.153Z"
   },
   {
    "duration": 5,
    "start_time": "2021-09-08T15:21:16.171Z"
   },
   {
    "duration": 434,
    "start_time": "2021-09-08T15:21:16.179Z"
   },
   {
    "duration": 17,
    "start_time": "2021-09-08T15:21:16.616Z"
   },
   {
    "duration": 15,
    "start_time": "2021-09-08T15:21:16.636Z"
   },
   {
    "duration": 440,
    "start_time": "2021-09-08T15:21:16.654Z"
   },
   {
    "duration": 9,
    "start_time": "2021-09-08T15:21:17.096Z"
   },
   {
    "duration": 28,
    "start_time": "2021-09-08T15:21:17.107Z"
   },
   {
    "duration": 9,
    "start_time": "2021-09-08T15:21:17.137Z"
   },
   {
    "duration": 30,
    "start_time": "2021-09-08T15:21:17.149Z"
   },
   {
    "duration": 13,
    "start_time": "2021-09-08T15:21:17.182Z"
   },
   {
    "duration": 17,
    "start_time": "2021-09-08T15:21:17.197Z"
   },
   {
    "duration": 12,
    "start_time": "2021-09-08T15:21:17.216Z"
   },
   {
    "duration": 52,
    "start_time": "2021-09-08T15:21:17.236Z"
   },
   {
    "duration": 14,
    "start_time": "2021-09-08T15:21:17.291Z"
   },
   {
    "duration": 10,
    "start_time": "2021-09-08T15:21:17.307Z"
   },
   {
    "duration": 19,
    "start_time": "2021-09-08T15:21:17.320Z"
   },
   {
    "duration": 32,
    "start_time": "2021-09-08T15:21:17.342Z"
   },
   {
    "duration": 10,
    "start_time": "2021-09-08T15:21:17.376Z"
   },
   {
    "duration": 21,
    "start_time": "2021-09-08T15:21:17.388Z"
   },
   {
    "duration": 25,
    "start_time": "2021-09-08T15:21:17.411Z"
   },
   {
    "duration": 7,
    "start_time": "2021-09-08T15:21:17.439Z"
   },
   {
    "duration": 30,
    "start_time": "2021-09-08T15:21:17.448Z"
   },
   {
    "duration": 19,
    "start_time": "2021-09-08T15:21:17.480Z"
   },
   {
    "duration": 22,
    "start_time": "2021-09-08T15:21:17.501Z"
   },
   {
    "duration": 18,
    "start_time": "2021-09-08T15:21:17.525Z"
   },
   {
    "duration": 24,
    "start_time": "2021-09-08T15:21:17.545Z"
   },
   {
    "duration": 26,
    "start_time": "2021-09-08T15:21:17.571Z"
   },
   {
    "duration": 33,
    "start_time": "2021-09-08T15:21:17.599Z"
   },
   {
    "duration": 9,
    "start_time": "2021-09-08T15:21:17.634Z"
   },
   {
    "duration": 25,
    "start_time": "2021-09-08T15:21:17.645Z"
   },
   {
    "duration": 18,
    "start_time": "2021-09-08T15:21:17.672Z"
   },
   {
    "duration": 23,
    "start_time": "2021-09-08T15:21:17.693Z"
   },
   {
    "duration": 15,
    "start_time": "2021-09-08T15:21:17.718Z"
   },
   {
    "duration": 17,
    "start_time": "2021-09-08T15:21:17.736Z"
   },
   {
    "duration": 18,
    "start_time": "2021-09-08T15:21:17.756Z"
   },
   {
    "duration": 21,
    "start_time": "2021-09-08T15:21:17.776Z"
   },
   {
    "duration": 5,
    "start_time": "2021-09-08T21:03:15.882Z"
   },
   {
    "duration": 13,
    "start_time": "2021-09-08T21:03:17.536Z"
   },
   {
    "duration": 275,
    "start_time": "2021-09-08T21:08:14.703Z"
   },
   {
    "duration": 5,
    "start_time": "2021-09-08T21:08:20.233Z"
   },
   {
    "duration": 16,
    "start_time": "2021-09-08T21:08:20.945Z"
   },
   {
    "duration": 16,
    "start_time": "2021-09-08T21:09:10.496Z"
   },
   {
    "duration": 5,
    "start_time": "2021-09-08T21:12:55.500Z"
   },
   {
    "duration": 11,
    "start_time": "2021-09-08T21:13:09.351Z"
   },
   {
    "duration": 260,
    "start_time": "2021-09-08T21:13:28.044Z"
   },
   {
    "duration": 5,
    "start_time": "2021-09-08T21:13:38.518Z"
   },
   {
    "duration": 12,
    "start_time": "2021-09-08T21:13:41.794Z"
   },
   {
    "duration": 12,
    "start_time": "2021-09-08T21:13:45.820Z"
   },
   {
    "duration": 10,
    "start_time": "2021-09-08T21:13:47.658Z"
   },
   {
    "duration": 12,
    "start_time": "2021-09-08T21:13:53.986Z"
   },
   {
    "duration": 17,
    "start_time": "2021-09-08T21:14:18.369Z"
   },
   {
    "duration": 12,
    "start_time": "2021-09-08T21:14:19.294Z"
   },
   {
    "duration": 11,
    "start_time": "2021-09-08T21:14:20.130Z"
   },
   {
    "duration": 9,
    "start_time": "2021-09-08T21:14:51.301Z"
   },
   {
    "duration": 12,
    "start_time": "2021-09-08T21:15:08.313Z"
   },
   {
    "duration": 10,
    "start_time": "2021-09-08T21:15:18.946Z"
   },
   {
    "duration": 7,
    "start_time": "2021-09-08T21:16:32.837Z"
   },
   {
    "duration": 96,
    "start_time": "2021-09-08T21:16:55.245Z"
   },
   {
    "duration": 9,
    "start_time": "2021-09-08T21:17:01.189Z"
   },
   {
    "duration": 619,
    "start_time": "2021-09-09T02:47:09.495Z"
   },
   {
    "duration": 3,
    "start_time": "2021-09-09T02:47:10.115Z"
   },
   {
    "duration": 54,
    "start_time": "2021-09-09T02:47:10.119Z"
   },
   {
    "duration": 10,
    "start_time": "2021-09-09T02:47:10.174Z"
   },
   {
    "duration": 16,
    "start_time": "2021-09-09T02:47:10.186Z"
   },
   {
    "duration": 10,
    "start_time": "2021-09-09T02:47:10.204Z"
   },
   {
    "duration": 15,
    "start_time": "2021-09-09T02:47:10.216Z"
   },
   {
    "duration": 5,
    "start_time": "2021-09-09T02:47:10.233Z"
   },
   {
    "duration": 13,
    "start_time": "2021-09-09T02:47:10.240Z"
   },
   {
    "duration": 31,
    "start_time": "2021-09-09T02:47:10.254Z"
   },
   {
    "duration": 6,
    "start_time": "2021-09-09T02:47:10.287Z"
   },
   {
    "duration": 3,
    "start_time": "2021-09-09T02:47:10.294Z"
   },
   {
    "duration": 7,
    "start_time": "2021-09-09T02:47:10.298Z"
   },
   {
    "duration": 15,
    "start_time": "2021-09-09T02:47:10.306Z"
   },
   {
    "duration": 5,
    "start_time": "2021-09-09T02:47:10.323Z"
   },
   {
    "duration": 17,
    "start_time": "2021-09-09T02:47:10.329Z"
   },
   {
    "duration": 45,
    "start_time": "2021-09-09T02:47:10.347Z"
   },
   {
    "duration": 12,
    "start_time": "2021-09-09T02:47:10.393Z"
   },
   {
    "duration": 34,
    "start_time": "2021-09-09T02:47:10.406Z"
   },
   {
    "duration": 5,
    "start_time": "2021-09-09T02:47:10.441Z"
   },
   {
    "duration": 16,
    "start_time": "2021-09-09T02:47:10.447Z"
   },
   {
    "duration": 10,
    "start_time": "2021-09-09T02:47:10.465Z"
   },
   {
    "duration": 2,
    "start_time": "2021-09-09T02:47:10.478Z"
   },
   {
    "duration": 9,
    "start_time": "2021-09-09T02:47:10.482Z"
   },
   {
    "duration": 8,
    "start_time": "2021-09-09T02:47:10.493Z"
   },
   {
    "duration": 10,
    "start_time": "2021-09-09T02:47:10.502Z"
   },
   {
    "duration": 13,
    "start_time": "2021-09-09T02:47:10.513Z"
   },
   {
    "duration": 10,
    "start_time": "2021-09-09T02:47:10.527Z"
   },
   {
    "duration": 7,
    "start_time": "2021-09-09T02:47:10.538Z"
   },
   {
    "duration": 3,
    "start_time": "2021-09-09T02:47:10.547Z"
   },
   {
    "duration": 8,
    "start_time": "2021-09-09T02:47:10.551Z"
   },
   {
    "duration": 30,
    "start_time": "2021-09-09T02:47:10.560Z"
   },
   {
    "duration": 10,
    "start_time": "2021-09-09T02:47:10.591Z"
   },
   {
    "duration": 12,
    "start_time": "2021-09-09T02:47:10.603Z"
   },
   {
    "duration": 17,
    "start_time": "2021-09-09T02:47:10.617Z"
   },
   {
    "duration": 14,
    "start_time": "2021-09-09T02:47:10.636Z"
   },
   {
    "duration": 41,
    "start_time": "2021-09-09T02:47:10.651Z"
   },
   {
    "duration": 15,
    "start_time": "2021-09-09T02:47:10.693Z"
   },
   {
    "duration": 11,
    "start_time": "2021-09-09T02:47:10.709Z"
   },
   {
    "duration": 10,
    "start_time": "2021-09-09T02:47:10.721Z"
   },
   {
    "duration": 7,
    "start_time": "2021-09-09T02:47:10.733Z"
   },
   {
    "duration": 3170,
    "start_time": "2021-09-09T02:47:10.741Z"
   },
   {
    "duration": 13,
    "start_time": "2021-09-09T02:47:13.913Z"
   },
   {
    "duration": 5,
    "start_time": "2021-09-09T02:47:13.928Z"
   },
   {
    "duration": 308,
    "start_time": "2021-09-09T02:47:13.935Z"
   },
   {
    "duration": 8,
    "start_time": "2021-09-09T02:47:14.245Z"
   },
   {
    "duration": 19,
    "start_time": "2021-09-09T02:47:14.254Z"
   },
   {
    "duration": 16,
    "start_time": "2021-09-09T02:47:14.274Z"
   },
   {
    "duration": 2,
    "start_time": "2021-09-09T02:47:14.291Z"
   },
   {
    "duration": 226,
    "start_time": "2021-09-09T02:47:14.295Z"
   },
   {
    "duration": 6,
    "start_time": "2021-09-09T02:47:14.523Z"
   },
   {
    "duration": 4,
    "start_time": "2021-09-09T02:47:14.532Z"
   },
   {
    "duration": 238,
    "start_time": "2021-09-09T02:47:14.537Z"
   },
   {
    "duration": 8,
    "start_time": "2021-09-09T02:47:14.777Z"
   },
   {
    "duration": 3,
    "start_time": "2021-09-09T02:47:14.787Z"
   },
   {
    "duration": 233,
    "start_time": "2021-09-09T02:47:14.792Z"
   },
   {
    "duration": 7,
    "start_time": "2021-09-09T02:47:15.026Z"
   },
   {
    "duration": 12,
    "start_time": "2021-09-09T02:47:15.034Z"
   },
   {
    "duration": 3,
    "start_time": "2021-09-09T02:47:15.048Z"
   },
   {
    "duration": 14,
    "start_time": "2021-09-09T02:47:15.053Z"
   },
   {
    "duration": 9,
    "start_time": "2021-09-09T02:47:15.085Z"
   },
   {
    "duration": 7,
    "start_time": "2021-09-09T02:47:15.096Z"
   },
   {
    "duration": 7,
    "start_time": "2021-09-09T02:47:15.104Z"
   },
   {
    "duration": 6,
    "start_time": "2021-09-09T02:47:15.112Z"
   },
   {
    "duration": 5,
    "start_time": "2021-09-09T02:47:15.120Z"
   },
   {
    "duration": 2,
    "start_time": "2021-09-09T02:47:15.127Z"
   },
   {
    "duration": 57,
    "start_time": "2021-09-09T02:47:15.131Z"
   },
   {
    "duration": 9,
    "start_time": "2021-09-09T02:47:15.192Z"
   },
   {
    "duration": 5,
    "start_time": "2021-09-09T02:47:15.203Z"
   },
   {
    "duration": 11,
    "start_time": "2021-09-09T02:47:15.209Z"
   },
   {
    "duration": 7,
    "start_time": "2021-09-09T02:47:15.221Z"
   },
   {
    "duration": 3,
    "start_time": "2021-09-09T02:47:15.229Z"
   },
   {
    "duration": 12,
    "start_time": "2021-09-09T02:47:15.234Z"
   },
   {
    "duration": 36,
    "start_time": "2021-09-09T02:47:15.248Z"
   },
   {
    "duration": 4,
    "start_time": "2021-09-09T02:47:15.286Z"
   },
   {
    "duration": 8,
    "start_time": "2021-09-09T02:47:15.291Z"
   },
   {
    "duration": 7,
    "start_time": "2021-09-09T02:47:15.301Z"
   },
   {
    "duration": 7,
    "start_time": "2021-09-09T02:47:15.310Z"
   },
   {
    "duration": 13,
    "start_time": "2021-09-09T02:47:15.318Z"
   },
   {
    "duration": 4,
    "start_time": "2021-09-09T02:47:15.332Z"
   },
   {
    "duration": 11,
    "start_time": "2021-09-09T02:47:15.338Z"
   },
   {
    "duration": 39,
    "start_time": "2021-09-09T02:47:15.350Z"
   },
   {
    "duration": 3,
    "start_time": "2021-09-09T02:47:15.390Z"
   },
   {
    "duration": 11,
    "start_time": "2021-09-09T02:47:15.394Z"
   },
   {
    "duration": 10,
    "start_time": "2021-09-09T02:47:15.407Z"
   },
   {
    "duration": 8,
    "start_time": "2021-09-09T02:47:15.418Z"
   },
   {
    "duration": 7,
    "start_time": "2021-09-09T02:47:15.428Z"
   },
   {
    "duration": 13,
    "start_time": "2021-09-09T02:47:15.436Z"
   },
   {
    "duration": 36,
    "start_time": "2021-09-09T02:47:15.450Z"
   },
   {
    "duration": 15,
    "start_time": "2021-09-09T02:47:15.487Z"
   },
   {
    "duration": 10,
    "start_time": "2021-09-09T02:48:39.368Z"
   },
   {
    "duration": 12,
    "start_time": "2021-09-09T02:53:00.772Z"
   },
   {
    "duration": 24,
    "start_time": "2021-09-09T02:58:46.196Z"
   },
   {
    "duration": 4,
    "start_time": "2021-09-09T03:58:39.805Z"
   },
   {
    "duration": 26,
    "start_time": "2021-09-09T04:10:33.650Z"
   },
   {
    "duration": 5,
    "start_time": "2021-09-09T04:10:44.677Z"
   },
   {
    "duration": 243,
    "start_time": "2021-09-09T04:48:20.534Z"
   },
   {
    "duration": 4,
    "start_time": "2021-09-09T04:48:28.393Z"
   },
   {
    "duration": 31,
    "start_time": "2021-09-09T04:48:29.028Z"
   },
   {
    "duration": 9,
    "start_time": "2021-09-09T04:48:35.835Z"
   },
   {
    "duration": 289,
    "start_time": "2021-09-09T11:59:36.446Z"
   },
   {
    "duration": 212,
    "start_time": "2021-09-09T11:59:37.189Z"
   },
   {
    "duration": 778,
    "start_time": "2021-09-09T11:59:41.325Z"
   },
   {
    "duration": 3,
    "start_time": "2021-09-09T11:59:42.106Z"
   },
   {
    "duration": 73,
    "start_time": "2021-09-09T11:59:42.112Z"
   },
   {
    "duration": 14,
    "start_time": "2021-09-09T11:59:42.188Z"
   },
   {
    "duration": 26,
    "start_time": "2021-09-09T11:59:42.205Z"
   },
   {
    "duration": 44,
    "start_time": "2021-09-09T11:59:42.234Z"
   },
   {
    "duration": 21,
    "start_time": "2021-09-09T11:59:42.281Z"
   },
   {
    "duration": 8,
    "start_time": "2021-09-09T11:59:42.305Z"
   },
   {
    "duration": 9,
    "start_time": "2021-09-09T11:59:42.317Z"
   },
   {
    "duration": 6,
    "start_time": "2021-09-09T11:59:42.367Z"
   },
   {
    "duration": 10,
    "start_time": "2021-09-09T11:59:42.376Z"
   },
   {
    "duration": 3,
    "start_time": "2021-09-09T11:59:42.388Z"
   },
   {
    "duration": 9,
    "start_time": "2021-09-09T11:59:42.394Z"
   },
   {
    "duration": 23,
    "start_time": "2021-09-09T11:59:42.405Z"
   },
   {
    "duration": 42,
    "start_time": "2021-09-09T11:59:42.430Z"
   },
   {
    "duration": 9,
    "start_time": "2021-09-09T11:59:42.475Z"
   },
   {
    "duration": 8,
    "start_time": "2021-09-09T11:59:42.486Z"
   },
   {
    "duration": 11,
    "start_time": "2021-09-09T11:59:42.496Z"
   },
   {
    "duration": 17,
    "start_time": "2021-09-09T11:59:42.509Z"
   },
   {
    "duration": 44,
    "start_time": "2021-09-09T11:59:42.528Z"
   },
   {
    "duration": 22,
    "start_time": "2021-09-09T11:59:42.575Z"
   },
   {
    "duration": 15,
    "start_time": "2021-09-09T11:59:42.599Z"
   },
   {
    "duration": 3,
    "start_time": "2021-09-09T11:59:42.617Z"
   },
   {
    "duration": 17,
    "start_time": "2021-09-09T11:59:42.622Z"
   },
   {
    "duration": 34,
    "start_time": "2021-09-09T11:59:42.641Z"
   },
   {
    "duration": 14,
    "start_time": "2021-09-09T11:59:42.677Z"
   },
   {
    "duration": 23,
    "start_time": "2021-09-09T11:59:42.698Z"
   },
   {
    "duration": 46,
    "start_time": "2021-09-09T11:59:42.725Z"
   },
   {
    "duration": 14,
    "start_time": "2021-09-09T11:59:42.774Z"
   },
   {
    "duration": 14,
    "start_time": "2021-09-09T11:59:42.790Z"
   },
   {
    "duration": 10,
    "start_time": "2021-09-09T11:59:42.806Z"
   },
   {
    "duration": 15,
    "start_time": "2021-09-09T11:59:42.819Z"
   },
   {
    "duration": 14,
    "start_time": "2021-09-09T11:59:42.836Z"
   },
   {
    "duration": 20,
    "start_time": "2021-09-09T11:59:42.867Z"
   },
   {
    "duration": 26,
    "start_time": "2021-09-09T11:59:42.890Z"
   },
   {
    "duration": 49,
    "start_time": "2021-09-09T11:59:42.918Z"
   },
   {
    "duration": 28,
    "start_time": "2021-09-09T11:59:42.970Z"
   },
   {
    "duration": 23,
    "start_time": "2021-09-09T11:59:43.000Z"
   },
   {
    "duration": 16,
    "start_time": "2021-09-09T11:59:43.025Z"
   },
   {
    "duration": 35,
    "start_time": "2021-09-09T11:59:43.043Z"
   },
   {
    "duration": 10,
    "start_time": "2021-09-09T11:59:43.080Z"
   },
   {
    "duration": 4602,
    "start_time": "2021-09-09T11:59:43.092Z"
   },
   {
    "duration": 23,
    "start_time": "2021-09-09T11:59:47.697Z"
   },
   {
    "duration": 19,
    "start_time": "2021-09-09T11:59:47.723Z"
   },
   {
    "duration": 556,
    "start_time": "2021-09-09T11:59:47.744Z"
   },
   {
    "duration": 10,
    "start_time": "2021-09-09T11:59:48.303Z"
   },
   {
    "duration": 41,
    "start_time": "2021-09-09T11:59:48.315Z"
   },
   {
    "duration": 30,
    "start_time": "2021-09-09T11:59:48.359Z"
   },
   {
    "duration": 18,
    "start_time": "2021-09-09T11:59:48.391Z"
   },
   {
    "duration": 420,
    "start_time": "2021-09-09T11:59:48.411Z"
   },
   {
    "duration": 10,
    "start_time": "2021-09-09T11:59:48.833Z"
   },
   {
    "duration": 24,
    "start_time": "2021-09-09T11:59:48.845Z"
   },
   {
    "duration": 409,
    "start_time": "2021-09-09T11:59:48.871Z"
   },
   {
    "duration": 9,
    "start_time": "2021-09-09T11:59:49.283Z"
   },
   {
    "duration": 33,
    "start_time": "2021-09-09T11:59:49.294Z"
   },
   {
    "duration": 441,
    "start_time": "2021-09-09T11:59:49.329Z"
   },
   {
    "duration": 9,
    "start_time": "2021-09-09T11:59:49.773Z"
   },
   {
    "duration": 42,
    "start_time": "2021-09-09T11:59:49.785Z"
   },
   {
    "duration": 5,
    "start_time": "2021-09-09T11:59:49.829Z"
   },
   {
    "duration": 56,
    "start_time": "2021-09-09T11:59:49.836Z"
   },
   {
    "duration": 23,
    "start_time": "2021-09-09T11:59:49.895Z"
   },
   {
    "duration": 14,
    "start_time": "2021-09-09T11:59:49.920Z"
   },
   {
    "duration": 33,
    "start_time": "2021-09-09T11:59:49.936Z"
   },
   {
    "duration": 35,
    "start_time": "2021-09-09T11:59:49.971Z"
   },
   {
    "duration": 16,
    "start_time": "2021-09-09T11:59:50.009Z"
   },
   {
    "duration": 10,
    "start_time": "2021-09-09T11:59:50.027Z"
   },
   {
    "duration": 35,
    "start_time": "2021-09-09T11:59:50.039Z"
   },
   {
    "duration": 13,
    "start_time": "2021-09-09T11:59:50.078Z"
   },
   {
    "duration": 15,
    "start_time": "2021-09-09T11:59:50.094Z"
   },
   {
    "duration": 57,
    "start_time": "2021-09-09T11:59:50.112Z"
   },
   {
    "duration": 19,
    "start_time": "2021-09-09T11:59:50.172Z"
   },
   {
    "duration": 5,
    "start_time": "2021-09-09T11:59:50.194Z"
   },
   {
    "duration": 23,
    "start_time": "2021-09-09T11:59:50.201Z"
   },
   {
    "duration": 17,
    "start_time": "2021-09-09T11:59:50.226Z"
   },
   {
    "duration": 4,
    "start_time": "2021-09-09T11:59:50.268Z"
   },
   {
    "duration": 18,
    "start_time": "2021-09-09T11:59:50.276Z"
   },
   {
    "duration": 13,
    "start_time": "2021-09-09T11:59:50.297Z"
   },
   {
    "duration": 10,
    "start_time": "2021-09-09T11:59:50.313Z"
   },
   {
    "duration": 10,
    "start_time": "2021-09-09T11:59:50.367Z"
   },
   {
    "duration": 12,
    "start_time": "2021-09-09T11:59:50.379Z"
   },
   {
    "duration": 11,
    "start_time": "2021-09-09T11:59:50.399Z"
   },
   {
    "duration": 58,
    "start_time": "2021-09-09T11:59:50.412Z"
   },
   {
    "duration": 7,
    "start_time": "2021-09-09T12:02:32.884Z"
   },
   {
    "duration": 319,
    "start_time": "2021-09-09T12:04:18.488Z"
   },
   {
    "duration": 7,
    "start_time": "2021-09-09T12:05:12.961Z"
   },
   {
    "duration": 14,
    "start_time": "2021-09-09T12:06:27.893Z"
   },
   {
    "duration": 242,
    "start_time": "2021-09-09T12:07:46.289Z"
   },
   {
    "duration": 580,
    "start_time": "2021-09-09T12:11:17.080Z"
   },
   {
    "duration": 318,
    "start_time": "2021-09-09T12:12:45.328Z"
   },
   {
    "duration": 554,
    "start_time": "2021-09-09T12:13:00.732Z"
   },
   {
    "duration": 22,
    "start_time": "2021-09-09T12:13:17.979Z"
   },
   {
    "duration": 583,
    "start_time": "2021-09-09T12:14:01.970Z"
   },
   {
    "duration": 396,
    "start_time": "2021-09-09T12:14:26.705Z"
   },
   {
    "duration": 288,
    "start_time": "2021-09-09T12:17:20.279Z"
   },
   {
    "duration": 315,
    "start_time": "2021-09-09T12:17:39.619Z"
   },
   {
    "duration": 344,
    "start_time": "2021-09-09T12:18:00.048Z"
   },
   {
    "duration": 278,
    "start_time": "2021-09-09T12:18:15.914Z"
   },
   {
    "duration": 3,
    "start_time": "2021-09-09T12:18:25.455Z"
   },
   {
    "duration": 14,
    "start_time": "2021-09-09T12:18:25.461Z"
   },
   {
    "duration": 87,
    "start_time": "2021-09-09T12:18:25.480Z"
   },
   {
    "duration": 15,
    "start_time": "2021-09-09T12:18:25.570Z"
   },
   {
    "duration": 29,
    "start_time": "2021-09-09T12:18:25.587Z"
   },
   {
    "duration": 72,
    "start_time": "2021-09-09T12:18:25.619Z"
   },
   {
    "duration": 20,
    "start_time": "2021-09-09T12:18:25.694Z"
   },
   {
    "duration": 51,
    "start_time": "2021-09-09T12:18:25.718Z"
   },
   {
    "duration": 8,
    "start_time": "2021-09-09T12:18:25.772Z"
   },
   {
    "duration": 17,
    "start_time": "2021-09-09T12:18:25.782Z"
   },
   {
    "duration": 12,
    "start_time": "2021-09-09T12:18:25.801Z"
   },
   {
    "duration": 3,
    "start_time": "2021-09-09T12:18:25.816Z"
   },
   {
    "duration": 49,
    "start_time": "2021-09-09T12:18:25.822Z"
   },
   {
    "duration": 17,
    "start_time": "2021-09-09T12:18:25.874Z"
   },
   {
    "duration": 7,
    "start_time": "2021-09-09T12:18:25.893Z"
   },
   {
    "duration": 8,
    "start_time": "2021-09-09T12:18:25.903Z"
   },
   {
    "duration": 9,
    "start_time": "2021-09-09T12:18:25.913Z"
   },
   {
    "duration": 54,
    "start_time": "2021-09-09T12:18:25.924Z"
   },
   {
    "duration": 8,
    "start_time": "2021-09-09T12:18:25.981Z"
   },
   {
    "duration": 5,
    "start_time": "2021-09-09T12:18:25.992Z"
   },
   {
    "duration": 26,
    "start_time": "2021-09-09T12:18:25.999Z"
   },
   {
    "duration": 43,
    "start_time": "2021-09-09T12:18:26.031Z"
   },
   {
    "duration": 3,
    "start_time": "2021-09-09T12:18:26.077Z"
   },
   {
    "duration": 13,
    "start_time": "2021-09-09T12:18:26.083Z"
   },
   {
    "duration": 12,
    "start_time": "2021-09-09T12:18:26.099Z"
   },
   {
    "duration": 10,
    "start_time": "2021-09-09T12:18:26.113Z"
   },
   {
    "duration": 53,
    "start_time": "2021-09-09T12:18:26.126Z"
   },
   {
    "duration": 10,
    "start_time": "2021-09-09T12:18:26.182Z"
   },
   {
    "duration": 11,
    "start_time": "2021-09-09T12:18:26.194Z"
   },
   {
    "duration": 5,
    "start_time": "2021-09-09T12:18:26.207Z"
   },
   {
    "duration": 6,
    "start_time": "2021-09-09T12:18:26.215Z"
   },
   {
    "duration": 48,
    "start_time": "2021-09-09T12:18:26.223Z"
   },
   {
    "duration": 9,
    "start_time": "2021-09-09T12:18:26.274Z"
   },
   {
    "duration": 21,
    "start_time": "2021-09-09T12:18:26.286Z"
   },
   {
    "duration": 33,
    "start_time": "2021-09-09T12:18:26.310Z"
   },
   {
    "duration": 24,
    "start_time": "2021-09-09T12:18:26.367Z"
   },
   {
    "duration": 28,
    "start_time": "2021-09-09T12:18:26.393Z"
   },
   {
    "duration": 52,
    "start_time": "2021-09-09T12:18:26.423Z"
   },
   {
    "duration": 16,
    "start_time": "2021-09-09T12:18:26.478Z"
   },
   {
    "duration": 16,
    "start_time": "2021-09-09T12:18:26.496Z"
   },
   {
    "duration": 53,
    "start_time": "2021-09-09T12:18:26.514Z"
   },
   {
    "duration": 4498,
    "start_time": "2021-09-09T12:18:26.569Z"
   },
   {
    "duration": 22,
    "start_time": "2021-09-09T12:18:31.069Z"
   },
   {
    "duration": 19,
    "start_time": "2021-09-09T12:18:31.093Z"
   },
   {
    "duration": 535,
    "start_time": "2021-09-09T12:18:31.114Z"
   },
   {
    "duration": 19,
    "start_time": "2021-09-09T12:18:31.652Z"
   },
   {
    "duration": 21,
    "start_time": "2021-09-09T12:18:31.673Z"
   },
   {
    "duration": 14,
    "start_time": "2021-09-09T12:18:31.696Z"
   },
   {
    "duration": 5,
    "start_time": "2021-09-09T12:18:31.712Z"
   },
   {
    "duration": 426,
    "start_time": "2021-09-09T12:18:31.719Z"
   },
   {
    "duration": 10,
    "start_time": "2021-09-09T12:18:32.148Z"
   },
   {
    "duration": 5,
    "start_time": "2021-09-09T12:18:32.168Z"
   },
   {
    "duration": 406,
    "start_time": "2021-09-09T12:18:32.175Z"
   },
   {
    "duration": 12,
    "start_time": "2021-09-09T12:18:32.583Z"
   },
   {
    "duration": 10,
    "start_time": "2021-09-09T12:18:32.597Z"
   },
   {
    "duration": 418,
    "start_time": "2021-09-09T12:18:32.609Z"
   },
   {
    "duration": 9,
    "start_time": "2021-09-09T12:18:33.029Z"
   },
   {
    "duration": 31,
    "start_time": "2021-09-09T12:18:33.040Z"
   },
   {
    "duration": 4,
    "start_time": "2021-09-09T12:18:33.074Z"
   },
   {
    "duration": 49,
    "start_time": "2021-09-09T12:18:33.080Z"
   },
   {
    "duration": 43,
    "start_time": "2021-09-09T12:18:33.131Z"
   },
   {
    "duration": 13,
    "start_time": "2021-09-09T12:18:33.176Z"
   },
   {
    "duration": 7,
    "start_time": "2021-09-09T12:18:33.192Z"
   },
   {
    "duration": 63,
    "start_time": "2021-09-09T12:18:33.207Z"
   },
   {
    "duration": 14,
    "start_time": "2021-09-09T12:18:33.273Z"
   },
   {
    "duration": 273,
    "start_time": "2021-09-09T12:18:33.289Z"
   },
   {
    "duration": 194,
    "start_time": "2021-09-09T12:18:33.371Z"
   },
   {
    "duration": 191,
    "start_time": "2021-09-09T12:18:33.376Z"
   },
   {
    "duration": 186,
    "start_time": "2021-09-09T12:18:33.382Z"
   },
   {
    "duration": 183,
    "start_time": "2021-09-09T12:18:33.387Z"
   },
   {
    "duration": 180,
    "start_time": "2021-09-09T12:18:33.391Z"
   },
   {
    "duration": 177,
    "start_time": "2021-09-09T12:18:33.395Z"
   },
   {
    "duration": 175,
    "start_time": "2021-09-09T12:18:33.399Z"
   },
   {
    "duration": 171,
    "start_time": "2021-09-09T12:18:33.404Z"
   },
   {
    "duration": 168,
    "start_time": "2021-09-09T12:18:33.409Z"
   },
   {
    "duration": 159,
    "start_time": "2021-09-09T12:18:33.419Z"
   },
   {
    "duration": 155,
    "start_time": "2021-09-09T12:18:33.424Z"
   },
   {
    "duration": 151,
    "start_time": "2021-09-09T12:18:33.430Z"
   },
   {
    "duration": 148,
    "start_time": "2021-09-09T12:18:33.434Z"
   },
   {
    "duration": 146,
    "start_time": "2021-09-09T12:18:33.438Z"
   },
   {
    "duration": 143,
    "start_time": "2021-09-09T12:18:33.442Z"
   },
   {
    "duration": 141,
    "start_time": "2021-09-09T12:18:33.446Z"
   },
   {
    "duration": 357,
    "start_time": "2021-09-09T13:01:18.699Z"
   },
   {
    "duration": 278,
    "start_time": "2021-09-09T13:01:32.714Z"
   },
   {
    "duration": 336,
    "start_time": "2021-09-09T13:01:39.122Z"
   },
   {
    "duration": 291,
    "start_time": "2021-09-09T13:01:43.919Z"
   },
   {
    "duration": 249,
    "start_time": "2021-09-09T13:02:07.869Z"
   },
   {
    "duration": 350,
    "start_time": "2021-09-09T13:02:21.178Z"
   },
   {
    "duration": 3,
    "start_time": "2021-09-09T13:02:27.094Z"
   },
   {
    "duration": 7,
    "start_time": "2021-09-09T13:02:27.100Z"
   },
   {
    "duration": 69,
    "start_time": "2021-09-09T13:02:27.109Z"
   },
   {
    "duration": 15,
    "start_time": "2021-09-09T13:02:27.180Z"
   },
   {
    "duration": 19,
    "start_time": "2021-09-09T13:02:27.197Z"
   },
   {
    "duration": 52,
    "start_time": "2021-09-09T13:02:27.219Z"
   },
   {
    "duration": 24,
    "start_time": "2021-09-09T13:02:27.274Z"
   },
   {
    "duration": 7,
    "start_time": "2021-09-09T13:02:27.300Z"
   },
   {
    "duration": 11,
    "start_time": "2021-09-09T13:02:27.309Z"
   },
   {
    "duration": 48,
    "start_time": "2021-09-09T13:02:27.324Z"
   },
   {
    "duration": 10,
    "start_time": "2021-09-09T13:02:27.375Z"
   },
   {
    "duration": 3,
    "start_time": "2021-09-09T13:02:27.387Z"
   },
   {
    "duration": 8,
    "start_time": "2021-09-09T13:02:27.393Z"
   },
   {
    "duration": 16,
    "start_time": "2021-09-09T13:02:27.405Z"
   },
   {
    "duration": 8,
    "start_time": "2021-09-09T13:02:27.469Z"
   },
   {
    "duration": 12,
    "start_time": "2021-09-09T13:02:27.479Z"
   },
   {
    "duration": 6,
    "start_time": "2021-09-09T13:02:27.494Z"
   },
   {
    "duration": 16,
    "start_time": "2021-09-09T13:02:27.503Z"
   },
   {
    "duration": 6,
    "start_time": "2021-09-09T13:02:27.521Z"
   },
   {
    "duration": 4,
    "start_time": "2021-09-09T13:02:27.568Z"
   },
   {
    "duration": 24,
    "start_time": "2021-09-09T13:02:27.574Z"
   },
   {
    "duration": 14,
    "start_time": "2021-09-09T13:02:27.600Z"
   },
   {
    "duration": 2,
    "start_time": "2021-09-09T13:02:27.617Z"
   },
   {
    "duration": 46,
    "start_time": "2021-09-09T13:02:27.622Z"
   },
   {
    "duration": 15,
    "start_time": "2021-09-09T13:02:27.671Z"
   },
   {
    "duration": 21,
    "start_time": "2021-09-09T13:02:27.689Z"
   },
   {
    "duration": 21,
    "start_time": "2021-09-09T13:02:27.712Z"
   },
   {
    "duration": 32,
    "start_time": "2021-09-09T13:02:27.735Z"
   },
   {
    "duration": 10,
    "start_time": "2021-09-09T13:02:27.769Z"
   },
   {
    "duration": 5,
    "start_time": "2021-09-09T13:02:27.782Z"
   },
   {
    "duration": 7,
    "start_time": "2021-09-09T13:02:27.789Z"
   },
   {
    "duration": 14,
    "start_time": "2021-09-09T13:02:27.798Z"
   },
   {
    "duration": 16,
    "start_time": "2021-09-09T13:02:27.814Z"
   },
   {
    "duration": 42,
    "start_time": "2021-09-09T13:02:27.833Z"
   },
   {
    "duration": 27,
    "start_time": "2021-09-09T13:02:27.878Z"
   },
   {
    "duration": 23,
    "start_time": "2021-09-09T13:02:27.907Z"
   },
   {
    "duration": 60,
    "start_time": "2021-09-09T13:02:27.932Z"
   },
   {
    "duration": 24,
    "start_time": "2021-09-09T13:02:27.999Z"
   },
   {
    "duration": 15,
    "start_time": "2021-09-09T13:02:28.027Z"
   },
   {
    "duration": 33,
    "start_time": "2021-09-09T13:02:28.045Z"
   },
   {
    "duration": 33,
    "start_time": "2021-09-09T13:02:28.080Z"
   },
   {
    "duration": 4688,
    "start_time": "2021-09-09T13:02:28.115Z"
   },
   {
    "duration": 21,
    "start_time": "2021-09-09T13:02:32.806Z"
   },
   {
    "duration": 22,
    "start_time": "2021-09-09T13:02:32.829Z"
   },
   {
    "duration": 550,
    "start_time": "2021-09-09T13:02:32.853Z"
   },
   {
    "duration": 10,
    "start_time": "2021-09-09T13:02:33.405Z"
   },
   {
    "duration": 48,
    "start_time": "2021-09-09T13:02:33.417Z"
   },
   {
    "duration": 13,
    "start_time": "2021-09-09T13:02:33.467Z"
   },
   {
    "duration": 17,
    "start_time": "2021-09-09T13:02:33.482Z"
   },
   {
    "duration": 397,
    "start_time": "2021-09-09T13:02:33.501Z"
   },
   {
    "duration": 9,
    "start_time": "2021-09-09T13:02:33.901Z"
   },
   {
    "duration": 12,
    "start_time": "2021-09-09T13:02:33.912Z"
   },
   {
    "duration": 403,
    "start_time": "2021-09-09T13:02:33.926Z"
   },
   {
    "duration": 10,
    "start_time": "2021-09-09T13:02:34.331Z"
   },
   {
    "duration": 6,
    "start_time": "2021-09-09T13:02:34.344Z"
   },
   {
    "duration": 448,
    "start_time": "2021-09-09T13:02:34.353Z"
   },
   {
    "duration": 9,
    "start_time": "2021-09-09T13:02:34.804Z"
   },
   {
    "duration": 19,
    "start_time": "2021-09-09T13:02:34.816Z"
   },
   {
    "duration": 4,
    "start_time": "2021-09-09T13:02:34.837Z"
   },
   {
    "duration": 70,
    "start_time": "2021-09-09T13:02:34.843Z"
   },
   {
    "duration": 24,
    "start_time": "2021-09-09T13:02:34.915Z"
   },
   {
    "duration": 14,
    "start_time": "2021-09-09T13:02:34.968Z"
   },
   {
    "duration": 10,
    "start_time": "2021-09-09T13:02:34.984Z"
   },
   {
    "duration": 50,
    "start_time": "2021-09-09T13:02:34.996Z"
   },
   {
    "duration": 29,
    "start_time": "2021-09-09T13:02:35.048Z"
   },
   {
    "duration": 270,
    "start_time": "2021-09-09T13:02:35.079Z"
   },
   {
    "duration": 203,
    "start_time": "2021-09-09T13:02:35.149Z"
   },
   {
    "duration": 199,
    "start_time": "2021-09-09T13:02:35.155Z"
   },
   {
    "duration": 196,
    "start_time": "2021-09-09T13:02:35.159Z"
   },
   {
    "duration": 191,
    "start_time": "2021-09-09T13:02:35.165Z"
   },
   {
    "duration": 188,
    "start_time": "2021-09-09T13:02:35.170Z"
   },
   {
    "duration": 172,
    "start_time": "2021-09-09T13:02:35.187Z"
   },
   {
    "duration": 151,
    "start_time": "2021-09-09T13:02:35.209Z"
   },
   {
    "duration": 148,
    "start_time": "2021-09-09T13:02:35.214Z"
   },
   {
    "duration": 146,
    "start_time": "2021-09-09T13:02:35.218Z"
   },
   {
    "duration": 132,
    "start_time": "2021-09-09T13:02:35.234Z"
   },
   {
    "duration": 127,
    "start_time": "2021-09-09T13:02:35.240Z"
   },
   {
    "duration": 114,
    "start_time": "2021-09-09T13:02:35.255Z"
   },
   {
    "duration": 102,
    "start_time": "2021-09-09T13:02:35.268Z"
   },
   {
    "duration": 88,
    "start_time": "2021-09-09T13:02:35.284Z"
   },
   {
    "duration": 82,
    "start_time": "2021-09-09T13:02:35.291Z"
   },
   {
    "duration": 80,
    "start_time": "2021-09-09T13:02:35.295Z"
   },
   {
    "duration": 305,
    "start_time": "2021-09-09T13:02:57.240Z"
   },
   {
    "duration": 12,
    "start_time": "2021-09-09T13:03:20.792Z"
   },
   {
    "duration": 402,
    "start_time": "2021-09-09T13:03:48.646Z"
   },
   {
    "duration": 290,
    "start_time": "2021-09-09T13:03:53.956Z"
   },
   {
    "duration": 13,
    "start_time": "2021-09-09T13:04:01.428Z"
   },
   {
    "duration": 299,
    "start_time": "2021-09-09T13:04:20.032Z"
   },
   {
    "duration": 297,
    "start_time": "2021-09-09T13:04:32.053Z"
   },
   {
    "duration": 93,
    "start_time": "2021-09-09T13:06:28.588Z"
   },
   {
    "duration": 19,
    "start_time": "2021-09-09T13:06:35.377Z"
   },
   {
    "duration": 16,
    "start_time": "2021-09-09T13:06:59.122Z"
   },
   {
    "duration": 19,
    "start_time": "2021-09-09T13:07:35.065Z"
   },
   {
    "duration": 17,
    "start_time": "2021-09-09T13:08:07.449Z"
   },
   {
    "duration": 14,
    "start_time": "2021-09-09T13:10:36.804Z"
   },
   {
    "duration": 8,
    "start_time": "2021-09-09T13:10:38.536Z"
   },
   {
    "duration": 12,
    "start_time": "2021-09-09T13:12:17.944Z"
   },
   {
    "duration": 6,
    "start_time": "2021-09-09T13:12:18.262Z"
   },
   {
    "duration": 8,
    "start_time": "2021-09-09T13:12:30.704Z"
   },
   {
    "duration": 22,
    "start_time": "2021-09-09T13:14:46.553Z"
   },
   {
    "duration": 8,
    "start_time": "2021-09-09T13:14:50.611Z"
   },
   {
    "duration": 6,
    "start_time": "2021-09-09T13:15:27.682Z"
   },
   {
    "duration": 7,
    "start_time": "2021-09-09T13:16:01.306Z"
   },
   {
    "duration": 20,
    "start_time": "2021-09-09T13:16:10.993Z"
   },
   {
    "duration": 8,
    "start_time": "2021-09-09T13:16:12.490Z"
   },
   {
    "duration": 20,
    "start_time": "2021-09-09T13:16:19.088Z"
   },
   {
    "duration": 8,
    "start_time": "2021-09-09T13:16:19.595Z"
   },
   {
    "duration": 19,
    "start_time": "2021-09-09T13:16:25.397Z"
   },
   {
    "duration": 8,
    "start_time": "2021-09-09T13:16:26.721Z"
   },
   {
    "duration": 31,
    "start_time": "2021-09-09T13:18:21.162Z"
   },
   {
    "duration": 28,
    "start_time": "2021-09-09T13:19:18.411Z"
   },
   {
    "duration": 353,
    "start_time": "2021-09-09T13:19:25.984Z"
   },
   {
    "duration": 30,
    "start_time": "2021-09-09T13:19:37.075Z"
   },
   {
    "duration": 25,
    "start_time": "2021-09-09T13:21:24.536Z"
   },
   {
    "duration": 10,
    "start_time": "2021-09-09T13:21:36.747Z"
   },
   {
    "duration": 24,
    "start_time": "2021-09-09T13:22:51.914Z"
   },
   {
    "duration": 9,
    "start_time": "2021-09-09T13:22:54.516Z"
   },
   {
    "duration": 31,
    "start_time": "2021-09-09T13:28:18.314Z"
   },
   {
    "duration": 4,
    "start_time": "2021-09-09T13:30:23.712Z"
   },
   {
    "duration": 15,
    "start_time": "2021-09-09T13:31:48.744Z"
   },
   {
    "duration": 11,
    "start_time": "2021-09-09T13:40:06.352Z"
   },
   {
    "duration": 14,
    "start_time": "2021-09-09T13:41:53.293Z"
   },
   {
    "duration": 35,
    "start_time": "2021-09-09T13:52:32.007Z"
   },
   {
    "duration": 352,
    "start_time": "2021-09-09T13:57:23.915Z"
   },
   {
    "duration": 631,
    "start_time": "2021-09-09T13:57:51.763Z"
   },
   {
    "duration": 36,
    "start_time": "2021-09-09T13:58:29.970Z"
   },
   {
    "duration": 37,
    "start_time": "2021-09-09T13:59:03.209Z"
   },
   {
    "duration": 345,
    "start_time": "2021-09-09T14:00:05.256Z"
   },
   {
    "duration": 36,
    "start_time": "2021-09-09T14:01:18.213Z"
   },
   {
    "duration": 38,
    "start_time": "2021-09-09T14:02:17.872Z"
   },
   {
    "duration": 39,
    "start_time": "2021-09-09T14:03:56.714Z"
   },
   {
    "duration": 41,
    "start_time": "2021-09-09T14:04:40.644Z"
   },
   {
    "duration": 37,
    "start_time": "2021-09-09T14:05:33.794Z"
   },
   {
    "duration": 43,
    "start_time": "2021-09-09T14:05:34.951Z"
   },
   {
    "duration": 36,
    "start_time": "2021-09-09T14:05:52.306Z"
   },
   {
    "duration": 40,
    "start_time": "2021-09-09T14:06:21.563Z"
   },
   {
    "duration": 47,
    "start_time": "2021-09-09T14:06:59.461Z"
   },
   {
    "duration": 1124,
    "start_time": "2021-09-09T14:08:06.875Z"
   },
   {
    "duration": 45,
    "start_time": "2021-09-09T14:08:46.911Z"
   },
   {
    "duration": 46,
    "start_time": "2021-09-09T14:10:14.321Z"
   },
   {
    "duration": 45,
    "start_time": "2021-09-09T14:13:29.956Z"
   },
   {
    "duration": 47,
    "start_time": "2021-09-09T14:14:09.316Z"
   },
   {
    "duration": 45,
    "start_time": "2021-09-09T14:18:18.980Z"
   },
   {
    "duration": 563,
    "start_time": "2022-04-13T07:34:04.233Z"
   },
   {
    "duration": 3,
    "start_time": "2022-04-13T07:34:04.799Z"
   },
   {
    "duration": 90,
    "start_time": "2022-04-13T07:34:04.805Z"
   },
   {
    "duration": 21,
    "start_time": "2022-04-13T07:34:04.898Z"
   },
   {
    "duration": 50,
    "start_time": "2022-04-13T07:34:04.922Z"
   },
   {
    "duration": 18,
    "start_time": "2022-04-13T07:34:04.974Z"
   },
   {
    "duration": 23,
    "start_time": "2022-04-13T07:34:04.994Z"
   },
   {
    "duration": 6,
    "start_time": "2022-04-13T07:34:05.019Z"
   },
   {
    "duration": 31,
    "start_time": "2022-04-13T07:34:05.027Z"
   },
   {
    "duration": 19,
    "start_time": "2022-04-13T07:34:05.063Z"
   },
   {
    "duration": 10,
    "start_time": "2022-04-13T07:34:05.084Z"
   },
   {
    "duration": 5,
    "start_time": "2022-04-13T07:34:05.096Z"
   },
   {
    "duration": 11,
    "start_time": "2022-04-13T07:34:05.103Z"
   },
   {
    "duration": 58,
    "start_time": "2022-04-13T07:34:05.116Z"
   },
   {
    "duration": 7,
    "start_time": "2022-04-13T07:34:05.177Z"
   },
   {
    "duration": 12,
    "start_time": "2022-04-13T07:34:05.186Z"
   },
   {
    "duration": 8,
    "start_time": "2022-04-13T07:34:05.200Z"
   },
   {
    "duration": 45,
    "start_time": "2022-04-13T07:34:05.210Z"
   },
   {
    "duration": 11,
    "start_time": "2022-04-13T07:34:05.258Z"
   },
   {
    "duration": 12,
    "start_time": "2022-04-13T07:34:05.272Z"
   },
   {
    "duration": 21,
    "start_time": "2022-04-13T07:34:05.286Z"
   },
   {
    "duration": 43,
    "start_time": "2022-04-13T07:34:05.309Z"
   },
   {
    "duration": 4,
    "start_time": "2022-04-13T07:34:05.355Z"
   },
   {
    "duration": 23,
    "start_time": "2022-04-13T07:34:05.361Z"
   },
   {
    "duration": 18,
    "start_time": "2022-04-13T07:34:05.386Z"
   },
   {
    "duration": 11,
    "start_time": "2022-04-13T07:34:05.406Z"
   },
   {
    "duration": 43,
    "start_time": "2022-04-13T07:34:05.419Z"
   },
   {
    "duration": 28,
    "start_time": "2022-04-13T07:34:05.470Z"
   },
   {
    "duration": 13,
    "start_time": "2022-04-13T07:34:05.501Z"
   },
   {
    "duration": 11,
    "start_time": "2022-04-13T07:34:05.517Z"
   },
   {
    "duration": 13,
    "start_time": "2022-04-13T07:34:05.530Z"
   },
   {
    "duration": 33,
    "start_time": "2022-04-13T07:34:05.545Z"
   },
   {
    "duration": 19,
    "start_time": "2022-04-13T07:34:05.581Z"
   },
   {
    "duration": 20,
    "start_time": "2022-04-13T07:34:05.602Z"
   },
   {
    "duration": 33,
    "start_time": "2022-04-13T07:34:05.624Z"
   },
   {
    "duration": 31,
    "start_time": "2022-04-13T07:34:05.660Z"
   },
   {
    "duration": 61,
    "start_time": "2022-04-13T07:34:05.694Z"
   },
   {
    "duration": 42,
    "start_time": "2022-04-13T07:34:05.758Z"
   },
   {
    "duration": 18,
    "start_time": "2022-04-13T07:34:05.803Z"
   },
   {
    "duration": 32,
    "start_time": "2022-04-13T07:34:05.823Z"
   },
   {
    "duration": 22,
    "start_time": "2022-04-13T07:34:05.858Z"
   },
   {
    "duration": 4858,
    "start_time": "2022-04-13T07:34:05.882Z"
   },
   {
    "duration": 29,
    "start_time": "2022-04-13T07:34:10.751Z"
   },
   {
    "duration": 8,
    "start_time": "2022-04-13T07:34:10.783Z"
   },
   {
    "duration": 297,
    "start_time": "2022-04-13T07:34:10.794Z"
   },
   {
    "duration": 10,
    "start_time": "2022-04-13T07:34:11.093Z"
   },
   {
    "duration": 24,
    "start_time": "2022-04-13T07:34:11.105Z"
   },
   {
    "duration": 39,
    "start_time": "2022-04-13T07:34:11.131Z"
   },
   {
    "duration": 4,
    "start_time": "2022-04-13T07:34:11.172Z"
   },
   {
    "duration": 274,
    "start_time": "2022-04-13T07:34:11.178Z"
   },
   {
    "duration": 14,
    "start_time": "2022-04-13T07:34:11.455Z"
   },
   {
    "duration": 7,
    "start_time": "2022-04-13T07:34:11.471Z"
   },
   {
    "duration": 279,
    "start_time": "2022-04-13T07:34:11.480Z"
   },
   {
    "duration": 9,
    "start_time": "2022-04-13T07:34:11.767Z"
   },
   {
    "duration": 12,
    "start_time": "2022-04-13T07:34:11.779Z"
   },
   {
    "duration": 292,
    "start_time": "2022-04-13T07:34:11.793Z"
   },
   {
    "duration": 10,
    "start_time": "2022-04-13T07:34:12.087Z"
   },
   {
    "duration": 21,
    "start_time": "2022-04-13T07:34:12.099Z"
   },
   {
    "duration": 29,
    "start_time": "2022-04-13T07:34:12.123Z"
   },
   {
    "duration": 48,
    "start_time": "2022-04-13T07:34:12.156Z"
   },
   {
    "duration": 21,
    "start_time": "2022-04-13T07:34:12.206Z"
   },
   {
    "duration": 24,
    "start_time": "2022-04-13T07:34:12.253Z"
   },
   {
    "duration": 13,
    "start_time": "2022-04-13T07:34:12.279Z"
   },
   {
    "duration": 41,
    "start_time": "2022-04-13T07:34:12.295Z"
   },
   {
    "duration": 28,
    "start_time": "2022-04-13T07:34:12.339Z"
   },
   {
    "duration": 34,
    "start_time": "2022-04-13T07:34:12.369Z"
   },
   {
    "duration": 8,
    "start_time": "2022-04-13T07:34:12.405Z"
   },
   {
    "duration": 31,
    "start_time": "2022-04-13T07:34:12.416Z"
   },
   {
    "duration": 28,
    "start_time": "2022-04-13T07:34:12.449Z"
   },
   {
    "duration": 74,
    "start_time": "2022-04-13T07:34:12.479Z"
   }
  ],
  "kernelspec": {
   "display_name": "Python 3 (ipykernel)",
   "language": "python",
   "name": "python3"
  },
  "language_info": {
   "codemirror_mode": {
    "name": "ipython",
    "version": 3
   },
   "file_extension": ".py",
   "mimetype": "text/x-python",
   "name": "python",
   "nbconvert_exporter": "python",
   "pygments_lexer": "ipython3",
   "version": "3.9.5"
  },
  "toc": {
   "base_numbering": 1,
   "nav_menu": {},
   "number_sections": true,
   "sideBar": true,
   "skip_h1_title": true,
   "title_cell": "Table of Contents",
   "title_sidebar": "Contents",
   "toc_cell": false,
   "toc_position": {},
   "toc_section_display": true,
   "toc_window_display": false
  }
 },
 "nbformat": 4,
 "nbformat_minor": 2
}
